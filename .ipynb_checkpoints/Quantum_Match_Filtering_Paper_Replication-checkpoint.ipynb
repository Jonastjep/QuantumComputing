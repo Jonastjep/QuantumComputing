{
 "cells": [
  {
   "cell_type": "markdown",
   "id": "c1af8499",
   "metadata": {
    "toc": true
   },
   "source": [
    "<h1>Table of Contents<span class=\"tocSkip\"></span></h1>\n",
    "<div class=\"toc\"><ul class=\"toc-item\"><li><span><a href=\"#Replication-of-the-findings-in-the-paper-&quot;A-quantum-algorithm-for-gravitational-wave-matched-filtering&quot;,-by-S.-Gao-et-al.\" data-toc-modified-id=\"Replication-of-the-findings-in-the-paper-&quot;A-quantum-algorithm-for-gravitational-wave-matched-filtering&quot;,-by-S.-Gao-et-al.-1\"><span class=\"toc-item-num\">1&nbsp;&nbsp;</span>Replication of the findings in the paper \"A quantum algorithm for gravitational wave matched filtering\", by S. Gao et al.</a></span><ul class=\"toc-item\"><li><span><a href=\"#Proof-of-principle-for-template-matching-on-quantum-computer\" data-toc-modified-id=\"Proof-of-principle-for-template-matching-on-quantum-computer-1.1\"><span class=\"toc-item-num\">1.1&nbsp;&nbsp;</span>Proof of principle for template matching on quantum computer</a></span><ul class=\"toc-item\"><li><span><a href=\"#Grover's-Algorithm\" data-toc-modified-id=\"Grover's-Algorithm-1.1.1\"><span class=\"toc-item-num\">1.1.1&nbsp;&nbsp;</span>Grover's Algorithm</a></span></li><li><span><a href=\"#Quantum-Counting\" data-toc-modified-id=\"Quantum-Counting-1.1.2\"><span class=\"toc-item-num\">1.1.2&nbsp;&nbsp;</span>Quantum Counting</a></span></li></ul></li><li><span><a href=\"#Testing-Circuits\" data-toc-modified-id=\"Testing-Circuits-1.2\"><span class=\"toc-item-num\">1.2&nbsp;&nbsp;</span>Testing Circuits</a></span></li></ul></li><li><span><a href=\"#CONSTRUCTING-NEW-GROVER-CIRCUIT\" data-toc-modified-id=\"CONSTRUCTING-NEW-GROVER-CIRCUIT-2\"><span class=\"toc-item-num\">2&nbsp;&nbsp;</span>CONSTRUCTING NEW GROVER CIRCUIT</a></span></li></ul></div>"
   ]
  },
  {
   "cell_type": "markdown",
   "id": "f1673ccb",
   "metadata": {},
   "source": [
    "# Replication of the findings in the paper \"A quantum algorithm for gravitational wave matched filtering\", by S. Gao et al."
   ]
  },
  {
   "cell_type": "code",
   "execution_count": 1,
   "id": "73748601",
   "metadata": {
    "ExecuteTime": {
     "end_time": "2021-12-10T16:01:40.824809Z",
     "start_time": "2021-12-10T16:01:39.776331Z"
    }
   },
   "outputs": [],
   "source": [
    "from qiskit import QuantumCircuit, assemble, Aer, QuantumRegister, ClassicalRegister, AncillaRegister, transpile\n",
    "from qiskit.visualization import plot_bloch_multivector, plot_histogram, array_to_latex\n",
    "import math\n",
    "import plotly.express as px\n",
    "import numpy as np"
   ]
  },
  {
   "cell_type": "markdown",
   "id": "c6674f96",
   "metadata": {},
   "source": [
    "## Proof of principle for template matching on quantum computer"
   ]
  },
  {
   "cell_type": "markdown",
   "id": "6ef56e00",
   "metadata": {},
   "source": [
    "This next section replicates the algorithm described in the paper \"A quantum algorithm for gravitational wave matched filtering\" in the section IV. At the moment, only the Grover's algorithm part is included, but the number of iterations necessary should be given through quantum counting, which we will incorporate soon."
   ]
  },
  {
   "cell_type": "markdown",
   "id": "5a9fd8c9",
   "metadata": {},
   "source": [
    "### Grover's Algorithm"
   ]
  },
  {
   "cell_type": "code",
   "execution_count": 2,
   "id": "55a8c594",
   "metadata": {
    "ExecuteTime": {
     "end_time": "2021-12-10T16:01:43.552141Z",
     "start_time": "2021-12-10T16:01:43.537560Z"
    }
   },
   "outputs": [
    {
     "data": {
      "text/plain": [
       "<qiskit.circuit.instructionset.InstructionSet at 0x7f61c804f820>"
      ]
     },
     "execution_count": 2,
     "metadata": {},
     "output_type": "execute_result"
    }
   ],
   "source": [
    "# Making the circuit in the paper\n",
    "\n",
    "n = 6 #number of qbits\n",
    "q = 1 #number of qbits not used in the Grover's algo to allow for more template matches (every qbit taken out allow 2^q templates to match)\n",
    "\n",
    "qrd = QuantumRegister(n, 'd') #Creates the data registry\n",
    "qrt = QuantumRegister(n, 't') #Creates the template registry\n",
    "anc = QuantumRegister(1, 'ancilla') #Creates the ancillary registry for the oracle\n",
    "cr = ClassicalRegister(n, 'c') #Creates the classical bit measurment output\n",
    "\n",
    "qc = QuantumCircuit(qrd, qrt, anc, cr) #Makes the circuit with these qbits as input\n",
    "\n",
    "####### State initialization #########\n",
    "\n",
    "z = [1, 0] # base vect |0>\n",
    "o = [0, 1] # base vect |1>\n",
    "\n",
    "init_st_data = [z,o,o,z,z,z] #data bit stream 011000 (this is what we will compare the templates to and hope it matches)\n",
    "\n",
    "for i in range(n):\n",
    "    qc.initialize(init_st_data[i], i) #initializes the the data registry into the above mentionned stream\n",
    "    qc.h(n+i) #initializes the template into an equal amplitude superposition (with the Hadamard gates)\n",
    "    \n",
    "#initiation of ancillary to |->\n",
    "qc.x(anc)\n",
    "qc.h(anc)\n",
    "    \n",
    "#qc.draw() #Draws the initial circuit"
   ]
  },
  {
   "cell_type": "code",
   "execution_count": 14,
   "id": "e75cd6bc",
   "metadata": {
    "ExecuteTime": {
     "end_time": "2021-12-10T16:03:35.725379Z",
     "start_time": "2021-12-10T16:03:35.711936Z"
    }
   },
   "outputs": [],
   "source": [
    "#we now create a Grover's Gate (oracle + diffuror) function that will output a circuit that applies \n",
    "#one cycle of Grover's iteration to the input qbits\n",
    "def G_circ(n,q):\n",
    "    \n",
    "    #same as above, we recreate the input circuit, but without the classical bit registry, as this doesn't matter for a gate\n",
    "    qrd = QuantumRegister(n, 'd')\n",
    "    qrt = QuantumRegister(n, 't')\n",
    "    anc = QuantumRegister(1, 'ancilla')\n",
    "    gqc = QuantumCircuit(qrd, qrt, anc)\n",
    "    \n",
    "    ######## Oracle ##########\n",
    "    # Still need to study a little the oracle to understand it totally, specifically the ancillary qbit action.\n",
    "    \n",
    "    # The first part is to apply CNOT gates to from the q to n data qbits onto the q to n template qbits.\n",
    "    # \n",
    "    for i in range(q,n):\n",
    "        gqc.cx(i,n+i)\n",
    "    \n",
    "    #This step creates the multi-control-NOT gate to create phase kickback\n",
    "    gqc.x(range(n+q,2*n))\n",
    "    gqc.mcx(list(range(n+q,2*n)), 2*n, mode='noancilla')\n",
    "    gqc.x(range(n+q,2*n))   \n",
    "    \n",
    "    # I guess this step untagles the states of the qbits from data and template registry? \n",
    "    for i in range(q,n):\n",
    "        gqc.cx(i,n+i)\n",
    "\n",
    "    ######### Diffuser ###########\n",
    "    #The diffuser has a standard shape that can just be used out of the box\n",
    "    gqc.h(range(n,2*n))\n",
    "    gqc.x(range(n,2*n))\n",
    "\n",
    "    #It is difficult to do an actual multi-control-Z gate, so instead we make a MCX surrounded by H gates to transform it into a MCZ\n",
    "    gqc.h(2*n-1)\n",
    "    gqc.mct(list(range(n,2*n-1)), 2*n-1) \n",
    "    gqc.h(2*n-1)\n",
    "    \n",
    "#     Same thing than above with a different function\n",
    "#     gqc.h(2*n-1)\n",
    "#     gqc.mcx(list(range(n,2*n-1)), 2*n-1, mode='noancilla')\n",
    "#     gqc.h(2*n-1)\n",
    "\n",
    "    #The other symmetric side of the diffusor\n",
    "    gqc.x(range(n,2*n))\n",
    "    gqc.h(range(n,2*n))\n",
    "\n",
    "    return gqc"
   ]
  },
  {
   "cell_type": "code",
   "execution_count": 15,
   "id": "35fb9957",
   "metadata": {
    "ExecuteTime": {
     "end_time": "2021-12-10T16:03:36.055414Z",
     "start_time": "2021-12-10T16:03:36.037753Z"
    }
   },
   "outputs": [
    {
     "name": "stdout",
     "output_type": "stream",
     "text": [
      "                                                                                                               \n",
      "      d_0: ────────────────────────────────────────────────────────────────────────────────────────────────────\n",
      "                                                                                                               \n",
      "      d_1: ──■───────────────────────────────────────■─────────────────────────────────────────────────────────\n",
      "             │                                       │                                                         \n",
      "      d_2: ──┼────■──────────────────────────────────┼────■────────────────────────────────────────────────────\n",
      "             │    │                                  │    │                                                    \n",
      "      d_3: ──┼────┼────■─────────────────────────────┼────┼────■───────────────────────────────────────────────\n",
      "             │    │    │                             │    │    │                                               \n",
      "      d_4: ──┼────┼────┼────■────────────────────────┼────┼────┼────■──────────────────────────────────────────\n",
      "             │    │    │    │                        │    │    │    │                                          \n",
      "      d_5: ──┼────┼────┼────┼────■───────────────────┼────┼────┼────┼────■─────────────────────────────────────\n",
      "             │    │    │    │    │  ┌───┐┌───┐       │    │    │    │    │                      ┌───┐┌───┐     \n",
      "      t_0: ──┼────┼────┼────┼────┼──┤ H ├┤ X ├───────┼────┼────┼────┼────┼───────────────────■──┤ X ├┤ H ├─────\n",
      "           ┌─┴─┐  │    │    │    │  ├───┤└───┘┌───┐┌─┴─┐  │    │    │    │  ┌───┐┌───┐       │  ├───┤├───┤     \n",
      "      t_1: ┤ X ├──┼────┼────┼────┼──┤ X ├──■──┤ X ├┤ X ├──┼────┼────┼────┼──┤ H ├┤ X ├───────■──┤ X ├┤ H ├─────\n",
      "           └───┘┌─┴─┐  │    │    │  ├───┤  │  ├───┤└───┘┌─┴─┐  │    │    │  ├───┤├───┤       │  ├───┤├───┤     \n",
      "      t_2: ─────┤ X ├──┼────┼────┼──┤ X ├──■──┤ X ├─────┤ X ├──┼────┼────┼──┤ H ├┤ X ├───────■──┤ X ├┤ H ├─────\n",
      "                └───┘┌─┴─┐  │    │  ├───┤  │  ├───┤     └───┘┌─┴─┐  │    │  ├───┤├───┤       │  ├───┤├───┤     \n",
      "      t_3: ──────────┤ X ├──┼────┼──┤ X ├──■──┤ X ├──────────┤ X ├──┼────┼──┤ H ├┤ X ├───────■──┤ X ├┤ H ├─────\n",
      "                     └───┘┌─┴─┐  │  ├───┤  │  ├───┤          └───┘┌─┴─┐  │  ├───┤├───┤       │  ├───┤├───┤     \n",
      "      t_4: ───────────────┤ X ├──┼──┤ X ├──■──┤ X ├───────────────┤ X ├──┼──┤ H ├┤ X ├───────■──┤ X ├┤ H ├─────\n",
      "                          └───┘┌─┴─┐├───┤  │  ├───┤               └───┘┌─┴─┐├───┤├───┤┌───┐┌─┴─┐├───┤├───┤┌───┐\n",
      "      t_5: ────────────────────┤ X ├┤ X ├──■──┤ X ├────────────────────┤ X ├┤ H ├┤ X ├┤ H ├┤ X ├┤ H ├┤ X ├┤ H ├\n",
      "                               └───┘└───┘┌─┴─┐└───┘                    └───┘└───┘└───┘└───┘└───┘└───┘└───┘└───┘\n",
      "ancilla_0: ──────────────────────────────┤ X ├─────────────────────────────────────────────────────────────────\n",
      "                                         └───┘                                                                 \n"
     ]
    }
   ],
   "source": [
    "grit = G_circ(n,q).to_gate() #Transforms the circuit into a usable gate\n",
    "grit.label = \"Grover\" #Names the gate\n",
    "\n",
    "print(G_circ(n,q).draw(fold=-1)) #Schematic of the gate circuit"
   ]
  },
  {
   "cell_type": "code",
   "execution_count": 13,
   "id": "2420efe5",
   "metadata": {
    "ExecuteTime": {
     "end_time": "2021-12-10T16:03:31.016466Z",
     "start_time": "2021-12-10T16:03:30.964168Z"
    }
   },
   "outputs": [
    {
     "data": {
      "text/html": [
       "<pre style=\"word-wrap: normal;white-space: pre;background: #fff0;line-height: 1.1;font-family: &quot;Courier New&quot;,Courier,monospace\">           ┌─────────────────┐     ┌──────────┐                  ┌──────────┐┌──────────┐┌──────────┐┌──────────┐                  ┌──────────┐┌──────────┐┌──────────┐                  ┌──────────┐┌──────────┐                  ┌──────────┐                  \n",
       "      d_0: ┤ initialize(1,0) ├─────┤0         ├──────────────────┤0         ├┤0         ├┤0         ├┤0         ├──────────────────┤0         ├┤0         ├┤0         ├──────────────────┤0         ├┤0         ├──────────────────┤0         ├──────────────────\n",
       "           ├─────────────────┤     │          │                  │          ││          ││          ││          │                  │          ││          ││          │                  │          ││          │                  │          │                  \n",
       "      d_1: ┤ initialize(0,1) ├─────┤1         ├──────────────────┤1         ├┤1         ├┤1         ├┤1         ├──────────────────┤1         ├┤1         ├┤1         ├──────────────────┤1         ├┤1         ├──────────────────┤1         ├──────────────────\n",
       "           ├─────────────────┤     │          │                  │          ││          ││          ││          │                  │          ││          ││          │                  │          ││          │                  │          │                  \n",
       "      d_2: ┤ initialize(0,1) ├─────┤2         ├──────────────────┤2         ├┤2         ├┤2         ├┤2         ├──────────────────┤2         ├┤2         ├┤2         ├──────────────────┤2         ├┤2         ├──────────────────┤2         ├──────────────────\n",
       "           ├─────────────────┤     │          │                  │          ││          ││          ││          │                  │          ││          ││          │                  │          ││          │                  │          │                  \n",
       "      d_3: ┤ initialize(1,0) ├─────┤3         ├──────────────────┤3         ├┤3         ├┤3         ├┤3         ├──────────────────┤3         ├┤3         ├┤3         ├──────────────────┤3         ├┤3         ├──────────────────┤3         ├──────────────────\n",
       "           ├─────────────────┤     │          │                  │          ││          ││          ││          │                  │          ││          ││          │                  │          ││          │                  │          │                  \n",
       "      d_4: ┤ initialize(1,0) ├─────┤4         ├──────────────────┤4         ├┤4         ├┤4         ├┤4         ├──────────────────┤4         ├┤4         ├┤4         ├──────────────────┤4         ├┤4         ├──────────────────┤4         ├──────────────────\n",
       "           ├─────────────────┤     │          │                  │          ││          ││          ││          │                  │          ││          ││          │                  │          ││          │                  │          │                  \n",
       "      d_5: ┤ initialize(1,0) ├─────┤5         ├──────────────────┤5         ├┤5         ├┤5         ├┤5         ├──────────────────┤5         ├┤5         ├┤5         ├──────────────────┤5         ├┤5         ├──────────────────┤5         ├──────────────────\n",
       "           └──────┬───┬──────┘     │          │┌─┐               │          ││          ││          ││          │┌─┐               │          ││          ││          │┌─┐               │          ││          │┌─┐               │          │┌─┐               \n",
       "      t_0: ───────┤ H ├────────────┤6  Grover ├┤M├───────────────┤6  Grover ├┤6  Grover ├┤6  Grover ├┤6  Grover ├┤M├───────────────┤6  Grover ├┤6  Grover ├┤6  Grover ├┤M├───────────────┤6  Grover ├┤6  Grover ├┤M├───────────────┤6  Grover ├┤M├───────────────\n",
       "                  ├───┤            │          │└╥┘┌─┐            │          ││          ││          ││          │└╥┘┌─┐            │          ││          ││          │└╥┘┌─┐            │          ││          │└╥┘┌─┐            │          │└╥┘┌─┐            \n",
       "      t_1: ───────┤ H ├────────────┤7         ├─╫─┤M├────────────┤7         ├┤7         ├┤7         ├┤7         ├─╫─┤M├────────────┤7         ├┤7         ├┤7         ├─╫─┤M├────────────┤7         ├┤7         ├─╫─┤M├────────────┤7         ├─╫─┤M├────────────\n",
       "                  ├───┤            │          │ ║ └╥┘┌─┐         │          ││          ││          ││          │ ║ └╥┘┌─┐         │          ││          ││          │ ║ └╥┘┌─┐         │          ││          │ ║ └╥┘┌─┐         │          │ ║ └╥┘┌─┐         \n",
       "      t_2: ───────┤ H ├────────────┤8         ├─╫──╫─┤M├─────────┤8         ├┤8         ├┤8         ├┤8         ├─╫──╫─┤M├─────────┤8         ├┤8         ├┤8         ├─╫──╫─┤M├─────────┤8         ├┤8         ├─╫──╫─┤M├─────────┤8         ├─╫──╫─┤M├─────────\n",
       "                  ├───┤            │          │ ║  ║ └╥┘┌─┐      │          ││          ││          ││          │ ║  ║ └╥┘┌─┐      │          ││          ││          │ ║  ║ └╥┘┌─┐      │          ││          │ ║  ║ └╥┘┌─┐      │          │ ║  ║ └╥┘┌─┐      \n",
       "      t_3: ───────┤ H ├────────────┤9         ├─╫──╫──╫─┤M├──────┤9         ├┤9         ├┤9         ├┤9         ├─╫──╫──╫─┤M├──────┤9         ├┤9         ├┤9         ├─╫──╫──╫─┤M├──────┤9         ├┤9         ├─╫──╫──╫─┤M├──────┤9         ├─╫──╫──╫─┤M├──────\n",
       "                  ├───┤            │          │ ║  ║  ║ └╥┘┌─┐   │          ││          ││          ││          │ ║  ║  ║ └╥┘┌─┐   │          ││          ││          │ ║  ║  ║ └╥┘┌─┐   │          ││          │ ║  ║  ║ └╥┘┌─┐   │          │ ║  ║  ║ └╥┘┌─┐   \n",
       "      t_4: ───────┤ H ├────────────┤10        ├─╫──╫──╫──╫─┤M├───┤10        ├┤10        ├┤10        ├┤10        ├─╫──╫──╫──╫─┤M├───┤10        ├┤10        ├┤10        ├─╫──╫──╫──╫─┤M├───┤10        ├┤10        ├─╫──╫──╫──╫─┤M├───┤10        ├─╫──╫──╫──╫─┤M├───\n",
       "                  ├───┤            │          │ ║  ║  ║  ║ └╥┘┌─┐│          ││          ││          ││          │ ║  ║  ║  ║ └╥┘┌─┐│          ││          ││          │ ║  ║  ║  ║ └╥┘┌─┐│          ││          │ ║  ║  ║  ║ └╥┘┌─┐│          │ ║  ║  ║  ║ └╥┘┌─┐\n",
       "      t_5: ───────┤ H ├────────────┤11        ├─╫──╫──╫──╫──╫─┤M├┤11        ├┤11        ├┤11        ├┤11        ├─╫──╫──╫──╫──╫─┤M├┤11        ├┤11        ├┤11        ├─╫──╫──╫──╫──╫─┤M├┤11        ├┤11        ├─╫──╫──╫──╫──╫─┤M├┤11        ├─╫──╫──╫──╫──╫─┤M├\n",
       "                  ├───┤       ┌───┐│          │ ║  ║  ║  ║  ║ └╥┘│          ││          ││          ││          │ ║  ║  ║  ║  ║ └╥┘│          ││          ││          │ ║  ║  ║  ║  ║ └╥┘│          ││          │ ║  ║  ║  ║  ║ └╥┘│          │ ║  ║  ║  ║  ║ └╥┘\n",
       "ancilla_0: ───────┤ X ├───────┤ H ├┤12        ├─╫──╫──╫──╫──╫──╫─┤12        ├┤12        ├┤12        ├┤12        ├─╫──╫──╫──╫──╫──╫─┤12        ├┤12        ├┤12        ├─╫──╫──╫──╫──╫──╫─┤12        ├┤12        ├─╫──╫──╫──╫──╫──╫─┤12        ├─╫──╫──╫──╫──╫──╫─\n",
       "                  └───┘       └───┘└──────────┘ ║  ║  ║  ║  ║  ║ └──────────┘└──────────┘└──────────┘└──────────┘ ║  ║  ║  ║  ║  ║ └──────────┘└──────────┘└──────────┘ ║  ║  ║  ║  ║  ║ └──────────┘└──────────┘ ║  ║  ║  ║  ║  ║ └──────────┘ ║  ║  ║  ║  ║  ║ \n",
       "      c: 6/═════════════════════════════════════╩══╩══╩══╩══╩══╩══════════════════════════════════════════════════╩══╩══╩══╩══╩══╩══════════════════════════════════════╩══╩══╩══╩══╩══╩══════════════════════════╩══╩══╩══╩══╩══╩══════════════╩══╩══╩══╩══╩══╩═\n",
       "                                                0  1  2  3  4  5                                                  0  1  2  3  4  5                                      0  1  2  3  4  5                          0  1  2  3  4  5              0  1  2  3  4  5 </pre>"
      ],
      "text/plain": [
       "           ┌─────────────────┐     ┌──────────┐                  ┌──────────┐┌──────────┐┌──────────┐┌──────────┐                  ┌──────────┐┌──────────┐┌──────────┐                  ┌──────────┐┌──────────┐                  ┌──────────┐                  \n",
       "      d_0: ┤ initialize(1,0) ├─────┤0         ├──────────────────┤0         ├┤0         ├┤0         ├┤0         ├──────────────────┤0         ├┤0         ├┤0         ├──────────────────┤0         ├┤0         ├──────────────────┤0         ├──────────────────\n",
       "           ├─────────────────┤     │          │                  │          ││          ││          ││          │                  │          ││          ││          │                  │          ││          │                  │          │                  \n",
       "      d_1: ┤ initialize(0,1) ├─────┤1         ├──────────────────┤1         ├┤1         ├┤1         ├┤1         ├──────────────────┤1         ├┤1         ├┤1         ├──────────────────┤1         ├┤1         ├──────────────────┤1         ├──────────────────\n",
       "           ├─────────────────┤     │          │                  │          ││          ││          ││          │                  │          ││          ││          │                  │          ││          │                  │          │                  \n",
       "      d_2: ┤ initialize(0,1) ├─────┤2         ├──────────────────┤2         ├┤2         ├┤2         ├┤2         ├──────────────────┤2         ├┤2         ├┤2         ├──────────────────┤2         ├┤2         ├──────────────────┤2         ├──────────────────\n",
       "           ├─────────────────┤     │          │                  │          ││          ││          ││          │                  │          ││          ││          │                  │          ││          │                  │          │                  \n",
       "      d_3: ┤ initialize(1,0) ├─────┤3         ├──────────────────┤3         ├┤3         ├┤3         ├┤3         ├──────────────────┤3         ├┤3         ├┤3         ├──────────────────┤3         ├┤3         ├──────────────────┤3         ├──────────────────\n",
       "           ├─────────────────┤     │          │                  │          ││          ││          ││          │                  │          ││          ││          │                  │          ││          │                  │          │                  \n",
       "      d_4: ┤ initialize(1,0) ├─────┤4         ├──────────────────┤4         ├┤4         ├┤4         ├┤4         ├──────────────────┤4         ├┤4         ├┤4         ├──────────────────┤4         ├┤4         ├──────────────────┤4         ├──────────────────\n",
       "           ├─────────────────┤     │          │                  │          ││          ││          ││          │                  │          ││          ││          │                  │          ││          │                  │          │                  \n",
       "      d_5: ┤ initialize(1,0) ├─────┤5         ├──────────────────┤5         ├┤5         ├┤5         ├┤5         ├──────────────────┤5         ├┤5         ├┤5         ├──────────────────┤5         ├┤5         ├──────────────────┤5         ├──────────────────\n",
       "           └──────┬───┬──────┘     │          │┌─┐               │          ││          ││          ││          │┌─┐               │          ││          ││          │┌─┐               │          ││          │┌─┐               │          │┌─┐               \n",
       "      t_0: ───────┤ H ├────────────┤6  Grover ├┤M├───────────────┤6  Grover ├┤6  Grover ├┤6  Grover ├┤6  Grover ├┤M├───────────────┤6  Grover ├┤6  Grover ├┤6  Grover ├┤M├───────────────┤6  Grover ├┤6  Grover ├┤M├───────────────┤6  Grover ├┤M├───────────────\n",
       "                  ├───┤            │          │└╥┘┌─┐            │          ││          ││          ││          │└╥┘┌─┐            │          ││          ││          │└╥┘┌─┐            │          ││          │└╥┘┌─┐            │          │└╥┘┌─┐            \n",
       "      t_1: ───────┤ H ├────────────┤7         ├─╫─┤M├────────────┤7         ├┤7         ├┤7         ├┤7         ├─╫─┤M├────────────┤7         ├┤7         ├┤7         ├─╫─┤M├────────────┤7         ├┤7         ├─╫─┤M├────────────┤7         ├─╫─┤M├────────────\n",
       "                  ├───┤            │          │ ║ └╥┘┌─┐         │          ││          ││          ││          │ ║ └╥┘┌─┐         │          ││          ││          │ ║ └╥┘┌─┐         │          ││          │ ║ └╥┘┌─┐         │          │ ║ └╥┘┌─┐         \n",
       "      t_2: ───────┤ H ├────────────┤8         ├─╫──╫─┤M├─────────┤8         ├┤8         ├┤8         ├┤8         ├─╫──╫─┤M├─────────┤8         ├┤8         ├┤8         ├─╫──╫─┤M├─────────┤8         ├┤8         ├─╫──╫─┤M├─────────┤8         ├─╫──╫─┤M├─────────\n",
       "                  ├───┤            │          │ ║  ║ └╥┘┌─┐      │          ││          ││          ││          │ ║  ║ └╥┘┌─┐      │          ││          ││          │ ║  ║ └╥┘┌─┐      │          ││          │ ║  ║ └╥┘┌─┐      │          │ ║  ║ └╥┘┌─┐      \n",
       "      t_3: ───────┤ H ├────────────┤9         ├─╫──╫──╫─┤M├──────┤9         ├┤9         ├┤9         ├┤9         ├─╫──╫──╫─┤M├──────┤9         ├┤9         ├┤9         ├─╫──╫──╫─┤M├──────┤9         ├┤9         ├─╫──╫──╫─┤M├──────┤9         ├─╫──╫──╫─┤M├──────\n",
       "                  ├───┤            │          │ ║  ║  ║ └╥┘┌─┐   │          ││          ││          ││          │ ║  ║  ║ └╥┘┌─┐   │          ││          ││          │ ║  ║  ║ └╥┘┌─┐   │          ││          │ ║  ║  ║ └╥┘┌─┐   │          │ ║  ║  ║ └╥┘┌─┐   \n",
       "      t_4: ───────┤ H ├────────────┤10        ├─╫──╫──╫──╫─┤M├───┤10        ├┤10        ├┤10        ├┤10        ├─╫──╫──╫──╫─┤M├───┤10        ├┤10        ├┤10        ├─╫──╫──╫──╫─┤M├───┤10        ├┤10        ├─╫──╫──╫──╫─┤M├───┤10        ├─╫──╫──╫──╫─┤M├───\n",
       "                  ├───┤            │          │ ║  ║  ║  ║ └╥┘┌─┐│          ││          ││          ││          │ ║  ║  ║  ║ └╥┘┌─┐│          ││          ││          │ ║  ║  ║  ║ └╥┘┌─┐│          ││          │ ║  ║  ║  ║ └╥┘┌─┐│          │ ║  ║  ║  ║ └╥┘┌─┐\n",
       "      t_5: ───────┤ H ├────────────┤11        ├─╫──╫──╫──╫──╫─┤M├┤11        ├┤11        ├┤11        ├┤11        ├─╫──╫──╫──╫──╫─┤M├┤11        ├┤11        ├┤11        ├─╫──╫──╫──╫──╫─┤M├┤11        ├┤11        ├─╫──╫──╫──╫──╫─┤M├┤11        ├─╫──╫──╫──╫──╫─┤M├\n",
       "                  ├───┤       ┌───┐│          │ ║  ║  ║  ║  ║ └╥┘│          ││          ││          ││          │ ║  ║  ║  ║  ║ └╥┘│          ││          ││          │ ║  ║  ║  ║  ║ └╥┘│          ││          │ ║  ║  ║  ║  ║ └╥┘│          │ ║  ║  ║  ║  ║ └╥┘\n",
       "ancilla_0: ───────┤ X ├───────┤ H ├┤12        ├─╫──╫──╫──╫──╫──╫─┤12        ├┤12        ├┤12        ├┤12        ├─╫──╫──╫──╫──╫──╫─┤12        ├┤12        ├┤12        ├─╫──╫──╫──╫──╫──╫─┤12        ├┤12        ├─╫──╫──╫──╫──╫──╫─┤12        ├─╫──╫──╫──╫──╫──╫─\n",
       "                  └───┘       └───┘└──────────┘ ║  ║  ║  ║  ║  ║ └──────────┘└──────────┘└──────────┘└──────────┘ ║  ║  ║  ║  ║  ║ └──────────┘└──────────┘└──────────┘ ║  ║  ║  ║  ║  ║ └──────────┘└──────────┘ ║  ║  ║  ║  ║  ║ └──────────┘ ║  ║  ║  ║  ║  ║ \n",
       "      c: 6/═════════════════════════════════════╩══╩══╩══╩══╩══╩══════════════════════════════════════════════════╩══╩══╩══╩══╩══╩══════════════════════════════════════╩══╩══╩══╩══╩══╩══════════════════════════╩══╩══╩══╩══╩══╩══════════════╩══╩══╩══╩══╩══╩═\n",
       "                                                0  1  2  3  4  5                                                  0  1  2  3  4  5                                      0  1  2  3  4  5                          0  1  2  3  4  5              0  1  2  3  4  5 "
      ]
     },
     "execution_count": 13,
     "metadata": {},
     "output_type": "execute_result"
    }
   ],
   "source": [
    "#This is the repetition section, where we repeat the Grover gate a few times to improve the \n",
    "#probability of getting the expect answwers. The M is the number of iterations and at the moment it was \n",
    "#chosen thanks to the paper, but we will implement quantum counting as well bellow to showcase the method\n",
    "M = 1\n",
    "for i in range(M):\n",
    "    qc.append(grit,range(2*n+1))\n",
    "\n",
    "qc.measure(qrt,cr) #add the measurment gates to the template registry (theu go onto the classical bits)\n",
    "qc.draw(fold=-1)"
   ]
  },
  {
   "cell_type": "code",
   "execution_count": 12,
   "id": "50b93045",
   "metadata": {
    "ExecuteTime": {
     "end_time": "2021-12-10T16:03:22.369390Z",
     "start_time": "2021-12-10T16:03:21.069142Z"
    },
    "scrolled": false
   },
   "outputs": [
    {
     "name": "stderr",
     "output_type": "stream",
     "text": [
      "/home/jonas/anaconda3/envs/QC_ENV/lib/python3.9/site-packages/qiskit/utils/deprecation.py:56: DeprecationWarning:\n",
      "\n",
      "Using a qobj for run() is deprecated as of qiskit-aer 0.9.0 and will be removed no sooner than 3 months from that release date. Transpiled circuits should now be passed directly using `backend.run(circuits, **run_options).\n",
      "\n"
     ]
    },
    {
     "data": {
      "application/vnd.plotly.v1+json": {
       "config": {
        "plotlyServerURL": "https://plot.ly"
       },
       "data": [
        {
         "alignmentgroup": "True",
         "hovertemplate": "val=%{x}<br>count=%{text}<extra></extra>",
         "legendgroup": "",
         "marker": {
          "color": "#636efa",
          "pattern": {
           "shape": ""
          }
         },
         "name": "",
         "offsetgroup": "",
         "orientation": "v",
         "showlegend": false,
         "text": [
          "17",
          "26",
          "22",
          "28",
          "24",
          "20",
          "26",
          "27",
          "24",
          "29",
          "35",
          "14",
          "24",
          "22",
          "41",
          "34",
          "25",
          "28",
          "31",
          "91",
          "26",
          "27",
          "32",
          "33",
          "21",
          "38",
          "30",
          "34",
          "29",
          "36",
          "32",
          "39",
          "36",
          "29",
          "17",
          "29",
          "39",
          "29",
          "38",
          "30",
          "35",
          "90",
          "32",
          "31",
          "24",
          "39",
          "32",
          "36",
          "38",
          "35",
          "32",
          "28",
          "32",
          "38",
          "24",
          "26",
          "37",
          "31",
          "33",
          "35",
          "32",
          "42",
          "32",
          "22"
         ],
         "textposition": "outside",
         "texttemplate": "%{text:.2s}",
         "type": "bar",
         "x": [
          "001101",
          "111100",
          "110011",
          "110010",
          "010110",
          "001000",
          "111000",
          "100111",
          "101110",
          "001011",
          "111010",
          "011111",
          "100000",
          "100101",
          "100001",
          "100100",
          "000101",
          "010011",
          "011101",
          "000110",
          "110101",
          "100110",
          "111001",
          "101001",
          "101100",
          "000010",
          "001010",
          "000100",
          "010001",
          "010100",
          "011000",
          "100011",
          "010111",
          "110000",
          "111110",
          "011010",
          "101010",
          "011100",
          "110001",
          "001001",
          "110111",
          "000111",
          "101000",
          "001110",
          "101101",
          "010101",
          "101111",
          "011011",
          "110110",
          "000000",
          "101011",
          "111101",
          "011001",
          "000011",
          "110100",
          "011110",
          "111111",
          "100010",
          "000001",
          "111011",
          "010000",
          "001100",
          "010010",
          "001111"
         ],
         "xaxis": "x",
         "y": [
          17,
          26,
          22,
          28,
          24,
          20,
          26,
          27,
          24,
          29,
          35,
          14,
          24,
          22,
          41,
          34,
          25,
          28,
          31,
          91,
          26,
          27,
          32,
          33,
          21,
          38,
          30,
          34,
          29,
          36,
          32,
          39,
          36,
          29,
          17,
          29,
          39,
          29,
          38,
          30,
          35,
          90,
          32,
          31,
          24,
          39,
          32,
          36,
          38,
          35,
          32,
          28,
          32,
          38,
          24,
          26,
          37,
          31,
          33,
          35,
          32,
          42,
          32,
          22
         ],
         "yaxis": "y"
        }
       ],
       "layout": {
        "barmode": "relative",
        "legend": {
         "tracegroupgap": 0
        },
        "margin": {
         "t": 60
        },
        "template": {
         "data": {
          "bar": [
           {
            "error_x": {
             "color": "#2a3f5f"
            },
            "error_y": {
             "color": "#2a3f5f"
            },
            "marker": {
             "line": {
              "color": "#E5ECF6",
              "width": 0.5
             },
             "pattern": {
              "fillmode": "overlay",
              "size": 10,
              "solidity": 0.2
             }
            },
            "type": "bar"
           }
          ],
          "barpolar": [
           {
            "marker": {
             "line": {
              "color": "#E5ECF6",
              "width": 0.5
             },
             "pattern": {
              "fillmode": "overlay",
              "size": 10,
              "solidity": 0.2
             }
            },
            "type": "barpolar"
           }
          ],
          "carpet": [
           {
            "aaxis": {
             "endlinecolor": "#2a3f5f",
             "gridcolor": "white",
             "linecolor": "white",
             "minorgridcolor": "white",
             "startlinecolor": "#2a3f5f"
            },
            "baxis": {
             "endlinecolor": "#2a3f5f",
             "gridcolor": "white",
             "linecolor": "white",
             "minorgridcolor": "white",
             "startlinecolor": "#2a3f5f"
            },
            "type": "carpet"
           }
          ],
          "choropleth": [
           {
            "colorbar": {
             "outlinewidth": 0,
             "ticks": ""
            },
            "type": "choropleth"
           }
          ],
          "contour": [
           {
            "colorbar": {
             "outlinewidth": 0,
             "ticks": ""
            },
            "colorscale": [
             [
              0,
              "#0d0887"
             ],
             [
              0.1111111111111111,
              "#46039f"
             ],
             [
              0.2222222222222222,
              "#7201a8"
             ],
             [
              0.3333333333333333,
              "#9c179e"
             ],
             [
              0.4444444444444444,
              "#bd3786"
             ],
             [
              0.5555555555555556,
              "#d8576b"
             ],
             [
              0.6666666666666666,
              "#ed7953"
             ],
             [
              0.7777777777777778,
              "#fb9f3a"
             ],
             [
              0.8888888888888888,
              "#fdca26"
             ],
             [
              1,
              "#f0f921"
             ]
            ],
            "type": "contour"
           }
          ],
          "contourcarpet": [
           {
            "colorbar": {
             "outlinewidth": 0,
             "ticks": ""
            },
            "type": "contourcarpet"
           }
          ],
          "heatmap": [
           {
            "colorbar": {
             "outlinewidth": 0,
             "ticks": ""
            },
            "colorscale": [
             [
              0,
              "#0d0887"
             ],
             [
              0.1111111111111111,
              "#46039f"
             ],
             [
              0.2222222222222222,
              "#7201a8"
             ],
             [
              0.3333333333333333,
              "#9c179e"
             ],
             [
              0.4444444444444444,
              "#bd3786"
             ],
             [
              0.5555555555555556,
              "#d8576b"
             ],
             [
              0.6666666666666666,
              "#ed7953"
             ],
             [
              0.7777777777777778,
              "#fb9f3a"
             ],
             [
              0.8888888888888888,
              "#fdca26"
             ],
             [
              1,
              "#f0f921"
             ]
            ],
            "type": "heatmap"
           }
          ],
          "heatmapgl": [
           {
            "colorbar": {
             "outlinewidth": 0,
             "ticks": ""
            },
            "colorscale": [
             [
              0,
              "#0d0887"
             ],
             [
              0.1111111111111111,
              "#46039f"
             ],
             [
              0.2222222222222222,
              "#7201a8"
             ],
             [
              0.3333333333333333,
              "#9c179e"
             ],
             [
              0.4444444444444444,
              "#bd3786"
             ],
             [
              0.5555555555555556,
              "#d8576b"
             ],
             [
              0.6666666666666666,
              "#ed7953"
             ],
             [
              0.7777777777777778,
              "#fb9f3a"
             ],
             [
              0.8888888888888888,
              "#fdca26"
             ],
             [
              1,
              "#f0f921"
             ]
            ],
            "type": "heatmapgl"
           }
          ],
          "histogram": [
           {
            "marker": {
             "pattern": {
              "fillmode": "overlay",
              "size": 10,
              "solidity": 0.2
             }
            },
            "type": "histogram"
           }
          ],
          "histogram2d": [
           {
            "colorbar": {
             "outlinewidth": 0,
             "ticks": ""
            },
            "colorscale": [
             [
              0,
              "#0d0887"
             ],
             [
              0.1111111111111111,
              "#46039f"
             ],
             [
              0.2222222222222222,
              "#7201a8"
             ],
             [
              0.3333333333333333,
              "#9c179e"
             ],
             [
              0.4444444444444444,
              "#bd3786"
             ],
             [
              0.5555555555555556,
              "#d8576b"
             ],
             [
              0.6666666666666666,
              "#ed7953"
             ],
             [
              0.7777777777777778,
              "#fb9f3a"
             ],
             [
              0.8888888888888888,
              "#fdca26"
             ],
             [
              1,
              "#f0f921"
             ]
            ],
            "type": "histogram2d"
           }
          ],
          "histogram2dcontour": [
           {
            "colorbar": {
             "outlinewidth": 0,
             "ticks": ""
            },
            "colorscale": [
             [
              0,
              "#0d0887"
             ],
             [
              0.1111111111111111,
              "#46039f"
             ],
             [
              0.2222222222222222,
              "#7201a8"
             ],
             [
              0.3333333333333333,
              "#9c179e"
             ],
             [
              0.4444444444444444,
              "#bd3786"
             ],
             [
              0.5555555555555556,
              "#d8576b"
             ],
             [
              0.6666666666666666,
              "#ed7953"
             ],
             [
              0.7777777777777778,
              "#fb9f3a"
             ],
             [
              0.8888888888888888,
              "#fdca26"
             ],
             [
              1,
              "#f0f921"
             ]
            ],
            "type": "histogram2dcontour"
           }
          ],
          "mesh3d": [
           {
            "colorbar": {
             "outlinewidth": 0,
             "ticks": ""
            },
            "type": "mesh3d"
           }
          ],
          "parcoords": [
           {
            "line": {
             "colorbar": {
              "outlinewidth": 0,
              "ticks": ""
             }
            },
            "type": "parcoords"
           }
          ],
          "pie": [
           {
            "automargin": true,
            "type": "pie"
           }
          ],
          "scatter": [
           {
            "marker": {
             "colorbar": {
              "outlinewidth": 0,
              "ticks": ""
             }
            },
            "type": "scatter"
           }
          ],
          "scatter3d": [
           {
            "line": {
             "colorbar": {
              "outlinewidth": 0,
              "ticks": ""
             }
            },
            "marker": {
             "colorbar": {
              "outlinewidth": 0,
              "ticks": ""
             }
            },
            "type": "scatter3d"
           }
          ],
          "scattercarpet": [
           {
            "marker": {
             "colorbar": {
              "outlinewidth": 0,
              "ticks": ""
             }
            },
            "type": "scattercarpet"
           }
          ],
          "scattergeo": [
           {
            "marker": {
             "colorbar": {
              "outlinewidth": 0,
              "ticks": ""
             }
            },
            "type": "scattergeo"
           }
          ],
          "scattergl": [
           {
            "marker": {
             "colorbar": {
              "outlinewidth": 0,
              "ticks": ""
             }
            },
            "type": "scattergl"
           }
          ],
          "scattermapbox": [
           {
            "marker": {
             "colorbar": {
              "outlinewidth": 0,
              "ticks": ""
             }
            },
            "type": "scattermapbox"
           }
          ],
          "scatterpolar": [
           {
            "marker": {
             "colorbar": {
              "outlinewidth": 0,
              "ticks": ""
             }
            },
            "type": "scatterpolar"
           }
          ],
          "scatterpolargl": [
           {
            "marker": {
             "colorbar": {
              "outlinewidth": 0,
              "ticks": ""
             }
            },
            "type": "scatterpolargl"
           }
          ],
          "scatterternary": [
           {
            "marker": {
             "colorbar": {
              "outlinewidth": 0,
              "ticks": ""
             }
            },
            "type": "scatterternary"
           }
          ],
          "surface": [
           {
            "colorbar": {
             "outlinewidth": 0,
             "ticks": ""
            },
            "colorscale": [
             [
              0,
              "#0d0887"
             ],
             [
              0.1111111111111111,
              "#46039f"
             ],
             [
              0.2222222222222222,
              "#7201a8"
             ],
             [
              0.3333333333333333,
              "#9c179e"
             ],
             [
              0.4444444444444444,
              "#bd3786"
             ],
             [
              0.5555555555555556,
              "#d8576b"
             ],
             [
              0.6666666666666666,
              "#ed7953"
             ],
             [
              0.7777777777777778,
              "#fb9f3a"
             ],
             [
              0.8888888888888888,
              "#fdca26"
             ],
             [
              1,
              "#f0f921"
             ]
            ],
            "type": "surface"
           }
          ],
          "table": [
           {
            "cells": {
             "fill": {
              "color": "#EBF0F8"
             },
             "line": {
              "color": "white"
             }
            },
            "header": {
             "fill": {
              "color": "#C8D4E3"
             },
             "line": {
              "color": "white"
             }
            },
            "type": "table"
           }
          ]
         },
         "layout": {
          "annotationdefaults": {
           "arrowcolor": "#2a3f5f",
           "arrowhead": 0,
           "arrowwidth": 1
          },
          "autotypenumbers": "strict",
          "coloraxis": {
           "colorbar": {
            "outlinewidth": 0,
            "ticks": ""
           }
          },
          "colorscale": {
           "diverging": [
            [
             0,
             "#8e0152"
            ],
            [
             0.1,
             "#c51b7d"
            ],
            [
             0.2,
             "#de77ae"
            ],
            [
             0.3,
             "#f1b6da"
            ],
            [
             0.4,
             "#fde0ef"
            ],
            [
             0.5,
             "#f7f7f7"
            ],
            [
             0.6,
             "#e6f5d0"
            ],
            [
             0.7,
             "#b8e186"
            ],
            [
             0.8,
             "#7fbc41"
            ],
            [
             0.9,
             "#4d9221"
            ],
            [
             1,
             "#276419"
            ]
           ],
           "sequential": [
            [
             0,
             "#0d0887"
            ],
            [
             0.1111111111111111,
             "#46039f"
            ],
            [
             0.2222222222222222,
             "#7201a8"
            ],
            [
             0.3333333333333333,
             "#9c179e"
            ],
            [
             0.4444444444444444,
             "#bd3786"
            ],
            [
             0.5555555555555556,
             "#d8576b"
            ],
            [
             0.6666666666666666,
             "#ed7953"
            ],
            [
             0.7777777777777778,
             "#fb9f3a"
            ],
            [
             0.8888888888888888,
             "#fdca26"
            ],
            [
             1,
             "#f0f921"
            ]
           ],
           "sequentialminus": [
            [
             0,
             "#0d0887"
            ],
            [
             0.1111111111111111,
             "#46039f"
            ],
            [
             0.2222222222222222,
             "#7201a8"
            ],
            [
             0.3333333333333333,
             "#9c179e"
            ],
            [
             0.4444444444444444,
             "#bd3786"
            ],
            [
             0.5555555555555556,
             "#d8576b"
            ],
            [
             0.6666666666666666,
             "#ed7953"
            ],
            [
             0.7777777777777778,
             "#fb9f3a"
            ],
            [
             0.8888888888888888,
             "#fdca26"
            ],
            [
             1,
             "#f0f921"
            ]
           ]
          },
          "colorway": [
           "#636efa",
           "#EF553B",
           "#00cc96",
           "#ab63fa",
           "#FFA15A",
           "#19d3f3",
           "#FF6692",
           "#B6E880",
           "#FF97FF",
           "#FECB52"
          ],
          "font": {
           "color": "#2a3f5f"
          },
          "geo": {
           "bgcolor": "white",
           "lakecolor": "white",
           "landcolor": "#E5ECF6",
           "showlakes": true,
           "showland": true,
           "subunitcolor": "white"
          },
          "hoverlabel": {
           "align": "left"
          },
          "hovermode": "closest",
          "mapbox": {
           "style": "light"
          },
          "paper_bgcolor": "white",
          "plot_bgcolor": "#E5ECF6",
          "polar": {
           "angularaxis": {
            "gridcolor": "white",
            "linecolor": "white",
            "ticks": ""
           },
           "bgcolor": "#E5ECF6",
           "radialaxis": {
            "gridcolor": "white",
            "linecolor": "white",
            "ticks": ""
           }
          },
          "scene": {
           "xaxis": {
            "backgroundcolor": "#E5ECF6",
            "gridcolor": "white",
            "gridwidth": 2,
            "linecolor": "white",
            "showbackground": true,
            "ticks": "",
            "zerolinecolor": "white"
           },
           "yaxis": {
            "backgroundcolor": "#E5ECF6",
            "gridcolor": "white",
            "gridwidth": 2,
            "linecolor": "white",
            "showbackground": true,
            "ticks": "",
            "zerolinecolor": "white"
           },
           "zaxis": {
            "backgroundcolor": "#E5ECF6",
            "gridcolor": "white",
            "gridwidth": 2,
            "linecolor": "white",
            "showbackground": true,
            "ticks": "",
            "zerolinecolor": "white"
           }
          },
          "shapedefaults": {
           "line": {
            "color": "#2a3f5f"
           }
          },
          "ternary": {
           "aaxis": {
            "gridcolor": "white",
            "linecolor": "white",
            "ticks": ""
           },
           "baxis": {
            "gridcolor": "white",
            "linecolor": "white",
            "ticks": ""
           },
           "bgcolor": "#E5ECF6",
           "caxis": {
            "gridcolor": "white",
            "linecolor": "white",
            "ticks": ""
           }
          },
          "title": {
           "x": 0.05
          },
          "xaxis": {
           "automargin": true,
           "gridcolor": "white",
           "linecolor": "white",
           "ticks": "",
           "title": {
            "standoff": 15
           },
           "zerolinecolor": "white",
           "zerolinewidth": 2
          },
          "yaxis": {
           "automargin": true,
           "gridcolor": "white",
           "linecolor": "white",
           "ticks": "",
           "title": {
            "standoff": 15
           },
           "zerolinecolor": "white",
           "zerolinewidth": 2
          }
         }
        },
        "uniformtext": {
         "minsize": 6,
         "mode": "show"
        },
        "xaxis": {
         "anchor": "y",
         "domain": [
          0,
          1
         ],
         "title": {
          "text": "val"
         }
        },
        "yaxis": {
         "anchor": "x",
         "domain": [
          0,
          1
         ],
         "title": {
          "text": "count"
         }
        }
       }
      },
      "text/html": [
       "<div>                            <div id=\"71d9d811-7031-4ca9-98e1-5733be81fafd\" class=\"plotly-graph-div\" style=\"height:525px; width:100%;\"></div>            <script type=\"text/javascript\">                require([\"plotly\"], function(Plotly) {                    window.PLOTLYENV=window.PLOTLYENV || {};                                    if (document.getElementById(\"71d9d811-7031-4ca9-98e1-5733be81fafd\")) {                    Plotly.newPlot(                        \"71d9d811-7031-4ca9-98e1-5733be81fafd\",                        [{\"alignmentgroup\":\"True\",\"hovertemplate\":\"val=%{x}<br>count=%{text}<extra></extra>\",\"legendgroup\":\"\",\"marker\":{\"color\":\"#636efa\",\"pattern\":{\"shape\":\"\"}},\"name\":\"\",\"offsetgroup\":\"\",\"orientation\":\"v\",\"showlegend\":false,\"text\":[\"17\",\"26\",\"22\",\"28\",\"24\",\"20\",\"26\",\"27\",\"24\",\"29\",\"35\",\"14\",\"24\",\"22\",\"41\",\"34\",\"25\",\"28\",\"31\",\"91\",\"26\",\"27\",\"32\",\"33\",\"21\",\"38\",\"30\",\"34\",\"29\",\"36\",\"32\",\"39\",\"36\",\"29\",\"17\",\"29\",\"39\",\"29\",\"38\",\"30\",\"35\",\"90\",\"32\",\"31\",\"24\",\"39\",\"32\",\"36\",\"38\",\"35\",\"32\",\"28\",\"32\",\"38\",\"24\",\"26\",\"37\",\"31\",\"33\",\"35\",\"32\",\"42\",\"32\",\"22\"],\"textposition\":\"outside\",\"texttemplate\":\"%{text:.2s}\",\"type\":\"bar\",\"x\":[\"001101\",\"111100\",\"110011\",\"110010\",\"010110\",\"001000\",\"111000\",\"100111\",\"101110\",\"001011\",\"111010\",\"011111\",\"100000\",\"100101\",\"100001\",\"100100\",\"000101\",\"010011\",\"011101\",\"000110\",\"110101\",\"100110\",\"111001\",\"101001\",\"101100\",\"000010\",\"001010\",\"000100\",\"010001\",\"010100\",\"011000\",\"100011\",\"010111\",\"110000\",\"111110\",\"011010\",\"101010\",\"011100\",\"110001\",\"001001\",\"110111\",\"000111\",\"101000\",\"001110\",\"101101\",\"010101\",\"101111\",\"011011\",\"110110\",\"000000\",\"101011\",\"111101\",\"011001\",\"000011\",\"110100\",\"011110\",\"111111\",\"100010\",\"000001\",\"111011\",\"010000\",\"001100\",\"010010\",\"001111\"],\"xaxis\":\"x\",\"y\":[17,26,22,28,24,20,26,27,24,29,35,14,24,22,41,34,25,28,31,91,26,27,32,33,21,38,30,34,29,36,32,39,36,29,17,29,39,29,38,30,35,90,32,31,24,39,32,36,38,35,32,28,32,38,24,26,37,31,33,35,32,42,32,22],\"yaxis\":\"y\"}],                        {\"barmode\":\"relative\",\"legend\":{\"tracegroupgap\":0},\"margin\":{\"t\":60},\"template\":{\"data\":{\"bar\":[{\"error_x\":{\"color\":\"#2a3f5f\"},\"error_y\":{\"color\":\"#2a3f5f\"},\"marker\":{\"line\":{\"color\":\"#E5ECF6\",\"width\":0.5},\"pattern\":{\"fillmode\":\"overlay\",\"size\":10,\"solidity\":0.2}},\"type\":\"bar\"}],\"barpolar\":[{\"marker\":{\"line\":{\"color\":\"#E5ECF6\",\"width\":0.5},\"pattern\":{\"fillmode\":\"overlay\",\"size\":10,\"solidity\":0.2}},\"type\":\"barpolar\"}],\"carpet\":[{\"aaxis\":{\"endlinecolor\":\"#2a3f5f\",\"gridcolor\":\"white\",\"linecolor\":\"white\",\"minorgridcolor\":\"white\",\"startlinecolor\":\"#2a3f5f\"},\"baxis\":{\"endlinecolor\":\"#2a3f5f\",\"gridcolor\":\"white\",\"linecolor\":\"white\",\"minorgridcolor\":\"white\",\"startlinecolor\":\"#2a3f5f\"},\"type\":\"carpet\"}],\"choropleth\":[{\"colorbar\":{\"outlinewidth\":0,\"ticks\":\"\"},\"type\":\"choropleth\"}],\"contour\":[{\"colorbar\":{\"outlinewidth\":0,\"ticks\":\"\"},\"colorscale\":[[0.0,\"#0d0887\"],[0.1111111111111111,\"#46039f\"],[0.2222222222222222,\"#7201a8\"],[0.3333333333333333,\"#9c179e\"],[0.4444444444444444,\"#bd3786\"],[0.5555555555555556,\"#d8576b\"],[0.6666666666666666,\"#ed7953\"],[0.7777777777777778,\"#fb9f3a\"],[0.8888888888888888,\"#fdca26\"],[1.0,\"#f0f921\"]],\"type\":\"contour\"}],\"contourcarpet\":[{\"colorbar\":{\"outlinewidth\":0,\"ticks\":\"\"},\"type\":\"contourcarpet\"}],\"heatmap\":[{\"colorbar\":{\"outlinewidth\":0,\"ticks\":\"\"},\"colorscale\":[[0.0,\"#0d0887\"],[0.1111111111111111,\"#46039f\"],[0.2222222222222222,\"#7201a8\"],[0.3333333333333333,\"#9c179e\"],[0.4444444444444444,\"#bd3786\"],[0.5555555555555556,\"#d8576b\"],[0.6666666666666666,\"#ed7953\"],[0.7777777777777778,\"#fb9f3a\"],[0.8888888888888888,\"#fdca26\"],[1.0,\"#f0f921\"]],\"type\":\"heatmap\"}],\"heatmapgl\":[{\"colorbar\":{\"outlinewidth\":0,\"ticks\":\"\"},\"colorscale\":[[0.0,\"#0d0887\"],[0.1111111111111111,\"#46039f\"],[0.2222222222222222,\"#7201a8\"],[0.3333333333333333,\"#9c179e\"],[0.4444444444444444,\"#bd3786\"],[0.5555555555555556,\"#d8576b\"],[0.6666666666666666,\"#ed7953\"],[0.7777777777777778,\"#fb9f3a\"],[0.8888888888888888,\"#fdca26\"],[1.0,\"#f0f921\"]],\"type\":\"heatmapgl\"}],\"histogram\":[{\"marker\":{\"pattern\":{\"fillmode\":\"overlay\",\"size\":10,\"solidity\":0.2}},\"type\":\"histogram\"}],\"histogram2d\":[{\"colorbar\":{\"outlinewidth\":0,\"ticks\":\"\"},\"colorscale\":[[0.0,\"#0d0887\"],[0.1111111111111111,\"#46039f\"],[0.2222222222222222,\"#7201a8\"],[0.3333333333333333,\"#9c179e\"],[0.4444444444444444,\"#bd3786\"],[0.5555555555555556,\"#d8576b\"],[0.6666666666666666,\"#ed7953\"],[0.7777777777777778,\"#fb9f3a\"],[0.8888888888888888,\"#fdca26\"],[1.0,\"#f0f921\"]],\"type\":\"histogram2d\"}],\"histogram2dcontour\":[{\"colorbar\":{\"outlinewidth\":0,\"ticks\":\"\"},\"colorscale\":[[0.0,\"#0d0887\"],[0.1111111111111111,\"#46039f\"],[0.2222222222222222,\"#7201a8\"],[0.3333333333333333,\"#9c179e\"],[0.4444444444444444,\"#bd3786\"],[0.5555555555555556,\"#d8576b\"],[0.6666666666666666,\"#ed7953\"],[0.7777777777777778,\"#fb9f3a\"],[0.8888888888888888,\"#fdca26\"],[1.0,\"#f0f921\"]],\"type\":\"histogram2dcontour\"}],\"mesh3d\":[{\"colorbar\":{\"outlinewidth\":0,\"ticks\":\"\"},\"type\":\"mesh3d\"}],\"parcoords\":[{\"line\":{\"colorbar\":{\"outlinewidth\":0,\"ticks\":\"\"}},\"type\":\"parcoords\"}],\"pie\":[{\"automargin\":true,\"type\":\"pie\"}],\"scatter\":[{\"marker\":{\"colorbar\":{\"outlinewidth\":0,\"ticks\":\"\"}},\"type\":\"scatter\"}],\"scatter3d\":[{\"line\":{\"colorbar\":{\"outlinewidth\":0,\"ticks\":\"\"}},\"marker\":{\"colorbar\":{\"outlinewidth\":0,\"ticks\":\"\"}},\"type\":\"scatter3d\"}],\"scattercarpet\":[{\"marker\":{\"colorbar\":{\"outlinewidth\":0,\"ticks\":\"\"}},\"type\":\"scattercarpet\"}],\"scattergeo\":[{\"marker\":{\"colorbar\":{\"outlinewidth\":0,\"ticks\":\"\"}},\"type\":\"scattergeo\"}],\"scattergl\":[{\"marker\":{\"colorbar\":{\"outlinewidth\":0,\"ticks\":\"\"}},\"type\":\"scattergl\"}],\"scattermapbox\":[{\"marker\":{\"colorbar\":{\"outlinewidth\":0,\"ticks\":\"\"}},\"type\":\"scattermapbox\"}],\"scatterpolar\":[{\"marker\":{\"colorbar\":{\"outlinewidth\":0,\"ticks\":\"\"}},\"type\":\"scatterpolar\"}],\"scatterpolargl\":[{\"marker\":{\"colorbar\":{\"outlinewidth\":0,\"ticks\":\"\"}},\"type\":\"scatterpolargl\"}],\"scatterternary\":[{\"marker\":{\"colorbar\":{\"outlinewidth\":0,\"ticks\":\"\"}},\"type\":\"scatterternary\"}],\"surface\":[{\"colorbar\":{\"outlinewidth\":0,\"ticks\":\"\"},\"colorscale\":[[0.0,\"#0d0887\"],[0.1111111111111111,\"#46039f\"],[0.2222222222222222,\"#7201a8\"],[0.3333333333333333,\"#9c179e\"],[0.4444444444444444,\"#bd3786\"],[0.5555555555555556,\"#d8576b\"],[0.6666666666666666,\"#ed7953\"],[0.7777777777777778,\"#fb9f3a\"],[0.8888888888888888,\"#fdca26\"],[1.0,\"#f0f921\"]],\"type\":\"surface\"}],\"table\":[{\"cells\":{\"fill\":{\"color\":\"#EBF0F8\"},\"line\":{\"color\":\"white\"}},\"header\":{\"fill\":{\"color\":\"#C8D4E3\"},\"line\":{\"color\":\"white\"}},\"type\":\"table\"}]},\"layout\":{\"annotationdefaults\":{\"arrowcolor\":\"#2a3f5f\",\"arrowhead\":0,\"arrowwidth\":1},\"autotypenumbers\":\"strict\",\"coloraxis\":{\"colorbar\":{\"outlinewidth\":0,\"ticks\":\"\"}},\"colorscale\":{\"diverging\":[[0,\"#8e0152\"],[0.1,\"#c51b7d\"],[0.2,\"#de77ae\"],[0.3,\"#f1b6da\"],[0.4,\"#fde0ef\"],[0.5,\"#f7f7f7\"],[0.6,\"#e6f5d0\"],[0.7,\"#b8e186\"],[0.8,\"#7fbc41\"],[0.9,\"#4d9221\"],[1,\"#276419\"]],\"sequential\":[[0.0,\"#0d0887\"],[0.1111111111111111,\"#46039f\"],[0.2222222222222222,\"#7201a8\"],[0.3333333333333333,\"#9c179e\"],[0.4444444444444444,\"#bd3786\"],[0.5555555555555556,\"#d8576b\"],[0.6666666666666666,\"#ed7953\"],[0.7777777777777778,\"#fb9f3a\"],[0.8888888888888888,\"#fdca26\"],[1.0,\"#f0f921\"]],\"sequentialminus\":[[0.0,\"#0d0887\"],[0.1111111111111111,\"#46039f\"],[0.2222222222222222,\"#7201a8\"],[0.3333333333333333,\"#9c179e\"],[0.4444444444444444,\"#bd3786\"],[0.5555555555555556,\"#d8576b\"],[0.6666666666666666,\"#ed7953\"],[0.7777777777777778,\"#fb9f3a\"],[0.8888888888888888,\"#fdca26\"],[1.0,\"#f0f921\"]]},\"colorway\":[\"#636efa\",\"#EF553B\",\"#00cc96\",\"#ab63fa\",\"#FFA15A\",\"#19d3f3\",\"#FF6692\",\"#B6E880\",\"#FF97FF\",\"#FECB52\"],\"font\":{\"color\":\"#2a3f5f\"},\"geo\":{\"bgcolor\":\"white\",\"lakecolor\":\"white\",\"landcolor\":\"#E5ECF6\",\"showlakes\":true,\"showland\":true,\"subunitcolor\":\"white\"},\"hoverlabel\":{\"align\":\"left\"},\"hovermode\":\"closest\",\"mapbox\":{\"style\":\"light\"},\"paper_bgcolor\":\"white\",\"plot_bgcolor\":\"#E5ECF6\",\"polar\":{\"angularaxis\":{\"gridcolor\":\"white\",\"linecolor\":\"white\",\"ticks\":\"\"},\"bgcolor\":\"#E5ECF6\",\"radialaxis\":{\"gridcolor\":\"white\",\"linecolor\":\"white\",\"ticks\":\"\"}},\"scene\":{\"xaxis\":{\"backgroundcolor\":\"#E5ECF6\",\"gridcolor\":\"white\",\"gridwidth\":2,\"linecolor\":\"white\",\"showbackground\":true,\"ticks\":\"\",\"zerolinecolor\":\"white\"},\"yaxis\":{\"backgroundcolor\":\"#E5ECF6\",\"gridcolor\":\"white\",\"gridwidth\":2,\"linecolor\":\"white\",\"showbackground\":true,\"ticks\":\"\",\"zerolinecolor\":\"white\"},\"zaxis\":{\"backgroundcolor\":\"#E5ECF6\",\"gridcolor\":\"white\",\"gridwidth\":2,\"linecolor\":\"white\",\"showbackground\":true,\"ticks\":\"\",\"zerolinecolor\":\"white\"}},\"shapedefaults\":{\"line\":{\"color\":\"#2a3f5f\"}},\"ternary\":{\"aaxis\":{\"gridcolor\":\"white\",\"linecolor\":\"white\",\"ticks\":\"\"},\"baxis\":{\"gridcolor\":\"white\",\"linecolor\":\"white\",\"ticks\":\"\"},\"bgcolor\":\"#E5ECF6\",\"caxis\":{\"gridcolor\":\"white\",\"linecolor\":\"white\",\"ticks\":\"\"}},\"title\":{\"x\":0.05},\"xaxis\":{\"automargin\":true,\"gridcolor\":\"white\",\"linecolor\":\"white\",\"ticks\":\"\",\"title\":{\"standoff\":15},\"zerolinecolor\":\"white\",\"zerolinewidth\":2},\"yaxis\":{\"automargin\":true,\"gridcolor\":\"white\",\"linecolor\":\"white\",\"ticks\":\"\",\"title\":{\"standoff\":15},\"zerolinecolor\":\"white\",\"zerolinewidth\":2}}},\"uniformtext\":{\"minsize\":6,\"mode\":\"show\"},\"xaxis\":{\"anchor\":\"y\",\"domain\":[0.0,1.0],\"title\":{\"text\":\"val\"}},\"yaxis\":{\"anchor\":\"x\",\"domain\":[0.0,1.0],\"title\":{\"text\":\"count\"}}},                        {\"responsive\": true}                    ).then(function(){\n",
       "                            \n",
       "var gd = document.getElementById('71d9d811-7031-4ca9-98e1-5733be81fafd');\n",
       "var x = new MutationObserver(function (mutations, observer) {{\n",
       "        var display = window.getComputedStyle(gd).display;\n",
       "        if (!display || display === 'none') {{\n",
       "            console.log([gd, 'removed!']);\n",
       "            Plotly.purge(gd);\n",
       "            observer.disconnect();\n",
       "        }}\n",
       "}});\n",
       "\n",
       "// Listen for the removal of the full notebook cells\n",
       "var notebookContainer = gd.closest('#notebook-container');\n",
       "if (notebookContainer) {{\n",
       "    x.observe(notebookContainer, {childList: true});\n",
       "}}\n",
       "\n",
       "// Listen for the clearing of the current output cell\n",
       "var outputEl = gd.closest('.output');\n",
       "if (outputEl) {{\n",
       "    x.observe(outputEl, {childList: true});\n",
       "}}\n",
       "\n",
       "                        })                };                });            </script>        </div>"
      ]
     },
     "metadata": {},
     "output_type": "display_data"
    }
   ],
   "source": [
    "#Here we create the simulation of the circuit\n",
    "\n",
    "aer_sim = Aer.get_backend('aer_simulator')\n",
    "transpiled_qc = transpile(qc, aer_sim)\n",
    "shots = 2048 #we repeat the simulation 2048 times\n",
    "qobj = assemble(transpiled_qc, shots=shots)\n",
    "job = aer_sim.run(qobj)\n",
    "hist = job.result().get_counts() #simulation output\n",
    "#print(hist)\n",
    "\n",
    "#We plot the results using plotly as a plotting tool\n",
    "results = {'val':hist.keys(),'count':hist.values()} #change the formatting of the data to match plotly\n",
    "\n",
    "fig = px.bar(results, x=\"val\", y=\"count\", text=\"count\")\n",
    "fig.update_traces(texttemplate='%{text:.2s}', textposition='outside')\n",
    "fig.update_layout(uniformtext_minsize=6, uniformtext_mode='show')\n",
    "fig.show()"
   ]
  },
  {
   "cell_type": "code",
   "execution_count": null,
   "id": "892794c9",
   "metadata": {},
   "outputs": [],
   "source": [
    "#Here we create the simulation of the circuit\n",
    "\n",
    "aer_sim = Aer.get_backend('aer_simulator')\n",
    "transpiled_qc = transpile(qc, aer_sim)\n",
    "shots = 2*2048 #we repeat the simulation 2048 times\n",
    "qobj = assemble(transpiled_qc, shots=shots)\n",
    "job = aer_sim.run(qobj)\n",
    "hist1 = job.result().get_counts() #simulation output\n",
    "#print(hist)\n",
    "\n",
    "#We plot the results using plotly as a plotting tool\n",
    "results1 = {'val':hist.keys(),'count':hist.values()} #change the formatting of the data to match plotly\n",
    "\n",
    "fig = px.bar(results1, x=\"val\", y=\"count\", text=\"count\")\n",
    "fig.update_traces(texttemplate='%{text:.2s}', textposition='outside')\n",
    "fig.update_layout(uniformtext_minsize=6, uniformtext_mode='show')\n",
    "fig.show()"
   ]
  },
  {
   "cell_type": "markdown",
   "id": "d984fc2d",
   "metadata": {},
   "source": [
    "These results are what was expected, and are similar to the papers findings.\n",
    "Seems that the ancillary being set to $|->$ does help the detection. (makes counts go from approx. 800 counts when initialized to $|0>$ to 1.7k counts with $|->$)"
   ]
  },
  {
   "cell_type": "markdown",
   "id": "abf57a55",
   "metadata": {},
   "source": [
    "### Quantum Counting"
   ]
  },
  {
   "cell_type": "code",
   "execution_count": 2,
   "id": "9c91190a",
   "metadata": {
    "ExecuteTime": {
     "end_time": "2021-12-06T17:45:58.526307Z",
     "start_time": "2021-12-06T17:45:58.518188Z"
    }
   },
   "outputs": [],
   "source": [
    "def qft(n):\n",
    "    \"\"\"Creates an n-qubit QFT circuit\"\"\"\n",
    "    circuit = QuantumCircuit(n)\n",
    "    def swap_registers(circuit, n):\n",
    "        for qubit in range(n//2):\n",
    "            circuit.swap(qubit, n-qubit-1)\n",
    "        return circuit\n",
    "    def qft_rotations(circuit, n):\n",
    "        \"\"\"Performs qft on the first n qubits in circuit (without swaps)\"\"\"\n",
    "        if n == 0:\n",
    "            return circuit\n",
    "        n -= 1\n",
    "        circuit.h(n)\n",
    "        for qubit in range(n):\n",
    "            circuit.cp(np.pi/2**(n-qubit), qubit, n)\n",
    "        qft_rotations(circuit, n)\n",
    "    \n",
    "    qft_rotations(circuit, n)\n",
    "    swap_registers(circuit, n)\n",
    "    return circuit"
   ]
  },
  {
   "cell_type": "code",
   "execution_count": null,
   "id": "ba6969b2",
   "metadata": {
    "ExecuteTime": {
     "end_time": "2021-12-06T17:39:08.413782Z",
     "start_time": "2021-12-06T17:39:08.201925Z"
    }
   },
   "outputs": [],
   "source": [
    "t = 4   # no. of counting qubits\n",
    "\n",
    "cgrit = grit.control()\n",
    "#with .control(nb_ctrl_qbits), the first values of the list are the controls\n",
    "qft_dagger = qft(t).to_gate().inverse()\n",
    "qft_dagger.label = \"QFT†\"\n",
    "\n",
    "qrc = QuantumRegister(t, 'count')\n",
    "qrd = QuantumRegister(n, 'd')\n",
    "qrt = QuantumRegister(n, 't')\n",
    "anc = QuantumRegister(1, 'ancilla')\n",
    "cr = ClassicalRegister(t, 'c')\n",
    "\n",
    "qc = QuantumCircuit(qrc, qrd, qrt, anc, cr)\n",
    "\n",
    "\n",
    "# Initialize all qubits to |+>\n",
    "for qubit in range(t+2*n):\n",
    "    qc.h(qubit)\n",
    "    \n",
    "# #initiation of ancillary to |->\n",
    "qc.x(anc)\n",
    "qc.h(anc)\n",
    "\n",
    "\n",
    "# Begin controlled Grover iterations\n",
    "iterations = 1\n",
    "for qubit in range(t):\n",
    "    for i in range(iterations):\n",
    "        qc.append(cgrit, [qubit] + [*range(t, t+2*n+1)])\n",
    "    iterations *= 2\n",
    "    \n",
    "# Do inverse QFT on counting qubits\n",
    "qc.append(qft_dagger, range(t))\n",
    "\n",
    "# Measure counting qubits\n",
    "qc.measure(range(t), range(t))\n",
    "\n",
    "# Display the circuit\n",
    "qc.draw(fold=-1)"
   ]
  },
  {
   "cell_type": "code",
   "execution_count": null,
   "id": "a6b7661d",
   "metadata": {
    "ExecuteTime": {
     "end_time": "2021-12-06T17:37:57.660053Z",
     "start_time": "2021-12-06T17:37:28.161037Z"
    }
   },
   "outputs": [],
   "source": [
    "# Execute and see results\n",
    "aer_sim = Aer.get_backend('aer_simulator')\n",
    "transpiled_qc = transpile(qc, aer_sim)\n",
    "qobj = assemble(transpiled_qc)\n",
    "job = aer_sim.run(qobj)\n",
    "hist = job.result().get_counts()\n",
    "\n",
    "results = {'val':hist.keys(),'count':hist.values()} #change the formatting of the data to match plotly\n",
    "\n",
    "fig = px.bar(results, x=\"val\", y=\"count\", text=\"count\")\n",
    "fig.update_traces(texttemplate='%{text:.2s}', textposition='outside')\n",
    "fig.update_layout(uniformtext_minsize=6, uniformtext_mode='show')\n",
    "fig.show()"
   ]
  },
  {
   "cell_type": "markdown",
   "id": "41650947",
   "metadata": {},
   "source": [
    "We now need to divide our result by $2^n$ to get θ:"
   ]
  },
  {
   "cell_type": "code",
   "execution_count": null,
   "id": "a1294f4f",
   "metadata": {},
   "outputs": [],
   "source": [
    "measured_str = max(hist, key=hist.get)\n",
    "measured_int = int(measured_str,2)\n",
    "print(\"Register Output = %i\" % measured_int)\n",
    "\n",
    "theta = (measured_int/(2**t))*math.pi*2\n",
    "print(\"Theta = %.5f\" % theta)\n",
    "\n",
    "N = 2**n\n",
    "M = N * (math.sin(theta/2)**2)\n",
    "print(\"No. of Solutions = %.1f\" % (N-M))\n",
    "\n",
    "k = math.pi/4*math.sqrt(N/(N-M))-0.5\n",
    "print(f\"The optimal number of iterations is: {k}\")"
   ]
  },
  {
   "cell_type": "code",
   "execution_count": null,
   "id": "1be7b1e3",
   "metadata": {
    "scrolled": true
   },
   "outputs": [],
   "source": []
  },
  {
   "cell_type": "markdown",
   "id": "bb5e2b58",
   "metadata": {},
   "source": [
    "## Testing Circuits"
   ]
  },
  {
   "cell_type": "code",
   "execution_count": null,
   "id": "a1df06b9",
   "metadata": {},
   "outputs": [],
   "source": [
    "from qiskit import QuantumCircuit, Aer, assemble\n",
    "from math import pi\n",
    "import numpy as np\n",
    "from qiskit.visualization import plot_bloch_multivector, plot_histogram, array_to_latex"
   ]
  },
  {
   "cell_type": "code",
   "execution_count": null,
   "id": "24a2dafb",
   "metadata": {},
   "outputs": [],
   "source": [
    "qc = QuantumCircuit(2)\n",
    "qc.x(0)\n",
    "qc.x(1)\n",
    "\n",
    "qc.h(1)\n",
    "\n",
    "# qc.cx(0,1)\n",
    "\n",
    "# n=2\n",
    "# qc.h(range(n,2*n))\n",
    "# qc.x(range(n,2*n))\n",
    "\n",
    "# #It is difficult to do an actual multi-control-Z gate, so instead we make a MCX surrounded by H gates to transform it into a MCZ\n",
    "# qc.h(2*n-1)\n",
    "# qc.mct(list(range(n,2*n-1)), 2*n-1) \n",
    "# qc.h(2*n-1)\n",
    "\n",
    "# #     Same thing than above with a different function\n",
    "# #     gqc.h(2*n-1)\n",
    "# #     gqc.mcx(list(range(n,2*n-1)), 2*n-1, mode='noancilla')\n",
    "# #     gqc.h(2*n-1)\n",
    "\n",
    "# #The other symmetric side of the diffusor\n",
    "# qc.x(range(n,2*n))\n",
    "# qc.h(range(n,2*n))\n",
    "\n",
    "\n",
    "display(qc.draw())\n",
    "# See the result\n",
    "\n",
    "svsim = Aer.get_backend('aer_simulator')\n",
    "qc1 = qc.copy()\n",
    "qc1.save_statevector()\n",
    "final_state = svsim.run(qc1).result().get_statevector()\n",
    "display(array_to_latex(final_state, prefix=\"\\\\text{Statevector} = \"))\n",
    "print(final_state.real)"
   ]
  },
  {
   "cell_type": "code",
   "execution_count": null,
   "id": "d6aeca70",
   "metadata": {
    "scrolled": true
   },
   "outputs": [],
   "source": [
    "del(qc)\n",
    "qc = QuantumCircuit(1)\n",
    "qc.h(0)\n",
    "# qc.x(0)\n",
    "\n",
    "# qc.h(3)\n",
    "\n",
    "\n",
    "display(qc.draw())\n",
    "# See the result\n",
    "\n",
    "svsim = Aer.get_backend('aer_simulator')\n",
    "qc1 = qc.copy()\n",
    "qc1.save_statevector()\n",
    "final_state = svsim.run(qc1).result().get_statevector()\n",
    "display(array_to_latex(final_state, prefix=\"\\\\text{Statevector} = \"))\n",
    "print(final_state.real)"
   ]
  },
  {
   "cell_type": "markdown",
   "id": "4e0afd04",
   "metadata": {},
   "source": [
    "# CONSTRUCTING NEW GROVER CIRCUIT"
   ]
  },
  {
   "cell_type": "code",
   "execution_count": null,
   "id": "69561228",
   "metadata": {},
   "outputs": [],
   "source": []
  },
  {
   "cell_type": "code",
   "execution_count": 5,
   "id": "fad51b7b",
   "metadata": {
    "ExecuteTime": {
     "end_time": "2021-12-06T17:46:56.810920Z",
     "start_time": "2021-12-06T17:46:56.791993Z"
    }
   },
   "outputs": [
    {
     "name": "stdout",
     "output_type": "stream",
     "text": [
      "% \\documentclass[preview]{standalone}\n",
      "% If the image is too large to fit on this documentclass use\n",
      "\\documentclass[draft]{beamer}\n",
      "% img_width = 8, img_depth = 8\n",
      "\\usepackage[size=custom,height=12,width=19,scale=0.7]{beamerposter}\n",
      "% instead and customize the height and width (in cm) to fit.\n",
      "% Large images may run out of memory quickly.\n",
      "% To fix this use the LuaLaTeX compiler, which dynamically\n",
      "% allocates memory.\n",
      "\\usepackage[braket, qm]{qcircuit}\n",
      "\\usepackage{amsmath}\n",
      "\\pdfmapfile{+sansmathaccent.map}\n",
      "% \\usepackage[landscape]{geometry}\n",
      "% Comment out the above line if using the beamer documentclass.\n",
      "\\begin{document}\n",
      "\n",
      "\\begin{equation*}\n",
      "    \\Qcircuit @C=1.0em @R=0.2em @!R {\n",
      "\t \t\\lstick{ {count}_{0} :  } & \\gate{\\mathrm{H}} & \\ctrl{4} & \\qw & \\qw & \\qw & \\multigate{3}{\\mathrm{QFT†}} & \\qw & \\qw\\\\\n",
      "\t \t\\lstick{ {count}_{1} :  } & \\gate{\\mathrm{H}} & \\qw & \\ctrl{3} & \\qw & \\qw & \\ghost{\\mathrm{QFT†}} & \\qw & \\qw\\\\\n",
      "\t \t\\lstick{ {count}_{2} :  } & \\gate{\\mathrm{H}} & \\qw & \\qw & \\ctrl{2} & \\qw & \\ghost{\\mathrm{QFT†}} & \\qw & \\qw\\\\\n",
      "\t \t\\lstick{ {count}_{3} :  } & \\gate{\\mathrm{H}} & \\qw & \\qw & \\qw & \\ctrl{1} & \\ghost{\\mathrm{QFT†}} & \\qw & \\qw\\\\\n",
      "\t \t\\lstick{ {d}_{0} :  } & \\gate{\\mathrm{H}} & \\multigate{3}{\\mathrm{U}} & \\multigate{3}{\\mathrm{U}} & \\multigate{3}{\\mathrm{U}} & \\multigate{3}{\\mathrm{U}} & \\qw & \\qw & \\qw\\\\\n",
      "\t \t\\lstick{ {d}_{1} :  } & \\gate{\\mathrm{H}} & \\ghost{\\mathrm{U}} & \\ghost{\\mathrm{U}} & \\ghost{\\mathrm{U}} & \\ghost{\\mathrm{U}} & \\qw & \\qw & \\qw\\\\\n",
      "\t \t\\lstick{ {t}_{0} :  } & \\gate{\\mathrm{H}} & \\ghost{\\mathrm{U}} & \\ghost{\\mathrm{U}} & \\ghost{\\mathrm{U}} & \\ghost{\\mathrm{U}} & \\qw & \\qw & \\qw\\\\\n",
      "\t \t\\lstick{ {t}_{1} :  } & \\gate{\\mathrm{H}} & \\ghost{\\mathrm{U}} & \\ghost{\\mathrm{U}} & \\ghost{\\mathrm{U}} & \\ghost{\\mathrm{U}} & \\qw & \\qw & \\qw\\\\\n",
      "\t }\n",
      "\\end{equation*}\n",
      "\n",
      "\\end{document}\n"
     ]
    }
   ],
   "source": [
    "t = 4   # no. of counting qubits\n",
    "n = 2\n",
    "\n",
    "qcx = QuantumCircuit(4)\n",
    "a = qcx.to_gate()\n",
    "a.label = \"U\"\n",
    "\n",
    "cgrit = a.control()\n",
    "#with .control(nb_ctrl_qbits), the first values of the list are the controls\n",
    "qft_dagger = qft(t).to_gate().inverse()\n",
    "qft_dagger.label = \"QFT†\"\n",
    "\n",
    "qrc = QuantumRegister(t, 'count')\n",
    "qrd = QuantumRegister(n, 'd')\n",
    "qrt = QuantumRegister(n, 't')\n",
    "\n",
    "qc = QuantumCircuit(qrc, qrd, qrt)\n",
    "\n",
    "\n",
    "# Initialize all qubits to |+>\n",
    "for qubit in range(t+2*n):\n",
    "    qc.h(qubit)\n",
    "\n",
    "\n",
    "# Begin controlled Grover iterations\n",
    "iterations = 1\n",
    "for qubit in range(t):\n",
    "    qc.append(cgrit, [qubit] + [*range(t, t+2*n)])\n",
    "    \n",
    "# Do inverse QFT on counting qubits\n",
    "qc.append(qft_dagger, range(t))\n",
    "\n",
    "# Display the circuit\n",
    "print(qc.draw(output='latex_source',fold=-1))"
   ]
  },
  {
   "cell_type": "code",
   "execution_count": null,
   "id": "939b495f",
   "metadata": {},
   "outputs": [],
   "source": []
  }
 ],
 "metadata": {
  "kernelspec": {
   "display_name": "Python 3 (ipykernel)",
   "language": "python",
   "name": "python3"
  },
  "language_info": {
   "codemirror_mode": {
    "name": "ipython",
    "version": 3
   },
   "file_extension": ".py",
   "mimetype": "text/x-python",
   "name": "python",
   "nbconvert_exporter": "python",
   "pygments_lexer": "ipython3",
   "version": "3.9.5"
  },
  "toc": {
   "base_numbering": 1,
   "nav_menu": {},
   "number_sections": true,
   "sideBar": false,
   "skip_h1_title": false,
   "title_cell": "Table of Contents",
   "title_sidebar": "Contents",
   "toc_cell": true,
   "toc_position": {},
   "toc_section_display": true,
   "toc_window_display": false
  },
  "varInspector": {
   "cols": {
    "lenName": 16,
    "lenType": 16,
    "lenVar": 40
   },
   "kernels_config": {
    "python": {
     "delete_cmd_postfix": "",
     "delete_cmd_prefix": "del ",
     "library": "var_list.py",
     "varRefreshCmd": "print(var_dic_list())"
    },
    "r": {
     "delete_cmd_postfix": ") ",
     "delete_cmd_prefix": "rm(",
     "library": "var_list.r",
     "varRefreshCmd": "cat(var_dic_list()) "
    }
   },
   "types_to_exclude": [
    "module",
    "function",
    "builtin_function_or_method",
    "instance",
    "_Feature"
   ],
   "window_display": false
  }
 },
 "nbformat": 4,
 "nbformat_minor": 5
}
