{
 "cells": [
  {
   "cell_type": "markdown",
   "id": "c1af8499",
   "metadata": {
    "toc": true
   },
   "source": [
    "<h1>Table of Contents<span class=\"tocSkip\"></span></h1>\n",
    "<div class=\"toc\"><ul class=\"toc-item\"><li><span><a href=\"#Replication-of-the-findings-in-the-paper-&quot;A-quantum-algorithm-for-gravitational-wave-matched-filtering&quot;,-by-S.-Gao-et-al.\" data-toc-modified-id=\"Replication-of-the-findings-in-the-paper-&quot;A-quantum-algorithm-for-gravitational-wave-matched-filtering&quot;,-by-S.-Gao-et-al.-1\"><span class=\"toc-item-num\">1&nbsp;&nbsp;</span>Replication of the findings in the paper \"A quantum algorithm for gravitational wave matched filtering\", by S. Gao et al.</a></span><ul class=\"toc-item\"><li><span><a href=\"#Proof-of-principle-for-template-matching-on-quantum-computer\" data-toc-modified-id=\"Proof-of-principle-for-template-matching-on-quantum-computer-1.1\"><span class=\"toc-item-num\">1.1&nbsp;&nbsp;</span>Proof of principle for template matching on quantum computer</a></span><ul class=\"toc-item\"><li><span><a href=\"#Grover's-Algorithm\" data-toc-modified-id=\"Grover's-Algorithm-1.1.1\"><span class=\"toc-item-num\">1.1.1&nbsp;&nbsp;</span>Grover's Algorithm</a></span></li><li><span><a href=\"#Quantum-Counting\" data-toc-modified-id=\"Quantum-Counting-1.1.2\"><span class=\"toc-item-num\">1.1.2&nbsp;&nbsp;</span>Quantum Counting</a></span></li></ul></li><li><span><a href=\"#Testing-Circuits\" data-toc-modified-id=\"Testing-Circuits-1.2\"><span class=\"toc-item-num\">1.2&nbsp;&nbsp;</span>Testing Circuits</a></span></li></ul></li><li><span><a href=\"#CONSTRUCTING-NEW-GROVER-CIRCUIT\" data-toc-modified-id=\"CONSTRUCTING-NEW-GROVER-CIRCUIT-2\"><span class=\"toc-item-num\">2&nbsp;&nbsp;</span>CONSTRUCTING NEW GROVER CIRCUIT</a></span></li></ul></div>"
   ]
  },
  {
   "cell_type": "markdown",
   "id": "f1673ccb",
   "metadata": {},
   "source": [
    "# Replication of the findings in the paper \"A quantum algorithm for gravitational wave matched filtering\", by S. Gao et al."
   ]
  },
  {
   "cell_type": "code",
   "execution_count": 2,
   "id": "73748601",
   "metadata": {
    "ExecuteTime": {
     "end_time": "2021-12-27T16:41:19.849694Z",
     "start_time": "2021-12-27T16:41:19.289782Z"
    }
   },
   "outputs": [],
   "source": [
    "from qiskit import QuantumCircuit, assemble, Aer, QuantumRegister, ClassicalRegister, AncillaRegister, transpile\n",
    "from qiskit.visualization import plot_bloch_multivector, plot_histogram, array_to_latex\n",
    "import math\n",
    "import plotly.express as px\n",
    "import numpy as np"
   ]
  },
  {
   "cell_type": "markdown",
   "id": "c6674f96",
   "metadata": {},
   "source": [
    "## Proof of principle for template matching on quantum computer"
   ]
  },
  {
   "cell_type": "markdown",
   "id": "6ef56e00",
   "metadata": {},
   "source": [
    "This next section replicates the algorithm described in the paper \"A quantum algorithm for gravitational wave matched filtering\" in the section IV. At the moment, only the Grover's algorithm part is included, but the number of iterations necessary should be given through quantum counting, which we will incorporate soon."
   ]
  },
  {
   "cell_type": "markdown",
   "id": "5a9fd8c9",
   "metadata": {},
   "source": [
    "### Grover's Algorithm"
   ]
  },
  {
   "cell_type": "code",
   "execution_count": 3,
   "id": "55a8c594",
   "metadata": {
    "ExecuteTime": {
     "end_time": "2021-12-27T16:41:21.661656Z",
     "start_time": "2021-12-27T16:41:21.636599Z"
    }
   },
   "outputs": [
    {
     "data": {
      "text/plain": [
       "<qiskit.circuit.instructionset.InstructionSet at 0x7fde0e0a8970>"
      ]
     },
     "execution_count": 3,
     "metadata": {},
     "output_type": "execute_result"
    }
   ],
   "source": [
    "# Making the circuit in the paper\n",
    "\n",
    "n = 6 #number of qbits\n",
    "q = 1 #number of qbits not used in the Grover's algo to allow for more template matches (every qbit taken out allow 2^q templates to match)\n",
    "\n",
    "qrd = QuantumRegister(n, 'd') #Creates the data registry\n",
    "qrt = QuantumRegister(n, 't') #Creates the template registry\n",
    "anc = QuantumRegister(1, 'ancilla') #Creates the ancillary registry for the oracle\n",
    "cr = ClassicalRegister(n, 'c') #Creates the classical bit measurment output\n",
    "\n",
    "qc = QuantumCircuit(qrd, qrt, anc, cr) #Makes the circuit with these qbits as input\n",
    "\n",
    "####### State initialization #########\n",
    "\n",
    "z = [1, 0] # base vect |0>\n",
    "o = [0, 1] # base vect |1>\n",
    "\n",
    "init_st_data = [z,o,o,z,z,z] #data bit stream 011000 (this is what we will compare the templates to and hope it matches)\n",
    "\n",
    "for i in range(n):\n",
    "    qc.initialize(init_st_data[i], i) #initializes the the data registry into the above mentionned stream\n",
    "    qc.h(n+i) #initializes the template into an equal amplitude superposition (with the Hadamard gates)\n",
    "    \n",
    "#initiation of ancillary to |->\n",
    "qc.x(anc)\n",
    "qc.h(anc)\n",
    "    \n",
    "#qc.draw() #Draws the initial circuit"
   ]
  },
  {
   "cell_type": "code",
   "execution_count": 4,
   "id": "e75cd6bc",
   "metadata": {
    "ExecuteTime": {
     "end_time": "2021-12-27T16:41:22.519761Z",
     "start_time": "2021-12-27T16:41:22.510585Z"
    }
   },
   "outputs": [],
   "source": [
    "#we now create a Grover's Gate (oracle + diffuror) function that will output a circuit that applies \n",
    "#one cycle of Grover's iteration to the input qbits\n",
    "def G_circ(n,q):\n",
    "    \n",
    "    #same as above, we recreate the input circuit, but without the classical bit registry, as this doesn't matter for a gate\n",
    "    qrd = QuantumRegister(n, 'd')\n",
    "    qrt = QuantumRegister(n, 't')\n",
    "    anc = QuantumRegister(1, 'ancilla')\n",
    "    gqc = QuantumCircuit(qrd, qrt, anc)\n",
    "    \n",
    "    ######## Oracle ##########\n",
    "    # Still need to study a little the oracle to understand it totally, specifically the ancillary qbit action.\n",
    "    \n",
    "    # The first part is to apply CNOT gates to from the q to n data qbits onto the q to n template qbits.\n",
    "    # \n",
    "    for i in range(q,n):\n",
    "        gqc.cx(i,n+i)\n",
    "    \n",
    "    #This step creates the multi-control-NOT gate to create phase kickback\n",
    "    gqc.x(range(n+q,2*n))\n",
    "    gqc.mcx(list(range(n+q,2*n)), 2*n, mode='noancilla')\n",
    "    gqc.x(range(n+q,2*n))   \n",
    "    \n",
    "    # I guess this step untagles the states of the qbits from data and template registry? \n",
    "    for i in range(q,n):\n",
    "        gqc.cx(i,n+i)\n",
    "\n",
    "    ######### Diffuser ###########\n",
    "    #The diffuser has a standard shape that can just be used out of the box\n",
    "    gqc.h(range(n,2*n))\n",
    "    gqc.x(range(n,2*n))\n",
    "\n",
    "    #It is difficult to do an actual multi-control-Z gate, so instead we make a MCX surrounded by H gates to transform it into a MCZ\n",
    "    gqc.h(2*n-1)\n",
    "    gqc.mct(list(range(n,2*n-1)), 2*n-1) \n",
    "    gqc.h(2*n-1)\n",
    "    \n",
    "#     Same thing than above with a different function\n",
    "#     gqc.h(2*n-1)\n",
    "#     gqc.mcx(list(range(n,2*n-1)), 2*n-1, mode='noancilla')\n",
    "#     gqc.h(2*n-1)\n",
    "\n",
    "    #The other symmetric side of the diffusor\n",
    "    gqc.x(range(n,2*n))\n",
    "    gqc.h(range(n,2*n))\n",
    "\n",
    "    return gqc"
   ]
  },
  {
   "cell_type": "code",
   "execution_count": 5,
   "id": "35fb9957",
   "metadata": {
    "ExecuteTime": {
     "end_time": "2021-12-27T16:41:24.057164Z",
     "start_time": "2021-12-27T16:41:24.022641Z"
    }
   },
   "outputs": [
    {
     "name": "stdout",
     "output_type": "stream",
     "text": [
      "                                                                                                               \n",
      "      d_0: ────────────────────────────────────────────────────────────────────────────────────────────────────\n",
      "                                                                                                               \n",
      "      d_1: ──■───────────────────────────────────────■─────────────────────────────────────────────────────────\n",
      "             │                                       │                                                         \n",
      "      d_2: ──┼────■──────────────────────────────────┼────■────────────────────────────────────────────────────\n",
      "             │    │                                  │    │                                                    \n",
      "      d_3: ──┼────┼────■─────────────────────────────┼────┼────■───────────────────────────────────────────────\n",
      "             │    │    │                             │    │    │                                               \n",
      "      d_4: ──┼────┼────┼────■────────────────────────┼────┼────┼────■──────────────────────────────────────────\n",
      "             │    │    │    │                        │    │    │    │                                          \n",
      "      d_5: ──┼────┼────┼────┼────■───────────────────┼────┼────┼────┼────■─────────────────────────────────────\n",
      "             │    │    │    │    │  ┌───┐┌───┐       │    │    │    │    │                      ┌───┐┌───┐     \n",
      "      t_0: ──┼────┼────┼────┼────┼──┤ H ├┤ X ├───────┼────┼────┼────┼────┼───────────────────■──┤ X ├┤ H ├─────\n",
      "           ┌─┴─┐  │    │    │    │  ├───┤└───┘┌───┐┌─┴─┐  │    │    │    │  ┌───┐┌───┐       │  ├───┤├───┤     \n",
      "      t_1: ┤ X ├──┼────┼────┼────┼──┤ X ├──■──┤ X ├┤ X ├──┼────┼────┼────┼──┤ H ├┤ X ├───────■──┤ X ├┤ H ├─────\n",
      "           └───┘┌─┴─┐  │    │    │  ├───┤  │  ├───┤└───┘┌─┴─┐  │    │    │  ├───┤├───┤       │  ├───┤├───┤     \n",
      "      t_2: ─────┤ X ├──┼────┼────┼──┤ X ├──■──┤ X ├─────┤ X ├──┼────┼────┼──┤ H ├┤ X ├───────■──┤ X ├┤ H ├─────\n",
      "                └───┘┌─┴─┐  │    │  ├───┤  │  ├───┤     └───┘┌─┴─┐  │    │  ├───┤├───┤       │  ├───┤├───┤     \n",
      "      t_3: ──────────┤ X ├──┼────┼──┤ X ├──■──┤ X ├──────────┤ X ├──┼────┼──┤ H ├┤ X ├───────■──┤ X ├┤ H ├─────\n",
      "                     └───┘┌─┴─┐  │  ├───┤  │  ├───┤          └───┘┌─┴─┐  │  ├───┤├───┤       │  ├───┤├───┤     \n",
      "      t_4: ───────────────┤ X ├──┼──┤ X ├──■──┤ X ├───────────────┤ X ├──┼──┤ H ├┤ X ├───────■──┤ X ├┤ H ├─────\n",
      "                          └───┘┌─┴─┐├───┤  │  ├───┤               └───┘┌─┴─┐├───┤├───┤┌───┐┌─┴─┐├───┤├───┤┌───┐\n",
      "      t_5: ────────────────────┤ X ├┤ X ├──■──┤ X ├────────────────────┤ X ├┤ H ├┤ X ├┤ H ├┤ X ├┤ H ├┤ X ├┤ H ├\n",
      "                               └───┘└───┘┌─┴─┐└───┘                    └───┘└───┘└───┘└───┘└───┘└───┘└───┘└───┘\n",
      "ancilla_0: ──────────────────────────────┤ X ├─────────────────────────────────────────────────────────────────\n",
      "                                         └───┘                                                                 \n"
     ]
    }
   ],
   "source": [
    "grit = G_circ(n,q).to_gate() #Transforms the circuit into a usable gate\n",
    "grit.label = \"Grover\" #Names the gate\n",
    "\n",
    "print(G_circ(n,q).draw(fold=-1)) #Schematic of the gate circuit"
   ]
  },
  {
   "cell_type": "code",
   "execution_count": 6,
   "id": "2420efe5",
   "metadata": {
    "ExecuteTime": {
     "end_time": "2021-12-27T16:41:24.822570Z",
     "start_time": "2021-12-27T16:41:24.800694Z"
    }
   },
   "outputs": [
    {
     "data": {
      "text/html": [
       "<pre style=\"word-wrap: normal;white-space: pre;background: #fff0;line-height: 1.1;font-family: &quot;Courier New&quot;,Courier,monospace\">           ┌─────────────────┐     ┌──────────┐┌──────────┐┌──────────┐                  \n",
       "      d_0: ┤ initialize(1,0) ├─────┤0         ├┤0         ├┤0         ├──────────────────\n",
       "           ├─────────────────┤     │          ││          ││          │                  \n",
       "      d_1: ┤ initialize(0,1) ├─────┤1         ├┤1         ├┤1         ├──────────────────\n",
       "           ├─────────────────┤     │          ││          ││          │                  \n",
       "      d_2: ┤ initialize(0,1) ├─────┤2         ├┤2         ├┤2         ├──────────────────\n",
       "           ├─────────────────┤     │          ││          ││          │                  \n",
       "      d_3: ┤ initialize(1,0) ├─────┤3         ├┤3         ├┤3         ├──────────────────\n",
       "           ├─────────────────┤     │          ││          ││          │                  \n",
       "      d_4: ┤ initialize(1,0) ├─────┤4         ├┤4         ├┤4         ├──────────────────\n",
       "           ├─────────────────┤     │          ││          ││          │                  \n",
       "      d_5: ┤ initialize(1,0) ├─────┤5         ├┤5         ├┤5         ├──────────────────\n",
       "           └──────┬───┬──────┘     │          ││          ││          │┌─┐               \n",
       "      t_0: ───────┤ H ├────────────┤6  Grover ├┤6  Grover ├┤6  Grover ├┤M├───────────────\n",
       "                  ├───┤            │          ││          ││          │└╥┘┌─┐            \n",
       "      t_1: ───────┤ H ├────────────┤7         ├┤7         ├┤7         ├─╫─┤M├────────────\n",
       "                  ├───┤            │          ││          ││          │ ║ └╥┘┌─┐         \n",
       "      t_2: ───────┤ H ├────────────┤8         ├┤8         ├┤8         ├─╫──╫─┤M├─────────\n",
       "                  ├───┤            │          ││          ││          │ ║  ║ └╥┘┌─┐      \n",
       "      t_3: ───────┤ H ├────────────┤9         ├┤9         ├┤9         ├─╫──╫──╫─┤M├──────\n",
       "                  ├───┤            │          ││          ││          │ ║  ║  ║ └╥┘┌─┐   \n",
       "      t_4: ───────┤ H ├────────────┤10        ├┤10        ├┤10        ├─╫──╫──╫──╫─┤M├───\n",
       "                  ├───┤            │          ││          ││          │ ║  ║  ║  ║ └╥┘┌─┐\n",
       "      t_5: ───────┤ H ├────────────┤11        ├┤11        ├┤11        ├─╫──╫──╫──╫──╫─┤M├\n",
       "                  ├───┤       ┌───┐│          ││          ││          │ ║  ║  ║  ║  ║ └╥┘\n",
       "ancilla_0: ───────┤ X ├───────┤ H ├┤12        ├┤12        ├┤12        ├─╫──╫──╫──╫──╫──╫─\n",
       "                  └───┘       └───┘└──────────┘└──────────┘└──────────┘ ║  ║  ║  ║  ║  ║ \n",
       "      c: 6/═════════════════════════════════════════════════════════════╩══╩══╩══╩══╩══╩═\n",
       "                                                                        0  1  2  3  4  5 </pre>"
      ],
      "text/plain": [
       "           ┌─────────────────┐     ┌──────────┐┌──────────┐┌──────────┐                  \n",
       "      d_0: ┤ initialize(1,0) ├─────┤0         ├┤0         ├┤0         ├──────────────────\n",
       "           ├─────────────────┤     │          ││          ││          │                  \n",
       "      d_1: ┤ initialize(0,1) ├─────┤1         ├┤1         ├┤1         ├──────────────────\n",
       "           ├─────────────────┤     │          ││          ││          │                  \n",
       "      d_2: ┤ initialize(0,1) ├─────┤2         ├┤2         ├┤2         ├──────────────────\n",
       "           ├─────────────────┤     │          ││          ││          │                  \n",
       "      d_3: ┤ initialize(1,0) ├─────┤3         ├┤3         ├┤3         ├──────────────────\n",
       "           ├─────────────────┤     │          ││          ││          │                  \n",
       "      d_4: ┤ initialize(1,0) ├─────┤4         ├┤4         ├┤4         ├──────────────────\n",
       "           ├─────────────────┤     │          ││          ││          │                  \n",
       "      d_5: ┤ initialize(1,0) ├─────┤5         ├┤5         ├┤5         ├──────────────────\n",
       "           └──────┬───┬──────┘     │          ││          ││          │┌─┐               \n",
       "      t_0: ───────┤ H ├────────────┤6  Grover ├┤6  Grover ├┤6  Grover ├┤M├───────────────\n",
       "                  ├───┤            │          ││          ││          │└╥┘┌─┐            \n",
       "      t_1: ───────┤ H ├────────────┤7         ├┤7         ├┤7         ├─╫─┤M├────────────\n",
       "                  ├───┤            │          ││          ││          │ ║ └╥┘┌─┐         \n",
       "      t_2: ───────┤ H ├────────────┤8         ├┤8         ├┤8         ├─╫──╫─┤M├─────────\n",
       "                  ├───┤            │          ││          ││          │ ║  ║ └╥┘┌─┐      \n",
       "      t_3: ───────┤ H ├────────────┤9         ├┤9         ├┤9         ├─╫──╫──╫─┤M├──────\n",
       "                  ├───┤            │          ││          ││          │ ║  ║  ║ └╥┘┌─┐   \n",
       "      t_4: ───────┤ H ├────────────┤10        ├┤10        ├┤10        ├─╫──╫──╫──╫─┤M├───\n",
       "                  ├───┤            │          ││          ││          │ ║  ║  ║  ║ └╥┘┌─┐\n",
       "      t_5: ───────┤ H ├────────────┤11        ├┤11        ├┤11        ├─╫──╫──╫──╫──╫─┤M├\n",
       "                  ├───┤       ┌───┐│          ││          ││          │ ║  ║  ║  ║  ║ └╥┘\n",
       "ancilla_0: ───────┤ X ├───────┤ H ├┤12        ├┤12        ├┤12        ├─╫──╫──╫──╫──╫──╫─\n",
       "                  └───┘       └───┘└──────────┘└──────────┘└──────────┘ ║  ║  ║  ║  ║  ║ \n",
       "      c: 6/═════════════════════════════════════════════════════════════╩══╩══╩══╩══╩══╩═\n",
       "                                                                        0  1  2  3  4  5 "
      ]
     },
     "execution_count": 6,
     "metadata": {},
     "output_type": "execute_result"
    }
   ],
   "source": [
    "#This is the repetition section, where we repeat the Grover gate a few times to improve the \n",
    "#probability of getting the expect answwers. The M is the number of iterations and at the moment it was \n",
    "#chosen thanks to the paper, but we will implement quantum counting as well bellow to showcase the method\n",
    "M = 3\n",
    "for i in range(M):\n",
    "    qc.append(grit,range(2*n+1))\n",
    "\n",
    "qc.measure(qrt,cr) #add the measurment gates to the template registry (theu go onto the classical bits)\n",
    "qc.draw(fold=-1)"
   ]
  },
  {
   "cell_type": "code",
   "execution_count": 10,
   "id": "50b93045",
   "metadata": {
    "ExecuteTime": {
     "end_time": "2021-12-27T16:43:38.648184Z",
     "start_time": "2021-12-27T16:43:38.121148Z"
    },
    "scrolled": false
   },
   "outputs": [
    {
     "data": {
      "application/vnd.plotly.v1+json": {
       "config": {
        "plotlyServerURL": "https://plot.ly"
       },
       "data": [
        {
         "alignmentgroup": "True",
         "hovertemplate": "val=%{x}<br>count=%{text}<extra></extra>",
         "legendgroup": "",
         "marker": {
          "color": "#636efa",
          "pattern": {
           "shape": ""
          }
         },
         "name": "",
         "offsetgroup": "",
         "orientation": "v",
         "showlegend": false,
         "text": [
          "6",
          "3",
          "5",
          "4",
          "2",
          "2",
          "909",
          "916",
          "3",
          "3",
          "1",
          "5",
          "6",
          "4",
          "3",
          "10",
          "1",
          "3",
          "6",
          "5",
          "1",
          "6",
          "5",
          "4",
          "3",
          "4",
          "6",
          "1",
          "1",
          "4",
          "3",
          "1",
          "4",
          "4",
          "3",
          "8",
          "2",
          "6",
          "4",
          "2",
          "2",
          "3",
          "8",
          "4",
          "4",
          "4",
          "6",
          "3",
          "3",
          "6",
          "3",
          "5",
          "2",
          "4",
          "4",
          "5",
          "1",
          "4",
          "4",
          "1",
          "1",
          "2"
         ],
         "textposition": "outside",
         "texttemplate": "%{text:.2s}",
         "type": "bar",
         "x": [
          "000000",
          "000001",
          "000010",
          "000011",
          "000100",
          "000101",
          "000110",
          "000111",
          "001000",
          "001001",
          "001010",
          "001011",
          "001100",
          "001101",
          "001110",
          "001111",
          "010000",
          "010001",
          "010010",
          "010011",
          "010100",
          "010101",
          "010110",
          "010111",
          "011000",
          "011001",
          "011010",
          "011011",
          "011100",
          "011101",
          "011110",
          "011111",
          "100000",
          "100001",
          "100010",
          "100011",
          "100100",
          "100101",
          "100110",
          "100111",
          "101000",
          "101001",
          "101010",
          "101011",
          "101100",
          "101101",
          "101110",
          "110000",
          "110001",
          "110011",
          "110100",
          "110101",
          "110110",
          "110111",
          "111000",
          "111001",
          "111010",
          "111011",
          "111100",
          "111101",
          "111110",
          "111111"
         ],
         "xaxis": "x",
         "y": [
          6,
          3,
          5,
          4,
          2,
          2,
          909,
          916,
          3,
          3,
          1,
          5,
          6,
          4,
          3,
          10,
          1,
          3,
          6,
          5,
          1,
          6,
          5,
          4,
          3,
          4,
          6,
          1,
          1,
          4,
          3,
          1,
          4,
          4,
          3,
          8,
          2,
          6,
          4,
          2,
          2,
          3,
          8,
          4,
          4,
          4,
          6,
          3,
          3,
          6,
          3,
          5,
          2,
          4,
          4,
          5,
          1,
          4,
          4,
          1,
          1,
          2
         ],
         "yaxis": "y"
        }
       ],
       "layout": {
        "barmode": "relative",
        "legend": {
         "tracegroupgap": 0
        },
        "margin": {
         "t": 60
        },
        "template": {
         "data": {
          "bar": [
           {
            "error_x": {
             "color": "#2a3f5f"
            },
            "error_y": {
             "color": "#2a3f5f"
            },
            "marker": {
             "line": {
              "color": "#E5ECF6",
              "width": 0.5
             },
             "pattern": {
              "fillmode": "overlay",
              "size": 10,
              "solidity": 0.2
             }
            },
            "type": "bar"
           }
          ],
          "barpolar": [
           {
            "marker": {
             "line": {
              "color": "#E5ECF6",
              "width": 0.5
             },
             "pattern": {
              "fillmode": "overlay",
              "size": 10,
              "solidity": 0.2
             }
            },
            "type": "barpolar"
           }
          ],
          "carpet": [
           {
            "aaxis": {
             "endlinecolor": "#2a3f5f",
             "gridcolor": "white",
             "linecolor": "white",
             "minorgridcolor": "white",
             "startlinecolor": "#2a3f5f"
            },
            "baxis": {
             "endlinecolor": "#2a3f5f",
             "gridcolor": "white",
             "linecolor": "white",
             "minorgridcolor": "white",
             "startlinecolor": "#2a3f5f"
            },
            "type": "carpet"
           }
          ],
          "choropleth": [
           {
            "colorbar": {
             "outlinewidth": 0,
             "ticks": ""
            },
            "type": "choropleth"
           }
          ],
          "contour": [
           {
            "colorbar": {
             "outlinewidth": 0,
             "ticks": ""
            },
            "colorscale": [
             [
              0,
              "#0d0887"
             ],
             [
              0.1111111111111111,
              "#46039f"
             ],
             [
              0.2222222222222222,
              "#7201a8"
             ],
             [
              0.3333333333333333,
              "#9c179e"
             ],
             [
              0.4444444444444444,
              "#bd3786"
             ],
             [
              0.5555555555555556,
              "#d8576b"
             ],
             [
              0.6666666666666666,
              "#ed7953"
             ],
             [
              0.7777777777777778,
              "#fb9f3a"
             ],
             [
              0.8888888888888888,
              "#fdca26"
             ],
             [
              1,
              "#f0f921"
             ]
            ],
            "type": "contour"
           }
          ],
          "contourcarpet": [
           {
            "colorbar": {
             "outlinewidth": 0,
             "ticks": ""
            },
            "type": "contourcarpet"
           }
          ],
          "heatmap": [
           {
            "colorbar": {
             "outlinewidth": 0,
             "ticks": ""
            },
            "colorscale": [
             [
              0,
              "#0d0887"
             ],
             [
              0.1111111111111111,
              "#46039f"
             ],
             [
              0.2222222222222222,
              "#7201a8"
             ],
             [
              0.3333333333333333,
              "#9c179e"
             ],
             [
              0.4444444444444444,
              "#bd3786"
             ],
             [
              0.5555555555555556,
              "#d8576b"
             ],
             [
              0.6666666666666666,
              "#ed7953"
             ],
             [
              0.7777777777777778,
              "#fb9f3a"
             ],
             [
              0.8888888888888888,
              "#fdca26"
             ],
             [
              1,
              "#f0f921"
             ]
            ],
            "type": "heatmap"
           }
          ],
          "heatmapgl": [
           {
            "colorbar": {
             "outlinewidth": 0,
             "ticks": ""
            },
            "colorscale": [
             [
              0,
              "#0d0887"
             ],
             [
              0.1111111111111111,
              "#46039f"
             ],
             [
              0.2222222222222222,
              "#7201a8"
             ],
             [
              0.3333333333333333,
              "#9c179e"
             ],
             [
              0.4444444444444444,
              "#bd3786"
             ],
             [
              0.5555555555555556,
              "#d8576b"
             ],
             [
              0.6666666666666666,
              "#ed7953"
             ],
             [
              0.7777777777777778,
              "#fb9f3a"
             ],
             [
              0.8888888888888888,
              "#fdca26"
             ],
             [
              1,
              "#f0f921"
             ]
            ],
            "type": "heatmapgl"
           }
          ],
          "histogram": [
           {
            "marker": {
             "pattern": {
              "fillmode": "overlay",
              "size": 10,
              "solidity": 0.2
             }
            },
            "type": "histogram"
           }
          ],
          "histogram2d": [
           {
            "colorbar": {
             "outlinewidth": 0,
             "ticks": ""
            },
            "colorscale": [
             [
              0,
              "#0d0887"
             ],
             [
              0.1111111111111111,
              "#46039f"
             ],
             [
              0.2222222222222222,
              "#7201a8"
             ],
             [
              0.3333333333333333,
              "#9c179e"
             ],
             [
              0.4444444444444444,
              "#bd3786"
             ],
             [
              0.5555555555555556,
              "#d8576b"
             ],
             [
              0.6666666666666666,
              "#ed7953"
             ],
             [
              0.7777777777777778,
              "#fb9f3a"
             ],
             [
              0.8888888888888888,
              "#fdca26"
             ],
             [
              1,
              "#f0f921"
             ]
            ],
            "type": "histogram2d"
           }
          ],
          "histogram2dcontour": [
           {
            "colorbar": {
             "outlinewidth": 0,
             "ticks": ""
            },
            "colorscale": [
             [
              0,
              "#0d0887"
             ],
             [
              0.1111111111111111,
              "#46039f"
             ],
             [
              0.2222222222222222,
              "#7201a8"
             ],
             [
              0.3333333333333333,
              "#9c179e"
             ],
             [
              0.4444444444444444,
              "#bd3786"
             ],
             [
              0.5555555555555556,
              "#d8576b"
             ],
             [
              0.6666666666666666,
              "#ed7953"
             ],
             [
              0.7777777777777778,
              "#fb9f3a"
             ],
             [
              0.8888888888888888,
              "#fdca26"
             ],
             [
              1,
              "#f0f921"
             ]
            ],
            "type": "histogram2dcontour"
           }
          ],
          "mesh3d": [
           {
            "colorbar": {
             "outlinewidth": 0,
             "ticks": ""
            },
            "type": "mesh3d"
           }
          ],
          "parcoords": [
           {
            "line": {
             "colorbar": {
              "outlinewidth": 0,
              "ticks": ""
             }
            },
            "type": "parcoords"
           }
          ],
          "pie": [
           {
            "automargin": true,
            "type": "pie"
           }
          ],
          "scatter": [
           {
            "marker": {
             "colorbar": {
              "outlinewidth": 0,
              "ticks": ""
             }
            },
            "type": "scatter"
           }
          ],
          "scatter3d": [
           {
            "line": {
             "colorbar": {
              "outlinewidth": 0,
              "ticks": ""
             }
            },
            "marker": {
             "colorbar": {
              "outlinewidth": 0,
              "ticks": ""
             }
            },
            "type": "scatter3d"
           }
          ],
          "scattercarpet": [
           {
            "marker": {
             "colorbar": {
              "outlinewidth": 0,
              "ticks": ""
             }
            },
            "type": "scattercarpet"
           }
          ],
          "scattergeo": [
           {
            "marker": {
             "colorbar": {
              "outlinewidth": 0,
              "ticks": ""
             }
            },
            "type": "scattergeo"
           }
          ],
          "scattergl": [
           {
            "marker": {
             "colorbar": {
              "outlinewidth": 0,
              "ticks": ""
             }
            },
            "type": "scattergl"
           }
          ],
          "scattermapbox": [
           {
            "marker": {
             "colorbar": {
              "outlinewidth": 0,
              "ticks": ""
             }
            },
            "type": "scattermapbox"
           }
          ],
          "scatterpolar": [
           {
            "marker": {
             "colorbar": {
              "outlinewidth": 0,
              "ticks": ""
             }
            },
            "type": "scatterpolar"
           }
          ],
          "scatterpolargl": [
           {
            "marker": {
             "colorbar": {
              "outlinewidth": 0,
              "ticks": ""
             }
            },
            "type": "scatterpolargl"
           }
          ],
          "scatterternary": [
           {
            "marker": {
             "colorbar": {
              "outlinewidth": 0,
              "ticks": ""
             }
            },
            "type": "scatterternary"
           }
          ],
          "surface": [
           {
            "colorbar": {
             "outlinewidth": 0,
             "ticks": ""
            },
            "colorscale": [
             [
              0,
              "#0d0887"
             ],
             [
              0.1111111111111111,
              "#46039f"
             ],
             [
              0.2222222222222222,
              "#7201a8"
             ],
             [
              0.3333333333333333,
              "#9c179e"
             ],
             [
              0.4444444444444444,
              "#bd3786"
             ],
             [
              0.5555555555555556,
              "#d8576b"
             ],
             [
              0.6666666666666666,
              "#ed7953"
             ],
             [
              0.7777777777777778,
              "#fb9f3a"
             ],
             [
              0.8888888888888888,
              "#fdca26"
             ],
             [
              1,
              "#f0f921"
             ]
            ],
            "type": "surface"
           }
          ],
          "table": [
           {
            "cells": {
             "fill": {
              "color": "#EBF0F8"
             },
             "line": {
              "color": "white"
             }
            },
            "header": {
             "fill": {
              "color": "#C8D4E3"
             },
             "line": {
              "color": "white"
             }
            },
            "type": "table"
           }
          ]
         },
         "layout": {
          "annotationdefaults": {
           "arrowcolor": "#2a3f5f",
           "arrowhead": 0,
           "arrowwidth": 1
          },
          "autotypenumbers": "strict",
          "coloraxis": {
           "colorbar": {
            "outlinewidth": 0,
            "ticks": ""
           }
          },
          "colorscale": {
           "diverging": [
            [
             0,
             "#8e0152"
            ],
            [
             0.1,
             "#c51b7d"
            ],
            [
             0.2,
             "#de77ae"
            ],
            [
             0.3,
             "#f1b6da"
            ],
            [
             0.4,
             "#fde0ef"
            ],
            [
             0.5,
             "#f7f7f7"
            ],
            [
             0.6,
             "#e6f5d0"
            ],
            [
             0.7,
             "#b8e186"
            ],
            [
             0.8,
             "#7fbc41"
            ],
            [
             0.9,
             "#4d9221"
            ],
            [
             1,
             "#276419"
            ]
           ],
           "sequential": [
            [
             0,
             "#0d0887"
            ],
            [
             0.1111111111111111,
             "#46039f"
            ],
            [
             0.2222222222222222,
             "#7201a8"
            ],
            [
             0.3333333333333333,
             "#9c179e"
            ],
            [
             0.4444444444444444,
             "#bd3786"
            ],
            [
             0.5555555555555556,
             "#d8576b"
            ],
            [
             0.6666666666666666,
             "#ed7953"
            ],
            [
             0.7777777777777778,
             "#fb9f3a"
            ],
            [
             0.8888888888888888,
             "#fdca26"
            ],
            [
             1,
             "#f0f921"
            ]
           ],
           "sequentialminus": [
            [
             0,
             "#0d0887"
            ],
            [
             0.1111111111111111,
             "#46039f"
            ],
            [
             0.2222222222222222,
             "#7201a8"
            ],
            [
             0.3333333333333333,
             "#9c179e"
            ],
            [
             0.4444444444444444,
             "#bd3786"
            ],
            [
             0.5555555555555556,
             "#d8576b"
            ],
            [
             0.6666666666666666,
             "#ed7953"
            ],
            [
             0.7777777777777778,
             "#fb9f3a"
            ],
            [
             0.8888888888888888,
             "#fdca26"
            ],
            [
             1,
             "#f0f921"
            ]
           ]
          },
          "colorway": [
           "#636efa",
           "#EF553B",
           "#00cc96",
           "#ab63fa",
           "#FFA15A",
           "#19d3f3",
           "#FF6692",
           "#B6E880",
           "#FF97FF",
           "#FECB52"
          ],
          "font": {
           "color": "#2a3f5f"
          },
          "geo": {
           "bgcolor": "white",
           "lakecolor": "white",
           "landcolor": "#E5ECF6",
           "showlakes": true,
           "showland": true,
           "subunitcolor": "white"
          },
          "hoverlabel": {
           "align": "left"
          },
          "hovermode": "closest",
          "mapbox": {
           "style": "light"
          },
          "paper_bgcolor": "white",
          "plot_bgcolor": "#E5ECF6",
          "polar": {
           "angularaxis": {
            "gridcolor": "white",
            "linecolor": "white",
            "ticks": ""
           },
           "bgcolor": "#E5ECF6",
           "radialaxis": {
            "gridcolor": "white",
            "linecolor": "white",
            "ticks": ""
           }
          },
          "scene": {
           "xaxis": {
            "backgroundcolor": "#E5ECF6",
            "gridcolor": "white",
            "gridwidth": 2,
            "linecolor": "white",
            "showbackground": true,
            "ticks": "",
            "zerolinecolor": "white"
           },
           "yaxis": {
            "backgroundcolor": "#E5ECF6",
            "gridcolor": "white",
            "gridwidth": 2,
            "linecolor": "white",
            "showbackground": true,
            "ticks": "",
            "zerolinecolor": "white"
           },
           "zaxis": {
            "backgroundcolor": "#E5ECF6",
            "gridcolor": "white",
            "gridwidth": 2,
            "linecolor": "white",
            "showbackground": true,
            "ticks": "",
            "zerolinecolor": "white"
           }
          },
          "shapedefaults": {
           "line": {
            "color": "#2a3f5f"
           }
          },
          "ternary": {
           "aaxis": {
            "gridcolor": "white",
            "linecolor": "white",
            "ticks": ""
           },
           "baxis": {
            "gridcolor": "white",
            "linecolor": "white",
            "ticks": ""
           },
           "bgcolor": "#E5ECF6",
           "caxis": {
            "gridcolor": "white",
            "linecolor": "white",
            "ticks": ""
           }
          },
          "title": {
           "x": 0.05
          },
          "xaxis": {
           "automargin": true,
           "gridcolor": "white",
           "linecolor": "white",
           "ticks": "",
           "title": {
            "standoff": 15
           },
           "zerolinecolor": "white",
           "zerolinewidth": 2
          },
          "yaxis": {
           "automargin": true,
           "gridcolor": "white",
           "linecolor": "white",
           "ticks": "",
           "title": {
            "standoff": 15
           },
           "zerolinecolor": "white",
           "zerolinewidth": 2
          }
         }
        },
        "uniformtext": {
         "minsize": 6,
         "mode": "show"
        },
        "xaxis": {
         "anchor": "y",
         "domain": [
          0,
          1
         ],
         "title": {
          "text": "val"
         }
        },
        "yaxis": {
         "anchor": "x",
         "domain": [
          0,
          1
         ],
         "title": {
          "text": "count"
         }
        }
       }
      },
      "text/html": [
       "<div>                            <div id=\"bab65205-b2b4-4373-8d18-3b8414e7b285\" class=\"plotly-graph-div\" style=\"height:525px; width:100%;\"></div>            <script type=\"text/javascript\">                require([\"plotly\"], function(Plotly) {                    window.PLOTLYENV=window.PLOTLYENV || {};                                    if (document.getElementById(\"bab65205-b2b4-4373-8d18-3b8414e7b285\")) {                    Plotly.newPlot(                        \"bab65205-b2b4-4373-8d18-3b8414e7b285\",                        [{\"alignmentgroup\":\"True\",\"hovertemplate\":\"val=%{x}<br>count=%{text}<extra></extra>\",\"legendgroup\":\"\",\"marker\":{\"color\":\"#636efa\",\"pattern\":{\"shape\":\"\"}},\"name\":\"\",\"offsetgroup\":\"\",\"orientation\":\"v\",\"showlegend\":false,\"text\":[\"6\",\"3\",\"5\",\"4\",\"2\",\"2\",\"909\",\"916\",\"3\",\"3\",\"1\",\"5\",\"6\",\"4\",\"3\",\"10\",\"1\",\"3\",\"6\",\"5\",\"1\",\"6\",\"5\",\"4\",\"3\",\"4\",\"6\",\"1\",\"1\",\"4\",\"3\",\"1\",\"4\",\"4\",\"3\",\"8\",\"2\",\"6\",\"4\",\"2\",\"2\",\"3\",\"8\",\"4\",\"4\",\"4\",\"6\",\"3\",\"3\",\"6\",\"3\",\"5\",\"2\",\"4\",\"4\",\"5\",\"1\",\"4\",\"4\",\"1\",\"1\",\"2\"],\"textposition\":\"outside\",\"texttemplate\":\"%{text:.2s}\",\"type\":\"bar\",\"x\":[\"000000\",\"000001\",\"000010\",\"000011\",\"000100\",\"000101\",\"000110\",\"000111\",\"001000\",\"001001\",\"001010\",\"001011\",\"001100\",\"001101\",\"001110\",\"001111\",\"010000\",\"010001\",\"010010\",\"010011\",\"010100\",\"010101\",\"010110\",\"010111\",\"011000\",\"011001\",\"011010\",\"011011\",\"011100\",\"011101\",\"011110\",\"011111\",\"100000\",\"100001\",\"100010\",\"100011\",\"100100\",\"100101\",\"100110\",\"100111\",\"101000\",\"101001\",\"101010\",\"101011\",\"101100\",\"101101\",\"101110\",\"110000\",\"110001\",\"110011\",\"110100\",\"110101\",\"110110\",\"110111\",\"111000\",\"111001\",\"111010\",\"111011\",\"111100\",\"111101\",\"111110\",\"111111\"],\"xaxis\":\"x\",\"y\":[6,3,5,4,2,2,909,916,3,3,1,5,6,4,3,10,1,3,6,5,1,6,5,4,3,4,6,1,1,4,3,1,4,4,3,8,2,6,4,2,2,3,8,4,4,4,6,3,3,6,3,5,2,4,4,5,1,4,4,1,1,2],\"yaxis\":\"y\"}],                        {\"barmode\":\"relative\",\"legend\":{\"tracegroupgap\":0},\"margin\":{\"t\":60},\"template\":{\"data\":{\"bar\":[{\"error_x\":{\"color\":\"#2a3f5f\"},\"error_y\":{\"color\":\"#2a3f5f\"},\"marker\":{\"line\":{\"color\":\"#E5ECF6\",\"width\":0.5},\"pattern\":{\"fillmode\":\"overlay\",\"size\":10,\"solidity\":0.2}},\"type\":\"bar\"}],\"barpolar\":[{\"marker\":{\"line\":{\"color\":\"#E5ECF6\",\"width\":0.5},\"pattern\":{\"fillmode\":\"overlay\",\"size\":10,\"solidity\":0.2}},\"type\":\"barpolar\"}],\"carpet\":[{\"aaxis\":{\"endlinecolor\":\"#2a3f5f\",\"gridcolor\":\"white\",\"linecolor\":\"white\",\"minorgridcolor\":\"white\",\"startlinecolor\":\"#2a3f5f\"},\"baxis\":{\"endlinecolor\":\"#2a3f5f\",\"gridcolor\":\"white\",\"linecolor\":\"white\",\"minorgridcolor\":\"white\",\"startlinecolor\":\"#2a3f5f\"},\"type\":\"carpet\"}],\"choropleth\":[{\"colorbar\":{\"outlinewidth\":0,\"ticks\":\"\"},\"type\":\"choropleth\"}],\"contour\":[{\"colorbar\":{\"outlinewidth\":0,\"ticks\":\"\"},\"colorscale\":[[0.0,\"#0d0887\"],[0.1111111111111111,\"#46039f\"],[0.2222222222222222,\"#7201a8\"],[0.3333333333333333,\"#9c179e\"],[0.4444444444444444,\"#bd3786\"],[0.5555555555555556,\"#d8576b\"],[0.6666666666666666,\"#ed7953\"],[0.7777777777777778,\"#fb9f3a\"],[0.8888888888888888,\"#fdca26\"],[1.0,\"#f0f921\"]],\"type\":\"contour\"}],\"contourcarpet\":[{\"colorbar\":{\"outlinewidth\":0,\"ticks\":\"\"},\"type\":\"contourcarpet\"}],\"heatmap\":[{\"colorbar\":{\"outlinewidth\":0,\"ticks\":\"\"},\"colorscale\":[[0.0,\"#0d0887\"],[0.1111111111111111,\"#46039f\"],[0.2222222222222222,\"#7201a8\"],[0.3333333333333333,\"#9c179e\"],[0.4444444444444444,\"#bd3786\"],[0.5555555555555556,\"#d8576b\"],[0.6666666666666666,\"#ed7953\"],[0.7777777777777778,\"#fb9f3a\"],[0.8888888888888888,\"#fdca26\"],[1.0,\"#f0f921\"]],\"type\":\"heatmap\"}],\"heatmapgl\":[{\"colorbar\":{\"outlinewidth\":0,\"ticks\":\"\"},\"colorscale\":[[0.0,\"#0d0887\"],[0.1111111111111111,\"#46039f\"],[0.2222222222222222,\"#7201a8\"],[0.3333333333333333,\"#9c179e\"],[0.4444444444444444,\"#bd3786\"],[0.5555555555555556,\"#d8576b\"],[0.6666666666666666,\"#ed7953\"],[0.7777777777777778,\"#fb9f3a\"],[0.8888888888888888,\"#fdca26\"],[1.0,\"#f0f921\"]],\"type\":\"heatmapgl\"}],\"histogram\":[{\"marker\":{\"pattern\":{\"fillmode\":\"overlay\",\"size\":10,\"solidity\":0.2}},\"type\":\"histogram\"}],\"histogram2d\":[{\"colorbar\":{\"outlinewidth\":0,\"ticks\":\"\"},\"colorscale\":[[0.0,\"#0d0887\"],[0.1111111111111111,\"#46039f\"],[0.2222222222222222,\"#7201a8\"],[0.3333333333333333,\"#9c179e\"],[0.4444444444444444,\"#bd3786\"],[0.5555555555555556,\"#d8576b\"],[0.6666666666666666,\"#ed7953\"],[0.7777777777777778,\"#fb9f3a\"],[0.8888888888888888,\"#fdca26\"],[1.0,\"#f0f921\"]],\"type\":\"histogram2d\"}],\"histogram2dcontour\":[{\"colorbar\":{\"outlinewidth\":0,\"ticks\":\"\"},\"colorscale\":[[0.0,\"#0d0887\"],[0.1111111111111111,\"#46039f\"],[0.2222222222222222,\"#7201a8\"],[0.3333333333333333,\"#9c179e\"],[0.4444444444444444,\"#bd3786\"],[0.5555555555555556,\"#d8576b\"],[0.6666666666666666,\"#ed7953\"],[0.7777777777777778,\"#fb9f3a\"],[0.8888888888888888,\"#fdca26\"],[1.0,\"#f0f921\"]],\"type\":\"histogram2dcontour\"}],\"mesh3d\":[{\"colorbar\":{\"outlinewidth\":0,\"ticks\":\"\"},\"type\":\"mesh3d\"}],\"parcoords\":[{\"line\":{\"colorbar\":{\"outlinewidth\":0,\"ticks\":\"\"}},\"type\":\"parcoords\"}],\"pie\":[{\"automargin\":true,\"type\":\"pie\"}],\"scatter\":[{\"marker\":{\"colorbar\":{\"outlinewidth\":0,\"ticks\":\"\"}},\"type\":\"scatter\"}],\"scatter3d\":[{\"line\":{\"colorbar\":{\"outlinewidth\":0,\"ticks\":\"\"}},\"marker\":{\"colorbar\":{\"outlinewidth\":0,\"ticks\":\"\"}},\"type\":\"scatter3d\"}],\"scattercarpet\":[{\"marker\":{\"colorbar\":{\"outlinewidth\":0,\"ticks\":\"\"}},\"type\":\"scattercarpet\"}],\"scattergeo\":[{\"marker\":{\"colorbar\":{\"outlinewidth\":0,\"ticks\":\"\"}},\"type\":\"scattergeo\"}],\"scattergl\":[{\"marker\":{\"colorbar\":{\"outlinewidth\":0,\"ticks\":\"\"}},\"type\":\"scattergl\"}],\"scattermapbox\":[{\"marker\":{\"colorbar\":{\"outlinewidth\":0,\"ticks\":\"\"}},\"type\":\"scattermapbox\"}],\"scatterpolar\":[{\"marker\":{\"colorbar\":{\"outlinewidth\":0,\"ticks\":\"\"}},\"type\":\"scatterpolar\"}],\"scatterpolargl\":[{\"marker\":{\"colorbar\":{\"outlinewidth\":0,\"ticks\":\"\"}},\"type\":\"scatterpolargl\"}],\"scatterternary\":[{\"marker\":{\"colorbar\":{\"outlinewidth\":0,\"ticks\":\"\"}},\"type\":\"scatterternary\"}],\"surface\":[{\"colorbar\":{\"outlinewidth\":0,\"ticks\":\"\"},\"colorscale\":[[0.0,\"#0d0887\"],[0.1111111111111111,\"#46039f\"],[0.2222222222222222,\"#7201a8\"],[0.3333333333333333,\"#9c179e\"],[0.4444444444444444,\"#bd3786\"],[0.5555555555555556,\"#d8576b\"],[0.6666666666666666,\"#ed7953\"],[0.7777777777777778,\"#fb9f3a\"],[0.8888888888888888,\"#fdca26\"],[1.0,\"#f0f921\"]],\"type\":\"surface\"}],\"table\":[{\"cells\":{\"fill\":{\"color\":\"#EBF0F8\"},\"line\":{\"color\":\"white\"}},\"header\":{\"fill\":{\"color\":\"#C8D4E3\"},\"line\":{\"color\":\"white\"}},\"type\":\"table\"}]},\"layout\":{\"annotationdefaults\":{\"arrowcolor\":\"#2a3f5f\",\"arrowhead\":0,\"arrowwidth\":1},\"autotypenumbers\":\"strict\",\"coloraxis\":{\"colorbar\":{\"outlinewidth\":0,\"ticks\":\"\"}},\"colorscale\":{\"diverging\":[[0,\"#8e0152\"],[0.1,\"#c51b7d\"],[0.2,\"#de77ae\"],[0.3,\"#f1b6da\"],[0.4,\"#fde0ef\"],[0.5,\"#f7f7f7\"],[0.6,\"#e6f5d0\"],[0.7,\"#b8e186\"],[0.8,\"#7fbc41\"],[0.9,\"#4d9221\"],[1,\"#276419\"]],\"sequential\":[[0.0,\"#0d0887\"],[0.1111111111111111,\"#46039f\"],[0.2222222222222222,\"#7201a8\"],[0.3333333333333333,\"#9c179e\"],[0.4444444444444444,\"#bd3786\"],[0.5555555555555556,\"#d8576b\"],[0.6666666666666666,\"#ed7953\"],[0.7777777777777778,\"#fb9f3a\"],[0.8888888888888888,\"#fdca26\"],[1.0,\"#f0f921\"]],\"sequentialminus\":[[0.0,\"#0d0887\"],[0.1111111111111111,\"#46039f\"],[0.2222222222222222,\"#7201a8\"],[0.3333333333333333,\"#9c179e\"],[0.4444444444444444,\"#bd3786\"],[0.5555555555555556,\"#d8576b\"],[0.6666666666666666,\"#ed7953\"],[0.7777777777777778,\"#fb9f3a\"],[0.8888888888888888,\"#fdca26\"],[1.0,\"#f0f921\"]]},\"colorway\":[\"#636efa\",\"#EF553B\",\"#00cc96\",\"#ab63fa\",\"#FFA15A\",\"#19d3f3\",\"#FF6692\",\"#B6E880\",\"#FF97FF\",\"#FECB52\"],\"font\":{\"color\":\"#2a3f5f\"},\"geo\":{\"bgcolor\":\"white\",\"lakecolor\":\"white\",\"landcolor\":\"#E5ECF6\",\"showlakes\":true,\"showland\":true,\"subunitcolor\":\"white\"},\"hoverlabel\":{\"align\":\"left\"},\"hovermode\":\"closest\",\"mapbox\":{\"style\":\"light\"},\"paper_bgcolor\":\"white\",\"plot_bgcolor\":\"#E5ECF6\",\"polar\":{\"angularaxis\":{\"gridcolor\":\"white\",\"linecolor\":\"white\",\"ticks\":\"\"},\"bgcolor\":\"#E5ECF6\",\"radialaxis\":{\"gridcolor\":\"white\",\"linecolor\":\"white\",\"ticks\":\"\"}},\"scene\":{\"xaxis\":{\"backgroundcolor\":\"#E5ECF6\",\"gridcolor\":\"white\",\"gridwidth\":2,\"linecolor\":\"white\",\"showbackground\":true,\"ticks\":\"\",\"zerolinecolor\":\"white\"},\"yaxis\":{\"backgroundcolor\":\"#E5ECF6\",\"gridcolor\":\"white\",\"gridwidth\":2,\"linecolor\":\"white\",\"showbackground\":true,\"ticks\":\"\",\"zerolinecolor\":\"white\"},\"zaxis\":{\"backgroundcolor\":\"#E5ECF6\",\"gridcolor\":\"white\",\"gridwidth\":2,\"linecolor\":\"white\",\"showbackground\":true,\"ticks\":\"\",\"zerolinecolor\":\"white\"}},\"shapedefaults\":{\"line\":{\"color\":\"#2a3f5f\"}},\"ternary\":{\"aaxis\":{\"gridcolor\":\"white\",\"linecolor\":\"white\",\"ticks\":\"\"},\"baxis\":{\"gridcolor\":\"white\",\"linecolor\":\"white\",\"ticks\":\"\"},\"bgcolor\":\"#E5ECF6\",\"caxis\":{\"gridcolor\":\"white\",\"linecolor\":\"white\",\"ticks\":\"\"}},\"title\":{\"x\":0.05},\"xaxis\":{\"automargin\":true,\"gridcolor\":\"white\",\"linecolor\":\"white\",\"ticks\":\"\",\"title\":{\"standoff\":15},\"zerolinecolor\":\"white\",\"zerolinewidth\":2},\"yaxis\":{\"automargin\":true,\"gridcolor\":\"white\",\"linecolor\":\"white\",\"ticks\":\"\",\"title\":{\"standoff\":15},\"zerolinecolor\":\"white\",\"zerolinewidth\":2}}},\"uniformtext\":{\"minsize\":6,\"mode\":\"show\"},\"xaxis\":{\"anchor\":\"y\",\"domain\":[0.0,1.0],\"title\":{\"text\":\"val\"}},\"yaxis\":{\"anchor\":\"x\",\"domain\":[0.0,1.0],\"title\":{\"text\":\"count\"}}},                        {\"responsive\": true}                    ).then(function(){\n",
       "                            \n",
       "var gd = document.getElementById('bab65205-b2b4-4373-8d18-3b8414e7b285');\n",
       "var x = new MutationObserver(function (mutations, observer) {{\n",
       "        var display = window.getComputedStyle(gd).display;\n",
       "        if (!display || display === 'none') {{\n",
       "            console.log([gd, 'removed!']);\n",
       "            Plotly.purge(gd);\n",
       "            observer.disconnect();\n",
       "        }}\n",
       "}});\n",
       "\n",
       "// Listen for the removal of the full notebook cells\n",
       "var notebookContainer = gd.closest('#notebook-container');\n",
       "if (notebookContainer) {{\n",
       "    x.observe(notebookContainer, {childList: true});\n",
       "}}\n",
       "\n",
       "// Listen for the clearing of the current output cell\n",
       "var outputEl = gd.closest('.output');\n",
       "if (outputEl) {{\n",
       "    x.observe(outputEl, {childList: true});\n",
       "}}\n",
       "\n",
       "                        })                };                });            </script>        </div>"
      ]
     },
     "metadata": {},
     "output_type": "display_data"
    }
   ],
   "source": [
    "############# CIRCUIT SIMULATION #################\n",
    "aer_sim = Aer.get_backend('aer_simulator')\n",
    "aer_sim.set_options(device='CPU')\n",
    "transpiled_qc = transpile(qc, aer_sim)\n",
    "\n",
    "shots = 2048\n",
    "job = aer_sim.run(transpiled_qc, shots=shots)\n",
    "\n",
    "############# CODE FOR PLOTTING ####################\n",
    "hist = job.result().get_counts() #simulation output\n",
    "sort_hist = sorted(hist.items()) #So that the plotting puts everything in the same increasing order of basis\n",
    "n_hist = {k:v for k,v in sort_hist}\n",
    "\n",
    "results = {'val':n_hist.keys(),'count':n_hist.values()} #change the formatting of the data to match plotly\n",
    "\n",
    "fig = px.bar(results, x=\"val\", y=\"count\", text=\"count\")\n",
    "fig.update_traces(texttemplate='%{text:.2s}', textposition='outside')\n",
    "fig.update_layout(uniformtext_minsize=6, uniformtext_mode='show')\n",
    "fig.show()"
   ]
  },
  {
   "cell_type": "markdown",
   "id": "abf57a55",
   "metadata": {},
   "source": [
    "### Quantum Counting"
   ]
  },
  {
   "cell_type": "code",
   "execution_count": 17,
   "id": "9c91190a",
   "metadata": {
    "ExecuteTime": {
     "end_time": "2021-12-27T16:55:58.404103Z",
     "start_time": "2021-12-27T16:55:58.395308Z"
    }
   },
   "outputs": [],
   "source": [
    "#n is the number of counting qbits\n",
    "def qft(n):\n",
    "    c = QuantumCircuit(n)\n",
    "    \n",
    "    #function swaps registers\n",
    "    def sw_reg(c, n):\n",
    "        for qbit in range(n//2):\n",
    "            c.swap(qbit, n-qbit-1)\n",
    "        return c\n",
    "    \n",
    "    def qft_rot(c, n):\n",
    "        if n == 0:\n",
    "            return c\n",
    "        \n",
    "        n -= 1\n",
    "        c.h(n)\n",
    "        \n",
    "        for qbit in range(n):\n",
    "            c.cp(np.pi/2**(n-qbit), qbit, n)\n",
    "            \n",
    "        qft_rot(c, n)\n",
    "    \n",
    "    qft_rot(c, n)\n",
    "    sw_reg(c, n)\n",
    "    \n",
    "    return c\n"
   ]
  },
  {
   "cell_type": "code",
   "execution_count": 18,
   "id": "6fa6079d",
   "metadata": {
    "ExecuteTime": {
     "end_time": "2021-12-27T16:55:59.459085Z",
     "start_time": "2021-12-27T16:55:59.443335Z"
    }
   },
   "outputs": [
    {
     "data": {
      "text/html": [
       "<pre style=\"word-wrap: normal;white-space: pre;background: #fff0;line-height: 1.1;font-family: &quot;Courier New&quot;,Courier,monospace\">                                                                          ┌───┐   \n",
       "q_0: ──────■───────────────────────────────■──────────────────────■───────┤ H ├─X─\n",
       "           │                               │                ┌───┐ │P(π/2) └───┘ │ \n",
       "q_1: ──────┼────────■──────────────────────┼────────■───────┤ H ├─■─────────X───┼─\n",
       "           │        │                ┌───┐ │P(π/4)  │P(π/2) └───┘           │   │ \n",
       "q_2: ──────┼────────┼────────■───────┤ H ├─■────────■───────────────────────X───┼─\n",
       "     ┌───┐ │P(π/8)  │P(π/4)  │P(π/2) └───┘                                      │ \n",
       "q_3: ┤ H ├─■────────■────────■──────────────────────────────────────────────────X─\n",
       "     └───┘                                                                        </pre>"
      ],
      "text/plain": [
       "                                                                          ┌───┐   \n",
       "q_0: ──────■───────────────────────────────■──────────────────────■───────┤ H ├─X─\n",
       "           │                               │                ┌───┐ │P(π/2) └───┘ │ \n",
       "q_1: ──────┼────────■──────────────────────┼────────■───────┤ H ├─■─────────X───┼─\n",
       "           │        │                ┌───┐ │P(π/4)  │P(π/2) └───┘           │   │ \n",
       "q_2: ──────┼────────┼────────■───────┤ H ├─■────────■───────────────────────X───┼─\n",
       "     ┌───┐ │P(π/8)  │P(π/4)  │P(π/2) └───┘                                      │ \n",
       "q_3: ┤ H ├─■────────■────────■──────────────────────────────────────────────────X─\n",
       "     └───┘                                                                        "
      ]
     },
     "execution_count": 18,
     "metadata": {},
     "output_type": "execute_result"
    }
   ],
   "source": [
    "qft(4).draw(fold=-1)"
   ]
  },
  {
   "cell_type": "code",
   "execution_count": 19,
   "id": "ba6969b2",
   "metadata": {
    "ExecuteTime": {
     "end_time": "2021-12-27T16:56:04.555380Z",
     "start_time": "2021-12-27T16:56:04.269904Z"
    }
   },
   "outputs": [
    {
     "data": {
      "text/html": [
       "<pre style=\"word-wrap: normal;white-space: pre;background: #fff0;line-height: 1.1;font-family: &quot;Courier New&quot;,Courier,monospace\">           ┌───┐                                                                                                                                                                                         ┌───────┐┌─┐         \n",
       "  count_0: ┤ H ├──────────■──────────────────────────────────────────────────────────────────────────────────────────────────────────────────────────────────────────────────────────────────────────────┤0      ├┤M├─────────\n",
       "           ├───┤          │                                                                                                                                                                              │       │└╥┘┌─┐      \n",
       "  count_1: ┤ H ├──────────┼───────────■───────────■──────────────────────────────────────────────────────────────────────────────────────────────────────────────────────────────────────────────────────┤1      ├─╫─┤M├──────\n",
       "           ├───┤          │           │           │                                                                                                                                                      │  QFT† │ ║ └╥┘┌─┐   \n",
       "  count_2: ┤ H ├──────────┼───────────┼───────────┼───────────■───────────■───────────■───────────■──────────────────────────────────────────────────────────────────────────────────────────────────────┤2      ├─╫──╫─┤M├───\n",
       "           ├───┤          │           │           │           │           │           │           │                                                                                                      │       │ ║  ║ └╥┘┌─┐\n",
       "  count_3: ┤ H ├──────────┼───────────┼───────────┼───────────┼───────────┼───────────┼───────────┼───────────■───────────■───────────■───────────■───────────■───────────■───────────■───────────■──────┤3      ├─╫──╫──╫─┤M├\n",
       "           ├───┤     ┌────┴─────┐┌────┴─────┐┌────┴─────┐┌────┴─────┐┌────┴─────┐┌────┴─────┐┌────┴─────┐┌────┴─────┐┌────┴─────┐┌────┴─────┐┌────┴─────┐┌────┴─────┐┌────┴─────┐┌────┴─────┐┌────┴─────┐└───────┘ ║  ║  ║ └╥┘\n",
       "      d_0: ┤ H ├─────┤0         ├┤0         ├┤0         ├┤0         ├┤0         ├┤0         ├┤0         ├┤0         ├┤0         ├┤0         ├┤0         ├┤0         ├┤0         ├┤0         ├┤0         ├──────────╫──╫──╫──╫─\n",
       "           ├───┤     │          ││          ││          ││          ││          ││          ││          ││          ││          ││          ││          ││          ││          ││          ││          │          ║  ║  ║  ║ \n",
       "      d_1: ┤ H ├─────┤1         ├┤1         ├┤1         ├┤1         ├┤1         ├┤1         ├┤1         ├┤1         ├┤1         ├┤1         ├┤1         ├┤1         ├┤1         ├┤1         ├┤1         ├──────────╫──╫──╫──╫─\n",
       "           ├───┤     │          ││          ││          ││          ││          ││          ││          ││          ││          ││          ││          ││          ││          ││          ││          │          ║  ║  ║  ║ \n",
       "      d_2: ┤ H ├─────┤2         ├┤2         ├┤2         ├┤2         ├┤2         ├┤2         ├┤2         ├┤2         ├┤2         ├┤2         ├┤2         ├┤2         ├┤2         ├┤2         ├┤2         ├──────────╫──╫──╫──╫─\n",
       "           ├───┤     │          ││          ││          ││          ││          ││          ││          ││          ││          ││          ││          ││          ││          ││          ││          │          ║  ║  ║  ║ \n",
       "      d_3: ┤ H ├─────┤3         ├┤3         ├┤3         ├┤3         ├┤3         ├┤3         ├┤3         ├┤3         ├┤3         ├┤3         ├┤3         ├┤3         ├┤3         ├┤3         ├┤3         ├──────────╫──╫──╫──╫─\n",
       "           ├───┤     │          ││          ││          ││          ││          ││          ││          ││          ││          ││          ││          ││          ││          ││          ││          │          ║  ║  ║  ║ \n",
       "      d_4: ┤ H ├─────┤4         ├┤4         ├┤4         ├┤4         ├┤4         ├┤4         ├┤4         ├┤4         ├┤4         ├┤4         ├┤4         ├┤4         ├┤4         ├┤4         ├┤4         ├──────────╫──╫──╫──╫─\n",
       "           ├───┤     │          ││          ││          ││          ││          ││          ││          ││          ││          ││          ││          ││          ││          ││          ││          │          ║  ║  ║  ║ \n",
       "      d_5: ┤ H ├─────┤5         ├┤5         ├┤5         ├┤5         ├┤5         ├┤5         ├┤5         ├┤5         ├┤5         ├┤5         ├┤5         ├┤5         ├┤5         ├┤5         ├┤5         ├──────────╫──╫──╫──╫─\n",
       "           ├───┤     │          ││          ││          ││          ││          ││          ││          ││          ││          ││          ││          ││          ││          ││          ││          │          ║  ║  ║  ║ \n",
       "      t_0: ┤ H ├─────┤6  Grover ├┤6  Grover ├┤6  Grover ├┤6  Grover ├┤6  Grover ├┤6  Grover ├┤6  Grover ├┤6  Grover ├┤6  Grover ├┤6  Grover ├┤6  Grover ├┤6  Grover ├┤6  Grover ├┤6  Grover ├┤6  Grover ├──────────╫──╫──╫──╫─\n",
       "           ├───┤     │          ││          ││          ││          ││          ││          ││          ││          ││          ││          ││          ││          ││          ││          ││          │          ║  ║  ║  ║ \n",
       "      t_1: ┤ H ├─────┤7         ├┤7         ├┤7         ├┤7         ├┤7         ├┤7         ├┤7         ├┤7         ├┤7         ├┤7         ├┤7         ├┤7         ├┤7         ├┤7         ├┤7         ├──────────╫──╫──╫──╫─\n",
       "           ├───┤     │          ││          ││          ││          ││          ││          ││          ││          ││          ││          ││          ││          ││          ││          ││          │          ║  ║  ║  ║ \n",
       "      t_2: ┤ H ├─────┤8         ├┤8         ├┤8         ├┤8         ├┤8         ├┤8         ├┤8         ├┤8         ├┤8         ├┤8         ├┤8         ├┤8         ├┤8         ├┤8         ├┤8         ├──────────╫──╫──╫──╫─\n",
       "           ├───┤     │          ││          ││          ││          ││          ││          ││          ││          ││          ││          ││          ││          ││          ││          ││          │          ║  ║  ║  ║ \n",
       "      t_3: ┤ H ├─────┤9         ├┤9         ├┤9         ├┤9         ├┤9         ├┤9         ├┤9         ├┤9         ├┤9         ├┤9         ├┤9         ├┤9         ├┤9         ├┤9         ├┤9         ├──────────╫──╫──╫──╫─\n",
       "           ├───┤     │          ││          ││          ││          ││          ││          ││          ││          ││          ││          ││          ││          ││          ││          ││          │          ║  ║  ║  ║ \n",
       "      t_4: ┤ H ├─────┤10        ├┤10        ├┤10        ├┤10        ├┤10        ├┤10        ├┤10        ├┤10        ├┤10        ├┤10        ├┤10        ├┤10        ├┤10        ├┤10        ├┤10        ├──────────╫──╫──╫──╫─\n",
       "           ├───┤     │          ││          ││          ││          ││          ││          ││          ││          ││          ││          ││          ││          ││          ││          ││          │          ║  ║  ║  ║ \n",
       "      t_5: ┤ H ├─────┤11        ├┤11        ├┤11        ├┤11        ├┤11        ├┤11        ├┤11        ├┤11        ├┤11        ├┤11        ├┤11        ├┤11        ├┤11        ├┤11        ├┤11        ├──────────╫──╫──╫──╫─\n",
       "           ├───┤┌───┐│          ││          ││          ││          ││          ││          ││          ││          ││          ││          ││          ││          ││          ││          ││          │          ║  ║  ║  ║ \n",
       "ancilla_0: ┤ X ├┤ H ├┤12        ├┤12        ├┤12        ├┤12        ├┤12        ├┤12        ├┤12        ├┤12        ├┤12        ├┤12        ├┤12        ├┤12        ├┤12        ├┤12        ├┤12        ├──────────╫──╫──╫──╫─\n",
       "           └───┘└───┘└──────────┘└──────────┘└──────────┘└──────────┘└──────────┘└──────────┘└──────────┘└──────────┘└──────────┘└──────────┘└──────────┘└──────────┘└──────────┘└──────────┘└──────────┘          ║  ║  ║  ║ \n",
       "      c: 4/════════════════════════════════════════════════════════════════════════════════════════════════════════════════════════════════════════════════════════════════════════════════════════════════════════╩══╩══╩══╩═\n",
       "                                                                                                                                                                                                                   0  1  2  3 </pre>"
      ],
      "text/plain": [
       "           ┌───┐                                                                                                                                                                                         ┌───────┐┌─┐         \n",
       "  count_0: ┤ H ├──────────■──────────────────────────────────────────────────────────────────────────────────────────────────────────────────────────────────────────────────────────────────────────────┤0      ├┤M├─────────\n",
       "           ├───┤          │                                                                                                                                                                              │       │└╥┘┌─┐      \n",
       "  count_1: ┤ H ├──────────┼───────────■───────────■──────────────────────────────────────────────────────────────────────────────────────────────────────────────────────────────────────────────────────┤1      ├─╫─┤M├──────\n",
       "           ├───┤          │           │           │                                                                                                                                                      │  QFT† │ ║ └╥┘┌─┐   \n",
       "  count_2: ┤ H ├──────────┼───────────┼───────────┼───────────■───────────■───────────■───────────■──────────────────────────────────────────────────────────────────────────────────────────────────────┤2      ├─╫──╫─┤M├───\n",
       "           ├───┤          │           │           │           │           │           │           │                                                                                                      │       │ ║  ║ └╥┘┌─┐\n",
       "  count_3: ┤ H ├──────────┼───────────┼───────────┼───────────┼───────────┼───────────┼───────────┼───────────■───────────■───────────■───────────■───────────■───────────■───────────■───────────■──────┤3      ├─╫──╫──╫─┤M├\n",
       "           ├───┤     ┌────┴─────┐┌────┴─────┐┌────┴─────┐┌────┴─────┐┌────┴─────┐┌────┴─────┐┌────┴─────┐┌────┴─────┐┌────┴─────┐┌────┴─────┐┌────┴─────┐┌────┴─────┐┌────┴─────┐┌────┴─────┐┌────┴─────┐└───────┘ ║  ║  ║ └╥┘\n",
       "      d_0: ┤ H ├─────┤0         ├┤0         ├┤0         ├┤0         ├┤0         ├┤0         ├┤0         ├┤0         ├┤0         ├┤0         ├┤0         ├┤0         ├┤0         ├┤0         ├┤0         ├──────────╫──╫──╫──╫─\n",
       "           ├───┤     │          ││          ││          ││          ││          ││          ││          ││          ││          ││          ││          ││          ││          ││          ││          │          ║  ║  ║  ║ \n",
       "      d_1: ┤ H ├─────┤1         ├┤1         ├┤1         ├┤1         ├┤1         ├┤1         ├┤1         ├┤1         ├┤1         ├┤1         ├┤1         ├┤1         ├┤1         ├┤1         ├┤1         ├──────────╫──╫──╫──╫─\n",
       "           ├───┤     │          ││          ││          ││          ││          ││          ││          ││          ││          ││          ││          ││          ││          ││          ││          │          ║  ║  ║  ║ \n",
       "      d_2: ┤ H ├─────┤2         ├┤2         ├┤2         ├┤2         ├┤2         ├┤2         ├┤2         ├┤2         ├┤2         ├┤2         ├┤2         ├┤2         ├┤2         ├┤2         ├┤2         ├──────────╫──╫──╫──╫─\n",
       "           ├───┤     │          ││          ││          ││          ││          ││          ││          ││          ││          ││          ││          ││          ││          ││          ││          │          ║  ║  ║  ║ \n",
       "      d_3: ┤ H ├─────┤3         ├┤3         ├┤3         ├┤3         ├┤3         ├┤3         ├┤3         ├┤3         ├┤3         ├┤3         ├┤3         ├┤3         ├┤3         ├┤3         ├┤3         ├──────────╫──╫──╫──╫─\n",
       "           ├───┤     │          ││          ││          ││          ││          ││          ││          ││          ││          ││          ││          ││          ││          ││          ││          │          ║  ║  ║  ║ \n",
       "      d_4: ┤ H ├─────┤4         ├┤4         ├┤4         ├┤4         ├┤4         ├┤4         ├┤4         ├┤4         ├┤4         ├┤4         ├┤4         ├┤4         ├┤4         ├┤4         ├┤4         ├──────────╫──╫──╫──╫─\n",
       "           ├───┤     │          ││          ││          ││          ││          ││          ││          ││          ││          ││          ││          ││          ││          ││          ││          │          ║  ║  ║  ║ \n",
       "      d_5: ┤ H ├─────┤5         ├┤5         ├┤5         ├┤5         ├┤5         ├┤5         ├┤5         ├┤5         ├┤5         ├┤5         ├┤5         ├┤5         ├┤5         ├┤5         ├┤5         ├──────────╫──╫──╫──╫─\n",
       "           ├───┤     │          ││          ││          ││          ││          ││          ││          ││          ││          ││          ││          ││          ││          ││          ││          │          ║  ║  ║  ║ \n",
       "      t_0: ┤ H ├─────┤6  Grover ├┤6  Grover ├┤6  Grover ├┤6  Grover ├┤6  Grover ├┤6  Grover ├┤6  Grover ├┤6  Grover ├┤6  Grover ├┤6  Grover ├┤6  Grover ├┤6  Grover ├┤6  Grover ├┤6  Grover ├┤6  Grover ├──────────╫──╫──╫──╫─\n",
       "           ├───┤     │          ││          ││          ││          ││          ││          ││          ││          ││          ││          ││          ││          ││          ││          ││          │          ║  ║  ║  ║ \n",
       "      t_1: ┤ H ├─────┤7         ├┤7         ├┤7         ├┤7         ├┤7         ├┤7         ├┤7         ├┤7         ├┤7         ├┤7         ├┤7         ├┤7         ├┤7         ├┤7         ├┤7         ├──────────╫──╫──╫──╫─\n",
       "           ├───┤     │          ││          ││          ││          ││          ││          ││          ││          ││          ││          ││          ││          ││          ││          ││          │          ║  ║  ║  ║ \n",
       "      t_2: ┤ H ├─────┤8         ├┤8         ├┤8         ├┤8         ├┤8         ├┤8         ├┤8         ├┤8         ├┤8         ├┤8         ├┤8         ├┤8         ├┤8         ├┤8         ├┤8         ├──────────╫──╫──╫──╫─\n",
       "           ├───┤     │          ││          ││          ││          ││          ││          ││          ││          ││          ││          ││          ││          ││          ││          ││          │          ║  ║  ║  ║ \n",
       "      t_3: ┤ H ├─────┤9         ├┤9         ├┤9         ├┤9         ├┤9         ├┤9         ├┤9         ├┤9         ├┤9         ├┤9         ├┤9         ├┤9         ├┤9         ├┤9         ├┤9         ├──────────╫──╫──╫──╫─\n",
       "           ├───┤     │          ││          ││          ││          ││          ││          ││          ││          ││          ││          ││          ││          ││          ││          ││          │          ║  ║  ║  ║ \n",
       "      t_4: ┤ H ├─────┤10        ├┤10        ├┤10        ├┤10        ├┤10        ├┤10        ├┤10        ├┤10        ├┤10        ├┤10        ├┤10        ├┤10        ├┤10        ├┤10        ├┤10        ├──────────╫──╫──╫──╫─\n",
       "           ├───┤     │          ││          ││          ││          ││          ││          ││          ││          ││          ││          ││          ││          ││          ││          ││          │          ║  ║  ║  ║ \n",
       "      t_5: ┤ H ├─────┤11        ├┤11        ├┤11        ├┤11        ├┤11        ├┤11        ├┤11        ├┤11        ├┤11        ├┤11        ├┤11        ├┤11        ├┤11        ├┤11        ├┤11        ├──────────╫──╫──╫──╫─\n",
       "           ├───┤┌───┐│          ││          ││          ││          ││          ││          ││          ││          ││          ││          ││          ││          ││          ││          ││          │          ║  ║  ║  ║ \n",
       "ancilla_0: ┤ X ├┤ H ├┤12        ├┤12        ├┤12        ├┤12        ├┤12        ├┤12        ├┤12        ├┤12        ├┤12        ├┤12        ├┤12        ├┤12        ├┤12        ├┤12        ├┤12        ├──────────╫──╫──╫──╫─\n",
       "           └───┘└───┘└──────────┘└──────────┘└──────────┘└──────────┘└──────────┘└──────────┘└──────────┘└──────────┘└──────────┘└──────────┘└──────────┘└──────────┘└──────────┘└──────────┘└──────────┘          ║  ║  ║  ║ \n",
       "      c: 4/════════════════════════════════════════════════════════════════════════════════════════════════════════════════════════════════════════════════════════════════════════════════════════════════════════╩══╩══╩══╩═\n",
       "                                                                                                                                                                                                                   0  1  2  3 "
      ]
     },
     "execution_count": 19,
     "metadata": {},
     "output_type": "execute_result"
    }
   ],
   "source": [
    "t = 4   # no. of counting qubits\n",
    "\n",
    "cgrit = grit.control()\n",
    "#with .control(nb_ctrl_qbits), the first values of the list are the controls\n",
    "qft_dagger = qft(t).to_gate().inverse()\n",
    "qft_dagger.label = \"QFT†\"\n",
    "\n",
    "qrc = QuantumRegister(t, 'count')\n",
    "qrd = QuantumRegister(n, 'd')\n",
    "qrt = QuantumRegister(n, 't')\n",
    "anc = QuantumRegister(1, 'ancilla')\n",
    "cr = ClassicalRegister(t, 'c')\n",
    "\n",
    "qc = QuantumCircuit(qrc, qrd, qrt, anc, cr)\n",
    "\n",
    "\n",
    "# Initialize all qubits to |+>\n",
    "for qubit in range(t+2*n):\n",
    "    qc.h(qubit)\n",
    "    \n",
    "# #initiation of ancillary to |->\n",
    "qc.x(anc)\n",
    "qc.h(anc)\n",
    "\n",
    "\n",
    "# Begin controlled Grover iterations\n",
    "iterations = 1\n",
    "for qubit in range(t):\n",
    "    for i in range(iterations):\n",
    "        qc.append(cgrit, [qubit] + [*range(t, t+2*n+1)])\n",
    "    iterations *= 2\n",
    "    \n",
    "# Do inverse QFT on counting qubits\n",
    "qc.append(qft_dagger, range(t))\n",
    "\n",
    "# Measure counting qubits\n",
    "qc.measure(range(t), range(t))\n",
    "\n",
    "# Display the circuit\n",
    "qc.draw(fold=-1)"
   ]
  },
  {
   "cell_type": "code",
   "execution_count": 20,
   "id": "a6b7661d",
   "metadata": {
    "ExecuteTime": {
     "end_time": "2021-12-27T16:56:31.281448Z",
     "start_time": "2021-12-27T16:56:30.536807Z"
    }
   },
   "outputs": [
    {
     "data": {
      "application/vnd.plotly.v1+json": {
       "config": {
        "plotlyServerURL": "https://plot.ly"
       },
       "data": [
        {
         "alignmentgroup": "True",
         "hovertemplate": "val=%{x}<br>count=%{text}<extra></extra>",
         "legendgroup": "",
         "marker": {
          "color": "#636efa",
          "pattern": {
           "shape": ""
          }
         },
         "name": "",
         "offsetgroup": "",
         "orientation": "v",
         "showlegend": false,
         "text": [
          "1",
          "2",
          "2",
          "2",
          "6",
          "1009",
          "23",
          "985",
          "9",
          "4",
          "2",
          "2",
          "1"
         ],
         "textposition": "outside",
         "texttemplate": "%{text:.2s}",
         "type": "bar",
         "x": [
          "0000",
          "0011",
          "0100",
          "0101",
          "0110",
          "0111",
          "1000",
          "1001",
          "1010",
          "1011",
          "1100",
          "1101",
          "1110"
         ],
         "xaxis": "x",
         "y": [
          1,
          2,
          2,
          2,
          6,
          1009,
          23,
          985,
          9,
          4,
          2,
          2,
          1
         ],
         "yaxis": "y"
        }
       ],
       "layout": {
        "barmode": "relative",
        "legend": {
         "tracegroupgap": 0
        },
        "margin": {
         "t": 60
        },
        "template": {
         "data": {
          "bar": [
           {
            "error_x": {
             "color": "#2a3f5f"
            },
            "error_y": {
             "color": "#2a3f5f"
            },
            "marker": {
             "line": {
              "color": "#E5ECF6",
              "width": 0.5
             },
             "pattern": {
              "fillmode": "overlay",
              "size": 10,
              "solidity": 0.2
             }
            },
            "type": "bar"
           }
          ],
          "barpolar": [
           {
            "marker": {
             "line": {
              "color": "#E5ECF6",
              "width": 0.5
             },
             "pattern": {
              "fillmode": "overlay",
              "size": 10,
              "solidity": 0.2
             }
            },
            "type": "barpolar"
           }
          ],
          "carpet": [
           {
            "aaxis": {
             "endlinecolor": "#2a3f5f",
             "gridcolor": "white",
             "linecolor": "white",
             "minorgridcolor": "white",
             "startlinecolor": "#2a3f5f"
            },
            "baxis": {
             "endlinecolor": "#2a3f5f",
             "gridcolor": "white",
             "linecolor": "white",
             "minorgridcolor": "white",
             "startlinecolor": "#2a3f5f"
            },
            "type": "carpet"
           }
          ],
          "choropleth": [
           {
            "colorbar": {
             "outlinewidth": 0,
             "ticks": ""
            },
            "type": "choropleth"
           }
          ],
          "contour": [
           {
            "colorbar": {
             "outlinewidth": 0,
             "ticks": ""
            },
            "colorscale": [
             [
              0,
              "#0d0887"
             ],
             [
              0.1111111111111111,
              "#46039f"
             ],
             [
              0.2222222222222222,
              "#7201a8"
             ],
             [
              0.3333333333333333,
              "#9c179e"
             ],
             [
              0.4444444444444444,
              "#bd3786"
             ],
             [
              0.5555555555555556,
              "#d8576b"
             ],
             [
              0.6666666666666666,
              "#ed7953"
             ],
             [
              0.7777777777777778,
              "#fb9f3a"
             ],
             [
              0.8888888888888888,
              "#fdca26"
             ],
             [
              1,
              "#f0f921"
             ]
            ],
            "type": "contour"
           }
          ],
          "contourcarpet": [
           {
            "colorbar": {
             "outlinewidth": 0,
             "ticks": ""
            },
            "type": "contourcarpet"
           }
          ],
          "heatmap": [
           {
            "colorbar": {
             "outlinewidth": 0,
             "ticks": ""
            },
            "colorscale": [
             [
              0,
              "#0d0887"
             ],
             [
              0.1111111111111111,
              "#46039f"
             ],
             [
              0.2222222222222222,
              "#7201a8"
             ],
             [
              0.3333333333333333,
              "#9c179e"
             ],
             [
              0.4444444444444444,
              "#bd3786"
             ],
             [
              0.5555555555555556,
              "#d8576b"
             ],
             [
              0.6666666666666666,
              "#ed7953"
             ],
             [
              0.7777777777777778,
              "#fb9f3a"
             ],
             [
              0.8888888888888888,
              "#fdca26"
             ],
             [
              1,
              "#f0f921"
             ]
            ],
            "type": "heatmap"
           }
          ],
          "heatmapgl": [
           {
            "colorbar": {
             "outlinewidth": 0,
             "ticks": ""
            },
            "colorscale": [
             [
              0,
              "#0d0887"
             ],
             [
              0.1111111111111111,
              "#46039f"
             ],
             [
              0.2222222222222222,
              "#7201a8"
             ],
             [
              0.3333333333333333,
              "#9c179e"
             ],
             [
              0.4444444444444444,
              "#bd3786"
             ],
             [
              0.5555555555555556,
              "#d8576b"
             ],
             [
              0.6666666666666666,
              "#ed7953"
             ],
             [
              0.7777777777777778,
              "#fb9f3a"
             ],
             [
              0.8888888888888888,
              "#fdca26"
             ],
             [
              1,
              "#f0f921"
             ]
            ],
            "type": "heatmapgl"
           }
          ],
          "histogram": [
           {
            "marker": {
             "pattern": {
              "fillmode": "overlay",
              "size": 10,
              "solidity": 0.2
             }
            },
            "type": "histogram"
           }
          ],
          "histogram2d": [
           {
            "colorbar": {
             "outlinewidth": 0,
             "ticks": ""
            },
            "colorscale": [
             [
              0,
              "#0d0887"
             ],
             [
              0.1111111111111111,
              "#46039f"
             ],
             [
              0.2222222222222222,
              "#7201a8"
             ],
             [
              0.3333333333333333,
              "#9c179e"
             ],
             [
              0.4444444444444444,
              "#bd3786"
             ],
             [
              0.5555555555555556,
              "#d8576b"
             ],
             [
              0.6666666666666666,
              "#ed7953"
             ],
             [
              0.7777777777777778,
              "#fb9f3a"
             ],
             [
              0.8888888888888888,
              "#fdca26"
             ],
             [
              1,
              "#f0f921"
             ]
            ],
            "type": "histogram2d"
           }
          ],
          "histogram2dcontour": [
           {
            "colorbar": {
             "outlinewidth": 0,
             "ticks": ""
            },
            "colorscale": [
             [
              0,
              "#0d0887"
             ],
             [
              0.1111111111111111,
              "#46039f"
             ],
             [
              0.2222222222222222,
              "#7201a8"
             ],
             [
              0.3333333333333333,
              "#9c179e"
             ],
             [
              0.4444444444444444,
              "#bd3786"
             ],
             [
              0.5555555555555556,
              "#d8576b"
             ],
             [
              0.6666666666666666,
              "#ed7953"
             ],
             [
              0.7777777777777778,
              "#fb9f3a"
             ],
             [
              0.8888888888888888,
              "#fdca26"
             ],
             [
              1,
              "#f0f921"
             ]
            ],
            "type": "histogram2dcontour"
           }
          ],
          "mesh3d": [
           {
            "colorbar": {
             "outlinewidth": 0,
             "ticks": ""
            },
            "type": "mesh3d"
           }
          ],
          "parcoords": [
           {
            "line": {
             "colorbar": {
              "outlinewidth": 0,
              "ticks": ""
             }
            },
            "type": "parcoords"
           }
          ],
          "pie": [
           {
            "automargin": true,
            "type": "pie"
           }
          ],
          "scatter": [
           {
            "marker": {
             "colorbar": {
              "outlinewidth": 0,
              "ticks": ""
             }
            },
            "type": "scatter"
           }
          ],
          "scatter3d": [
           {
            "line": {
             "colorbar": {
              "outlinewidth": 0,
              "ticks": ""
             }
            },
            "marker": {
             "colorbar": {
              "outlinewidth": 0,
              "ticks": ""
             }
            },
            "type": "scatter3d"
           }
          ],
          "scattercarpet": [
           {
            "marker": {
             "colorbar": {
              "outlinewidth": 0,
              "ticks": ""
             }
            },
            "type": "scattercarpet"
           }
          ],
          "scattergeo": [
           {
            "marker": {
             "colorbar": {
              "outlinewidth": 0,
              "ticks": ""
             }
            },
            "type": "scattergeo"
           }
          ],
          "scattergl": [
           {
            "marker": {
             "colorbar": {
              "outlinewidth": 0,
              "ticks": ""
             }
            },
            "type": "scattergl"
           }
          ],
          "scattermapbox": [
           {
            "marker": {
             "colorbar": {
              "outlinewidth": 0,
              "ticks": ""
             }
            },
            "type": "scattermapbox"
           }
          ],
          "scatterpolar": [
           {
            "marker": {
             "colorbar": {
              "outlinewidth": 0,
              "ticks": ""
             }
            },
            "type": "scatterpolar"
           }
          ],
          "scatterpolargl": [
           {
            "marker": {
             "colorbar": {
              "outlinewidth": 0,
              "ticks": ""
             }
            },
            "type": "scatterpolargl"
           }
          ],
          "scatterternary": [
           {
            "marker": {
             "colorbar": {
              "outlinewidth": 0,
              "ticks": ""
             }
            },
            "type": "scatterternary"
           }
          ],
          "surface": [
           {
            "colorbar": {
             "outlinewidth": 0,
             "ticks": ""
            },
            "colorscale": [
             [
              0,
              "#0d0887"
             ],
             [
              0.1111111111111111,
              "#46039f"
             ],
             [
              0.2222222222222222,
              "#7201a8"
             ],
             [
              0.3333333333333333,
              "#9c179e"
             ],
             [
              0.4444444444444444,
              "#bd3786"
             ],
             [
              0.5555555555555556,
              "#d8576b"
             ],
             [
              0.6666666666666666,
              "#ed7953"
             ],
             [
              0.7777777777777778,
              "#fb9f3a"
             ],
             [
              0.8888888888888888,
              "#fdca26"
             ],
             [
              1,
              "#f0f921"
             ]
            ],
            "type": "surface"
           }
          ],
          "table": [
           {
            "cells": {
             "fill": {
              "color": "#EBF0F8"
             },
             "line": {
              "color": "white"
             }
            },
            "header": {
             "fill": {
              "color": "#C8D4E3"
             },
             "line": {
              "color": "white"
             }
            },
            "type": "table"
           }
          ]
         },
         "layout": {
          "annotationdefaults": {
           "arrowcolor": "#2a3f5f",
           "arrowhead": 0,
           "arrowwidth": 1
          },
          "autotypenumbers": "strict",
          "coloraxis": {
           "colorbar": {
            "outlinewidth": 0,
            "ticks": ""
           }
          },
          "colorscale": {
           "diverging": [
            [
             0,
             "#8e0152"
            ],
            [
             0.1,
             "#c51b7d"
            ],
            [
             0.2,
             "#de77ae"
            ],
            [
             0.3,
             "#f1b6da"
            ],
            [
             0.4,
             "#fde0ef"
            ],
            [
             0.5,
             "#f7f7f7"
            ],
            [
             0.6,
             "#e6f5d0"
            ],
            [
             0.7,
             "#b8e186"
            ],
            [
             0.8,
             "#7fbc41"
            ],
            [
             0.9,
             "#4d9221"
            ],
            [
             1,
             "#276419"
            ]
           ],
           "sequential": [
            [
             0,
             "#0d0887"
            ],
            [
             0.1111111111111111,
             "#46039f"
            ],
            [
             0.2222222222222222,
             "#7201a8"
            ],
            [
             0.3333333333333333,
             "#9c179e"
            ],
            [
             0.4444444444444444,
             "#bd3786"
            ],
            [
             0.5555555555555556,
             "#d8576b"
            ],
            [
             0.6666666666666666,
             "#ed7953"
            ],
            [
             0.7777777777777778,
             "#fb9f3a"
            ],
            [
             0.8888888888888888,
             "#fdca26"
            ],
            [
             1,
             "#f0f921"
            ]
           ],
           "sequentialminus": [
            [
             0,
             "#0d0887"
            ],
            [
             0.1111111111111111,
             "#46039f"
            ],
            [
             0.2222222222222222,
             "#7201a8"
            ],
            [
             0.3333333333333333,
             "#9c179e"
            ],
            [
             0.4444444444444444,
             "#bd3786"
            ],
            [
             0.5555555555555556,
             "#d8576b"
            ],
            [
             0.6666666666666666,
             "#ed7953"
            ],
            [
             0.7777777777777778,
             "#fb9f3a"
            ],
            [
             0.8888888888888888,
             "#fdca26"
            ],
            [
             1,
             "#f0f921"
            ]
           ]
          },
          "colorway": [
           "#636efa",
           "#EF553B",
           "#00cc96",
           "#ab63fa",
           "#FFA15A",
           "#19d3f3",
           "#FF6692",
           "#B6E880",
           "#FF97FF",
           "#FECB52"
          ],
          "font": {
           "color": "#2a3f5f"
          },
          "geo": {
           "bgcolor": "white",
           "lakecolor": "white",
           "landcolor": "#E5ECF6",
           "showlakes": true,
           "showland": true,
           "subunitcolor": "white"
          },
          "hoverlabel": {
           "align": "left"
          },
          "hovermode": "closest",
          "mapbox": {
           "style": "light"
          },
          "paper_bgcolor": "white",
          "plot_bgcolor": "#E5ECF6",
          "polar": {
           "angularaxis": {
            "gridcolor": "white",
            "linecolor": "white",
            "ticks": ""
           },
           "bgcolor": "#E5ECF6",
           "radialaxis": {
            "gridcolor": "white",
            "linecolor": "white",
            "ticks": ""
           }
          },
          "scene": {
           "xaxis": {
            "backgroundcolor": "#E5ECF6",
            "gridcolor": "white",
            "gridwidth": 2,
            "linecolor": "white",
            "showbackground": true,
            "ticks": "",
            "zerolinecolor": "white"
           },
           "yaxis": {
            "backgroundcolor": "#E5ECF6",
            "gridcolor": "white",
            "gridwidth": 2,
            "linecolor": "white",
            "showbackground": true,
            "ticks": "",
            "zerolinecolor": "white"
           },
           "zaxis": {
            "backgroundcolor": "#E5ECF6",
            "gridcolor": "white",
            "gridwidth": 2,
            "linecolor": "white",
            "showbackground": true,
            "ticks": "",
            "zerolinecolor": "white"
           }
          },
          "shapedefaults": {
           "line": {
            "color": "#2a3f5f"
           }
          },
          "ternary": {
           "aaxis": {
            "gridcolor": "white",
            "linecolor": "white",
            "ticks": ""
           },
           "baxis": {
            "gridcolor": "white",
            "linecolor": "white",
            "ticks": ""
           },
           "bgcolor": "#E5ECF6",
           "caxis": {
            "gridcolor": "white",
            "linecolor": "white",
            "ticks": ""
           }
          },
          "title": {
           "x": 0.05
          },
          "xaxis": {
           "automargin": true,
           "gridcolor": "white",
           "linecolor": "white",
           "ticks": "",
           "title": {
            "standoff": 15
           },
           "zerolinecolor": "white",
           "zerolinewidth": 2
          },
          "yaxis": {
           "automargin": true,
           "gridcolor": "white",
           "linecolor": "white",
           "ticks": "",
           "title": {
            "standoff": 15
           },
           "zerolinecolor": "white",
           "zerolinewidth": 2
          }
         }
        },
        "uniformtext": {
         "minsize": 6,
         "mode": "show"
        },
        "xaxis": {
         "anchor": "y",
         "domain": [
          0,
          1
         ],
         "title": {
          "text": "val"
         }
        },
        "yaxis": {
         "anchor": "x",
         "domain": [
          0,
          1
         ],
         "title": {
          "text": "count"
         }
        }
       }
      },
      "text/html": [
       "<div>                            <div id=\"ad698521-fa79-40ba-bbed-8ad5b03bc6e0\" class=\"plotly-graph-div\" style=\"height:525px; width:100%;\"></div>            <script type=\"text/javascript\">                require([\"plotly\"], function(Plotly) {                    window.PLOTLYENV=window.PLOTLYENV || {};                                    if (document.getElementById(\"ad698521-fa79-40ba-bbed-8ad5b03bc6e0\")) {                    Plotly.newPlot(                        \"ad698521-fa79-40ba-bbed-8ad5b03bc6e0\",                        [{\"alignmentgroup\":\"True\",\"hovertemplate\":\"val=%{x}<br>count=%{text}<extra></extra>\",\"legendgroup\":\"\",\"marker\":{\"color\":\"#636efa\",\"pattern\":{\"shape\":\"\"}},\"name\":\"\",\"offsetgroup\":\"\",\"orientation\":\"v\",\"showlegend\":false,\"text\":[\"1\",\"2\",\"2\",\"2\",\"6\",\"1009\",\"23\",\"985\",\"9\",\"4\",\"2\",\"2\",\"1\"],\"textposition\":\"outside\",\"texttemplate\":\"%{text:.2s}\",\"type\":\"bar\",\"x\":[\"0000\",\"0011\",\"0100\",\"0101\",\"0110\",\"0111\",\"1000\",\"1001\",\"1010\",\"1011\",\"1100\",\"1101\",\"1110\"],\"xaxis\":\"x\",\"y\":[1,2,2,2,6,1009,23,985,9,4,2,2,1],\"yaxis\":\"y\"}],                        {\"barmode\":\"relative\",\"legend\":{\"tracegroupgap\":0},\"margin\":{\"t\":60},\"template\":{\"data\":{\"bar\":[{\"error_x\":{\"color\":\"#2a3f5f\"},\"error_y\":{\"color\":\"#2a3f5f\"},\"marker\":{\"line\":{\"color\":\"#E5ECF6\",\"width\":0.5},\"pattern\":{\"fillmode\":\"overlay\",\"size\":10,\"solidity\":0.2}},\"type\":\"bar\"}],\"barpolar\":[{\"marker\":{\"line\":{\"color\":\"#E5ECF6\",\"width\":0.5},\"pattern\":{\"fillmode\":\"overlay\",\"size\":10,\"solidity\":0.2}},\"type\":\"barpolar\"}],\"carpet\":[{\"aaxis\":{\"endlinecolor\":\"#2a3f5f\",\"gridcolor\":\"white\",\"linecolor\":\"white\",\"minorgridcolor\":\"white\",\"startlinecolor\":\"#2a3f5f\"},\"baxis\":{\"endlinecolor\":\"#2a3f5f\",\"gridcolor\":\"white\",\"linecolor\":\"white\",\"minorgridcolor\":\"white\",\"startlinecolor\":\"#2a3f5f\"},\"type\":\"carpet\"}],\"choropleth\":[{\"colorbar\":{\"outlinewidth\":0,\"ticks\":\"\"},\"type\":\"choropleth\"}],\"contour\":[{\"colorbar\":{\"outlinewidth\":0,\"ticks\":\"\"},\"colorscale\":[[0.0,\"#0d0887\"],[0.1111111111111111,\"#46039f\"],[0.2222222222222222,\"#7201a8\"],[0.3333333333333333,\"#9c179e\"],[0.4444444444444444,\"#bd3786\"],[0.5555555555555556,\"#d8576b\"],[0.6666666666666666,\"#ed7953\"],[0.7777777777777778,\"#fb9f3a\"],[0.8888888888888888,\"#fdca26\"],[1.0,\"#f0f921\"]],\"type\":\"contour\"}],\"contourcarpet\":[{\"colorbar\":{\"outlinewidth\":0,\"ticks\":\"\"},\"type\":\"contourcarpet\"}],\"heatmap\":[{\"colorbar\":{\"outlinewidth\":0,\"ticks\":\"\"},\"colorscale\":[[0.0,\"#0d0887\"],[0.1111111111111111,\"#46039f\"],[0.2222222222222222,\"#7201a8\"],[0.3333333333333333,\"#9c179e\"],[0.4444444444444444,\"#bd3786\"],[0.5555555555555556,\"#d8576b\"],[0.6666666666666666,\"#ed7953\"],[0.7777777777777778,\"#fb9f3a\"],[0.8888888888888888,\"#fdca26\"],[1.0,\"#f0f921\"]],\"type\":\"heatmap\"}],\"heatmapgl\":[{\"colorbar\":{\"outlinewidth\":0,\"ticks\":\"\"},\"colorscale\":[[0.0,\"#0d0887\"],[0.1111111111111111,\"#46039f\"],[0.2222222222222222,\"#7201a8\"],[0.3333333333333333,\"#9c179e\"],[0.4444444444444444,\"#bd3786\"],[0.5555555555555556,\"#d8576b\"],[0.6666666666666666,\"#ed7953\"],[0.7777777777777778,\"#fb9f3a\"],[0.8888888888888888,\"#fdca26\"],[1.0,\"#f0f921\"]],\"type\":\"heatmapgl\"}],\"histogram\":[{\"marker\":{\"pattern\":{\"fillmode\":\"overlay\",\"size\":10,\"solidity\":0.2}},\"type\":\"histogram\"}],\"histogram2d\":[{\"colorbar\":{\"outlinewidth\":0,\"ticks\":\"\"},\"colorscale\":[[0.0,\"#0d0887\"],[0.1111111111111111,\"#46039f\"],[0.2222222222222222,\"#7201a8\"],[0.3333333333333333,\"#9c179e\"],[0.4444444444444444,\"#bd3786\"],[0.5555555555555556,\"#d8576b\"],[0.6666666666666666,\"#ed7953\"],[0.7777777777777778,\"#fb9f3a\"],[0.8888888888888888,\"#fdca26\"],[1.0,\"#f0f921\"]],\"type\":\"histogram2d\"}],\"histogram2dcontour\":[{\"colorbar\":{\"outlinewidth\":0,\"ticks\":\"\"},\"colorscale\":[[0.0,\"#0d0887\"],[0.1111111111111111,\"#46039f\"],[0.2222222222222222,\"#7201a8\"],[0.3333333333333333,\"#9c179e\"],[0.4444444444444444,\"#bd3786\"],[0.5555555555555556,\"#d8576b\"],[0.6666666666666666,\"#ed7953\"],[0.7777777777777778,\"#fb9f3a\"],[0.8888888888888888,\"#fdca26\"],[1.0,\"#f0f921\"]],\"type\":\"histogram2dcontour\"}],\"mesh3d\":[{\"colorbar\":{\"outlinewidth\":0,\"ticks\":\"\"},\"type\":\"mesh3d\"}],\"parcoords\":[{\"line\":{\"colorbar\":{\"outlinewidth\":0,\"ticks\":\"\"}},\"type\":\"parcoords\"}],\"pie\":[{\"automargin\":true,\"type\":\"pie\"}],\"scatter\":[{\"marker\":{\"colorbar\":{\"outlinewidth\":0,\"ticks\":\"\"}},\"type\":\"scatter\"}],\"scatter3d\":[{\"line\":{\"colorbar\":{\"outlinewidth\":0,\"ticks\":\"\"}},\"marker\":{\"colorbar\":{\"outlinewidth\":0,\"ticks\":\"\"}},\"type\":\"scatter3d\"}],\"scattercarpet\":[{\"marker\":{\"colorbar\":{\"outlinewidth\":0,\"ticks\":\"\"}},\"type\":\"scattercarpet\"}],\"scattergeo\":[{\"marker\":{\"colorbar\":{\"outlinewidth\":0,\"ticks\":\"\"}},\"type\":\"scattergeo\"}],\"scattergl\":[{\"marker\":{\"colorbar\":{\"outlinewidth\":0,\"ticks\":\"\"}},\"type\":\"scattergl\"}],\"scattermapbox\":[{\"marker\":{\"colorbar\":{\"outlinewidth\":0,\"ticks\":\"\"}},\"type\":\"scattermapbox\"}],\"scatterpolar\":[{\"marker\":{\"colorbar\":{\"outlinewidth\":0,\"ticks\":\"\"}},\"type\":\"scatterpolar\"}],\"scatterpolargl\":[{\"marker\":{\"colorbar\":{\"outlinewidth\":0,\"ticks\":\"\"}},\"type\":\"scatterpolargl\"}],\"scatterternary\":[{\"marker\":{\"colorbar\":{\"outlinewidth\":0,\"ticks\":\"\"}},\"type\":\"scatterternary\"}],\"surface\":[{\"colorbar\":{\"outlinewidth\":0,\"ticks\":\"\"},\"colorscale\":[[0.0,\"#0d0887\"],[0.1111111111111111,\"#46039f\"],[0.2222222222222222,\"#7201a8\"],[0.3333333333333333,\"#9c179e\"],[0.4444444444444444,\"#bd3786\"],[0.5555555555555556,\"#d8576b\"],[0.6666666666666666,\"#ed7953\"],[0.7777777777777778,\"#fb9f3a\"],[0.8888888888888888,\"#fdca26\"],[1.0,\"#f0f921\"]],\"type\":\"surface\"}],\"table\":[{\"cells\":{\"fill\":{\"color\":\"#EBF0F8\"},\"line\":{\"color\":\"white\"}},\"header\":{\"fill\":{\"color\":\"#C8D4E3\"},\"line\":{\"color\":\"white\"}},\"type\":\"table\"}]},\"layout\":{\"annotationdefaults\":{\"arrowcolor\":\"#2a3f5f\",\"arrowhead\":0,\"arrowwidth\":1},\"autotypenumbers\":\"strict\",\"coloraxis\":{\"colorbar\":{\"outlinewidth\":0,\"ticks\":\"\"}},\"colorscale\":{\"diverging\":[[0,\"#8e0152\"],[0.1,\"#c51b7d\"],[0.2,\"#de77ae\"],[0.3,\"#f1b6da\"],[0.4,\"#fde0ef\"],[0.5,\"#f7f7f7\"],[0.6,\"#e6f5d0\"],[0.7,\"#b8e186\"],[0.8,\"#7fbc41\"],[0.9,\"#4d9221\"],[1,\"#276419\"]],\"sequential\":[[0.0,\"#0d0887\"],[0.1111111111111111,\"#46039f\"],[0.2222222222222222,\"#7201a8\"],[0.3333333333333333,\"#9c179e\"],[0.4444444444444444,\"#bd3786\"],[0.5555555555555556,\"#d8576b\"],[0.6666666666666666,\"#ed7953\"],[0.7777777777777778,\"#fb9f3a\"],[0.8888888888888888,\"#fdca26\"],[1.0,\"#f0f921\"]],\"sequentialminus\":[[0.0,\"#0d0887\"],[0.1111111111111111,\"#46039f\"],[0.2222222222222222,\"#7201a8\"],[0.3333333333333333,\"#9c179e\"],[0.4444444444444444,\"#bd3786\"],[0.5555555555555556,\"#d8576b\"],[0.6666666666666666,\"#ed7953\"],[0.7777777777777778,\"#fb9f3a\"],[0.8888888888888888,\"#fdca26\"],[1.0,\"#f0f921\"]]},\"colorway\":[\"#636efa\",\"#EF553B\",\"#00cc96\",\"#ab63fa\",\"#FFA15A\",\"#19d3f3\",\"#FF6692\",\"#B6E880\",\"#FF97FF\",\"#FECB52\"],\"font\":{\"color\":\"#2a3f5f\"},\"geo\":{\"bgcolor\":\"white\",\"lakecolor\":\"white\",\"landcolor\":\"#E5ECF6\",\"showlakes\":true,\"showland\":true,\"subunitcolor\":\"white\"},\"hoverlabel\":{\"align\":\"left\"},\"hovermode\":\"closest\",\"mapbox\":{\"style\":\"light\"},\"paper_bgcolor\":\"white\",\"plot_bgcolor\":\"#E5ECF6\",\"polar\":{\"angularaxis\":{\"gridcolor\":\"white\",\"linecolor\":\"white\",\"ticks\":\"\"},\"bgcolor\":\"#E5ECF6\",\"radialaxis\":{\"gridcolor\":\"white\",\"linecolor\":\"white\",\"ticks\":\"\"}},\"scene\":{\"xaxis\":{\"backgroundcolor\":\"#E5ECF6\",\"gridcolor\":\"white\",\"gridwidth\":2,\"linecolor\":\"white\",\"showbackground\":true,\"ticks\":\"\",\"zerolinecolor\":\"white\"},\"yaxis\":{\"backgroundcolor\":\"#E5ECF6\",\"gridcolor\":\"white\",\"gridwidth\":2,\"linecolor\":\"white\",\"showbackground\":true,\"ticks\":\"\",\"zerolinecolor\":\"white\"},\"zaxis\":{\"backgroundcolor\":\"#E5ECF6\",\"gridcolor\":\"white\",\"gridwidth\":2,\"linecolor\":\"white\",\"showbackground\":true,\"ticks\":\"\",\"zerolinecolor\":\"white\"}},\"shapedefaults\":{\"line\":{\"color\":\"#2a3f5f\"}},\"ternary\":{\"aaxis\":{\"gridcolor\":\"white\",\"linecolor\":\"white\",\"ticks\":\"\"},\"baxis\":{\"gridcolor\":\"white\",\"linecolor\":\"white\",\"ticks\":\"\"},\"bgcolor\":\"#E5ECF6\",\"caxis\":{\"gridcolor\":\"white\",\"linecolor\":\"white\",\"ticks\":\"\"}},\"title\":{\"x\":0.05},\"xaxis\":{\"automargin\":true,\"gridcolor\":\"white\",\"linecolor\":\"white\",\"ticks\":\"\",\"title\":{\"standoff\":15},\"zerolinecolor\":\"white\",\"zerolinewidth\":2},\"yaxis\":{\"automargin\":true,\"gridcolor\":\"white\",\"linecolor\":\"white\",\"ticks\":\"\",\"title\":{\"standoff\":15},\"zerolinecolor\":\"white\",\"zerolinewidth\":2}}},\"uniformtext\":{\"minsize\":6,\"mode\":\"show\"},\"xaxis\":{\"anchor\":\"y\",\"domain\":[0.0,1.0],\"title\":{\"text\":\"val\"}},\"yaxis\":{\"anchor\":\"x\",\"domain\":[0.0,1.0],\"title\":{\"text\":\"count\"}}},                        {\"responsive\": true}                    ).then(function(){\n",
       "                            \n",
       "var gd = document.getElementById('ad698521-fa79-40ba-bbed-8ad5b03bc6e0');\n",
       "var x = new MutationObserver(function (mutations, observer) {{\n",
       "        var display = window.getComputedStyle(gd).display;\n",
       "        if (!display || display === 'none') {{\n",
       "            console.log([gd, 'removed!']);\n",
       "            Plotly.purge(gd);\n",
       "            observer.disconnect();\n",
       "        }}\n",
       "}});\n",
       "\n",
       "// Listen for the removal of the full notebook cells\n",
       "var notebookContainer = gd.closest('#notebook-container');\n",
       "if (notebookContainer) {{\n",
       "    x.observe(notebookContainer, {childList: true});\n",
       "}}\n",
       "\n",
       "// Listen for the clearing of the current output cell\n",
       "var outputEl = gd.closest('.output');\n",
       "if (outputEl) {{\n",
       "    x.observe(outputEl, {childList: true});\n",
       "}}\n",
       "\n",
       "                        })                };                });            </script>        </div>"
      ]
     },
     "metadata": {},
     "output_type": "display_data"
    }
   ],
   "source": [
    "############# CIRCUIT SIMULATION #################\n",
    "aer_sim = Aer.get_backend('aer_simulator')\n",
    "aer_sim.set_options(device='CPU')\n",
    "transpiled_qc = transpile(qc, aer_sim)\n",
    "\n",
    "shots = 2048\n",
    "job = aer_sim.run(transpiled_qc, shots=shots)\n",
    "\n",
    "############# CODE FOR PLOTTING ####################\n",
    "hist = job.result().get_counts() #simulation output\n",
    "sort_hist = sorted(hist.items()) #So that the plotting puts everything in the same increasing order of basis\n",
    "n_hist = {k:v for k,v in sort_hist}\n",
    "\n",
    "results = {'val':n_hist.keys(),'count':n_hist.values()} #change the formatting of the data to match plotly\n",
    "\n",
    "fig = px.bar(results, x=\"val\", y=\"count\", text=\"count\")\n",
    "fig.update_traces(texttemplate='%{text:.2s}', textposition='outside')\n",
    "fig.update_layout(uniformtext_minsize=6, uniformtext_mode='show')\n",
    "fig.show()"
   ]
  },
  {
   "cell_type": "markdown",
   "id": "41650947",
   "metadata": {},
   "source": [
    "We now need to divide our result by $2^n$ to get θ:"
   ]
  },
  {
   "cell_type": "code",
   "execution_count": 21,
   "id": "a1294f4f",
   "metadata": {
    "ExecuteTime": {
     "end_time": "2021-12-27T16:56:34.267561Z",
     "start_time": "2021-12-27T16:56:34.259671Z"
    }
   },
   "outputs": [
    {
     "name": "stdout",
     "output_type": "stream",
     "text": [
      "Register Output = 7\n",
      "Theta = 2.74889\n",
      "No. of Solutions = 2.4\n",
      "The optimal number of iterations is: 3.525818171198255\n"
     ]
    }
   ],
   "source": [
    "measured_str = max(hist, key=hist.get)\n",
    "measured_int = int(measured_str,2)\n",
    "print(\"Register Output = %i\" % measured_int)\n",
    "\n",
    "theta = (measured_int/(2**t))*math.pi*2\n",
    "print(\"Theta = %.5f\" % theta)\n",
    "\n",
    "N = 2**n\n",
    "M = N * (math.sin(theta/2)**2)\n",
    "print(\"No. of Solutions = %.1f\" % (N-M))\n",
    "\n",
    "k = math.pi/4*math.sqrt(N/(N-M))-0.5\n",
    "print(f\"The optimal number of iterations is: {k}\")"
   ]
  },
  {
   "cell_type": "markdown",
   "id": "bb5e2b58",
   "metadata": {},
   "source": [
    "## Testing Circuits"
   ]
  },
  {
   "cell_type": "code",
   "execution_count": 22,
   "id": "a1df06b9",
   "metadata": {
    "ExecuteTime": {
     "end_time": "2021-12-27T16:56:43.326769Z",
     "start_time": "2021-12-27T16:56:43.321929Z"
    }
   },
   "outputs": [],
   "source": [
    "from qiskit import QuantumCircuit, Aer, assemble\n",
    "from math import pi\n",
    "import numpy as np\n",
    "from qiskit.visualization import plot_bloch_multivector, plot_histogram, array_to_latex"
   ]
  },
  {
   "cell_type": "code",
   "execution_count": 23,
   "id": "24a2dafb",
   "metadata": {
    "ExecuteTime": {
     "end_time": "2021-12-27T16:56:46.126589Z",
     "start_time": "2021-12-27T16:56:46.108916Z"
    }
   },
   "outputs": [
    {
     "data": {
      "text/html": [
       "<pre style=\"word-wrap: normal;white-space: pre;background: #fff0;line-height: 1.1;font-family: &quot;Courier New&quot;,Courier,monospace\">     ┌───┐     \n",
       "q_0: ┤ X ├─────\n",
       "     ├───┤┌───┐\n",
       "q_1: ┤ X ├┤ H ├\n",
       "     └───┘└───┘</pre>"
      ],
      "text/plain": [
       "     ┌───┐     \n",
       "q_0: ┤ X ├─────\n",
       "     ├───┤┌───┐\n",
       "q_1: ┤ X ├┤ H ├\n",
       "     └───┘└───┘"
      ]
     },
     "metadata": {},
     "output_type": "display_data"
    },
    {
     "data": {
      "text/latex": [
       "$$\n",
       "\\text{Statevector} = \n",
       "\\begin{bmatrix}\n",
       "0 & \\tfrac{1}{\\sqrt{2}} & 0 & -\\tfrac{1}{\\sqrt{2}}  \\\\\n",
       " \\end{bmatrix}\n",
       "$$"
      ],
      "text/plain": [
       "<IPython.core.display.Latex object>"
      ]
     },
     "metadata": {},
     "output_type": "display_data"
    },
    {
     "name": "stdout",
     "output_type": "stream",
     "text": [
      "[ 0.          0.70710678  0.         -0.70710678]\n"
     ]
    }
   ],
   "source": [
    "qc = QuantumCircuit(2)\n",
    "qc.x(0)\n",
    "qc.x(1)\n",
    "\n",
    "qc.h(1)\n",
    "\n",
    "# qc.cx(0,1)\n",
    "\n",
    "# n=2\n",
    "# qc.h(range(n,2*n))\n",
    "# qc.x(range(n,2*n))\n",
    "\n",
    "# #It is difficult to do an actual multi-control-Z gate, so instead we make a MCX surrounded by H gates to transform it into a MCZ\n",
    "# qc.h(2*n-1)\n",
    "# qc.mct(list(range(n,2*n-1)), 2*n-1) \n",
    "# qc.h(2*n-1)\n",
    "\n",
    "# #     Same thing than above with a different function\n",
    "# #     gqc.h(2*n-1)\n",
    "# #     gqc.mcx(list(range(n,2*n-1)), 2*n-1, mode='noancilla')\n",
    "# #     gqc.h(2*n-1)\n",
    "\n",
    "# #The other symmetric side of the diffusor\n",
    "# qc.x(range(n,2*n))\n",
    "# qc.h(range(n,2*n))\n",
    "\n",
    "\n",
    "display(qc.draw())\n",
    "# See the result\n",
    "\n",
    "svsim = Aer.get_backend('aer_simulator')\n",
    "qc1 = qc.copy()\n",
    "qc1.save_statevector()\n",
    "final_state = svsim.run(qc1).result().get_statevector()\n",
    "display(array_to_latex(final_state, prefix=\"\\\\text{Statevector} = \"))\n",
    "print(final_state.real)"
   ]
  },
  {
   "cell_type": "code",
   "execution_count": 24,
   "id": "d6aeca70",
   "metadata": {
    "ExecuteTime": {
     "end_time": "2021-12-27T16:56:53.191330Z",
     "start_time": "2021-12-27T16:56:53.179392Z"
    },
    "scrolled": true
   },
   "outputs": [
    {
     "data": {
      "text/html": [
       "<pre style=\"word-wrap: normal;white-space: pre;background: #fff0;line-height: 1.1;font-family: &quot;Courier New&quot;,Courier,monospace\">     ┌───┐\n",
       "q_0: ┤ H ├\n",
       "     └───┘</pre>"
      ],
      "text/plain": [
       "     ┌───┐\n",
       "q_0: ┤ H ├\n",
       "     └───┘"
      ]
     },
     "metadata": {},
     "output_type": "display_data"
    },
    {
     "data": {
      "text/latex": [
       "$$\n",
       "\\text{Statevector} = \n",
       "\\begin{bmatrix}\n",
       "\\tfrac{1}{\\sqrt{2}} & \\tfrac{1}{\\sqrt{2}}  \\\\\n",
       " \\end{bmatrix}\n",
       "$$"
      ],
      "text/plain": [
       "<IPython.core.display.Latex object>"
      ]
     },
     "metadata": {},
     "output_type": "display_data"
    },
    {
     "name": "stdout",
     "output_type": "stream",
     "text": [
      "[0.70710678 0.70710678]\n"
     ]
    }
   ],
   "source": [
    "qc = QuantumCircuit(1)\n",
    "qc.h(0)\n",
    "# qc.x(0)\n",
    "\n",
    "# qc.h(3)\n",
    "\n",
    "\n",
    "display(qc.draw())\n",
    "# See the result\n",
    "\n",
    "svsim = Aer.get_backend('aer_simulator')\n",
    "qc1 = qc.copy()\n",
    "qc1.save_statevector()\n",
    "final_state = svsim.run(qc1).result().get_statevector()\n",
    "display(array_to_latex(final_state, prefix=\"\\\\text{Statevector} = \"))\n",
    "print(final_state.real)"
   ]
  },
  {
   "cell_type": "markdown",
   "id": "4e0afd04",
   "metadata": {},
   "source": [
    "# CONSTRUCTING NEW GROVER CIRCUIT"
   ]
  },
  {
   "cell_type": "code",
   "execution_count": 26,
   "id": "fad51b7b",
   "metadata": {
    "ExecuteTime": {
     "end_time": "2021-12-27T16:57:12.121103Z",
     "start_time": "2021-12-27T16:57:12.099656Z"
    }
   },
   "outputs": [
    {
     "data": {
      "text/html": [
       "<pre style=\"word-wrap: normal;white-space: pre;background: #fff0;line-height: 1.1;font-family: &quot;Courier New&quot;,Courier,monospace\">         ┌───┐                        ┌───────┐\n",
       "count_0: ┤ H ├──■─────────────────────┤0      ├\n",
       "         ├───┤  │                     │       │\n",
       "count_1: ┤ H ├──┼─────■───────────────┤1      ├\n",
       "         ├───┤  │     │               │  QFT† │\n",
       "count_2: ┤ H ├──┼─────┼─────■─────────┤2      ├\n",
       "         ├───┤  │     │     │         │       │\n",
       "count_3: ┤ H ├──┼─────┼─────┼─────■───┤3      ├\n",
       "         ├───┤┌─┴──┐┌─┴──┐┌─┴──┐┌─┴──┐└───────┘\n",
       "    d_0: ┤ H ├┤0   ├┤0   ├┤0   ├┤0   ├─────────\n",
       "         ├───┤│    ││    ││    ││    │         \n",
       "    d_1: ┤ H ├┤1   ├┤1   ├┤1   ├┤1   ├─────────\n",
       "         ├───┤│  U ││  U ││  U ││  U │         \n",
       "    t_0: ┤ H ├┤2   ├┤2   ├┤2   ├┤2   ├─────────\n",
       "         ├───┤│    ││    ││    ││    │         \n",
       "    t_1: ┤ H ├┤3   ├┤3   ├┤3   ├┤3   ├─────────\n",
       "         └───┘└────┘└────┘└────┘└────┘         </pre>"
      ],
      "text/plain": [
       "         ┌───┐                        ┌───────┐\n",
       "count_0: ┤ H ├──■─────────────────────┤0      ├\n",
       "         ├───┤  │                     │       │\n",
       "count_1: ┤ H ├──┼─────■───────────────┤1      ├\n",
       "         ├───┤  │     │               │  QFT† │\n",
       "count_2: ┤ H ├──┼─────┼─────■─────────┤2      ├\n",
       "         ├───┤  │     │     │         │       │\n",
       "count_3: ┤ H ├──┼─────┼─────┼─────■───┤3      ├\n",
       "         ├───┤┌─┴──┐┌─┴──┐┌─┴──┐┌─┴──┐└───────┘\n",
       "    d_0: ┤ H ├┤0   ├┤0   ├┤0   ├┤0   ├─────────\n",
       "         ├───┤│    ││    ││    ││    │         \n",
       "    d_1: ┤ H ├┤1   ├┤1   ├┤1   ├┤1   ├─────────\n",
       "         ├───┤│  U ││  U ││  U ││  U │         \n",
       "    t_0: ┤ H ├┤2   ├┤2   ├┤2   ├┤2   ├─────────\n",
       "         ├───┤│    ││    ││    ││    │         \n",
       "    t_1: ┤ H ├┤3   ├┤3   ├┤3   ├┤3   ├─────────\n",
       "         └───┘└────┘└────┘└────┘└────┘         "
      ]
     },
     "execution_count": 26,
     "metadata": {},
     "output_type": "execute_result"
    }
   ],
   "source": [
    "t = 4   # no. of counting qubits\n",
    "n = 2\n",
    "\n",
    "qcx = QuantumCircuit(4)\n",
    "a = qcx.to_gate()\n",
    "a.label = \"U\"\n",
    "\n",
    "cgrit = a.control()\n",
    "#with .control(nb_ctrl_qbits), the first values of the list are the controls\n",
    "qft_dagger = qft(t).to_gate().inverse()\n",
    "qft_dagger.label = \"QFT†\"\n",
    "\n",
    "qrc = QuantumRegister(t, 'count')\n",
    "qrd = QuantumRegister(n, 'd')\n",
    "qrt = QuantumRegister(n, 't')\n",
    "\n",
    "qc = QuantumCircuit(qrc, qrd, qrt)\n",
    "\n",
    "\n",
    "# Initialize all qubits to |+>\n",
    "for qubit in range(t+2*n):\n",
    "    qc.h(qubit)\n",
    "\n",
    "\n",
    "# Begin controlled Grover iterations\n",
    "iterations = 1\n",
    "for qubit in range(t):\n",
    "    qc.append(cgrit, [qubit] + [*range(t, t+2*n)])\n",
    "    \n",
    "# Do inverse QFT on counting qubits\n",
    "qc.append(qft_dagger, range(t))\n",
    "\n",
    "# Display the circuit\n",
    "qc.draw(fold=-1)"
   ]
  }
 ],
 "metadata": {
  "kernelspec": {
   "display_name": "Python 3 (ipykernel)",
   "language": "python",
   "name": "python3"
  },
  "language_info": {
   "codemirror_mode": {
    "name": "ipython",
    "version": 3
   },
   "file_extension": ".py",
   "mimetype": "text/x-python",
   "name": "python",
   "nbconvert_exporter": "python",
   "pygments_lexer": "ipython3",
   "version": "3.9.5"
  },
  "toc": {
   "base_numbering": 1,
   "nav_menu": {},
   "number_sections": true,
   "sideBar": true,
   "skip_h1_title": false,
   "title_cell": "Table of Contents",
   "title_sidebar": "Contents",
   "toc_cell": true,
   "toc_position": {
    "height": "calc(100% - 180px)",
    "left": "10px",
    "top": "150px",
    "width": "372.8px"
   },
   "toc_section_display": true,
   "toc_window_display": true
  },
  "varInspector": {
   "cols": {
    "lenName": 16,
    "lenType": 16,
    "lenVar": 40
   },
   "kernels_config": {
    "python": {
     "delete_cmd_postfix": "",
     "delete_cmd_prefix": "del ",
     "library": "var_list.py",
     "varRefreshCmd": "print(var_dic_list())"
    },
    "r": {
     "delete_cmd_postfix": ") ",
     "delete_cmd_prefix": "rm(",
     "library": "var_list.r",
     "varRefreshCmd": "cat(var_dic_list()) "
    }
   },
   "types_to_exclude": [
    "module",
    "function",
    "builtin_function_or_method",
    "instance",
    "_Feature"
   ],
   "window_display": false
  }
 },
 "nbformat": 4,
 "nbformat_minor": 5
}
