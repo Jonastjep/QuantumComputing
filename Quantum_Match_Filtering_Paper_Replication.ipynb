{
 "cells": [
  {
   "cell_type": "markdown",
   "id": "c1af8499",
   "metadata": {
    "toc": true
   },
   "source": [
    "<h1>Table of Contents<span class=\"tocSkip\"></span></h1>\n",
    "<div class=\"toc\"><ul class=\"toc-item\"><li><span><a href=\"#Replication-of-the-findings-in-the-paper-&quot;A-quantum-algorithm-for-gravitational-wave-matched-filtering&quot;,-by-S.-Gao-et-al.\" data-toc-modified-id=\"Replication-of-the-findings-in-the-paper-&quot;A-quantum-algorithm-for-gravitational-wave-matched-filtering&quot;,-by-S.-Gao-et-al.-1\"><span class=\"toc-item-num\">1&nbsp;&nbsp;</span>Replication of the findings in the paper \"A quantum algorithm for gravitational wave matched filtering\", by S. Gao et al.</a></span><ul class=\"toc-item\"><li><span><a href=\"#Proof-of-principle-for-template-matching-on-quantum-computer\" data-toc-modified-id=\"Proof-of-principle-for-template-matching-on-quantum-computer-1.1\"><span class=\"toc-item-num\">1.1&nbsp;&nbsp;</span>Proof of principle for template matching on quantum computer</a></span><ul class=\"toc-item\"><li><span><a href=\"#Grover's-Algorithm\" data-toc-modified-id=\"Grover's-Algorithm-1.1.1\"><span class=\"toc-item-num\">1.1.1&nbsp;&nbsp;</span>Grover's Algorithm</a></span></li><li><span><a href=\"#Quantum-Counting\" data-toc-modified-id=\"Quantum-Counting-1.1.2\"><span class=\"toc-item-num\">1.1.2&nbsp;&nbsp;</span>Quantum Counting</a></span></li></ul></li><li><span><a href=\"#Testing-Circuits\" data-toc-modified-id=\"Testing-Circuits-1.2\"><span class=\"toc-item-num\">1.2&nbsp;&nbsp;</span>Testing Circuits</a></span></li></ul></li><li><span><a href=\"#CONSTRUCTING-NEW-GROVER-CIRCUIT\" data-toc-modified-id=\"CONSTRUCTING-NEW-GROVER-CIRCUIT-2\"><span class=\"toc-item-num\">2&nbsp;&nbsp;</span>CONSTRUCTING NEW GROVER CIRCUIT</a></span></li></ul></div>"
   ]
  },
  {
   "cell_type": "markdown",
   "id": "f1673ccb",
   "metadata": {},
   "source": [
    "# Replication of the findings in the paper \"A quantum algorithm for gravitational wave matched filtering\", by S. Gao et al."
   ]
  },
  {
   "cell_type": "code",
   "execution_count": 1,
   "id": "73748601",
   "metadata": {
    "ExecuteTime": {
     "end_time": "2021-12-06T17:45:40.352551Z",
     "start_time": "2021-12-06T17:45:39.829128Z"
    }
   },
   "outputs": [],
   "source": [
    "from qiskit import QuantumCircuit, assemble, Aer, QuantumRegister, ClassicalRegister, AncillaRegister, transpile\n",
    "from qiskit.visualization import plot_bloch_multivector, plot_histogram, array_to_latex\n",
    "import math\n",
    "import plotly.express as px\n",
    "import numpy as np"
   ]
  },
  {
   "cell_type": "markdown",
   "id": "c6674f96",
   "metadata": {},
   "source": [
    "## Proof of principle for template matching on quantum computer"
   ]
  },
  {
   "cell_type": "markdown",
   "id": "6ef56e00",
   "metadata": {},
   "source": [
    "This next section replicates the algorithm described in the paper \"A quantum algorithm for gravitational wave matched filtering\" in the section IV. At the moment, only the Grover's algorithm part is included, but the number of iterations necessary should be given through quantum counting, which we will incorporate soon."
   ]
  },
  {
   "cell_type": "markdown",
   "id": "5a9fd8c9",
   "metadata": {},
   "source": [
    "### Grover's Algorithm"
   ]
  },
  {
   "cell_type": "code",
   "execution_count": null,
   "id": "55a8c594",
   "metadata": {
    "ExecuteTime": {
     "end_time": "2021-12-05T12:30:29.747654Z",
     "start_time": "2021-12-05T12:30:29.738828Z"
    }
   },
   "outputs": [],
   "source": [
    "# Making the circuit in the paper\n",
    "\n",
    "n = 6 #number of qbits\n",
    "q = 1 #number of qbits not used in the Grover's algo to allow for more template matches (every qbit taken out allow 2^q templates to match)\n",
    "\n",
    "qrd = QuantumRegister(n, 'd') #Creates the data registry\n",
    "qrt = QuantumRegister(n, 't') #Creates the template registry\n",
    "anc = QuantumRegister(1, 'ancilla') #Creates the ancillary registry for the oracle\n",
    "cr = ClassicalRegister(n, 'c') #Creates the classical bit measurment output\n",
    "\n",
    "qc = QuantumCircuit(qrd, qrt, anc, cr) #Makes the circuit with these qbits as input\n",
    "\n",
    "####### State initialization #########\n",
    "\n",
    "z = [1, 0] # base vect |0>\n",
    "o = [0, 1] # base vect |1>\n",
    "\n",
    "init_st_data = [z,o,o,z,z,z] #data bit stream 011000 (this is what we will compare the templates to and hope it matches)\n",
    "\n",
    "for i in range(n):\n",
    "    qc.initialize(init_st_data[i], i) #initializes the the data registry into the above mentionned stream\n",
    "    qc.h(n+i) #initializes the template into an equal amplitude superposition (with the Hadamard gates)\n",
    "    \n",
    "#initiation of ancillary to |->\n",
    "qc.x(anc)\n",
    "qc.h(anc)\n",
    "    \n",
    "#qc.draw() #Draws the initial circuit"
   ]
  },
  {
   "cell_type": "code",
   "execution_count": null,
   "id": "e75cd6bc",
   "metadata": {
    "ExecuteTime": {
     "end_time": "2021-12-05T12:30:30.667387Z",
     "start_time": "2021-12-05T12:30:30.655481Z"
    }
   },
   "outputs": [],
   "source": [
    "#we now create a Grover's Gate (oracle + diffuror) function that will output a circuit that applies \n",
    "#one cycle of Grover's iteration to the input qbits\n",
    "def G_circ(n,q):\n",
    "    \n",
    "    #same as above, we recreate the input circuit, but without the classical bit registry, as this doesn't matter for a gate\n",
    "    qrd = QuantumRegister(n, 'd')\n",
    "    qrt = QuantumRegister(n, 't')\n",
    "    anc = QuantumRegister(1, 'ancilla')\n",
    "    gqc = QuantumCircuit(qrd, qrt, anc)\n",
    "    \n",
    "    ######## Oracle ##########\n",
    "    # Still need to study a little the oracle to understand it totally, specifically the ancillary qbit action.\n",
    "    \n",
    "    # The first part is to apply CNOT gates to from the q to n data qbits onto the q to n template qbits.\n",
    "    # \n",
    "    for i in range(q,n):\n",
    "        gqc.cx(i,n+i)\n",
    "    \n",
    "    #This step creates the multi-control-NOT gate to create phase kickback\n",
    "    gqc.x(range(n+q,2*n))\n",
    "    gqc.mcx(list(range(n+q,2*n)), 2*n, mode='noancilla')\n",
    "    gqc.x(range(n+q,2*n))   \n",
    "    \n",
    "    # I guess this step untagles the states of the qbits from data and template registry? \n",
    "    for i in range(q,n):\n",
    "        gqc.cx(i,n+i)\n",
    "\n",
    "    ######### Diffuser ###########\n",
    "    #The diffuser has a standard shape that can just be used out of the box\n",
    "    gqc.h(range(n,2*n))\n",
    "    gqc.x(range(n,2*n))\n",
    "\n",
    "    #It is difficult to do an actual multi-control-Z gate, so instead we make a MCX surrounded by H gates to transform it into a MCZ\n",
    "    gqc.h(2*n-1)\n",
    "    gqc.mct(list(range(n,2*n-1)), 2*n-1) \n",
    "    gqc.h(2*n-1)\n",
    "    \n",
    "#     Same thing than above with a different function\n",
    "#     gqc.h(2*n-1)\n",
    "#     gqc.mcx(list(range(n,2*n-1)), 2*n-1, mode='noancilla')\n",
    "#     gqc.h(2*n-1)\n",
    "\n",
    "    #The other symmetric side of the diffusor\n",
    "    gqc.x(range(n,2*n))\n",
    "    gqc.h(range(n,2*n))\n",
    "\n",
    "    return gqc"
   ]
  },
  {
   "cell_type": "code",
   "execution_count": null,
   "id": "35fb9957",
   "metadata": {
    "ExecuteTime": {
     "end_time": "2021-12-05T12:42:30.670746Z",
     "start_time": "2021-12-05T12:42:30.652495Z"
    }
   },
   "outputs": [],
   "source": [
    "grit = G_circ(n,q).to_gate() #Transforms the circuit into a usable gate\n",
    "grit.label = \"Grover\" #Names the gate\n",
    "\n",
    "print(G_circ(n,q).draw(fold=-1)) #Schematic of the gate circuit"
   ]
  },
  {
   "cell_type": "code",
   "execution_count": null,
   "id": "2420efe5",
   "metadata": {},
   "outputs": [],
   "source": [
    "#This is the repetition section, where we repeat the Grover gate a few times to improve the \n",
    "#probability of getting the expect answwers. The M is the number of iterations and at the moment it was \n",
    "#chosen thanks to the paper, but we will implement quantum counting as well bellow to showcase the method\n",
    "M = 1\n",
    "for i in range(M):\n",
    "    qc.append(grit,range(2*n+1))\n",
    "\n",
    "qc.measure(qrt,cr) #add the measurment gates to the template registry (theu go onto the classical bits)\n",
    "qc.draw(fold=-1)"
   ]
  },
  {
   "cell_type": "code",
   "execution_count": null,
   "id": "50b93045",
   "metadata": {
    "ExecuteTime": {
     "end_time": "2021-12-05T12:42:37.602491Z",
     "start_time": "2021-12-05T12:42:36.676604Z"
    },
    "scrolled": false
   },
   "outputs": [],
   "source": [
    "#Here we create the simulation of the circuit\n",
    "\n",
    "aer_sim = Aer.get_backend('aer_simulator')\n",
    "transpiled_qc = transpile(qc, aer_sim)\n",
    "shots = 2048 #we repeat the simulation 2048 times\n",
    "qobj = assemble(transpiled_qc, shots=shots)\n",
    "job = aer_sim.run(qobj)\n",
    "hist = job.result().get_counts() #simulation output\n",
    "#print(hist)\n",
    "\n",
    "#We plot the results using plotly as a plotting tool\n",
    "results = {'val':hist.keys(),'count':hist.values()} #change the formatting of the data to match plotly\n",
    "\n",
    "fig = px.bar(results, x=\"val\", y=\"count\", text=\"count\")\n",
    "fig.update_traces(texttemplate='%{text:.2s}', textposition='outside')\n",
    "fig.update_layout(uniformtext_minsize=6, uniformtext_mode='show')\n",
    "fig.show()"
   ]
  },
  {
   "cell_type": "code",
   "execution_count": null,
   "id": "892794c9",
   "metadata": {},
   "outputs": [],
   "source": [
    "#Here we create the simulation of the circuit\n",
    "\n",
    "aer_sim = Aer.get_backend('aer_simulator')\n",
    "transpiled_qc = transpile(qc, aer_sim)\n",
    "shots = 2*2048 #we repeat the simulation 2048 times\n",
    "qobj = assemble(transpiled_qc, shots=shots)\n",
    "job = aer_sim.run(qobj)\n",
    "hist1 = job.result().get_counts() #simulation output\n",
    "#print(hist)\n",
    "\n",
    "#We plot the results using plotly as a plotting tool\n",
    "results1 = {'val':hist.keys(),'count':hist.values()} #change the formatting of the data to match plotly\n",
    "\n",
    "fig = px.bar(results1, x=\"val\", y=\"count\", text=\"count\")\n",
    "fig.update_traces(texttemplate='%{text:.2s}', textposition='outside')\n",
    "fig.update_layout(uniformtext_minsize=6, uniformtext_mode='show')\n",
    "fig.show()"
   ]
  },
  {
   "cell_type": "markdown",
   "id": "d984fc2d",
   "metadata": {},
   "source": [
    "These results are what was expected, and are similar to the papers findings.\n",
    "Seems that the ancillary being set to $|->$ does help the detection. (makes counts go from approx. 800 counts when initialized to $|0>$ to 1.7k counts with $|->$)"
   ]
  },
  {
   "cell_type": "markdown",
   "id": "abf57a55",
   "metadata": {},
   "source": [
    "### Quantum Counting"
   ]
  },
  {
   "cell_type": "code",
   "execution_count": 2,
   "id": "9c91190a",
   "metadata": {
    "ExecuteTime": {
     "end_time": "2021-12-06T17:45:58.526307Z",
     "start_time": "2021-12-06T17:45:58.518188Z"
    }
   },
   "outputs": [],
   "source": [
    "def qft(n):\n",
    "    \"\"\"Creates an n-qubit QFT circuit\"\"\"\n",
    "    circuit = QuantumCircuit(n)\n",
    "    def swap_registers(circuit, n):\n",
    "        for qubit in range(n//2):\n",
    "            circuit.swap(qubit, n-qubit-1)\n",
    "        return circuit\n",
    "    def qft_rotations(circuit, n):\n",
    "        \"\"\"Performs qft on the first n qubits in circuit (without swaps)\"\"\"\n",
    "        if n == 0:\n",
    "            return circuit\n",
    "        n -= 1\n",
    "        circuit.h(n)\n",
    "        for qubit in range(n):\n",
    "            circuit.cp(np.pi/2**(n-qubit), qubit, n)\n",
    "        qft_rotations(circuit, n)\n",
    "    \n",
    "    qft_rotations(circuit, n)\n",
    "    swap_registers(circuit, n)\n",
    "    return circuit"
   ]
  },
  {
   "cell_type": "code",
   "execution_count": null,
   "id": "ba6969b2",
   "metadata": {
    "ExecuteTime": {
     "end_time": "2021-12-06T17:39:08.413782Z",
     "start_time": "2021-12-06T17:39:08.201925Z"
    }
   },
   "outputs": [],
   "source": [
    "t = 4   # no. of counting qubits\n",
    "\n",
    "cgrit = grit.control()\n",
    "#with .control(nb_ctrl_qbits), the first values of the list are the controls\n",
    "qft_dagger = qft(t).to_gate().inverse()\n",
    "qft_dagger.label = \"QFT†\"\n",
    "\n",
    "qrc = QuantumRegister(t, 'count')\n",
    "qrd = QuantumRegister(n, 'd')\n",
    "qrt = QuantumRegister(n, 't')\n",
    "anc = QuantumRegister(1, 'ancilla')\n",
    "cr = ClassicalRegister(t, 'c')\n",
    "\n",
    "qc = QuantumCircuit(qrc, qrd, qrt, anc, cr)\n",
    "\n",
    "\n",
    "# Initialize all qubits to |+>\n",
    "for qubit in range(t+2*n):\n",
    "    qc.h(qubit)\n",
    "    \n",
    "# #initiation of ancillary to |->\n",
    "qc.x(anc)\n",
    "qc.h(anc)\n",
    "\n",
    "\n",
    "# Begin controlled Grover iterations\n",
    "iterations = 1\n",
    "for qubit in range(t):\n",
    "    for i in range(iterations):\n",
    "        qc.append(cgrit, [qubit] + [*range(t, t+2*n+1)])\n",
    "    iterations *= 2\n",
    "    \n",
    "# Do inverse QFT on counting qubits\n",
    "qc.append(qft_dagger, range(t))\n",
    "\n",
    "# Measure counting qubits\n",
    "qc.measure(range(t), range(t))\n",
    "\n",
    "# Display the circuit\n",
    "qc.draw(fold=-1)"
   ]
  },
  {
   "cell_type": "code",
   "execution_count": null,
   "id": "a6b7661d",
   "metadata": {
    "ExecuteTime": {
     "end_time": "2021-12-06T17:37:57.660053Z",
     "start_time": "2021-12-06T17:37:28.161037Z"
    }
   },
   "outputs": [],
   "source": [
    "# Execute and see results\n",
    "aer_sim = Aer.get_backend('aer_simulator')\n",
    "transpiled_qc = transpile(qc, aer_sim)\n",
    "qobj = assemble(transpiled_qc)\n",
    "job = aer_sim.run(qobj)\n",
    "hist = job.result().get_counts()\n",
    "\n",
    "results = {'val':hist.keys(),'count':hist.values()} #change the formatting of the data to match plotly\n",
    "\n",
    "fig = px.bar(results, x=\"val\", y=\"count\", text=\"count\")\n",
    "fig.update_traces(texttemplate='%{text:.2s}', textposition='outside')\n",
    "fig.update_layout(uniformtext_minsize=6, uniformtext_mode='show')\n",
    "fig.show()"
   ]
  },
  {
   "cell_type": "markdown",
   "id": "41650947",
   "metadata": {},
   "source": [
    "We now need to divide our result by $2^n$ to get θ:"
   ]
  },
  {
   "cell_type": "code",
   "execution_count": null,
   "id": "a1294f4f",
   "metadata": {},
   "outputs": [],
   "source": [
    "measured_str = max(hist, key=hist.get)\n",
    "measured_int = int(measured_str,2)\n",
    "print(\"Register Output = %i\" % measured_int)\n",
    "\n",
    "theta = (measured_int/(2**t))*math.pi*2\n",
    "print(\"Theta = %.5f\" % theta)\n",
    "\n",
    "N = 2**n\n",
    "M = N * (math.sin(theta/2)**2)\n",
    "print(\"No. of Solutions = %.1f\" % (N-M))\n",
    "\n",
    "k = math.pi/4*math.sqrt(N/(N-M))-0.5\n",
    "print(f\"The optimal number of iterations is: {k}\")"
   ]
  },
  {
   "cell_type": "code",
   "execution_count": null,
   "id": "1be7b1e3",
   "metadata": {
    "scrolled": true
   },
   "outputs": [],
   "source": []
  },
  {
   "cell_type": "markdown",
   "id": "bb5e2b58",
   "metadata": {},
   "source": [
    "## Testing Circuits"
   ]
  },
  {
   "cell_type": "code",
   "execution_count": null,
   "id": "a1df06b9",
   "metadata": {},
   "outputs": [],
   "source": [
    "from qiskit import QuantumCircuit, Aer, assemble\n",
    "from math import pi\n",
    "import numpy as np\n",
    "from qiskit.visualization import plot_bloch_multivector, plot_histogram, array_to_latex"
   ]
  },
  {
   "cell_type": "code",
   "execution_count": null,
   "id": "24a2dafb",
   "metadata": {},
   "outputs": [],
   "source": [
    "qc = QuantumCircuit(2)\n",
    "qc.x(0)\n",
    "qc.x(1)\n",
    "\n",
    "qc.h(1)\n",
    "\n",
    "# qc.cx(0,1)\n",
    "\n",
    "# n=2\n",
    "# qc.h(range(n,2*n))\n",
    "# qc.x(range(n,2*n))\n",
    "\n",
    "# #It is difficult to do an actual multi-control-Z gate, so instead we make a MCX surrounded by H gates to transform it into a MCZ\n",
    "# qc.h(2*n-1)\n",
    "# qc.mct(list(range(n,2*n-1)), 2*n-1) \n",
    "# qc.h(2*n-1)\n",
    "\n",
    "# #     Same thing than above with a different function\n",
    "# #     gqc.h(2*n-1)\n",
    "# #     gqc.mcx(list(range(n,2*n-1)), 2*n-1, mode='noancilla')\n",
    "# #     gqc.h(2*n-1)\n",
    "\n",
    "# #The other symmetric side of the diffusor\n",
    "# qc.x(range(n,2*n))\n",
    "# qc.h(range(n,2*n))\n",
    "\n",
    "\n",
    "display(qc.draw())\n",
    "# See the result\n",
    "\n",
    "svsim = Aer.get_backend('aer_simulator')\n",
    "qc1 = qc.copy()\n",
    "qc1.save_statevector()\n",
    "final_state = svsim.run(qc1).result().get_statevector()\n",
    "display(array_to_latex(final_state, prefix=\"\\\\text{Statevector} = \"))\n",
    "print(final_state.real)"
   ]
  },
  {
   "cell_type": "code",
   "execution_count": null,
   "id": "d6aeca70",
   "metadata": {
    "scrolled": true
   },
   "outputs": [],
   "source": [
    "del(qc)\n",
    "qc = QuantumCircuit(1)\n",
    "qc.h(0)\n",
    "# qc.x(0)\n",
    "\n",
    "# qc.h(3)\n",
    "\n",
    "\n",
    "display(qc.draw())\n",
    "# See the result\n",
    "\n",
    "svsim = Aer.get_backend('aer_simulator')\n",
    "qc1 = qc.copy()\n",
    "qc1.save_statevector()\n",
    "final_state = svsim.run(qc1).result().get_statevector()\n",
    "display(array_to_latex(final_state, prefix=\"\\\\text{Statevector} = \"))\n",
    "print(final_state.real)"
   ]
  },
  {
   "cell_type": "markdown",
   "id": "4e0afd04",
   "metadata": {},
   "source": [
    "# CONSTRUCTING NEW GROVER CIRCUIT"
   ]
  },
  {
   "cell_type": "code",
   "execution_count": null,
   "id": "69561228",
   "metadata": {},
   "outputs": [],
   "source": []
  },
  {
   "cell_type": "code",
   "execution_count": 5,
   "id": "fad51b7b",
   "metadata": {
    "ExecuteTime": {
     "end_time": "2021-12-06T17:46:56.810920Z",
     "start_time": "2021-12-06T17:46:56.791993Z"
    }
   },
   "outputs": [
    {
     "name": "stdout",
     "output_type": "stream",
     "text": [
      "% \\documentclass[preview]{standalone}\n",
      "% If the image is too large to fit on this documentclass use\n",
      "\\documentclass[draft]{beamer}\n",
      "% img_width = 8, img_depth = 8\n",
      "\\usepackage[size=custom,height=12,width=19,scale=0.7]{beamerposter}\n",
      "% instead and customize the height and width (in cm) to fit.\n",
      "% Large images may run out of memory quickly.\n",
      "% To fix this use the LuaLaTeX compiler, which dynamically\n",
      "% allocates memory.\n",
      "\\usepackage[braket, qm]{qcircuit}\n",
      "\\usepackage{amsmath}\n",
      "\\pdfmapfile{+sansmathaccent.map}\n",
      "% \\usepackage[landscape]{geometry}\n",
      "% Comment out the above line if using the beamer documentclass.\n",
      "\\begin{document}\n",
      "\n",
      "\\begin{equation*}\n",
      "    \\Qcircuit @C=1.0em @R=0.2em @!R {\n",
      "\t \t\\lstick{ {count}_{0} :  } & \\gate{\\mathrm{H}} & \\ctrl{4} & \\qw & \\qw & \\qw & \\multigate{3}{\\mathrm{QFT†}} & \\qw & \\qw\\\\\n",
      "\t \t\\lstick{ {count}_{1} :  } & \\gate{\\mathrm{H}} & \\qw & \\ctrl{3} & \\qw & \\qw & \\ghost{\\mathrm{QFT†}} & \\qw & \\qw\\\\\n",
      "\t \t\\lstick{ {count}_{2} :  } & \\gate{\\mathrm{H}} & \\qw & \\qw & \\ctrl{2} & \\qw & \\ghost{\\mathrm{QFT†}} & \\qw & \\qw\\\\\n",
      "\t \t\\lstick{ {count}_{3} :  } & \\gate{\\mathrm{H}} & \\qw & \\qw & \\qw & \\ctrl{1} & \\ghost{\\mathrm{QFT†}} & \\qw & \\qw\\\\\n",
      "\t \t\\lstick{ {d}_{0} :  } & \\gate{\\mathrm{H}} & \\multigate{3}{\\mathrm{U}} & \\multigate{3}{\\mathrm{U}} & \\multigate{3}{\\mathrm{U}} & \\multigate{3}{\\mathrm{U}} & \\qw & \\qw & \\qw\\\\\n",
      "\t \t\\lstick{ {d}_{1} :  } & \\gate{\\mathrm{H}} & \\ghost{\\mathrm{U}} & \\ghost{\\mathrm{U}} & \\ghost{\\mathrm{U}} & \\ghost{\\mathrm{U}} & \\qw & \\qw & \\qw\\\\\n",
      "\t \t\\lstick{ {t}_{0} :  } & \\gate{\\mathrm{H}} & \\ghost{\\mathrm{U}} & \\ghost{\\mathrm{U}} & \\ghost{\\mathrm{U}} & \\ghost{\\mathrm{U}} & \\qw & \\qw & \\qw\\\\\n",
      "\t \t\\lstick{ {t}_{1} :  } & \\gate{\\mathrm{H}} & \\ghost{\\mathrm{U}} & \\ghost{\\mathrm{U}} & \\ghost{\\mathrm{U}} & \\ghost{\\mathrm{U}} & \\qw & \\qw & \\qw\\\\\n",
      "\t }\n",
      "\\end{equation*}\n",
      "\n",
      "\\end{document}\n"
     ]
    }
   ],
   "source": [
    "t = 4   # no. of counting qubits\n",
    "n = 2\n",
    "\n",
    "qcx = QuantumCircuit(4)\n",
    "a = qcx.to_gate()\n",
    "a.label = \"U\"\n",
    "\n",
    "cgrit = a.control()\n",
    "#with .control(nb_ctrl_qbits), the first values of the list are the controls\n",
    "qft_dagger = qft(t).to_gate().inverse()\n",
    "qft_dagger.label = \"QFT†\"\n",
    "\n",
    "qrc = QuantumRegister(t, 'count')\n",
    "qrd = QuantumRegister(n, 'd')\n",
    "qrt = QuantumRegister(n, 't')\n",
    "\n",
    "qc = QuantumCircuit(qrc, qrd, qrt)\n",
    "\n",
    "\n",
    "# Initialize all qubits to |+>\n",
    "for qubit in range(t+2*n):\n",
    "    qc.h(qubit)\n",
    "\n",
    "\n",
    "# Begin controlled Grover iterations\n",
    "iterations = 1\n",
    "for qubit in range(t):\n",
    "    qc.append(cgrit, [qubit] + [*range(t, t+2*n)])\n",
    "    \n",
    "# Do inverse QFT on counting qubits\n",
    "qc.append(qft_dagger, range(t))\n",
    "\n",
    "# Display the circuit\n",
    "print(qc.draw(output='latex_source',fold=-1))"
   ]
  },
  {
   "cell_type": "code",
   "execution_count": null,
   "id": "939b495f",
   "metadata": {},
   "outputs": [],
   "source": []
  }
 ],
 "metadata": {
  "kernelspec": {
   "display_name": "Python 3 (ipykernel)",
   "language": "python",
   "name": "python3"
  },
  "language_info": {
   "codemirror_mode": {
    "name": "ipython",
    "version": 3
   },
   "file_extension": ".py",
   "mimetype": "text/x-python",
   "name": "python",
   "nbconvert_exporter": "python",
   "pygments_lexer": "ipython3",
   "version": "3.9.5"
  },
  "toc": {
   "base_numbering": 1,
   "nav_menu": {},
   "number_sections": true,
   "sideBar": false,
   "skip_h1_title": false,
   "title_cell": "Table of Contents",
   "title_sidebar": "Contents",
   "toc_cell": true,
   "toc_position": {},
   "toc_section_display": true,
   "toc_window_display": false
  },
  "varInspector": {
   "cols": {
    "lenName": 16,
    "lenType": 16,
    "lenVar": 40
   },
   "kernels_config": {
    "python": {
     "delete_cmd_postfix": "",
     "delete_cmd_prefix": "del ",
     "library": "var_list.py",
     "varRefreshCmd": "print(var_dic_list())"
    },
    "r": {
     "delete_cmd_postfix": ") ",
     "delete_cmd_prefix": "rm(",
     "library": "var_list.r",
     "varRefreshCmd": "cat(var_dic_list()) "
    }
   },
   "types_to_exclude": [
    "module",
    "function",
    "builtin_function_or_method",
    "instance",
    "_Feature"
   ],
   "window_display": false
  }
 },
 "nbformat": 4,
 "nbformat_minor": 5
}
