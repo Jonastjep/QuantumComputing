{
 "cells": [
  {
   "cell_type": "markdown",
   "metadata": {
    "toc": true
   },
   "source": [
    "<h1>Table of Contents<span class=\"tocSkip\"></span></h1>\n",
    "<div class=\"toc\"><ul class=\"toc-item\"><li><span><a href=\"#Hackeando-el-Periodismo-con-el-notebook-de-IPython\" data-toc-modified-id=\"Hackeando-el-Periodismo-con-el-notebook-de-IPython-1\"><span class=\"toc-item-num\">1&nbsp;&nbsp;</span>Hackeando el Periodismo con el notebook de IPython</a></span></li><li><span><a href=\"#Damián-Avila\" data-toc-modified-id=\"Damián-Avila-2\"><span class=\"toc-item-num\">2&nbsp;&nbsp;</span><a href=\"http://www.damian.oquanta.info\" rel=\"nofollow\" target=\"_blank\">Damián Avila</a></a></span></li><li><span><a href=\"#@damian_avila\" data-toc-modified-id=\"@damian_avila-3\"><span class=\"toc-item-num\">3&nbsp;&nbsp;</span><a href=\"http://twitter.com/damian_avila\" rel=\"nofollow\" target=\"_blank\">@damian_avila</a></a></span></li><li><span><a href=\"#Github\" data-toc-modified-id=\"Github-4\"><span class=\"toc-item-num\">4&nbsp;&nbsp;</span><a href=\"https://github.com/damianavila\" rel=\"nofollow\" target=\"_blank\">Github</a></a></span></li><li><span><a href=\"#Email:-info@oquanta.info\" data-toc-modified-id=\"Email:-info@oquanta.info-5\"><span class=\"toc-item-num\">5&nbsp;&nbsp;</span>Email: <a href=\"mailto:info@oquanta.info\" rel=\"nofollow\" target=\"_blank\">info@oquanta.info</a></a></span><ul class=\"toc-item\"><li><span><a href=\"#http://damianavila.github.io/hackperiodismo\" data-toc-modified-id=\"http://damianavila.github.io/hackperiodismo-5.1\"><span class=\"toc-item-num\">5.1&nbsp;&nbsp;</span><a href=\"http://damianavila.github.io/hackperiodismo\" rel=\"nofollow\" target=\"_blank\">http://damianavila.github.io/hackperiodismo</a></a></span></li><li><span><a href=\"#1.-&quot;Workflow&quot;-en-periodismo-de-datos.\" data-toc-modified-id=\"1.-&quot;Workflow&quot;-en-periodismo-de-datos.-5.2\"><span class=\"toc-item-num\">5.2&nbsp;&nbsp;</span>1. \"Workflow\" en periodismo de datos.</a></span><ul class=\"toc-item\"><li><span><a href=\"#¿Qué-hace-un-periodista-de-datos?\" data-toc-modified-id=\"¿Qué-hace-un-periodista-de-datos?-5.2.1\"><span class=\"toc-item-num\">5.2.1&nbsp;&nbsp;</span>¿Qué hace un periodista de datos?</a></span></li><li><span><a href=\"#¿Qué-elementos-contiene-una-historia?\" data-toc-modified-id=\"¿Qué-elementos-contiene-una-historia?-5.2.2\"><span class=\"toc-item-num\">5.2.2&nbsp;&nbsp;</span>¿Qué elementos contiene una historia?</a></span></li></ul></li><li><span><a href=\"#2.-El-notebook-the-IPython.\" data-toc-modified-id=\"2.-El-notebook-the-IPython.-5.3\"><span class=\"toc-item-num\">5.3&nbsp;&nbsp;</span>2. El notebook the IPython.</a></span></li><li><span><a href=\"#www.ipython.org\" data-toc-modified-id=\"www.ipython.org-5.4\"><span class=\"toc-item-num\">5.4&nbsp;&nbsp;</span><a href=\"http://www.ipython.org\" rel=\"nofollow\" target=\"_blank\">www.ipython.org</a></a></span><ul class=\"toc-item\"><li><span><a href=\"#¿Qué-es-el--notebook-the-IPython?\" data-toc-modified-id=\"¿Qué-es-el--notebook-the-IPython?-5.4.1\"><span class=\"toc-item-num\">5.4.1&nbsp;&nbsp;</span>¿Qué es el  notebook the IPython?</a></span></li><li><span><a href=\"#¿Cuáles-son-sus-características-principales?\" data-toc-modified-id=\"¿Cuáles-son-sus-características-principales?-5.4.2\"><span class=\"toc-item-num\">5.4.2&nbsp;&nbsp;</span>¿Cuáles son sus características principales?</a></span></li></ul></li><li><span><a href=\"#2.-Instalando-el-notebook-de-IPython.\" data-toc-modified-id=\"2.-Instalando-el-notebook-de-IPython.-5.5\"><span class=\"toc-item-num\">5.5&nbsp;&nbsp;</span>2. Instalando el notebook de IPython.</a></span><ul class=\"toc-item\"><li><span><a href=\"#Interfase-de-usuario.\" data-toc-modified-id=\"Interfase-de-usuario.-5.5.1\"><span class=\"toc-item-num\">5.5.1&nbsp;&nbsp;</span>Interfase de usuario.</a></span></li><li><span><a href=\"#Tipo-de-celdas\" data-toc-modified-id=\"Tipo-de-celdas-5.5.2\"><span class=\"toc-item-num\">5.5.2&nbsp;&nbsp;</span>Tipo de celdas</a></span></li><li><span><a href=\"#&quot;Shortcuts&quot;-del-teclado\" data-toc-modified-id=\"&quot;Shortcuts&quot;-del-teclado-5.5.3\"><span class=\"toc-item-num\">5.5.3&nbsp;&nbsp;</span>\"Shortcuts\" del teclado</a></span></li></ul></li><li><span><a href=\"#3.-Usando-el-notebook-de-IPython.\" data-toc-modified-id=\"3.-Usando-el-notebook-de-IPython.-5.6\"><span class=\"toc-item-num\">5.6&nbsp;&nbsp;</span>3. Usando el notebook de IPython.</a></span><ul class=\"toc-item\"><li><span><a href=\"#Trabajar-con-datos,-códido-y-correrlo...\" data-toc-modified-id=\"Trabajar-con-datos,-códido-y-correrlo...-5.6.1\"><span class=\"toc-item-num\">5.6.1&nbsp;&nbsp;</span>Trabajar con datos, códido y correrlo...</a></span></li><li><span><a href=\"#Documentar-el-flujo-de-trabajo.\" data-toc-modified-id=\"Documentar-el-flujo-de-trabajo.-5.6.2\"><span class=\"toc-item-num\">5.6.2&nbsp;&nbsp;</span>Documentar el flujo de trabajo.</a></span></li><li><span><a href=\"#Si-el-navegador-puede-mostrarlo...\" data-toc-modified-id=\"Si-el-navegador-puede-mostrarlo...-5.6.3\"><span class=\"toc-item-num\">5.6.3&nbsp;&nbsp;</span>Si el navegador puede mostrarlo...</a></span></li><li><span><a href=\"#Cargar-código-remoto\" data-toc-modified-id=\"Cargar-código-remoto-5.6.4\"><span class=\"toc-item-num\">5.6.4&nbsp;&nbsp;</span>Cargar código remoto</a></span></li><li><span><a href=\"#Reendeo-de-LaTeX:\" data-toc-modified-id=\"Reendeo-de-LaTeX:-5.6.5\"><span class=\"toc-item-num\">5.6.5&nbsp;&nbsp;</span>Reendeo de LaTeX:</a></span></li><li><span><a href=\"#Pandas\" data-toc-modified-id=\"Pandas-5.6.6\"><span class=\"toc-item-num\">5.6.6&nbsp;&nbsp;</span>Pandas</a></span></li></ul></li><li><span><a href=\"#4.-Discusión.\" data-toc-modified-id=\"4.-Discusión.-5.7\"><span class=\"toc-item-num\">5.7&nbsp;&nbsp;</span>4. Discusión.</a></span></li><li><span><a href=\"#5.-El-fututo-del-notebook-the-IPython\" data-toc-modified-id=\"5.-El-fututo-del-notebook-the-IPython-5.8\"><span class=\"toc-item-num\">5.8&nbsp;&nbsp;</span>5. El fututo del notebook the IPython</a></span></li></ul></li><li><span><a href=\"#GRACIAS!!\" data-toc-modified-id=\"GRACIAS!!-6\"><span class=\"toc-item-num\">6&nbsp;&nbsp;</span>GRACIAS!!</a></span></li><li><span><a href=\"#Damián-Avila\" data-toc-modified-id=\"Damián-Avila-7\"><span class=\"toc-item-num\">7&nbsp;&nbsp;</span><a href=\"http://www.damian.oquanta.info\" rel=\"nofollow\" target=\"_blank\">Damián Avila</a></a></span></li><li><span><a href=\"#@damian_avila\" data-toc-modified-id=\"@damian_avila-8\"><span class=\"toc-item-num\">8&nbsp;&nbsp;</span><a href=\"http://twitter.com/damian_avila\" rel=\"nofollow\" target=\"_blank\">@damian_avila</a></a></span></li><li><span><a href=\"#Github\" data-toc-modified-id=\"Github-9\"><span class=\"toc-item-num\">9&nbsp;&nbsp;</span><a href=\"https://github.com/damianavila\" rel=\"nofollow\" target=\"_blank\">Github</a></a></span></li><li><span><a href=\"#Email:-info@oquanta.info\" data-toc-modified-id=\"Email:-info@oquanta.info-10\"><span class=\"toc-item-num\">10&nbsp;&nbsp;</span>Email: <a href=\"mailto:info@oquanta.info\" rel=\"nofollow\" target=\"_blank\">info@oquanta.info</a></a></span></li></ul></div>"
   ]
  },
  {
   "cell_type": "markdown",
   "id": "b43be806",
   "metadata": {
    "internals": {
     "slide_helper": "subslide_end",
     "slide_type": "subslide"
    },
    "slide_helper": "subslide_end",
    "slideshow": {
     "slide_type": "slide"
    }
   },
   "source": [
    "# Hackeando el Periodismo con el notebook de IPython"
   ]
  },
  {
   "cell_type": "markdown",
   "id": "106e797d",
   "metadata": {
    "internals": {
     "slide_helper": "subslide_end",
     "slide_type": "subslide"
    },
    "slide_helper": "subslide_end",
    "slideshow": {
     "slide_type": "subslide"
    }
   },
   "source": [
    "# [Damián Avila](http://www.damian.oquanta.info)\n",
    "\n",
    "# [@damian_avila](http://twitter.com/damian_avila)\n",
    "\n",
    "# [Github](https://github.com/damianavila)\n",
    "\n",
    "# Email: info@oquanta.info"
   ]
  },
  {
   "cell_type": "markdown",
   "id": "eaacbb35",
   "metadata": {
    "slideshow": {
     "slide_type": "subslide"
    }
   },
   "source": [
    "## http://damianavila.github.io/hackperiodismo"
   ]
  },
  {
   "cell_type": "markdown",
   "id": "b30b88c2",
   "metadata": {
    "internals": {
     "slide_helper": "subslide_end",
     "slide_type": "subslide"
    },
    "slide_helper": "subslide_end",
    "slideshow": {
     "slide_type": "slide"
    }
   },
   "source": [
    "## 1. \"Workflow\" en periodismo de datos."
   ]
  },
  {
   "cell_type": "markdown",
   "id": "8d15f301",
   "metadata": {
    "internals": {
     "slide_helper": "subslide_end",
     "slide_type": "subslide"
    },
    "slide_helper": "subslide_end",
    "slideshow": {
     "slide_type": "subslide"
    }
   },
   "source": [
    "### ¿Qué hace un periodista de datos?"
   ]
  },
  {
   "cell_type": "markdown",
   "id": "d66b9c60",
   "metadata": {
    "internals": {
     "slide_helper": "subslide_end",
     "slide_type": "subslide"
    },
    "slide_helper": "subslide_end",
    "slideshow": {
     "slide_type": "subslide"
    }
   },
   "source": [
    "1- **Observa** y **elige** un hecho concreto de la realidad.\n",
    "\n",
    "2- Obtiene **datos** a partir del hecho elegido.\n",
    "\n",
    "3- **Procesa** los datos obtenidos\n",
    "\n",
    "4- **Visualiza** los datos procesados."
   ]
  },
  {
   "cell_type": "markdown",
   "id": "09e74a3e",
   "metadata": {
    "internals": {
     "slide_helper": "subslide_end",
     "slide_type": "subslide"
    },
    "slide_helper": "subslide_end",
    "slideshow": {
     "slide_type": "subslide"
    }
   },
   "source": [
    "5 - Genera un **historia** a partir de los datos procesados:\n",
    "\n",
    "  * Propone un **modelo** para explicar los datos procesados.\n",
    "  * Genera **predicciones** a partir del modelo propuesto."
   ]
  },
  {
   "cell_type": "markdown",
   "id": "74e7d9ea",
   "metadata": {
    "internals": {
     "slide_helper": "subslide_end",
     "slide_type": "subslide"
    },
    "slide_helper": "slide_end",
    "slideshow": {
     "slide_type": "subslide"
    }
   },
   "source": [
    "6- **Comunica** la historia:\n",
    "\n",
    "  * **datos**\n",
    "  * **modelo**\n",
    "  * **predicciones**\n",
    "  * **interpretración**"
   ]
  },
  {
   "cell_type": "markdown",
   "id": "c91d4c4c",
   "metadata": {
    "internals": {
     "slide_helper": "subslide_end",
     "slide_type": "subslide"
    },
    "slide_helper": "subslide_end",
    "slideshow": {
     "slide_type": "slide"
    }
   },
   "source": [
    "### ¿Qué elementos contiene una historia?"
   ]
  },
  {
   "cell_type": "markdown",
   "id": "41ccd4fe",
   "metadata": {
    "internals": {
     "slide_helper": "subslide_end",
     "slide_type": "subslide"
    },
    "slide_helper": "slide_end",
    "slideshow": {
     "slide_type": "subslide"
    }
   },
   "source": [
    "Una **historia** contiene:\n",
    "\n",
    "* Texto\n",
    "* Ecuaciones\n",
    "* Imágenes y video\n",
    "* Figuras u otras visualizationes"
   ]
  },
  {
   "cell_type": "markdown",
   "id": "67005c5c",
   "metadata": {
    "internals": {
     "slide_type": "subslide"
    },
    "slideshow": {
     "slide_type": "slide"
    }
   },
   "source": [
    "## 2. El notebook the IPython. "
   ]
  },
  {
   "cell_type": "markdown",
   "id": "ac4f618a",
   "metadata": {
    "internals": {},
    "slideshow": {
     "slide_type": "-"
    }
   },
   "source": [
    "<img src=\"files/figs/logo.png\" />"
   ]
  },
  {
   "cell_type": "markdown",
   "id": "3e51b25f",
   "metadata": {
    "internals": {
     "slide_helper": "subslide_end"
    },
    "slide_helper": "subslide_end",
    "slideshow": {
     "slide_type": "-"
    }
   },
   "source": [
    "## www.ipython.org"
   ]
  },
  {
   "cell_type": "markdown",
   "id": "0c634b43",
   "metadata": {
    "internals": {
     "slide_type": "subslide"
    },
    "slideshow": {
     "slide_type": "subslide"
    }
   },
   "source": [
    "### ¿Qué es el  notebook the IPython?"
   ]
  },
  {
   "cell_type": "markdown",
   "id": "b28d9833",
   "metadata": {
    "internals": {
     "slide_helper": "subslide_end"
    },
    "slide_helper": "subslide_end",
    "slideshow": {
     "slide_type": "-"
    }
   },
   "source": [
    "Una herramienta para contar **historias**."
   ]
  },
  {
   "cell_type": "markdown",
   "id": "ac7dc3cb",
   "metadata": {
    "internals": {
     "slide_type": "subslide"
    },
    "slideshow": {
     "slide_type": "subslide"
    }
   },
   "source": [
    "Técnicamente es una documento basado de JSON:"
   ]
  },
  {
   "cell_type": "code",
   "execution_count": 1,
   "id": "f70b8d46",
   "metadata": {
    "internals": {},
    "slideshow": {
     "slide_type": "-"
    }
   },
   "outputs": [],
   "source": [
    "from IPython.nbformat import current\n",
    "with open('Hackeando el periodismo.ipynb') as f:\n",
    "    nb = current.read(f,'json')"
   ]
  },
  {
   "cell_type": "code",
   "execution_count": 2,
   "id": "bb7b4f57",
   "metadata": {
    "internals": {
     "slide_helper": "subslide_end"
    },
    "slide_helper": "subslide_end",
    "slideshow": {
     "slide_type": "-"
    }
   },
   "outputs": [
    {
     "data": {
      "text/plain": [
       "[{u'cell_type': u'heading',\n",
       "  u'level': 2,\n",
       "  u'metadata': {u'internals': {u'slide_type': u'subslide'},\n",
       "   u'slideshow': {u'slide_type': u'slide'}},\n",
       "  u'source': u'2. El notebook the IPython. '},\n",
       " {u'cell_type': u'markdown',\n",
       "  u'metadata': {u'internals': {}, u'slideshow': {u'slide_type': u'-'}},\n",
       "  u'source': u'<img src=\"/files/figs/logo.png\" />'},\n",
       " {u'cell_type': u'markdown',\n",
       "  u'metadata': {u'internals': {u'slide_helper': u'subslide_end'},\n",
       "   u'slide_helper': u'subslide_end',\n",
       "   u'slideshow': {u'slide_type': u'-'}},\n",
       "  u'source': u'## www.ipython.org'},\n",
       " {u'cell_type': u'heading',\n",
       "  u'level': 3,\n",
       "  u'metadata': {u'internals': {u'slide_type': u'subslide'},\n",
       "   u'slideshow': {u'slide_type': u'subslide'}},\n",
       "  u'source': u'\\xbfQu\\xe9 es el  notebook the IPython?'},\n",
       " {u'cell_type': u'markdown',\n",
       "  u'metadata': {u'internals': {u'slide_helper': u'subslide_end'},\n",
       "   u'slide_helper': u'subslide_end',\n",
       "   u'slideshow': {u'slide_type': u'-'}},\n",
       "  u'source': u'Una herramienta para contar **historias**.'},\n",
       " {u'cell_type': u'markdown',\n",
       "  u'metadata': {u'internals': {u'slide_type': u'subslide'},\n",
       "   u'slideshow': {u'slide_type': u'subslide'}},\n",
       "  u'source': u'T\\xe9cnicamente es una documento basado de JSON:'},\n",
       " {u'cell_type': u'code',\n",
       "  u'collapsed': False,\n",
       "  u'input': u\"from IPython.nbformat import current\\nwith open('Hackeando el periodismo.ipynb') as f:\\n    nb = current.read(f,'json')\",\n",
       "  u'language': u'python',\n",
       "  u'metadata': {u'internals': {}, u'slideshow': {u'slide_type': u'-'}},\n",
       "  u'outputs': [],\n",
       "  u'prompt_number': 121},\n",
       " {u'cell_type': u'code',\n",
       "  u'collapsed': False,\n",
       "  u'input': u'nb.worksheets[0].cells[10:20]',\n",
       "  u'language': u'python',\n",
       "  u'metadata': {u'internals': {u'slide_helper': u'subslide_end'},\n",
       "   u'slide_helper': u'subslide_end',\n",
       "   u'slideshow': {u'slide_type': u'-'}},\n",
       "  u'outputs': [{u'metadata': {},\n",
       "    u'output_type': u'pyout',\n",
       "    u'prompt_number': 122,\n",
       "    u'text': u'[{u\\'cell_type\\': u\\'heading\\',\\n  u\\'level\\': 2,\\n  u\\'metadata\\': {u\\'internals\\': {u\\'slide_type\\': u\\'subslide\\'},\\n   u\\'slideshow\\': {u\\'slide_type\\': u\\'slide\\'}},\\n  u\\'source\\': u\\'2. El notebook the IPython. \\'},\\n {u\\'cell_type\\': u\\'markdown\\',\\n  u\\'metadata\\': {u\\'internals\\': {}, u\\'slideshow\\': {u\\'slide_type\\': u\\'-\\'}},\\n  u\\'source\\': u\\'<img src=\"/files/figs/logo.png\" />\\'},\\n {u\\'cell_type\\': u\\'markdown\\',\\n  u\\'metadata\\': {u\\'internals\\': {u\\'slide_helper\\': u\\'subslide_end\\'},\\n   u\\'slide_helper\\': u\\'subslide_end\\',\\n   u\\'slideshow\\': {u\\'slide_type\\': u\\'-\\'}},\\n  u\\'source\\': u\\'## www.ipython.org\\'},\\n {u\\'cell_type\\': u\\'heading\\',\\n  u\\'level\\': 3,\\n  u\\'metadata\\': {u\\'internals\\': {u\\'slide_type\\': u\\'subslide\\'},\\n   u\\'slideshow\\': {u\\'slide_type\\': u\\'subslide\\'}},\\n  u\\'source\\': u\\'\\\\xbfQu\\\\xe9 es el  notebook the IPython?\\'},\\n {u\\'cell_type\\': u\\'markdown\\',\\n  u\\'metadata\\': {u\\'internals\\': {u\\'slide_helper\\': u\\'subslide_end\\'},\\n   u\\'slide_helper\\': u\\'subslide_end\\',\\n   u\\'slideshow\\': {u\\'slide_type\\': u\\'-\\'}},\\n  u\\'source\\': u\\'Una herramienta para contar **historias**.\\'},\\n {u\\'cell_type\\': u\\'markdown\\',\\n  u\\'metadata\\': {u\\'internals\\': {u\\'slide_type\\': u\\'subslide\\'},\\n   u\\'slideshow\\': {u\\'slide_type\\': u\\'subslide\\'}},\\n  u\\'source\\': u\\'T\\\\xe9cnicamente es una documento basado de JSON:\\'},\\n {u\\'cell_type\\': u\\'code\\',\\n  u\\'collapsed\\': False,\\n  u\\'input\\': u\"from IPython.nbformat import current\\\\nwith open(\\'Hackeando el periodismo.ipynb\\') as f:\\\\n    nb = current.read(f,\\'json\\')\",\\n  u\\'language\\': u\\'python\\',\\n  u\\'metadata\\': {u\\'internals\\': {}, u\\'slideshow\\': {u\\'slide_type\\': u\\'-\\'}},\\n  u\\'outputs\\': []},\\n {u\\'cell_type\\': u\\'code\\',\\n  u\\'collapsed\\': False,\\n  u\\'input\\': u\\'nb.worksheets[0].cells[10:20]\\',\\n  u\\'language\\': u\\'python\\',\\n  u\\'metadata\\': {u\\'internals\\': {u\\'slide_helper\\': u\\'subslide_end\\'},\\n   u\\'slide_helper\\': u\\'subslide_end\\',\\n   u\\'slideshow\\': {u\\'slide_type\\': u\\'-\\'}},\\n  u\\'outputs\\': []},\\n {u\\'cell_type\\': u\\'markdown\\',\\n  u\\'metadata\\': {u\\'internals\\': {u\\'slide_helper\\': u\\'subslide_end\\',\\n    u\\'slide_type\\': u\\'subslide\\'},\\n   u\\'slide_helper\\': u\\'subslide_end\\',\\n   u\\'slideshow\\': {u\\'slide_type\\': u\\'subslide\\'}},\\n  u\\'source\\': u\\'* Genera archivos con la extensi\\\\xf3n `.ipynb` que se guardan en el directorio local.\\\\n* En el notebook podemos almacenar:\\\\n        * C\\\\xf3digo\\\\n        * Texto (Markdown)\\\\n        * Equaciones (LaTeX)\\\\n        * Im\\\\xe1genes\\\\n        * Links a videos\\\\n        * HTML\\\\n* Puede ser controlado por versiones.\\\\n* Puede verse sin tener IPython instalado usando NBViewer: http://nbviewer.ipython.org/.\\\\n* Puede ser exportado a otros formatos: Slides, HTML, Markdown, reStructured Text, LaTeX y PDF.\\'},\\n {u\\'cell_type\\': u\\'heading\\',\\n  u\\'level\\': 3,\\n  u\\'metadata\\': {u\\'internals\\': {u\\'slide_type\\': u\\'subslide\\'},\\n   u\\'slideshow\\': {u\\'slide_type\\': u\\'subslide\\'}},\\n  u\\'source\\': u\\'\\\\xbfCu\\\\xe1les son sus caracter\\\\xedsticas principales?\\'}]'}],\n",
       "  u'prompt_number': 122},\n",
       " {u'cell_type': u'markdown',\n",
       "  u'metadata': {u'internals': {u'slide_helper': u'subslide_end',\n",
       "    u'slide_type': u'subslide'},\n",
       "   u'slide_helper': u'subslide_end',\n",
       "   u'slideshow': {u'slide_type': u'subslide'}},\n",
       "  u'source': u'* Genera archivos con la extensi\\xf3n `.ipynb` que se guardan en el directorio local.\\n* En el notebook podemos almacenar:\\n        * C\\xf3digo\\n        * Texto (Markdown)\\n        * Equaciones (LaTeX)\\n        * Im\\xe1genes\\n        * Links a videos\\n        * HTML\\n* Puede ser controlado por versiones.\\n* Puede verse sin tener IPython instalado usando NBViewer: http://nbviewer.ipython.org/.\\n* Puede ser exportado a otros formatos: Slides, HTML, Markdown, reStructured Text, LaTeX y PDF.'},\n",
       " {u'cell_type': u'heading',\n",
       "  u'level': 3,\n",
       "  u'metadata': {u'internals': {u'slide_type': u'subslide'},\n",
       "   u'slideshow': {u'slide_type': u'subslide'}},\n",
       "  u'source': u'\\xbfCu\\xe1les son sus caracter\\xedsticas principales?'}]"
      ]
     },
     "execution_count": 2,
     "metadata": {},
     "output_type": "execute_result"
    }
   ],
   "source": [
    "nb.worksheets[0].cells[10:20]"
   ]
  },
  {
   "cell_type": "markdown",
   "id": "2c1d6611",
   "metadata": {
    "internals": {
     "slide_helper": "subslide_end",
     "slide_type": "subslide"
    },
    "slide_helper": "subslide_end",
    "slideshow": {
     "slide_type": "subslide"
    }
   },
   "source": [
    "* Genera archivos con la extensión `.ipynb` que se guardan en el directorio local.\n",
    "* En el notebook podemos almacenar:\n",
    "        * Código\n",
    "        * Texto (Markdown)\n",
    "        * Equaciones (LaTeX)\n",
    "        * Imágenes\n",
    "        * Links a videos\n",
    "        * HTML\n",
    "* Puede ser controlado por versiones.\n",
    "* Puede verse sin tener IPython instalado usando NBViewer: http://nbviewer.ipython.org/.\n",
    "* Puede ser exportado a otros formatos: Slides, HTML, Markdown, reStructured Text, LaTeX y PDF."
   ]
  },
  {
   "cell_type": "markdown",
   "id": "842dee82",
   "metadata": {
    "internals": {
     "slide_type": "subslide"
    },
    "slideshow": {
     "slide_type": "subslide"
    }
   },
   "source": [
    "### ¿Cuáles son sus características principales?"
   ]
  },
  {
   "cell_type": "markdown",
   "id": "7cf1b782",
   "metadata": {
    "internals": {
     "slide_helper": "subslide_end"
    },
    "slide_helper": "slide_end",
    "slideshow": {
     "slide_type": "-"
    }
   },
   "source": [
    " \n",
    "* Interactivo\n",
    "* Exploratorio\n",
    "* Colaborativo\n",
    "* Abierto\n",
    "* Reproducible"
   ]
  },
  {
   "cell_type": "markdown",
   "id": "9f5b8b61",
   "metadata": {
    "internals": {
     "slide_helper": "subslide_end",
     "slide_type": "subslide"
    },
    "slide_helper": "subslide_end",
    "slideshow": {
     "slide_type": "slide"
    }
   },
   "source": [
    "## 2. Instalando el notebook de IPython."
   ]
  },
  {
   "cell_type": "markdown",
   "id": "441e004c",
   "metadata": {
    "internals": {
     "slide_helper": "subslide_end",
     "slide_type": "subslide"
    },
    "slide_helper": "subslide_end",
    "slideshow": {
     "slide_type": "subslide"
    }
   },
   "source": [
    "¿Qué necesito para hacerlo andar?\n",
    "\n",
    "* Tornado\n",
    "* ZeroMQ/PyZMQ\n",
    "* Jinja2\n",
    "* Chrome, Firefox, Safari (WebSockets, Flexible Box Model)\n",
    "* Matplotlib para hacer figuras\n",
    "* En linux, mac `pip install ipython[notebook]` o desde el `source`.\n",
    "* Instalación fácil (incluyendo instaladores para win): Canopy, Anaconda, Python XY, WinPython, Pyzo\n",
    "* Online: Wakari"
   ]
  },
  {
   "cell_type": "markdown",
   "id": "a3fb68dc",
   "metadata": {
    "internals": {
     "slide_type": "subslide"
    },
    "slideshow": {
     "slide_type": "subslide"
    }
   },
   "source": [
    "### Interfase de usuario."
   ]
  },
  {
   "cell_type": "markdown",
   "id": "3e1d61fa",
   "metadata": {
    "internals": {
     "slide_helper": "subslide_end"
    },
    "slide_helper": "subslide_end",
    "slideshow": {
     "slide_type": "-"
    }
   },
   "source": [
    "* Dashboard\n",
    "* Área del notebook y celdas\n",
    "* Menu\n",
    "* Barra de herramientas"
   ]
  },
  {
   "cell_type": "markdown",
   "id": "3d0d3ae8",
   "metadata": {
    "internals": {
     "slide_type": "subslide"
    },
    "slideshow": {
     "slide_type": "subslide"
    }
   },
   "source": [
    "### Tipo de celdas"
   ]
  },
  {
   "cell_type": "markdown",
   "id": "17c2af44",
   "metadata": {
    "internals": {
     "slide_helper": "subslide_end"
    },
    "slide_helper": "subslide_end",
    "slideshow": {
     "slide_type": "-"
    }
   },
   "source": [
    "* Code\n",
    "* Markdown\n",
    "* Raw text\n",
    "* Heading"
   ]
  },
  {
   "cell_type": "markdown",
   "id": "32f8e653",
   "metadata": {
    "internals": {
     "slide_type": "subslide"
    },
    "slideshow": {
     "slide_type": "subslide"
    }
   },
   "source": [
    "### \"Shortcuts\" del teclado"
   ]
  },
  {
   "cell_type": "markdown",
   "id": "b8c4585b",
   "metadata": {
    "internals": {
     "slide_helper": "subslide_end"
    },
    "slide_helper": "slide_end",
    "slideshow": {
     "slide_type": "-"
    }
   },
   "source": [
    "* `Shift-Enter` para ejecutar una celda\n",
    "* `Ctrl-Enter` para ejecutar una celda y quedarse en la misma\n",
    "* Todas las otras \"shortcuts\" tienen la forma: `Ctrl-m ?`\n",
    "* Si querés ver las \"shortcuts\" disponibles: `Ctrl-m h`"
   ]
  },
  {
   "cell_type": "markdown",
   "id": "abf23402",
   "metadata": {
    "internals": {
     "slide_helper": "subslide_end",
     "slide_type": "subslide"
    },
    "slide_helper": "subslide_end",
    "slideshow": {
     "slide_type": "slide"
    }
   },
   "source": [
    "## 3. Usando el notebook de IPython."
   ]
  },
  {
   "cell_type": "markdown",
   "id": "e79e2f9a",
   "metadata": {
    "internals": {
     "slide_type": "subslide"
    },
    "slideshow": {
     "slide_type": "subslide"
    }
   },
   "source": [
    "### Trabajar con datos, códido y correrlo..."
   ]
  },
  {
   "cell_type": "markdown",
   "id": "40be5e56",
   "metadata": {
    "internals": {},
    "slideshow": {
     "slide_type": "-"
    }
   },
   "source": [
    "Por ejemplo, puedo generar figuras programáticamente utilizando matplotlib:"
   ]
  },
  {
   "cell_type": "code",
   "execution_count": 3,
   "id": "f68a2fbe",
   "metadata": {
    "collapsed": true,
    "internals": {},
    "slideshow": {
     "slide_type": "-"
    }
   },
   "outputs": [
    {
     "name": "stderr",
     "output_type": "stream",
     "text": [
      "/home/damian/.virtualenvs/blog/local/lib/python2.7/site-packages/pkg_resources.py:1054: UserWarning: /home/damian/.python-eggs is writable by group/others and vulnerable to attack when used with get_resource_filename. Consider a more secure location (set with .set_extraction_path or the PYTHON_EGG_CACHE environment variable).\n",
      "  warnings.warn(msg, UserWarning)\n"
     ]
    }
   ],
   "source": [
    "%matplotlib inline\n",
    "import numpy as np\n",
    "import matplotlib.pyplot as plt"
   ]
  },
  {
   "cell_type": "code",
   "execution_count": 4,
   "id": "0ba60967",
   "metadata": {
    "internals": {
     "slide_helper": "subslide_end"
    },
    "slide_helper": "subslide_end",
    "slideshow": {
     "slide_type": "-"
    }
   },
   "outputs": [
    {
     "data": {
      "image/png": "[encoded data removed]",
      "text/plain": [
       "<matplotlib.figure.Figure at 0x3ea2310>"
      ]
     },
     "metadata": {},
     "output_type": "display_data"
    }
   ],
   "source": [
    "x = np.linspace(0, 3*np.pi, 500)\n",
    "y = np.sin(x**2)\n",
    "\n",
    "fig = plt.figure()\n",
    "\n",
    "axes = fig.add_axes([0.1, 0.1, 0.8, 0.8])\n",
    "\n",
    "axes.plot(x, y, 'r')\n",
    "\n",
    "axes.set_xlabel('x')\n",
    "axes.set_ylabel('sin x^2')\n",
    "axes.set_title('Una figura simple');"
   ]
  },
  {
   "cell_type": "markdown",
   "id": "fe1807ea",
   "metadata": {
    "internals": {
     "slide_type": "subslide"
    },
    "slideshow": {
     "slide_type": "subslide"
    }
   },
   "source": [
    "Puedo probar \"pedacitos\" de código (por ejemplo de tutoriales):"
   ]
  },
  {
   "cell_type": "code",
   "execution_count": 5,
   "id": "b3bfd367",
   "metadata": {
    "internals": {
     "slide_helper": "subslide_end"
    },
    "slide_helper": "subslide_end",
    "slideshow": {
     "slide_type": "-"
    }
   },
   "outputs": [
    {
     "name": "stdout",
     "output_type": "stream",
     "text": [
      "Be careful not to fall off!\n"
     ]
    }
   ],
   "source": [
    ">>> the_world_is_flat = 1\n",
    ">>> if the_world_is_flat:\n",
    "...     print \"Be careful not to fall off!\""
   ]
  },
  {
   "cell_type": "markdown",
   "id": "8eb51076",
   "metadata": {
    "internals": {
     "slide_type": "subslide"
    },
    "slideshow": {
     "slide_type": "subslide"
    }
   },
   "source": [
    "Puedo ver los errores o tracebacks de una manera simple y visualmente informativa:"
   ]
  },
  {
   "cell_type": "code",
   "execution_count": 6,
   "id": "0a99a9e1",
   "metadata": {
    "internals": {},
    "slideshow": {
     "slide_type": "-"
    }
   },
   "outputs": [
    {
     "name": "stderr",
     "output_type": "stream",
     "text": [
      "ERROR: File `u'non_existent_file.py'` not found.\n"
     ]
    }
   ],
   "source": [
    "%run non_existent_file"
   ]
  },
  {
   "cell_type": "code",
   "execution_count": 7,
   "id": "11cd0763",
   "metadata": {
    "internals": {
     "slide_helper": "subslide_end"
    },
    "slide_helper": "subslide_end",
    "slideshow": {
     "slide_type": "-"
    }
   },
   "outputs": [
    {
     "ename": "ZeroDivisionError",
     "evalue": "integer division or modulo by zero",
     "output_type": "error",
     "traceback": [
      "\u001b[1;31m---------------------------------------------------------------------------\u001b[0m\n\u001b[1;31mZeroDivisionError\u001b[0m                         Traceback (most recent call last)",
      "\u001b[1;32m<ipython-input-7-dc39888fd1d2>\u001b[0m in \u001b[0;36m<module>\u001b[1;34m()\u001b[0m\n\u001b[0;32m      1\u001b[0m \u001b[0mx\u001b[0m \u001b[1;33m=\u001b[0m \u001b[1;36m1\u001b[0m\u001b[1;33m\u001b[0m\u001b[0m\n\u001b[0;32m      2\u001b[0m \u001b[0my\u001b[0m \u001b[1;33m=\u001b[0m \u001b[1;36m4\u001b[0m\u001b[1;33m\u001b[0m\u001b[0m\n\u001b[1;32m----> 3\u001b[1;33m \u001b[0mz\u001b[0m \u001b[1;33m=\u001b[0m \u001b[0my\u001b[0m\u001b[1;33m/\u001b[0m\u001b[1;33m(\u001b[0m\u001b[1;36m1\u001b[0m\u001b[1;33m-\u001b[0m\u001b[0mx\u001b[0m\u001b[1;33m)\u001b[0m\u001b[1;33m\u001b[0m\u001b[0m\n\u001b[0m",
      "\u001b[1;31mZeroDivisionError\u001b[0m: integer division or modulo by zero"
     ]
    }
   ],
   "source": [
    "x = 1\n",
    "y = 4\n",
    "z = y/(1-x)"
   ]
  },
  {
   "cell_type": "markdown",
   "id": "e7333b37",
   "metadata": {
    "internals": {
     "slide_type": "subslide"
    },
    "slideshow": {
     "slide_type": "subslide"
    }
   },
   "source": [
    "Otras ventajas a la hora de trabajar con código:\n",
    "\n",
    "    * Completado por Tab\n",
    "    * Ayuda integrada\n",
    "    * Resaltado de sintaxis\n",
    "    * \"Atajos\" interactivos (aliases, magics)"
   ]
  },
  {
   "cell_type": "code",
   "execution_count": null,
   "id": "b80678cb",
   "metadata": {
    "internals": {
     "slide_helper": "subslide_end"
    },
    "slide_helper": "subslide_end",
    "slideshow": {
     "slide_type": "-"
    }
   },
   "outputs": [],
   "source": [
    "np."
   ]
  },
  {
   "cell_type": "code",
   "execution_count": null,
   "id": "8ed7bf89",
   "metadata": {
    "internals": {
     "slide_type": "subslide"
    },
    "slideshow": {
     "slide_type": "subslide"
    }
   },
   "outputs": [],
   "source": [
    "%magic"
   ]
  },
  {
   "cell_type": "code",
   "execution_count": null,
   "id": "f71e19ad",
   "metadata": {
    "internals": {
     "slide_helper": "subslide_end"
    },
    "slide_helper": "subslide_end",
    "slideshow": {
     "slide_type": "-"
    }
   },
   "outputs": [],
   "source": [
    "%lsmagic"
   ]
  },
  {
   "cell_type": "markdown",
   "id": "5337e614",
   "metadata": {
    "internals": {
     "slide_type": "subslide"
    },
    "slideshow": {
     "slide_type": "subslide"
    }
   },
   "source": [
    "A través de las cell magics (`%%`) el notebook soporta correr código en otros lenguajes:\n",
    "\n",
    "* R\n",
    "* Octave\n",
    "* Cython\n",
    "* Bash\n",
    "* Perl\n",
    "* Ruby\n",
    "* etc."
   ]
  },
  {
   "cell_type": "code",
   "execution_count": 8,
   "id": "df2b79ca",
   "metadata": {
    "internals": {
     "slide_helper": "subslide_end"
    },
    "slide_helper": "slide_end",
    "slideshow": {
     "slide_type": "-"
    }
   },
   "outputs": [
    {
     "name": "stdout",
     "output_type": "stream",
     "text": [
      "hola gente\n"
     ]
    }
   ],
   "source": [
    "%%bash\n",
    "echo \"hola gente\""
   ]
  },
  {
   "cell_type": "markdown",
   "id": "aea63810",
   "metadata": {
    "internals": {
     "slide_type": "subslide"
    },
    "slideshow": {
     "slide_type": "slide"
    }
   },
   "source": [
    "### Documentar el flujo de trabajo."
   ]
  },
  {
   "cell_type": "markdown",
   "id": "8ed461a5",
   "metadata": {
    "internals": {
     "slide_helper": "subslide_end"
    },
    "slide_helper": "subslide_end",
    "slideshow": {
     "slide_type": "-"
    }
   },
   "source": [
    "El texto reendea vía `Markdown`, por ejemplo puedo tener *italica*, **enfásis** o linkear a [google](http://www.google.com).\n",
    "\n",
    "Puedo hacer listas:\n",
    "\n",
    "1. primero\n",
    "2. segundo\n",
    "3. tercero\n",
    "\n",
    "\n",
    "* auto\n",
    "* biblicleta\n",
    "* moto"
   ]
  },
  {
   "cell_type": "markdown",
   "id": "9b4a4c13",
   "metadata": {
    "internals": {
     "slide_helper": "subslide_end",
     "slide_type": "subslide"
    },
    "slide_helper": "subslide_end",
    "slideshow": {
     "slide_type": "subslide"
    }
   },
   "source": [
    "Puedo embeber código para demostración, por ejemplo, para Python:\n",
    "\n",
    "    def f(x):\n",
    "        \"\"\"a docstring\"\"\"\n",
    "        return x**2\n",
    "\n",
    "o para otros lenguajes:\n",
    "\n",
    "    if (i=0; i<n; i++) {\n",
    "      printf(\"hello %d\\n\", i);\n",
    "      x += 4;\n",
    "    }"
   ]
  },
  {
   "cell_type": "markdown",
   "id": "68225767",
   "metadata": {
    "internals": {
     "slide_helper": "subslide_end",
     "slide_type": "subslide"
    },
    "slide_helper": "slide_end",
    "slideshow": {
     "slide_type": "subslide"
    }
   },
   "source": [
    "Gracias a MathJax, se pueden incluir expresiones matemáticas `inline`: \n",
    "$e^{i\\pi} + 1 = 0$  o en `bloque`:\n",
    "\n",
    "$$e^x=\\sum_{i=0}^\\infty \\frac{1}{i!}x^i$$"
   ]
  },
  {
   "cell_type": "markdown",
   "id": "41be00f2",
   "metadata": {
    "internals": {
     "slide_type": "subslide"
    },
    "slideshow": {
     "slide_type": "slide"
    }
   },
   "source": [
    "### Si el navegador puede mostrarlo..."
   ]
  },
  {
   "cell_type": "markdown",
   "id": "2a411191",
   "metadata": {
    "internals": {},
    "slideshow": {
     "slide_type": "-"
    }
   },
   "source": [
    "* Imágenes:"
   ]
  },
  {
   "cell_type": "code",
   "execution_count": 9,
   "id": "16a8cfc5",
   "metadata": {
    "internals": {
     "slide_helper": "subslide_end"
    },
    "slide_helper": "subslide_end",
    "slideshow": {
     "slide_type": "-"
    }
   },
   "outputs": [
    {
     "data": {
      "image/png": "[encoded data removed]",
      "text/plain": [
       "<IPython.core.display.Image at 0x3e9a790>"
      ]
     },
     "execution_count": 9,
     "metadata": {},
     "output_type": "execute_result"
    }
   ],
   "source": [
    "from IPython.display import Image\n",
    "Image(filename='figs/logo.png')"
   ]
  },
  {
   "cell_type": "code",
   "execution_count": 10,
   "id": "4ab28e20",
   "metadata": {
    "internals": {
     "slide_helper": "subslide_end",
     "slide_type": "subslide"
    },
    "slide_helper": "subslide_end",
    "slideshow": {
     "slide_type": "subslide"
    }
   },
   "outputs": [
    {
     "data": {
      "image/svg+xml": [
       "<svg height=\"115.02pt\" id=\"svg2\" inkscape:version=\"0.43\" sodipodi:docbase=\"/home/sdeibel\" sodipodi:docname=\"logo-python-generic.svg\" sodipodi:version=\"0.32\" version=\"1.0\" width=\"388.84pt\" xmlns=\"http://www.w3.org/2000/svg\" xmlns:cc=\"http://web.resource.org/cc/\" xmlns:dc=\"http://purl.org/dc/elements/1.1/\" xmlns:inkscape=\"http://www.inkscape.org/namespaces/inkscape\" xmlns:rdf=\"http://www.w3.org/1999/02/22-rdf-syntax-ns#\" xmlns:sodipodi=\"http://inkscape.sourceforge.net/DTD/sodipodi-0.dtd\" xmlns:svg=\"http://www.w3.org/2000/svg\" xmlns:xlink=\"http://www.w3.org/1999/xlink\">\n",
       "  <metadata id=\"metadata2193\">\n",
       "    <rdf:RDF>\n",
       "      <cc:Work rdf:about=\"\">\n",
       "        <dc:format>image/svg+xml</dc:format>\n",
       "        <dc:type rdf:resource=\"http://purl.org/dc/dcmitype/StillImage\"/>\n",
       "      </cc:Work>\n",
       "    </rdf:RDF>\n",
       "  </metadata>\n",
       "  <sodipodi:namedview bordercolor=\"#666666\" borderopacity=\"1.0\" id=\"base\" inkscape:current-layer=\"svg2\" inkscape:cx=\"243.02499\" inkscape:cy=\"71.887497\" inkscape:pageopacity=\"0.0\" inkscape:pageshadow=\"2\" inkscape:window-height=\"543\" inkscape:window-width=\"791\" inkscape:window-x=\"0\" inkscape:window-y=\"0\" inkscape:zoom=\"1.4340089\" pagecolor=\"#ffffff\"/>\n",
       "  <defs id=\"defs4\">\n",
       "    <linearGradient id=\"linearGradient2795\">\n",
       "      <stop id=\"stop2797\" offset=\"0\" style=\"stop-color:#b8b8b8;stop-opacity:0.49803922\"/>\n",
       "      <stop id=\"stop2799\" offset=\"1\" style=\"stop-color:#7f7f7f;stop-opacity:0\"/>\n",
       "    </linearGradient>\n",
       "    <linearGradient id=\"linearGradient2787\">\n",
       "      <stop id=\"stop2789\" offset=\"0\" style=\"stop-color:#7f7f7f;stop-opacity:0.5\"/>\n",
       "      <stop id=\"stop2791\" offset=\"1\" style=\"stop-color:#7f7f7f;stop-opacity:0\"/>\n",
       "    </linearGradient>\n",
       "    <linearGradient id=\"linearGradient3676\">\n",
       "      <stop id=\"stop3678\" offset=\"0\" style=\"stop-color:#b2b2b2;stop-opacity:0.5\"/>\n",
       "      <stop id=\"stop3680\" offset=\"1\" style=\"stop-color:#b3b3b3;stop-opacity:0\"/>\n",
       "    </linearGradient>\n",
       "    <linearGradient id=\"linearGradient3236\">\n",
       "      <stop id=\"stop3244\" offset=\"0\" style=\"stop-color:#f4f4f4;stop-opacity:1\"/>\n",
       "      <stop id=\"stop3240\" offset=\"1\" style=\"stop-color:#ffffff;stop-opacity:1\"/>\n",
       "    </linearGradient>\n",
       "    <linearGradient id=\"linearGradient4671\">\n",
       "      <stop id=\"stop4673\" offset=\"0\" style=\"stop-color:#ffd43b;stop-opacity:1\"/>\n",
       "      <stop id=\"stop4675\" offset=\"1\" style=\"stop-color:#ffe873;stop-opacity:1\"/>\n",
       "    </linearGradient>\n",
       "    <linearGradient id=\"linearGradient4689\">\n",
       "      <stop id=\"stop4691\" offset=\"0\" style=\"stop-color:#5a9fd4;stop-opacity:1\"/>\n",
       "      <stop id=\"stop4693\" offset=\"1\" style=\"stop-color:#306998;stop-opacity:1\"/>\n",
       "    </linearGradient>\n",
       "    <linearGradient gradientTransform=\"translate(100.2702,99.61116)\" gradientUnits=\"userSpaceOnUse\" id=\"linearGradient2987\" x1=\"224.23996\" x2=\"-65.308502\" xlink:href=\"#linearGradient4671\" y1=\"144.75717\" y2=\"144.75717\"/>\n",
       "    <linearGradient gradientTransform=\"translate(100.2702,99.61116)\" gradientUnits=\"userSpaceOnUse\" id=\"linearGradient2990\" x1=\"172.94208\" x2=\"26.670298\" xlink:href=\"#linearGradient4689\" y1=\"77.475983\" y2=\"76.313133\"/>\n",
       "    <linearGradient gradientTransform=\"translate(100.2702,99.61116)\" gradientUnits=\"userSpaceOnUse\" id=\"linearGradient2587\" x1=\"172.94208\" x2=\"26.670298\" xlink:href=\"#linearGradient4689\" y1=\"77.475983\" y2=\"76.313133\"/>\n",
       "    <linearGradient gradientTransform=\"translate(100.2702,99.61116)\" gradientUnits=\"userSpaceOnUse\" id=\"linearGradient2589\" x1=\"224.23996\" x2=\"-65.308502\" xlink:href=\"#linearGradient4671\" y1=\"144.75717\" y2=\"144.75717\"/>\n",
       "    <linearGradient gradientTransform=\"translate(100.2702,99.61116)\" gradientUnits=\"userSpaceOnUse\" id=\"linearGradient2248\" x1=\"172.94208\" x2=\"26.670298\" xlink:href=\"#linearGradient4689\" y1=\"77.475983\" y2=\"76.313133\"/>\n",
       "    <linearGradient gradientTransform=\"translate(100.2702,99.61116)\" gradientUnits=\"userSpaceOnUse\" id=\"linearGradient2250\" x1=\"224.23996\" x2=\"-65.308502\" xlink:href=\"#linearGradient4671\" y1=\"144.75717\" y2=\"144.75717\"/>\n",
       "    <linearGradient gradientTransform=\"matrix(0.562541,0,0,0.567972,-11.5974,-7.60954)\" gradientUnits=\"userSpaceOnUse\" id=\"linearGradient2255\" x1=\"224.23996\" x2=\"-65.308502\" xlink:href=\"#linearGradient4671\" y1=\"144.75717\" y2=\"144.75717\"/>\n",
       "    <linearGradient gradientTransform=\"matrix(0.562541,0,0,0.567972,-11.5974,-7.60954)\" gradientUnits=\"userSpaceOnUse\" id=\"linearGradient2258\" x1=\"172.94208\" x2=\"26.670298\" xlink:href=\"#linearGradient4689\" y1=\"76.176224\" y2=\"76.313133\"/>\n",
       "    <radialGradient cx=\"61.518883\" cy=\"132.28575\" fx=\"61.518883\" fy=\"132.28575\" gradientTransform=\"matrix(1,0,0,0.177966,0,108.7434)\" gradientUnits=\"userSpaceOnUse\" id=\"radialGradient2801\" r=\"29.036913\" xlink:href=\"#linearGradient2795\"/>\n",
       "    <linearGradient gradientTransform=\"matrix(0.562541,0,0,0.567972,-9.399749,-5.305317)\" gradientUnits=\"userSpaceOnUse\" id=\"linearGradient1475\" x1=\"150.96111\" x2=\"112.03144\" xlink:href=\"#linearGradient4671\" y1=\"192.35176\" y2=\"137.27299\"/>\n",
       "    <linearGradient gradientTransform=\"matrix(0.562541,0,0,0.567972,-9.399749,-5.305317)\" gradientUnits=\"userSpaceOnUse\" id=\"linearGradient1478\" x1=\"26.648937\" x2=\"135.66525\" xlink:href=\"#linearGradient4689\" y1=\"20.603781\" y2=\"114.39767\"/>\n",
       "    <radialGradient cx=\"61.518883\" cy=\"132.28575\" fx=\"61.518883\" fy=\"132.28575\" gradientTransform=\"matrix(2.382716e-8,-0.296405,1.43676,4.683673e-7,-128.544,150.5202)\" gradientUnits=\"userSpaceOnUse\" id=\"radialGradient1480\" r=\"29.036913\" xlink:href=\"#linearGradient2795\"/>\n",
       "  </defs>\n",
       "  <g id=\"g2303\">\n",
       "    <path d=\"M 184.61344,61.929363 C 184.61344,47.367213 180.46118,39.891193 172.15666,39.481813 C 168.85239,39.325863 165.62611,39.852203 162.48754,41.070593 C 159.98254,41.967323 158.2963,42.854313 157.40931,43.751043 L 157.40931,78.509163 C 162.72147,81.842673 167.43907,83.392453 171.55234,83.148783 C 180.25649,82.573703 184.61344,75.507063 184.61344,61.929363 z M 194.85763,62.533683 C 194.85763,69.931723 193.12265,76.072393 189.63319,80.955683 C 185.7441,86.482283 180.35396,89.328433 173.46277,89.484393 C 168.26757,89.650093 162.91642,88.022323 157.40931,84.610843 L 157.40931,116.20116 L 148.50047,113.02361 L 148.50047,42.903043 C 149.96253,41.109583 151.84372,39.569543 154.12454,38.263433 C 159.42696,35.173603 165.86978,33.584823 173.45302,33.506853 L 173.57973,33.633563 C 180.50991,33.545833 185.85132,36.391993 189.60395,42.162263 C 193.10315,47.454933 194.85763,54.238913 194.85763,62.533683 z \" id=\"path46\" style=\"fill:#646464;fill-opacity:1\"/>\n",
       "    <path d=\"M 249.30487,83.265743 C 249.30487,93.188283 248.31067,100.05998 246.32227,103.88084 C 244.32411,107.7017 240.52275,110.75254 234.90842,113.02361 C 230.35653,114.81707 225.43425,115.79178 220.15133,115.95748 L 218.67952,110.34316 C 224.05016,109.61213 227.83204,108.88109 230.02513,108.15006 C 234.34309,106.688 237.30621,104.44617 238.93397,101.44406 C 240.24008,98.997543 240.88339,94.328693 240.88339,87.418003 L 240.88339,85.098203 C 234.79146,87.866373 228.40711,89.240713 221.73036,89.240713 C 217.34417,89.240713 213.47457,87.866373 210.14107,85.098203 C 206.39818,82.086343 204.52674,78.265483 204.52674,73.635623 L 204.52674,36.557693 L 213.43558,33.506853 L 213.43558,70.828453 C 213.43558,74.815013 214.7222,77.885353 217.29543,80.039463 C 219.86866,82.193563 223.20217,83.226753 227.2862,83.148783 C 231.37023,83.061053 235.74667,81.482023 240.39603,78.392203 L 240.39603,34.851953 L 249.30487,34.851953 L 249.30487,83.265743 z \" id=\"path48\" style=\"fill:#646464;fill-opacity:1\"/>\n",
       "    <path d=\"M 284.08249,88.997033 C 283.02006,89.084753 282.04535,89.123743 281.14862,89.123743 C 276.10937,89.123743 272.18129,87.924853 269.37413,85.517323 C 266.57671,83.109793 265.17314,79.786033 265.17314,75.546053 L 265.17314,40.456523 L 259.07146,40.456523 L 259.07146,34.851953 L 265.17314,34.851953 L 265.17314,19.968143 L 274.07223,16.800333 L 274.07223,34.851953 L 284.08249,34.851953 L 284.08249,40.456523 L 274.07223,40.456523 L 274.07223,75.302373 C 274.07223,78.645623 274.96896,81.014163 276.76243,82.398253 C 278.30247,83.538663 280.74899,84.191723 284.08249,84.357423 L 284.08249,88.997033 z \" id=\"path50\" style=\"fill:#646464;fill-opacity:1\"/>\n",
       "    <path d=\"M 338.02288,88.266003 L 329.11404,88.266003 L 329.11404,53.878273 C 329.11404,50.379063 328.29528,47.367213 326.66753,44.852463 C 324.78634,42.006313 322.17411,40.583233 318.82112,40.583233 C 314.73708,40.583233 309.6296,42.737343 303.4987,47.045563 L 303.4987,88.266003 L 294.58985,88.266003 L 294.58985,6.0687929 L 303.4987,3.2616329 L 303.4987,40.700203 C 309.191,36.557693 315.40963,34.481563 322.16436,34.481563 C 326.88196,34.481563 330.70282,36.070333 333.62694,39.238143 C 336.56082,42.405943 338.02288,46.353513 338.02288,51.071103 L 338.02288,88.266003 L 338.02288,88.266003 z \" id=\"path52\" style=\"fill:#646464;fill-opacity:1\"/>\n",
       "    <path d=\"M 385.37424,60.525783 C 385.37424,54.930953 384.31182,50.310833 382.19669,46.655673 C 379.68195,42.201253 375.77337,39.852203 370.49044,39.608523 C 360.72386,40.173863 355.85032,47.172273 355.85032,60.584263 C 355.85032,66.734683 356.86401,71.871393 358.91089,75.994413 C 361.52312,81.248093 365.44145,83.840823 370.66589,83.753103 C 380.47146,83.675123 385.37424,75.935933 385.37424,60.525783 z M 395.13109,60.584263 C 395.13109,68.547643 393.09395,75.175663 389.02941,80.468333 C 384.5555,86.394563 378.37584,89.367423 370.49044,89.367423 C 362.67328,89.367423 356.58135,86.394563 352.18541,80.468333 C 348.19885,75.175663 346.21044,68.547643 346.21044,60.584263 C 346.21044,53.098503 348.36455,46.801883 352.67276,41.674913 C 357.22466,36.236033 363.20937,33.506853 370.6074,33.506853 C 378.00545,33.506853 384.02914,36.236033 388.66877,41.674913 C 392.97697,46.801883 395.13109,53.098503 395.13109,60.584263 z \" id=\"path54\" style=\"fill:#646464;fill-opacity:1\"/>\n",
       "    <path d=\"M 446.20583,88.266003 L 437.29699,88.266003 L 437.29699,51.928853 C 437.29699,47.942293 436.0981,44.832973 433.70032,42.591133 C 431.30253,40.359053 428.10549,39.277123 424.11893,39.364853 C 419.8887,39.442833 415.86314,40.826913 412.04229,43.507363 L 412.04229,88.266003 L 403.13345,88.266003 L 403.13345,42.405943 C 408.26042,38.672813 412.97801,36.236033 417.28621,35.095623 C 421.35076,34.033193 424.93769,33.506853 428.02752,33.506853 C 430.14264,33.506853 432.13104,33.711543 434.00248,34.120913 C 437.50169,34.929923 440.34783,36.430973 442.54093,38.633823 C 444.98744,41.070593 446.20583,43.994723 446.20583,47.415943 L 446.20583,88.266003 z \" id=\"path56\" style=\"fill:#646464;fill-opacity:1\"/>\n",
       "    <path d=\"M 60.510156,6.3979729 C 55.926503,6.4192712 51.549217,6.8101906 47.697656,7.4917229 C 36.35144,9.4962267 34.291407,13.691825 34.291406,21.429223 L 34.291406,31.647973 L 61.103906,31.647973 L 61.103906,35.054223 L 34.291406,35.054223 L 24.228906,35.054223 C 16.436447,35.054223 9.6131468,39.73794 7.4789058,48.647973 C 5.0170858,58.860939 4.9078907,65.233996 7.4789058,75.897973 C 9.3848341,83.835825 13.936449,89.491721 21.728906,89.491723 L 30.947656,89.491723 L 30.947656,77.241723 C 30.947656,68.391821 38.6048,60.585475 47.697656,60.585473 L 74.478906,60.585473 C 81.933857,60.585473 87.885159,54.447309 87.885156,46.960473 L 87.885156,21.429223 C 87.885156,14.162884 81.755176,8.7044455 74.478906,7.4917229 C 69.872919,6.7249976 65.093809,6.3766746 60.510156,6.3979729 z M 46.010156,14.616723 C 48.779703,14.616723 51.041406,16.915369 51.041406,19.741723 C 51.041404,22.558059 48.779703,24.835473 46.010156,24.835473 C 43.23068,24.835472 40.978906,22.558058 40.978906,19.741723 C 40.978905,16.91537 43.23068,14.616723 46.010156,14.616723 z \" id=\"path1948\" style=\"fill:url(#linearGradient1478);fill-opacity:1\"/>\n",
       "    <path d=\"M 91.228906,35.054223 L 91.228906,46.960473 C 91.228906,56.191228 83.403011,63.960472 74.478906,63.960473 L 47.697656,63.960473 C 40.361823,63.960473 34.291407,70.238956 34.291406,77.585473 L 34.291406,103.11672 C 34.291406,110.38306 40.609994,114.65704 47.697656,116.74172 C 56.184987,119.23733 64.323893,119.68835 74.478906,116.74172 C 81.229061,114.78733 87.885159,110.85411 87.885156,103.11672 L 87.885156,92.897973 L 61.103906,92.897973 L 61.103906,89.491723 L 87.885156,89.491723 L 101.29141,89.491723 C 109.08387,89.491723 111.98766,84.056315 114.69765,75.897973 C 117.49698,67.499087 117.37787,59.422197 114.69765,48.647973 C 112.77187,40.890532 109.09378,35.054223 101.29141,35.054223 L 91.228906,35.054223 z M 76.166406,99.710473 C 78.945884,99.710476 81.197656,101.98789 81.197656,104.80422 C 81.197654,107.63057 78.945881,109.92922 76.166406,109.92922 C 73.396856,109.92922 71.135156,107.63057 71.135156,104.80422 C 71.135158,101.98789 73.396853,99.710473 76.166406,99.710473 z \" id=\"path1950\" style=\"fill:url(#linearGradient1475);fill-opacity:1\"/>\n",
       "    <path d=\"M 463.5544,26.909383 L 465.11635,26.909383 L 465.11635,17.113143 L 468.81648,17.113143 L 468.81648,15.945483 L 459.85427,15.945483 L 459.85427,17.113143 L 463.5544,17.113143 L 463.5544,26.909383 M 470.20142,26.909383 L 471.53589,26.909383 L 471.53589,17.962353 L 474.4323,26.908259 L 475.91799,26.908259 L 478.93615,17.992683 L 478.93615,26.909383 L 480.39194,26.909383 L 480.39194,15.945483 L 478.46605,15.945483 L 475.16774,25.33834 L 472.35477,15.945483 L 470.20142,15.945483 L 470.20142,26.909383\" id=\"text3004\" style=\"font-size:15.16445827px;font-style:normal;font-weight:normal;line-height:125%;fill:#646464;fill-opacity:1;stroke:none;stroke-width:1px;stroke-linecap:butt;stroke-linejoin:miter;stroke-opacity:1;font-family:Bitstream Vera Sans\"/>\n",
       "    <path d=\"M 110.46717 132.28575 A 48.948284 8.6066771 0 1 1  12.570599,132.28575 A 48.948284 8.6066771 0 1 1  110.46717 132.28575 z\" id=\"path1894\" style=\"opacity:0.44382019;fill:url(#radialGradient1480);fill-opacity:1;fill-rule:nonzero;stroke:none;stroke-width:20;stroke-miterlimit:4;stroke-dasharray:none;stroke-opacity:1\" transform=\"matrix(0.73406,0,0,0.809524,16.24958,27.00935)\"/>\n",
       "  </g>\n",
       "</svg>"
      ],
      "text/plain": [
       "<IPython.core.display.SVG at 0x3ec3c90>"
      ]
     },
     "execution_count": 10,
     "metadata": {},
     "output_type": "execute_result"
    }
   ],
   "source": [
    "from IPython.display import SVG\n",
    "SVG(filename='figs/python-logo.svg')"
   ]
  },
  {
   "cell_type": "markdown",
   "id": "cefaad39",
   "metadata": {
    "internals": {
     "slide_type": "subslide"
    },
    "slideshow": {
     "slide_type": "subslide"
    }
   },
   "source": [
    "* Video:"
   ]
  },
  {
   "cell_type": "markdown",
   "id": "27b6d116",
   "metadata": {
    "internals": {},
    "slideshow": {
     "slide_type": "-"
    }
   },
   "source": [
    "Puedo cargar y mostrar videos de Youtube, Vimeo, etc..."
   ]
  },
  {
   "cell_type": "code",
   "execution_count": 11,
   "id": "9b4e5391",
   "metadata": {
    "internals": {
     "slide_helper": "subslide_end"
    },
    "slide_helper": "subslide_end",
    "slideshow": {
     "slide_type": "-"
    }
   },
   "outputs": [
    {
     "data": {
      "text/html": [
       "\n",
       "        <iframe\n",
       "            width=\"400\"\n",
       "            height=300\"\n",
       "            src=\"http://www.youtube.com/embed/MIAKOMzRl1I\"\n",
       "            frameborder=\"0\"\n",
       "            allowfullscreen\n",
       "        ></iframe>\n",
       "        "
      ],
      "text/plain": [
       "<IPython.lib.display.YouTubeVideo at 0x3e9a6d0>"
      ]
     },
     "execution_count": 11,
     "metadata": {},
     "output_type": "execute_result"
    }
   ],
   "source": [
    "from IPython.display import YouTubeVideo\n",
    "YouTubeVideo('MIAKOMzRl1I')"
   ]
  },
  {
   "cell_type": "markdown",
   "id": "4fffec62",
   "metadata": {
    "internals": {
     "slide_type": "subslide"
    },
    "slideshow": {
     "slide_type": "subslide"
    }
   },
   "source": [
    "* Sitios web:"
   ]
  },
  {
   "cell_type": "code",
   "execution_count": 12,
   "id": "514587b2",
   "metadata": {
    "internals": {
     "slide_helper": "subslide_end"
    },
    "slide_helper": "subslide_end",
    "slideshow": {
     "slide_type": "-"
    }
   },
   "outputs": [
    {
     "data": {
      "text/html": [
       "<iframe src=\"http://www.damian.oquanta.info\" width=800 height=600></iframe>"
      ],
      "text/plain": [
       "<IPython.core.display.HTML at 0x40d3210>"
      ]
     },
     "execution_count": 12,
     "metadata": {},
     "output_type": "execute_result"
    }
   ],
   "source": [
    "from IPython.display import HTML\n",
    "HTML('<iframe src=\"http://www.damian.oquanta.info\" width=800 height=600></iframe>')"
   ]
  },
  {
   "cell_type": "markdown",
   "id": "deb6a640",
   "metadata": {
    "internals": {
     "slide_type": "subslide"
    },
    "slideshow": {
     "slide_type": "subslide"
    }
   },
   "source": [
    "### Cargar código remoto"
   ]
  },
  {
   "cell_type": "code",
   "execution_count": 13,
   "id": "915e221b",
   "metadata": {
    "internals": {},
    "slideshow": {
     "slide_type": "-"
    }
   },
   "outputs": [],
   "source": [
    "%load http://matplotlib.sourceforge.net/mpl_examples/api/collections_demo.py"
   ]
  },
  {
   "cell_type": "code",
   "execution_count": 14,
   "id": "5f192468",
   "metadata": {},
   "outputs": [
    {
     "data": {
      "image/png": "[encoded data removed]",
      "text/plain": [
       "<matplotlib.figure.Figure at 0x4332210>"
      ]
     },
     "metadata": {},
     "output_type": "display_data"
    }
   ],
   "source": [
    "#!/usr/bin/env python\n",
    "'''Demonstration of LineCollection, PolyCollection, and\n",
    "RegularPolyCollection with autoscaling.\n",
    "\n",
    "For the first two subplots, we will use spirals.  Their\n",
    "size will be set in plot units, not data units.  Their positions\n",
    "will be set in data units by using the \"offsets\" and \"transOffset\"\n",
    "kwargs of the LineCollection and PolyCollection.\n",
    "\n",
    "The third subplot will make regular polygons, with the same\n",
    "type of scaling and positioning as in the first two.\n",
    "\n",
    "The last subplot illustrates the use of \"offsets=(xo,yo)\",\n",
    "that is, a single tuple instead of a list of tuples, to generate\n",
    "successively offset curves, with the offset given in data\n",
    "units.  This behavior is available only for the LineCollection.\n",
    "\n",
    "'''\n",
    "\n",
    "import matplotlib.pyplot as plt\n",
    "from matplotlib import collections, transforms\n",
    "from matplotlib.colors import colorConverter\n",
    "import numpy as np\n",
    "\n",
    "nverts = 50\n",
    "npts = 100\n",
    "\n",
    "# Make some spirals\n",
    "r = np.array(range(nverts))\n",
    "theta = np.array(range(nverts)) * (2*np.pi)/(nverts-1)\n",
    "xx = r * np.sin(theta)\n",
    "yy = r * np.cos(theta)\n",
    "spiral = list(zip(xx,yy))\n",
    "\n",
    "# Make some offsets\n",
    "rs = np.random.RandomState([12345678])\n",
    "xo = rs.randn(npts)\n",
    "yo = rs.randn(npts)\n",
    "xyo = list(zip(xo, yo))\n",
    "\n",
    "# Make a list of colors cycling through the rgbcmyk series.\n",
    "colors = [colorConverter.to_rgba(c) for c in ('r','g','b','c','y','m','k')]\n",
    "\n",
    "fig, axes = plt.subplots(2,2)\n",
    "((ax1, ax2), (ax3, ax4)) = axes # unpack the axes\n",
    "\n",
    "\n",
    "col = collections.LineCollection([spiral], offsets=xyo,\n",
    "                                transOffset=ax1.transData)\n",
    "trans = fig.dpi_scale_trans + transforms.Affine2D().scale(1.0/72.0)\n",
    "col.set_transform(trans)  # the points to pixels transform\n",
    "    # Note: the first argument to the collection initializer\n",
    "    # must be a list of sequences of x,y tuples; we have only\n",
    "    # one sequence, but we still have to put it in a list.\n",
    "ax1.add_collection(col, autolim=True)\n",
    "    # autolim=True enables autoscaling.  For collections with\n",
    "    # offsets like this, it is neither efficient nor accurate,\n",
    "    # but it is good enough to generate a plot that you can use\n",
    "    # as a starting point.  If you know beforehand the range of\n",
    "    # x and y that you want to show, it is better to set them\n",
    "    # explicitly, leave out the autolim kwarg (or set it to False),\n",
    "    # and omit the 'ax1.autoscale_view()' call below.\n",
    "\n",
    "# Make a transform for the line segments such that their size is\n",
    "# given in points:\n",
    "col.set_color(colors)\n",
    "\n",
    "ax1.autoscale_view()  # See comment above, after ax1.add_collection.\n",
    "ax1.set_title('LineCollection using offsets')\n",
    "\n",
    "\n",
    "# The same data as above, but fill the curves.\n",
    "col = collections.PolyCollection([spiral], offsets=xyo,\n",
    "                                transOffset=ax2.transData)\n",
    "trans = transforms.Affine2D().scale(fig.dpi/72.0)\n",
    "col.set_transform(trans)  # the points to pixels transform\n",
    "ax2.add_collection(col, autolim=True)\n",
    "col.set_color(colors)\n",
    "\n",
    "\n",
    "ax2.autoscale_view()\n",
    "ax2.set_title('PolyCollection using offsets')\n",
    "\n",
    "# 7-sided regular polygons\n",
    "\n",
    "col = collections.RegularPolyCollection(7,\n",
    "                                        sizes = np.fabs(xx)*10.0, offsets=xyo,\n",
    "                                        transOffset=ax3.transData)\n",
    "trans = transforms.Affine2D().scale(fig.dpi/72.0)\n",
    "col.set_transform(trans)  # the points to pixels transform\n",
    "ax3.add_collection(col, autolim=True)\n",
    "col.set_color(colors)\n",
    "ax3.autoscale_view()\n",
    "ax3.set_title('RegularPolyCollection using offsets')\n",
    "\n",
    "\n",
    "# Simulate a series of ocean current profiles, successively\n",
    "# offset by 0.1 m/s so that they form what is sometimes called\n",
    "# a \"waterfall\" plot or a \"stagger\" plot.\n",
    "\n",
    "nverts = 60\n",
    "ncurves = 20\n",
    "offs = (0.1, 0.0)\n",
    "\n",
    "yy = np.linspace(0, 2*np.pi, nverts)\n",
    "ym = np.amax(yy)\n",
    "xx = (0.2 + (ym-yy)/ym)**2 * np.cos(yy-0.4) * 0.5\n",
    "segs = []\n",
    "for i in range(ncurves):\n",
    "    xxx = xx + 0.02*rs.randn(nverts)\n",
    "    curve = list(zip(xxx, yy*100))\n",
    "    segs.append(curve)\n",
    "\n",
    "col = collections.LineCollection(segs, offsets=offs)\n",
    "ax4.add_collection(col, autolim=True)\n",
    "col.set_color(colors)\n",
    "ax4.autoscale_view()\n",
    "ax4.set_title('Successive data offsets')\n",
    "ax4.set_xlabel('Zonal velocity component (m/s)')\n",
    "ax4.set_ylabel('Depth (m)')\n",
    "# Reverse the y-axis so depth increases downward\n",
    "ax4.set_ylim(ax4.get_ylim()[::-1])\n",
    "\n",
    "\n",
    "plt.show()\n",
    "\n",
    "\n"
   ]
  },
  {
   "cell_type": "markdown",
   "id": "b9197fe8",
   "metadata": {
    "internals": {
     "slide_type": "subslide"
    },
    "slideshow": {
     "slide_type": "slide"
    }
   },
   "source": [
    "### Reendeo de LaTeX:"
   ]
  },
  {
   "cell_type": "code",
   "execution_count": 15,
   "id": "9a9814b8",
   "metadata": {
    "internals": {
     "slide_helper": "subslide_end"
    },
    "slide_helper": "subslide_end",
    "slideshow": {
     "slide_type": "-"
    }
   },
   "outputs": [
    {
     "data": {
      "text/latex": [
       "\\begin{eqnarray}\n",
       "\\nabla \\times \\vec{\\mathbf{B}} -\\, \\frac1c\\, \n",
       "\\frac{\\partial\\vec{\\mathbf{E}}}{\\partial t} & = \\frac{4\\pi}{c}\\vec{\\mathbf{j}} \\\\\n",
       "\\nabla \\cdot \\vec{\\mathbf{E}} & = 4 \\pi \\rho \\\\\n",
       "\\nabla \\times \\vec{\\mathbf{E}}\\, +\\, \\frac1c\\, \n",
       "\\frac{\\partial\\vec{\\mathbf{B}}}{\\partial t} & = \\vec{\\mathbf{0}} \\\\\n",
       "\\nabla \\cdot \\vec{\\mathbf{B}} & = 0 \n",
       "\\end{eqnarray}"
      ],
      "text/plain": [
       "<IPython.core.display.Latex at 0x40e08d0>"
      ]
     },
     "execution_count": 15,
     "metadata": {},
     "output_type": "execute_result"
    }
   ],
   "source": [
    "from IPython.display import Latex\n",
    "Latex(r\"\"\"\\begin{eqnarray}\n",
    "\\nabla \\times \\vec{\\mathbf{B}} -\\, \\frac1c\\, \n",
    "\\frac{\\partial\\vec{\\mathbf{E}}}{\\partial t} & = \\frac{4\\pi}{c}\\vec{\\mathbf{j}} \\\\\n",
    "\\nabla \\cdot \\vec{\\mathbf{E}} & = 4 \\pi \\rho \\\\\n",
    "\\nabla \\times \\vec{\\mathbf{E}}\\, +\\, \\frac1c\\, \n",
    "\\frac{\\partial\\vec{\\mathbf{B}}}{\\partial t} & = \\vec{\\mathbf{0}} \\\\\n",
    "\\nabla \\cdot \\vec{\\mathbf{B}} & = 0 \n",
    "\\end{eqnarray}\"\"\")"
   ]
  },
  {
   "cell_type": "markdown",
   "id": "038f34e5",
   "metadata": {
    "internals": {
     "slide_type": "subslide"
    },
    "slideshow": {
     "slide_type": "subslide"
    }
   },
   "source": [
    "### Pandas"
   ]
  },
  {
   "cell_type": "code",
   "execution_count": 16,
   "id": "8126dbf2",
   "metadata": {
    "internals": {},
    "slideshow": {
     "slide_type": "-"
    }
   },
   "outputs": [],
   "source": [
    "import pandas\n",
    "pandas.set_option('display.notebook_repr_html', True)"
   ]
  },
  {
   "cell_type": "code",
   "execution_count": 17,
   "id": "e0374943",
   "metadata": {
    "internals": {},
    "slideshow": {
     "slide_type": "-"
    }
   },
   "outputs": [
    {
     "name": "stdout",
     "output_type": "stream",
     "text": [
      "Overwriting data.csv\n"
     ]
    }
   ],
   "source": [
    "%%writefile data.csv\n",
    "Date,Open,High,Low,Close,Volume,Adj Close\n",
    "2012-06-01,569.16,590.00,548.50,584.00,14077000,581.50\n",
    "2012-05-01,584.90,596.76,522.18,577.73,18827900,575.26\n",
    "2012-04-02,601.83,644.00,555.00,583.98,28759100,581.48\n",
    "2012-03-01,548.17,621.45,516.22,599.55,26486000,596.99\n",
    "2012-02-01,458.41,547.61,453.98,542.44,22001000,540.12\n",
    "2012-01-03,409.40,458.24,409.00,456.48,12949100,454.53"
   ]
  },
  {
   "cell_type": "code",
   "execution_count": 18,
   "id": "ba61a60d",
   "metadata": {
    "internals": {
     "slide_helper": "subslide_end"
    },
    "slide_helper": "slide_end",
    "slideshow": {
     "slide_type": "-"
    }
   },
   "outputs": [
    {
     "data": {
      "text/html": [
       "<div style=\"max-height:1000px;max-width:1500px;overflow:auto;\">\n",
       "<table border=\"1\" class=\"dataframe\">\n",
       "  <thead>\n",
       "    <tr style=\"text-align: right;\">\n",
       "      <th></th>\n",
       "      <th>Date</th>\n",
       "      <th>Open</th>\n",
       "      <th>High</th>\n",
       "      <th>Low</th>\n",
       "      <th>Close</th>\n",
       "      <th>Volume</th>\n",
       "      <th>Adj Close</th>\n",
       "    </tr>\n",
       "  </thead>\n",
       "  <tbody>\n",
       "    <tr>\n",
       "      <th>0</th>\n",
       "      <td> 2012-06-01</td>\n",
       "      <td> 569.16</td>\n",
       "      <td> 590.00</td>\n",
       "      <td> 548.50</td>\n",
       "      <td> 584.00</td>\n",
       "      <td> 14077000</td>\n",
       "      <td> 581.50</td>\n",
       "    </tr>\n",
       "    <tr>\n",
       "      <th>1</th>\n",
       "      <td> 2012-05-01</td>\n",
       "      <td> 584.90</td>\n",
       "      <td> 596.76</td>\n",
       "      <td> 522.18</td>\n",
       "      <td> 577.73</td>\n",
       "      <td> 18827900</td>\n",
       "      <td> 575.26</td>\n",
       "    </tr>\n",
       "    <tr>\n",
       "      <th>2</th>\n",
       "      <td> 2012-04-02</td>\n",
       "      <td> 601.83</td>\n",
       "      <td> 644.00</td>\n",
       "      <td> 555.00</td>\n",
       "      <td> 583.98</td>\n",
       "      <td> 28759100</td>\n",
       "      <td> 581.48</td>\n",
       "    </tr>\n",
       "    <tr>\n",
       "      <th>3</th>\n",
       "      <td> 2012-03-01</td>\n",
       "      <td> 548.17</td>\n",
       "      <td> 621.45</td>\n",
       "      <td> 516.22</td>\n",
       "      <td> 599.55</td>\n",
       "      <td> 26486000</td>\n",
       "      <td> 596.99</td>\n",
       "    </tr>\n",
       "    <tr>\n",
       "      <th>4</th>\n",
       "      <td> 2012-02-01</td>\n",
       "      <td> 458.41</td>\n",
       "      <td> 547.61</td>\n",
       "      <td> 453.98</td>\n",
       "      <td> 542.44</td>\n",
       "      <td> 22001000</td>\n",
       "      <td> 540.12</td>\n",
       "    </tr>\n",
       "    <tr>\n",
       "      <th>5</th>\n",
       "      <td> 2012-01-03</td>\n",
       "      <td> 409.40</td>\n",
       "      <td> 458.24</td>\n",
       "      <td> 409.00</td>\n",
       "      <td> 456.48</td>\n",
       "      <td> 12949100</td>\n",
       "      <td> 454.53</td>\n",
       "    </tr>\n",
       "  </tbody>\n",
       "</table>\n",
       "</div>"
      ],
      "text/plain": [
       "         Date    Open    High     Low   Close    Volume  Adj Close\n",
       "0  2012-06-01  569.16  590.00  548.50  584.00  14077000     581.50\n",
       "1  2012-05-01  584.90  596.76  522.18  577.73  18827900     575.26\n",
       "2  2012-04-02  601.83  644.00  555.00  583.98  28759100     581.48\n",
       "3  2012-03-01  548.17  621.45  516.22  599.55  26486000     596.99\n",
       "4  2012-02-01  458.41  547.61  453.98  542.44  22001000     540.12\n",
       "5  2012-01-03  409.40  458.24  409.00  456.48  12949100     454.53"
      ]
     },
     "execution_count": 18,
     "metadata": {},
     "output_type": "execute_result"
    }
   ],
   "source": [
    "df = pandas.read_csv('data.csv')\n",
    "df"
   ]
  },
  {
   "cell_type": "markdown",
   "id": "a4b8ded7",
   "metadata": {
    "internals": {
     "slide_type": "subslide"
    },
    "slideshow": {
     "slide_type": "slide"
    }
   },
   "source": [
    "## 4. Discusión."
   ]
  },
  {
   "cell_type": "markdown",
   "id": "c0d21428",
   "metadata": {
    "internals": {
     "slide_helper": "subslide_end"
    },
    "slide_helper": "subslide_end",
    "slideshow": {
     "slide_type": "-"
    }
   },
   "source": [
    "El notebook de IPython provee toda la infraestructura para:\n",
    "\n",
    "1. Obtener **datos**.\n",
    "2. **Procesar** los datos obtenidos.\n",
    "3. **Visualizar** los datos procesados\n",
    "4. **Elaborar** una **historia**  que se **sustenta** en los datos analizados.\n",
    "5. **Comunicar** dicha **historia** (junto con los **datos** y las **visualizaciones** obtenidas)."
   ]
  },
  {
   "cell_type": "markdown",
   "id": "470dcb62",
   "metadata": {
    "internals": {
     "slide_type": "subslide"
    },
    "slideshow": {
     "slide_type": "subslide"
    }
   },
   "source": [
    "En resumen:"
   ]
  },
  {
   "cell_type": "markdown",
   "id": "7fb69536",
   "metadata": {
    "internals": {
     "slide_helper": "subslide_end"
    },
    "slide_helper": "subslide_end",
    "slideshow": {
     "slide_type": "-"
    }
   },
   "source": [
    "* El notebook the IPython nos permite contar toda la **historia**.\n",
    "* Genera un documento sumamente **complejo**, pero a la vez **super** informativo.\n",
    "* Genera un documento que ya no es **estático**, sino **dinámico** y que puede ser **reproducido** por colegas.\n",
    "* Genera un documento que es posible **formatear** (a través de js y css) de acuerdo a las especificaciones requeridas."
   ]
  },
  {
   "cell_type": "markdown",
   "id": "076532a6",
   "metadata": {
    "internals": {
     "slide_helper": "subslide_end",
     "slide_type": "subslide"
    },
    "slide_helper": "slide_end",
    "slideshow": {
     "slide_type": "subslide"
    }
   },
   "source": [
    "* El notebook de IPython es un **historia ejecutable**, pero tambien un libro, un sitio interactivo, una presentación...\n",
    "\n",
    "NOTA: Pasear por la galería de notebook de IPython disponible en: https://github.com/ipython/ipython/wiki/A-gallery-of-interesting-IPython-Notebooks"
   ]
  },
  {
   "cell_type": "markdown",
   "id": "2c41d22c",
   "metadata": {
    "internals": {
     "slide_type": "subslide"
    },
    "slideshow": {
     "slide_type": "slide"
    }
   },
   "source": [
    "## 5. El fututo del notebook the IPython"
   ]
  },
  {
   "cell_type": "markdown",
   "id": "33a3ca61",
   "metadata": {
    "internals": {
     "slide_helper": "subslide_end"
    },
    "slide_helper": "slide_end",
    "slideshow": {
     "slide_type": "-"
    }
   },
   "source": [
    "Para conocer en forma detallada lo lineamientos a futuro: \n",
    "\n",
    "https://github.com/ipython/ipython/wiki/Roadmap:-IPython\n",
    "\n",
    "* Soporte para multiusuarios\n",
    "* Soporte para múltiples directorios\n",
    "* Widgets interactivos (js)\n",
    "* Exportación mejorada de los notebook a otros formatos\n",
    "* Modo presentación"
   ]
  },
  {
   "cell_type": "markdown",
   "id": "a5ae8ab5",
   "metadata": {
    "internals": {
     "slide_helper": "subslide_end",
     "slide_type": "subslide"
    },
    "slide_helper": "subslide_end",
    "slideshow": {
     "slide_type": "slide"
    }
   },
   "source": [
    "# GRACIAS!!"
   ]
  },
  {
   "cell_type": "markdown",
   "id": "9af487a9",
   "metadata": {
    "internals": {
     "slide_helper": "subslide_end",
     "slide_type": "subslide"
    },
    "slide_helper": "slide_end",
    "slideshow": {
     "slide_type": "subslide"
    }
   },
   "source": [
    "# [Damián Avila](http://www.damian.oquanta.info)\n",
    "\n",
    "# [@damian_avila](http://twitter.com/damian_avila)\n",
    "\n",
    "# [Github](https://github.com/damianavila)\n",
    "\n",
    "# Email: info@oquanta.info"
   ]
  }
 ],
 "metadata": {
  "kernelspec": {
   "display_name": "Python 3 (ipykernel)",
   "language": "python",
   "name": "python3"
  },
  "language_info": {
   "codemirror_mode": {
    "name": "ipython",
    "version": 3
   },
   "file_extension": ".py",
   "mimetype": "text/x-python",
   "name": "python",
   "nbconvert_exporter": "python",
   "pygments_lexer": "ipython3",
   "version": "3.9.5"
  },
  "toc": {
   "base_numbering": 1,
   "nav_menu": {},
   "number_sections": true,
   "sideBar": false,
   "skip_h1_title": false,
   "title_cell": "Table of Contents",
   "title_sidebar": "Contents",
   "toc_cell": true,
   "toc_position": {},
   "toc_section_display": true,
   "toc_window_display": false
  }
 },
 "nbformat": 4,
 "nbformat_minor": 1
}
