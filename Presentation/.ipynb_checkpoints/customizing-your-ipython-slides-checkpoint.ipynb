{
 "cells": [
  {
   "cell_type": "markdown",
   "metadata": {
    "toc": true
   },
   "source": [
    "<h1>Table of Contents<span class=\"tocSkip\"></span></h1>\n",
    "<div class=\"toc\"><ul class=\"toc-item\"></ul></div>"
   ]
  },
  {
   "cell_type": "markdown",
   "id": "57402f2b",
   "metadata": {},
   "source": [
    "Some days ago, I received this message on G+:\n",
    "\n",
    ">In a future release, would be handy to add custom classes to slides so that you can use CSS rules to choose certain layouts for image slides, text, multiple charts, etc. \n",
    "\n",
    "But... we already support this kind of customization! And it is clearly my fault that you don't know about this feature... so:\n",
    "<!-- TEASER_END -->\n",
    "\n",
    "1. I am very sorry for the lack of proper documentation (I am working on that ;-)).\n",
    "2. In the meantime, you can look at this blog where I am documenting some important things for this slideshow platform.\n",
    "3. You can also ask me whatever you want by twitter, G+, open issues at [Github](https://github.com/ipython/ipython) or make comments here, in my blog.\n",
    "\n",
    "Using this message as a trigger (and following with the serie of blog posts explaining some of the IPython slides features), I will explain you how to customize your IPython slides in just two steps:\n",
    "\n",
    "**NOTE**: I will use, as a starting point, the following slides of a talk I gave to journalist and designers at [Hacks/HackersBA](http://www.mediaparty.info), a story to write in another blog post..."
   ]
  },
  {
   "cell_type": "markdown",
   "id": "c571a5a3",
   "metadata": {},
   "source": [
    "<iframe src=\"http://damianavila.github.io/hackperiodismo\" width=800 height=600></iframe>"
   ]
  },
  {
   "cell_type": "markdown",
   "id": "258ec0eb",
   "metadata": {},
   "source": [
    "**Step 1**. Create a `custom.css` file containing your css rules."
   ]
  },
  {
   "cell_type": "code",
   "execution_count": 1,
   "id": "a783db21",
   "metadata": {
    "ExecuteTime": {
     "end_time": "2021-12-16T09:00:18.831823Z",
     "start_time": "2021-12-16T09:00:18.698945Z"
    }
   },
   "outputs": [
    {
     "name": "stdout",
     "output_type": "stream",
     "text": [
      "cat: /media/datos/Desarrollos/hackperiodismo/custom.css: No such file or directory\r\n"
     ]
    }
   ],
   "source": [
    "!cat /media/datos/Desarrollos/hackperiodismo/custom.css"
   ]
  },
  {
   "cell_type": "markdown",
   "id": "fa792e90",
   "metadata": {},
   "source": [
    "**Step 2**. Put this `custom.css` file in the same `dir` where your slides lives."
   ]
  },
  {
   "cell_type": "code",
   "execution_count": 2,
   "id": "eb251b31",
   "metadata": {
    "ExecuteTime": {
     "end_time": "2021-12-16T09:00:20.327600Z",
     "start_time": "2021-12-16T09:00:20.204907Z"
    }
   },
   "outputs": [
    {
     "name": "stdout",
     "output_type": "stream",
     "text": [
      "ls: cannot access '/media/datos/Desarrollos/hackperiodismo': No such file or directory\r\n"
     ]
    }
   ],
   "source": [
    "!ls /media/datos/Desarrollos/hackperiodismo"
   ]
  },
  {
   "cell_type": "markdown",
   "id": "f0312580",
   "metadata": {},
   "source": [
    "**NOTE**: Here, I previously renamed my `notebook.slides.html` to `index.html` but it is not necessary for the customization.\n",
    "\n",
    "And you are done!\n",
    "\n",
    "*The slideshow will read the `custom.css` file at last and overwrite the css rules according to your desires.*\n",
    "\n",
    "Pretty easy! ;-)\n",
    "\n",
    "And now, the example slides rendered with a new darker style...\n",
    "\n",
    "**NOTE**: In this case I applied the NIGHT reveal theme (adding `?theme=night` to the url) and used the `custom.css` file to adjust some details ;-) (darker reveal themes need this kind of customization to be rendered OK)."
   ]
  },
  {
   "cell_type": "markdown",
   "id": "d6a6ea8e",
   "metadata": {},
   "source": [
    "<iframe src=\"http://damianavila.github.io/hackperiodismo/index2.html?theme=night\" width=800 height=600></iframe>"
   ]
  },
  {
   "cell_type": "markdown",
   "id": "6b4b6a66",
   "metadata": {},
   "source": [
    "You can change more fundamental things and make crazy stuff... just go ahead and let me know.\n",
    "\n",
    "Enjoy!\n",
    "\n",
    "Damián."
   ]
  }
 ],
 "metadata": {
  "kernelspec": {
   "display_name": "Python 3 (ipykernel)",
   "language": "python",
   "name": "python3"
  },
  "language_info": {
   "codemirror_mode": {
    "name": "ipython",
    "version": 3
   },
   "file_extension": ".py",
   "mimetype": "text/x-python",
   "name": "python",
   "nbconvert_exporter": "python",
   "pygments_lexer": "ipython3",
   "version": "3.9.5"
  },
  "toc": {
   "base_numbering": 1,
   "nav_menu": {},
   "number_sections": true,
   "sideBar": false,
   "skip_h1_title": false,
   "title_cell": "Table of Contents",
   "title_sidebar": "Contents",
   "toc_cell": true,
   "toc_position": {},
   "toc_section_display": true,
   "toc_window_display": false
  }
 },
 "nbformat": 4,
 "nbformat_minor": 1
}
