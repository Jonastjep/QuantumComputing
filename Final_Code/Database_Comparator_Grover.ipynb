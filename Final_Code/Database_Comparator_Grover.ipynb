{
 "cells": [
  {
   "cell_type": "markdown",
   "id": "694f3927",
   "metadata": {
    "toc": true
   },
   "source": [
    "<h1>Table of Contents<span class=\"tocSkip\"></span></h1>\n",
    "<div class=\"toc\"><ul class=\"toc-item\"><li><span><a href=\"#Database-encoding-with-basic-search\" data-toc-modified-id=\"Database-encoding-with-basic-search-1\"><span class=\"toc-item-num\">1&nbsp;&nbsp;</span>Database encoding with basic search</a></span><ul class=\"toc-item\"><li><span><a href=\"#2,2-register-system-(hand-encoded),-with-data-array-[3,2,0,1]\" data-toc-modified-id=\"2,2-register-system-(hand-encoded),-with-data-array-[3,2,0,1]-1.1\"><span class=\"toc-item-num\">1.1&nbsp;&nbsp;</span>2,2 register system (hand encoded), with data array [3,2,0,1]</a></span></li><li><span><a href=\"#3,4-registers-building-(hand-encoded),-with-data-array-[3,4,9,13]\" data-toc-modified-id=\"3,4-registers-building-(hand-encoded),-with-data-array-[3,4,9,13]-1.2\"><span class=\"toc-item-num\">1.2&nbsp;&nbsp;</span>3,4 registers building (hand encoded), with data array [3,4,9,13]</a></span></li><li><span><a href=\"#Automatic-bitstring-encoding\" data-toc-modified-id=\"Automatic-bitstring-encoding-1.3\"><span class=\"toc-item-num\">1.3&nbsp;&nbsp;</span>Automatic bitstring encoding</a></span></li></ul></li><li><span><a href=\"#Bit-String-Comparator\" data-toc-modified-id=\"Bit-String-Comparator-2\"><span class=\"toc-item-num\">2&nbsp;&nbsp;</span>Bit String Comparator</a></span></li><li><span><a href=\"#Bit-String-Comparator-inside-Grover\" data-toc-modified-id=\"Bit-String-Comparator-inside-Grover-3\"><span class=\"toc-item-num\">3&nbsp;&nbsp;</span>Bit String Comparator inside Grover</a></span><ul class=\"toc-item\"><li><span><a href=\"#Creating-functions-to-make-the-circuit-scalable-to-different-sized-bitstrings\" data-toc-modified-id=\"Creating-functions-to-make-the-circuit-scalable-to-different-sized-bitstrings-3.1\"><span class=\"toc-item-num\">3.1&nbsp;&nbsp;</span>Creating functions to make the circuit scalable to different sized bitstrings</a></span><ul class=\"toc-item\"><li><span><a href=\"#Here-we-build-the-circuit-that-will-adapt-depending-on-the-size-of-the-bitstrings-to-compare\" data-toc-modified-id=\"Here-we-build-the-circuit-that-will-adapt-depending-on-the-size-of-the-bitstrings-to-compare-3.1.1\"><span class=\"toc-item-num\">3.1.1&nbsp;&nbsp;</span>Here we build the circuit that will adapt depending on the size of the bitstrings to compare</a></span></li></ul></li><li><span><a href=\"#Making-the-Grover-Iteration-into-a-function-to-be-able-to-apply-it-multiple-times-to-lower-the-prob.-of-wrong-answers-(same-comparison-as-two-above)\" data-toc-modified-id=\"Making-the-Grover-Iteration-into-a-function-to-be-able-to-apply-it-multiple-times-to-lower-the-prob.-of-wrong-answers-(same-comparison-as-two-above)-3.2\"><span class=\"toc-item-num\">3.2&nbsp;&nbsp;</span>Making the Grover Iteration into a function to be able to apply it multiple times to lower the prob. of wrong answers (same comparison as two above)</a></span></li></ul></li><li><span><a href=\"#Assembling-both-comparator-and-database-into-one-(final-code)\" data-toc-modified-id=\"Assembling-both-comparator-and-database-into-one-(final-code)-4\"><span class=\"toc-item-num\">4&nbsp;&nbsp;</span>Assembling both comparator and database into one (final code)</a></span></li><li><span><a href=\"#Experimenting-with-Backends\" data-toc-modified-id=\"Experimenting-with-Backends-5\"><span class=\"toc-item-num\">5&nbsp;&nbsp;</span>Experimenting with Backends</a></span><ul class=\"toc-item\"><li><ul class=\"toc-item\"><li><span><a href=\"#Links-and-ressources-that-I-found\" data-toc-modified-id=\"Links-and-ressources-that-I-found-5.0.1\"><span class=\"toc-item-num\">5.0.1&nbsp;&nbsp;</span>Links and ressources that I found</a></span></li></ul></li><li><span><a href=\"#Testing-Area\" data-toc-modified-id=\"Testing-Area-5.1\"><span class=\"toc-item-num\">5.1&nbsp;&nbsp;</span>Testing Area</a></span></li><li><span><a href=\"#Characterising--the-circuit\" data-toc-modified-id=\"Characterising--the-circuit-5.2\"><span class=\"toc-item-num\">5.2&nbsp;&nbsp;</span>Characterising  the circuit</a></span><ul class=\"toc-item\"><li><span><a href=\"#Creating-the-dataset\" data-toc-modified-id=\"Creating-the-dataset-5.2.1\"><span class=\"toc-item-num\">5.2.1&nbsp;&nbsp;</span>Creating the dataset</a></span></li><li><span><a href=\"#Plot-Using-go.Surface()\" data-toc-modified-id=\"Plot-Using-go.Surface()-5.2.2\"><span class=\"toc-item-num\">5.2.2&nbsp;&nbsp;</span>Plot Using go.Surface()</a></span></li><li><span><a href=\"#Plot-Using-go.Heatmap()\" data-toc-modified-id=\"Plot-Using-go.Heatmap()-5.2.3\"><span class=\"toc-item-num\">5.2.3&nbsp;&nbsp;</span>Plot Using go.Heatmap()</a></span><ul class=\"toc-item\"><li><span><a href=\"#Discrete\" data-toc-modified-id=\"Discrete-5.2.3.1\"><span class=\"toc-item-num\">5.2.3.1&nbsp;&nbsp;</span>Discrete</a></span></li><li><span><a href=\"#Interpolated-(smoothed)\" data-toc-modified-id=\"Interpolated-(smoothed)-5.2.3.2\"><span class=\"toc-item-num\">5.2.3.2&nbsp;&nbsp;</span>Interpolated (smoothed)</a></span></li></ul></li><li><span><a href=\"#Plot-Using-px.imshow()-for-heatmap\" data-toc-modified-id=\"Plot-Using-px.imshow()-for-heatmap-5.2.4\"><span class=\"toc-item-num\">5.2.4&nbsp;&nbsp;</span>Plot Using px.imshow() for heatmap</a></span></li></ul></li></ul></li></ul></div>"
   ]
  },
  {
   "cell_type": "code",
   "execution_count": 174,
   "id": "ba8e543d",
   "metadata": {
    "ExecuteTime": {
     "end_time": "2021-12-11T14:19:09.131639Z",
     "start_time": "2021-12-11T14:19:09.125913Z"
    },
    "init_cell": true
   },
   "outputs": [],
   "source": [
    "from qiskit import QuantumCircuit, assemble, Aer, QuantumRegister, ClassicalRegister, AncillaRegister, transpile\n",
    "from qiskit.visualization import plot_bloch_multivector, plot_histogram, array_to_latex\n",
    "import os\n",
    "import math\n",
    "from math import log, ceil, floor\n",
    "import plotly.express as px\n",
    "import plotly.graph_objects as go\n",
    "from plotly.subplots import make_subplots\n",
    "import numpy as np\n",
    "from random import randrange"
   ]
  },
  {
   "cell_type": "markdown",
   "id": "6acb9462",
   "metadata": {},
   "source": [
    "# Database encoding with basic search\n",
    "## 2,2 register system (hand encoded), with data array [3,2,0,1]"
   ]
  },
  {
   "cell_type": "markdown",
   "id": "8b62c686",
   "metadata": {},
   "source": [
    "The value to search is also hand encoded."
   ]
  },
  {
   "cell_type": "code",
   "execution_count": 91,
   "id": "0ef4c9e9",
   "metadata": {
    "ExecuteTime": {
     "end_time": "2021-12-11T12:34:21.126301Z",
     "start_time": "2021-12-11T12:34:21.097459Z"
    },
    "scrolled": true
   },
   "outputs": [
    {
     "data": {
      "text/html": [
       "<pre style=\"word-wrap: normal;white-space: pre;background: #fff0;line-height: 1.1;font-family: &quot;Courier New&quot;,Courier,monospace\">           ┌───┐      ░ ┌───┐     ┌───┐┌───┐     ┌───┐ ░                 ░       ░                 ░       ░                 ░ ┌───┐     ┌───┐┌───┐     ┌───┐ ░ ┌───┐┌───┐          ┌───┐┌───┐      ░  ░ ┌─┐   \n",
       "      d_0: ┤ H ├──────░─┤ X ├──■──┤ X ├┤ X ├──■──┤ X ├─░────────■────────░───■───░─────────────────░───■───░────────■────────░─┤ X ├──■──┤ X ├┤ X ├──■──┤ X ├─░─┤ H ├┤ X ├───────■──┤ X ├┤ H ├──────░──░─┤M├───\n",
       "           ├───┤      ░ ├───┤  │  ├───┤├───┤  │  ├───┤ ░ ┌───┐  │  ┌───┐ ░   │   ░                 ░   │   ░ ┌───┐  │  ┌───┐ ░ ├───┤  │  ├───┤├───┤  │  ├───┤ ░ ├───┤├───┤┌───┐┌─┴─┐├───┤├───┤┌───┐ ░  ░ └╥┘┌─┐\n",
       "      d_1: ┤ H ├──────░─┤ X ├──■──┤ X ├┤ X ├──■──┤ X ├─░─┤ X ├──■──┤ X ├─░───■───░─────────────────░───■───░─┤ X ├──■──┤ X ├─░─┤ X ├──■──┤ X ├┤ X ├──■──┤ X ├─░─┤ H ├┤ X ├┤ H ├┤ X ├┤ H ├┤ X ├┤ H ├─░──░──╫─┤M├\n",
       "           └───┘      ░ └───┘┌─┴─┐└───┘└───┘  │  └───┘ ░ └───┘  │  └───┘ ░ ┌─┴─┐ ░ ┌───┐     ┌───┐ ░ ┌─┴─┐ ░ └───┘  │  └───┘ ░ └───┘  │  └───┘└───┘┌─┴─┐└───┘ ░ └───┘└───┘└───┘└───┘└───┘└───┘└───┘ ░  ░  ║ └╥┘\n",
       "      t_0: ───────────░──────┤ X ├────────────┼────────░────────┼────────░─┤ X ├─░─┤ X ├──■──┤ X ├─░─┤ X ├─░────────┼────────░────────┼────────────┤ X ├──────░─────────────────────────────────────░──░──╫──╫─\n",
       "                      ░      └───┘          ┌─┴─┐      ░      ┌─┴─┐      ░ └───┘ ░ └───┘  │  └───┘ ░ └───┘ ░      ┌─┴─┐      ░      ┌─┴─┐          └───┘      ░                                     ░  ░  ║  ║ \n",
       "      t_1: ───────────░─────────────────────┤ X ├──────░──────┤ X ├──────░───────░────────■────────░───────░──────┤ X ├──────░──────┤ X ├─────────────────────░─────────────────────────────────────░──░──╫──╫─\n",
       "           ┌───┐┌───┐ ░                     └───┘      ░      └───┘      ░       ░      ┌─┴─┐      ░       ░      └───┘      ░      └───┘                     ░                                     ░  ░  ║  ║ \n",
       "ancilla_0: ┤ X ├┤ H ├─░────────────────────────────────░─────────────────░───────░──────┤ X ├──────░───────░─────────────────░────────────────────────────────░─────────────────────────────────────░──░──╫──╫─\n",
       "           └───┘└───┘ ░                                ░                 ░       ░      └───┘      ░       ░                 ░                                ░                                     ░  ░  ║  ║ \n",
       "      c: 2/═══════════════════════════════════════════════════════════════════════════════════════════════════════════════════════════════════════════════════════════════════════════════════════════════╩══╩═\n",
       "                                                                                                                                                                                                          0  1 </pre>"
      ],
      "text/plain": [
       "           ┌───┐      ░ ┌───┐     ┌───┐┌───┐     ┌───┐ ░                 ░       ░                 ░       ░                 ░ ┌───┐     ┌───┐┌───┐     ┌───┐ ░ ┌───┐┌───┐          ┌───┐┌───┐      ░  ░ ┌─┐   \n",
       "      d_0: ┤ H ├──────░─┤ X ├──■──┤ X ├┤ X ├──■──┤ X ├─░────────■────────░───■───░─────────────────░───■───░────────■────────░─┤ X ├──■──┤ X ├┤ X ├──■──┤ X ├─░─┤ H ├┤ X ├───────■──┤ X ├┤ H ├──────░──░─┤M├───\n",
       "           ├───┤      ░ ├───┤  │  ├───┤├───┤  │  ├───┤ ░ ┌───┐  │  ┌───┐ ░   │   ░                 ░   │   ░ ┌───┐  │  ┌───┐ ░ ├───┤  │  ├───┤├───┤  │  ├───┤ ░ ├───┤├───┤┌───┐┌─┴─┐├───┤├───┤┌───┐ ░  ░ └╥┘┌─┐\n",
       "      d_1: ┤ H ├──────░─┤ X ├──■──┤ X ├┤ X ├──■──┤ X ├─░─┤ X ├──■──┤ X ├─░───■───░─────────────────░───■───░─┤ X ├──■──┤ X ├─░─┤ X ├──■──┤ X ├┤ X ├──■──┤ X ├─░─┤ H ├┤ X ├┤ H ├┤ X ├┤ H ├┤ X ├┤ H ├─░──░──╫─┤M├\n",
       "           └───┘      ░ └───┘┌─┴─┐└───┘└───┘  │  └───┘ ░ └───┘  │  └───┘ ░ ┌─┴─┐ ░ ┌───┐     ┌───┐ ░ ┌─┴─┐ ░ └───┘  │  └───┘ ░ └───┘  │  └───┘└───┘┌─┴─┐└───┘ ░ └───┘└───┘└───┘└───┘└───┘└───┘└───┘ ░  ░  ║ └╥┘\n",
       "      t_0: ───────────░──────┤ X ├────────────┼────────░────────┼────────░─┤ X ├─░─┤ X ├──■──┤ X ├─░─┤ X ├─░────────┼────────░────────┼────────────┤ X ├──────░─────────────────────────────────────░──░──╫──╫─\n",
       "                      ░      └───┘          ┌─┴─┐      ░      ┌─┴─┐      ░ └───┘ ░ └───┘  │  └───┘ ░ └───┘ ░      ┌─┴─┐      ░      ┌─┴─┐          └───┘      ░                                     ░  ░  ║  ║ \n",
       "      t_1: ───────────░─────────────────────┤ X ├──────░──────┤ X ├──────░───────░────────■────────░───────░──────┤ X ├──────░──────┤ X ├─────────────────────░─────────────────────────────────────░──░──╫──╫─\n",
       "           ┌───┐┌───┐ ░                     └───┘      ░      └───┘      ░       ░      ┌─┴─┐      ░       ░      └───┘      ░      └───┘                     ░                                     ░  ░  ║  ║ \n",
       "ancilla_0: ┤ X ├┤ H ├─░────────────────────────────────░─────────────────░───────░──────┤ X ├──────░───────░─────────────────░────────────────────────────────░─────────────────────────────────────░──░──╫──╫─\n",
       "           └───┘└───┘ ░                                ░                 ░       ░      └───┘      ░       ░                 ░                                ░                                     ░  ░  ║  ║ \n",
       "      c: 2/═══════════════════════════════════════════════════════════════════════════════════════════════════════════════════════════════════════════════════════════════════════════════════════════════╩══╩═\n",
       "                                                                                                                                                                                                          0  1 "
      ]
     },
     "execution_count": 91,
     "metadata": {},
     "output_type": "execute_result"
    }
   ],
   "source": [
    "# Making the circuit in the paper\n",
    "\n",
    "n = 2 #number of index qbits\n",
    "\n",
    "qrd = QuantumRegister(n, 'd') #Creates the data registry\n",
    "qrt = QuantumRegister(n, 't') #Creates the template registry\n",
    "anc = QuantumRegister(1, 'ancilla') #Creates the ancillary registry for the oracle\n",
    "cr = ClassicalRegister(n, 'c') #Creates the classical bit measurment output\n",
    "\n",
    "qc = QuantumCircuit(qrd, qrt, anc, cr) #Makes the circuit with these qbits as input\n",
    "\n",
    "####### State initialization #########\n",
    "\n",
    "qc.h(range(n))\n",
    "    \n",
    "#initiation of ancillary to |->\n",
    "qc.x(anc)\n",
    "qc.h(anc)\n",
    "qc.barrier()\n",
    "\n",
    "#Index 0 -> 3 (both qbits are controlled)\n",
    "qc.x(qrd)\n",
    "qc.mcx([0,1],2, mode='noancilla')\n",
    "qc.x(qrd)\n",
    "\n",
    "qc.x(qrd)\n",
    "qc.mcx([0,1],3, mode='noancilla')\n",
    "qc.x(qrd)\n",
    "qc.barrier()\n",
    "\n",
    "#Index 1 -> 2 (only qbit 2 is controlled)\n",
    "qc.x(1)\n",
    "qc.mcx([0,1],3, mode='noancilla')\n",
    "qc.x(1)\n",
    "qc.barrier()\n",
    "\n",
    "#Index 2 -> 0 (no qbit is controlled)\n",
    "\n",
    "#Index 3 -> 1 (only qbit 1 is controlled)\n",
    "qc.mcx([0,1],2, mode='noancilla')\n",
    "qc.barrier()\n",
    "\n",
    "#This means that we have a database looking like [3,2,0,1]\n",
    "#We are looking for lets say number 2 (so index 1)\n",
    "#Oracle\n",
    "\n",
    "qc.x([2])\n",
    "qc.mcx([2,3],4, mode='noancilla')\n",
    "qc.x([2])\n",
    "qc.barrier()\n",
    "\n",
    "#REPETITION TO MAKE SYMMETRY\n",
    "#Index 3 -> 1 (only qbit 1 is controlled)\n",
    "qc.mcx([0,1],2, mode='noancilla')\n",
    "qc.barrier()\n",
    "\n",
    "#Index 1 -> 2 (only qbit 2 is controlled)\n",
    "qc.x(1)\n",
    "qc.mcx([0,1],3, mode='noancilla')\n",
    "qc.x(1)\n",
    "qc.barrier()\n",
    "\n",
    "#Index 0 -> 3 (both qbits are controlled)\n",
    "qc.x(qrd)\n",
    "qc.mcx([0,1],3, mode='noancilla')\n",
    "qc.x(qrd)\n",
    "\n",
    "qc.x(qrd)\n",
    "qc.mcx([0,1],2, mode='noancilla')\n",
    "qc.x(qrd)\n",
    "qc.barrier()\n",
    "\n",
    "#DIFFUSION OP\n",
    "qc.h(range(n))\n",
    "qc.x(range(n-1))\n",
    "\n",
    "#It is difficult to do an actual multi-control-Z gate, so instead we make a MCX surrounded by H gates to transform it into a MCZ\n",
    "qc.x(1)\n",
    "qc.h(1)\n",
    "qc.mct([0], 1) \n",
    "qc.h(1)\n",
    "qc.x(1)\n",
    "\n",
    "#The other symmetric side of the diffusor\n",
    "qc.x(range(n-1))\n",
    "qc.h(range(n))\n",
    "qc.barrier()\n",
    "\n",
    "\n",
    "qc.barrier()\n",
    "qc.measure(range(2),cr)\n",
    "\n",
    "qc.draw(fold=-1)"
   ]
  },
  {
   "cell_type": "code",
   "execution_count": 93,
   "id": "db25b9e7",
   "metadata": {
    "ExecuteTime": {
     "end_time": "2021-12-11T12:35:44.063827Z",
     "start_time": "2021-12-11T12:35:43.996270Z"
    },
    "scrolled": false
   },
   "outputs": [
    {
     "data": {
      "application/vnd.plotly.v1+json": {
       "config": {
        "plotlyServerURL": "https://plot.ly"
       },
       "data": [
        {
         "alignmentgroup": "True",
         "hovertemplate": "val=%{x}<br>count=%{text}<extra></extra>",
         "legendgroup": "",
         "marker": {
          "color": "#636efa",
          "pattern": {
           "shape": ""
          }
         },
         "name": "",
         "offsetgroup": "",
         "orientation": "v",
         "showlegend": false,
         "text": [
          "512"
         ],
         "textposition": "outside",
         "texttemplate": "%{text:.2s}",
         "type": "bar",
         "x": [
          "01"
         ],
         "xaxis": "x",
         "y": [
          512
         ],
         "yaxis": "y"
        }
       ],
       "layout": {
        "barmode": "relative",
        "legend": {
         "tracegroupgap": 0
        },
        "margin": {
         "t": 60
        },
        "template": {
         "data": {
          "bar": [
           {
            "error_x": {
             "color": "#2a3f5f"
            },
            "error_y": {
             "color": "#2a3f5f"
            },
            "marker": {
             "line": {
              "color": "#E5ECF6",
              "width": 0.5
             },
             "pattern": {
              "fillmode": "overlay",
              "size": 10,
              "solidity": 0.2
             }
            },
            "type": "bar"
           }
          ],
          "barpolar": [
           {
            "marker": {
             "line": {
              "color": "#E5ECF6",
              "width": 0.5
             },
             "pattern": {
              "fillmode": "overlay",
              "size": 10,
              "solidity": 0.2
             }
            },
            "type": "barpolar"
           }
          ],
          "carpet": [
           {
            "aaxis": {
             "endlinecolor": "#2a3f5f",
             "gridcolor": "white",
             "linecolor": "white",
             "minorgridcolor": "white",
             "startlinecolor": "#2a3f5f"
            },
            "baxis": {
             "endlinecolor": "#2a3f5f",
             "gridcolor": "white",
             "linecolor": "white",
             "minorgridcolor": "white",
             "startlinecolor": "#2a3f5f"
            },
            "type": "carpet"
           }
          ],
          "choropleth": [
           {
            "colorbar": {
             "outlinewidth": 0,
             "ticks": ""
            },
            "type": "choropleth"
           }
          ],
          "contour": [
           {
            "colorbar": {
             "outlinewidth": 0,
             "ticks": ""
            },
            "colorscale": [
             [
              0,
              "#0d0887"
             ],
             [
              0.1111111111111111,
              "#46039f"
             ],
             [
              0.2222222222222222,
              "#7201a8"
             ],
             [
              0.3333333333333333,
              "#9c179e"
             ],
             [
              0.4444444444444444,
              "#bd3786"
             ],
             [
              0.5555555555555556,
              "#d8576b"
             ],
             [
              0.6666666666666666,
              "#ed7953"
             ],
             [
              0.7777777777777778,
              "#fb9f3a"
             ],
             [
              0.8888888888888888,
              "#fdca26"
             ],
             [
              1,
              "#f0f921"
             ]
            ],
            "type": "contour"
           }
          ],
          "contourcarpet": [
           {
            "colorbar": {
             "outlinewidth": 0,
             "ticks": ""
            },
            "type": "contourcarpet"
           }
          ],
          "heatmap": [
           {
            "colorbar": {
             "outlinewidth": 0,
             "ticks": ""
            },
            "colorscale": [
             [
              0,
              "#0d0887"
             ],
             [
              0.1111111111111111,
              "#46039f"
             ],
             [
              0.2222222222222222,
              "#7201a8"
             ],
             [
              0.3333333333333333,
              "#9c179e"
             ],
             [
              0.4444444444444444,
              "#bd3786"
             ],
             [
              0.5555555555555556,
              "#d8576b"
             ],
             [
              0.6666666666666666,
              "#ed7953"
             ],
             [
              0.7777777777777778,
              "#fb9f3a"
             ],
             [
              0.8888888888888888,
              "#fdca26"
             ],
             [
              1,
              "#f0f921"
             ]
            ],
            "type": "heatmap"
           }
          ],
          "heatmapgl": [
           {
            "colorbar": {
             "outlinewidth": 0,
             "ticks": ""
            },
            "colorscale": [
             [
              0,
              "#0d0887"
             ],
             [
              0.1111111111111111,
              "#46039f"
             ],
             [
              0.2222222222222222,
              "#7201a8"
             ],
             [
              0.3333333333333333,
              "#9c179e"
             ],
             [
              0.4444444444444444,
              "#bd3786"
             ],
             [
              0.5555555555555556,
              "#d8576b"
             ],
             [
              0.6666666666666666,
              "#ed7953"
             ],
             [
              0.7777777777777778,
              "#fb9f3a"
             ],
             [
              0.8888888888888888,
              "#fdca26"
             ],
             [
              1,
              "#f0f921"
             ]
            ],
            "type": "heatmapgl"
           }
          ],
          "histogram": [
           {
            "marker": {
             "pattern": {
              "fillmode": "overlay",
              "size": 10,
              "solidity": 0.2
             }
            },
            "type": "histogram"
           }
          ],
          "histogram2d": [
           {
            "colorbar": {
             "outlinewidth": 0,
             "ticks": ""
            },
            "colorscale": [
             [
              0,
              "#0d0887"
             ],
             [
              0.1111111111111111,
              "#46039f"
             ],
             [
              0.2222222222222222,
              "#7201a8"
             ],
             [
              0.3333333333333333,
              "#9c179e"
             ],
             [
              0.4444444444444444,
              "#bd3786"
             ],
             [
              0.5555555555555556,
              "#d8576b"
             ],
             [
              0.6666666666666666,
              "#ed7953"
             ],
             [
              0.7777777777777778,
              "#fb9f3a"
             ],
             [
              0.8888888888888888,
              "#fdca26"
             ],
             [
              1,
              "#f0f921"
             ]
            ],
            "type": "histogram2d"
           }
          ],
          "histogram2dcontour": [
           {
            "colorbar": {
             "outlinewidth": 0,
             "ticks": ""
            },
            "colorscale": [
             [
              0,
              "#0d0887"
             ],
             [
              0.1111111111111111,
              "#46039f"
             ],
             [
              0.2222222222222222,
              "#7201a8"
             ],
             [
              0.3333333333333333,
              "#9c179e"
             ],
             [
              0.4444444444444444,
              "#bd3786"
             ],
             [
              0.5555555555555556,
              "#d8576b"
             ],
             [
              0.6666666666666666,
              "#ed7953"
             ],
             [
              0.7777777777777778,
              "#fb9f3a"
             ],
             [
              0.8888888888888888,
              "#fdca26"
             ],
             [
              1,
              "#f0f921"
             ]
            ],
            "type": "histogram2dcontour"
           }
          ],
          "mesh3d": [
           {
            "colorbar": {
             "outlinewidth": 0,
             "ticks": ""
            },
            "type": "mesh3d"
           }
          ],
          "parcoords": [
           {
            "line": {
             "colorbar": {
              "outlinewidth": 0,
              "ticks": ""
             }
            },
            "type": "parcoords"
           }
          ],
          "pie": [
           {
            "automargin": true,
            "type": "pie"
           }
          ],
          "scatter": [
           {
            "marker": {
             "colorbar": {
              "outlinewidth": 0,
              "ticks": ""
             }
            },
            "type": "scatter"
           }
          ],
          "scatter3d": [
           {
            "line": {
             "colorbar": {
              "outlinewidth": 0,
              "ticks": ""
             }
            },
            "marker": {
             "colorbar": {
              "outlinewidth": 0,
              "ticks": ""
             }
            },
            "type": "scatter3d"
           }
          ],
          "scattercarpet": [
           {
            "marker": {
             "colorbar": {
              "outlinewidth": 0,
              "ticks": ""
             }
            },
            "type": "scattercarpet"
           }
          ],
          "scattergeo": [
           {
            "marker": {
             "colorbar": {
              "outlinewidth": 0,
              "ticks": ""
             }
            },
            "type": "scattergeo"
           }
          ],
          "scattergl": [
           {
            "marker": {
             "colorbar": {
              "outlinewidth": 0,
              "ticks": ""
             }
            },
            "type": "scattergl"
           }
          ],
          "scattermapbox": [
           {
            "marker": {
             "colorbar": {
              "outlinewidth": 0,
              "ticks": ""
             }
            },
            "type": "scattermapbox"
           }
          ],
          "scatterpolar": [
           {
            "marker": {
             "colorbar": {
              "outlinewidth": 0,
              "ticks": ""
             }
            },
            "type": "scatterpolar"
           }
          ],
          "scatterpolargl": [
           {
            "marker": {
             "colorbar": {
              "outlinewidth": 0,
              "ticks": ""
             }
            },
            "type": "scatterpolargl"
           }
          ],
          "scatterternary": [
           {
            "marker": {
             "colorbar": {
              "outlinewidth": 0,
              "ticks": ""
             }
            },
            "type": "scatterternary"
           }
          ],
          "surface": [
           {
            "colorbar": {
             "outlinewidth": 0,
             "ticks": ""
            },
            "colorscale": [
             [
              0,
              "#0d0887"
             ],
             [
              0.1111111111111111,
              "#46039f"
             ],
             [
              0.2222222222222222,
              "#7201a8"
             ],
             [
              0.3333333333333333,
              "#9c179e"
             ],
             [
              0.4444444444444444,
              "#bd3786"
             ],
             [
              0.5555555555555556,
              "#d8576b"
             ],
             [
              0.6666666666666666,
              "#ed7953"
             ],
             [
              0.7777777777777778,
              "#fb9f3a"
             ],
             [
              0.8888888888888888,
              "#fdca26"
             ],
             [
              1,
              "#f0f921"
             ]
            ],
            "type": "surface"
           }
          ],
          "table": [
           {
            "cells": {
             "fill": {
              "color": "#EBF0F8"
             },
             "line": {
              "color": "white"
             }
            },
            "header": {
             "fill": {
              "color": "#C8D4E3"
             },
             "line": {
              "color": "white"
             }
            },
            "type": "table"
           }
          ]
         },
         "layout": {
          "annotationdefaults": {
           "arrowcolor": "#2a3f5f",
           "arrowhead": 0,
           "arrowwidth": 1
          },
          "autotypenumbers": "strict",
          "coloraxis": {
           "colorbar": {
            "outlinewidth": 0,
            "ticks": ""
           }
          },
          "colorscale": {
           "diverging": [
            [
             0,
             "#8e0152"
            ],
            [
             0.1,
             "#c51b7d"
            ],
            [
             0.2,
             "#de77ae"
            ],
            [
             0.3,
             "#f1b6da"
            ],
            [
             0.4,
             "#fde0ef"
            ],
            [
             0.5,
             "#f7f7f7"
            ],
            [
             0.6,
             "#e6f5d0"
            ],
            [
             0.7,
             "#b8e186"
            ],
            [
             0.8,
             "#7fbc41"
            ],
            [
             0.9,
             "#4d9221"
            ],
            [
             1,
             "#276419"
            ]
           ],
           "sequential": [
            [
             0,
             "#0d0887"
            ],
            [
             0.1111111111111111,
             "#46039f"
            ],
            [
             0.2222222222222222,
             "#7201a8"
            ],
            [
             0.3333333333333333,
             "#9c179e"
            ],
            [
             0.4444444444444444,
             "#bd3786"
            ],
            [
             0.5555555555555556,
             "#d8576b"
            ],
            [
             0.6666666666666666,
             "#ed7953"
            ],
            [
             0.7777777777777778,
             "#fb9f3a"
            ],
            [
             0.8888888888888888,
             "#fdca26"
            ],
            [
             1,
             "#f0f921"
            ]
           ],
           "sequentialminus": [
            [
             0,
             "#0d0887"
            ],
            [
             0.1111111111111111,
             "#46039f"
            ],
            [
             0.2222222222222222,
             "#7201a8"
            ],
            [
             0.3333333333333333,
             "#9c179e"
            ],
            [
             0.4444444444444444,
             "#bd3786"
            ],
            [
             0.5555555555555556,
             "#d8576b"
            ],
            [
             0.6666666666666666,
             "#ed7953"
            ],
            [
             0.7777777777777778,
             "#fb9f3a"
            ],
            [
             0.8888888888888888,
             "#fdca26"
            ],
            [
             1,
             "#f0f921"
            ]
           ]
          },
          "colorway": [
           "#636efa",
           "#EF553B",
           "#00cc96",
           "#ab63fa",
           "#FFA15A",
           "#19d3f3",
           "#FF6692",
           "#B6E880",
           "#FF97FF",
           "#FECB52"
          ],
          "font": {
           "color": "#2a3f5f"
          },
          "geo": {
           "bgcolor": "white",
           "lakecolor": "white",
           "landcolor": "#E5ECF6",
           "showlakes": true,
           "showland": true,
           "subunitcolor": "white"
          },
          "hoverlabel": {
           "align": "left"
          },
          "hovermode": "closest",
          "mapbox": {
           "style": "light"
          },
          "paper_bgcolor": "white",
          "plot_bgcolor": "#E5ECF6",
          "polar": {
           "angularaxis": {
            "gridcolor": "white",
            "linecolor": "white",
            "ticks": ""
           },
           "bgcolor": "#E5ECF6",
           "radialaxis": {
            "gridcolor": "white",
            "linecolor": "white",
            "ticks": ""
           }
          },
          "scene": {
           "xaxis": {
            "backgroundcolor": "#E5ECF6",
            "gridcolor": "white",
            "gridwidth": 2,
            "linecolor": "white",
            "showbackground": true,
            "ticks": "",
            "zerolinecolor": "white"
           },
           "yaxis": {
            "backgroundcolor": "#E5ECF6",
            "gridcolor": "white",
            "gridwidth": 2,
            "linecolor": "white",
            "showbackground": true,
            "ticks": "",
            "zerolinecolor": "white"
           },
           "zaxis": {
            "backgroundcolor": "#E5ECF6",
            "gridcolor": "white",
            "gridwidth": 2,
            "linecolor": "white",
            "showbackground": true,
            "ticks": "",
            "zerolinecolor": "white"
           }
          },
          "shapedefaults": {
           "line": {
            "color": "#2a3f5f"
           }
          },
          "ternary": {
           "aaxis": {
            "gridcolor": "white",
            "linecolor": "white",
            "ticks": ""
           },
           "baxis": {
            "gridcolor": "white",
            "linecolor": "white",
            "ticks": ""
           },
           "bgcolor": "#E5ECF6",
           "caxis": {
            "gridcolor": "white",
            "linecolor": "white",
            "ticks": ""
           }
          },
          "title": {
           "x": 0.05
          },
          "xaxis": {
           "automargin": true,
           "gridcolor": "white",
           "linecolor": "white",
           "ticks": "",
           "title": {
            "standoff": 15
           },
           "zerolinecolor": "white",
           "zerolinewidth": 2
          },
          "yaxis": {
           "automargin": true,
           "gridcolor": "white",
           "linecolor": "white",
           "ticks": "",
           "title": {
            "standoff": 15
           },
           "zerolinecolor": "white",
           "zerolinewidth": 2
          }
         }
        },
        "uniformtext": {
         "minsize": 6,
         "mode": "show"
        },
        "xaxis": {
         "anchor": "y",
         "domain": [
          0,
          1
         ],
         "title": {
          "text": "val"
         }
        },
        "yaxis": {
         "anchor": "x",
         "domain": [
          0,
          1
         ],
         "title": {
          "text": "count"
         }
        }
       }
      },
      "text/html": [
       "<div>                            <div id=\"0afb9ee4-a532-4e5e-8922-7f109cc6beab\" class=\"plotly-graph-div\" style=\"height:525px; width:100%;\"></div>            <script type=\"text/javascript\">                require([\"plotly\"], function(Plotly) {                    window.PLOTLYENV=window.PLOTLYENV || {};                                    if (document.getElementById(\"0afb9ee4-a532-4e5e-8922-7f109cc6beab\")) {                    Plotly.newPlot(                        \"0afb9ee4-a532-4e5e-8922-7f109cc6beab\",                        [{\"alignmentgroup\":\"True\",\"hovertemplate\":\"val=%{x}<br>count=%{text}<extra></extra>\",\"legendgroup\":\"\",\"marker\":{\"color\":\"#636efa\",\"pattern\":{\"shape\":\"\"}},\"name\":\"\",\"offsetgroup\":\"\",\"orientation\":\"v\",\"showlegend\":false,\"text\":[\"512\"],\"textposition\":\"outside\",\"texttemplate\":\"%{text:.2s}\",\"type\":\"bar\",\"x\":[\"01\"],\"xaxis\":\"x\",\"y\":[512],\"yaxis\":\"y\"}],                        {\"barmode\":\"relative\",\"legend\":{\"tracegroupgap\":0},\"margin\":{\"t\":60},\"template\":{\"data\":{\"bar\":[{\"error_x\":{\"color\":\"#2a3f5f\"},\"error_y\":{\"color\":\"#2a3f5f\"},\"marker\":{\"line\":{\"color\":\"#E5ECF6\",\"width\":0.5},\"pattern\":{\"fillmode\":\"overlay\",\"size\":10,\"solidity\":0.2}},\"type\":\"bar\"}],\"barpolar\":[{\"marker\":{\"line\":{\"color\":\"#E5ECF6\",\"width\":0.5},\"pattern\":{\"fillmode\":\"overlay\",\"size\":10,\"solidity\":0.2}},\"type\":\"barpolar\"}],\"carpet\":[{\"aaxis\":{\"endlinecolor\":\"#2a3f5f\",\"gridcolor\":\"white\",\"linecolor\":\"white\",\"minorgridcolor\":\"white\",\"startlinecolor\":\"#2a3f5f\"},\"baxis\":{\"endlinecolor\":\"#2a3f5f\",\"gridcolor\":\"white\",\"linecolor\":\"white\",\"minorgridcolor\":\"white\",\"startlinecolor\":\"#2a3f5f\"},\"type\":\"carpet\"}],\"choropleth\":[{\"colorbar\":{\"outlinewidth\":0,\"ticks\":\"\"},\"type\":\"choropleth\"}],\"contour\":[{\"colorbar\":{\"outlinewidth\":0,\"ticks\":\"\"},\"colorscale\":[[0.0,\"#0d0887\"],[0.1111111111111111,\"#46039f\"],[0.2222222222222222,\"#7201a8\"],[0.3333333333333333,\"#9c179e\"],[0.4444444444444444,\"#bd3786\"],[0.5555555555555556,\"#d8576b\"],[0.6666666666666666,\"#ed7953\"],[0.7777777777777778,\"#fb9f3a\"],[0.8888888888888888,\"#fdca26\"],[1.0,\"#f0f921\"]],\"type\":\"contour\"}],\"contourcarpet\":[{\"colorbar\":{\"outlinewidth\":0,\"ticks\":\"\"},\"type\":\"contourcarpet\"}],\"heatmap\":[{\"colorbar\":{\"outlinewidth\":0,\"ticks\":\"\"},\"colorscale\":[[0.0,\"#0d0887\"],[0.1111111111111111,\"#46039f\"],[0.2222222222222222,\"#7201a8\"],[0.3333333333333333,\"#9c179e\"],[0.4444444444444444,\"#bd3786\"],[0.5555555555555556,\"#d8576b\"],[0.6666666666666666,\"#ed7953\"],[0.7777777777777778,\"#fb9f3a\"],[0.8888888888888888,\"#fdca26\"],[1.0,\"#f0f921\"]],\"type\":\"heatmap\"}],\"heatmapgl\":[{\"colorbar\":{\"outlinewidth\":0,\"ticks\":\"\"},\"colorscale\":[[0.0,\"#0d0887\"],[0.1111111111111111,\"#46039f\"],[0.2222222222222222,\"#7201a8\"],[0.3333333333333333,\"#9c179e\"],[0.4444444444444444,\"#bd3786\"],[0.5555555555555556,\"#d8576b\"],[0.6666666666666666,\"#ed7953\"],[0.7777777777777778,\"#fb9f3a\"],[0.8888888888888888,\"#fdca26\"],[1.0,\"#f0f921\"]],\"type\":\"heatmapgl\"}],\"histogram\":[{\"marker\":{\"pattern\":{\"fillmode\":\"overlay\",\"size\":10,\"solidity\":0.2}},\"type\":\"histogram\"}],\"histogram2d\":[{\"colorbar\":{\"outlinewidth\":0,\"ticks\":\"\"},\"colorscale\":[[0.0,\"#0d0887\"],[0.1111111111111111,\"#46039f\"],[0.2222222222222222,\"#7201a8\"],[0.3333333333333333,\"#9c179e\"],[0.4444444444444444,\"#bd3786\"],[0.5555555555555556,\"#d8576b\"],[0.6666666666666666,\"#ed7953\"],[0.7777777777777778,\"#fb9f3a\"],[0.8888888888888888,\"#fdca26\"],[1.0,\"#f0f921\"]],\"type\":\"histogram2d\"}],\"histogram2dcontour\":[{\"colorbar\":{\"outlinewidth\":0,\"ticks\":\"\"},\"colorscale\":[[0.0,\"#0d0887\"],[0.1111111111111111,\"#46039f\"],[0.2222222222222222,\"#7201a8\"],[0.3333333333333333,\"#9c179e\"],[0.4444444444444444,\"#bd3786\"],[0.5555555555555556,\"#d8576b\"],[0.6666666666666666,\"#ed7953\"],[0.7777777777777778,\"#fb9f3a\"],[0.8888888888888888,\"#fdca26\"],[1.0,\"#f0f921\"]],\"type\":\"histogram2dcontour\"}],\"mesh3d\":[{\"colorbar\":{\"outlinewidth\":0,\"ticks\":\"\"},\"type\":\"mesh3d\"}],\"parcoords\":[{\"line\":{\"colorbar\":{\"outlinewidth\":0,\"ticks\":\"\"}},\"type\":\"parcoords\"}],\"pie\":[{\"automargin\":true,\"type\":\"pie\"}],\"scatter\":[{\"marker\":{\"colorbar\":{\"outlinewidth\":0,\"ticks\":\"\"}},\"type\":\"scatter\"}],\"scatter3d\":[{\"line\":{\"colorbar\":{\"outlinewidth\":0,\"ticks\":\"\"}},\"marker\":{\"colorbar\":{\"outlinewidth\":0,\"ticks\":\"\"}},\"type\":\"scatter3d\"}],\"scattercarpet\":[{\"marker\":{\"colorbar\":{\"outlinewidth\":0,\"ticks\":\"\"}},\"type\":\"scattercarpet\"}],\"scattergeo\":[{\"marker\":{\"colorbar\":{\"outlinewidth\":0,\"ticks\":\"\"}},\"type\":\"scattergeo\"}],\"scattergl\":[{\"marker\":{\"colorbar\":{\"outlinewidth\":0,\"ticks\":\"\"}},\"type\":\"scattergl\"}],\"scattermapbox\":[{\"marker\":{\"colorbar\":{\"outlinewidth\":0,\"ticks\":\"\"}},\"type\":\"scattermapbox\"}],\"scatterpolar\":[{\"marker\":{\"colorbar\":{\"outlinewidth\":0,\"ticks\":\"\"}},\"type\":\"scatterpolar\"}],\"scatterpolargl\":[{\"marker\":{\"colorbar\":{\"outlinewidth\":0,\"ticks\":\"\"}},\"type\":\"scatterpolargl\"}],\"scatterternary\":[{\"marker\":{\"colorbar\":{\"outlinewidth\":0,\"ticks\":\"\"}},\"type\":\"scatterternary\"}],\"surface\":[{\"colorbar\":{\"outlinewidth\":0,\"ticks\":\"\"},\"colorscale\":[[0.0,\"#0d0887\"],[0.1111111111111111,\"#46039f\"],[0.2222222222222222,\"#7201a8\"],[0.3333333333333333,\"#9c179e\"],[0.4444444444444444,\"#bd3786\"],[0.5555555555555556,\"#d8576b\"],[0.6666666666666666,\"#ed7953\"],[0.7777777777777778,\"#fb9f3a\"],[0.8888888888888888,\"#fdca26\"],[1.0,\"#f0f921\"]],\"type\":\"surface\"}],\"table\":[{\"cells\":{\"fill\":{\"color\":\"#EBF0F8\"},\"line\":{\"color\":\"white\"}},\"header\":{\"fill\":{\"color\":\"#C8D4E3\"},\"line\":{\"color\":\"white\"}},\"type\":\"table\"}]},\"layout\":{\"annotationdefaults\":{\"arrowcolor\":\"#2a3f5f\",\"arrowhead\":0,\"arrowwidth\":1},\"autotypenumbers\":\"strict\",\"coloraxis\":{\"colorbar\":{\"outlinewidth\":0,\"ticks\":\"\"}},\"colorscale\":{\"diverging\":[[0,\"#8e0152\"],[0.1,\"#c51b7d\"],[0.2,\"#de77ae\"],[0.3,\"#f1b6da\"],[0.4,\"#fde0ef\"],[0.5,\"#f7f7f7\"],[0.6,\"#e6f5d0\"],[0.7,\"#b8e186\"],[0.8,\"#7fbc41\"],[0.9,\"#4d9221\"],[1,\"#276419\"]],\"sequential\":[[0.0,\"#0d0887\"],[0.1111111111111111,\"#46039f\"],[0.2222222222222222,\"#7201a8\"],[0.3333333333333333,\"#9c179e\"],[0.4444444444444444,\"#bd3786\"],[0.5555555555555556,\"#d8576b\"],[0.6666666666666666,\"#ed7953\"],[0.7777777777777778,\"#fb9f3a\"],[0.8888888888888888,\"#fdca26\"],[1.0,\"#f0f921\"]],\"sequentialminus\":[[0.0,\"#0d0887\"],[0.1111111111111111,\"#46039f\"],[0.2222222222222222,\"#7201a8\"],[0.3333333333333333,\"#9c179e\"],[0.4444444444444444,\"#bd3786\"],[0.5555555555555556,\"#d8576b\"],[0.6666666666666666,\"#ed7953\"],[0.7777777777777778,\"#fb9f3a\"],[0.8888888888888888,\"#fdca26\"],[1.0,\"#f0f921\"]]},\"colorway\":[\"#636efa\",\"#EF553B\",\"#00cc96\",\"#ab63fa\",\"#FFA15A\",\"#19d3f3\",\"#FF6692\",\"#B6E880\",\"#FF97FF\",\"#FECB52\"],\"font\":{\"color\":\"#2a3f5f\"},\"geo\":{\"bgcolor\":\"white\",\"lakecolor\":\"white\",\"landcolor\":\"#E5ECF6\",\"showlakes\":true,\"showland\":true,\"subunitcolor\":\"white\"},\"hoverlabel\":{\"align\":\"left\"},\"hovermode\":\"closest\",\"mapbox\":{\"style\":\"light\"},\"paper_bgcolor\":\"white\",\"plot_bgcolor\":\"#E5ECF6\",\"polar\":{\"angularaxis\":{\"gridcolor\":\"white\",\"linecolor\":\"white\",\"ticks\":\"\"},\"bgcolor\":\"#E5ECF6\",\"radialaxis\":{\"gridcolor\":\"white\",\"linecolor\":\"white\",\"ticks\":\"\"}},\"scene\":{\"xaxis\":{\"backgroundcolor\":\"#E5ECF6\",\"gridcolor\":\"white\",\"gridwidth\":2,\"linecolor\":\"white\",\"showbackground\":true,\"ticks\":\"\",\"zerolinecolor\":\"white\"},\"yaxis\":{\"backgroundcolor\":\"#E5ECF6\",\"gridcolor\":\"white\",\"gridwidth\":2,\"linecolor\":\"white\",\"showbackground\":true,\"ticks\":\"\",\"zerolinecolor\":\"white\"},\"zaxis\":{\"backgroundcolor\":\"#E5ECF6\",\"gridcolor\":\"white\",\"gridwidth\":2,\"linecolor\":\"white\",\"showbackground\":true,\"ticks\":\"\",\"zerolinecolor\":\"white\"}},\"shapedefaults\":{\"line\":{\"color\":\"#2a3f5f\"}},\"ternary\":{\"aaxis\":{\"gridcolor\":\"white\",\"linecolor\":\"white\",\"ticks\":\"\"},\"baxis\":{\"gridcolor\":\"white\",\"linecolor\":\"white\",\"ticks\":\"\"},\"bgcolor\":\"#E5ECF6\",\"caxis\":{\"gridcolor\":\"white\",\"linecolor\":\"white\",\"ticks\":\"\"}},\"title\":{\"x\":0.05},\"xaxis\":{\"automargin\":true,\"gridcolor\":\"white\",\"linecolor\":\"white\",\"ticks\":\"\",\"title\":{\"standoff\":15},\"zerolinecolor\":\"white\",\"zerolinewidth\":2},\"yaxis\":{\"automargin\":true,\"gridcolor\":\"white\",\"linecolor\":\"white\",\"ticks\":\"\",\"title\":{\"standoff\":15},\"zerolinecolor\":\"white\",\"zerolinewidth\":2}}},\"uniformtext\":{\"minsize\":6,\"mode\":\"show\"},\"xaxis\":{\"anchor\":\"y\",\"domain\":[0.0,1.0],\"title\":{\"text\":\"val\"}},\"yaxis\":{\"anchor\":\"x\",\"domain\":[0.0,1.0],\"title\":{\"text\":\"count\"}}},                        {\"responsive\": true}                    ).then(function(){\n",
       "                            \n",
       "var gd = document.getElementById('0afb9ee4-a532-4e5e-8922-7f109cc6beab');\n",
       "var x = new MutationObserver(function (mutations, observer) {{\n",
       "        var display = window.getComputedStyle(gd).display;\n",
       "        if (!display || display === 'none') {{\n",
       "            console.log([gd, 'removed!']);\n",
       "            Plotly.purge(gd);\n",
       "            observer.disconnect();\n",
       "        }}\n",
       "}});\n",
       "\n",
       "// Listen for the removal of the full notebook cells\n",
       "var notebookContainer = gd.closest('#notebook-container');\n",
       "if (notebookContainer) {{\n",
       "    x.observe(notebookContainer, {childList: true});\n",
       "}}\n",
       "\n",
       "// Listen for the clearing of the current output cell\n",
       "var outputEl = gd.closest('.output');\n",
       "if (outputEl) {{\n",
       "    x.observe(outputEl, {childList: true});\n",
       "}}\n",
       "\n",
       "                        })                };                });            </script>        </div>"
      ]
     },
     "metadata": {},
     "output_type": "display_data"
    },
    {
     "name": "stdout",
     "output_type": "stream",
     "text": [
      "The searched value is at index: 1\n"
     ]
    }
   ],
   "source": [
    "############# CIRCUIT SIMULATION #################\n",
    "aer_sim = Aer.get_backend('aer_simulator')\n",
    "aer_sim.set_options(device='CPU')\n",
    "transpiled_qc = transpile(qc, aer_sim)\n",
    "\n",
    "shots = 2**(n+7) #we repeat the simulation 2048 times\n",
    "job = aer_sim.run(transpiled_qc, shots=shots)\n",
    "\n",
    "############# CODE FOR PLOTTING ####################\n",
    "hist = job.result().get_counts() #simulation output\n",
    "sort_hist = sorted(hist.items()) #So that the plotting puts everything in the same increasing order of basis\n",
    "n_hist = {k:v for k,v in sort_hist}\n",
    "\n",
    "results = {'val':n_hist.keys(),'count':n_hist.values()} #change the formatting of the data to match plotly\n",
    "\n",
    "fig = px.bar(results, x=\"val\", y=\"count\", text=\"count\")\n",
    "fig.update_traces(texttemplate='%{text:.2s}', textposition='outside')\n",
    "fig.update_layout(uniformtext_minsize=6, uniformtext_mode='show')\n",
    "fig.show()\n",
    "\n",
    "measured_str = max(hist, key=hist.get)\n",
    "measured_int = int(measured_str,2)\n",
    "print(f\"The searched value is at index: {measured_int}\")"
   ]
  },
  {
   "cell_type": "markdown",
   "id": "0419acf1",
   "metadata": {},
   "source": [
    "## 3,4 registers building (hand encoded), with data array [3,4,9,13]"
   ]
  },
  {
   "cell_type": "code",
   "execution_count": 98,
   "id": "d5328413",
   "metadata": {
    "ExecuteTime": {
     "end_time": "2021-12-11T13:01:11.709876Z",
     "start_time": "2021-12-11T13:01:11.646308Z"
    }
   },
   "outputs": [
    {
     "data": {
      "text/html": [
       "<pre style=\"word-wrap: normal;white-space: pre;background: #fff0;line-height: 1.1;font-family: &quot;Courier New&quot;,Courier,monospace\">           ┌───┐      ░ ┌───┐     ┌───┐┌───┐     ┌───┐ ░                 ░ ┌───┐     ┌───┐┌───┐     ┌───┐ ░                                               ░                 ░                                               ░ ┌───┐     ┌───┐┌───┐     ┌───┐ ░                 ░ ┌───┐     ┌───┐┌───┐     ┌───┐ ░ ┌───┐┌───┐          ┌───┐┌───┐      ░  ░ ┌─┐      \n",
       "      d_0: ┤ H ├──────░─┤ X ├──■──┤ X ├┤ X ├──■──┤ X ├─░────────■────────░─┤ X ├──■──┤ X ├┤ X ├──■──┤ X ├─░────────■──────────────■──────────────■────────░─────────────────░────────■──────────────■──────────────■────────░─┤ X ├──■──┤ X ├┤ X ├──■──┤ X ├─░────────■────────░─┤ X ├──■──┤ X ├┤ X ├──■──┤ X ├─░─┤ H ├┤ X ├───────■──┤ X ├┤ H ├──────░──░─┤M├──────\n",
       "           ├───┤      ░ ├───┤  │  ├───┤├───┤  │  ├───┤ ░ ┌───┐  │  ┌───┐ ░ └───┘  │  └───┘└───┘  │  └───┘ ░        │              │              │        ░                 ░        │              │              │        ░ └───┘  │  └───┘└───┘  │  └───┘ ░ ┌───┐  │  ┌───┐ ░ ├───┤  │  ├───┤├───┤  │  ├───┤ ░ ├───┤├───┤       │  ├───┤├───┤      ░  ░ └╥┘┌─┐   \n",
       "      d_1: ┤ H ├──────░─┤ X ├──■──┤ X ├┤ X ├──■──┤ X ├─░─┤ X ├──■──┤ X ├─░────────■──────────────■────────░────────■──────────────■──────────────■────────░─────────────────░────────■──────────────■──────────────■────────░────────■──────────────■────────░─┤ X ├──■──┤ X ├─░─┤ X ├──■──┤ X ├┤ X ├──■──┤ X ├─░─┤ H ├┤ X ├───────■──┤ X ├┤ H ├──────░──░──╫─┤M├───\n",
       "           ├───┤      ░ ├───┤  │  ├───┤├───┤  │  ├───┤ ░ ├───┤  │  ├───┤ ░ ┌───┐  │  ┌───┐┌───┐  │  ┌───┐ ░ ┌───┐  │  ┌───┐┌───┐  │  ┌───┐┌───┐  │  ┌───┐ ░                 ░ ┌───┐  │  ┌───┐┌───┐  │  ┌───┐┌───┐  │  ┌───┐ ░ ┌───┐  │  ┌───┐┌───┐  │  ┌───┐ ░ ├───┤  │  ├───┤ ░ ├───┤  │  ├───┤├───┤  │  ├───┤ ░ ├───┤├───┤┌───┐┌─┴─┐├───┤├───┤┌───┐ ░  ░  ║ └╥┘┌─┐\n",
       "      d_2: ┤ H ├──────░─┤ X ├──■──┤ X ├┤ X ├──■──┤ X ├─░─┤ X ├──■──┤ X ├─░─┤ X ├──■──┤ X ├┤ X ├──■──┤ X ├─░─┤ X ├──■──┤ X ├┤ X ├──■──┤ X ├┤ X ├──■──┤ X ├─░─────────────────░─┤ X ├──■──┤ X ├┤ X ├──■──┤ X ├┤ X ├──■──┤ X ├─░─┤ X ├──■──┤ X ├┤ X ├──■──┤ X ├─░─┤ X ├──■──┤ X ├─░─┤ X ├──■──┤ X ├┤ X ├──■──┤ X ├─░─┤ H ├┤ X ├┤ H ├┤ X ├┤ H ├┤ X ├┤ H ├─░──░──╫──╫─┤M├\n",
       "           └───┘      ░ └───┘┌─┴─┐└───┘└───┘  │  └───┘ ░ └───┘  │  └───┘ ░ └───┘┌─┴─┐└───┘└───┘  │  └───┘ ░ └───┘┌─┴─┐└───┘└───┘  │  └───┘└───┘  │  └───┘ ░ ┌───┐     ┌───┐ ░ └───┘  │  └───┘└───┘  │  └───┘└───┘┌─┴─┐└───┘ ░ └───┘  │  └───┘└───┘┌─┴─┐└───┘ ░ └───┘  │  └───┘ ░ └───┘  │  └───┘└───┘┌─┴─┐└───┘ ░ └───┘└───┘└───┘└───┘└───┘└───┘└───┘ ░  ░  ║  ║ └╥┘\n",
       "      t_0: ───────────░──────┤ X ├────────────┼────────░────────┼────────░──────┤ X ├────────────┼────────░──────┤ X ├────────────┼──────────────┼────────░─┤ X ├──■──┤ X ├─░────────┼──────────────┼────────────┤ X ├──────░────────┼────────────┤ X ├──────░────────┼────────░────────┼────────────┤ X ├──────░─────────────────────────────────────░──░──╫──╫──╫─\n",
       "                      ░      └───┘          ┌─┴─┐      ░        │        ░      └───┘            │        ░      └───┘            │              │        ░ ├───┤  │  ├───┤ ░        │              │            └───┘      ░        │            └───┘      ░        │        ░      ┌─┴─┐          └───┘      ░                                     ░  ░  ║  ║  ║ \n",
       "      t_1: ───────────░─────────────────────┤ X ├──────░────────┼────────░───────────────────────┼────────░───────────────────────┼──────────────┼────────░─┤ X ├──■──┤ X ├─░────────┼──────────────┼───────────────────────░────────┼───────────────────────░────────┼────────░──────┤ X ├─────────────────────░─────────────────────────────────────░──░──╫──╫──╫─\n",
       "                      ░                     └───┘      ░      ┌─┴─┐      ░                       │        ░                     ┌─┴─┐            │        ░ └───┘  │  └───┘ ░        │            ┌─┴─┐                     ░        │                       ░      ┌─┴─┐      ░      └───┘                     ░                                     ░  ░  ║  ║  ║ \n",
       "      t_2: ───────────░────────────────────────────────░──────┤ X ├──────░───────────────────────┼────────░─────────────────────┤ X ├────────────┼────────░────────■────────░────────┼────────────┤ X ├─────────────────────░────────┼───────────────────────░──────┤ X ├──────░────────────────────────────────░─────────────────────────────────────░──░──╫──╫──╫─\n",
       "                      ░                                ░      └───┘      ░                     ┌─┴─┐      ░                     └───┘          ┌─┴─┐      ░ ┌───┐  │  ┌───┐ ░      ┌─┴─┐          └───┘                     ░      ┌─┴─┐                     ░      └───┘      ░                                ░                                     ░  ░  ║  ║  ║ \n",
       "      t_3: ───────────░────────────────────────────────░─────────────────░─────────────────────┤ X ├──────░────────────────────────────────────┤ X ├──────░─┤ X ├──■──┤ X ├─░──────┤ X ├────────────────────────────────────░──────┤ X ├─────────────────────░─────────────────░────────────────────────────────░─────────────────────────────────────░──░──╫──╫──╫─\n",
       "           ┌───┐┌───┐ ░                                ░                 ░                     └───┘      ░                                    └───┘      ░ └───┘┌─┴─┐└───┘ ░      └───┘                                    ░      └───┘                     ░                 ░                                ░                                     ░  ░  ║  ║  ║ \n",
       "ancilla_0: ┤ X ├┤ H ├─░────────────────────────────────░─────────────────░────────────────────────────────░───────────────────────────────────────────────░──────┤ X ├──────░───────────────────────────────────────────────░────────────────────────────────░─────────────────░────────────────────────────────░─────────────────────────────────────░──░──╫──╫──╫─\n",
       "           └───┘└───┘ ░                                ░                 ░                                ░                                               ░      └───┘      ░                                               ░                                ░                 ░                                ░                                     ░  ░  ║  ║  ║ \n",
       "      c: 3/═════════════════════════════════════════════════════════════════════════════════════════════════════════════════════════════════════════════════════════════════════════════════════════════════════════════════════════════════════════════════════════════════════════════════════════════════════════════════════════════════════════════════╩══╩══╩═\n",
       "                                                                                                                                                                                                                                                                                                                                                            0  1  2 </pre>"
      ],
      "text/plain": [
       "           ┌───┐      ░ ┌───┐     ┌───┐┌───┐     ┌───┐ ░                 ░ ┌───┐     ┌───┐┌───┐     ┌───┐ ░                                               ░                 ░                                               ░ ┌───┐     ┌───┐┌───┐     ┌───┐ ░                 ░ ┌───┐     ┌───┐┌───┐     ┌───┐ ░ ┌───┐┌───┐          ┌───┐┌───┐      ░  ░ ┌─┐      \n",
       "      d_0: ┤ H ├──────░─┤ X ├──■──┤ X ├┤ X ├──■──┤ X ├─░────────■────────░─┤ X ├──■──┤ X ├┤ X ├──■──┤ X ├─░────────■──────────────■──────────────■────────░─────────────────░────────■──────────────■──────────────■────────░─┤ X ├──■──┤ X ├┤ X ├──■──┤ X ├─░────────■────────░─┤ X ├──■──┤ X ├┤ X ├──■──┤ X ├─░─┤ H ├┤ X ├───────■──┤ X ├┤ H ├──────░──░─┤M├──────\n",
       "           ├───┤      ░ ├───┤  │  ├───┤├───┤  │  ├───┤ ░ ┌───┐  │  ┌───┐ ░ └───┘  │  └───┘└───┘  │  └───┘ ░        │              │              │        ░                 ░        │              │              │        ░ └───┘  │  └───┘└───┘  │  └───┘ ░ ┌───┐  │  ┌───┐ ░ ├───┤  │  ├───┤├───┤  │  ├───┤ ░ ├───┤├───┤       │  ├───┤├───┤      ░  ░ └╥┘┌─┐   \n",
       "      d_1: ┤ H ├──────░─┤ X ├──■──┤ X ├┤ X ├──■──┤ X ├─░─┤ X ├──■──┤ X ├─░────────■──────────────■────────░────────■──────────────■──────────────■────────░─────────────────░────────■──────────────■──────────────■────────░────────■──────────────■────────░─┤ X ├──■──┤ X ├─░─┤ X ├──■──┤ X ├┤ X ├──■──┤ X ├─░─┤ H ├┤ X ├───────■──┤ X ├┤ H ├──────░──░──╫─┤M├───\n",
       "           ├───┤      ░ ├───┤  │  ├───┤├───┤  │  ├───┤ ░ ├───┤  │  ├───┤ ░ ┌───┐  │  ┌───┐┌───┐  │  ┌───┐ ░ ┌───┐  │  ┌───┐┌───┐  │  ┌───┐┌───┐  │  ┌───┐ ░                 ░ ┌───┐  │  ┌───┐┌───┐  │  ┌───┐┌───┐  │  ┌───┐ ░ ┌───┐  │  ┌───┐┌───┐  │  ┌───┐ ░ ├───┤  │  ├───┤ ░ ├───┤  │  ├───┤├───┤  │  ├───┤ ░ ├───┤├───┤┌───┐┌─┴─┐├───┤├───┤┌───┐ ░  ░  ║ └╥┘┌─┐\n",
       "      d_2: ┤ H ├──────░─┤ X ├──■──┤ X ├┤ X ├──■──┤ X ├─░─┤ X ├──■──┤ X ├─░─┤ X ├──■──┤ X ├┤ X ├──■──┤ X ├─░─┤ X ├──■──┤ X ├┤ X ├──■──┤ X ├┤ X ├──■──┤ X ├─░─────────────────░─┤ X ├──■──┤ X ├┤ X ├──■──┤ X ├┤ X ├──■──┤ X ├─░─┤ X ├──■──┤ X ├┤ X ├──■──┤ X ├─░─┤ X ├──■──┤ X ├─░─┤ X ├──■──┤ X ├┤ X ├──■──┤ X ├─░─┤ H ├┤ X ├┤ H ├┤ X ├┤ H ├┤ X ├┤ H ├─░──░──╫──╫─┤M├\n",
       "           └───┘      ░ └───┘┌─┴─┐└───┘└───┘  │  └───┘ ░ └───┘  │  └───┘ ░ └───┘┌─┴─┐└───┘└───┘  │  └───┘ ░ └───┘┌─┴─┐└───┘└───┘  │  └───┘└───┘  │  └───┘ ░ ┌───┐     ┌───┐ ░ └───┘  │  └───┘└───┘  │  └───┘└───┘┌─┴─┐└───┘ ░ └───┘  │  └───┘└───┘┌─┴─┐└───┘ ░ └───┘  │  └───┘ ░ └───┘  │  └───┘└───┘┌─┴─┐└───┘ ░ └───┘└───┘└───┘└───┘└───┘└───┘└───┘ ░  ░  ║  ║ └╥┘\n",
       "      t_0: ───────────░──────┤ X ├────────────┼────────░────────┼────────░──────┤ X ├────────────┼────────░──────┤ X ├────────────┼──────────────┼────────░─┤ X ├──■──┤ X ├─░────────┼──────────────┼────────────┤ X ├──────░────────┼────────────┤ X ├──────░────────┼────────░────────┼────────────┤ X ├──────░─────────────────────────────────────░──░──╫──╫──╫─\n",
       "                      ░      └───┘          ┌─┴─┐      ░        │        ░      └───┘            │        ░      └───┘            │              │        ░ ├───┤  │  ├───┤ ░        │              │            └───┘      ░        │            └───┘      ░        │        ░      ┌─┴─┐          └───┘      ░                                     ░  ░  ║  ║  ║ \n",
       "      t_1: ───────────░─────────────────────┤ X ├──────░────────┼────────░───────────────────────┼────────░───────────────────────┼──────────────┼────────░─┤ X ├──■──┤ X ├─░────────┼──────────────┼───────────────────────░────────┼───────────────────────░────────┼────────░──────┤ X ├─────────────────────░─────────────────────────────────────░──░──╫──╫──╫─\n",
       "                      ░                     └───┘      ░      ┌─┴─┐      ░                       │        ░                     ┌─┴─┐            │        ░ └───┘  │  └───┘ ░        │            ┌─┴─┐                     ░        │                       ░      ┌─┴─┐      ░      └───┘                     ░                                     ░  ░  ║  ║  ║ \n",
       "      t_2: ───────────░────────────────────────────────░──────┤ X ├──────░───────────────────────┼────────░─────────────────────┤ X ├────────────┼────────░────────■────────░────────┼────────────┤ X ├─────────────────────░────────┼───────────────────────░──────┤ X ├──────░────────────────────────────────░─────────────────────────────────────░──░──╫──╫──╫─\n",
       "                      ░                                ░      └───┘      ░                     ┌─┴─┐      ░                     └───┘          ┌─┴─┐      ░ ┌───┐  │  ┌───┐ ░      ┌─┴─┐          └───┘                     ░      ┌─┴─┐                     ░      └───┘      ░                                ░                                     ░  ░  ║  ║  ║ \n",
       "      t_3: ───────────░────────────────────────────────░─────────────────░─────────────────────┤ X ├──────░────────────────────────────────────┤ X ├──────░─┤ X ├──■──┤ X ├─░──────┤ X ├────────────────────────────────────░──────┤ X ├─────────────────────░─────────────────░────────────────────────────────░─────────────────────────────────────░──░──╫──╫──╫─\n",
       "           ┌───┐┌───┐ ░                                ░                 ░                     └───┘      ░                                    └───┘      ░ └───┘┌─┴─┐└───┘ ░      └───┘                                    ░      └───┘                     ░                 ░                                ░                                     ░  ░  ║  ║  ║ \n",
       "ancilla_0: ┤ X ├┤ H ├─░────────────────────────────────░─────────────────░────────────────────────────────░───────────────────────────────────────────────░──────┤ X ├──────░───────────────────────────────────────────────░────────────────────────────────░─────────────────░────────────────────────────────░─────────────────────────────────────░──░──╫──╫──╫─\n",
       "           └───┘└───┘ ░                                ░                 ░                                ░                                               ░      └───┘      ░                                               ░                                ░                 ░                                ░                                     ░  ░  ║  ║  ║ \n",
       "      c: 3/═════════════════════════════════════════════════════════════════════════════════════════════════════════════════════════════════════════════════════════════════════════════════════════════════════════════════════════════════════════════════════════════════════════════════════════════════════════════════════════════════════════════════╩══╩══╩═\n",
       "                                                                                                                                                                                                                                                                                                                                                            0  1  2 "
      ]
     },
     "execution_count": 98,
     "metadata": {},
     "output_type": "execute_result"
    }
   ],
   "source": [
    "# Making the circuit in the paper\n",
    "\n",
    "n = 3 #nb of index qbits\n",
    "m = 4 #nb of value qbits\n",
    "\n",
    "qrd = QuantumRegister(n, 'd') #Creates the data registry\n",
    "qrt = QuantumRegister(m, 't') #Creates the template registry\n",
    "anc = QuantumRegister(1, 'ancilla') #Creates the ancillary registry for the oracle\n",
    "cr = ClassicalRegister(n, 'c') #Creates the classical bit measurment output\n",
    "\n",
    "qc = QuantumCircuit(qrd, qrt, anc, cr) #Makes the circuit with these qbits as input\n",
    "\n",
    "####### State initialization #########\n",
    "qc.h(range(n))\n",
    "    \n",
    "#initiation of ancillary to |->\n",
    "qc.x(anc)\n",
    "qc.h(anc)\n",
    "qc.barrier()\n",
    "\n",
    "#Index 0 -> 3 (both qbits are controlled)\n",
    "qc.x(qrd)\n",
    "qc.mcx([0,1,2],3, mode='noancilla')\n",
    "qc.x(qrd)\n",
    "\n",
    "qc.x(qrd)\n",
    "qc.mcx([0,1,2],4, mode='noancilla')\n",
    "qc.x(qrd)\n",
    "qc.barrier()\n",
    "\n",
    "#Index 1 -> 4 (only qbit 2 is controlled)\n",
    "qc.x([1,2])\n",
    "qc.mcx([0,1,2],5, mode='noancilla')\n",
    "qc.x([1,2])\n",
    "qc.barrier()\n",
    "\n",
    "#Index 2 -> 9 (no qbit is controlled)\n",
    "qc.x([0,2])\n",
    "qc.mcx([0,1,2],3, mode='noancilla')\n",
    "qc.x([0,2])\n",
    "\n",
    "qc.x([0,2])\n",
    "qc.mcx([0,1,2],6, mode='noancilla')\n",
    "qc.x([0,2])\n",
    "qc.barrier()\n",
    "\n",
    "#Index 3 -> 13 (only qbit 1 is controlled)\n",
    "qc.x([2])\n",
    "qc.mcx([0,1,2],3, mode='noancilla')\n",
    "qc.x([2])\n",
    "\n",
    "qc.x([2])\n",
    "qc.mcx([0,1,2],5, mode='noancilla')\n",
    "qc.x([2])\n",
    "\n",
    "qc.x([2])\n",
    "qc.mcx([0,1,2],6, mode='noancilla')\n",
    "qc.x([2])\n",
    "qc.barrier()\n",
    "\n",
    "#Oracle\n",
    "qc.x([n+0,n+1,n+3])\n",
    "qc.mcx(list(range(n,n+m)),anc, mode='noancilla')\n",
    "qc.x([n+0,n+1,n+3])\n",
    "qc.barrier()\n",
    "\n",
    "\n",
    "#REPETITION TO MAKE SYMMETRY\n",
    "#Index 3 -> 13 (only qbit 1 is controlled)\n",
    "qc.x([2])\n",
    "qc.mcx([0,1,2],6, mode='noancilla')\n",
    "qc.x([2])\n",
    "\n",
    "qc.x([2])\n",
    "qc.mcx([0,1,2],5, mode='noancilla')\n",
    "qc.x([2])\n",
    "\n",
    "qc.x([2])\n",
    "qc.mcx([0,1,2],3, mode='noancilla')\n",
    "qc.x([2])\n",
    "qc.barrier()\n",
    "\n",
    "#Index 2 -> 9 (no qbit is controlled)\n",
    "qc.x([0,2])\n",
    "qc.mcx([0,1,2],6, mode='noancilla')\n",
    "qc.x([0,2])\n",
    "\n",
    "qc.x([0,2])\n",
    "qc.mcx([0,1,2],3, mode='noancilla')\n",
    "qc.x([0,2])\n",
    "qc.barrier()\n",
    "\n",
    "#Index 1 -> 4 (only qbit 2 is controlled)\n",
    "qc.x([1,2])\n",
    "qc.mcx([0,1,2],5, mode='noancilla')\n",
    "qc.x([1,2])\n",
    "qc.barrier()\n",
    "\n",
    "#Index 0 -> 3 (both qbits are controlled)\n",
    "qc.x(qrd)\n",
    "qc.mcx([0,1,2],4, mode='noancilla')\n",
    "qc.x(qrd)\n",
    "\n",
    "qc.x(qrd)\n",
    "qc.mcx([0,1,2],3, mode='noancilla')\n",
    "qc.x(qrd)\n",
    "qc.barrier()\n",
    "\n",
    "#DIFFUSION OP\n",
    "qc.h(range(n))\n",
    "qc.x(range(n-1))\n",
    "\n",
    "#It is difficult to do an actual multi-control-Z gate, so instead we make a MCX surrounded by H gates to transform it into a MCZ\n",
    "qc.x(n-1)\n",
    "qc.h(n-1)\n",
    "qc.mct(list(range(n-1)), n-1) \n",
    "qc.h(n-1)\n",
    "qc.x(n-1)\n",
    "\n",
    "#The other symmetric side of the diffusor\n",
    "qc.x(range(n-1))\n",
    "qc.h(range(n))\n",
    "qc.barrier()\n",
    "\n",
    "\n",
    "qc.barrier()\n",
    "qc.measure(range(n),cr)\n",
    "\n",
    "qc.draw(fold=-1)"
   ]
  },
  {
   "cell_type": "code",
   "execution_count": 100,
   "id": "1307b0c8",
   "metadata": {
    "ExecuteTime": {
     "end_time": "2021-12-11T13:01:31.045348Z",
     "start_time": "2021-12-11T13:01:30.944608Z"
    }
   },
   "outputs": [
    {
     "data": {
      "application/vnd.plotly.v1+json": {
       "config": {
        "plotlyServerURL": "https://plot.ly"
       },
       "data": [
        {
         "alignmentgroup": "True",
         "hovertemplate": "val=%{x}<br>count=%{text}<extra></extra>",
         "legendgroup": "",
         "marker": {
          "color": "#636efa",
          "pattern": {
           "shape": ""
          }
         },
         "name": "",
         "offsetgroup": "",
         "orientation": "v",
         "showlegend": false,
         "text": [
          "28",
          "793",
          "37",
          "28",
          "37",
          "35",
          "41",
          "25"
         ],
         "textposition": "outside",
         "texttemplate": "%{text:.2s}",
         "type": "bar",
         "x": [
          "000",
          "001",
          "010",
          "011",
          "100",
          "101",
          "110",
          "111"
         ],
         "xaxis": "x",
         "y": [
          28,
          793,
          37,
          28,
          37,
          35,
          41,
          25
         ],
         "yaxis": "y"
        }
       ],
       "layout": {
        "barmode": "relative",
        "legend": {
         "tracegroupgap": 0
        },
        "margin": {
         "t": 60
        },
        "template": {
         "data": {
          "bar": [
           {
            "error_x": {
             "color": "#2a3f5f"
            },
            "error_y": {
             "color": "#2a3f5f"
            },
            "marker": {
             "line": {
              "color": "#E5ECF6",
              "width": 0.5
             },
             "pattern": {
              "fillmode": "overlay",
              "size": 10,
              "solidity": 0.2
             }
            },
            "type": "bar"
           }
          ],
          "barpolar": [
           {
            "marker": {
             "line": {
              "color": "#E5ECF6",
              "width": 0.5
             },
             "pattern": {
              "fillmode": "overlay",
              "size": 10,
              "solidity": 0.2
             }
            },
            "type": "barpolar"
           }
          ],
          "carpet": [
           {
            "aaxis": {
             "endlinecolor": "#2a3f5f",
             "gridcolor": "white",
             "linecolor": "white",
             "minorgridcolor": "white",
             "startlinecolor": "#2a3f5f"
            },
            "baxis": {
             "endlinecolor": "#2a3f5f",
             "gridcolor": "white",
             "linecolor": "white",
             "minorgridcolor": "white",
             "startlinecolor": "#2a3f5f"
            },
            "type": "carpet"
           }
          ],
          "choropleth": [
           {
            "colorbar": {
             "outlinewidth": 0,
             "ticks": ""
            },
            "type": "choropleth"
           }
          ],
          "contour": [
           {
            "colorbar": {
             "outlinewidth": 0,
             "ticks": ""
            },
            "colorscale": [
             [
              0,
              "#0d0887"
             ],
             [
              0.1111111111111111,
              "#46039f"
             ],
             [
              0.2222222222222222,
              "#7201a8"
             ],
             [
              0.3333333333333333,
              "#9c179e"
             ],
             [
              0.4444444444444444,
              "#bd3786"
             ],
             [
              0.5555555555555556,
              "#d8576b"
             ],
             [
              0.6666666666666666,
              "#ed7953"
             ],
             [
              0.7777777777777778,
              "#fb9f3a"
             ],
             [
              0.8888888888888888,
              "#fdca26"
             ],
             [
              1,
              "#f0f921"
             ]
            ],
            "type": "contour"
           }
          ],
          "contourcarpet": [
           {
            "colorbar": {
             "outlinewidth": 0,
             "ticks": ""
            },
            "type": "contourcarpet"
           }
          ],
          "heatmap": [
           {
            "colorbar": {
             "outlinewidth": 0,
             "ticks": ""
            },
            "colorscale": [
             [
              0,
              "#0d0887"
             ],
             [
              0.1111111111111111,
              "#46039f"
             ],
             [
              0.2222222222222222,
              "#7201a8"
             ],
             [
              0.3333333333333333,
              "#9c179e"
             ],
             [
              0.4444444444444444,
              "#bd3786"
             ],
             [
              0.5555555555555556,
              "#d8576b"
             ],
             [
              0.6666666666666666,
              "#ed7953"
             ],
             [
              0.7777777777777778,
              "#fb9f3a"
             ],
             [
              0.8888888888888888,
              "#fdca26"
             ],
             [
              1,
              "#f0f921"
             ]
            ],
            "type": "heatmap"
           }
          ],
          "heatmapgl": [
           {
            "colorbar": {
             "outlinewidth": 0,
             "ticks": ""
            },
            "colorscale": [
             [
              0,
              "#0d0887"
             ],
             [
              0.1111111111111111,
              "#46039f"
             ],
             [
              0.2222222222222222,
              "#7201a8"
             ],
             [
              0.3333333333333333,
              "#9c179e"
             ],
             [
              0.4444444444444444,
              "#bd3786"
             ],
             [
              0.5555555555555556,
              "#d8576b"
             ],
             [
              0.6666666666666666,
              "#ed7953"
             ],
             [
              0.7777777777777778,
              "#fb9f3a"
             ],
             [
              0.8888888888888888,
              "#fdca26"
             ],
             [
              1,
              "#f0f921"
             ]
            ],
            "type": "heatmapgl"
           }
          ],
          "histogram": [
           {
            "marker": {
             "pattern": {
              "fillmode": "overlay",
              "size": 10,
              "solidity": 0.2
             }
            },
            "type": "histogram"
           }
          ],
          "histogram2d": [
           {
            "colorbar": {
             "outlinewidth": 0,
             "ticks": ""
            },
            "colorscale": [
             [
              0,
              "#0d0887"
             ],
             [
              0.1111111111111111,
              "#46039f"
             ],
             [
              0.2222222222222222,
              "#7201a8"
             ],
             [
              0.3333333333333333,
              "#9c179e"
             ],
             [
              0.4444444444444444,
              "#bd3786"
             ],
             [
              0.5555555555555556,
              "#d8576b"
             ],
             [
              0.6666666666666666,
              "#ed7953"
             ],
             [
              0.7777777777777778,
              "#fb9f3a"
             ],
             [
              0.8888888888888888,
              "#fdca26"
             ],
             [
              1,
              "#f0f921"
             ]
            ],
            "type": "histogram2d"
           }
          ],
          "histogram2dcontour": [
           {
            "colorbar": {
             "outlinewidth": 0,
             "ticks": ""
            },
            "colorscale": [
             [
              0,
              "#0d0887"
             ],
             [
              0.1111111111111111,
              "#46039f"
             ],
             [
              0.2222222222222222,
              "#7201a8"
             ],
             [
              0.3333333333333333,
              "#9c179e"
             ],
             [
              0.4444444444444444,
              "#bd3786"
             ],
             [
              0.5555555555555556,
              "#d8576b"
             ],
             [
              0.6666666666666666,
              "#ed7953"
             ],
             [
              0.7777777777777778,
              "#fb9f3a"
             ],
             [
              0.8888888888888888,
              "#fdca26"
             ],
             [
              1,
              "#f0f921"
             ]
            ],
            "type": "histogram2dcontour"
           }
          ],
          "mesh3d": [
           {
            "colorbar": {
             "outlinewidth": 0,
             "ticks": ""
            },
            "type": "mesh3d"
           }
          ],
          "parcoords": [
           {
            "line": {
             "colorbar": {
              "outlinewidth": 0,
              "ticks": ""
             }
            },
            "type": "parcoords"
           }
          ],
          "pie": [
           {
            "automargin": true,
            "type": "pie"
           }
          ],
          "scatter": [
           {
            "marker": {
             "colorbar": {
              "outlinewidth": 0,
              "ticks": ""
             }
            },
            "type": "scatter"
           }
          ],
          "scatter3d": [
           {
            "line": {
             "colorbar": {
              "outlinewidth": 0,
              "ticks": ""
             }
            },
            "marker": {
             "colorbar": {
              "outlinewidth": 0,
              "ticks": ""
             }
            },
            "type": "scatter3d"
           }
          ],
          "scattercarpet": [
           {
            "marker": {
             "colorbar": {
              "outlinewidth": 0,
              "ticks": ""
             }
            },
            "type": "scattercarpet"
           }
          ],
          "scattergeo": [
           {
            "marker": {
             "colorbar": {
              "outlinewidth": 0,
              "ticks": ""
             }
            },
            "type": "scattergeo"
           }
          ],
          "scattergl": [
           {
            "marker": {
             "colorbar": {
              "outlinewidth": 0,
              "ticks": ""
             }
            },
            "type": "scattergl"
           }
          ],
          "scattermapbox": [
           {
            "marker": {
             "colorbar": {
              "outlinewidth": 0,
              "ticks": ""
             }
            },
            "type": "scattermapbox"
           }
          ],
          "scatterpolar": [
           {
            "marker": {
             "colorbar": {
              "outlinewidth": 0,
              "ticks": ""
             }
            },
            "type": "scatterpolar"
           }
          ],
          "scatterpolargl": [
           {
            "marker": {
             "colorbar": {
              "outlinewidth": 0,
              "ticks": ""
             }
            },
            "type": "scatterpolargl"
           }
          ],
          "scatterternary": [
           {
            "marker": {
             "colorbar": {
              "outlinewidth": 0,
              "ticks": ""
             }
            },
            "type": "scatterternary"
           }
          ],
          "surface": [
           {
            "colorbar": {
             "outlinewidth": 0,
             "ticks": ""
            },
            "colorscale": [
             [
              0,
              "#0d0887"
             ],
             [
              0.1111111111111111,
              "#46039f"
             ],
             [
              0.2222222222222222,
              "#7201a8"
             ],
             [
              0.3333333333333333,
              "#9c179e"
             ],
             [
              0.4444444444444444,
              "#bd3786"
             ],
             [
              0.5555555555555556,
              "#d8576b"
             ],
             [
              0.6666666666666666,
              "#ed7953"
             ],
             [
              0.7777777777777778,
              "#fb9f3a"
             ],
             [
              0.8888888888888888,
              "#fdca26"
             ],
             [
              1,
              "#f0f921"
             ]
            ],
            "type": "surface"
           }
          ],
          "table": [
           {
            "cells": {
             "fill": {
              "color": "#EBF0F8"
             },
             "line": {
              "color": "white"
             }
            },
            "header": {
             "fill": {
              "color": "#C8D4E3"
             },
             "line": {
              "color": "white"
             }
            },
            "type": "table"
           }
          ]
         },
         "layout": {
          "annotationdefaults": {
           "arrowcolor": "#2a3f5f",
           "arrowhead": 0,
           "arrowwidth": 1
          },
          "autotypenumbers": "strict",
          "coloraxis": {
           "colorbar": {
            "outlinewidth": 0,
            "ticks": ""
           }
          },
          "colorscale": {
           "diverging": [
            [
             0,
             "#8e0152"
            ],
            [
             0.1,
             "#c51b7d"
            ],
            [
             0.2,
             "#de77ae"
            ],
            [
             0.3,
             "#f1b6da"
            ],
            [
             0.4,
             "#fde0ef"
            ],
            [
             0.5,
             "#f7f7f7"
            ],
            [
             0.6,
             "#e6f5d0"
            ],
            [
             0.7,
             "#b8e186"
            ],
            [
             0.8,
             "#7fbc41"
            ],
            [
             0.9,
             "#4d9221"
            ],
            [
             1,
             "#276419"
            ]
           ],
           "sequential": [
            [
             0,
             "#0d0887"
            ],
            [
             0.1111111111111111,
             "#46039f"
            ],
            [
             0.2222222222222222,
             "#7201a8"
            ],
            [
             0.3333333333333333,
             "#9c179e"
            ],
            [
             0.4444444444444444,
             "#bd3786"
            ],
            [
             0.5555555555555556,
             "#d8576b"
            ],
            [
             0.6666666666666666,
             "#ed7953"
            ],
            [
             0.7777777777777778,
             "#fb9f3a"
            ],
            [
             0.8888888888888888,
             "#fdca26"
            ],
            [
             1,
             "#f0f921"
            ]
           ],
           "sequentialminus": [
            [
             0,
             "#0d0887"
            ],
            [
             0.1111111111111111,
             "#46039f"
            ],
            [
             0.2222222222222222,
             "#7201a8"
            ],
            [
             0.3333333333333333,
             "#9c179e"
            ],
            [
             0.4444444444444444,
             "#bd3786"
            ],
            [
             0.5555555555555556,
             "#d8576b"
            ],
            [
             0.6666666666666666,
             "#ed7953"
            ],
            [
             0.7777777777777778,
             "#fb9f3a"
            ],
            [
             0.8888888888888888,
             "#fdca26"
            ],
            [
             1,
             "#f0f921"
            ]
           ]
          },
          "colorway": [
           "#636efa",
           "#EF553B",
           "#00cc96",
           "#ab63fa",
           "#FFA15A",
           "#19d3f3",
           "#FF6692",
           "#B6E880",
           "#FF97FF",
           "#FECB52"
          ],
          "font": {
           "color": "#2a3f5f"
          },
          "geo": {
           "bgcolor": "white",
           "lakecolor": "white",
           "landcolor": "#E5ECF6",
           "showlakes": true,
           "showland": true,
           "subunitcolor": "white"
          },
          "hoverlabel": {
           "align": "left"
          },
          "hovermode": "closest",
          "mapbox": {
           "style": "light"
          },
          "paper_bgcolor": "white",
          "plot_bgcolor": "#E5ECF6",
          "polar": {
           "angularaxis": {
            "gridcolor": "white",
            "linecolor": "white",
            "ticks": ""
           },
           "bgcolor": "#E5ECF6",
           "radialaxis": {
            "gridcolor": "white",
            "linecolor": "white",
            "ticks": ""
           }
          },
          "scene": {
           "xaxis": {
            "backgroundcolor": "#E5ECF6",
            "gridcolor": "white",
            "gridwidth": 2,
            "linecolor": "white",
            "showbackground": true,
            "ticks": "",
            "zerolinecolor": "white"
           },
           "yaxis": {
            "backgroundcolor": "#E5ECF6",
            "gridcolor": "white",
            "gridwidth": 2,
            "linecolor": "white",
            "showbackground": true,
            "ticks": "",
            "zerolinecolor": "white"
           },
           "zaxis": {
            "backgroundcolor": "#E5ECF6",
            "gridcolor": "white",
            "gridwidth": 2,
            "linecolor": "white",
            "showbackground": true,
            "ticks": "",
            "zerolinecolor": "white"
           }
          },
          "shapedefaults": {
           "line": {
            "color": "#2a3f5f"
           }
          },
          "ternary": {
           "aaxis": {
            "gridcolor": "white",
            "linecolor": "white",
            "ticks": ""
           },
           "baxis": {
            "gridcolor": "white",
            "linecolor": "white",
            "ticks": ""
           },
           "bgcolor": "#E5ECF6",
           "caxis": {
            "gridcolor": "white",
            "linecolor": "white",
            "ticks": ""
           }
          },
          "title": {
           "x": 0.05
          },
          "xaxis": {
           "automargin": true,
           "gridcolor": "white",
           "linecolor": "white",
           "ticks": "",
           "title": {
            "standoff": 15
           },
           "zerolinecolor": "white",
           "zerolinewidth": 2
          },
          "yaxis": {
           "automargin": true,
           "gridcolor": "white",
           "linecolor": "white",
           "ticks": "",
           "title": {
            "standoff": 15
           },
           "zerolinecolor": "white",
           "zerolinewidth": 2
          }
         }
        },
        "uniformtext": {
         "minsize": 6,
         "mode": "show"
        },
        "xaxis": {
         "anchor": "y",
         "domain": [
          0,
          1
         ],
         "title": {
          "text": "val"
         }
        },
        "yaxis": {
         "anchor": "x",
         "domain": [
          0,
          1
         ],
         "title": {
          "text": "count"
         }
        }
       }
      },
      "text/html": [
       "<div>                            <div id=\"15b46f2b-2b92-464b-94ea-e9905262954b\" class=\"plotly-graph-div\" style=\"height:525px; width:100%;\"></div>            <script type=\"text/javascript\">                require([\"plotly\"], function(Plotly) {                    window.PLOTLYENV=window.PLOTLYENV || {};                                    if (document.getElementById(\"15b46f2b-2b92-464b-94ea-e9905262954b\")) {                    Plotly.newPlot(                        \"15b46f2b-2b92-464b-94ea-e9905262954b\",                        [{\"alignmentgroup\":\"True\",\"hovertemplate\":\"val=%{x}<br>count=%{text}<extra></extra>\",\"legendgroup\":\"\",\"marker\":{\"color\":\"#636efa\",\"pattern\":{\"shape\":\"\"}},\"name\":\"\",\"offsetgroup\":\"\",\"orientation\":\"v\",\"showlegend\":false,\"text\":[\"28\",\"793\",\"37\",\"28\",\"37\",\"35\",\"41\",\"25\"],\"textposition\":\"outside\",\"texttemplate\":\"%{text:.2s}\",\"type\":\"bar\",\"x\":[\"000\",\"001\",\"010\",\"011\",\"100\",\"101\",\"110\",\"111\"],\"xaxis\":\"x\",\"y\":[28,793,37,28,37,35,41,25],\"yaxis\":\"y\"}],                        {\"barmode\":\"relative\",\"legend\":{\"tracegroupgap\":0},\"margin\":{\"t\":60},\"template\":{\"data\":{\"bar\":[{\"error_x\":{\"color\":\"#2a3f5f\"},\"error_y\":{\"color\":\"#2a3f5f\"},\"marker\":{\"line\":{\"color\":\"#E5ECF6\",\"width\":0.5},\"pattern\":{\"fillmode\":\"overlay\",\"size\":10,\"solidity\":0.2}},\"type\":\"bar\"}],\"barpolar\":[{\"marker\":{\"line\":{\"color\":\"#E5ECF6\",\"width\":0.5},\"pattern\":{\"fillmode\":\"overlay\",\"size\":10,\"solidity\":0.2}},\"type\":\"barpolar\"}],\"carpet\":[{\"aaxis\":{\"endlinecolor\":\"#2a3f5f\",\"gridcolor\":\"white\",\"linecolor\":\"white\",\"minorgridcolor\":\"white\",\"startlinecolor\":\"#2a3f5f\"},\"baxis\":{\"endlinecolor\":\"#2a3f5f\",\"gridcolor\":\"white\",\"linecolor\":\"white\",\"minorgridcolor\":\"white\",\"startlinecolor\":\"#2a3f5f\"},\"type\":\"carpet\"}],\"choropleth\":[{\"colorbar\":{\"outlinewidth\":0,\"ticks\":\"\"},\"type\":\"choropleth\"}],\"contour\":[{\"colorbar\":{\"outlinewidth\":0,\"ticks\":\"\"},\"colorscale\":[[0.0,\"#0d0887\"],[0.1111111111111111,\"#46039f\"],[0.2222222222222222,\"#7201a8\"],[0.3333333333333333,\"#9c179e\"],[0.4444444444444444,\"#bd3786\"],[0.5555555555555556,\"#d8576b\"],[0.6666666666666666,\"#ed7953\"],[0.7777777777777778,\"#fb9f3a\"],[0.8888888888888888,\"#fdca26\"],[1.0,\"#f0f921\"]],\"type\":\"contour\"}],\"contourcarpet\":[{\"colorbar\":{\"outlinewidth\":0,\"ticks\":\"\"},\"type\":\"contourcarpet\"}],\"heatmap\":[{\"colorbar\":{\"outlinewidth\":0,\"ticks\":\"\"},\"colorscale\":[[0.0,\"#0d0887\"],[0.1111111111111111,\"#46039f\"],[0.2222222222222222,\"#7201a8\"],[0.3333333333333333,\"#9c179e\"],[0.4444444444444444,\"#bd3786\"],[0.5555555555555556,\"#d8576b\"],[0.6666666666666666,\"#ed7953\"],[0.7777777777777778,\"#fb9f3a\"],[0.8888888888888888,\"#fdca26\"],[1.0,\"#f0f921\"]],\"type\":\"heatmap\"}],\"heatmapgl\":[{\"colorbar\":{\"outlinewidth\":0,\"ticks\":\"\"},\"colorscale\":[[0.0,\"#0d0887\"],[0.1111111111111111,\"#46039f\"],[0.2222222222222222,\"#7201a8\"],[0.3333333333333333,\"#9c179e\"],[0.4444444444444444,\"#bd3786\"],[0.5555555555555556,\"#d8576b\"],[0.6666666666666666,\"#ed7953\"],[0.7777777777777778,\"#fb9f3a\"],[0.8888888888888888,\"#fdca26\"],[1.0,\"#f0f921\"]],\"type\":\"heatmapgl\"}],\"histogram\":[{\"marker\":{\"pattern\":{\"fillmode\":\"overlay\",\"size\":10,\"solidity\":0.2}},\"type\":\"histogram\"}],\"histogram2d\":[{\"colorbar\":{\"outlinewidth\":0,\"ticks\":\"\"},\"colorscale\":[[0.0,\"#0d0887\"],[0.1111111111111111,\"#46039f\"],[0.2222222222222222,\"#7201a8\"],[0.3333333333333333,\"#9c179e\"],[0.4444444444444444,\"#bd3786\"],[0.5555555555555556,\"#d8576b\"],[0.6666666666666666,\"#ed7953\"],[0.7777777777777778,\"#fb9f3a\"],[0.8888888888888888,\"#fdca26\"],[1.0,\"#f0f921\"]],\"type\":\"histogram2d\"}],\"histogram2dcontour\":[{\"colorbar\":{\"outlinewidth\":0,\"ticks\":\"\"},\"colorscale\":[[0.0,\"#0d0887\"],[0.1111111111111111,\"#46039f\"],[0.2222222222222222,\"#7201a8\"],[0.3333333333333333,\"#9c179e\"],[0.4444444444444444,\"#bd3786\"],[0.5555555555555556,\"#d8576b\"],[0.6666666666666666,\"#ed7953\"],[0.7777777777777778,\"#fb9f3a\"],[0.8888888888888888,\"#fdca26\"],[1.0,\"#f0f921\"]],\"type\":\"histogram2dcontour\"}],\"mesh3d\":[{\"colorbar\":{\"outlinewidth\":0,\"ticks\":\"\"},\"type\":\"mesh3d\"}],\"parcoords\":[{\"line\":{\"colorbar\":{\"outlinewidth\":0,\"ticks\":\"\"}},\"type\":\"parcoords\"}],\"pie\":[{\"automargin\":true,\"type\":\"pie\"}],\"scatter\":[{\"marker\":{\"colorbar\":{\"outlinewidth\":0,\"ticks\":\"\"}},\"type\":\"scatter\"}],\"scatter3d\":[{\"line\":{\"colorbar\":{\"outlinewidth\":0,\"ticks\":\"\"}},\"marker\":{\"colorbar\":{\"outlinewidth\":0,\"ticks\":\"\"}},\"type\":\"scatter3d\"}],\"scattercarpet\":[{\"marker\":{\"colorbar\":{\"outlinewidth\":0,\"ticks\":\"\"}},\"type\":\"scattercarpet\"}],\"scattergeo\":[{\"marker\":{\"colorbar\":{\"outlinewidth\":0,\"ticks\":\"\"}},\"type\":\"scattergeo\"}],\"scattergl\":[{\"marker\":{\"colorbar\":{\"outlinewidth\":0,\"ticks\":\"\"}},\"type\":\"scattergl\"}],\"scattermapbox\":[{\"marker\":{\"colorbar\":{\"outlinewidth\":0,\"ticks\":\"\"}},\"type\":\"scattermapbox\"}],\"scatterpolar\":[{\"marker\":{\"colorbar\":{\"outlinewidth\":0,\"ticks\":\"\"}},\"type\":\"scatterpolar\"}],\"scatterpolargl\":[{\"marker\":{\"colorbar\":{\"outlinewidth\":0,\"ticks\":\"\"}},\"type\":\"scatterpolargl\"}],\"scatterternary\":[{\"marker\":{\"colorbar\":{\"outlinewidth\":0,\"ticks\":\"\"}},\"type\":\"scatterternary\"}],\"surface\":[{\"colorbar\":{\"outlinewidth\":0,\"ticks\":\"\"},\"colorscale\":[[0.0,\"#0d0887\"],[0.1111111111111111,\"#46039f\"],[0.2222222222222222,\"#7201a8\"],[0.3333333333333333,\"#9c179e\"],[0.4444444444444444,\"#bd3786\"],[0.5555555555555556,\"#d8576b\"],[0.6666666666666666,\"#ed7953\"],[0.7777777777777778,\"#fb9f3a\"],[0.8888888888888888,\"#fdca26\"],[1.0,\"#f0f921\"]],\"type\":\"surface\"}],\"table\":[{\"cells\":{\"fill\":{\"color\":\"#EBF0F8\"},\"line\":{\"color\":\"white\"}},\"header\":{\"fill\":{\"color\":\"#C8D4E3\"},\"line\":{\"color\":\"white\"}},\"type\":\"table\"}]},\"layout\":{\"annotationdefaults\":{\"arrowcolor\":\"#2a3f5f\",\"arrowhead\":0,\"arrowwidth\":1},\"autotypenumbers\":\"strict\",\"coloraxis\":{\"colorbar\":{\"outlinewidth\":0,\"ticks\":\"\"}},\"colorscale\":{\"diverging\":[[0,\"#8e0152\"],[0.1,\"#c51b7d\"],[0.2,\"#de77ae\"],[0.3,\"#f1b6da\"],[0.4,\"#fde0ef\"],[0.5,\"#f7f7f7\"],[0.6,\"#e6f5d0\"],[0.7,\"#b8e186\"],[0.8,\"#7fbc41\"],[0.9,\"#4d9221\"],[1,\"#276419\"]],\"sequential\":[[0.0,\"#0d0887\"],[0.1111111111111111,\"#46039f\"],[0.2222222222222222,\"#7201a8\"],[0.3333333333333333,\"#9c179e\"],[0.4444444444444444,\"#bd3786\"],[0.5555555555555556,\"#d8576b\"],[0.6666666666666666,\"#ed7953\"],[0.7777777777777778,\"#fb9f3a\"],[0.8888888888888888,\"#fdca26\"],[1.0,\"#f0f921\"]],\"sequentialminus\":[[0.0,\"#0d0887\"],[0.1111111111111111,\"#46039f\"],[0.2222222222222222,\"#7201a8\"],[0.3333333333333333,\"#9c179e\"],[0.4444444444444444,\"#bd3786\"],[0.5555555555555556,\"#d8576b\"],[0.6666666666666666,\"#ed7953\"],[0.7777777777777778,\"#fb9f3a\"],[0.8888888888888888,\"#fdca26\"],[1.0,\"#f0f921\"]]},\"colorway\":[\"#636efa\",\"#EF553B\",\"#00cc96\",\"#ab63fa\",\"#FFA15A\",\"#19d3f3\",\"#FF6692\",\"#B6E880\",\"#FF97FF\",\"#FECB52\"],\"font\":{\"color\":\"#2a3f5f\"},\"geo\":{\"bgcolor\":\"white\",\"lakecolor\":\"white\",\"landcolor\":\"#E5ECF6\",\"showlakes\":true,\"showland\":true,\"subunitcolor\":\"white\"},\"hoverlabel\":{\"align\":\"left\"},\"hovermode\":\"closest\",\"mapbox\":{\"style\":\"light\"},\"paper_bgcolor\":\"white\",\"plot_bgcolor\":\"#E5ECF6\",\"polar\":{\"angularaxis\":{\"gridcolor\":\"white\",\"linecolor\":\"white\",\"ticks\":\"\"},\"bgcolor\":\"#E5ECF6\",\"radialaxis\":{\"gridcolor\":\"white\",\"linecolor\":\"white\",\"ticks\":\"\"}},\"scene\":{\"xaxis\":{\"backgroundcolor\":\"#E5ECF6\",\"gridcolor\":\"white\",\"gridwidth\":2,\"linecolor\":\"white\",\"showbackground\":true,\"ticks\":\"\",\"zerolinecolor\":\"white\"},\"yaxis\":{\"backgroundcolor\":\"#E5ECF6\",\"gridcolor\":\"white\",\"gridwidth\":2,\"linecolor\":\"white\",\"showbackground\":true,\"ticks\":\"\",\"zerolinecolor\":\"white\"},\"zaxis\":{\"backgroundcolor\":\"#E5ECF6\",\"gridcolor\":\"white\",\"gridwidth\":2,\"linecolor\":\"white\",\"showbackground\":true,\"ticks\":\"\",\"zerolinecolor\":\"white\"}},\"shapedefaults\":{\"line\":{\"color\":\"#2a3f5f\"}},\"ternary\":{\"aaxis\":{\"gridcolor\":\"white\",\"linecolor\":\"white\",\"ticks\":\"\"},\"baxis\":{\"gridcolor\":\"white\",\"linecolor\":\"white\",\"ticks\":\"\"},\"bgcolor\":\"#E5ECF6\",\"caxis\":{\"gridcolor\":\"white\",\"linecolor\":\"white\",\"ticks\":\"\"}},\"title\":{\"x\":0.05},\"xaxis\":{\"automargin\":true,\"gridcolor\":\"white\",\"linecolor\":\"white\",\"ticks\":\"\",\"title\":{\"standoff\":15},\"zerolinecolor\":\"white\",\"zerolinewidth\":2},\"yaxis\":{\"automargin\":true,\"gridcolor\":\"white\",\"linecolor\":\"white\",\"ticks\":\"\",\"title\":{\"standoff\":15},\"zerolinecolor\":\"white\",\"zerolinewidth\":2}}},\"uniformtext\":{\"minsize\":6,\"mode\":\"show\"},\"xaxis\":{\"anchor\":\"y\",\"domain\":[0.0,1.0],\"title\":{\"text\":\"val\"}},\"yaxis\":{\"anchor\":\"x\",\"domain\":[0.0,1.0],\"title\":{\"text\":\"count\"}}},                        {\"responsive\": true}                    ).then(function(){\n",
       "                            \n",
       "var gd = document.getElementById('15b46f2b-2b92-464b-94ea-e9905262954b');\n",
       "var x = new MutationObserver(function (mutations, observer) {{\n",
       "        var display = window.getComputedStyle(gd).display;\n",
       "        if (!display || display === 'none') {{\n",
       "            console.log([gd, 'removed!']);\n",
       "            Plotly.purge(gd);\n",
       "            observer.disconnect();\n",
       "        }}\n",
       "}});\n",
       "\n",
       "// Listen for the removal of the full notebook cells\n",
       "var notebookContainer = gd.closest('#notebook-container');\n",
       "if (notebookContainer) {{\n",
       "    x.observe(notebookContainer, {childList: true});\n",
       "}}\n",
       "\n",
       "// Listen for the clearing of the current output cell\n",
       "var outputEl = gd.closest('.output');\n",
       "if (outputEl) {{\n",
       "    x.observe(outputEl, {childList: true});\n",
       "}}\n",
       "\n",
       "                        })                };                });            </script>        </div>"
      ]
     },
     "metadata": {},
     "output_type": "display_data"
    },
    {
     "name": "stdout",
     "output_type": "stream",
     "text": [
      "The searched value is at index: 1\n"
     ]
    }
   ],
   "source": [
    "############# CIRCUIT SIMULATION #################\n",
    "aer_sim = Aer.get_backend('aer_simulator')\n",
    "aer_sim.set_options(device='CPU')\n",
    "transpiled_qc = transpile(qc, aer_sim)\n",
    "\n",
    "shots = 2**(n+7) #we repeat the simulation 2048 times\n",
    "job = aer_sim.run(transpiled_qc, shots=shots)\n",
    "\n",
    "############# CODE FOR PLOTTING ####################\n",
    "hist = job.result().get_counts() #simulation output\n",
    "sort_hist = sorted(hist.items()) #So that the plotting puts everything in the same increasing order of basis\n",
    "n_hist = {k:v for k,v in sort_hist}\n",
    "\n",
    "results = {'val':n_hist.keys(),'count':n_hist.values()} #change the formatting of the data to match plotly\n",
    "\n",
    "fig = px.bar(results, x=\"val\", y=\"count\", text=\"count\")\n",
    "fig.update_traces(texttemplate='%{text:.2s}', textposition='outside')\n",
    "fig.update_layout(uniformtext_minsize=6, uniformtext_mode='show')\n",
    "fig.show()\n",
    "\n",
    "measured_str = max(hist, key=hist.get)\n",
    "measured_int = int(measured_str,2)\n",
    "print(f\"The searched value is at index: {measured_int}\")"
   ]
  },
  {
   "cell_type": "markdown",
   "id": "23d78629",
   "metadata": {},
   "source": [
    "## Automatic bitstring encoding"
   ]
  },
  {
   "cell_type": "code",
   "execution_count": 101,
   "id": "7ee3d2e7",
   "metadata": {
    "ExecuteTime": {
     "end_time": "2021-12-11T13:01:49.500742Z",
     "start_time": "2021-12-11T13:01:49.492270Z"
    },
    "init_cell": true
   },
   "outputs": [],
   "source": [
    "def create_oracle(v_reg, nb_check):\n",
    "    qc = QuantumCircuit(v_reg + 1)\n",
    "    \n",
    "    a = len(bin(nb_check)[2:]) #This gives the length of binary value to encode \n",
    "    pos = 0\n",
    "    for j in list(bin(nb_check)[2:])[::-1]+(v_reg-a)*['0']: #loops through the reverse ordered list composed of the binary encoding of the value\n",
    "        if not int(j):\n",
    "            qc.x(pos)\n",
    "            \n",
    "        pos += 1\n",
    "        \n",
    "    qc.mct(list(range(v_reg)),v_reg)\n",
    "    \n",
    "    pos = 0\n",
    "    for j in list(bin(nb_check)[2:])[::-1]+(v_reg-a)*['0']: #loops through the reverse ordered list composed of the binary encoding of the value\n",
    "        if not int(j):\n",
    "            qc.x(pos)\n",
    "            \n",
    "        pos += 1\n",
    "        \n",
    "    return qc    "
   ]
  },
  {
   "cell_type": "code",
   "execution_count": 102,
   "id": "3408020c",
   "metadata": {
    "ExecuteTime": {
     "end_time": "2021-12-11T13:01:50.389500Z",
     "start_time": "2021-12-11T13:01:50.380405Z"
    }
   },
   "outputs": [
    {
     "data": {
      "text/html": [
       "<pre style=\"word-wrap: normal;white-space: pre;background: #fff0;line-height: 1.1;font-family: &quot;Courier New&quot;,Courier,monospace\">     ┌───┐     ┌───┐\n",
       "q_0: ┤ X ├──■──┤ X ├\n",
       "     └───┘  │  └───┘\n",
       "q_1: ───────■───────\n",
       "     ┌───┐  │  ┌───┐\n",
       "q_2: ┤ X ├──■──┤ X ├\n",
       "     ├───┤  │  ├───┤\n",
       "q_3: ┤ X ├──■──┤ X ├\n",
       "     └───┘┌─┴─┐└───┘\n",
       "q_4: ─────┤ X ├─────\n",
       "          └───┘     </pre>"
      ],
      "text/plain": [
       "     ┌───┐     ┌───┐\n",
       "q_0: ┤ X ├──■──┤ X ├\n",
       "     └───┘  │  └───┘\n",
       "q_1: ───────■───────\n",
       "     ┌───┐  │  ┌───┐\n",
       "q_2: ┤ X ├──■──┤ X ├\n",
       "     ├───┤  │  ├───┤\n",
       "q_3: ┤ X ├──■──┤ X ├\n",
       "     └───┘┌─┴─┐└───┘\n",
       "q_4: ─────┤ X ├─────\n",
       "          └───┘     "
      ]
     },
     "execution_count": 102,
     "metadata": {},
     "output_type": "execute_result"
    }
   ],
   "source": [
    "create_oracle(4, 2).draw()"
   ]
  },
  {
   "cell_type": "code",
   "execution_count": 103,
   "id": "b2f10c81",
   "metadata": {
    "ExecuteTime": {
     "end_time": "2021-12-11T13:01:51.108097Z",
     "start_time": "2021-12-11T13:01:51.098623Z"
    },
    "init_cell": true
   },
   "outputs": [],
   "source": [
    "#This function takes in the number of qbits inside the index register and value register, as well as the array\n",
    "# that works as database and ecodes those values automatically as gates.\n",
    "\n",
    "#There are some extra x gates that are useless, and those will be removed in a next code update. They don't affect results.\n",
    "def encode_qc(i_reg,v_reg,val_array):\n",
    "    \n",
    "    qc = QuantumCircuit(i_reg + v_reg)\n",
    "    \n",
    "    for step in range(len(val_array)):\n",
    "        \n",
    "        x_place = 0 #This variable is used to find where to put the NOT in the CNOT encoding\n",
    "        a = len(bin(val_array[step])[2:]) #This gives the length of binary value to encode \n",
    "        \n",
    "        for j in list(bin(val_array[step])[2:])[::-1]+(v_reg-a)*['0']: #loops through the reverse ordered list composed of the binary encoding of the value\n",
    "\n",
    "            ### CONTROL X encoding ###\n",
    "            if int(j):\n",
    "                \n",
    "                ### X encoding ###\n",
    "                pos = 0\n",
    "                b = len(bin(step)[2:])\n",
    "                for i in list(bin(step)[2:])[::-1]+(i_reg-b)*['0']:\n",
    "\n",
    "                    if not int(i) and int(j):\n",
    "                        qc.x(pos)\n",
    "                    pos += 1\n",
    "                \n",
    "                qc.mcx(list(range(i_reg)), i_reg + x_place)\n",
    "\n",
    "\n",
    "                ### X encoding ###\n",
    "                pos = 0\n",
    "                b = len(bin(step)[2:])\n",
    "                for i in list(bin(step)[2:])[::-1]+(i_reg-b)*['0']:\n",
    "\n",
    "                    if not int(i):\n",
    "                        qc.x(pos)\n",
    "                    pos += 1\n",
    "                    \n",
    "#                 qc.barrier() #uncomment this is you want a more readable circuit, but then cannot be used as gate\n",
    "\n",
    "\n",
    "            x_place += 1\n",
    "    \n",
    "    return qc"
   ]
  },
  {
   "cell_type": "code",
   "execution_count": 104,
   "id": "c8a60f86",
   "metadata": {
    "ExecuteTime": {
     "end_time": "2021-12-11T13:01:53.662977Z",
     "start_time": "2021-12-11T13:01:53.644136Z"
    }
   },
   "outputs": [
    {
     "data": {
      "text/html": [
       "<pre style=\"word-wrap: normal;white-space: pre;background: #fff0;line-height: 1.1;font-family: &quot;Courier New&quot;,Courier,monospace\">     ┌───┐     ┌───┐┌───┐     ┌───┐          ┌───┐          ┌───┐┌───┐     ┌───┐                                             \n",
       "q_0: ┤ X ├──■──┤ X ├┤ X ├──■──┤ X ├───────■──┤ X ├───────■──┤ X ├┤ X ├──■──┤ X ├───────■──────────────■──────────────■───────\n",
       "     ├───┤  │  ├───┤├───┤  │  ├───┤┌───┐  │  ├───┤       │  └───┘└───┘  │  └───┘       │              │              │       \n",
       "q_1: ┤ X ├──■──┤ X ├┤ X ├──■──┤ X ├┤ X ├──■──┤ X ├───────■──────────────■──────────────■──────────────■──────────────■───────\n",
       "     ├───┤  │  ├───┤├───┤  │  ├───┤├───┤  │  ├───┤┌───┐  │  ┌───┐┌───┐  │  ┌───┐┌───┐  │  ┌───┐┌───┐  │  ┌───┐┌───┐  │  ┌───┐\n",
       "q_2: ┤ X ├──■──┤ X ├┤ X ├──■──┤ X ├┤ X ├──■──┤ X ├┤ X ├──■──┤ X ├┤ X ├──■──┤ X ├┤ X ├──■──┤ X ├┤ X ├──■──┤ X ├┤ X ├──■──┤ X ├\n",
       "     └───┘┌─┴─┐└───┘└───┘  │  └───┘└───┘  │  └───┘└───┘┌─┴─┐└───┘└───┘  │  └───┘└───┘┌─┴─┐└───┘└───┘  │  └───┘└───┘  │  └───┘\n",
       "q_3: ─────┤ X ├────────────┼──────────────┼────────────┤ X ├────────────┼────────────┤ X ├────────────┼──────────────┼───────\n",
       "          └───┘          ┌─┴─┐            │            └───┘            │            └───┘            │              │       \n",
       "q_4: ────────────────────┤ X ├────────────┼─────────────────────────────┼─────────────────────────────┼──────────────┼───────\n",
       "                         └───┘          ┌─┴─┐                           │                           ┌─┴─┐            │       \n",
       "q_5: ───────────────────────────────────┤ X ├───────────────────────────┼───────────────────────────┤ X ├────────────┼───────\n",
       "                                        └───┘                         ┌─┴─┐                         └───┘          ┌─┴─┐     \n",
       "q_6: ─────────────────────────────────────────────────────────────────┤ X ├────────────────────────────────────────┤ X ├─────\n",
       "                                                                      └───┘                                        └───┘     </pre>"
      ],
      "text/plain": [
       "     ┌───┐     ┌───┐┌───┐     ┌───┐          ┌───┐          ┌───┐┌───┐     ┌───┐                                             \n",
       "q_0: ┤ X ├──■──┤ X ├┤ X ├──■──┤ X ├───────■──┤ X ├───────■──┤ X ├┤ X ├──■──┤ X ├───────■──────────────■──────────────■───────\n",
       "     ├───┤  │  ├───┤├───┤  │  ├───┤┌───┐  │  ├───┤       │  └───┘└───┘  │  └───┘       │              │              │       \n",
       "q_1: ┤ X ├──■──┤ X ├┤ X ├──■──┤ X ├┤ X ├──■──┤ X ├───────■──────────────■──────────────■──────────────■──────────────■───────\n",
       "     ├───┤  │  ├───┤├───┤  │  ├───┤├───┤  │  ├───┤┌───┐  │  ┌───┐┌───┐  │  ┌───┐┌───┐  │  ┌───┐┌───┐  │  ┌───┐┌───┐  │  ┌───┐\n",
       "q_2: ┤ X ├──■──┤ X ├┤ X ├──■──┤ X ├┤ X ├──■──┤ X ├┤ X ├──■──┤ X ├┤ X ├──■──┤ X ├┤ X ├──■──┤ X ├┤ X ├──■──┤ X ├┤ X ├──■──┤ X ├\n",
       "     └───┘┌─┴─┐└───┘└───┘  │  └───┘└───┘  │  └───┘└───┘┌─┴─┐└───┘└───┘  │  └───┘└───┘┌─┴─┐└───┘└───┘  │  └───┘└───┘  │  └───┘\n",
       "q_3: ─────┤ X ├────────────┼──────────────┼────────────┤ X ├────────────┼────────────┤ X ├────────────┼──────────────┼───────\n",
       "          └───┘          ┌─┴─┐            │            └───┘            │            └───┘            │              │       \n",
       "q_4: ────────────────────┤ X ├────────────┼─────────────────────────────┼─────────────────────────────┼──────────────┼───────\n",
       "                         └───┘          ┌─┴─┐                           │                           ┌─┴─┐            │       \n",
       "q_5: ───────────────────────────────────┤ X ├───────────────────────────┼───────────────────────────┤ X ├────────────┼───────\n",
       "                                        └───┘                         ┌─┴─┐                         └───┘          ┌─┴─┐     \n",
       "q_6: ─────────────────────────────────────────────────────────────────┤ X ├────────────────────────────────────────┤ X ├─────\n",
       "                                                                      └───┘                                        └───┘     "
      ]
     },
     "execution_count": 104,
     "metadata": {},
     "output_type": "execute_result"
    }
   ],
   "source": [
    "encode_qc(3,4,[3,4,9,13]).draw(fold=-1)"
   ]
  },
  {
   "cell_type": "code",
   "execution_count": 105,
   "id": "2149d937",
   "metadata": {
    "ExecuteTime": {
     "end_time": "2021-12-11T13:01:54.092383Z",
     "start_time": "2021-12-11T13:01:54.071255Z"
    }
   },
   "outputs": [
    {
     "data": {
      "text/html": [
       "<pre style=\"word-wrap: normal;white-space: pre;background: #fff0;line-height: 1.1;font-family: &quot;Courier New&quot;,Courier,monospace\">                                             ┌───┐          ┌───┐┌───┐     ┌───┐          ┌───┐          ┌───┐┌───┐     ┌───┐\n",
       "q_0: ───────■──────────────■──────────────■──┤ X ├───────■──┤ X ├┤ X ├──■──┤ X ├───────■──┤ X ├───────■──┤ X ├┤ X ├──■──┤ X ├\n",
       "            │              │              │  └───┘       │  └───┘└───┘  │  ├───┤       │  ├───┤┌───┐  │  ├───┤├───┤  │  ├───┤\n",
       "q_1: ───────■──────────────■──────────────■──────────────■──────────────■──┤ X ├───────■──┤ X ├┤ X ├──■──┤ X ├┤ X ├──■──┤ X ├\n",
       "     ┌───┐  │  ┌───┐┌───┐  │  ┌───┐┌───┐  │  ┌───┐┌───┐  │  ┌───┐┌───┐  │  ├───┤┌───┐  │  ├───┤├───┤  │  ├───┤├───┤  │  ├───┤\n",
       "q_2: ┤ X ├──■──┤ X ├┤ X ├──■──┤ X ├┤ X ├──■──┤ X ├┤ X ├──■──┤ X ├┤ X ├──■──┤ X ├┤ X ├──■──┤ X ├┤ X ├──■──┤ X ├┤ X ├──■──┤ X ├\n",
       "     └───┘  │  └───┘└───┘  │  └───┘└───┘┌─┴─┐└───┘└───┘  │  └───┘└───┘┌─┴─┐└───┘└───┘  │  └───┘└───┘  │  └───┘└───┘┌─┴─┐└───┘\n",
       "q_3: ───────┼──────────────┼────────────┤ X ├────────────┼────────────┤ X ├────────────┼──────────────┼────────────┤ X ├─────\n",
       "            │              │            └───┘            │            └───┘            │            ┌─┴─┐          └───┘     \n",
       "q_4: ───────┼──────────────┼─────────────────────────────┼─────────────────────────────┼────────────┤ X ├────────────────────\n",
       "            │            ┌─┴─┐                           │                           ┌─┴─┐          └───┘                    \n",
       "q_5: ───────┼────────────┤ X ├───────────────────────────┼───────────────────────────┤ X ├───────────────────────────────────\n",
       "          ┌─┴─┐          └───┘                         ┌─┴─┐                         └───┘                                   \n",
       "q_6: ─────┤ X ├────────────────────────────────────────┤ X ├─────────────────────────────────────────────────────────────────\n",
       "          └───┘                                        └───┘                                                                 </pre>"
      ],
      "text/plain": [
       "                                             ┌───┐          ┌───┐┌───┐     ┌───┐          ┌───┐          ┌───┐┌───┐     ┌───┐\n",
       "q_0: ───────■──────────────■──────────────■──┤ X ├───────■──┤ X ├┤ X ├──■──┤ X ├───────■──┤ X ├───────■──┤ X ├┤ X ├──■──┤ X ├\n",
       "            │              │              │  └───┘       │  └───┘└───┘  │  ├───┤       │  ├───┤┌───┐  │  ├───┤├───┤  │  ├───┤\n",
       "q_1: ───────■──────────────■──────────────■──────────────■──────────────■──┤ X ├───────■──┤ X ├┤ X ├──■──┤ X ├┤ X ├──■──┤ X ├\n",
       "     ┌───┐  │  ┌───┐┌───┐  │  ┌───┐┌───┐  │  ┌───┐┌───┐  │  ┌───┐┌───┐  │  ├───┤┌───┐  │  ├───┤├───┤  │  ├───┤├───┤  │  ├───┤\n",
       "q_2: ┤ X ├──■──┤ X ├┤ X ├──■──┤ X ├┤ X ├──■──┤ X ├┤ X ├──■──┤ X ├┤ X ├──■──┤ X ├┤ X ├──■──┤ X ├┤ X ├──■──┤ X ├┤ X ├──■──┤ X ├\n",
       "     └───┘  │  └───┘└───┘  │  └───┘└───┘┌─┴─┐└───┘└───┘  │  └───┘└───┘┌─┴─┐└───┘└───┘  │  └───┘└───┘  │  └───┘└───┘┌─┴─┐└───┘\n",
       "q_3: ───────┼──────────────┼────────────┤ X ├────────────┼────────────┤ X ├────────────┼──────────────┼────────────┤ X ├─────\n",
       "            │              │            └───┘            │            └───┘            │            ┌─┴─┐          └───┘     \n",
       "q_4: ───────┼──────────────┼─────────────────────────────┼─────────────────────────────┼────────────┤ X ├────────────────────\n",
       "            │            ┌─┴─┐                           │                           ┌─┴─┐          └───┘                    \n",
       "q_5: ───────┼────────────┤ X ├───────────────────────────┼───────────────────────────┤ X ├───────────────────────────────────\n",
       "          ┌─┴─┐          └───┘                         ┌─┴─┐                         └───┘                                   \n",
       "q_6: ─────┤ X ├────────────────────────────────────────┤ X ├─────────────────────────────────────────────────────────────────\n",
       "          └───┘                                        └───┘                                                                 "
      ]
     },
     "execution_count": 105,
     "metadata": {},
     "output_type": "execute_result"
    }
   ],
   "source": [
    "encode_qc(3,4,[3,4,9,13]).reverse_ops().draw(fold=-1)"
   ]
  },
  {
   "cell_type": "code",
   "execution_count": 106,
   "id": "9b0e5876",
   "metadata": {
    "ExecuteTime": {
     "end_time": "2021-12-11T13:02:41.976415Z",
     "start_time": "2021-12-11T13:02:41.935368Z"
    }
   },
   "outputs": [
    {
     "data": {
      "text/html": [
       "<pre style=\"word-wrap: normal;white-space: pre;background: #fff0;line-height: 1.1;font-family: &quot;Courier New&quot;,Courier,monospace\">           ┌───┐      ░ ┌────────────────────┐           ┌────────────────────┐┌───┐┌───┐          ┌───┐┌───┐      ░  ░ ┌─┐      \n",
       "      d_0: ┤ H ├──────░─┤0                   ├───────────┤0                   ├┤ H ├┤ X ├───────■──┤ X ├┤ H ├──────░──░─┤M├──────\n",
       "           ├───┤      ░ │                    │           │                    │├───┤├───┤       │  ├───┤├───┤      ░  ░ └╥┘┌─┐   \n",
       "      d_1: ┤ H ├──────░─┤1                   ├───────────┤1                   ├┤ H ├┤ X ├───────■──┤ X ├┤ H ├──────░──░──╫─┤M├───\n",
       "           ├───┤      ░ │                    │           │                    │├───┤├───┤┌───┐┌─┴─┐├───┤├───┤┌───┐ ░  ░  ║ └╥┘┌─┐\n",
       "      d_2: ┤ H ├──────░─┤2                   ├───────────┤2                   ├┤ H ├┤ X ├┤ H ├┤ X ├┤ H ├┤ X ├┤ H ├─░──░──╫──╫─┤M├\n",
       "           └───┘      ░ │                    │┌─────────┐│                    │└───┘└───┘└───┘└───┘└───┘└───┘└───┘ ░  ░  ║  ║ └╥┘\n",
       "      t_0: ───────────░─┤3 Encoding database ├┤0        ├┤3 Encoding database ├────────────────────────────────────░──░──╫──╫──╫─\n",
       "                      ░ │                    ││         ││                    │                                    ░  ░  ║  ║  ║ \n",
       "      t_1: ───────────░─┤4                   ├┤1        ├┤4                   ├────────────────────────────────────░──░──╫──╫──╫─\n",
       "                      ░ │                    ││         ││                    │                                    ░  ░  ║  ║  ║ \n",
       "      t_2: ───────────░─┤5                   ├┤2 Oracle ├┤5                   ├────────────────────────────────────░──░──╫──╫──╫─\n",
       "                      ░ │                    ││         ││                    │                                    ░  ░  ║  ║  ║ \n",
       "      t_3: ───────────░─┤6                   ├┤3        ├┤6                   ├────────────────────────────────────░──░──╫──╫──╫─\n",
       "           ┌───┐┌───┐ ░ └────────────────────┘│         │└────────────────────┘                                    ░  ░  ║  ║  ║ \n",
       "ancilla_0: ┤ X ├┤ H ├─░───────────────────────┤4        ├──────────────────────────────────────────────────────────░──░──╫──╫──╫─\n",
       "           └───┘└───┘ ░                       └─────────┘                                                          ░  ░  ║  ║  ║ \n",
       "      c: 3/══════════════════════════════════════════════════════════════════════════════════════════════════════════════╩══╩══╩═\n",
       "                                                                                                                         0  1  2 </pre>"
      ],
      "text/plain": [
       "           ┌───┐      ░ ┌────────────────────┐           ┌────────────────────┐┌───┐┌───┐          ┌───┐┌───┐      ░  ░ ┌─┐      \n",
       "      d_0: ┤ H ├──────░─┤0                   ├───────────┤0                   ├┤ H ├┤ X ├───────■──┤ X ├┤ H ├──────░──░─┤M├──────\n",
       "           ├───┤      ░ │                    │           │                    │├───┤├───┤       │  ├───┤├───┤      ░  ░ └╥┘┌─┐   \n",
       "      d_1: ┤ H ├──────░─┤1                   ├───────────┤1                   ├┤ H ├┤ X ├───────■──┤ X ├┤ H ├──────░──░──╫─┤M├───\n",
       "           ├───┤      ░ │                    │           │                    │├───┤├───┤┌───┐┌─┴─┐├───┤├───┤┌───┐ ░  ░  ║ └╥┘┌─┐\n",
       "      d_2: ┤ H ├──────░─┤2                   ├───────────┤2                   ├┤ H ├┤ X ├┤ H ├┤ X ├┤ H ├┤ X ├┤ H ├─░──░──╫──╫─┤M├\n",
       "           └───┘      ░ │                    │┌─────────┐│                    │└───┘└───┘└───┘└───┘└───┘└───┘└───┘ ░  ░  ║  ║ └╥┘\n",
       "      t_0: ───────────░─┤3 Encoding database ├┤0        ├┤3 Encoding database ├────────────────────────────────────░──░──╫──╫──╫─\n",
       "                      ░ │                    ││         ││                    │                                    ░  ░  ║  ║  ║ \n",
       "      t_1: ───────────░─┤4                   ├┤1        ├┤4                   ├────────────────────────────────────░──░──╫──╫──╫─\n",
       "                      ░ │                    ││         ││                    │                                    ░  ░  ║  ║  ║ \n",
       "      t_2: ───────────░─┤5                   ├┤2 Oracle ├┤5                   ├────────────────────────────────────░──░──╫──╫──╫─\n",
       "                      ░ │                    ││         ││                    │                                    ░  ░  ║  ║  ║ \n",
       "      t_3: ───────────░─┤6                   ├┤3        ├┤6                   ├────────────────────────────────────░──░──╫──╫──╫─\n",
       "           ┌───┐┌───┐ ░ └────────────────────┘│         │└────────────────────┘                                    ░  ░  ║  ║  ║ \n",
       "ancilla_0: ┤ X ├┤ H ├─░───────────────────────┤4        ├──────────────────────────────────────────────────────────░──░──╫──╫──╫─\n",
       "           └───┘└───┘ ░                       └─────────┘                                                          ░  ░  ║  ║  ║ \n",
       "      c: 3/══════════════════════════════════════════════════════════════════════════════════════════════════════════════╩══╩══╩═\n",
       "                                                                                                                         0  1  2 "
      ]
     },
     "execution_count": 106,
     "metadata": {},
     "output_type": "execute_result"
    }
   ],
   "source": [
    "data_arr = [3,4,9,13,2,7]\n",
    "search_val = 2 #This is the value that will be in the oracle and be searched. Value 2 is currently on index 4.\n",
    "\n",
    "n = 3 #number of index qbits\n",
    "m = 4 #number of value qbits\n",
    "\n",
    "qrd = QuantumRegister(n, 'd') #Creates the data registry\n",
    "qrt = QuantumRegister(m, 't') #Creates the template registry\n",
    "anc = QuantumRegister(1, 'ancilla') #Creates the ancillary registry for the oracle\n",
    "cr = ClassicalRegister(n, 'c') #Creates the classical bit measurment output\n",
    "\n",
    "qc = QuantumCircuit(qrd, qrt, anc, cr) #Makes the circuit with these qbits as input\n",
    "\n",
    "encode = encode_qc(n,m,data_arr).to_gate()\n",
    "encode.label = \"Encoding database\"\n",
    "\n",
    "orac = create_oracle(m, search_val).to_gate()\n",
    "orac.label = \"Oracle\"\n",
    "\n",
    "####### State initialization #########\n",
    "qc.h(range(n))\n",
    "    \n",
    "#initiation of ancillary to |->\n",
    "qc.x(anc)\n",
    "qc.h(anc)\n",
    "qc.barrier()\n",
    "######################################\n",
    "\n",
    "#ENCODING\n",
    "qc.append(encode, range(n+m))\n",
    "\n",
    "#ORACLE\n",
    "qc.append(orac, range(n,n+m+1))\n",
    "\n",
    "#REVERSE ENCODING\n",
    "qc.append(encode.reverse_ops(), range(n+m))\n",
    "\n",
    "#DIFFUSION OP\n",
    "qc.h(range(n))\n",
    "qc.x(range(n-1))\n",
    "\n",
    "#It is difficult to do an actual multi-control-Z gate, so instead we make a MCX surrounded by H gates to transform it into a MCZ\n",
    "qc.x(n-1)\n",
    "qc.h(n-1)\n",
    "qc.mct(list(range(n-1)), n-1) \n",
    "qc.h(n-1)\n",
    "qc.x(n-1)\n",
    "\n",
    "#The other symmetric side of the diffusor\n",
    "qc.x(range(n-1))\n",
    "qc.h(range(n))\n",
    "qc.barrier()\n",
    "\n",
    "\n",
    "qc.barrier()\n",
    "qc.measure(range(n),cr)\n",
    "\n",
    "qc.draw(fold=-1)"
   ]
  },
  {
   "cell_type": "code",
   "execution_count": 108,
   "id": "4e267297",
   "metadata": {
    "ExecuteTime": {
     "end_time": "2021-12-11T13:05:50.830047Z",
     "start_time": "2021-12-11T13:05:50.723151Z"
    }
   },
   "outputs": [
    {
     "data": {
      "application/vnd.plotly.v1+json": {
       "config": {
        "plotlyServerURL": "https://plot.ly"
       },
       "data": [
        {
         "alignmentgroup": "True",
         "hovertemplate": "val=%{x}<br>count=%{text}<extra></extra>",
         "legendgroup": "",
         "marker": {
          "color": "#636efa",
          "pattern": {
           "shape": ""
          }
         },
         "name": "",
         "offsetgroup": "",
         "orientation": "v",
         "showlegend": false,
         "text": [
          "32",
          "26",
          "22",
          "37",
          "806",
          "33",
          "29",
          "39"
         ],
         "textposition": "outside",
         "texttemplate": "%{text:.2s}",
         "type": "bar",
         "x": [
          "000",
          "001",
          "010",
          "011",
          "100",
          "101",
          "110",
          "111"
         ],
         "xaxis": "x",
         "y": [
          32,
          26,
          22,
          37,
          806,
          33,
          29,
          39
         ],
         "yaxis": "y"
        }
       ],
       "layout": {
        "barmode": "relative",
        "legend": {
         "tracegroupgap": 0
        },
        "margin": {
         "t": 60
        },
        "template": {
         "data": {
          "bar": [
           {
            "error_x": {
             "color": "#2a3f5f"
            },
            "error_y": {
             "color": "#2a3f5f"
            },
            "marker": {
             "line": {
              "color": "#E5ECF6",
              "width": 0.5
             },
             "pattern": {
              "fillmode": "overlay",
              "size": 10,
              "solidity": 0.2
             }
            },
            "type": "bar"
           }
          ],
          "barpolar": [
           {
            "marker": {
             "line": {
              "color": "#E5ECF6",
              "width": 0.5
             },
             "pattern": {
              "fillmode": "overlay",
              "size": 10,
              "solidity": 0.2
             }
            },
            "type": "barpolar"
           }
          ],
          "carpet": [
           {
            "aaxis": {
             "endlinecolor": "#2a3f5f",
             "gridcolor": "white",
             "linecolor": "white",
             "minorgridcolor": "white",
             "startlinecolor": "#2a3f5f"
            },
            "baxis": {
             "endlinecolor": "#2a3f5f",
             "gridcolor": "white",
             "linecolor": "white",
             "minorgridcolor": "white",
             "startlinecolor": "#2a3f5f"
            },
            "type": "carpet"
           }
          ],
          "choropleth": [
           {
            "colorbar": {
             "outlinewidth": 0,
             "ticks": ""
            },
            "type": "choropleth"
           }
          ],
          "contour": [
           {
            "colorbar": {
             "outlinewidth": 0,
             "ticks": ""
            },
            "colorscale": [
             [
              0,
              "#0d0887"
             ],
             [
              0.1111111111111111,
              "#46039f"
             ],
             [
              0.2222222222222222,
              "#7201a8"
             ],
             [
              0.3333333333333333,
              "#9c179e"
             ],
             [
              0.4444444444444444,
              "#bd3786"
             ],
             [
              0.5555555555555556,
              "#d8576b"
             ],
             [
              0.6666666666666666,
              "#ed7953"
             ],
             [
              0.7777777777777778,
              "#fb9f3a"
             ],
             [
              0.8888888888888888,
              "#fdca26"
             ],
             [
              1,
              "#f0f921"
             ]
            ],
            "type": "contour"
           }
          ],
          "contourcarpet": [
           {
            "colorbar": {
             "outlinewidth": 0,
             "ticks": ""
            },
            "type": "contourcarpet"
           }
          ],
          "heatmap": [
           {
            "colorbar": {
             "outlinewidth": 0,
             "ticks": ""
            },
            "colorscale": [
             [
              0,
              "#0d0887"
             ],
             [
              0.1111111111111111,
              "#46039f"
             ],
             [
              0.2222222222222222,
              "#7201a8"
             ],
             [
              0.3333333333333333,
              "#9c179e"
             ],
             [
              0.4444444444444444,
              "#bd3786"
             ],
             [
              0.5555555555555556,
              "#d8576b"
             ],
             [
              0.6666666666666666,
              "#ed7953"
             ],
             [
              0.7777777777777778,
              "#fb9f3a"
             ],
             [
              0.8888888888888888,
              "#fdca26"
             ],
             [
              1,
              "#f0f921"
             ]
            ],
            "type": "heatmap"
           }
          ],
          "heatmapgl": [
           {
            "colorbar": {
             "outlinewidth": 0,
             "ticks": ""
            },
            "colorscale": [
             [
              0,
              "#0d0887"
             ],
             [
              0.1111111111111111,
              "#46039f"
             ],
             [
              0.2222222222222222,
              "#7201a8"
             ],
             [
              0.3333333333333333,
              "#9c179e"
             ],
             [
              0.4444444444444444,
              "#bd3786"
             ],
             [
              0.5555555555555556,
              "#d8576b"
             ],
             [
              0.6666666666666666,
              "#ed7953"
             ],
             [
              0.7777777777777778,
              "#fb9f3a"
             ],
             [
              0.8888888888888888,
              "#fdca26"
             ],
             [
              1,
              "#f0f921"
             ]
            ],
            "type": "heatmapgl"
           }
          ],
          "histogram": [
           {
            "marker": {
             "pattern": {
              "fillmode": "overlay",
              "size": 10,
              "solidity": 0.2
             }
            },
            "type": "histogram"
           }
          ],
          "histogram2d": [
           {
            "colorbar": {
             "outlinewidth": 0,
             "ticks": ""
            },
            "colorscale": [
             [
              0,
              "#0d0887"
             ],
             [
              0.1111111111111111,
              "#46039f"
             ],
             [
              0.2222222222222222,
              "#7201a8"
             ],
             [
              0.3333333333333333,
              "#9c179e"
             ],
             [
              0.4444444444444444,
              "#bd3786"
             ],
             [
              0.5555555555555556,
              "#d8576b"
             ],
             [
              0.6666666666666666,
              "#ed7953"
             ],
             [
              0.7777777777777778,
              "#fb9f3a"
             ],
             [
              0.8888888888888888,
              "#fdca26"
             ],
             [
              1,
              "#f0f921"
             ]
            ],
            "type": "histogram2d"
           }
          ],
          "histogram2dcontour": [
           {
            "colorbar": {
             "outlinewidth": 0,
             "ticks": ""
            },
            "colorscale": [
             [
              0,
              "#0d0887"
             ],
             [
              0.1111111111111111,
              "#46039f"
             ],
             [
              0.2222222222222222,
              "#7201a8"
             ],
             [
              0.3333333333333333,
              "#9c179e"
             ],
             [
              0.4444444444444444,
              "#bd3786"
             ],
             [
              0.5555555555555556,
              "#d8576b"
             ],
             [
              0.6666666666666666,
              "#ed7953"
             ],
             [
              0.7777777777777778,
              "#fb9f3a"
             ],
             [
              0.8888888888888888,
              "#fdca26"
             ],
             [
              1,
              "#f0f921"
             ]
            ],
            "type": "histogram2dcontour"
           }
          ],
          "mesh3d": [
           {
            "colorbar": {
             "outlinewidth": 0,
             "ticks": ""
            },
            "type": "mesh3d"
           }
          ],
          "parcoords": [
           {
            "line": {
             "colorbar": {
              "outlinewidth": 0,
              "ticks": ""
             }
            },
            "type": "parcoords"
           }
          ],
          "pie": [
           {
            "automargin": true,
            "type": "pie"
           }
          ],
          "scatter": [
           {
            "marker": {
             "colorbar": {
              "outlinewidth": 0,
              "ticks": ""
             }
            },
            "type": "scatter"
           }
          ],
          "scatter3d": [
           {
            "line": {
             "colorbar": {
              "outlinewidth": 0,
              "ticks": ""
             }
            },
            "marker": {
             "colorbar": {
              "outlinewidth": 0,
              "ticks": ""
             }
            },
            "type": "scatter3d"
           }
          ],
          "scattercarpet": [
           {
            "marker": {
             "colorbar": {
              "outlinewidth": 0,
              "ticks": ""
             }
            },
            "type": "scattercarpet"
           }
          ],
          "scattergeo": [
           {
            "marker": {
             "colorbar": {
              "outlinewidth": 0,
              "ticks": ""
             }
            },
            "type": "scattergeo"
           }
          ],
          "scattergl": [
           {
            "marker": {
             "colorbar": {
              "outlinewidth": 0,
              "ticks": ""
             }
            },
            "type": "scattergl"
           }
          ],
          "scattermapbox": [
           {
            "marker": {
             "colorbar": {
              "outlinewidth": 0,
              "ticks": ""
             }
            },
            "type": "scattermapbox"
           }
          ],
          "scatterpolar": [
           {
            "marker": {
             "colorbar": {
              "outlinewidth": 0,
              "ticks": ""
             }
            },
            "type": "scatterpolar"
           }
          ],
          "scatterpolargl": [
           {
            "marker": {
             "colorbar": {
              "outlinewidth": 0,
              "ticks": ""
             }
            },
            "type": "scatterpolargl"
           }
          ],
          "scatterternary": [
           {
            "marker": {
             "colorbar": {
              "outlinewidth": 0,
              "ticks": ""
             }
            },
            "type": "scatterternary"
           }
          ],
          "surface": [
           {
            "colorbar": {
             "outlinewidth": 0,
             "ticks": ""
            },
            "colorscale": [
             [
              0,
              "#0d0887"
             ],
             [
              0.1111111111111111,
              "#46039f"
             ],
             [
              0.2222222222222222,
              "#7201a8"
             ],
             [
              0.3333333333333333,
              "#9c179e"
             ],
             [
              0.4444444444444444,
              "#bd3786"
             ],
             [
              0.5555555555555556,
              "#d8576b"
             ],
             [
              0.6666666666666666,
              "#ed7953"
             ],
             [
              0.7777777777777778,
              "#fb9f3a"
             ],
             [
              0.8888888888888888,
              "#fdca26"
             ],
             [
              1,
              "#f0f921"
             ]
            ],
            "type": "surface"
           }
          ],
          "table": [
           {
            "cells": {
             "fill": {
              "color": "#EBF0F8"
             },
             "line": {
              "color": "white"
             }
            },
            "header": {
             "fill": {
              "color": "#C8D4E3"
             },
             "line": {
              "color": "white"
             }
            },
            "type": "table"
           }
          ]
         },
         "layout": {
          "annotationdefaults": {
           "arrowcolor": "#2a3f5f",
           "arrowhead": 0,
           "arrowwidth": 1
          },
          "autotypenumbers": "strict",
          "coloraxis": {
           "colorbar": {
            "outlinewidth": 0,
            "ticks": ""
           }
          },
          "colorscale": {
           "diverging": [
            [
             0,
             "#8e0152"
            ],
            [
             0.1,
             "#c51b7d"
            ],
            [
             0.2,
             "#de77ae"
            ],
            [
             0.3,
             "#f1b6da"
            ],
            [
             0.4,
             "#fde0ef"
            ],
            [
             0.5,
             "#f7f7f7"
            ],
            [
             0.6,
             "#e6f5d0"
            ],
            [
             0.7,
             "#b8e186"
            ],
            [
             0.8,
             "#7fbc41"
            ],
            [
             0.9,
             "#4d9221"
            ],
            [
             1,
             "#276419"
            ]
           ],
           "sequential": [
            [
             0,
             "#0d0887"
            ],
            [
             0.1111111111111111,
             "#46039f"
            ],
            [
             0.2222222222222222,
             "#7201a8"
            ],
            [
             0.3333333333333333,
             "#9c179e"
            ],
            [
             0.4444444444444444,
             "#bd3786"
            ],
            [
             0.5555555555555556,
             "#d8576b"
            ],
            [
             0.6666666666666666,
             "#ed7953"
            ],
            [
             0.7777777777777778,
             "#fb9f3a"
            ],
            [
             0.8888888888888888,
             "#fdca26"
            ],
            [
             1,
             "#f0f921"
            ]
           ],
           "sequentialminus": [
            [
             0,
             "#0d0887"
            ],
            [
             0.1111111111111111,
             "#46039f"
            ],
            [
             0.2222222222222222,
             "#7201a8"
            ],
            [
             0.3333333333333333,
             "#9c179e"
            ],
            [
             0.4444444444444444,
             "#bd3786"
            ],
            [
             0.5555555555555556,
             "#d8576b"
            ],
            [
             0.6666666666666666,
             "#ed7953"
            ],
            [
             0.7777777777777778,
             "#fb9f3a"
            ],
            [
             0.8888888888888888,
             "#fdca26"
            ],
            [
             1,
             "#f0f921"
            ]
           ]
          },
          "colorway": [
           "#636efa",
           "#EF553B",
           "#00cc96",
           "#ab63fa",
           "#FFA15A",
           "#19d3f3",
           "#FF6692",
           "#B6E880",
           "#FF97FF",
           "#FECB52"
          ],
          "font": {
           "color": "#2a3f5f"
          },
          "geo": {
           "bgcolor": "white",
           "lakecolor": "white",
           "landcolor": "#E5ECF6",
           "showlakes": true,
           "showland": true,
           "subunitcolor": "white"
          },
          "hoverlabel": {
           "align": "left"
          },
          "hovermode": "closest",
          "mapbox": {
           "style": "light"
          },
          "paper_bgcolor": "white",
          "plot_bgcolor": "#E5ECF6",
          "polar": {
           "angularaxis": {
            "gridcolor": "white",
            "linecolor": "white",
            "ticks": ""
           },
           "bgcolor": "#E5ECF6",
           "radialaxis": {
            "gridcolor": "white",
            "linecolor": "white",
            "ticks": ""
           }
          },
          "scene": {
           "xaxis": {
            "backgroundcolor": "#E5ECF6",
            "gridcolor": "white",
            "gridwidth": 2,
            "linecolor": "white",
            "showbackground": true,
            "ticks": "",
            "zerolinecolor": "white"
           },
           "yaxis": {
            "backgroundcolor": "#E5ECF6",
            "gridcolor": "white",
            "gridwidth": 2,
            "linecolor": "white",
            "showbackground": true,
            "ticks": "",
            "zerolinecolor": "white"
           },
           "zaxis": {
            "backgroundcolor": "#E5ECF6",
            "gridcolor": "white",
            "gridwidth": 2,
            "linecolor": "white",
            "showbackground": true,
            "ticks": "",
            "zerolinecolor": "white"
           }
          },
          "shapedefaults": {
           "line": {
            "color": "#2a3f5f"
           }
          },
          "ternary": {
           "aaxis": {
            "gridcolor": "white",
            "linecolor": "white",
            "ticks": ""
           },
           "baxis": {
            "gridcolor": "white",
            "linecolor": "white",
            "ticks": ""
           },
           "bgcolor": "#E5ECF6",
           "caxis": {
            "gridcolor": "white",
            "linecolor": "white",
            "ticks": ""
           }
          },
          "title": {
           "x": 0.05
          },
          "xaxis": {
           "automargin": true,
           "gridcolor": "white",
           "linecolor": "white",
           "ticks": "",
           "title": {
            "standoff": 15
           },
           "zerolinecolor": "white",
           "zerolinewidth": 2
          },
          "yaxis": {
           "automargin": true,
           "gridcolor": "white",
           "linecolor": "white",
           "ticks": "",
           "title": {
            "standoff": 15
           },
           "zerolinecolor": "white",
           "zerolinewidth": 2
          }
         }
        },
        "uniformtext": {
         "minsize": 6,
         "mode": "show"
        },
        "xaxis": {
         "anchor": "y",
         "domain": [
          0,
          1
         ],
         "title": {
          "text": "val"
         }
        },
        "yaxis": {
         "anchor": "x",
         "domain": [
          0,
          1
         ],
         "title": {
          "text": "count"
         }
        }
       }
      },
      "text/html": [
       "<div>                            <div id=\"fd35621f-833d-47f2-9259-6f5ab06631f1\" class=\"plotly-graph-div\" style=\"height:525px; width:100%;\"></div>            <script type=\"text/javascript\">                require([\"plotly\"], function(Plotly) {                    window.PLOTLYENV=window.PLOTLYENV || {};                                    if (document.getElementById(\"fd35621f-833d-47f2-9259-6f5ab06631f1\")) {                    Plotly.newPlot(                        \"fd35621f-833d-47f2-9259-6f5ab06631f1\",                        [{\"alignmentgroup\":\"True\",\"hovertemplate\":\"val=%{x}<br>count=%{text}<extra></extra>\",\"legendgroup\":\"\",\"marker\":{\"color\":\"#636efa\",\"pattern\":{\"shape\":\"\"}},\"name\":\"\",\"offsetgroup\":\"\",\"orientation\":\"v\",\"showlegend\":false,\"text\":[\"32\",\"26\",\"22\",\"37\",\"806\",\"33\",\"29\",\"39\"],\"textposition\":\"outside\",\"texttemplate\":\"%{text:.2s}\",\"type\":\"bar\",\"x\":[\"000\",\"001\",\"010\",\"011\",\"100\",\"101\",\"110\",\"111\"],\"xaxis\":\"x\",\"y\":[32,26,22,37,806,33,29,39],\"yaxis\":\"y\"}],                        {\"barmode\":\"relative\",\"legend\":{\"tracegroupgap\":0},\"margin\":{\"t\":60},\"template\":{\"data\":{\"bar\":[{\"error_x\":{\"color\":\"#2a3f5f\"},\"error_y\":{\"color\":\"#2a3f5f\"},\"marker\":{\"line\":{\"color\":\"#E5ECF6\",\"width\":0.5},\"pattern\":{\"fillmode\":\"overlay\",\"size\":10,\"solidity\":0.2}},\"type\":\"bar\"}],\"barpolar\":[{\"marker\":{\"line\":{\"color\":\"#E5ECF6\",\"width\":0.5},\"pattern\":{\"fillmode\":\"overlay\",\"size\":10,\"solidity\":0.2}},\"type\":\"barpolar\"}],\"carpet\":[{\"aaxis\":{\"endlinecolor\":\"#2a3f5f\",\"gridcolor\":\"white\",\"linecolor\":\"white\",\"minorgridcolor\":\"white\",\"startlinecolor\":\"#2a3f5f\"},\"baxis\":{\"endlinecolor\":\"#2a3f5f\",\"gridcolor\":\"white\",\"linecolor\":\"white\",\"minorgridcolor\":\"white\",\"startlinecolor\":\"#2a3f5f\"},\"type\":\"carpet\"}],\"choropleth\":[{\"colorbar\":{\"outlinewidth\":0,\"ticks\":\"\"},\"type\":\"choropleth\"}],\"contour\":[{\"colorbar\":{\"outlinewidth\":0,\"ticks\":\"\"},\"colorscale\":[[0.0,\"#0d0887\"],[0.1111111111111111,\"#46039f\"],[0.2222222222222222,\"#7201a8\"],[0.3333333333333333,\"#9c179e\"],[0.4444444444444444,\"#bd3786\"],[0.5555555555555556,\"#d8576b\"],[0.6666666666666666,\"#ed7953\"],[0.7777777777777778,\"#fb9f3a\"],[0.8888888888888888,\"#fdca26\"],[1.0,\"#f0f921\"]],\"type\":\"contour\"}],\"contourcarpet\":[{\"colorbar\":{\"outlinewidth\":0,\"ticks\":\"\"},\"type\":\"contourcarpet\"}],\"heatmap\":[{\"colorbar\":{\"outlinewidth\":0,\"ticks\":\"\"},\"colorscale\":[[0.0,\"#0d0887\"],[0.1111111111111111,\"#46039f\"],[0.2222222222222222,\"#7201a8\"],[0.3333333333333333,\"#9c179e\"],[0.4444444444444444,\"#bd3786\"],[0.5555555555555556,\"#d8576b\"],[0.6666666666666666,\"#ed7953\"],[0.7777777777777778,\"#fb9f3a\"],[0.8888888888888888,\"#fdca26\"],[1.0,\"#f0f921\"]],\"type\":\"heatmap\"}],\"heatmapgl\":[{\"colorbar\":{\"outlinewidth\":0,\"ticks\":\"\"},\"colorscale\":[[0.0,\"#0d0887\"],[0.1111111111111111,\"#46039f\"],[0.2222222222222222,\"#7201a8\"],[0.3333333333333333,\"#9c179e\"],[0.4444444444444444,\"#bd3786\"],[0.5555555555555556,\"#d8576b\"],[0.6666666666666666,\"#ed7953\"],[0.7777777777777778,\"#fb9f3a\"],[0.8888888888888888,\"#fdca26\"],[1.0,\"#f0f921\"]],\"type\":\"heatmapgl\"}],\"histogram\":[{\"marker\":{\"pattern\":{\"fillmode\":\"overlay\",\"size\":10,\"solidity\":0.2}},\"type\":\"histogram\"}],\"histogram2d\":[{\"colorbar\":{\"outlinewidth\":0,\"ticks\":\"\"},\"colorscale\":[[0.0,\"#0d0887\"],[0.1111111111111111,\"#46039f\"],[0.2222222222222222,\"#7201a8\"],[0.3333333333333333,\"#9c179e\"],[0.4444444444444444,\"#bd3786\"],[0.5555555555555556,\"#d8576b\"],[0.6666666666666666,\"#ed7953\"],[0.7777777777777778,\"#fb9f3a\"],[0.8888888888888888,\"#fdca26\"],[1.0,\"#f0f921\"]],\"type\":\"histogram2d\"}],\"histogram2dcontour\":[{\"colorbar\":{\"outlinewidth\":0,\"ticks\":\"\"},\"colorscale\":[[0.0,\"#0d0887\"],[0.1111111111111111,\"#46039f\"],[0.2222222222222222,\"#7201a8\"],[0.3333333333333333,\"#9c179e\"],[0.4444444444444444,\"#bd3786\"],[0.5555555555555556,\"#d8576b\"],[0.6666666666666666,\"#ed7953\"],[0.7777777777777778,\"#fb9f3a\"],[0.8888888888888888,\"#fdca26\"],[1.0,\"#f0f921\"]],\"type\":\"histogram2dcontour\"}],\"mesh3d\":[{\"colorbar\":{\"outlinewidth\":0,\"ticks\":\"\"},\"type\":\"mesh3d\"}],\"parcoords\":[{\"line\":{\"colorbar\":{\"outlinewidth\":0,\"ticks\":\"\"}},\"type\":\"parcoords\"}],\"pie\":[{\"automargin\":true,\"type\":\"pie\"}],\"scatter\":[{\"marker\":{\"colorbar\":{\"outlinewidth\":0,\"ticks\":\"\"}},\"type\":\"scatter\"}],\"scatter3d\":[{\"line\":{\"colorbar\":{\"outlinewidth\":0,\"ticks\":\"\"}},\"marker\":{\"colorbar\":{\"outlinewidth\":0,\"ticks\":\"\"}},\"type\":\"scatter3d\"}],\"scattercarpet\":[{\"marker\":{\"colorbar\":{\"outlinewidth\":0,\"ticks\":\"\"}},\"type\":\"scattercarpet\"}],\"scattergeo\":[{\"marker\":{\"colorbar\":{\"outlinewidth\":0,\"ticks\":\"\"}},\"type\":\"scattergeo\"}],\"scattergl\":[{\"marker\":{\"colorbar\":{\"outlinewidth\":0,\"ticks\":\"\"}},\"type\":\"scattergl\"}],\"scattermapbox\":[{\"marker\":{\"colorbar\":{\"outlinewidth\":0,\"ticks\":\"\"}},\"type\":\"scattermapbox\"}],\"scatterpolar\":[{\"marker\":{\"colorbar\":{\"outlinewidth\":0,\"ticks\":\"\"}},\"type\":\"scatterpolar\"}],\"scatterpolargl\":[{\"marker\":{\"colorbar\":{\"outlinewidth\":0,\"ticks\":\"\"}},\"type\":\"scatterpolargl\"}],\"scatterternary\":[{\"marker\":{\"colorbar\":{\"outlinewidth\":0,\"ticks\":\"\"}},\"type\":\"scatterternary\"}],\"surface\":[{\"colorbar\":{\"outlinewidth\":0,\"ticks\":\"\"},\"colorscale\":[[0.0,\"#0d0887\"],[0.1111111111111111,\"#46039f\"],[0.2222222222222222,\"#7201a8\"],[0.3333333333333333,\"#9c179e\"],[0.4444444444444444,\"#bd3786\"],[0.5555555555555556,\"#d8576b\"],[0.6666666666666666,\"#ed7953\"],[0.7777777777777778,\"#fb9f3a\"],[0.8888888888888888,\"#fdca26\"],[1.0,\"#f0f921\"]],\"type\":\"surface\"}],\"table\":[{\"cells\":{\"fill\":{\"color\":\"#EBF0F8\"},\"line\":{\"color\":\"white\"}},\"header\":{\"fill\":{\"color\":\"#C8D4E3\"},\"line\":{\"color\":\"white\"}},\"type\":\"table\"}]},\"layout\":{\"annotationdefaults\":{\"arrowcolor\":\"#2a3f5f\",\"arrowhead\":0,\"arrowwidth\":1},\"autotypenumbers\":\"strict\",\"coloraxis\":{\"colorbar\":{\"outlinewidth\":0,\"ticks\":\"\"}},\"colorscale\":{\"diverging\":[[0,\"#8e0152\"],[0.1,\"#c51b7d\"],[0.2,\"#de77ae\"],[0.3,\"#f1b6da\"],[0.4,\"#fde0ef\"],[0.5,\"#f7f7f7\"],[0.6,\"#e6f5d0\"],[0.7,\"#b8e186\"],[0.8,\"#7fbc41\"],[0.9,\"#4d9221\"],[1,\"#276419\"]],\"sequential\":[[0.0,\"#0d0887\"],[0.1111111111111111,\"#46039f\"],[0.2222222222222222,\"#7201a8\"],[0.3333333333333333,\"#9c179e\"],[0.4444444444444444,\"#bd3786\"],[0.5555555555555556,\"#d8576b\"],[0.6666666666666666,\"#ed7953\"],[0.7777777777777778,\"#fb9f3a\"],[0.8888888888888888,\"#fdca26\"],[1.0,\"#f0f921\"]],\"sequentialminus\":[[0.0,\"#0d0887\"],[0.1111111111111111,\"#46039f\"],[0.2222222222222222,\"#7201a8\"],[0.3333333333333333,\"#9c179e\"],[0.4444444444444444,\"#bd3786\"],[0.5555555555555556,\"#d8576b\"],[0.6666666666666666,\"#ed7953\"],[0.7777777777777778,\"#fb9f3a\"],[0.8888888888888888,\"#fdca26\"],[1.0,\"#f0f921\"]]},\"colorway\":[\"#636efa\",\"#EF553B\",\"#00cc96\",\"#ab63fa\",\"#FFA15A\",\"#19d3f3\",\"#FF6692\",\"#B6E880\",\"#FF97FF\",\"#FECB52\"],\"font\":{\"color\":\"#2a3f5f\"},\"geo\":{\"bgcolor\":\"white\",\"lakecolor\":\"white\",\"landcolor\":\"#E5ECF6\",\"showlakes\":true,\"showland\":true,\"subunitcolor\":\"white\"},\"hoverlabel\":{\"align\":\"left\"},\"hovermode\":\"closest\",\"mapbox\":{\"style\":\"light\"},\"paper_bgcolor\":\"white\",\"plot_bgcolor\":\"#E5ECF6\",\"polar\":{\"angularaxis\":{\"gridcolor\":\"white\",\"linecolor\":\"white\",\"ticks\":\"\"},\"bgcolor\":\"#E5ECF6\",\"radialaxis\":{\"gridcolor\":\"white\",\"linecolor\":\"white\",\"ticks\":\"\"}},\"scene\":{\"xaxis\":{\"backgroundcolor\":\"#E5ECF6\",\"gridcolor\":\"white\",\"gridwidth\":2,\"linecolor\":\"white\",\"showbackground\":true,\"ticks\":\"\",\"zerolinecolor\":\"white\"},\"yaxis\":{\"backgroundcolor\":\"#E5ECF6\",\"gridcolor\":\"white\",\"gridwidth\":2,\"linecolor\":\"white\",\"showbackground\":true,\"ticks\":\"\",\"zerolinecolor\":\"white\"},\"zaxis\":{\"backgroundcolor\":\"#E5ECF6\",\"gridcolor\":\"white\",\"gridwidth\":2,\"linecolor\":\"white\",\"showbackground\":true,\"ticks\":\"\",\"zerolinecolor\":\"white\"}},\"shapedefaults\":{\"line\":{\"color\":\"#2a3f5f\"}},\"ternary\":{\"aaxis\":{\"gridcolor\":\"white\",\"linecolor\":\"white\",\"ticks\":\"\"},\"baxis\":{\"gridcolor\":\"white\",\"linecolor\":\"white\",\"ticks\":\"\"},\"bgcolor\":\"#E5ECF6\",\"caxis\":{\"gridcolor\":\"white\",\"linecolor\":\"white\",\"ticks\":\"\"}},\"title\":{\"x\":0.05},\"xaxis\":{\"automargin\":true,\"gridcolor\":\"white\",\"linecolor\":\"white\",\"ticks\":\"\",\"title\":{\"standoff\":15},\"zerolinecolor\":\"white\",\"zerolinewidth\":2},\"yaxis\":{\"automargin\":true,\"gridcolor\":\"white\",\"linecolor\":\"white\",\"ticks\":\"\",\"title\":{\"standoff\":15},\"zerolinecolor\":\"white\",\"zerolinewidth\":2}}},\"uniformtext\":{\"minsize\":6,\"mode\":\"show\"},\"xaxis\":{\"anchor\":\"y\",\"domain\":[0.0,1.0],\"title\":{\"text\":\"val\"}},\"yaxis\":{\"anchor\":\"x\",\"domain\":[0.0,1.0],\"title\":{\"text\":\"count\"}}},                        {\"responsive\": true}                    ).then(function(){\n",
       "                            \n",
       "var gd = document.getElementById('fd35621f-833d-47f2-9259-6f5ab06631f1');\n",
       "var x = new MutationObserver(function (mutations, observer) {{\n",
       "        var display = window.getComputedStyle(gd).display;\n",
       "        if (!display || display === 'none') {{\n",
       "            console.log([gd, 'removed!']);\n",
       "            Plotly.purge(gd);\n",
       "            observer.disconnect();\n",
       "        }}\n",
       "}});\n",
       "\n",
       "// Listen for the removal of the full notebook cells\n",
       "var notebookContainer = gd.closest('#notebook-container');\n",
       "if (notebookContainer) {{\n",
       "    x.observe(notebookContainer, {childList: true});\n",
       "}}\n",
       "\n",
       "// Listen for the clearing of the current output cell\n",
       "var outputEl = gd.closest('.output');\n",
       "if (outputEl) {{\n",
       "    x.observe(outputEl, {childList: true});\n",
       "}}\n",
       "\n",
       "                        })                };                });            </script>        </div>"
      ]
     },
     "metadata": {},
     "output_type": "display_data"
    },
    {
     "name": "stdout",
     "output_type": "stream",
     "text": [
      "Index 4 holds the value 2, which is value being looked for.\n"
     ]
    }
   ],
   "source": [
    "############# CIRCUIT SIMULATION #################\n",
    "aer_sim = Aer.get_backend('aer_simulator')\n",
    "aer_sim.set_options(device='CPU')\n",
    "transpiled_qc = transpile(qc, aer_sim)\n",
    "\n",
    "shots = 2**(n+7) #we repeat the simulation 2048 times\n",
    "job = aer_sim.run(transpiled_qc, shots=shots)\n",
    "\n",
    "############# CODE FOR PLOTTING ####################\n",
    "hist = job.result().get_counts() #simulation output\n",
    "sort_hist = sorted(hist.items()) #So that the plotting puts everything in the same increasing order of basis\n",
    "n_hist = {k:v for k,v in sort_hist}\n",
    "\n",
    "results = {'val':n_hist.keys(),'count':n_hist.values()} #change the formatting of the data to match plotly\n",
    "\n",
    "fig = px.bar(results, x=\"val\", y=\"count\", text=\"count\")\n",
    "fig.update_traces(texttemplate='%{text:.2s}', textposition='outside')\n",
    "fig.update_layout(uniformtext_minsize=6, uniformtext_mode='show')\n",
    "fig.show()\n",
    "\n",
    "############## CODE FOR LISTING THE RESULTS #####################\n",
    "trig = []\n",
    "max_c = max(results['count'])\n",
    "for i,j in zip(results['val'],results['count']):\n",
    "    if int(j) > max_c-0.33*max_c: #only consideres values that are higher than one third less\n",
    "        trig.append({'index_dec':int(i,2),'index_bin':i,'counts':j})\n",
    "\n",
    "for t in trig:\n",
    "    print(f\"Index {t['index_dec']} holds the value {data_arr[t['index_dec']]}, which is value being looked for.\")"
   ]
  },
  {
   "cell_type": "markdown",
   "id": "475633dc",
   "metadata": {},
   "source": [
    "# Bit String Comparator"
   ]
  },
  {
   "cell_type": "code",
   "execution_count": 109,
   "id": "ecb785c2",
   "metadata": {
    "ExecuteTime": {
     "end_time": "2021-12-11T13:06:14.533876Z",
     "start_time": "2021-12-11T13:06:14.525380Z"
    },
    "init_cell": true
   },
   "outputs": [],
   "source": [
    "def U_c():\n",
    "    qc = QuantumCircuit(4)\n",
    "    \n",
    "    qc.x(1)\n",
    "    qc.mcx([0,1],2, mode='noancilla')\n",
    "    qc.x([0,1])\n",
    "    qc.mcx([0,1],3, mode='noancilla')\n",
    "    qc.x(0)\n",
    "    \n",
    "    return qc\n",
    "\n",
    "def U_c_T():\n",
    "    qc = QuantumCircuit(4)\n",
    "    \n",
    "    qc.x(0)\n",
    "    qc.mcx([0,1],3, mode='noancilla')\n",
    "    qc.x([0,1])\n",
    "    qc.mcx([0,1],2, mode='noancilla')\n",
    "    qc.x(1)\n",
    "    \n",
    "    return qc"
   ]
  },
  {
   "cell_type": "code",
   "execution_count": 110,
   "id": "b63cd087",
   "metadata": {
    "ExecuteTime": {
     "end_time": "2021-12-11T13:06:14.922277Z",
     "start_time": "2021-12-11T13:06:14.913028Z"
    },
    "scrolled": false
   },
   "outputs": [
    {
     "data": {
      "text/html": [
       "<pre style=\"word-wrap: normal;white-space: pre;background: #fff0;line-height: 1.1;font-family: &quot;Courier New&quot;,Courier,monospace\">               ┌───┐     ┌───┐\n",
       "q_0: ───────■──┤ X ├──■──┤ X ├\n",
       "     ┌───┐  │  ├───┤  │  └───┘\n",
       "q_1: ┤ X ├──■──┤ X ├──■───────\n",
       "     └───┘┌─┴─┐└───┘  │       \n",
       "q_2: ─────┤ X ├───────┼───────\n",
       "          └───┘     ┌─┴─┐     \n",
       "q_3: ───────────────┤ X ├─────\n",
       "                    └───┘     </pre>"
      ],
      "text/plain": [
       "               ┌───┐     ┌───┐\n",
       "q_0: ───────■──┤ X ├──■──┤ X ├\n",
       "     ┌───┐  │  ├───┤  │  └───┘\n",
       "q_1: ┤ X ├──■──┤ X ├──■───────\n",
       "     └───┘┌─┴─┐└───┘  │       \n",
       "q_2: ─────┤ X ├───────┼───────\n",
       "          └───┘     ┌─┴─┐     \n",
       "q_3: ───────────────┤ X ├─────\n",
       "                    └───┘     "
      ]
     },
     "execution_count": 110,
     "metadata": {},
     "output_type": "execute_result"
    }
   ],
   "source": [
    "U_c().draw()"
   ]
  },
  {
   "cell_type": "code",
   "execution_count": 111,
   "id": "dafd072d",
   "metadata": {
    "ExecuteTime": {
     "end_time": "2021-12-11T13:06:17.063871Z",
     "start_time": "2021-12-11T13:06:17.054360Z"
    }
   },
   "outputs": [
    {
     "data": {
      "text/html": [
       "<pre style=\"word-wrap: normal;white-space: pre;background: #fff0;line-height: 1.1;font-family: &quot;Courier New&quot;,Courier,monospace\">     ┌───┐     ┌───┐          \n",
       "q_0: ┤ X ├──■──┤ X ├──■───────\n",
       "     └───┘  │  ├───┤  │  ┌───┐\n",
       "q_1: ───────■──┤ X ├──■──┤ X ├\n",
       "            │  └───┘┌─┴─┐└───┘\n",
       "q_2: ───────┼───────┤ X ├─────\n",
       "          ┌─┴─┐     └───┘     \n",
       "q_3: ─────┤ X ├───────────────\n",
       "          └───┘               </pre>"
      ],
      "text/plain": [
       "     ┌───┐     ┌───┐          \n",
       "q_0: ┤ X ├──■──┤ X ├──■───────\n",
       "     └───┘  │  ├───┤  │  ┌───┐\n",
       "q_1: ───────■──┤ X ├──■──┤ X ├\n",
       "            │  └───┘┌─┴─┐└───┘\n",
       "q_2: ───────┼───────┤ X ├─────\n",
       "          ┌─┴─┐     └───┘     \n",
       "q_3: ─────┤ X ├───────────────\n",
       "          └───┘               "
      ]
     },
     "execution_count": 111,
     "metadata": {},
     "output_type": "execute_result"
    }
   ],
   "source": [
    "U_c_T().draw()"
   ]
  },
  {
   "cell_type": "code",
   "execution_count": 115,
   "id": "894619f9",
   "metadata": {
    "ExecuteTime": {
     "end_time": "2021-12-11T13:09:46.412657Z",
     "start_time": "2021-12-11T13:09:46.383480Z"
    }
   },
   "outputs": [
    {
     "data": {
      "text/html": [
       "<pre style=\"word-wrap: normal;white-space: pre;background: #fff0;line-height: 1.1;font-family: &quot;Courier New&quot;,Courier,monospace\">      ┌───┐ ░ ┌──────┐ ░                 ░                 ░            ░            ░       \n",
       " d_0: ┤ X ├─░─┤0     ├─░─────────────────░─────────────────░────────────░────────────░───────\n",
       "      ├───┤ ░ │      │ ░                 ░                 ░            ░            ░       \n",
       " d_1: ┤ X ├─░─┤1     ├─░─────────────────░─────────────────░────────────░────────────░───────\n",
       "      └───┘ ░ │  U_c │ ░ ┌───┐     ┌───┐ ░                 ░            ░ ┌───┐      ░ ┌─┐   \n",
       " d_2: ──────░─┤2     ├─░─┤ X ├──■──┤ X ├─░─────────────────░────────────░─┤ X ├──────░─┤M├───\n",
       "            ░ │      │ ░ ├───┤  │  ├───┤ ░                 ░            ░ └─┬─┘┌───┐ ░ └╥┘┌─┐\n",
       " d_3: ──────░─┤3     ├─░─┤ X ├──■──┤ X ├─░─────────────────░────────────░───┼──┤ X ├─░──╫─┤M├\n",
       "            ░ └──────┘ ░ └───┘┌─┴─┐└───┘ ░                 ░            ░   │  └─┬─┘ ░  ║ └╥┘\n",
       " d_4: ──────░──────────░──────┤ X ├──────░─────────────────░────────────░───■────■───░──╫──╫─\n",
       "            ░ ┌──────┐ ░      └───┘      ░                 ░            ░   │    │   ░  ║  ║ \n",
       " d_5: ──────░─┤0     ├─░─────────────────░─────────────────░────────────░───┼────┼───░──╫──╫─\n",
       "      ┌───┐ ░ │      │ ░                 ░                 ░            ░   │    │   ░  ║  ║ \n",
       " d_6: ┤ X ├─░─┤1     ├─░─────────────────░─────────────────░────────────░───┼────┼───░──╫──╫─\n",
       "      └───┘ ░ │  U_c │ ░                 ░ ┌───┐     ┌───┐ ░ ┌───┐      ░   │    │   ░  ║  ║ \n",
       " d_7: ──────░─┤2     ├─░─────────────────░─┤ X ├──■──┤ X ├─░─┤ X ├──────░───■────┼───░──╫──╫─\n",
       "            ░ │      │ ░                 ░ ├───┤  │  ├───┤ ░ └─┬─┘┌───┐ ░        │   ░  ║  ║ \n",
       " d_8: ──────░─┤3     ├─░─────────────────░─┤ X ├──■──┤ X ├─░───┼──┤ X ├─░────────■───░──╫──╫─\n",
       "            ░ └──────┘ ░                 ░ └───┘┌─┴─┐└───┘ ░   │  └─┬─┘ ░            ░  ║  ║ \n",
       " d_9: ──────░──────────░─────────────────░──────┤ X ├──────░───■────■───░────────────░──╫──╫─\n",
       "            ░ ┌──────┐ ░                 ░      └───┘      ░   │    │   ░            ░  ║  ║ \n",
       "d_10: ──────░─┤0     ├─░─────────────────░─────────────────░───┼────┼───░────────────░──╫──╫─\n",
       "      ┌───┐ ░ │      │ ░                 ░                 ░   │    │   ░            ░  ║  ║ \n",
       "d_11: ┤ X ├─░─┤1     ├─░─────────────────░─────────────────░───┼────┼───░────────────░──╫──╫─\n",
       "      └───┘ ░ │  U_c │ ░                 ░                 ░   │    │   ░            ░  ║  ║ \n",
       "d_12: ──────░─┤2     ├─░─────────────────░─────────────────░───■────┼───░────────────░──╫──╫─\n",
       "            ░ │      │ ░                 ░                 ░        │   ░            ░  ║  ║ \n",
       "d_13: ──────░─┤3     ├─░─────────────────░─────────────────░────────■───░────────────░──╫──╫─\n",
       "            ░ └──────┘ ░                 ░                 ░            ░            ░  ║  ║ \n",
       " c: 2/══════════════════════════════════════════════════════════════════════════════════╩══╩═\n",
       "                                                                                        0  1 </pre>"
      ],
      "text/plain": [
       "      ┌───┐ ░ ┌──────┐ ░                 ░                 ░            ░            ░       \n",
       " d_0: ┤ X ├─░─┤0     ├─░─────────────────░─────────────────░────────────░────────────░───────\n",
       "      ├───┤ ░ │      │ ░                 ░                 ░            ░            ░       \n",
       " d_1: ┤ X ├─░─┤1     ├─░─────────────────░─────────────────░────────────░────────────░───────\n",
       "      └───┘ ░ │  U_c │ ░ ┌───┐     ┌───┐ ░                 ░            ░ ┌───┐      ░ ┌─┐   \n",
       " d_2: ──────░─┤2     ├─░─┤ X ├──■──┤ X ├─░─────────────────░────────────░─┤ X ├──────░─┤M├───\n",
       "            ░ │      │ ░ ├───┤  │  ├───┤ ░                 ░            ░ └─┬─┘┌───┐ ░ └╥┘┌─┐\n",
       " d_3: ──────░─┤3     ├─░─┤ X ├──■──┤ X ├─░─────────────────░────────────░───┼──┤ X ├─░──╫─┤M├\n",
       "            ░ └──────┘ ░ └───┘┌─┴─┐└───┘ ░                 ░            ░   │  └─┬─┘ ░  ║ └╥┘\n",
       " d_4: ──────░──────────░──────┤ X ├──────░─────────────────░────────────░───■────■───░──╫──╫─\n",
       "            ░ ┌──────┐ ░      └───┘      ░                 ░            ░   │    │   ░  ║  ║ \n",
       " d_5: ──────░─┤0     ├─░─────────────────░─────────────────░────────────░───┼────┼───░──╫──╫─\n",
       "      ┌───┐ ░ │      │ ░                 ░                 ░            ░   │    │   ░  ║  ║ \n",
       " d_6: ┤ X ├─░─┤1     ├─░─────────────────░─────────────────░────────────░───┼────┼───░──╫──╫─\n",
       "      └───┘ ░ │  U_c │ ░                 ░ ┌───┐     ┌───┐ ░ ┌───┐      ░   │    │   ░  ║  ║ \n",
       " d_7: ──────░─┤2     ├─░─────────────────░─┤ X ├──■──┤ X ├─░─┤ X ├──────░───■────┼───░──╫──╫─\n",
       "            ░ │      │ ░                 ░ ├───┤  │  ├───┤ ░ └─┬─┘┌───┐ ░        │   ░  ║  ║ \n",
       " d_8: ──────░─┤3     ├─░─────────────────░─┤ X ├──■──┤ X ├─░───┼──┤ X ├─░────────■───░──╫──╫─\n",
       "            ░ └──────┘ ░                 ░ └───┘┌─┴─┐└───┘ ░   │  └─┬─┘ ░            ░  ║  ║ \n",
       " d_9: ──────░──────────░─────────────────░──────┤ X ├──────░───■────■───░────────────░──╫──╫─\n",
       "            ░ ┌──────┐ ░                 ░      └───┘      ░   │    │   ░            ░  ║  ║ \n",
       "d_10: ──────░─┤0     ├─░─────────────────░─────────────────░───┼────┼───░────────────░──╫──╫─\n",
       "      ┌───┐ ░ │      │ ░                 ░                 ░   │    │   ░            ░  ║  ║ \n",
       "d_11: ┤ X ├─░─┤1     ├─░─────────────────░─────────────────░───┼────┼───░────────────░──╫──╫─\n",
       "      └───┘ ░ │  U_c │ ░                 ░                 ░   │    │   ░            ░  ║  ║ \n",
       "d_12: ──────░─┤2     ├─░─────────────────░─────────────────░───■────┼───░────────────░──╫──╫─\n",
       "            ░ │      │ ░                 ░                 ░        │   ░            ░  ║  ║ \n",
       "d_13: ──────░─┤3     ├─░─────────────────░─────────────────░────────■───░────────────░──╫──╫─\n",
       "            ░ └──────┘ ░                 ░                 ░            ░            ░  ║  ║ \n",
       " c: 2/══════════════════════════════════════════════════════════════════════════════════╩══╩═\n",
       "                                                                                        0  1 "
      ]
     },
     "execution_count": 115,
     "metadata": {},
     "output_type": "execute_result"
    }
   ],
   "source": [
    "# Making the circuit in the paper\n",
    "\n",
    "len_b = 3 #length of the bitstrings to compare\n",
    "n = 5*len_b #number of qbits\n",
    "\n",
    "base = QuantumRegister(n, 'd') #Creates the data registry\n",
    "cr = ClassicalRegister(2, 'c') #Creates the classical bit measurment output\n",
    "\n",
    "qc = QuantumCircuit(base, cr) #Makes the circuit with these qbits as input\n",
    "\n",
    "####### State initialization #########\n",
    "\n",
    "z = [1, 0] # base vect |0>\n",
    "o = [0, 1] # base vect |1>\n",
    "init_st_data = [z,o,o] #data bit stream 011000 (this is what we will compare the templates to and hope it matches)\n",
    "\n",
    "qc.x(0)\n",
    "# qc.x(5)\n",
    "# qc.x(10)\n",
    "\n",
    "qc.x(1)\n",
    "qc.x(6)\n",
    "qc.x(11)\n",
    "\n",
    "qc.barrier()\n",
    "\n",
    "u_c = U_c().to_gate()\n",
    "u_c.label = \"U_c\"\n",
    "\n",
    "qc.append(u_c, range(4))\n",
    "qc.append(u_c, range(5,9))\n",
    "qc.append(u_c, range(10,14))\n",
    "\n",
    "qc.barrier()\n",
    "\n",
    "qc.x(2)\n",
    "qc.x(3)\n",
    "qc.mcx([2,3],4, mode='noancilla')\n",
    "qc.x(2)\n",
    "qc.x(3)\n",
    "\n",
    "qc.barrier()\n",
    "\n",
    "qc.x(7)\n",
    "qc.x(8)\n",
    "qc.mcx([7,8],9, mode='noancilla')\n",
    "qc.x(7)\n",
    "qc.x(8)\n",
    "\n",
    "qc.barrier()\n",
    "\n",
    "qc.mcx([9,12],7, mode='noancilla')\n",
    "qc.mcx([9,13],8, mode='noancilla')\n",
    "\n",
    "qc.barrier()\n",
    "\n",
    "qc.mcx([4,7],2, mode='noancilla')\n",
    "qc.mcx([4,8],3, mode='noancilla')\n",
    "    \n",
    "qc.barrier()\n",
    "\n",
    "qc.measure([2,3],cr)\n",
    "\n",
    "qc.draw(fold=-1)"
   ]
  },
  {
   "cell_type": "markdown",
   "id": "d5ed517f",
   "metadata": {},
   "source": [
    "Outpu: $|O_2 O_1>$\n",
    "\n",
    "In a measurement of the outputs (O1 and O2), \n",
    "\n",
    "if O1=1 and O2=0 then a>b; \n",
    "\n",
    "if O1=0 and O2=1 then a<b;\n",
    "\n",
    "if O1=0 and O2=0 then a=b."
   ]
  },
  {
   "cell_type": "code",
   "execution_count": 116,
   "id": "f7f937c9",
   "metadata": {
    "ExecuteTime": {
     "end_time": "2021-12-11T13:09:50.107500Z",
     "start_time": "2021-12-11T13:09:50.040789Z"
    }
   },
   "outputs": [
    {
     "data": {
      "application/vnd.plotly.v1+json": {
       "config": {
        "plotlyServerURL": "https://plot.ly"
       },
       "data": [
        {
         "alignmentgroup": "True",
         "hovertemplate": "val=%{x}<br>count=%{text}<extra></extra>",
         "legendgroup": "",
         "marker": {
          "color": "#636efa",
          "pattern": {
           "shape": ""
          }
         },
         "name": "",
         "offsetgroup": "",
         "orientation": "v",
         "showlegend": false,
         "text": [
          "1024"
         ],
         "textposition": "outside",
         "texttemplate": "%{text:.2s}",
         "type": "bar",
         "x": [
          "10"
         ],
         "xaxis": "x",
         "y": [
          1024
         ],
         "yaxis": "y"
        }
       ],
       "layout": {
        "barmode": "relative",
        "legend": {
         "tracegroupgap": 0
        },
        "margin": {
         "t": 60
        },
        "template": {
         "data": {
          "bar": [
           {
            "error_x": {
             "color": "#2a3f5f"
            },
            "error_y": {
             "color": "#2a3f5f"
            },
            "marker": {
             "line": {
              "color": "#E5ECF6",
              "width": 0.5
             },
             "pattern": {
              "fillmode": "overlay",
              "size": 10,
              "solidity": 0.2
             }
            },
            "type": "bar"
           }
          ],
          "barpolar": [
           {
            "marker": {
             "line": {
              "color": "#E5ECF6",
              "width": 0.5
             },
             "pattern": {
              "fillmode": "overlay",
              "size": 10,
              "solidity": 0.2
             }
            },
            "type": "barpolar"
           }
          ],
          "carpet": [
           {
            "aaxis": {
             "endlinecolor": "#2a3f5f",
             "gridcolor": "white",
             "linecolor": "white",
             "minorgridcolor": "white",
             "startlinecolor": "#2a3f5f"
            },
            "baxis": {
             "endlinecolor": "#2a3f5f",
             "gridcolor": "white",
             "linecolor": "white",
             "minorgridcolor": "white",
             "startlinecolor": "#2a3f5f"
            },
            "type": "carpet"
           }
          ],
          "choropleth": [
           {
            "colorbar": {
             "outlinewidth": 0,
             "ticks": ""
            },
            "type": "choropleth"
           }
          ],
          "contour": [
           {
            "colorbar": {
             "outlinewidth": 0,
             "ticks": ""
            },
            "colorscale": [
             [
              0,
              "#0d0887"
             ],
             [
              0.1111111111111111,
              "#46039f"
             ],
             [
              0.2222222222222222,
              "#7201a8"
             ],
             [
              0.3333333333333333,
              "#9c179e"
             ],
             [
              0.4444444444444444,
              "#bd3786"
             ],
             [
              0.5555555555555556,
              "#d8576b"
             ],
             [
              0.6666666666666666,
              "#ed7953"
             ],
             [
              0.7777777777777778,
              "#fb9f3a"
             ],
             [
              0.8888888888888888,
              "#fdca26"
             ],
             [
              1,
              "#f0f921"
             ]
            ],
            "type": "contour"
           }
          ],
          "contourcarpet": [
           {
            "colorbar": {
             "outlinewidth": 0,
             "ticks": ""
            },
            "type": "contourcarpet"
           }
          ],
          "heatmap": [
           {
            "colorbar": {
             "outlinewidth": 0,
             "ticks": ""
            },
            "colorscale": [
             [
              0,
              "#0d0887"
             ],
             [
              0.1111111111111111,
              "#46039f"
             ],
             [
              0.2222222222222222,
              "#7201a8"
             ],
             [
              0.3333333333333333,
              "#9c179e"
             ],
             [
              0.4444444444444444,
              "#bd3786"
             ],
             [
              0.5555555555555556,
              "#d8576b"
             ],
             [
              0.6666666666666666,
              "#ed7953"
             ],
             [
              0.7777777777777778,
              "#fb9f3a"
             ],
             [
              0.8888888888888888,
              "#fdca26"
             ],
             [
              1,
              "#f0f921"
             ]
            ],
            "type": "heatmap"
           }
          ],
          "heatmapgl": [
           {
            "colorbar": {
             "outlinewidth": 0,
             "ticks": ""
            },
            "colorscale": [
             [
              0,
              "#0d0887"
             ],
             [
              0.1111111111111111,
              "#46039f"
             ],
             [
              0.2222222222222222,
              "#7201a8"
             ],
             [
              0.3333333333333333,
              "#9c179e"
             ],
             [
              0.4444444444444444,
              "#bd3786"
             ],
             [
              0.5555555555555556,
              "#d8576b"
             ],
             [
              0.6666666666666666,
              "#ed7953"
             ],
             [
              0.7777777777777778,
              "#fb9f3a"
             ],
             [
              0.8888888888888888,
              "#fdca26"
             ],
             [
              1,
              "#f0f921"
             ]
            ],
            "type": "heatmapgl"
           }
          ],
          "histogram": [
           {
            "marker": {
             "pattern": {
              "fillmode": "overlay",
              "size": 10,
              "solidity": 0.2
             }
            },
            "type": "histogram"
           }
          ],
          "histogram2d": [
           {
            "colorbar": {
             "outlinewidth": 0,
             "ticks": ""
            },
            "colorscale": [
             [
              0,
              "#0d0887"
             ],
             [
              0.1111111111111111,
              "#46039f"
             ],
             [
              0.2222222222222222,
              "#7201a8"
             ],
             [
              0.3333333333333333,
              "#9c179e"
             ],
             [
              0.4444444444444444,
              "#bd3786"
             ],
             [
              0.5555555555555556,
              "#d8576b"
             ],
             [
              0.6666666666666666,
              "#ed7953"
             ],
             [
              0.7777777777777778,
              "#fb9f3a"
             ],
             [
              0.8888888888888888,
              "#fdca26"
             ],
             [
              1,
              "#f0f921"
             ]
            ],
            "type": "histogram2d"
           }
          ],
          "histogram2dcontour": [
           {
            "colorbar": {
             "outlinewidth": 0,
             "ticks": ""
            },
            "colorscale": [
             [
              0,
              "#0d0887"
             ],
             [
              0.1111111111111111,
              "#46039f"
             ],
             [
              0.2222222222222222,
              "#7201a8"
             ],
             [
              0.3333333333333333,
              "#9c179e"
             ],
             [
              0.4444444444444444,
              "#bd3786"
             ],
             [
              0.5555555555555556,
              "#d8576b"
             ],
             [
              0.6666666666666666,
              "#ed7953"
             ],
             [
              0.7777777777777778,
              "#fb9f3a"
             ],
             [
              0.8888888888888888,
              "#fdca26"
             ],
             [
              1,
              "#f0f921"
             ]
            ],
            "type": "histogram2dcontour"
           }
          ],
          "mesh3d": [
           {
            "colorbar": {
             "outlinewidth": 0,
             "ticks": ""
            },
            "type": "mesh3d"
           }
          ],
          "parcoords": [
           {
            "line": {
             "colorbar": {
              "outlinewidth": 0,
              "ticks": ""
             }
            },
            "type": "parcoords"
           }
          ],
          "pie": [
           {
            "automargin": true,
            "type": "pie"
           }
          ],
          "scatter": [
           {
            "marker": {
             "colorbar": {
              "outlinewidth": 0,
              "ticks": ""
             }
            },
            "type": "scatter"
           }
          ],
          "scatter3d": [
           {
            "line": {
             "colorbar": {
              "outlinewidth": 0,
              "ticks": ""
             }
            },
            "marker": {
             "colorbar": {
              "outlinewidth": 0,
              "ticks": ""
             }
            },
            "type": "scatter3d"
           }
          ],
          "scattercarpet": [
           {
            "marker": {
             "colorbar": {
              "outlinewidth": 0,
              "ticks": ""
             }
            },
            "type": "scattercarpet"
           }
          ],
          "scattergeo": [
           {
            "marker": {
             "colorbar": {
              "outlinewidth": 0,
              "ticks": ""
             }
            },
            "type": "scattergeo"
           }
          ],
          "scattergl": [
           {
            "marker": {
             "colorbar": {
              "outlinewidth": 0,
              "ticks": ""
             }
            },
            "type": "scattergl"
           }
          ],
          "scattermapbox": [
           {
            "marker": {
             "colorbar": {
              "outlinewidth": 0,
              "ticks": ""
             }
            },
            "type": "scattermapbox"
           }
          ],
          "scatterpolar": [
           {
            "marker": {
             "colorbar": {
              "outlinewidth": 0,
              "ticks": ""
             }
            },
            "type": "scatterpolar"
           }
          ],
          "scatterpolargl": [
           {
            "marker": {
             "colorbar": {
              "outlinewidth": 0,
              "ticks": ""
             }
            },
            "type": "scatterpolargl"
           }
          ],
          "scatterternary": [
           {
            "marker": {
             "colorbar": {
              "outlinewidth": 0,
              "ticks": ""
             }
            },
            "type": "scatterternary"
           }
          ],
          "surface": [
           {
            "colorbar": {
             "outlinewidth": 0,
             "ticks": ""
            },
            "colorscale": [
             [
              0,
              "#0d0887"
             ],
             [
              0.1111111111111111,
              "#46039f"
             ],
             [
              0.2222222222222222,
              "#7201a8"
             ],
             [
              0.3333333333333333,
              "#9c179e"
             ],
             [
              0.4444444444444444,
              "#bd3786"
             ],
             [
              0.5555555555555556,
              "#d8576b"
             ],
             [
              0.6666666666666666,
              "#ed7953"
             ],
             [
              0.7777777777777778,
              "#fb9f3a"
             ],
             [
              0.8888888888888888,
              "#fdca26"
             ],
             [
              1,
              "#f0f921"
             ]
            ],
            "type": "surface"
           }
          ],
          "table": [
           {
            "cells": {
             "fill": {
              "color": "#EBF0F8"
             },
             "line": {
              "color": "white"
             }
            },
            "header": {
             "fill": {
              "color": "#C8D4E3"
             },
             "line": {
              "color": "white"
             }
            },
            "type": "table"
           }
          ]
         },
         "layout": {
          "annotationdefaults": {
           "arrowcolor": "#2a3f5f",
           "arrowhead": 0,
           "arrowwidth": 1
          },
          "autotypenumbers": "strict",
          "coloraxis": {
           "colorbar": {
            "outlinewidth": 0,
            "ticks": ""
           }
          },
          "colorscale": {
           "diverging": [
            [
             0,
             "#8e0152"
            ],
            [
             0.1,
             "#c51b7d"
            ],
            [
             0.2,
             "#de77ae"
            ],
            [
             0.3,
             "#f1b6da"
            ],
            [
             0.4,
             "#fde0ef"
            ],
            [
             0.5,
             "#f7f7f7"
            ],
            [
             0.6,
             "#e6f5d0"
            ],
            [
             0.7,
             "#b8e186"
            ],
            [
             0.8,
             "#7fbc41"
            ],
            [
             0.9,
             "#4d9221"
            ],
            [
             1,
             "#276419"
            ]
           ],
           "sequential": [
            [
             0,
             "#0d0887"
            ],
            [
             0.1111111111111111,
             "#46039f"
            ],
            [
             0.2222222222222222,
             "#7201a8"
            ],
            [
             0.3333333333333333,
             "#9c179e"
            ],
            [
             0.4444444444444444,
             "#bd3786"
            ],
            [
             0.5555555555555556,
             "#d8576b"
            ],
            [
             0.6666666666666666,
             "#ed7953"
            ],
            [
             0.7777777777777778,
             "#fb9f3a"
            ],
            [
             0.8888888888888888,
             "#fdca26"
            ],
            [
             1,
             "#f0f921"
            ]
           ],
           "sequentialminus": [
            [
             0,
             "#0d0887"
            ],
            [
             0.1111111111111111,
             "#46039f"
            ],
            [
             0.2222222222222222,
             "#7201a8"
            ],
            [
             0.3333333333333333,
             "#9c179e"
            ],
            [
             0.4444444444444444,
             "#bd3786"
            ],
            [
             0.5555555555555556,
             "#d8576b"
            ],
            [
             0.6666666666666666,
             "#ed7953"
            ],
            [
             0.7777777777777778,
             "#fb9f3a"
            ],
            [
             0.8888888888888888,
             "#fdca26"
            ],
            [
             1,
             "#f0f921"
            ]
           ]
          },
          "colorway": [
           "#636efa",
           "#EF553B",
           "#00cc96",
           "#ab63fa",
           "#FFA15A",
           "#19d3f3",
           "#FF6692",
           "#B6E880",
           "#FF97FF",
           "#FECB52"
          ],
          "font": {
           "color": "#2a3f5f"
          },
          "geo": {
           "bgcolor": "white",
           "lakecolor": "white",
           "landcolor": "#E5ECF6",
           "showlakes": true,
           "showland": true,
           "subunitcolor": "white"
          },
          "hoverlabel": {
           "align": "left"
          },
          "hovermode": "closest",
          "mapbox": {
           "style": "light"
          },
          "paper_bgcolor": "white",
          "plot_bgcolor": "#E5ECF6",
          "polar": {
           "angularaxis": {
            "gridcolor": "white",
            "linecolor": "white",
            "ticks": ""
           },
           "bgcolor": "#E5ECF6",
           "radialaxis": {
            "gridcolor": "white",
            "linecolor": "white",
            "ticks": ""
           }
          },
          "scene": {
           "xaxis": {
            "backgroundcolor": "#E5ECF6",
            "gridcolor": "white",
            "gridwidth": 2,
            "linecolor": "white",
            "showbackground": true,
            "ticks": "",
            "zerolinecolor": "white"
           },
           "yaxis": {
            "backgroundcolor": "#E5ECF6",
            "gridcolor": "white",
            "gridwidth": 2,
            "linecolor": "white",
            "showbackground": true,
            "ticks": "",
            "zerolinecolor": "white"
           },
           "zaxis": {
            "backgroundcolor": "#E5ECF6",
            "gridcolor": "white",
            "gridwidth": 2,
            "linecolor": "white",
            "showbackground": true,
            "ticks": "",
            "zerolinecolor": "white"
           }
          },
          "shapedefaults": {
           "line": {
            "color": "#2a3f5f"
           }
          },
          "ternary": {
           "aaxis": {
            "gridcolor": "white",
            "linecolor": "white",
            "ticks": ""
           },
           "baxis": {
            "gridcolor": "white",
            "linecolor": "white",
            "ticks": ""
           },
           "bgcolor": "#E5ECF6",
           "caxis": {
            "gridcolor": "white",
            "linecolor": "white",
            "ticks": ""
           }
          },
          "title": {
           "x": 0.05
          },
          "xaxis": {
           "automargin": true,
           "gridcolor": "white",
           "linecolor": "white",
           "ticks": "",
           "title": {
            "standoff": 15
           },
           "zerolinecolor": "white",
           "zerolinewidth": 2
          },
          "yaxis": {
           "automargin": true,
           "gridcolor": "white",
           "linecolor": "white",
           "ticks": "",
           "title": {
            "standoff": 15
           },
           "zerolinecolor": "white",
           "zerolinewidth": 2
          }
         }
        },
        "uniformtext": {
         "minsize": 6,
         "mode": "show"
        },
        "xaxis": {
         "anchor": "y",
         "domain": [
          0,
          1
         ],
         "title": {
          "text": "val"
         }
        },
        "yaxis": {
         "anchor": "x",
         "domain": [
          0,
          1
         ],
         "title": {
          "text": "count"
         }
        }
       }
      },
      "text/html": [
       "<div>                            <div id=\"53af0346-bf0f-4aa4-b313-899891a7f774\" class=\"plotly-graph-div\" style=\"height:525px; width:100%;\"></div>            <script type=\"text/javascript\">                require([\"plotly\"], function(Plotly) {                    window.PLOTLYENV=window.PLOTLYENV || {};                                    if (document.getElementById(\"53af0346-bf0f-4aa4-b313-899891a7f774\")) {                    Plotly.newPlot(                        \"53af0346-bf0f-4aa4-b313-899891a7f774\",                        [{\"alignmentgroup\":\"True\",\"hovertemplate\":\"val=%{x}<br>count=%{text}<extra></extra>\",\"legendgroup\":\"\",\"marker\":{\"color\":\"#636efa\",\"pattern\":{\"shape\":\"\"}},\"name\":\"\",\"offsetgroup\":\"\",\"orientation\":\"v\",\"showlegend\":false,\"text\":[\"1024\"],\"textposition\":\"outside\",\"texttemplate\":\"%{text:.2s}\",\"type\":\"bar\",\"x\":[\"10\"],\"xaxis\":\"x\",\"y\":[1024],\"yaxis\":\"y\"}],                        {\"barmode\":\"relative\",\"legend\":{\"tracegroupgap\":0},\"margin\":{\"t\":60},\"template\":{\"data\":{\"bar\":[{\"error_x\":{\"color\":\"#2a3f5f\"},\"error_y\":{\"color\":\"#2a3f5f\"},\"marker\":{\"line\":{\"color\":\"#E5ECF6\",\"width\":0.5},\"pattern\":{\"fillmode\":\"overlay\",\"size\":10,\"solidity\":0.2}},\"type\":\"bar\"}],\"barpolar\":[{\"marker\":{\"line\":{\"color\":\"#E5ECF6\",\"width\":0.5},\"pattern\":{\"fillmode\":\"overlay\",\"size\":10,\"solidity\":0.2}},\"type\":\"barpolar\"}],\"carpet\":[{\"aaxis\":{\"endlinecolor\":\"#2a3f5f\",\"gridcolor\":\"white\",\"linecolor\":\"white\",\"minorgridcolor\":\"white\",\"startlinecolor\":\"#2a3f5f\"},\"baxis\":{\"endlinecolor\":\"#2a3f5f\",\"gridcolor\":\"white\",\"linecolor\":\"white\",\"minorgridcolor\":\"white\",\"startlinecolor\":\"#2a3f5f\"},\"type\":\"carpet\"}],\"choropleth\":[{\"colorbar\":{\"outlinewidth\":0,\"ticks\":\"\"},\"type\":\"choropleth\"}],\"contour\":[{\"colorbar\":{\"outlinewidth\":0,\"ticks\":\"\"},\"colorscale\":[[0.0,\"#0d0887\"],[0.1111111111111111,\"#46039f\"],[0.2222222222222222,\"#7201a8\"],[0.3333333333333333,\"#9c179e\"],[0.4444444444444444,\"#bd3786\"],[0.5555555555555556,\"#d8576b\"],[0.6666666666666666,\"#ed7953\"],[0.7777777777777778,\"#fb9f3a\"],[0.8888888888888888,\"#fdca26\"],[1.0,\"#f0f921\"]],\"type\":\"contour\"}],\"contourcarpet\":[{\"colorbar\":{\"outlinewidth\":0,\"ticks\":\"\"},\"type\":\"contourcarpet\"}],\"heatmap\":[{\"colorbar\":{\"outlinewidth\":0,\"ticks\":\"\"},\"colorscale\":[[0.0,\"#0d0887\"],[0.1111111111111111,\"#46039f\"],[0.2222222222222222,\"#7201a8\"],[0.3333333333333333,\"#9c179e\"],[0.4444444444444444,\"#bd3786\"],[0.5555555555555556,\"#d8576b\"],[0.6666666666666666,\"#ed7953\"],[0.7777777777777778,\"#fb9f3a\"],[0.8888888888888888,\"#fdca26\"],[1.0,\"#f0f921\"]],\"type\":\"heatmap\"}],\"heatmapgl\":[{\"colorbar\":{\"outlinewidth\":0,\"ticks\":\"\"},\"colorscale\":[[0.0,\"#0d0887\"],[0.1111111111111111,\"#46039f\"],[0.2222222222222222,\"#7201a8\"],[0.3333333333333333,\"#9c179e\"],[0.4444444444444444,\"#bd3786\"],[0.5555555555555556,\"#d8576b\"],[0.6666666666666666,\"#ed7953\"],[0.7777777777777778,\"#fb9f3a\"],[0.8888888888888888,\"#fdca26\"],[1.0,\"#f0f921\"]],\"type\":\"heatmapgl\"}],\"histogram\":[{\"marker\":{\"pattern\":{\"fillmode\":\"overlay\",\"size\":10,\"solidity\":0.2}},\"type\":\"histogram\"}],\"histogram2d\":[{\"colorbar\":{\"outlinewidth\":0,\"ticks\":\"\"},\"colorscale\":[[0.0,\"#0d0887\"],[0.1111111111111111,\"#46039f\"],[0.2222222222222222,\"#7201a8\"],[0.3333333333333333,\"#9c179e\"],[0.4444444444444444,\"#bd3786\"],[0.5555555555555556,\"#d8576b\"],[0.6666666666666666,\"#ed7953\"],[0.7777777777777778,\"#fb9f3a\"],[0.8888888888888888,\"#fdca26\"],[1.0,\"#f0f921\"]],\"type\":\"histogram2d\"}],\"histogram2dcontour\":[{\"colorbar\":{\"outlinewidth\":0,\"ticks\":\"\"},\"colorscale\":[[0.0,\"#0d0887\"],[0.1111111111111111,\"#46039f\"],[0.2222222222222222,\"#7201a8\"],[0.3333333333333333,\"#9c179e\"],[0.4444444444444444,\"#bd3786\"],[0.5555555555555556,\"#d8576b\"],[0.6666666666666666,\"#ed7953\"],[0.7777777777777778,\"#fb9f3a\"],[0.8888888888888888,\"#fdca26\"],[1.0,\"#f0f921\"]],\"type\":\"histogram2dcontour\"}],\"mesh3d\":[{\"colorbar\":{\"outlinewidth\":0,\"ticks\":\"\"},\"type\":\"mesh3d\"}],\"parcoords\":[{\"line\":{\"colorbar\":{\"outlinewidth\":0,\"ticks\":\"\"}},\"type\":\"parcoords\"}],\"pie\":[{\"automargin\":true,\"type\":\"pie\"}],\"scatter\":[{\"marker\":{\"colorbar\":{\"outlinewidth\":0,\"ticks\":\"\"}},\"type\":\"scatter\"}],\"scatter3d\":[{\"line\":{\"colorbar\":{\"outlinewidth\":0,\"ticks\":\"\"}},\"marker\":{\"colorbar\":{\"outlinewidth\":0,\"ticks\":\"\"}},\"type\":\"scatter3d\"}],\"scattercarpet\":[{\"marker\":{\"colorbar\":{\"outlinewidth\":0,\"ticks\":\"\"}},\"type\":\"scattercarpet\"}],\"scattergeo\":[{\"marker\":{\"colorbar\":{\"outlinewidth\":0,\"ticks\":\"\"}},\"type\":\"scattergeo\"}],\"scattergl\":[{\"marker\":{\"colorbar\":{\"outlinewidth\":0,\"ticks\":\"\"}},\"type\":\"scattergl\"}],\"scattermapbox\":[{\"marker\":{\"colorbar\":{\"outlinewidth\":0,\"ticks\":\"\"}},\"type\":\"scattermapbox\"}],\"scatterpolar\":[{\"marker\":{\"colorbar\":{\"outlinewidth\":0,\"ticks\":\"\"}},\"type\":\"scatterpolar\"}],\"scatterpolargl\":[{\"marker\":{\"colorbar\":{\"outlinewidth\":0,\"ticks\":\"\"}},\"type\":\"scatterpolargl\"}],\"scatterternary\":[{\"marker\":{\"colorbar\":{\"outlinewidth\":0,\"ticks\":\"\"}},\"type\":\"scatterternary\"}],\"surface\":[{\"colorbar\":{\"outlinewidth\":0,\"ticks\":\"\"},\"colorscale\":[[0.0,\"#0d0887\"],[0.1111111111111111,\"#46039f\"],[0.2222222222222222,\"#7201a8\"],[0.3333333333333333,\"#9c179e\"],[0.4444444444444444,\"#bd3786\"],[0.5555555555555556,\"#d8576b\"],[0.6666666666666666,\"#ed7953\"],[0.7777777777777778,\"#fb9f3a\"],[0.8888888888888888,\"#fdca26\"],[1.0,\"#f0f921\"]],\"type\":\"surface\"}],\"table\":[{\"cells\":{\"fill\":{\"color\":\"#EBF0F8\"},\"line\":{\"color\":\"white\"}},\"header\":{\"fill\":{\"color\":\"#C8D4E3\"},\"line\":{\"color\":\"white\"}},\"type\":\"table\"}]},\"layout\":{\"annotationdefaults\":{\"arrowcolor\":\"#2a3f5f\",\"arrowhead\":0,\"arrowwidth\":1},\"autotypenumbers\":\"strict\",\"coloraxis\":{\"colorbar\":{\"outlinewidth\":0,\"ticks\":\"\"}},\"colorscale\":{\"diverging\":[[0,\"#8e0152\"],[0.1,\"#c51b7d\"],[0.2,\"#de77ae\"],[0.3,\"#f1b6da\"],[0.4,\"#fde0ef\"],[0.5,\"#f7f7f7\"],[0.6,\"#e6f5d0\"],[0.7,\"#b8e186\"],[0.8,\"#7fbc41\"],[0.9,\"#4d9221\"],[1,\"#276419\"]],\"sequential\":[[0.0,\"#0d0887\"],[0.1111111111111111,\"#46039f\"],[0.2222222222222222,\"#7201a8\"],[0.3333333333333333,\"#9c179e\"],[0.4444444444444444,\"#bd3786\"],[0.5555555555555556,\"#d8576b\"],[0.6666666666666666,\"#ed7953\"],[0.7777777777777778,\"#fb9f3a\"],[0.8888888888888888,\"#fdca26\"],[1.0,\"#f0f921\"]],\"sequentialminus\":[[0.0,\"#0d0887\"],[0.1111111111111111,\"#46039f\"],[0.2222222222222222,\"#7201a8\"],[0.3333333333333333,\"#9c179e\"],[0.4444444444444444,\"#bd3786\"],[0.5555555555555556,\"#d8576b\"],[0.6666666666666666,\"#ed7953\"],[0.7777777777777778,\"#fb9f3a\"],[0.8888888888888888,\"#fdca26\"],[1.0,\"#f0f921\"]]},\"colorway\":[\"#636efa\",\"#EF553B\",\"#00cc96\",\"#ab63fa\",\"#FFA15A\",\"#19d3f3\",\"#FF6692\",\"#B6E880\",\"#FF97FF\",\"#FECB52\"],\"font\":{\"color\":\"#2a3f5f\"},\"geo\":{\"bgcolor\":\"white\",\"lakecolor\":\"white\",\"landcolor\":\"#E5ECF6\",\"showlakes\":true,\"showland\":true,\"subunitcolor\":\"white\"},\"hoverlabel\":{\"align\":\"left\"},\"hovermode\":\"closest\",\"mapbox\":{\"style\":\"light\"},\"paper_bgcolor\":\"white\",\"plot_bgcolor\":\"#E5ECF6\",\"polar\":{\"angularaxis\":{\"gridcolor\":\"white\",\"linecolor\":\"white\",\"ticks\":\"\"},\"bgcolor\":\"#E5ECF6\",\"radialaxis\":{\"gridcolor\":\"white\",\"linecolor\":\"white\",\"ticks\":\"\"}},\"scene\":{\"xaxis\":{\"backgroundcolor\":\"#E5ECF6\",\"gridcolor\":\"white\",\"gridwidth\":2,\"linecolor\":\"white\",\"showbackground\":true,\"ticks\":\"\",\"zerolinecolor\":\"white\"},\"yaxis\":{\"backgroundcolor\":\"#E5ECF6\",\"gridcolor\":\"white\",\"gridwidth\":2,\"linecolor\":\"white\",\"showbackground\":true,\"ticks\":\"\",\"zerolinecolor\":\"white\"},\"zaxis\":{\"backgroundcolor\":\"#E5ECF6\",\"gridcolor\":\"white\",\"gridwidth\":2,\"linecolor\":\"white\",\"showbackground\":true,\"ticks\":\"\",\"zerolinecolor\":\"white\"}},\"shapedefaults\":{\"line\":{\"color\":\"#2a3f5f\"}},\"ternary\":{\"aaxis\":{\"gridcolor\":\"white\",\"linecolor\":\"white\",\"ticks\":\"\"},\"baxis\":{\"gridcolor\":\"white\",\"linecolor\":\"white\",\"ticks\":\"\"},\"bgcolor\":\"#E5ECF6\",\"caxis\":{\"gridcolor\":\"white\",\"linecolor\":\"white\",\"ticks\":\"\"}},\"title\":{\"x\":0.05},\"xaxis\":{\"automargin\":true,\"gridcolor\":\"white\",\"linecolor\":\"white\",\"ticks\":\"\",\"title\":{\"standoff\":15},\"zerolinecolor\":\"white\",\"zerolinewidth\":2},\"yaxis\":{\"automargin\":true,\"gridcolor\":\"white\",\"linecolor\":\"white\",\"ticks\":\"\",\"title\":{\"standoff\":15},\"zerolinecolor\":\"white\",\"zerolinewidth\":2}}},\"uniformtext\":{\"minsize\":6,\"mode\":\"show\"},\"xaxis\":{\"anchor\":\"y\",\"domain\":[0.0,1.0],\"title\":{\"text\":\"val\"}},\"yaxis\":{\"anchor\":\"x\",\"domain\":[0.0,1.0],\"title\":{\"text\":\"count\"}}},                        {\"responsive\": true}                    ).then(function(){\n",
       "                            \n",
       "var gd = document.getElementById('53af0346-bf0f-4aa4-b313-899891a7f774');\n",
       "var x = new MutationObserver(function (mutations, observer) {{\n",
       "        var display = window.getComputedStyle(gd).display;\n",
       "        if (!display || display === 'none') {{\n",
       "            console.log([gd, 'removed!']);\n",
       "            Plotly.purge(gd);\n",
       "            observer.disconnect();\n",
       "        }}\n",
       "}});\n",
       "\n",
       "// Listen for the removal of the full notebook cells\n",
       "var notebookContainer = gd.closest('#notebook-container');\n",
       "if (notebookContainer) {{\n",
       "    x.observe(notebookContainer, {childList: true});\n",
       "}}\n",
       "\n",
       "// Listen for the clearing of the current output cell\n",
       "var outputEl = gd.closest('.output');\n",
       "if (outputEl) {{\n",
       "    x.observe(outputEl, {childList: true});\n",
       "}}\n",
       "\n",
       "                        })                };                });            </script>        </div>"
      ]
     },
     "metadata": {},
     "output_type": "display_data"
    }
   ],
   "source": [
    "############# CIRCUIT SIMULATION #################\n",
    "aer_sim = Aer.get_backend('aer_simulator')\n",
    "aer_sim.set_options(device='CPU')\n",
    "transpiled_qc = transpile(qc, aer_sim)\n",
    "\n",
    "shots = 2**(len_b+7) #we repeat the simulation 2048 times\n",
    "job = aer_sim.run(transpiled_qc, shots=shots)\n",
    "\n",
    "############# CODE FOR PLOTTING ####################\n",
    "hist = job.result().get_counts() #simulation output\n",
    "sort_hist = sorted(hist.items()) #So that the plotting puts everything in the same increasing order of basis\n",
    "n_hist = {k:v for k,v in sort_hist}\n",
    "\n",
    "results = {'val':n_hist.keys(),'count':n_hist.values()} #change the formatting of the data to match plotly\n",
    "\n",
    "fig = px.bar(results, x=\"val\", y=\"count\", text=\"count\")\n",
    "fig.update_traces(texttemplate='%{text:.2s}', textposition='outside')\n",
    "fig.update_layout(uniformtext_minsize=6, uniformtext_mode='show')\n",
    "fig.show()"
   ]
  },
  {
   "cell_type": "markdown",
   "id": "8f2939fe",
   "metadata": {},
   "source": [
    "# Bit String Comparator inside Grover"
   ]
  },
  {
   "cell_type": "code",
   "execution_count": 117,
   "id": "5d395dd2",
   "metadata": {
    "ExecuteTime": {
     "end_time": "2021-12-11T13:10:56.840369Z",
     "start_time": "2021-12-11T13:10:56.791763Z"
    }
   },
   "outputs": [
    {
     "data": {
      "text/html": [
       "<pre style=\"word-wrap: normal;white-space: pre;background: #fff0;line-height: 1.1;font-family: &quot;Courier New&quot;,Courier,monospace\">      ┌───┐┌──────┐ ░                 ░            ░            ░       ░            ░            ░                 ░ ┌───────┐ ░                                             \n",
       " d_0: ┤ X ├┤0     ├─░─────────────────░────────────░────────────░───────░────────────░────────────░─────────────────░─┤0      ├─░─────────────────────────────────────────────\n",
       "      ├───┤│      │ ░                 ░            ░            ░       ░            ░            ░                 ░ │       │ ░ ┌───┐┌───┐          ┌───┐┌───┐        ┌─┐   \n",
       " d_1: ┤ H ├┤1     ├─░─────────────────░────────────░────────────░───────░────────────░────────────░─────────────────░─┤1      ├─░─┤ H ├┤ X ├───────■──┤ X ├┤ H ├────────┤M├───\n",
       "      └───┘│  U_c │ ░ ┌───┐     ┌───┐ ░            ░ ┌───┐      ░       ░      ┌───┐ ░            ░ ┌───┐     ┌───┐ ░ │  U_c† │ ░ └───┘└───┘       │  └───┘└───┘        └╥┘   \n",
       " d_2: ─────┤2     ├─░─┤ X ├──■──┤ X ├─░────────────░─┤ X ├──────░───────░──────┤ X ├─░────────────░─┤ X ├──■──┤ X ├─░─┤2      ├─░──────────────────┼─────────────────────╫────\n",
       "           │      │ ░ ├───┤  │  ├───┤ ░            ░ └─┬─┘┌───┐ ░       ░ ┌───┐└─┬─┘ ░            ░ ├───┤  │  ├───┤ ░ │       │ ░                  │                     ║    \n",
       " d_3: ─────┤3     ├─░─┤ X ├──■──┤ X ├─░────────────░───┼──┤ X ├─░───■───░─┤ X ├──┼───░────────────░─┤ X ├──■──┤ X ├─░─┤3      ├─░──────────────────┼─────────────────────╫────\n",
       "           └──────┘ ░ └───┘┌─┴─┐└───┘ ░            ░   │  └─┬─┘ ░   │   ░ └─┬─┘  │   ░            ░ └───┘┌─┴─┐└───┘ ░ └───────┘ ░                  │                     ║    \n",
       " d_4: ──────────────░──────┤ X ├──────░────────────░───■────■───░───┼───░───■────■───░────────────░──────┤ X ├──────░───────────░──────────────────┼─────────────────────╫────\n",
       "           ┌──────┐ ░      └───┘      ░            ░   │    │   ░   │   ░   │    │   ░            ░      └───┘      ░ ┌───────┐ ░                  │                     ║    \n",
       " d_5: ─────┤0     ├─░─────────────────░────────────░───┼────┼───░───┼───░───┼────┼───░────────────░─────────────────░─┤0      ├─░──────────────────┼─────────────────────╫────\n",
       "      ┌───┐│      │ ░                 ░            ░   │    │   ░   │   ░   │    │   ░            ░                 ░ │       │ ░ ┌───┐┌───┐       │  ┌───┐┌───┐     ┌─┐ ║    \n",
       " d_6: ┤ H ├┤1     ├─░─────────────────░────────────░───┼────┼───░───┼───░───┼────┼───░────────────░─────────────────░─┤1      ├─░─┤ H ├┤ X ├───────■──┤ X ├┤ H ├─────┤M├─╫────\n",
       "      └───┘│  U_c │ ░ ┌───┐     ┌───┐ ░ ┌───┐      ░   │    │   ░   │   ░   │    │   ░      ┌───┐ ░ ┌───┐     ┌───┐ ░ │  U_c† │ ░ └───┘└───┘       │  └───┘└───┘     └╥┘ ║    \n",
       " d_7: ─────┤2     ├─░─┤ X ├──■──┤ X ├─░─┤ X ├──────░───■────┼───░───┼───░───┼────■───░──────┤ X ├─░─┤ X ├──■──┤ X ├─░─┤2      ├─░──────────────────┼──────────────────╫──╫────\n",
       "           │      │ ░ ├───┤  │  ├───┤ ░ └─┬─┘┌───┐ ░        │   ░   │   ░   │        ░ ┌───┐└─┬─┘ ░ ├───┤  │  ├───┤ ░ │       │ ░                  │                  ║  ║    \n",
       " d_8: ─────┤3     ├─░─┤ X ├──■──┤ X ├─░───┼──┤ X ├─░────────■───░───┼───░───■────────░─┤ X ├──┼───░─┤ X ├──■──┤ X ├─░─┤3      ├─░──────────────────┼──────────────────╫──╫────\n",
       "           └──────┘ ░ └───┘┌─┴─┐└───┘ ░   │  └─┬─┘ ░            ░   │   ░            ░ └─┬─┘  │   ░ └───┘┌─┴─┐└───┘ ░ └───────┘ ░                  │                  ║  ║    \n",
       " d_9: ──────────────░──────┤ X ├──────░───■────■───░────────────░───┼───░────────────░───■────■───░──────┤ X ├──────░───────────░──────────────────┼──────────────────╫──╫────\n",
       "           ┌──────┐ ░      └───┘      ░   │    │   ░            ░   │   ░            ░   │    │   ░      └───┘      ░ ┌───────┐ ░                  │                  ║  ║    \n",
       "d_10: ─────┤0     ├─░─────────────────░───┼────┼───░────────────░───┼───░────────────░───┼────┼───░─────────────────░─┤0      ├─░──────────────────┼──────────────────╫──╫────\n",
       "      ┌───┐│      │ ░                 ░   │    │   ░            ░   │   ░            ░   │    │   ░                 ░ │       │ ░ ┌───┐┌───┐┌───┐┌─┴─┐┌───┐┌───┐┌───┐ ║  ║ ┌─┐\n",
       "d_11: ┤ H ├┤1     ├─░─────────────────░───┼────┼───░────────────░───┼───░────────────░───┼────┼───░─────────────────░─┤1      ├─░─┤ H ├┤ X ├┤ H ├┤ X ├┤ H ├┤ X ├┤ H ├─╫──╫─┤M├\n",
       "      └───┘│  U_c │ ░                 ░   │    │   ░            ░   │   ░            ░   │    │   ░                 ░ │  U_c† │ ░ └───┘└───┘└───┘└───┘└───┘└───┘└───┘ ║  ║ └╥┘\n",
       "d_12: ─────┤2     ├─░─────────────────░───■────┼───░────────────░───┼───░────────────░───┼────■───░─────────────────░─┤2      ├─░─────────────────────────────────────╫──╫──╫─\n",
       "           │      │ ░                 ░        │   ░            ░   │   ░            ░   │        ░                 ░ │       │ ░                                     ║  ║  ║ \n",
       "d_13: ─────┤3     ├─░─────────────────░────────■───░────────────░───┼───░────────────░───■────────░─────────────────░─┤3      ├─░─────────────────────────────────────╫──╫──╫─\n",
       "      ┌───┐└┬───┬─┘ ░                 ░            ░            ░ ┌─┴─┐ ░            ░            ░                 ░ └───────┘ ░                                     ║  ║  ║ \n",
       "d_14: ┤ X ├─┤ H ├───░─────────────────░────────────░────────────░─┤ X ├─░────────────░────────────░─────────────────░───────────░─────────────────────────────────────╫──╫──╫─\n",
       "      └───┘ └───┘   ░                 ░            ░            ░ └───┘ ░            ░            ░                 ░           ░                                     ║  ║  ║ \n",
       " c: 3/════════════════════════════════════════════════════════════════════════════════════════════════════════════════════════════════════════════════════════════════╩══╩══╩═\n",
       "                                                                                                                                                                      1  2  0 </pre>"
      ],
      "text/plain": [
       "      ┌───┐┌──────┐ ░                 ░            ░            ░       ░            ░            ░                 ░ ┌───────┐ ░                                             \n",
       " d_0: ┤ X ├┤0     ├─░─────────────────░────────────░────────────░───────░────────────░────────────░─────────────────░─┤0      ├─░─────────────────────────────────────────────\n",
       "      ├───┤│      │ ░                 ░            ░            ░       ░            ░            ░                 ░ │       │ ░ ┌───┐┌───┐          ┌───┐┌───┐        ┌─┐   \n",
       " d_1: ┤ H ├┤1     ├─░─────────────────░────────────░────────────░───────░────────────░────────────░─────────────────░─┤1      ├─░─┤ H ├┤ X ├───────■──┤ X ├┤ H ├────────┤M├───\n",
       "      └───┘│  U_c │ ░ ┌───┐     ┌───┐ ░            ░ ┌───┐      ░       ░      ┌───┐ ░            ░ ┌───┐     ┌───┐ ░ │  U_c† │ ░ └───┘└───┘       │  └───┘└───┘        └╥┘   \n",
       " d_2: ─────┤2     ├─░─┤ X ├──■──┤ X ├─░────────────░─┤ X ├──────░───────░──────┤ X ├─░────────────░─┤ X ├──■──┤ X ├─░─┤2      ├─░──────────────────┼─────────────────────╫────\n",
       "           │      │ ░ ├───┤  │  ├───┤ ░            ░ └─┬─┘┌───┐ ░       ░ ┌───┐└─┬─┘ ░            ░ ├───┤  │  ├───┤ ░ │       │ ░                  │                     ║    \n",
       " d_3: ─────┤3     ├─░─┤ X ├──■──┤ X ├─░────────────░───┼──┤ X ├─░───■───░─┤ X ├──┼───░────────────░─┤ X ├──■──┤ X ├─░─┤3      ├─░──────────────────┼─────────────────────╫────\n",
       "           └──────┘ ░ └───┘┌─┴─┐└───┘ ░            ░   │  └─┬─┘ ░   │   ░ └─┬─┘  │   ░            ░ └───┘┌─┴─┐└───┘ ░ └───────┘ ░                  │                     ║    \n",
       " d_4: ──────────────░──────┤ X ├──────░────────────░───■────■───░───┼───░───■────■───░────────────░──────┤ X ├──────░───────────░──────────────────┼─────────────────────╫────\n",
       "           ┌──────┐ ░      └───┘      ░            ░   │    │   ░   │   ░   │    │   ░            ░      └───┘      ░ ┌───────┐ ░                  │                     ║    \n",
       " d_5: ─────┤0     ├─░─────────────────░────────────░───┼────┼───░───┼───░───┼────┼───░────────────░─────────────────░─┤0      ├─░──────────────────┼─────────────────────╫────\n",
       "      ┌───┐│      │ ░                 ░            ░   │    │   ░   │   ░   │    │   ░            ░                 ░ │       │ ░ ┌───┐┌───┐       │  ┌───┐┌───┐     ┌─┐ ║    \n",
       " d_6: ┤ H ├┤1     ├─░─────────────────░────────────░───┼────┼───░───┼───░───┼────┼───░────────────░─────────────────░─┤1      ├─░─┤ H ├┤ X ├───────■──┤ X ├┤ H ├─────┤M├─╫────\n",
       "      └───┘│  U_c │ ░ ┌───┐     ┌───┐ ░ ┌───┐      ░   │    │   ░   │   ░   │    │   ░      ┌───┐ ░ ┌───┐     ┌───┐ ░ │  U_c† │ ░ └───┘└───┘       │  └───┘└───┘     └╥┘ ║    \n",
       " d_7: ─────┤2     ├─░─┤ X ├──■──┤ X ├─░─┤ X ├──────░───■────┼───░───┼───░───┼────■───░──────┤ X ├─░─┤ X ├──■──┤ X ├─░─┤2      ├─░──────────────────┼──────────────────╫──╫────\n",
       "           │      │ ░ ├───┤  │  ├───┤ ░ └─┬─┘┌───┐ ░        │   ░   │   ░   │        ░ ┌───┐└─┬─┘ ░ ├───┤  │  ├───┤ ░ │       │ ░                  │                  ║  ║    \n",
       " d_8: ─────┤3     ├─░─┤ X ├──■──┤ X ├─░───┼──┤ X ├─░────────■───░───┼───░───■────────░─┤ X ├──┼───░─┤ X ├──■──┤ X ├─░─┤3      ├─░──────────────────┼──────────────────╫──╫────\n",
       "           └──────┘ ░ └───┘┌─┴─┐└───┘ ░   │  └─┬─┘ ░            ░   │   ░            ░ └─┬─┘  │   ░ └───┘┌─┴─┐└───┘ ░ └───────┘ ░                  │                  ║  ║    \n",
       " d_9: ──────────────░──────┤ X ├──────░───■────■───░────────────░───┼───░────────────░───■────■───░──────┤ X ├──────░───────────░──────────────────┼──────────────────╫──╫────\n",
       "           ┌──────┐ ░      └───┘      ░   │    │   ░            ░   │   ░            ░   │    │   ░      └───┘      ░ ┌───────┐ ░                  │                  ║  ║    \n",
       "d_10: ─────┤0     ├─░─────────────────░───┼────┼───░────────────░───┼───░────────────░───┼────┼───░─────────────────░─┤0      ├─░──────────────────┼──────────────────╫──╫────\n",
       "      ┌───┐│      │ ░                 ░   │    │   ░            ░   │   ░            ░   │    │   ░                 ░ │       │ ░ ┌───┐┌───┐┌───┐┌─┴─┐┌───┐┌───┐┌───┐ ║  ║ ┌─┐\n",
       "d_11: ┤ H ├┤1     ├─░─────────────────░───┼────┼───░────────────░───┼───░────────────░───┼────┼───░─────────────────░─┤1      ├─░─┤ H ├┤ X ├┤ H ├┤ X ├┤ H ├┤ X ├┤ H ├─╫──╫─┤M├\n",
       "      └───┘│  U_c │ ░                 ░   │    │   ░            ░   │   ░            ░   │    │   ░                 ░ │  U_c† │ ░ └───┘└───┘└───┘└───┘└───┘└───┘└───┘ ║  ║ └╥┘\n",
       "d_12: ─────┤2     ├─░─────────────────░───■────┼───░────────────░───┼───░────────────░───┼────■───░─────────────────░─┤2      ├─░─────────────────────────────────────╫──╫──╫─\n",
       "           │      │ ░                 ░        │   ░            ░   │   ░            ░   │        ░                 ░ │       │ ░                                     ║  ║  ║ \n",
       "d_13: ─────┤3     ├─░─────────────────░────────■───░────────────░───┼───░────────────░───■────────░─────────────────░─┤3      ├─░─────────────────────────────────────╫──╫──╫─\n",
       "      ┌───┐└┬───┬─┘ ░                 ░            ░            ░ ┌─┴─┐ ░            ░            ░                 ░ └───────┘ ░                                     ║  ║  ║ \n",
       "d_14: ┤ X ├─┤ H ├───░─────────────────░────────────░────────────░─┤ X ├─░────────────░────────────░─────────────────░───────────░─────────────────────────────────────╫──╫──╫─\n",
       "      └───┘ └───┘   ░                 ░            ░            ░ └───┘ ░            ░            ░                 ░           ░                                     ║  ║  ║ \n",
       " c: 3/════════════════════════════════════════════════════════════════════════════════════════════════════════════════════════════════════════════════════════════════╩══╩══╩═\n",
       "                                                                                                                                                                      1  2  0 "
      ]
     },
     "execution_count": 117,
     "metadata": {},
     "output_type": "execute_result"
    }
   ],
   "source": [
    "# Making the circuit in the paper\n",
    "\n",
    "len_b = 3 #length of the bitstrings to compare\n",
    "n = 5*len_b #number of qbits\n",
    "\n",
    "\n",
    "base = QuantumRegister(n, 'd') #Creates the data registry\n",
    "cr = ClassicalRegister(len_b, 'c') #Creates the classical bit measurment output\n",
    "\n",
    "qc = QuantumCircuit(base, cr) #Makes the circuit with these qbits as input\n",
    "\n",
    "####### State initialization #########\n",
    "\n",
    "qc.x(14)\n",
    "qc.h(14)\n",
    "\n",
    "qc.x(0) #first bit (2^2)\n",
    "# qc.x(5) #second bit (2^1)\n",
    "# qc.x(10) #third bit (2^0)\n",
    "\n",
    "qc.h(1) #first superp. bit\n",
    "qc.h(6) #second superp. bit\n",
    "qc.h(11) #third superp. bit\n",
    "\n",
    "u_c = U_c().to_gate()\n",
    "u_c.label = \"U_c\"\n",
    "\n",
    "u_c_T = U_c_T().to_gate()\n",
    "u_c_T.label = \"U_c†\"\n",
    "\n",
    "#################### GROVER CIRCUIT ######################\n",
    "\n",
    "qc.append(u_c, range(4))\n",
    "qc.append(u_c, range(5,9))\n",
    "qc.append(u_c, range(10,14))\n",
    "\n",
    "qc.barrier()\n",
    "\n",
    "qc.x(2)\n",
    "qc.x(3)\n",
    "qc.mcx([2,3],4, mode='noancilla')\n",
    "qc.x(2)\n",
    "qc.x(3)\n",
    "\n",
    "qc.x(7)\n",
    "qc.x(8)\n",
    "qc.mcx([7,8],9, mode='noancilla')\n",
    "qc.x(7)\n",
    "qc.x(8)\n",
    "\n",
    "qc.barrier()\n",
    "\n",
    "qc.mcx([9,12],7, mode='noancilla')\n",
    "qc.mcx([9,13],8, mode='noancilla')\n",
    "\n",
    "qc.barrier()\n",
    "\n",
    "qc.mcx([4,7],2, mode='noancilla')\n",
    "qc.mcx([4,8],3, mode='noancilla')\n",
    "\n",
    "qc.barrier()\n",
    "\n",
    "qc.cx(3,14)\n",
    "\n",
    "qc.barrier()\n",
    "\n",
    "qc.mcx([4,8],3, mode='noancilla')\n",
    "qc.mcx([4,7],2, mode='noancilla')\n",
    "\n",
    "qc.barrier()\n",
    "\n",
    "qc.mcx([9,13],8, mode='noancilla')\n",
    "qc.mcx([9,12],7, mode='noancilla')\n",
    "\n",
    "qc.barrier()\n",
    "\n",
    "qc.x(8)\n",
    "qc.x(7)\n",
    "qc.mcx([7,8],9, mode='noancilla')\n",
    "qc.x(8)\n",
    "qc.x(7)\n",
    "\n",
    "\n",
    "qc.x(3)\n",
    "qc.x(2)\n",
    "qc.mcx([2,3],4, mode='noancilla')\n",
    "qc.x(3)\n",
    "qc.x(2)\n",
    "\n",
    "qc.barrier()\n",
    "\n",
    "qc.append(u_c_T, range(10,14))\n",
    "qc.append(u_c_T, range(5,9))\n",
    "qc.append(u_c_T, range(4))\n",
    "\n",
    "\n",
    "qc.barrier()\n",
    "\n",
    "\n",
    "#DIFFUSION\n",
    "qc.h([1,6,11])#range(n-1))\n",
    "qc.x([1,6,11])#range(n-1))\n",
    "\n",
    "#It is difficult to do an actual multi-control-Z gate, so instead we make a MCX surrounded by H gates to transform it into a MCZ\n",
    "qc.h(11)#n-2)\n",
    "qc.mct([1,6],11)#list(range(n-2)), n-2) \n",
    "qc.h(11)#n-2)\n",
    "\n",
    "#The other symmetric side of the diffusor\n",
    "qc.x([1,6,11])#range(n-1))\n",
    "qc.h([1,6,11])#range(n-1))\n",
    "\n",
    "\n",
    "qc.measure([11,6,1],cr)\n",
    "\n",
    "qc.draw(fold=-1)"
   ]
  },
  {
   "cell_type": "markdown",
   "id": "267d4201",
   "metadata": {},
   "source": [
    "Using a = 100 (4 in dec), I should have an output with \n",
    "\n",
    "* 101 (5 in dec)\n",
    "* 011 (6 in dec)\n",
    "* 111 (7 in dec)\n",
    "\n",
    "and no\n",
    "\n",
    "* 000\n",
    "* 001\n",
    "* 010\n",
    "* 110\n",
    "* 100\n",
    "\n"
   ]
  },
  {
   "cell_type": "code",
   "execution_count": 123,
   "id": "bbc9350e",
   "metadata": {
    "ExecuteTime": {
     "end_time": "2021-12-11T13:14:39.123743Z",
     "start_time": "2021-12-11T13:14:39.034466Z"
    }
   },
   "outputs": [
    {
     "data": {
      "application/vnd.plotly.v1+json": {
       "config": {
        "plotlyServerURL": "https://plot.ly"
       },
       "data": [
        {
         "alignmentgroup": "True",
         "hovertemplate": "val=%{x}<br>count=%{text}<extra></extra>",
         "legendgroup": "",
         "marker": {
          "color": "#636efa",
          "pattern": {
           "shape": ""
          }
         },
         "name": "",
         "offsetgroup": "",
         "orientation": "v",
         "showlegend": false,
         "text": [
          "33",
          "26",
          "31",
          "35",
          "22",
          "319",
          "256",
          "302"
         ],
         "textposition": "outside",
         "texttemplate": "%{text:.2s}",
         "type": "bar",
         "x": [
          "000",
          "001",
          "010",
          "011",
          "100",
          "101",
          "110",
          "111"
         ],
         "xaxis": "x",
         "y": [
          33,
          26,
          31,
          35,
          22,
          319,
          256,
          302
         ],
         "yaxis": "y"
        }
       ],
       "layout": {
        "barmode": "relative",
        "legend": {
         "tracegroupgap": 0
        },
        "margin": {
         "t": 60
        },
        "template": {
         "data": {
          "bar": [
           {
            "error_x": {
             "color": "#2a3f5f"
            },
            "error_y": {
             "color": "#2a3f5f"
            },
            "marker": {
             "line": {
              "color": "#E5ECF6",
              "width": 0.5
             },
             "pattern": {
              "fillmode": "overlay",
              "size": 10,
              "solidity": 0.2
             }
            },
            "type": "bar"
           }
          ],
          "barpolar": [
           {
            "marker": {
             "line": {
              "color": "#E5ECF6",
              "width": 0.5
             },
             "pattern": {
              "fillmode": "overlay",
              "size": 10,
              "solidity": 0.2
             }
            },
            "type": "barpolar"
           }
          ],
          "carpet": [
           {
            "aaxis": {
             "endlinecolor": "#2a3f5f",
             "gridcolor": "white",
             "linecolor": "white",
             "minorgridcolor": "white",
             "startlinecolor": "#2a3f5f"
            },
            "baxis": {
             "endlinecolor": "#2a3f5f",
             "gridcolor": "white",
             "linecolor": "white",
             "minorgridcolor": "white",
             "startlinecolor": "#2a3f5f"
            },
            "type": "carpet"
           }
          ],
          "choropleth": [
           {
            "colorbar": {
             "outlinewidth": 0,
             "ticks": ""
            },
            "type": "choropleth"
           }
          ],
          "contour": [
           {
            "colorbar": {
             "outlinewidth": 0,
             "ticks": ""
            },
            "colorscale": [
             [
              0,
              "#0d0887"
             ],
             [
              0.1111111111111111,
              "#46039f"
             ],
             [
              0.2222222222222222,
              "#7201a8"
             ],
             [
              0.3333333333333333,
              "#9c179e"
             ],
             [
              0.4444444444444444,
              "#bd3786"
             ],
             [
              0.5555555555555556,
              "#d8576b"
             ],
             [
              0.6666666666666666,
              "#ed7953"
             ],
             [
              0.7777777777777778,
              "#fb9f3a"
             ],
             [
              0.8888888888888888,
              "#fdca26"
             ],
             [
              1,
              "#f0f921"
             ]
            ],
            "type": "contour"
           }
          ],
          "contourcarpet": [
           {
            "colorbar": {
             "outlinewidth": 0,
             "ticks": ""
            },
            "type": "contourcarpet"
           }
          ],
          "heatmap": [
           {
            "colorbar": {
             "outlinewidth": 0,
             "ticks": ""
            },
            "colorscale": [
             [
              0,
              "#0d0887"
             ],
             [
              0.1111111111111111,
              "#46039f"
             ],
             [
              0.2222222222222222,
              "#7201a8"
             ],
             [
              0.3333333333333333,
              "#9c179e"
             ],
             [
              0.4444444444444444,
              "#bd3786"
             ],
             [
              0.5555555555555556,
              "#d8576b"
             ],
             [
              0.6666666666666666,
              "#ed7953"
             ],
             [
              0.7777777777777778,
              "#fb9f3a"
             ],
             [
              0.8888888888888888,
              "#fdca26"
             ],
             [
              1,
              "#f0f921"
             ]
            ],
            "type": "heatmap"
           }
          ],
          "heatmapgl": [
           {
            "colorbar": {
             "outlinewidth": 0,
             "ticks": ""
            },
            "colorscale": [
             [
              0,
              "#0d0887"
             ],
             [
              0.1111111111111111,
              "#46039f"
             ],
             [
              0.2222222222222222,
              "#7201a8"
             ],
             [
              0.3333333333333333,
              "#9c179e"
             ],
             [
              0.4444444444444444,
              "#bd3786"
             ],
             [
              0.5555555555555556,
              "#d8576b"
             ],
             [
              0.6666666666666666,
              "#ed7953"
             ],
             [
              0.7777777777777778,
              "#fb9f3a"
             ],
             [
              0.8888888888888888,
              "#fdca26"
             ],
             [
              1,
              "#f0f921"
             ]
            ],
            "type": "heatmapgl"
           }
          ],
          "histogram": [
           {
            "marker": {
             "pattern": {
              "fillmode": "overlay",
              "size": 10,
              "solidity": 0.2
             }
            },
            "type": "histogram"
           }
          ],
          "histogram2d": [
           {
            "colorbar": {
             "outlinewidth": 0,
             "ticks": ""
            },
            "colorscale": [
             [
              0,
              "#0d0887"
             ],
             [
              0.1111111111111111,
              "#46039f"
             ],
             [
              0.2222222222222222,
              "#7201a8"
             ],
             [
              0.3333333333333333,
              "#9c179e"
             ],
             [
              0.4444444444444444,
              "#bd3786"
             ],
             [
              0.5555555555555556,
              "#d8576b"
             ],
             [
              0.6666666666666666,
              "#ed7953"
             ],
             [
              0.7777777777777778,
              "#fb9f3a"
             ],
             [
              0.8888888888888888,
              "#fdca26"
             ],
             [
              1,
              "#f0f921"
             ]
            ],
            "type": "histogram2d"
           }
          ],
          "histogram2dcontour": [
           {
            "colorbar": {
             "outlinewidth": 0,
             "ticks": ""
            },
            "colorscale": [
             [
              0,
              "#0d0887"
             ],
             [
              0.1111111111111111,
              "#46039f"
             ],
             [
              0.2222222222222222,
              "#7201a8"
             ],
             [
              0.3333333333333333,
              "#9c179e"
             ],
             [
              0.4444444444444444,
              "#bd3786"
             ],
             [
              0.5555555555555556,
              "#d8576b"
             ],
             [
              0.6666666666666666,
              "#ed7953"
             ],
             [
              0.7777777777777778,
              "#fb9f3a"
             ],
             [
              0.8888888888888888,
              "#fdca26"
             ],
             [
              1,
              "#f0f921"
             ]
            ],
            "type": "histogram2dcontour"
           }
          ],
          "mesh3d": [
           {
            "colorbar": {
             "outlinewidth": 0,
             "ticks": ""
            },
            "type": "mesh3d"
           }
          ],
          "parcoords": [
           {
            "line": {
             "colorbar": {
              "outlinewidth": 0,
              "ticks": ""
             }
            },
            "type": "parcoords"
           }
          ],
          "pie": [
           {
            "automargin": true,
            "type": "pie"
           }
          ],
          "scatter": [
           {
            "marker": {
             "colorbar": {
              "outlinewidth": 0,
              "ticks": ""
             }
            },
            "type": "scatter"
           }
          ],
          "scatter3d": [
           {
            "line": {
             "colorbar": {
              "outlinewidth": 0,
              "ticks": ""
             }
            },
            "marker": {
             "colorbar": {
              "outlinewidth": 0,
              "ticks": ""
             }
            },
            "type": "scatter3d"
           }
          ],
          "scattercarpet": [
           {
            "marker": {
             "colorbar": {
              "outlinewidth": 0,
              "ticks": ""
             }
            },
            "type": "scattercarpet"
           }
          ],
          "scattergeo": [
           {
            "marker": {
             "colorbar": {
              "outlinewidth": 0,
              "ticks": ""
             }
            },
            "type": "scattergeo"
           }
          ],
          "scattergl": [
           {
            "marker": {
             "colorbar": {
              "outlinewidth": 0,
              "ticks": ""
             }
            },
            "type": "scattergl"
           }
          ],
          "scattermapbox": [
           {
            "marker": {
             "colorbar": {
              "outlinewidth": 0,
              "ticks": ""
             }
            },
            "type": "scattermapbox"
           }
          ],
          "scatterpolar": [
           {
            "marker": {
             "colorbar": {
              "outlinewidth": 0,
              "ticks": ""
             }
            },
            "type": "scatterpolar"
           }
          ],
          "scatterpolargl": [
           {
            "marker": {
             "colorbar": {
              "outlinewidth": 0,
              "ticks": ""
             }
            },
            "type": "scatterpolargl"
           }
          ],
          "scatterternary": [
           {
            "marker": {
             "colorbar": {
              "outlinewidth": 0,
              "ticks": ""
             }
            },
            "type": "scatterternary"
           }
          ],
          "surface": [
           {
            "colorbar": {
             "outlinewidth": 0,
             "ticks": ""
            },
            "colorscale": [
             [
              0,
              "#0d0887"
             ],
             [
              0.1111111111111111,
              "#46039f"
             ],
             [
              0.2222222222222222,
              "#7201a8"
             ],
             [
              0.3333333333333333,
              "#9c179e"
             ],
             [
              0.4444444444444444,
              "#bd3786"
             ],
             [
              0.5555555555555556,
              "#d8576b"
             ],
             [
              0.6666666666666666,
              "#ed7953"
             ],
             [
              0.7777777777777778,
              "#fb9f3a"
             ],
             [
              0.8888888888888888,
              "#fdca26"
             ],
             [
              1,
              "#f0f921"
             ]
            ],
            "type": "surface"
           }
          ],
          "table": [
           {
            "cells": {
             "fill": {
              "color": "#EBF0F8"
             },
             "line": {
              "color": "white"
             }
            },
            "header": {
             "fill": {
              "color": "#C8D4E3"
             },
             "line": {
              "color": "white"
             }
            },
            "type": "table"
           }
          ]
         },
         "layout": {
          "annotationdefaults": {
           "arrowcolor": "#2a3f5f",
           "arrowhead": 0,
           "arrowwidth": 1
          },
          "autotypenumbers": "strict",
          "coloraxis": {
           "colorbar": {
            "outlinewidth": 0,
            "ticks": ""
           }
          },
          "colorscale": {
           "diverging": [
            [
             0,
             "#8e0152"
            ],
            [
             0.1,
             "#c51b7d"
            ],
            [
             0.2,
             "#de77ae"
            ],
            [
             0.3,
             "#f1b6da"
            ],
            [
             0.4,
             "#fde0ef"
            ],
            [
             0.5,
             "#f7f7f7"
            ],
            [
             0.6,
             "#e6f5d0"
            ],
            [
             0.7,
             "#b8e186"
            ],
            [
             0.8,
             "#7fbc41"
            ],
            [
             0.9,
             "#4d9221"
            ],
            [
             1,
             "#276419"
            ]
           ],
           "sequential": [
            [
             0,
             "#0d0887"
            ],
            [
             0.1111111111111111,
             "#46039f"
            ],
            [
             0.2222222222222222,
             "#7201a8"
            ],
            [
             0.3333333333333333,
             "#9c179e"
            ],
            [
             0.4444444444444444,
             "#bd3786"
            ],
            [
             0.5555555555555556,
             "#d8576b"
            ],
            [
             0.6666666666666666,
             "#ed7953"
            ],
            [
             0.7777777777777778,
             "#fb9f3a"
            ],
            [
             0.8888888888888888,
             "#fdca26"
            ],
            [
             1,
             "#f0f921"
            ]
           ],
           "sequentialminus": [
            [
             0,
             "#0d0887"
            ],
            [
             0.1111111111111111,
             "#46039f"
            ],
            [
             0.2222222222222222,
             "#7201a8"
            ],
            [
             0.3333333333333333,
             "#9c179e"
            ],
            [
             0.4444444444444444,
             "#bd3786"
            ],
            [
             0.5555555555555556,
             "#d8576b"
            ],
            [
             0.6666666666666666,
             "#ed7953"
            ],
            [
             0.7777777777777778,
             "#fb9f3a"
            ],
            [
             0.8888888888888888,
             "#fdca26"
            ],
            [
             1,
             "#f0f921"
            ]
           ]
          },
          "colorway": [
           "#636efa",
           "#EF553B",
           "#00cc96",
           "#ab63fa",
           "#FFA15A",
           "#19d3f3",
           "#FF6692",
           "#B6E880",
           "#FF97FF",
           "#FECB52"
          ],
          "font": {
           "color": "#2a3f5f"
          },
          "geo": {
           "bgcolor": "white",
           "lakecolor": "white",
           "landcolor": "#E5ECF6",
           "showlakes": true,
           "showland": true,
           "subunitcolor": "white"
          },
          "hoverlabel": {
           "align": "left"
          },
          "hovermode": "closest",
          "mapbox": {
           "style": "light"
          },
          "paper_bgcolor": "white",
          "plot_bgcolor": "#E5ECF6",
          "polar": {
           "angularaxis": {
            "gridcolor": "white",
            "linecolor": "white",
            "ticks": ""
           },
           "bgcolor": "#E5ECF6",
           "radialaxis": {
            "gridcolor": "white",
            "linecolor": "white",
            "ticks": ""
           }
          },
          "scene": {
           "xaxis": {
            "backgroundcolor": "#E5ECF6",
            "gridcolor": "white",
            "gridwidth": 2,
            "linecolor": "white",
            "showbackground": true,
            "ticks": "",
            "zerolinecolor": "white"
           },
           "yaxis": {
            "backgroundcolor": "#E5ECF6",
            "gridcolor": "white",
            "gridwidth": 2,
            "linecolor": "white",
            "showbackground": true,
            "ticks": "",
            "zerolinecolor": "white"
           },
           "zaxis": {
            "backgroundcolor": "#E5ECF6",
            "gridcolor": "white",
            "gridwidth": 2,
            "linecolor": "white",
            "showbackground": true,
            "ticks": "",
            "zerolinecolor": "white"
           }
          },
          "shapedefaults": {
           "line": {
            "color": "#2a3f5f"
           }
          },
          "ternary": {
           "aaxis": {
            "gridcolor": "white",
            "linecolor": "white",
            "ticks": ""
           },
           "baxis": {
            "gridcolor": "white",
            "linecolor": "white",
            "ticks": ""
           },
           "bgcolor": "#E5ECF6",
           "caxis": {
            "gridcolor": "white",
            "linecolor": "white",
            "ticks": ""
           }
          },
          "title": {
           "x": 0.05
          },
          "xaxis": {
           "automargin": true,
           "gridcolor": "white",
           "linecolor": "white",
           "ticks": "",
           "title": {
            "standoff": 15
           },
           "zerolinecolor": "white",
           "zerolinewidth": 2
          },
          "yaxis": {
           "automargin": true,
           "gridcolor": "white",
           "linecolor": "white",
           "ticks": "",
           "title": {
            "standoff": 15
           },
           "zerolinecolor": "white",
           "zerolinewidth": 2
          }
         }
        },
        "uniformtext": {
         "minsize": 6,
         "mode": "show"
        },
        "xaxis": {
         "anchor": "y",
         "domain": [
          0,
          1
         ],
         "title": {
          "text": "val"
         }
        },
        "yaxis": {
         "anchor": "x",
         "domain": [
          0,
          1
         ],
         "title": {
          "text": "count"
         }
        }
       }
      },
      "text/html": [
       "<div>                            <div id=\"6d5ac27a-7621-4ae5-b834-5802285c5262\" class=\"plotly-graph-div\" style=\"height:525px; width:100%;\"></div>            <script type=\"text/javascript\">                require([\"plotly\"], function(Plotly) {                    window.PLOTLYENV=window.PLOTLYENV || {};                                    if (document.getElementById(\"6d5ac27a-7621-4ae5-b834-5802285c5262\")) {                    Plotly.newPlot(                        \"6d5ac27a-7621-4ae5-b834-5802285c5262\",                        [{\"alignmentgroup\":\"True\",\"hovertemplate\":\"val=%{x}<br>count=%{text}<extra></extra>\",\"legendgroup\":\"\",\"marker\":{\"color\":\"#636efa\",\"pattern\":{\"shape\":\"\"}},\"name\":\"\",\"offsetgroup\":\"\",\"orientation\":\"v\",\"showlegend\":false,\"text\":[\"33\",\"26\",\"31\",\"35\",\"22\",\"319\",\"256\",\"302\"],\"textposition\":\"outside\",\"texttemplate\":\"%{text:.2s}\",\"type\":\"bar\",\"x\":[\"000\",\"001\",\"010\",\"011\",\"100\",\"101\",\"110\",\"111\"],\"xaxis\":\"x\",\"y\":[33,26,31,35,22,319,256,302],\"yaxis\":\"y\"}],                        {\"barmode\":\"relative\",\"legend\":{\"tracegroupgap\":0},\"margin\":{\"t\":60},\"template\":{\"data\":{\"bar\":[{\"error_x\":{\"color\":\"#2a3f5f\"},\"error_y\":{\"color\":\"#2a3f5f\"},\"marker\":{\"line\":{\"color\":\"#E5ECF6\",\"width\":0.5},\"pattern\":{\"fillmode\":\"overlay\",\"size\":10,\"solidity\":0.2}},\"type\":\"bar\"}],\"barpolar\":[{\"marker\":{\"line\":{\"color\":\"#E5ECF6\",\"width\":0.5},\"pattern\":{\"fillmode\":\"overlay\",\"size\":10,\"solidity\":0.2}},\"type\":\"barpolar\"}],\"carpet\":[{\"aaxis\":{\"endlinecolor\":\"#2a3f5f\",\"gridcolor\":\"white\",\"linecolor\":\"white\",\"minorgridcolor\":\"white\",\"startlinecolor\":\"#2a3f5f\"},\"baxis\":{\"endlinecolor\":\"#2a3f5f\",\"gridcolor\":\"white\",\"linecolor\":\"white\",\"minorgridcolor\":\"white\",\"startlinecolor\":\"#2a3f5f\"},\"type\":\"carpet\"}],\"choropleth\":[{\"colorbar\":{\"outlinewidth\":0,\"ticks\":\"\"},\"type\":\"choropleth\"}],\"contour\":[{\"colorbar\":{\"outlinewidth\":0,\"ticks\":\"\"},\"colorscale\":[[0.0,\"#0d0887\"],[0.1111111111111111,\"#46039f\"],[0.2222222222222222,\"#7201a8\"],[0.3333333333333333,\"#9c179e\"],[0.4444444444444444,\"#bd3786\"],[0.5555555555555556,\"#d8576b\"],[0.6666666666666666,\"#ed7953\"],[0.7777777777777778,\"#fb9f3a\"],[0.8888888888888888,\"#fdca26\"],[1.0,\"#f0f921\"]],\"type\":\"contour\"}],\"contourcarpet\":[{\"colorbar\":{\"outlinewidth\":0,\"ticks\":\"\"},\"type\":\"contourcarpet\"}],\"heatmap\":[{\"colorbar\":{\"outlinewidth\":0,\"ticks\":\"\"},\"colorscale\":[[0.0,\"#0d0887\"],[0.1111111111111111,\"#46039f\"],[0.2222222222222222,\"#7201a8\"],[0.3333333333333333,\"#9c179e\"],[0.4444444444444444,\"#bd3786\"],[0.5555555555555556,\"#d8576b\"],[0.6666666666666666,\"#ed7953\"],[0.7777777777777778,\"#fb9f3a\"],[0.8888888888888888,\"#fdca26\"],[1.0,\"#f0f921\"]],\"type\":\"heatmap\"}],\"heatmapgl\":[{\"colorbar\":{\"outlinewidth\":0,\"ticks\":\"\"},\"colorscale\":[[0.0,\"#0d0887\"],[0.1111111111111111,\"#46039f\"],[0.2222222222222222,\"#7201a8\"],[0.3333333333333333,\"#9c179e\"],[0.4444444444444444,\"#bd3786\"],[0.5555555555555556,\"#d8576b\"],[0.6666666666666666,\"#ed7953\"],[0.7777777777777778,\"#fb9f3a\"],[0.8888888888888888,\"#fdca26\"],[1.0,\"#f0f921\"]],\"type\":\"heatmapgl\"}],\"histogram\":[{\"marker\":{\"pattern\":{\"fillmode\":\"overlay\",\"size\":10,\"solidity\":0.2}},\"type\":\"histogram\"}],\"histogram2d\":[{\"colorbar\":{\"outlinewidth\":0,\"ticks\":\"\"},\"colorscale\":[[0.0,\"#0d0887\"],[0.1111111111111111,\"#46039f\"],[0.2222222222222222,\"#7201a8\"],[0.3333333333333333,\"#9c179e\"],[0.4444444444444444,\"#bd3786\"],[0.5555555555555556,\"#d8576b\"],[0.6666666666666666,\"#ed7953\"],[0.7777777777777778,\"#fb9f3a\"],[0.8888888888888888,\"#fdca26\"],[1.0,\"#f0f921\"]],\"type\":\"histogram2d\"}],\"histogram2dcontour\":[{\"colorbar\":{\"outlinewidth\":0,\"ticks\":\"\"},\"colorscale\":[[0.0,\"#0d0887\"],[0.1111111111111111,\"#46039f\"],[0.2222222222222222,\"#7201a8\"],[0.3333333333333333,\"#9c179e\"],[0.4444444444444444,\"#bd3786\"],[0.5555555555555556,\"#d8576b\"],[0.6666666666666666,\"#ed7953\"],[0.7777777777777778,\"#fb9f3a\"],[0.8888888888888888,\"#fdca26\"],[1.0,\"#f0f921\"]],\"type\":\"histogram2dcontour\"}],\"mesh3d\":[{\"colorbar\":{\"outlinewidth\":0,\"ticks\":\"\"},\"type\":\"mesh3d\"}],\"parcoords\":[{\"line\":{\"colorbar\":{\"outlinewidth\":0,\"ticks\":\"\"}},\"type\":\"parcoords\"}],\"pie\":[{\"automargin\":true,\"type\":\"pie\"}],\"scatter\":[{\"marker\":{\"colorbar\":{\"outlinewidth\":0,\"ticks\":\"\"}},\"type\":\"scatter\"}],\"scatter3d\":[{\"line\":{\"colorbar\":{\"outlinewidth\":0,\"ticks\":\"\"}},\"marker\":{\"colorbar\":{\"outlinewidth\":0,\"ticks\":\"\"}},\"type\":\"scatter3d\"}],\"scattercarpet\":[{\"marker\":{\"colorbar\":{\"outlinewidth\":0,\"ticks\":\"\"}},\"type\":\"scattercarpet\"}],\"scattergeo\":[{\"marker\":{\"colorbar\":{\"outlinewidth\":0,\"ticks\":\"\"}},\"type\":\"scattergeo\"}],\"scattergl\":[{\"marker\":{\"colorbar\":{\"outlinewidth\":0,\"ticks\":\"\"}},\"type\":\"scattergl\"}],\"scattermapbox\":[{\"marker\":{\"colorbar\":{\"outlinewidth\":0,\"ticks\":\"\"}},\"type\":\"scattermapbox\"}],\"scatterpolar\":[{\"marker\":{\"colorbar\":{\"outlinewidth\":0,\"ticks\":\"\"}},\"type\":\"scatterpolar\"}],\"scatterpolargl\":[{\"marker\":{\"colorbar\":{\"outlinewidth\":0,\"ticks\":\"\"}},\"type\":\"scatterpolargl\"}],\"scatterternary\":[{\"marker\":{\"colorbar\":{\"outlinewidth\":0,\"ticks\":\"\"}},\"type\":\"scatterternary\"}],\"surface\":[{\"colorbar\":{\"outlinewidth\":0,\"ticks\":\"\"},\"colorscale\":[[0.0,\"#0d0887\"],[0.1111111111111111,\"#46039f\"],[0.2222222222222222,\"#7201a8\"],[0.3333333333333333,\"#9c179e\"],[0.4444444444444444,\"#bd3786\"],[0.5555555555555556,\"#d8576b\"],[0.6666666666666666,\"#ed7953\"],[0.7777777777777778,\"#fb9f3a\"],[0.8888888888888888,\"#fdca26\"],[1.0,\"#f0f921\"]],\"type\":\"surface\"}],\"table\":[{\"cells\":{\"fill\":{\"color\":\"#EBF0F8\"},\"line\":{\"color\":\"white\"}},\"header\":{\"fill\":{\"color\":\"#C8D4E3\"},\"line\":{\"color\":\"white\"}},\"type\":\"table\"}]},\"layout\":{\"annotationdefaults\":{\"arrowcolor\":\"#2a3f5f\",\"arrowhead\":0,\"arrowwidth\":1},\"autotypenumbers\":\"strict\",\"coloraxis\":{\"colorbar\":{\"outlinewidth\":0,\"ticks\":\"\"}},\"colorscale\":{\"diverging\":[[0,\"#8e0152\"],[0.1,\"#c51b7d\"],[0.2,\"#de77ae\"],[0.3,\"#f1b6da\"],[0.4,\"#fde0ef\"],[0.5,\"#f7f7f7\"],[0.6,\"#e6f5d0\"],[0.7,\"#b8e186\"],[0.8,\"#7fbc41\"],[0.9,\"#4d9221\"],[1,\"#276419\"]],\"sequential\":[[0.0,\"#0d0887\"],[0.1111111111111111,\"#46039f\"],[0.2222222222222222,\"#7201a8\"],[0.3333333333333333,\"#9c179e\"],[0.4444444444444444,\"#bd3786\"],[0.5555555555555556,\"#d8576b\"],[0.6666666666666666,\"#ed7953\"],[0.7777777777777778,\"#fb9f3a\"],[0.8888888888888888,\"#fdca26\"],[1.0,\"#f0f921\"]],\"sequentialminus\":[[0.0,\"#0d0887\"],[0.1111111111111111,\"#46039f\"],[0.2222222222222222,\"#7201a8\"],[0.3333333333333333,\"#9c179e\"],[0.4444444444444444,\"#bd3786\"],[0.5555555555555556,\"#d8576b\"],[0.6666666666666666,\"#ed7953\"],[0.7777777777777778,\"#fb9f3a\"],[0.8888888888888888,\"#fdca26\"],[1.0,\"#f0f921\"]]},\"colorway\":[\"#636efa\",\"#EF553B\",\"#00cc96\",\"#ab63fa\",\"#FFA15A\",\"#19d3f3\",\"#FF6692\",\"#B6E880\",\"#FF97FF\",\"#FECB52\"],\"font\":{\"color\":\"#2a3f5f\"},\"geo\":{\"bgcolor\":\"white\",\"lakecolor\":\"white\",\"landcolor\":\"#E5ECF6\",\"showlakes\":true,\"showland\":true,\"subunitcolor\":\"white\"},\"hoverlabel\":{\"align\":\"left\"},\"hovermode\":\"closest\",\"mapbox\":{\"style\":\"light\"},\"paper_bgcolor\":\"white\",\"plot_bgcolor\":\"#E5ECF6\",\"polar\":{\"angularaxis\":{\"gridcolor\":\"white\",\"linecolor\":\"white\",\"ticks\":\"\"},\"bgcolor\":\"#E5ECF6\",\"radialaxis\":{\"gridcolor\":\"white\",\"linecolor\":\"white\",\"ticks\":\"\"}},\"scene\":{\"xaxis\":{\"backgroundcolor\":\"#E5ECF6\",\"gridcolor\":\"white\",\"gridwidth\":2,\"linecolor\":\"white\",\"showbackground\":true,\"ticks\":\"\",\"zerolinecolor\":\"white\"},\"yaxis\":{\"backgroundcolor\":\"#E5ECF6\",\"gridcolor\":\"white\",\"gridwidth\":2,\"linecolor\":\"white\",\"showbackground\":true,\"ticks\":\"\",\"zerolinecolor\":\"white\"},\"zaxis\":{\"backgroundcolor\":\"#E5ECF6\",\"gridcolor\":\"white\",\"gridwidth\":2,\"linecolor\":\"white\",\"showbackground\":true,\"ticks\":\"\",\"zerolinecolor\":\"white\"}},\"shapedefaults\":{\"line\":{\"color\":\"#2a3f5f\"}},\"ternary\":{\"aaxis\":{\"gridcolor\":\"white\",\"linecolor\":\"white\",\"ticks\":\"\"},\"baxis\":{\"gridcolor\":\"white\",\"linecolor\":\"white\",\"ticks\":\"\"},\"bgcolor\":\"#E5ECF6\",\"caxis\":{\"gridcolor\":\"white\",\"linecolor\":\"white\",\"ticks\":\"\"}},\"title\":{\"x\":0.05},\"xaxis\":{\"automargin\":true,\"gridcolor\":\"white\",\"linecolor\":\"white\",\"ticks\":\"\",\"title\":{\"standoff\":15},\"zerolinecolor\":\"white\",\"zerolinewidth\":2},\"yaxis\":{\"automargin\":true,\"gridcolor\":\"white\",\"linecolor\":\"white\",\"ticks\":\"\",\"title\":{\"standoff\":15},\"zerolinecolor\":\"white\",\"zerolinewidth\":2}}},\"uniformtext\":{\"minsize\":6,\"mode\":\"show\"},\"xaxis\":{\"anchor\":\"y\",\"domain\":[0.0,1.0],\"title\":{\"text\":\"val\"}},\"yaxis\":{\"anchor\":\"x\",\"domain\":[0.0,1.0],\"title\":{\"text\":\"count\"}}},                        {\"responsive\": true}                    ).then(function(){\n",
       "                            \n",
       "var gd = document.getElementById('6d5ac27a-7621-4ae5-b834-5802285c5262');\n",
       "var x = new MutationObserver(function (mutations, observer) {{\n",
       "        var display = window.getComputedStyle(gd).display;\n",
       "        if (!display || display === 'none') {{\n",
       "            console.log([gd, 'removed!']);\n",
       "            Plotly.purge(gd);\n",
       "            observer.disconnect();\n",
       "        }}\n",
       "}});\n",
       "\n",
       "// Listen for the removal of the full notebook cells\n",
       "var notebookContainer = gd.closest('#notebook-container');\n",
       "if (notebookContainer) {{\n",
       "    x.observe(notebookContainer, {childList: true});\n",
       "}}\n",
       "\n",
       "// Listen for the clearing of the current output cell\n",
       "var outputEl = gd.closest('.output');\n",
       "if (outputEl) {{\n",
       "    x.observe(outputEl, {childList: true});\n",
       "}}\n",
       "\n",
       "                        })                };                });            </script>        </div>"
      ]
     },
     "metadata": {},
     "output_type": "display_data"
    },
    {
     "name": "stdout",
     "output_type": "stream",
     "text": [
      "Output, binary:  101; decimal: 5\n",
      "Output, binary:  110; decimal: 6\n",
      "Output, binary:  111; decimal: 7\n"
     ]
    }
   ],
   "source": [
    "############# CIRCUIT SIMULATION #################\n",
    "aer_sim = Aer.get_backend('aer_simulator')\n",
    "aer_sim.set_options(device='CPU')\n",
    "transpiled_qc = transpile(qc, aer_sim)\n",
    "\n",
    "shots = 2**(len_b+7) #we repeat the simulation 2048 times\n",
    "job = aer_sim.run(transpiled_qc, shots=shots)\n",
    "\n",
    "############# CODE FOR PLOTTING ####################\n",
    "hist = job.result().get_counts() #simulation output\n",
    "sort_hist = sorted(hist.items()) #So that the plotting puts everything in the same increasing order of basis\n",
    "n_hist = {k:v for k,v in sort_hist}\n",
    "\n",
    "results = {'val':n_hist.keys(),'count':n_hist.values()} #change the formatting of the data to match plotly\n",
    "\n",
    "fig = px.bar(results, x=\"val\", y=\"count\", text=\"count\")\n",
    "fig.update_traces(texttemplate='%{text:.2s}', textposition='outside')\n",
    "fig.update_layout(uniformtext_minsize=6, uniformtext_mode='show')\n",
    "fig.show()\n",
    "\n",
    "############## CODE FOR LISTING THE RESULTS #####################\n",
    "trig = []\n",
    "max_c = max(results['count'])\n",
    "for i,j in zip(results['val'],results['count']):\n",
    "    if int(j) > max_c-0.33*max_c: #only consideres values that are higher than one third less\n",
    "        trig.append({'index_dec':int(i,2),'index_bin':i,'counts':j})\n",
    "\n",
    "for t in trig:\n",
    "    print(f\"Output, binary:  {t['index_bin']}; decimal: {t['index_dec']}\")"
   ]
  },
  {
   "cell_type": "markdown",
   "id": "08f8701e",
   "metadata": {},
   "source": [
    "## Creating functions to make the circuit scalable to different sized bitstrings "
   ]
  },
  {
   "cell_type": "code",
   "execution_count": 129,
   "id": "e686d952",
   "metadata": {
    "ExecuteTime": {
     "end_time": "2021-12-11T13:16:02.087751Z",
     "start_time": "2021-12-11T13:16:02.079964Z"
    },
    "init_cell": true
   },
   "outputs": [],
   "source": [
    "def n_comp_p1(n):\n",
    "    qc = QuantumCircuit(5*n-1)\n",
    "    u_c = U_c().to_gate()\n",
    "    u_c.label = \"U_c\"\n",
    "    \n",
    "    for i in range(n):\n",
    "        qc.append(u_c, range(i*5,i*5 + 4))\n",
    "        \n",
    "    for i in range(n-1):\n",
    "        qc.x(i*5 + 2)\n",
    "        qc.x(i*5 + 3)\n",
    "        qc.mcx([i*5 + 2, i*5 + 3], i*5 + 4, mode='noancilla')\n",
    "        qc.x(i*5 + 2)\n",
    "        qc.x(i*5 + 3)\n",
    "        \n",
    "    for i in reversed(range(n-1)):\n",
    "        qc.mcx([i*5 + 4,i*5 + 7], i*5 + 2, mode='noancilla')\n",
    "        qc.mcx([i*5 + 4,i*5 + 8], i*5 + 3, mode='noancilla')\n",
    "        \n",
    "    return qc"
   ]
  },
  {
   "cell_type": "code",
   "execution_count": 130,
   "id": "136f565d",
   "metadata": {
    "ExecuteTime": {
     "end_time": "2021-12-11T13:16:02.417588Z",
     "start_time": "2021-12-11T13:16:02.400502Z"
    }
   },
   "outputs": [
    {
     "name": "stdout",
     "output_type": "stream",
     "text": [
      "      ┌──────┐                                   \n",
      " q_0: ┤0     ├───────────────────────────────────\n",
      "      │      │                                   \n",
      " q_1: ┤1     ├───────────────────────────────────\n",
      "      │  U_c │┌───┐     ┌───┐          ┌───┐     \n",
      " q_2: ┤2     ├┤ X ├──■──┤ X ├──────────┤ X ├─────\n",
      "      │      │├───┤  │  ├───┤          └─┬─┘┌───┐\n",
      " q_3: ┤3     ├┤ X ├──■──┤ X ├────────────┼──┤ X ├\n",
      "      └──────┘└───┘┌─┴─┐└───┘            │  └─┬─┘\n",
      " q_4: ─────────────┤ X ├─────────────────■────■──\n",
      "      ┌──────┐     └───┘                 │    │  \n",
      " q_5: ┤0     ├───────────────────────────┼────┼──\n",
      "      │      │                           │    │  \n",
      " q_6: ┤1     ├───────────────────────────┼────┼──\n",
      "      │  U_c │┌───┐     ┌───┐     ┌───┐  │    │  \n",
      " q_7: ┤2     ├┤ X ├──■──┤ X ├─────┤ X ├──■────┼──\n",
      "      │      │├───┤  │  ├───┤     └─┬─┘┌───┐  │  \n",
      " q_8: ┤3     ├┤ X ├──■──┤ X ├───────┼──┤ X ├──■──\n",
      "      └──────┘└───┘┌─┴─┐└───┘       │  └─┬─┘     \n",
      " q_9: ─────────────┤ X ├────────────■────■───────\n",
      "      ┌──────┐     └───┘            │    │       \n",
      "q_10: ┤0     ├──────────────────────┼────┼───────\n",
      "      │      │                      │    │       \n",
      "q_11: ┤1     ├──────────────────────┼────┼───────\n",
      "      │  U_c │┌───┐     ┌───┐┌───┐  │    │       \n",
      "q_12: ┤2     ├┤ X ├──■──┤ X ├┤ X ├──■────┼───────\n",
      "      │      │├───┤  │  ├───┤└─┬─┘┌───┐  │       \n",
      "q_13: ┤3     ├┤ X ├──■──┤ X ├──┼──┤ X ├──■───────\n",
      "      └──────┘└───┘┌─┴─┐└───┘  │  └─┬─┘          \n",
      "q_14: ─────────────┤ X ├───────■────■────────────\n",
      "      ┌──────┐     └───┘       │    │            \n",
      "q_15: ┤0     ├─────────────────┼────┼────────────\n",
      "      │      │                 │    │            \n",
      "q_16: ┤1     ├─────────────────┼────┼────────────\n",
      "      │  U_c │                 │    │            \n",
      "q_17: ┤2     ├─────────────────■────┼────────────\n",
      "      │      │                      │            \n",
      "q_18: ┤3     ├──────────────────────■────────────\n",
      "      └──────┘                                   \n"
     ]
    }
   ],
   "source": [
    "print(n_comp_p1(4).draw())"
   ]
  },
  {
   "cell_type": "code",
   "execution_count": 150,
   "id": "07e78967",
   "metadata": {
    "ExecuteTime": {
     "end_time": "2021-12-11T13:30:04.469217Z",
     "start_time": "2021-12-11T13:30:04.462964Z"
    },
    "init_cell": true,
    "scrolled": true
   },
   "outputs": [],
   "source": [
    "def n_comparator(n):\n",
    "    qc = QuantumCircuit(5*n)\n",
    "    \n",
    "###############################################\n",
    "# Inverse the commenting here if you want to see inside the circuit blocks\n",
    "\n",
    "    c1 = n_comp_p1(n).to_gate()\n",
    "    c1.label = \"Comp\"\n",
    "    qc.append(c1, range(5*n-1))\n",
    "    \n",
    "#     c1 = n_comp_p1(n)\n",
    "#     qc.compose(c1, range(5*n-1),inplace=True)\n",
    "\n",
    "###############################################\n",
    "\n",
    "#     qc.barrier()\n",
    "    qc.cx(3,5*n-1)\n",
    "#     qc.barrier()\n",
    "    \n",
    "###############################################\n",
    "# Inverse the commenting here if you want to see inside the circuit blocks\n",
    "\n",
    "    c2 = c1.reverse_ops()\n",
    "    c2.label = \"Comp_R\"\n",
    "    qc.append(c2, range(5*n-1))\n",
    "\n",
    "#     c2 = c1.reverse_ops()\n",
    "#     qc.compose(c2, range(5*n-1),inplace=True)\n",
    "\n",
    "###############################################\n",
    "    \n",
    "    return qc"
   ]
  },
  {
   "cell_type": "code",
   "execution_count": 151,
   "id": "93d12869",
   "metadata": {
    "ExecuteTime": {
     "end_time": "2021-12-11T13:30:04.984153Z",
     "start_time": "2021-12-11T13:30:04.963101Z"
    }
   },
   "outputs": [
    {
     "data": {
      "text/html": [
       "<pre style=\"word-wrap: normal;white-space: pre;background: #fff0;line-height: 1.1;font-family: &quot;Courier New&quot;,Courier,monospace\">      ┌────────┐     ┌──────────┐\n",
       " q_0: ┤0       ├─────┤0         ├\n",
       "      │        │     │          │\n",
       " q_1: ┤1       ├─────┤1         ├\n",
       "      │        │     │          │\n",
       " q_2: ┤2       ├─────┤2         ├\n",
       "      │        │     │          │\n",
       " q_3: ┤3       ├──■──┤3         ├\n",
       "      │        │  │  │          │\n",
       " q_4: ┤4       ├──┼──┤4         ├\n",
       "      │        │  │  │          │\n",
       " q_5: ┤5       ├──┼──┤5         ├\n",
       "      │        │  │  │          │\n",
       " q_6: ┤6       ├──┼──┤6         ├\n",
       "      │   Comp │  │  │   Comp_R │\n",
       " q_7: ┤7       ├──┼──┤7         ├\n",
       "      │        │  │  │          │\n",
       " q_8: ┤8       ├──┼──┤8         ├\n",
       "      │        │  │  │          │\n",
       " q_9: ┤9       ├──┼──┤9         ├\n",
       "      │        │  │  │          │\n",
       "q_10: ┤10      ├──┼──┤10        ├\n",
       "      │        │  │  │          │\n",
       "q_11: ┤11      ├──┼──┤11        ├\n",
       "      │        │  │  │          │\n",
       "q_12: ┤12      ├──┼──┤12        ├\n",
       "      │        │  │  │          │\n",
       "q_13: ┤13      ├──┼──┤13        ├\n",
       "      └────────┘┌─┴─┐└──────────┘\n",
       "q_14: ──────────┤ X ├────────────\n",
       "                └───┘            </pre>"
      ],
      "text/plain": [
       "      ┌────────┐     ┌──────────┐\n",
       " q_0: ┤0       ├─────┤0         ├\n",
       "      │        │     │          │\n",
       " q_1: ┤1       ├─────┤1         ├\n",
       "      │        │     │          │\n",
       " q_2: ┤2       ├─────┤2         ├\n",
       "      │        │     │          │\n",
       " q_3: ┤3       ├──■──┤3         ├\n",
       "      │        │  │  │          │\n",
       " q_4: ┤4       ├──┼──┤4         ├\n",
       "      │        │  │  │          │\n",
       " q_5: ┤5       ├──┼──┤5         ├\n",
       "      │        │  │  │          │\n",
       " q_6: ┤6       ├──┼──┤6         ├\n",
       "      │   Comp │  │  │   Comp_R │\n",
       " q_7: ┤7       ├──┼──┤7         ├\n",
       "      │        │  │  │          │\n",
       " q_8: ┤8       ├──┼──┤8         ├\n",
       "      │        │  │  │          │\n",
       " q_9: ┤9       ├──┼──┤9         ├\n",
       "      │        │  │  │          │\n",
       "q_10: ┤10      ├──┼──┤10        ├\n",
       "      │        │  │  │          │\n",
       "q_11: ┤11      ├──┼──┤11        ├\n",
       "      │        │  │  │          │\n",
       "q_12: ┤12      ├──┼──┤12        ├\n",
       "      │        │  │  │          │\n",
       "q_13: ┤13      ├──┼──┤13        ├\n",
       "      └────────┘┌─┴─┐└──────────┘\n",
       "q_14: ──────────┤ X ├────────────\n",
       "                └───┘            "
      ]
     },
     "execution_count": 151,
     "metadata": {},
     "output_type": "execute_result"
    }
   ],
   "source": [
    "n_comparator(3).draw(fold=-1)"
   ]
  },
  {
   "cell_type": "markdown",
   "id": "db55793c",
   "metadata": {},
   "source": [
    "### Here we build the circuit that will adapt depending on the size of the bitstrings to compare"
   ]
  },
  {
   "cell_type": "code",
   "execution_count": 135,
   "id": "dd294aef",
   "metadata": {
    "ExecuteTime": {
     "end_time": "2021-12-11T13:21:54.296732Z",
     "start_time": "2021-12-11T13:21:54.247656Z"
    }
   },
   "outputs": [
    {
     "data": {
      "text/html": [
       "<pre style=\"word-wrap: normal;white-space: pre;background: #fff0;line-height: 1.1;font-family: &quot;Courier New&quot;,Courier,monospace\">      ┌───┐     ┌──────────────┐                                               \n",
       " d_0: ┤ X ├─────┤0             ├───────────────────────────────────────────────\n",
       "      ├───┤     │              │┌───┐┌───┐          ┌───┐┌───┐           ┌─┐   \n",
       " d_1: ┤ H ├─────┤1             ├┤ H ├┤ X ├───────■──┤ X ├┤ H ├───────────┤M├───\n",
       "      └───┘     │              │└───┘└───┘       │  └───┘└───┘           └╥┘   \n",
       " d_2: ──────────┤2             ├─────────────────┼────────────────────────╫────\n",
       "                │              │                 │                        ║    \n",
       " d_3: ──────────┤3             ├─────────────────┼────────────────────────╫────\n",
       "                │              │                 │                        ║    \n",
       " d_4: ──────────┤4             ├─────────────────┼────────────────────────╫────\n",
       "                │              │                 │                        ║    \n",
       " d_5: ──────────┤5             ├─────────────────┼────────────────────────╫────\n",
       "      ┌───┐     │              │┌───┐┌───┐       │  ┌───┐┌───┐        ┌─┐ ║    \n",
       " d_6: ┤ H ├─────┤6             ├┤ H ├┤ X ├───────■──┤ X ├┤ H ├────────┤M├─╫────\n",
       "      └───┘     │              │└───┘└───┘       │  └───┘└───┘        └╥┘ ║    \n",
       " d_7: ──────────┤7             ├─────────────────┼─────────────────────╫──╫────\n",
       "                │              │                 │                     ║  ║    \n",
       " d_8: ──────────┤8             ├─────────────────┼─────────────────────╫──╫────\n",
       "                │              │                 │                     ║  ║    \n",
       " d_9: ──────────┤9             ├─────────────────┼─────────────────────╫──╫────\n",
       "      ┌───┐     │   Comparator │                 │                     ║  ║    \n",
       "d_10: ┤ X ├─────┤10            ├─────────────────┼─────────────────────╫──╫────\n",
       "      ├───┤     │              │┌───┐┌───┐       │  ┌───┐┌───┐     ┌─┐ ║  ║    \n",
       "d_11: ┤ H ├─────┤11            ├┤ H ├┤ X ├───────■──┤ X ├┤ H ├─────┤M├─╫──╫────\n",
       "      └───┘     │              │└───┘└───┘       │  └───┘└───┘     └╥┘ ║  ║    \n",
       "d_12: ──────────┤12            ├─────────────────┼──────────────────╫──╫──╫────\n",
       "                │              │                 │                  ║  ║  ║    \n",
       "d_13: ──────────┤13            ├─────────────────┼──────────────────╫──╫──╫────\n",
       "                │              │                 │                  ║  ║  ║    \n",
       "d_14: ──────────┤14            ├─────────────────┼──────────────────╫──╫──╫────\n",
       "      ┌───┐     │              │                 │                  ║  ║  ║    \n",
       "d_15: ┤ X ├─────┤15            ├─────────────────┼──────────────────╫──╫──╫────\n",
       "      ├───┤     │              │┌───┐┌───┐┌───┐┌─┴─┐┌───┐┌───┐┌───┐ ║  ║  ║ ┌─┐\n",
       "d_16: ┤ H ├─────┤16            ├┤ H ├┤ X ├┤ H ├┤ X ├┤ H ├┤ X ├┤ H ├─╫──╫──╫─┤M├\n",
       "      └───┘     │              │└───┘└───┘└───┘└───┘└───┘└───┘└───┘ ║  ║  ║ └╥┘\n",
       "d_17: ──────────┤17            ├────────────────────────────────────╫──╫──╫──╫─\n",
       "                │              │                                    ║  ║  ║  ║ \n",
       "d_18: ──────────┤18            ├────────────────────────────────────╫──╫──╫──╫─\n",
       "      ┌───┐┌───┐│              │                                    ║  ║  ║  ║ \n",
       "d_19: ┤ X ├┤ H ├┤19            ├────────────────────────────────────╫──╫──╫──╫─\n",
       "      └───┘└───┘└──────────────┘                                    ║  ║  ║  ║ \n",
       " c: 4/══════════════════════════════════════════════════════════════╩══╩══╩══╩═\n",
       "                                                                    1  2  3  0 </pre>"
      ],
      "text/plain": [
       "      ┌───┐     ┌──────────────┐                                               \n",
       " d_0: ┤ X ├─────┤0             ├───────────────────────────────────────────────\n",
       "      ├───┤     │              │┌───┐┌───┐          ┌───┐┌───┐           ┌─┐   \n",
       " d_1: ┤ H ├─────┤1             ├┤ H ├┤ X ├───────■──┤ X ├┤ H ├───────────┤M├───\n",
       "      └───┘     │              │└───┘└───┘       │  └───┘└───┘           └╥┘   \n",
       " d_2: ──────────┤2             ├─────────────────┼────────────────────────╫────\n",
       "                │              │                 │                        ║    \n",
       " d_3: ──────────┤3             ├─────────────────┼────────────────────────╫────\n",
       "                │              │                 │                        ║    \n",
       " d_4: ──────────┤4             ├─────────────────┼────────────────────────╫────\n",
       "                │              │                 │                        ║    \n",
       " d_5: ──────────┤5             ├─────────────────┼────────────────────────╫────\n",
       "      ┌───┐     │              │┌───┐┌───┐       │  ┌───┐┌───┐        ┌─┐ ║    \n",
       " d_6: ┤ H ├─────┤6             ├┤ H ├┤ X ├───────■──┤ X ├┤ H ├────────┤M├─╫────\n",
       "      └───┘     │              │└───┘└───┘       │  └───┘└───┘        └╥┘ ║    \n",
       " d_7: ──────────┤7             ├─────────────────┼─────────────────────╫──╫────\n",
       "                │              │                 │                     ║  ║    \n",
       " d_8: ──────────┤8             ├─────────────────┼─────────────────────╫──╫────\n",
       "                │              │                 │                     ║  ║    \n",
       " d_9: ──────────┤9             ├─────────────────┼─────────────────────╫──╫────\n",
       "      ┌───┐     │   Comparator │                 │                     ║  ║    \n",
       "d_10: ┤ X ├─────┤10            ├─────────────────┼─────────────────────╫──╫────\n",
       "      ├───┤     │              │┌───┐┌───┐       │  ┌───┐┌───┐     ┌─┐ ║  ║    \n",
       "d_11: ┤ H ├─────┤11            ├┤ H ├┤ X ├───────■──┤ X ├┤ H ├─────┤M├─╫──╫────\n",
       "      └───┘     │              │└───┘└───┘       │  └───┘└───┘     └╥┘ ║  ║    \n",
       "d_12: ──────────┤12            ├─────────────────┼──────────────────╫──╫──╫────\n",
       "                │              │                 │                  ║  ║  ║    \n",
       "d_13: ──────────┤13            ├─────────────────┼──────────────────╫──╫──╫────\n",
       "                │              │                 │                  ║  ║  ║    \n",
       "d_14: ──────────┤14            ├─────────────────┼──────────────────╫──╫──╫────\n",
       "      ┌───┐     │              │                 │                  ║  ║  ║    \n",
       "d_15: ┤ X ├─────┤15            ├─────────────────┼──────────────────╫──╫──╫────\n",
       "      ├───┤     │              │┌───┐┌───┐┌───┐┌─┴─┐┌───┐┌───┐┌───┐ ║  ║  ║ ┌─┐\n",
       "d_16: ┤ H ├─────┤16            ├┤ H ├┤ X ├┤ H ├┤ X ├┤ H ├┤ X ├┤ H ├─╫──╫──╫─┤M├\n",
       "      └───┘     │              │└───┘└───┘└───┘└───┘└───┘└───┘└───┘ ║  ║  ║ └╥┘\n",
       "d_17: ──────────┤17            ├────────────────────────────────────╫──╫──╫──╫─\n",
       "                │              │                                    ║  ║  ║  ║ \n",
       "d_18: ──────────┤18            ├────────────────────────────────────╫──╫──╫──╫─\n",
       "      ┌───┐┌───┐│              │                                    ║  ║  ║  ║ \n",
       "d_19: ┤ X ├┤ H ├┤19            ├────────────────────────────────────╫──╫──╫──╫─\n",
       "      └───┘└───┘└──────────────┘                                    ║  ║  ║  ║ \n",
       " c: 4/══════════════════════════════════════════════════════════════╩══╩══╩══╩═\n",
       "                                                                    1  2  3  0 "
      ]
     },
     "execution_count": 135,
     "metadata": {},
     "output_type": "execute_result"
    }
   ],
   "source": [
    "# Making the circuit in the paper\n",
    "\n",
    "len_b = 4 #length of the bitstrings to compare\n",
    "n = 5*len_b #number of qbits\n",
    "\n",
    "base = QuantumRegister(n, 'd') #Creates the data registry\n",
    "cr = ClassicalRegister(len_b, 'c') #Creates the classical bit measurment output\n",
    "\n",
    "qc = QuantumCircuit(base, cr) #Makes the circuit with these qbits as input\n",
    "\n",
    "####### State initialization #########\n",
    "\n",
    "qc.x(n-1)\n",
    "qc.h(n-1)\n",
    "\n",
    "qc.x(0) #first bit (2^3)\n",
    "# qc.x(5) #second bit (2^2)\n",
    "qc.x(10) #third bit (2^1)\n",
    "qc.x(15) #third bit (2^0)\n",
    "\n",
    "qc.h(1) #first superp. bit\n",
    "qc.h(6) #second superp. bit\n",
    "qc.h(11) #third superp. bit\n",
    "qc.h(16) #third superp. bit\n",
    "\n",
    "#################### GROVER CIRCUIT ######################\n",
    "comp_qc = n_comparator(len_b).to_gate()\n",
    "comp_qc.label = \"Comparator\"\n",
    "\n",
    "qc.append(comp_qc, range(n))\n",
    "\n",
    "\n",
    "#DIFFUSION\n",
    "qc.h([1,6,11,16])#range(n-1))\n",
    "qc.x([1,6,11,16])#range(n-1))\n",
    "\n",
    "#It is difficult to do an actual multi-control-Z gate, so instead we make a MCX surrounded by H gates to transform it into a MCZ\n",
    "qc.h(16)\n",
    "qc.mct([1,6,11],16)#list(range(n-2)), n-2) \n",
    "qc.h(16)\n",
    "\n",
    "#The other symmetric side of the diffusor\n",
    "qc.x([1,6,11,16])#range(n-1))\n",
    "qc.h([1,6,11,16])#range(n-1))\n",
    "\n",
    "\n",
    "qc.measure([16,11,6,1],cr)\n",
    "\n",
    "qc.draw(fold=-1)"
   ]
  },
  {
   "cell_type": "markdown",
   "id": "adc9d188",
   "metadata": {},
   "source": [
    "We encoded 1011 (11 in decimal), so we should end with \n",
    "\n",
    "* 1100 (12)\n",
    "* 1101 (13)\n",
    "* 1110 (14)\n",
    "* 1111 (15)"
   ]
  },
  {
   "cell_type": "code",
   "execution_count": 136,
   "id": "a2d7d8f9",
   "metadata": {
    "ExecuteTime": {
     "end_time": "2021-12-11T13:22:00.955063Z",
     "start_time": "2021-12-11T13:22:00.747822Z"
    }
   },
   "outputs": [
    {
     "data": {
      "application/vnd.plotly.v1+json": {
       "config": {
        "plotlyServerURL": "https://plot.ly"
       },
       "data": [
        {
         "alignmentgroup": "True",
         "hovertemplate": "val=%{x}<br>count=%{text}<extra></extra>",
         "legendgroup": "",
         "marker": {
          "color": "#636efa",
          "pattern": {
           "shape": ""
          }
         },
         "name": "",
         "offsetgroup": "",
         "orientation": "v",
         "showlegend": false,
         "text": [
          "551",
          "487",
          "510",
          "500"
         ],
         "textposition": "outside",
         "texttemplate": "%{text:.2s}",
         "type": "bar",
         "x": [
          "1100",
          "1101",
          "1110",
          "1111"
         ],
         "xaxis": "x",
         "y": [
          551,
          487,
          510,
          500
         ],
         "yaxis": "y"
        }
       ],
       "layout": {
        "barmode": "relative",
        "legend": {
         "tracegroupgap": 0
        },
        "margin": {
         "t": 60
        },
        "template": {
         "data": {
          "bar": [
           {
            "error_x": {
             "color": "#2a3f5f"
            },
            "error_y": {
             "color": "#2a3f5f"
            },
            "marker": {
             "line": {
              "color": "#E5ECF6",
              "width": 0.5
             },
             "pattern": {
              "fillmode": "overlay",
              "size": 10,
              "solidity": 0.2
             }
            },
            "type": "bar"
           }
          ],
          "barpolar": [
           {
            "marker": {
             "line": {
              "color": "#E5ECF6",
              "width": 0.5
             },
             "pattern": {
              "fillmode": "overlay",
              "size": 10,
              "solidity": 0.2
             }
            },
            "type": "barpolar"
           }
          ],
          "carpet": [
           {
            "aaxis": {
             "endlinecolor": "#2a3f5f",
             "gridcolor": "white",
             "linecolor": "white",
             "minorgridcolor": "white",
             "startlinecolor": "#2a3f5f"
            },
            "baxis": {
             "endlinecolor": "#2a3f5f",
             "gridcolor": "white",
             "linecolor": "white",
             "minorgridcolor": "white",
             "startlinecolor": "#2a3f5f"
            },
            "type": "carpet"
           }
          ],
          "choropleth": [
           {
            "colorbar": {
             "outlinewidth": 0,
             "ticks": ""
            },
            "type": "choropleth"
           }
          ],
          "contour": [
           {
            "colorbar": {
             "outlinewidth": 0,
             "ticks": ""
            },
            "colorscale": [
             [
              0,
              "#0d0887"
             ],
             [
              0.1111111111111111,
              "#46039f"
             ],
             [
              0.2222222222222222,
              "#7201a8"
             ],
             [
              0.3333333333333333,
              "#9c179e"
             ],
             [
              0.4444444444444444,
              "#bd3786"
             ],
             [
              0.5555555555555556,
              "#d8576b"
             ],
             [
              0.6666666666666666,
              "#ed7953"
             ],
             [
              0.7777777777777778,
              "#fb9f3a"
             ],
             [
              0.8888888888888888,
              "#fdca26"
             ],
             [
              1,
              "#f0f921"
             ]
            ],
            "type": "contour"
           }
          ],
          "contourcarpet": [
           {
            "colorbar": {
             "outlinewidth": 0,
             "ticks": ""
            },
            "type": "contourcarpet"
           }
          ],
          "heatmap": [
           {
            "colorbar": {
             "outlinewidth": 0,
             "ticks": ""
            },
            "colorscale": [
             [
              0,
              "#0d0887"
             ],
             [
              0.1111111111111111,
              "#46039f"
             ],
             [
              0.2222222222222222,
              "#7201a8"
             ],
             [
              0.3333333333333333,
              "#9c179e"
             ],
             [
              0.4444444444444444,
              "#bd3786"
             ],
             [
              0.5555555555555556,
              "#d8576b"
             ],
             [
              0.6666666666666666,
              "#ed7953"
             ],
             [
              0.7777777777777778,
              "#fb9f3a"
             ],
             [
              0.8888888888888888,
              "#fdca26"
             ],
             [
              1,
              "#f0f921"
             ]
            ],
            "type": "heatmap"
           }
          ],
          "heatmapgl": [
           {
            "colorbar": {
             "outlinewidth": 0,
             "ticks": ""
            },
            "colorscale": [
             [
              0,
              "#0d0887"
             ],
             [
              0.1111111111111111,
              "#46039f"
             ],
             [
              0.2222222222222222,
              "#7201a8"
             ],
             [
              0.3333333333333333,
              "#9c179e"
             ],
             [
              0.4444444444444444,
              "#bd3786"
             ],
             [
              0.5555555555555556,
              "#d8576b"
             ],
             [
              0.6666666666666666,
              "#ed7953"
             ],
             [
              0.7777777777777778,
              "#fb9f3a"
             ],
             [
              0.8888888888888888,
              "#fdca26"
             ],
             [
              1,
              "#f0f921"
             ]
            ],
            "type": "heatmapgl"
           }
          ],
          "histogram": [
           {
            "marker": {
             "pattern": {
              "fillmode": "overlay",
              "size": 10,
              "solidity": 0.2
             }
            },
            "type": "histogram"
           }
          ],
          "histogram2d": [
           {
            "colorbar": {
             "outlinewidth": 0,
             "ticks": ""
            },
            "colorscale": [
             [
              0,
              "#0d0887"
             ],
             [
              0.1111111111111111,
              "#46039f"
             ],
             [
              0.2222222222222222,
              "#7201a8"
             ],
             [
              0.3333333333333333,
              "#9c179e"
             ],
             [
              0.4444444444444444,
              "#bd3786"
             ],
             [
              0.5555555555555556,
              "#d8576b"
             ],
             [
              0.6666666666666666,
              "#ed7953"
             ],
             [
              0.7777777777777778,
              "#fb9f3a"
             ],
             [
              0.8888888888888888,
              "#fdca26"
             ],
             [
              1,
              "#f0f921"
             ]
            ],
            "type": "histogram2d"
           }
          ],
          "histogram2dcontour": [
           {
            "colorbar": {
             "outlinewidth": 0,
             "ticks": ""
            },
            "colorscale": [
             [
              0,
              "#0d0887"
             ],
             [
              0.1111111111111111,
              "#46039f"
             ],
             [
              0.2222222222222222,
              "#7201a8"
             ],
             [
              0.3333333333333333,
              "#9c179e"
             ],
             [
              0.4444444444444444,
              "#bd3786"
             ],
             [
              0.5555555555555556,
              "#d8576b"
             ],
             [
              0.6666666666666666,
              "#ed7953"
             ],
             [
              0.7777777777777778,
              "#fb9f3a"
             ],
             [
              0.8888888888888888,
              "#fdca26"
             ],
             [
              1,
              "#f0f921"
             ]
            ],
            "type": "histogram2dcontour"
           }
          ],
          "mesh3d": [
           {
            "colorbar": {
             "outlinewidth": 0,
             "ticks": ""
            },
            "type": "mesh3d"
           }
          ],
          "parcoords": [
           {
            "line": {
             "colorbar": {
              "outlinewidth": 0,
              "ticks": ""
             }
            },
            "type": "parcoords"
           }
          ],
          "pie": [
           {
            "automargin": true,
            "type": "pie"
           }
          ],
          "scatter": [
           {
            "marker": {
             "colorbar": {
              "outlinewidth": 0,
              "ticks": ""
             }
            },
            "type": "scatter"
           }
          ],
          "scatter3d": [
           {
            "line": {
             "colorbar": {
              "outlinewidth": 0,
              "ticks": ""
             }
            },
            "marker": {
             "colorbar": {
              "outlinewidth": 0,
              "ticks": ""
             }
            },
            "type": "scatter3d"
           }
          ],
          "scattercarpet": [
           {
            "marker": {
             "colorbar": {
              "outlinewidth": 0,
              "ticks": ""
             }
            },
            "type": "scattercarpet"
           }
          ],
          "scattergeo": [
           {
            "marker": {
             "colorbar": {
              "outlinewidth": 0,
              "ticks": ""
             }
            },
            "type": "scattergeo"
           }
          ],
          "scattergl": [
           {
            "marker": {
             "colorbar": {
              "outlinewidth": 0,
              "ticks": ""
             }
            },
            "type": "scattergl"
           }
          ],
          "scattermapbox": [
           {
            "marker": {
             "colorbar": {
              "outlinewidth": 0,
              "ticks": ""
             }
            },
            "type": "scattermapbox"
           }
          ],
          "scatterpolar": [
           {
            "marker": {
             "colorbar": {
              "outlinewidth": 0,
              "ticks": ""
             }
            },
            "type": "scatterpolar"
           }
          ],
          "scatterpolargl": [
           {
            "marker": {
             "colorbar": {
              "outlinewidth": 0,
              "ticks": ""
             }
            },
            "type": "scatterpolargl"
           }
          ],
          "scatterternary": [
           {
            "marker": {
             "colorbar": {
              "outlinewidth": 0,
              "ticks": ""
             }
            },
            "type": "scatterternary"
           }
          ],
          "surface": [
           {
            "colorbar": {
             "outlinewidth": 0,
             "ticks": ""
            },
            "colorscale": [
             [
              0,
              "#0d0887"
             ],
             [
              0.1111111111111111,
              "#46039f"
             ],
             [
              0.2222222222222222,
              "#7201a8"
             ],
             [
              0.3333333333333333,
              "#9c179e"
             ],
             [
              0.4444444444444444,
              "#bd3786"
             ],
             [
              0.5555555555555556,
              "#d8576b"
             ],
             [
              0.6666666666666666,
              "#ed7953"
             ],
             [
              0.7777777777777778,
              "#fb9f3a"
             ],
             [
              0.8888888888888888,
              "#fdca26"
             ],
             [
              1,
              "#f0f921"
             ]
            ],
            "type": "surface"
           }
          ],
          "table": [
           {
            "cells": {
             "fill": {
              "color": "#EBF0F8"
             },
             "line": {
              "color": "white"
             }
            },
            "header": {
             "fill": {
              "color": "#C8D4E3"
             },
             "line": {
              "color": "white"
             }
            },
            "type": "table"
           }
          ]
         },
         "layout": {
          "annotationdefaults": {
           "arrowcolor": "#2a3f5f",
           "arrowhead": 0,
           "arrowwidth": 1
          },
          "autotypenumbers": "strict",
          "coloraxis": {
           "colorbar": {
            "outlinewidth": 0,
            "ticks": ""
           }
          },
          "colorscale": {
           "diverging": [
            [
             0,
             "#8e0152"
            ],
            [
             0.1,
             "#c51b7d"
            ],
            [
             0.2,
             "#de77ae"
            ],
            [
             0.3,
             "#f1b6da"
            ],
            [
             0.4,
             "#fde0ef"
            ],
            [
             0.5,
             "#f7f7f7"
            ],
            [
             0.6,
             "#e6f5d0"
            ],
            [
             0.7,
             "#b8e186"
            ],
            [
             0.8,
             "#7fbc41"
            ],
            [
             0.9,
             "#4d9221"
            ],
            [
             1,
             "#276419"
            ]
           ],
           "sequential": [
            [
             0,
             "#0d0887"
            ],
            [
             0.1111111111111111,
             "#46039f"
            ],
            [
             0.2222222222222222,
             "#7201a8"
            ],
            [
             0.3333333333333333,
             "#9c179e"
            ],
            [
             0.4444444444444444,
             "#bd3786"
            ],
            [
             0.5555555555555556,
             "#d8576b"
            ],
            [
             0.6666666666666666,
             "#ed7953"
            ],
            [
             0.7777777777777778,
             "#fb9f3a"
            ],
            [
             0.8888888888888888,
             "#fdca26"
            ],
            [
             1,
             "#f0f921"
            ]
           ],
           "sequentialminus": [
            [
             0,
             "#0d0887"
            ],
            [
             0.1111111111111111,
             "#46039f"
            ],
            [
             0.2222222222222222,
             "#7201a8"
            ],
            [
             0.3333333333333333,
             "#9c179e"
            ],
            [
             0.4444444444444444,
             "#bd3786"
            ],
            [
             0.5555555555555556,
             "#d8576b"
            ],
            [
             0.6666666666666666,
             "#ed7953"
            ],
            [
             0.7777777777777778,
             "#fb9f3a"
            ],
            [
             0.8888888888888888,
             "#fdca26"
            ],
            [
             1,
             "#f0f921"
            ]
           ]
          },
          "colorway": [
           "#636efa",
           "#EF553B",
           "#00cc96",
           "#ab63fa",
           "#FFA15A",
           "#19d3f3",
           "#FF6692",
           "#B6E880",
           "#FF97FF",
           "#FECB52"
          ],
          "font": {
           "color": "#2a3f5f"
          },
          "geo": {
           "bgcolor": "white",
           "lakecolor": "white",
           "landcolor": "#E5ECF6",
           "showlakes": true,
           "showland": true,
           "subunitcolor": "white"
          },
          "hoverlabel": {
           "align": "left"
          },
          "hovermode": "closest",
          "mapbox": {
           "style": "light"
          },
          "paper_bgcolor": "white",
          "plot_bgcolor": "#E5ECF6",
          "polar": {
           "angularaxis": {
            "gridcolor": "white",
            "linecolor": "white",
            "ticks": ""
           },
           "bgcolor": "#E5ECF6",
           "radialaxis": {
            "gridcolor": "white",
            "linecolor": "white",
            "ticks": ""
           }
          },
          "scene": {
           "xaxis": {
            "backgroundcolor": "#E5ECF6",
            "gridcolor": "white",
            "gridwidth": 2,
            "linecolor": "white",
            "showbackground": true,
            "ticks": "",
            "zerolinecolor": "white"
           },
           "yaxis": {
            "backgroundcolor": "#E5ECF6",
            "gridcolor": "white",
            "gridwidth": 2,
            "linecolor": "white",
            "showbackground": true,
            "ticks": "",
            "zerolinecolor": "white"
           },
           "zaxis": {
            "backgroundcolor": "#E5ECF6",
            "gridcolor": "white",
            "gridwidth": 2,
            "linecolor": "white",
            "showbackground": true,
            "ticks": "",
            "zerolinecolor": "white"
           }
          },
          "shapedefaults": {
           "line": {
            "color": "#2a3f5f"
           }
          },
          "ternary": {
           "aaxis": {
            "gridcolor": "white",
            "linecolor": "white",
            "ticks": ""
           },
           "baxis": {
            "gridcolor": "white",
            "linecolor": "white",
            "ticks": ""
           },
           "bgcolor": "#E5ECF6",
           "caxis": {
            "gridcolor": "white",
            "linecolor": "white",
            "ticks": ""
           }
          },
          "title": {
           "x": 0.05
          },
          "xaxis": {
           "automargin": true,
           "gridcolor": "white",
           "linecolor": "white",
           "ticks": "",
           "title": {
            "standoff": 15
           },
           "zerolinecolor": "white",
           "zerolinewidth": 2
          },
          "yaxis": {
           "automargin": true,
           "gridcolor": "white",
           "linecolor": "white",
           "ticks": "",
           "title": {
            "standoff": 15
           },
           "zerolinecolor": "white",
           "zerolinewidth": 2
          }
         }
        },
        "uniformtext": {
         "minsize": 6,
         "mode": "show"
        },
        "xaxis": {
         "anchor": "y",
         "domain": [
          0,
          1
         ],
         "title": {
          "text": "val"
         }
        },
        "yaxis": {
         "anchor": "x",
         "domain": [
          0,
          1
         ],
         "title": {
          "text": "count"
         }
        }
       }
      },
      "text/html": [
       "<div>                            <div id=\"676a803c-b2f7-4784-9065-a0522a0cc1fa\" class=\"plotly-graph-div\" style=\"height:525px; width:100%;\"></div>            <script type=\"text/javascript\">                require([\"plotly\"], function(Plotly) {                    window.PLOTLYENV=window.PLOTLYENV || {};                                    if (document.getElementById(\"676a803c-b2f7-4784-9065-a0522a0cc1fa\")) {                    Plotly.newPlot(                        \"676a803c-b2f7-4784-9065-a0522a0cc1fa\",                        [{\"alignmentgroup\":\"True\",\"hovertemplate\":\"val=%{x}<br>count=%{text}<extra></extra>\",\"legendgroup\":\"\",\"marker\":{\"color\":\"#636efa\",\"pattern\":{\"shape\":\"\"}},\"name\":\"\",\"offsetgroup\":\"\",\"orientation\":\"v\",\"showlegend\":false,\"text\":[\"551\",\"487\",\"510\",\"500\"],\"textposition\":\"outside\",\"texttemplate\":\"%{text:.2s}\",\"type\":\"bar\",\"x\":[\"1100\",\"1101\",\"1110\",\"1111\"],\"xaxis\":\"x\",\"y\":[551,487,510,500],\"yaxis\":\"y\"}],                        {\"barmode\":\"relative\",\"legend\":{\"tracegroupgap\":0},\"margin\":{\"t\":60},\"template\":{\"data\":{\"bar\":[{\"error_x\":{\"color\":\"#2a3f5f\"},\"error_y\":{\"color\":\"#2a3f5f\"},\"marker\":{\"line\":{\"color\":\"#E5ECF6\",\"width\":0.5},\"pattern\":{\"fillmode\":\"overlay\",\"size\":10,\"solidity\":0.2}},\"type\":\"bar\"}],\"barpolar\":[{\"marker\":{\"line\":{\"color\":\"#E5ECF6\",\"width\":0.5},\"pattern\":{\"fillmode\":\"overlay\",\"size\":10,\"solidity\":0.2}},\"type\":\"barpolar\"}],\"carpet\":[{\"aaxis\":{\"endlinecolor\":\"#2a3f5f\",\"gridcolor\":\"white\",\"linecolor\":\"white\",\"minorgridcolor\":\"white\",\"startlinecolor\":\"#2a3f5f\"},\"baxis\":{\"endlinecolor\":\"#2a3f5f\",\"gridcolor\":\"white\",\"linecolor\":\"white\",\"minorgridcolor\":\"white\",\"startlinecolor\":\"#2a3f5f\"},\"type\":\"carpet\"}],\"choropleth\":[{\"colorbar\":{\"outlinewidth\":0,\"ticks\":\"\"},\"type\":\"choropleth\"}],\"contour\":[{\"colorbar\":{\"outlinewidth\":0,\"ticks\":\"\"},\"colorscale\":[[0.0,\"#0d0887\"],[0.1111111111111111,\"#46039f\"],[0.2222222222222222,\"#7201a8\"],[0.3333333333333333,\"#9c179e\"],[0.4444444444444444,\"#bd3786\"],[0.5555555555555556,\"#d8576b\"],[0.6666666666666666,\"#ed7953\"],[0.7777777777777778,\"#fb9f3a\"],[0.8888888888888888,\"#fdca26\"],[1.0,\"#f0f921\"]],\"type\":\"contour\"}],\"contourcarpet\":[{\"colorbar\":{\"outlinewidth\":0,\"ticks\":\"\"},\"type\":\"contourcarpet\"}],\"heatmap\":[{\"colorbar\":{\"outlinewidth\":0,\"ticks\":\"\"},\"colorscale\":[[0.0,\"#0d0887\"],[0.1111111111111111,\"#46039f\"],[0.2222222222222222,\"#7201a8\"],[0.3333333333333333,\"#9c179e\"],[0.4444444444444444,\"#bd3786\"],[0.5555555555555556,\"#d8576b\"],[0.6666666666666666,\"#ed7953\"],[0.7777777777777778,\"#fb9f3a\"],[0.8888888888888888,\"#fdca26\"],[1.0,\"#f0f921\"]],\"type\":\"heatmap\"}],\"heatmapgl\":[{\"colorbar\":{\"outlinewidth\":0,\"ticks\":\"\"},\"colorscale\":[[0.0,\"#0d0887\"],[0.1111111111111111,\"#46039f\"],[0.2222222222222222,\"#7201a8\"],[0.3333333333333333,\"#9c179e\"],[0.4444444444444444,\"#bd3786\"],[0.5555555555555556,\"#d8576b\"],[0.6666666666666666,\"#ed7953\"],[0.7777777777777778,\"#fb9f3a\"],[0.8888888888888888,\"#fdca26\"],[1.0,\"#f0f921\"]],\"type\":\"heatmapgl\"}],\"histogram\":[{\"marker\":{\"pattern\":{\"fillmode\":\"overlay\",\"size\":10,\"solidity\":0.2}},\"type\":\"histogram\"}],\"histogram2d\":[{\"colorbar\":{\"outlinewidth\":0,\"ticks\":\"\"},\"colorscale\":[[0.0,\"#0d0887\"],[0.1111111111111111,\"#46039f\"],[0.2222222222222222,\"#7201a8\"],[0.3333333333333333,\"#9c179e\"],[0.4444444444444444,\"#bd3786\"],[0.5555555555555556,\"#d8576b\"],[0.6666666666666666,\"#ed7953\"],[0.7777777777777778,\"#fb9f3a\"],[0.8888888888888888,\"#fdca26\"],[1.0,\"#f0f921\"]],\"type\":\"histogram2d\"}],\"histogram2dcontour\":[{\"colorbar\":{\"outlinewidth\":0,\"ticks\":\"\"},\"colorscale\":[[0.0,\"#0d0887\"],[0.1111111111111111,\"#46039f\"],[0.2222222222222222,\"#7201a8\"],[0.3333333333333333,\"#9c179e\"],[0.4444444444444444,\"#bd3786\"],[0.5555555555555556,\"#d8576b\"],[0.6666666666666666,\"#ed7953\"],[0.7777777777777778,\"#fb9f3a\"],[0.8888888888888888,\"#fdca26\"],[1.0,\"#f0f921\"]],\"type\":\"histogram2dcontour\"}],\"mesh3d\":[{\"colorbar\":{\"outlinewidth\":0,\"ticks\":\"\"},\"type\":\"mesh3d\"}],\"parcoords\":[{\"line\":{\"colorbar\":{\"outlinewidth\":0,\"ticks\":\"\"}},\"type\":\"parcoords\"}],\"pie\":[{\"automargin\":true,\"type\":\"pie\"}],\"scatter\":[{\"marker\":{\"colorbar\":{\"outlinewidth\":0,\"ticks\":\"\"}},\"type\":\"scatter\"}],\"scatter3d\":[{\"line\":{\"colorbar\":{\"outlinewidth\":0,\"ticks\":\"\"}},\"marker\":{\"colorbar\":{\"outlinewidth\":0,\"ticks\":\"\"}},\"type\":\"scatter3d\"}],\"scattercarpet\":[{\"marker\":{\"colorbar\":{\"outlinewidth\":0,\"ticks\":\"\"}},\"type\":\"scattercarpet\"}],\"scattergeo\":[{\"marker\":{\"colorbar\":{\"outlinewidth\":0,\"ticks\":\"\"}},\"type\":\"scattergeo\"}],\"scattergl\":[{\"marker\":{\"colorbar\":{\"outlinewidth\":0,\"ticks\":\"\"}},\"type\":\"scattergl\"}],\"scattermapbox\":[{\"marker\":{\"colorbar\":{\"outlinewidth\":0,\"ticks\":\"\"}},\"type\":\"scattermapbox\"}],\"scatterpolar\":[{\"marker\":{\"colorbar\":{\"outlinewidth\":0,\"ticks\":\"\"}},\"type\":\"scatterpolar\"}],\"scatterpolargl\":[{\"marker\":{\"colorbar\":{\"outlinewidth\":0,\"ticks\":\"\"}},\"type\":\"scatterpolargl\"}],\"scatterternary\":[{\"marker\":{\"colorbar\":{\"outlinewidth\":0,\"ticks\":\"\"}},\"type\":\"scatterternary\"}],\"surface\":[{\"colorbar\":{\"outlinewidth\":0,\"ticks\":\"\"},\"colorscale\":[[0.0,\"#0d0887\"],[0.1111111111111111,\"#46039f\"],[0.2222222222222222,\"#7201a8\"],[0.3333333333333333,\"#9c179e\"],[0.4444444444444444,\"#bd3786\"],[0.5555555555555556,\"#d8576b\"],[0.6666666666666666,\"#ed7953\"],[0.7777777777777778,\"#fb9f3a\"],[0.8888888888888888,\"#fdca26\"],[1.0,\"#f0f921\"]],\"type\":\"surface\"}],\"table\":[{\"cells\":{\"fill\":{\"color\":\"#EBF0F8\"},\"line\":{\"color\":\"white\"}},\"header\":{\"fill\":{\"color\":\"#C8D4E3\"},\"line\":{\"color\":\"white\"}},\"type\":\"table\"}]},\"layout\":{\"annotationdefaults\":{\"arrowcolor\":\"#2a3f5f\",\"arrowhead\":0,\"arrowwidth\":1},\"autotypenumbers\":\"strict\",\"coloraxis\":{\"colorbar\":{\"outlinewidth\":0,\"ticks\":\"\"}},\"colorscale\":{\"diverging\":[[0,\"#8e0152\"],[0.1,\"#c51b7d\"],[0.2,\"#de77ae\"],[0.3,\"#f1b6da\"],[0.4,\"#fde0ef\"],[0.5,\"#f7f7f7\"],[0.6,\"#e6f5d0\"],[0.7,\"#b8e186\"],[0.8,\"#7fbc41\"],[0.9,\"#4d9221\"],[1,\"#276419\"]],\"sequential\":[[0.0,\"#0d0887\"],[0.1111111111111111,\"#46039f\"],[0.2222222222222222,\"#7201a8\"],[0.3333333333333333,\"#9c179e\"],[0.4444444444444444,\"#bd3786\"],[0.5555555555555556,\"#d8576b\"],[0.6666666666666666,\"#ed7953\"],[0.7777777777777778,\"#fb9f3a\"],[0.8888888888888888,\"#fdca26\"],[1.0,\"#f0f921\"]],\"sequentialminus\":[[0.0,\"#0d0887\"],[0.1111111111111111,\"#46039f\"],[0.2222222222222222,\"#7201a8\"],[0.3333333333333333,\"#9c179e\"],[0.4444444444444444,\"#bd3786\"],[0.5555555555555556,\"#d8576b\"],[0.6666666666666666,\"#ed7953\"],[0.7777777777777778,\"#fb9f3a\"],[0.8888888888888888,\"#fdca26\"],[1.0,\"#f0f921\"]]},\"colorway\":[\"#636efa\",\"#EF553B\",\"#00cc96\",\"#ab63fa\",\"#FFA15A\",\"#19d3f3\",\"#FF6692\",\"#B6E880\",\"#FF97FF\",\"#FECB52\"],\"font\":{\"color\":\"#2a3f5f\"},\"geo\":{\"bgcolor\":\"white\",\"lakecolor\":\"white\",\"landcolor\":\"#E5ECF6\",\"showlakes\":true,\"showland\":true,\"subunitcolor\":\"white\"},\"hoverlabel\":{\"align\":\"left\"},\"hovermode\":\"closest\",\"mapbox\":{\"style\":\"light\"},\"paper_bgcolor\":\"white\",\"plot_bgcolor\":\"#E5ECF6\",\"polar\":{\"angularaxis\":{\"gridcolor\":\"white\",\"linecolor\":\"white\",\"ticks\":\"\"},\"bgcolor\":\"#E5ECF6\",\"radialaxis\":{\"gridcolor\":\"white\",\"linecolor\":\"white\",\"ticks\":\"\"}},\"scene\":{\"xaxis\":{\"backgroundcolor\":\"#E5ECF6\",\"gridcolor\":\"white\",\"gridwidth\":2,\"linecolor\":\"white\",\"showbackground\":true,\"ticks\":\"\",\"zerolinecolor\":\"white\"},\"yaxis\":{\"backgroundcolor\":\"#E5ECF6\",\"gridcolor\":\"white\",\"gridwidth\":2,\"linecolor\":\"white\",\"showbackground\":true,\"ticks\":\"\",\"zerolinecolor\":\"white\"},\"zaxis\":{\"backgroundcolor\":\"#E5ECF6\",\"gridcolor\":\"white\",\"gridwidth\":2,\"linecolor\":\"white\",\"showbackground\":true,\"ticks\":\"\",\"zerolinecolor\":\"white\"}},\"shapedefaults\":{\"line\":{\"color\":\"#2a3f5f\"}},\"ternary\":{\"aaxis\":{\"gridcolor\":\"white\",\"linecolor\":\"white\",\"ticks\":\"\"},\"baxis\":{\"gridcolor\":\"white\",\"linecolor\":\"white\",\"ticks\":\"\"},\"bgcolor\":\"#E5ECF6\",\"caxis\":{\"gridcolor\":\"white\",\"linecolor\":\"white\",\"ticks\":\"\"}},\"title\":{\"x\":0.05},\"xaxis\":{\"automargin\":true,\"gridcolor\":\"white\",\"linecolor\":\"white\",\"ticks\":\"\",\"title\":{\"standoff\":15},\"zerolinecolor\":\"white\",\"zerolinewidth\":2},\"yaxis\":{\"automargin\":true,\"gridcolor\":\"white\",\"linecolor\":\"white\",\"ticks\":\"\",\"title\":{\"standoff\":15},\"zerolinecolor\":\"white\",\"zerolinewidth\":2}}},\"uniformtext\":{\"minsize\":6,\"mode\":\"show\"},\"xaxis\":{\"anchor\":\"y\",\"domain\":[0.0,1.0],\"title\":{\"text\":\"val\"}},\"yaxis\":{\"anchor\":\"x\",\"domain\":[0.0,1.0],\"title\":{\"text\":\"count\"}}},                        {\"responsive\": true}                    ).then(function(){\n",
       "                            \n",
       "var gd = document.getElementById('676a803c-b2f7-4784-9065-a0522a0cc1fa');\n",
       "var x = new MutationObserver(function (mutations, observer) {{\n",
       "        var display = window.getComputedStyle(gd).display;\n",
       "        if (!display || display === 'none') {{\n",
       "            console.log([gd, 'removed!']);\n",
       "            Plotly.purge(gd);\n",
       "            observer.disconnect();\n",
       "        }}\n",
       "}});\n",
       "\n",
       "// Listen for the removal of the full notebook cells\n",
       "var notebookContainer = gd.closest('#notebook-container');\n",
       "if (notebookContainer) {{\n",
       "    x.observe(notebookContainer, {childList: true});\n",
       "}}\n",
       "\n",
       "// Listen for the clearing of the current output cell\n",
       "var outputEl = gd.closest('.output');\n",
       "if (outputEl) {{\n",
       "    x.observe(outputEl, {childList: true});\n",
       "}}\n",
       "\n",
       "                        })                };                });            </script>        </div>"
      ]
     },
     "metadata": {},
     "output_type": "display_data"
    },
    {
     "name": "stdout",
     "output_type": "stream",
     "text": [
      "Output, binary:  1100; decimal: 12\n",
      "Output, binary:  1101; decimal: 13\n",
      "Output, binary:  1110; decimal: 14\n",
      "Output, binary:  1111; decimal: 15\n"
     ]
    }
   ],
   "source": [
    "############# CIRCUIT SIMULATION #################\n",
    "aer_sim = Aer.get_backend('aer_simulator')\n",
    "aer_sim.set_options(device='CPU')\n",
    "transpiled_qc = transpile(qc, aer_sim)\n",
    "\n",
    "shots = 2**(len_b+7) #we repeat the simulation 2048 times\n",
    "job = aer_sim.run(transpiled_qc, shots=shots)\n",
    "\n",
    "############# CODE FOR PLOTTING ####################\n",
    "hist = job.result().get_counts() #simulation output\n",
    "sort_hist = sorted(hist.items()) #So that the plotting puts everything in the same increasing order of basis\n",
    "n_hist = {k:v for k,v in sort_hist}\n",
    "\n",
    "results = {'val':n_hist.keys(),'count':n_hist.values()} #change the formatting of the data to match plotly\n",
    "\n",
    "fig = px.bar(results, x=\"val\", y=\"count\", text=\"count\")\n",
    "fig.update_traces(texttemplate='%{text:.2s}', textposition='outside')\n",
    "fig.update_layout(uniformtext_minsize=6, uniformtext_mode='show')\n",
    "fig.show()\n",
    "\n",
    "############## CODE FOR LISTING THE RESULTS #####################\n",
    "trig = []\n",
    "max_c = max(results['count'])\n",
    "for i,j in zip(results['val'],results['count']):\n",
    "    if int(j) > max_c-0.33*max_c: #only consideres values that are higher than one third less\n",
    "        trig.append({'index_dec':int(i,2),'index_bin':i,'counts':j})\n",
    "\n",
    "for t in trig:\n",
    "    print(f\"Output, binary:  {t['index_bin']}; decimal: {t['index_dec']}\")"
   ]
  },
  {
   "cell_type": "markdown",
   "id": "6a3db250",
   "metadata": {},
   "source": [
    "which we do! :)"
   ]
  },
  {
   "cell_type": "markdown",
   "id": "af2ee943",
   "metadata": {},
   "source": [
    "## Making the Grover Iteration into a function to be able to apply it multiple times to lower the prob. of wrong answers (same comparison as two above)"
   ]
  },
  {
   "cell_type": "code",
   "execution_count": 7,
   "id": "4ce2e115",
   "metadata": {
    "ExecuteTime": {
     "end_time": "2021-12-11T00:20:47.746903Z",
     "start_time": "2021-12-11T00:20:47.742453Z"
    },
    "init_cell": true
   },
   "outputs": [],
   "source": [
    "def Grover_iter_QBSC():\n",
    "    len_b = 3\n",
    "    n = 5*len_b\n",
    "    qc = QuantumCircuit(15)\n",
    "    \n",
    "    comp_qc = n_comparator(len_b).to_gate()\n",
    "    comp_qc.label = \"Comparator\"\n",
    "\n",
    "    qc.append(comp_qc, range(n))\n",
    "\n",
    "\n",
    "    #DIFFUSION\n",
    "    qc.h([1,6,11])#range(n-1))\n",
    "    qc.x([1,6,11])#range(n-1))\n",
    "\n",
    "    #It is difficult to do an actual multi-control-Z gate, so instead we make a MCX surrounded by H gates to transform it into a MCZ\n",
    "    qc.h(11)#n-2)\n",
    "    qc.mct([1,6],11)#list(range(n-2)), n-2) \n",
    "    qc.h(11)#n-2)\n",
    "\n",
    "    #The other symmetric side of the diffusor\n",
    "    qc.x([1,6,11])#range(n-1))\n",
    "    qc.h([1,6,11])#range(n-1))\n",
    "    \n",
    "    return qc"
   ]
  },
  {
   "cell_type": "code",
   "execution_count": 139,
   "id": "ffe05f7a",
   "metadata": {
    "ExecuteTime": {
     "end_time": "2021-12-11T13:23:50.846957Z",
     "start_time": "2021-12-11T13:23:50.812737Z"
    }
   },
   "outputs": [
    {
     "data": {
      "text/html": [
       "<pre style=\"word-wrap: normal;white-space: pre;background: #fff0;line-height: 1.1;font-family: &quot;Courier New&quot;,Courier,monospace\">      ┌───┐     ┌──────────┐┌──────────┐┌──────────┐         \n",
       " d_0: ┤ X ├─────┤0         ├┤0         ├┤0         ├─────────\n",
       "      ├───┤     │          ││          ││          │      ┌─┐\n",
       " d_1: ┤ H ├─────┤1         ├┤1         ├┤1         ├──────┤M├\n",
       "      └───┘     │          ││          ││          │      └╥┘\n",
       " d_2: ──────────┤2         ├┤2         ├┤2         ├───────╫─\n",
       "                │          ││          ││          │       ║ \n",
       " d_3: ──────────┤3         ├┤3         ├┤3         ├───────╫─\n",
       "                │          ││          ││          │       ║ \n",
       " d_4: ──────────┤4         ├┤4         ├┤4         ├───────╫─\n",
       "                │          ││          ││          │       ║ \n",
       " d_5: ──────────┤5         ├┤5         ├┤5         ├───────╫─\n",
       "      ┌───┐     │          ││          ││          │   ┌─┐ ║ \n",
       " d_6: ┤ H ├─────┤6         ├┤6         ├┤6         ├───┤M├─╫─\n",
       "      └───┘     │          ││          ││          │   └╥┘ ║ \n",
       " d_7: ──────────┤7  Grover ├┤7  Grover ├┤7  Grover ├────╫──╫─\n",
       "                │          ││          ││          │    ║  ║ \n",
       " d_8: ──────────┤8         ├┤8         ├┤8         ├────╫──╫─\n",
       "                │          ││          ││          │    ║  ║ \n",
       " d_9: ──────────┤9         ├┤9         ├┤9         ├────╫──╫─\n",
       "                │          ││          ││          │    ║  ║ \n",
       "d_10: ──────────┤10        ├┤10        ├┤10        ├────╫──╫─\n",
       "      ┌───┐     │          ││          ││          │┌─┐ ║  ║ \n",
       "d_11: ┤ H ├─────┤11        ├┤11        ├┤11        ├┤M├─╫──╫─\n",
       "      └───┘     │          ││          ││          │└╥┘ ║  ║ \n",
       "d_12: ──────────┤12        ├┤12        ├┤12        ├─╫──╫──╫─\n",
       "                │          ││          ││          │ ║  ║  ║ \n",
       "d_13: ──────────┤13        ├┤13        ├┤13        ├─╫──╫──╫─\n",
       "      ┌───┐┌───┐│          ││          ││          │ ║  ║  ║ \n",
       "d_14: ┤ X ├┤ H ├┤14        ├┤14        ├┤14        ├─╫──╫──╫─\n",
       "      └───┘└───┘└──────────┘└──────────┘└──────────┘ ║  ║  ║ \n",
       " c: 3/═══════════════════════════════════════════════╩══╩══╩═\n",
       "                                                     0  1  2 </pre>"
      ],
      "text/plain": [
       "      ┌───┐     ┌──────────┐┌──────────┐┌──────────┐         \n",
       " d_0: ┤ X ├─────┤0         ├┤0         ├┤0         ├─────────\n",
       "      ├───┤     │          ││          ││          │      ┌─┐\n",
       " d_1: ┤ H ├─────┤1         ├┤1         ├┤1         ├──────┤M├\n",
       "      └───┘     │          ││          ││          │      └╥┘\n",
       " d_2: ──────────┤2         ├┤2         ├┤2         ├───────╫─\n",
       "                │          ││          ││          │       ║ \n",
       " d_3: ──────────┤3         ├┤3         ├┤3         ├───────╫─\n",
       "                │          ││          ││          │       ║ \n",
       " d_4: ──────────┤4         ├┤4         ├┤4         ├───────╫─\n",
       "                │          ││          ││          │       ║ \n",
       " d_5: ──────────┤5         ├┤5         ├┤5         ├───────╫─\n",
       "      ┌───┐     │          ││          ││          │   ┌─┐ ║ \n",
       " d_6: ┤ H ├─────┤6         ├┤6         ├┤6         ├───┤M├─╫─\n",
       "      └───┘     │          ││          ││          │   └╥┘ ║ \n",
       " d_7: ──────────┤7  Grover ├┤7  Grover ├┤7  Grover ├────╫──╫─\n",
       "                │          ││          ││          │    ║  ║ \n",
       " d_8: ──────────┤8         ├┤8         ├┤8         ├────╫──╫─\n",
       "                │          ││          ││          │    ║  ║ \n",
       " d_9: ──────────┤9         ├┤9         ├┤9         ├────╫──╫─\n",
       "                │          ││          ││          │    ║  ║ \n",
       "d_10: ──────────┤10        ├┤10        ├┤10        ├────╫──╫─\n",
       "      ┌───┐     │          ││          ││          │┌─┐ ║  ║ \n",
       "d_11: ┤ H ├─────┤11        ├┤11        ├┤11        ├┤M├─╫──╫─\n",
       "      └───┘     │          ││          ││          │└╥┘ ║  ║ \n",
       "d_12: ──────────┤12        ├┤12        ├┤12        ├─╫──╫──╫─\n",
       "                │          ││          ││          │ ║  ║  ║ \n",
       "d_13: ──────────┤13        ├┤13        ├┤13        ├─╫──╫──╫─\n",
       "      ┌───┐┌───┐│          ││          ││          │ ║  ║  ║ \n",
       "d_14: ┤ X ├┤ H ├┤14        ├┤14        ├┤14        ├─╫──╫──╫─\n",
       "      └───┘└───┘└──────────┘└──────────┘└──────────┘ ║  ║  ║ \n",
       " c: 3/═══════════════════════════════════════════════╩══╩══╩═\n",
       "                                                     0  1  2 "
      ]
     },
     "execution_count": 139,
     "metadata": {},
     "output_type": "execute_result"
    }
   ],
   "source": [
    "# Making the circuit in the paper\n",
    "\n",
    "len_b = 3 #length of the bitstrings to compare\n",
    "n = 5*len_b #number of qbits\n",
    "\n",
    "base = QuantumRegister(n, 'd') #Creates the data registry\n",
    "cr = ClassicalRegister(len_b, 'c') #Creates the classical bit measurment output\n",
    "\n",
    "qc = QuantumCircuit(base, cr) #Makes the circuit with these qbits as input\n",
    "\n",
    "####### State initialization #########\n",
    "\n",
    "qc.x(14)\n",
    "qc.h(14)\n",
    "\n",
    "qc.x(0) #first bit\n",
    "# qc.x(5) #second bit\n",
    "# qc.x(10) #third bit\n",
    "\n",
    "qc.h(1) #first superp. bit\n",
    "qc.h(6) #second superp. bit\n",
    "qc.h(11) #third superp. bit\n",
    "\n",
    "grit = Grover_iter_QBSC().to_gate() #Transforms the circuit into a usable gate\n",
    "grit.label = \"Grover\" #Names the gate\n",
    "\n",
    "M = 3\n",
    "for i in range(M):\n",
    "    qc.append(grit,range(n))\n",
    "\n",
    "qc.measure([11,6,1],cr)\n",
    "\n",
    "qc.draw(fold=-1)"
   ]
  },
  {
   "cell_type": "code",
   "execution_count": 140,
   "id": "8612d760",
   "metadata": {
    "ExecuteTime": {
     "end_time": "2021-12-11T13:23:51.367127Z",
     "start_time": "2021-12-11T13:23:51.210620Z"
    }
   },
   "outputs": [
    {
     "data": {
      "application/vnd.plotly.v1+json": {
       "config": {
        "plotlyServerURL": "https://plot.ly"
       },
       "data": [
        {
         "alignmentgroup": "True",
         "hovertemplate": "val=%{x}<br>count=%{text}<extra></extra>",
         "legendgroup": "",
         "marker": {
          "color": "#636efa",
          "pattern": {
           "shape": ""
          }
         },
         "name": "",
         "offsetgroup": "",
         "orientation": "v",
         "showlegend": false,
         "text": [
          "2",
          "4",
          "3",
          "1",
          "319",
          "350",
          "345"
         ],
         "textposition": "outside",
         "texttemplate": "%{text:.2s}",
         "type": "bar",
         "x": [
          "000",
          "001",
          "010",
          "100",
          "101",
          "110",
          "111"
         ],
         "xaxis": "x",
         "y": [
          2,
          4,
          3,
          1,
          319,
          350,
          345
         ],
         "yaxis": "y"
        }
       ],
       "layout": {
        "barmode": "relative",
        "legend": {
         "tracegroupgap": 0
        },
        "margin": {
         "t": 60
        },
        "template": {
         "data": {
          "bar": [
           {
            "error_x": {
             "color": "#2a3f5f"
            },
            "error_y": {
             "color": "#2a3f5f"
            },
            "marker": {
             "line": {
              "color": "#E5ECF6",
              "width": 0.5
             },
             "pattern": {
              "fillmode": "overlay",
              "size": 10,
              "solidity": 0.2
             }
            },
            "type": "bar"
           }
          ],
          "barpolar": [
           {
            "marker": {
             "line": {
              "color": "#E5ECF6",
              "width": 0.5
             },
             "pattern": {
              "fillmode": "overlay",
              "size": 10,
              "solidity": 0.2
             }
            },
            "type": "barpolar"
           }
          ],
          "carpet": [
           {
            "aaxis": {
             "endlinecolor": "#2a3f5f",
             "gridcolor": "white",
             "linecolor": "white",
             "minorgridcolor": "white",
             "startlinecolor": "#2a3f5f"
            },
            "baxis": {
             "endlinecolor": "#2a3f5f",
             "gridcolor": "white",
             "linecolor": "white",
             "minorgridcolor": "white",
             "startlinecolor": "#2a3f5f"
            },
            "type": "carpet"
           }
          ],
          "choropleth": [
           {
            "colorbar": {
             "outlinewidth": 0,
             "ticks": ""
            },
            "type": "choropleth"
           }
          ],
          "contour": [
           {
            "colorbar": {
             "outlinewidth": 0,
             "ticks": ""
            },
            "colorscale": [
             [
              0,
              "#0d0887"
             ],
             [
              0.1111111111111111,
              "#46039f"
             ],
             [
              0.2222222222222222,
              "#7201a8"
             ],
             [
              0.3333333333333333,
              "#9c179e"
             ],
             [
              0.4444444444444444,
              "#bd3786"
             ],
             [
              0.5555555555555556,
              "#d8576b"
             ],
             [
              0.6666666666666666,
              "#ed7953"
             ],
             [
              0.7777777777777778,
              "#fb9f3a"
             ],
             [
              0.8888888888888888,
              "#fdca26"
             ],
             [
              1,
              "#f0f921"
             ]
            ],
            "type": "contour"
           }
          ],
          "contourcarpet": [
           {
            "colorbar": {
             "outlinewidth": 0,
             "ticks": ""
            },
            "type": "contourcarpet"
           }
          ],
          "heatmap": [
           {
            "colorbar": {
             "outlinewidth": 0,
             "ticks": ""
            },
            "colorscale": [
             [
              0,
              "#0d0887"
             ],
             [
              0.1111111111111111,
              "#46039f"
             ],
             [
              0.2222222222222222,
              "#7201a8"
             ],
             [
              0.3333333333333333,
              "#9c179e"
             ],
             [
              0.4444444444444444,
              "#bd3786"
             ],
             [
              0.5555555555555556,
              "#d8576b"
             ],
             [
              0.6666666666666666,
              "#ed7953"
             ],
             [
              0.7777777777777778,
              "#fb9f3a"
             ],
             [
              0.8888888888888888,
              "#fdca26"
             ],
             [
              1,
              "#f0f921"
             ]
            ],
            "type": "heatmap"
           }
          ],
          "heatmapgl": [
           {
            "colorbar": {
             "outlinewidth": 0,
             "ticks": ""
            },
            "colorscale": [
             [
              0,
              "#0d0887"
             ],
             [
              0.1111111111111111,
              "#46039f"
             ],
             [
              0.2222222222222222,
              "#7201a8"
             ],
             [
              0.3333333333333333,
              "#9c179e"
             ],
             [
              0.4444444444444444,
              "#bd3786"
             ],
             [
              0.5555555555555556,
              "#d8576b"
             ],
             [
              0.6666666666666666,
              "#ed7953"
             ],
             [
              0.7777777777777778,
              "#fb9f3a"
             ],
             [
              0.8888888888888888,
              "#fdca26"
             ],
             [
              1,
              "#f0f921"
             ]
            ],
            "type": "heatmapgl"
           }
          ],
          "histogram": [
           {
            "marker": {
             "pattern": {
              "fillmode": "overlay",
              "size": 10,
              "solidity": 0.2
             }
            },
            "type": "histogram"
           }
          ],
          "histogram2d": [
           {
            "colorbar": {
             "outlinewidth": 0,
             "ticks": ""
            },
            "colorscale": [
             [
              0,
              "#0d0887"
             ],
             [
              0.1111111111111111,
              "#46039f"
             ],
             [
              0.2222222222222222,
              "#7201a8"
             ],
             [
              0.3333333333333333,
              "#9c179e"
             ],
             [
              0.4444444444444444,
              "#bd3786"
             ],
             [
              0.5555555555555556,
              "#d8576b"
             ],
             [
              0.6666666666666666,
              "#ed7953"
             ],
             [
              0.7777777777777778,
              "#fb9f3a"
             ],
             [
              0.8888888888888888,
              "#fdca26"
             ],
             [
              1,
              "#f0f921"
             ]
            ],
            "type": "histogram2d"
           }
          ],
          "histogram2dcontour": [
           {
            "colorbar": {
             "outlinewidth": 0,
             "ticks": ""
            },
            "colorscale": [
             [
              0,
              "#0d0887"
             ],
             [
              0.1111111111111111,
              "#46039f"
             ],
             [
              0.2222222222222222,
              "#7201a8"
             ],
             [
              0.3333333333333333,
              "#9c179e"
             ],
             [
              0.4444444444444444,
              "#bd3786"
             ],
             [
              0.5555555555555556,
              "#d8576b"
             ],
             [
              0.6666666666666666,
              "#ed7953"
             ],
             [
              0.7777777777777778,
              "#fb9f3a"
             ],
             [
              0.8888888888888888,
              "#fdca26"
             ],
             [
              1,
              "#f0f921"
             ]
            ],
            "type": "histogram2dcontour"
           }
          ],
          "mesh3d": [
           {
            "colorbar": {
             "outlinewidth": 0,
             "ticks": ""
            },
            "type": "mesh3d"
           }
          ],
          "parcoords": [
           {
            "line": {
             "colorbar": {
              "outlinewidth": 0,
              "ticks": ""
             }
            },
            "type": "parcoords"
           }
          ],
          "pie": [
           {
            "automargin": true,
            "type": "pie"
           }
          ],
          "scatter": [
           {
            "marker": {
             "colorbar": {
              "outlinewidth": 0,
              "ticks": ""
             }
            },
            "type": "scatter"
           }
          ],
          "scatter3d": [
           {
            "line": {
             "colorbar": {
              "outlinewidth": 0,
              "ticks": ""
             }
            },
            "marker": {
             "colorbar": {
              "outlinewidth": 0,
              "ticks": ""
             }
            },
            "type": "scatter3d"
           }
          ],
          "scattercarpet": [
           {
            "marker": {
             "colorbar": {
              "outlinewidth": 0,
              "ticks": ""
             }
            },
            "type": "scattercarpet"
           }
          ],
          "scattergeo": [
           {
            "marker": {
             "colorbar": {
              "outlinewidth": 0,
              "ticks": ""
             }
            },
            "type": "scattergeo"
           }
          ],
          "scattergl": [
           {
            "marker": {
             "colorbar": {
              "outlinewidth": 0,
              "ticks": ""
             }
            },
            "type": "scattergl"
           }
          ],
          "scattermapbox": [
           {
            "marker": {
             "colorbar": {
              "outlinewidth": 0,
              "ticks": ""
             }
            },
            "type": "scattermapbox"
           }
          ],
          "scatterpolar": [
           {
            "marker": {
             "colorbar": {
              "outlinewidth": 0,
              "ticks": ""
             }
            },
            "type": "scatterpolar"
           }
          ],
          "scatterpolargl": [
           {
            "marker": {
             "colorbar": {
              "outlinewidth": 0,
              "ticks": ""
             }
            },
            "type": "scatterpolargl"
           }
          ],
          "scatterternary": [
           {
            "marker": {
             "colorbar": {
              "outlinewidth": 0,
              "ticks": ""
             }
            },
            "type": "scatterternary"
           }
          ],
          "surface": [
           {
            "colorbar": {
             "outlinewidth": 0,
             "ticks": ""
            },
            "colorscale": [
             [
              0,
              "#0d0887"
             ],
             [
              0.1111111111111111,
              "#46039f"
             ],
             [
              0.2222222222222222,
              "#7201a8"
             ],
             [
              0.3333333333333333,
              "#9c179e"
             ],
             [
              0.4444444444444444,
              "#bd3786"
             ],
             [
              0.5555555555555556,
              "#d8576b"
             ],
             [
              0.6666666666666666,
              "#ed7953"
             ],
             [
              0.7777777777777778,
              "#fb9f3a"
             ],
             [
              0.8888888888888888,
              "#fdca26"
             ],
             [
              1,
              "#f0f921"
             ]
            ],
            "type": "surface"
           }
          ],
          "table": [
           {
            "cells": {
             "fill": {
              "color": "#EBF0F8"
             },
             "line": {
              "color": "white"
             }
            },
            "header": {
             "fill": {
              "color": "#C8D4E3"
             },
             "line": {
              "color": "white"
             }
            },
            "type": "table"
           }
          ]
         },
         "layout": {
          "annotationdefaults": {
           "arrowcolor": "#2a3f5f",
           "arrowhead": 0,
           "arrowwidth": 1
          },
          "autotypenumbers": "strict",
          "coloraxis": {
           "colorbar": {
            "outlinewidth": 0,
            "ticks": ""
           }
          },
          "colorscale": {
           "diverging": [
            [
             0,
             "#8e0152"
            ],
            [
             0.1,
             "#c51b7d"
            ],
            [
             0.2,
             "#de77ae"
            ],
            [
             0.3,
             "#f1b6da"
            ],
            [
             0.4,
             "#fde0ef"
            ],
            [
             0.5,
             "#f7f7f7"
            ],
            [
             0.6,
             "#e6f5d0"
            ],
            [
             0.7,
             "#b8e186"
            ],
            [
             0.8,
             "#7fbc41"
            ],
            [
             0.9,
             "#4d9221"
            ],
            [
             1,
             "#276419"
            ]
           ],
           "sequential": [
            [
             0,
             "#0d0887"
            ],
            [
             0.1111111111111111,
             "#46039f"
            ],
            [
             0.2222222222222222,
             "#7201a8"
            ],
            [
             0.3333333333333333,
             "#9c179e"
            ],
            [
             0.4444444444444444,
             "#bd3786"
            ],
            [
             0.5555555555555556,
             "#d8576b"
            ],
            [
             0.6666666666666666,
             "#ed7953"
            ],
            [
             0.7777777777777778,
             "#fb9f3a"
            ],
            [
             0.8888888888888888,
             "#fdca26"
            ],
            [
             1,
             "#f0f921"
            ]
           ],
           "sequentialminus": [
            [
             0,
             "#0d0887"
            ],
            [
             0.1111111111111111,
             "#46039f"
            ],
            [
             0.2222222222222222,
             "#7201a8"
            ],
            [
             0.3333333333333333,
             "#9c179e"
            ],
            [
             0.4444444444444444,
             "#bd3786"
            ],
            [
             0.5555555555555556,
             "#d8576b"
            ],
            [
             0.6666666666666666,
             "#ed7953"
            ],
            [
             0.7777777777777778,
             "#fb9f3a"
            ],
            [
             0.8888888888888888,
             "#fdca26"
            ],
            [
             1,
             "#f0f921"
            ]
           ]
          },
          "colorway": [
           "#636efa",
           "#EF553B",
           "#00cc96",
           "#ab63fa",
           "#FFA15A",
           "#19d3f3",
           "#FF6692",
           "#B6E880",
           "#FF97FF",
           "#FECB52"
          ],
          "font": {
           "color": "#2a3f5f"
          },
          "geo": {
           "bgcolor": "white",
           "lakecolor": "white",
           "landcolor": "#E5ECF6",
           "showlakes": true,
           "showland": true,
           "subunitcolor": "white"
          },
          "hoverlabel": {
           "align": "left"
          },
          "hovermode": "closest",
          "mapbox": {
           "style": "light"
          },
          "paper_bgcolor": "white",
          "plot_bgcolor": "#E5ECF6",
          "polar": {
           "angularaxis": {
            "gridcolor": "white",
            "linecolor": "white",
            "ticks": ""
           },
           "bgcolor": "#E5ECF6",
           "radialaxis": {
            "gridcolor": "white",
            "linecolor": "white",
            "ticks": ""
           }
          },
          "scene": {
           "xaxis": {
            "backgroundcolor": "#E5ECF6",
            "gridcolor": "white",
            "gridwidth": 2,
            "linecolor": "white",
            "showbackground": true,
            "ticks": "",
            "zerolinecolor": "white"
           },
           "yaxis": {
            "backgroundcolor": "#E5ECF6",
            "gridcolor": "white",
            "gridwidth": 2,
            "linecolor": "white",
            "showbackground": true,
            "ticks": "",
            "zerolinecolor": "white"
           },
           "zaxis": {
            "backgroundcolor": "#E5ECF6",
            "gridcolor": "white",
            "gridwidth": 2,
            "linecolor": "white",
            "showbackground": true,
            "ticks": "",
            "zerolinecolor": "white"
           }
          },
          "shapedefaults": {
           "line": {
            "color": "#2a3f5f"
           }
          },
          "ternary": {
           "aaxis": {
            "gridcolor": "white",
            "linecolor": "white",
            "ticks": ""
           },
           "baxis": {
            "gridcolor": "white",
            "linecolor": "white",
            "ticks": ""
           },
           "bgcolor": "#E5ECF6",
           "caxis": {
            "gridcolor": "white",
            "linecolor": "white",
            "ticks": ""
           }
          },
          "title": {
           "x": 0.05
          },
          "xaxis": {
           "automargin": true,
           "gridcolor": "white",
           "linecolor": "white",
           "ticks": "",
           "title": {
            "standoff": 15
           },
           "zerolinecolor": "white",
           "zerolinewidth": 2
          },
          "yaxis": {
           "automargin": true,
           "gridcolor": "white",
           "linecolor": "white",
           "ticks": "",
           "title": {
            "standoff": 15
           },
           "zerolinecolor": "white",
           "zerolinewidth": 2
          }
         }
        },
        "uniformtext": {
         "minsize": 6,
         "mode": "show"
        },
        "xaxis": {
         "anchor": "y",
         "domain": [
          0,
          1
         ],
         "title": {
          "text": "val"
         }
        },
        "yaxis": {
         "anchor": "x",
         "domain": [
          0,
          1
         ],
         "title": {
          "text": "count"
         }
        }
       }
      },
      "text/html": [
       "<div>                            <div id=\"10f30c26-65cb-4151-ad6f-a608447d5c80\" class=\"plotly-graph-div\" style=\"height:525px; width:100%;\"></div>            <script type=\"text/javascript\">                require([\"plotly\"], function(Plotly) {                    window.PLOTLYENV=window.PLOTLYENV || {};                                    if (document.getElementById(\"10f30c26-65cb-4151-ad6f-a608447d5c80\")) {                    Plotly.newPlot(                        \"10f30c26-65cb-4151-ad6f-a608447d5c80\",                        [{\"alignmentgroup\":\"True\",\"hovertemplate\":\"val=%{x}<br>count=%{text}<extra></extra>\",\"legendgroup\":\"\",\"marker\":{\"color\":\"#636efa\",\"pattern\":{\"shape\":\"\"}},\"name\":\"\",\"offsetgroup\":\"\",\"orientation\":\"v\",\"showlegend\":false,\"text\":[\"2\",\"4\",\"3\",\"1\",\"319\",\"350\",\"345\"],\"textposition\":\"outside\",\"texttemplate\":\"%{text:.2s}\",\"type\":\"bar\",\"x\":[\"000\",\"001\",\"010\",\"100\",\"101\",\"110\",\"111\"],\"xaxis\":\"x\",\"y\":[2,4,3,1,319,350,345],\"yaxis\":\"y\"}],                        {\"barmode\":\"relative\",\"legend\":{\"tracegroupgap\":0},\"margin\":{\"t\":60},\"template\":{\"data\":{\"bar\":[{\"error_x\":{\"color\":\"#2a3f5f\"},\"error_y\":{\"color\":\"#2a3f5f\"},\"marker\":{\"line\":{\"color\":\"#E5ECF6\",\"width\":0.5},\"pattern\":{\"fillmode\":\"overlay\",\"size\":10,\"solidity\":0.2}},\"type\":\"bar\"}],\"barpolar\":[{\"marker\":{\"line\":{\"color\":\"#E5ECF6\",\"width\":0.5},\"pattern\":{\"fillmode\":\"overlay\",\"size\":10,\"solidity\":0.2}},\"type\":\"barpolar\"}],\"carpet\":[{\"aaxis\":{\"endlinecolor\":\"#2a3f5f\",\"gridcolor\":\"white\",\"linecolor\":\"white\",\"minorgridcolor\":\"white\",\"startlinecolor\":\"#2a3f5f\"},\"baxis\":{\"endlinecolor\":\"#2a3f5f\",\"gridcolor\":\"white\",\"linecolor\":\"white\",\"minorgridcolor\":\"white\",\"startlinecolor\":\"#2a3f5f\"},\"type\":\"carpet\"}],\"choropleth\":[{\"colorbar\":{\"outlinewidth\":0,\"ticks\":\"\"},\"type\":\"choropleth\"}],\"contour\":[{\"colorbar\":{\"outlinewidth\":0,\"ticks\":\"\"},\"colorscale\":[[0.0,\"#0d0887\"],[0.1111111111111111,\"#46039f\"],[0.2222222222222222,\"#7201a8\"],[0.3333333333333333,\"#9c179e\"],[0.4444444444444444,\"#bd3786\"],[0.5555555555555556,\"#d8576b\"],[0.6666666666666666,\"#ed7953\"],[0.7777777777777778,\"#fb9f3a\"],[0.8888888888888888,\"#fdca26\"],[1.0,\"#f0f921\"]],\"type\":\"contour\"}],\"contourcarpet\":[{\"colorbar\":{\"outlinewidth\":0,\"ticks\":\"\"},\"type\":\"contourcarpet\"}],\"heatmap\":[{\"colorbar\":{\"outlinewidth\":0,\"ticks\":\"\"},\"colorscale\":[[0.0,\"#0d0887\"],[0.1111111111111111,\"#46039f\"],[0.2222222222222222,\"#7201a8\"],[0.3333333333333333,\"#9c179e\"],[0.4444444444444444,\"#bd3786\"],[0.5555555555555556,\"#d8576b\"],[0.6666666666666666,\"#ed7953\"],[0.7777777777777778,\"#fb9f3a\"],[0.8888888888888888,\"#fdca26\"],[1.0,\"#f0f921\"]],\"type\":\"heatmap\"}],\"heatmapgl\":[{\"colorbar\":{\"outlinewidth\":0,\"ticks\":\"\"},\"colorscale\":[[0.0,\"#0d0887\"],[0.1111111111111111,\"#46039f\"],[0.2222222222222222,\"#7201a8\"],[0.3333333333333333,\"#9c179e\"],[0.4444444444444444,\"#bd3786\"],[0.5555555555555556,\"#d8576b\"],[0.6666666666666666,\"#ed7953\"],[0.7777777777777778,\"#fb9f3a\"],[0.8888888888888888,\"#fdca26\"],[1.0,\"#f0f921\"]],\"type\":\"heatmapgl\"}],\"histogram\":[{\"marker\":{\"pattern\":{\"fillmode\":\"overlay\",\"size\":10,\"solidity\":0.2}},\"type\":\"histogram\"}],\"histogram2d\":[{\"colorbar\":{\"outlinewidth\":0,\"ticks\":\"\"},\"colorscale\":[[0.0,\"#0d0887\"],[0.1111111111111111,\"#46039f\"],[0.2222222222222222,\"#7201a8\"],[0.3333333333333333,\"#9c179e\"],[0.4444444444444444,\"#bd3786\"],[0.5555555555555556,\"#d8576b\"],[0.6666666666666666,\"#ed7953\"],[0.7777777777777778,\"#fb9f3a\"],[0.8888888888888888,\"#fdca26\"],[1.0,\"#f0f921\"]],\"type\":\"histogram2d\"}],\"histogram2dcontour\":[{\"colorbar\":{\"outlinewidth\":0,\"ticks\":\"\"},\"colorscale\":[[0.0,\"#0d0887\"],[0.1111111111111111,\"#46039f\"],[0.2222222222222222,\"#7201a8\"],[0.3333333333333333,\"#9c179e\"],[0.4444444444444444,\"#bd3786\"],[0.5555555555555556,\"#d8576b\"],[0.6666666666666666,\"#ed7953\"],[0.7777777777777778,\"#fb9f3a\"],[0.8888888888888888,\"#fdca26\"],[1.0,\"#f0f921\"]],\"type\":\"histogram2dcontour\"}],\"mesh3d\":[{\"colorbar\":{\"outlinewidth\":0,\"ticks\":\"\"},\"type\":\"mesh3d\"}],\"parcoords\":[{\"line\":{\"colorbar\":{\"outlinewidth\":0,\"ticks\":\"\"}},\"type\":\"parcoords\"}],\"pie\":[{\"automargin\":true,\"type\":\"pie\"}],\"scatter\":[{\"marker\":{\"colorbar\":{\"outlinewidth\":0,\"ticks\":\"\"}},\"type\":\"scatter\"}],\"scatter3d\":[{\"line\":{\"colorbar\":{\"outlinewidth\":0,\"ticks\":\"\"}},\"marker\":{\"colorbar\":{\"outlinewidth\":0,\"ticks\":\"\"}},\"type\":\"scatter3d\"}],\"scattercarpet\":[{\"marker\":{\"colorbar\":{\"outlinewidth\":0,\"ticks\":\"\"}},\"type\":\"scattercarpet\"}],\"scattergeo\":[{\"marker\":{\"colorbar\":{\"outlinewidth\":0,\"ticks\":\"\"}},\"type\":\"scattergeo\"}],\"scattergl\":[{\"marker\":{\"colorbar\":{\"outlinewidth\":0,\"ticks\":\"\"}},\"type\":\"scattergl\"}],\"scattermapbox\":[{\"marker\":{\"colorbar\":{\"outlinewidth\":0,\"ticks\":\"\"}},\"type\":\"scattermapbox\"}],\"scatterpolar\":[{\"marker\":{\"colorbar\":{\"outlinewidth\":0,\"ticks\":\"\"}},\"type\":\"scatterpolar\"}],\"scatterpolargl\":[{\"marker\":{\"colorbar\":{\"outlinewidth\":0,\"ticks\":\"\"}},\"type\":\"scatterpolargl\"}],\"scatterternary\":[{\"marker\":{\"colorbar\":{\"outlinewidth\":0,\"ticks\":\"\"}},\"type\":\"scatterternary\"}],\"surface\":[{\"colorbar\":{\"outlinewidth\":0,\"ticks\":\"\"},\"colorscale\":[[0.0,\"#0d0887\"],[0.1111111111111111,\"#46039f\"],[0.2222222222222222,\"#7201a8\"],[0.3333333333333333,\"#9c179e\"],[0.4444444444444444,\"#bd3786\"],[0.5555555555555556,\"#d8576b\"],[0.6666666666666666,\"#ed7953\"],[0.7777777777777778,\"#fb9f3a\"],[0.8888888888888888,\"#fdca26\"],[1.0,\"#f0f921\"]],\"type\":\"surface\"}],\"table\":[{\"cells\":{\"fill\":{\"color\":\"#EBF0F8\"},\"line\":{\"color\":\"white\"}},\"header\":{\"fill\":{\"color\":\"#C8D4E3\"},\"line\":{\"color\":\"white\"}},\"type\":\"table\"}]},\"layout\":{\"annotationdefaults\":{\"arrowcolor\":\"#2a3f5f\",\"arrowhead\":0,\"arrowwidth\":1},\"autotypenumbers\":\"strict\",\"coloraxis\":{\"colorbar\":{\"outlinewidth\":0,\"ticks\":\"\"}},\"colorscale\":{\"diverging\":[[0,\"#8e0152\"],[0.1,\"#c51b7d\"],[0.2,\"#de77ae\"],[0.3,\"#f1b6da\"],[0.4,\"#fde0ef\"],[0.5,\"#f7f7f7\"],[0.6,\"#e6f5d0\"],[0.7,\"#b8e186\"],[0.8,\"#7fbc41\"],[0.9,\"#4d9221\"],[1,\"#276419\"]],\"sequential\":[[0.0,\"#0d0887\"],[0.1111111111111111,\"#46039f\"],[0.2222222222222222,\"#7201a8\"],[0.3333333333333333,\"#9c179e\"],[0.4444444444444444,\"#bd3786\"],[0.5555555555555556,\"#d8576b\"],[0.6666666666666666,\"#ed7953\"],[0.7777777777777778,\"#fb9f3a\"],[0.8888888888888888,\"#fdca26\"],[1.0,\"#f0f921\"]],\"sequentialminus\":[[0.0,\"#0d0887\"],[0.1111111111111111,\"#46039f\"],[0.2222222222222222,\"#7201a8\"],[0.3333333333333333,\"#9c179e\"],[0.4444444444444444,\"#bd3786\"],[0.5555555555555556,\"#d8576b\"],[0.6666666666666666,\"#ed7953\"],[0.7777777777777778,\"#fb9f3a\"],[0.8888888888888888,\"#fdca26\"],[1.0,\"#f0f921\"]]},\"colorway\":[\"#636efa\",\"#EF553B\",\"#00cc96\",\"#ab63fa\",\"#FFA15A\",\"#19d3f3\",\"#FF6692\",\"#B6E880\",\"#FF97FF\",\"#FECB52\"],\"font\":{\"color\":\"#2a3f5f\"},\"geo\":{\"bgcolor\":\"white\",\"lakecolor\":\"white\",\"landcolor\":\"#E5ECF6\",\"showlakes\":true,\"showland\":true,\"subunitcolor\":\"white\"},\"hoverlabel\":{\"align\":\"left\"},\"hovermode\":\"closest\",\"mapbox\":{\"style\":\"light\"},\"paper_bgcolor\":\"white\",\"plot_bgcolor\":\"#E5ECF6\",\"polar\":{\"angularaxis\":{\"gridcolor\":\"white\",\"linecolor\":\"white\",\"ticks\":\"\"},\"bgcolor\":\"#E5ECF6\",\"radialaxis\":{\"gridcolor\":\"white\",\"linecolor\":\"white\",\"ticks\":\"\"}},\"scene\":{\"xaxis\":{\"backgroundcolor\":\"#E5ECF6\",\"gridcolor\":\"white\",\"gridwidth\":2,\"linecolor\":\"white\",\"showbackground\":true,\"ticks\":\"\",\"zerolinecolor\":\"white\"},\"yaxis\":{\"backgroundcolor\":\"#E5ECF6\",\"gridcolor\":\"white\",\"gridwidth\":2,\"linecolor\":\"white\",\"showbackground\":true,\"ticks\":\"\",\"zerolinecolor\":\"white\"},\"zaxis\":{\"backgroundcolor\":\"#E5ECF6\",\"gridcolor\":\"white\",\"gridwidth\":2,\"linecolor\":\"white\",\"showbackground\":true,\"ticks\":\"\",\"zerolinecolor\":\"white\"}},\"shapedefaults\":{\"line\":{\"color\":\"#2a3f5f\"}},\"ternary\":{\"aaxis\":{\"gridcolor\":\"white\",\"linecolor\":\"white\",\"ticks\":\"\"},\"baxis\":{\"gridcolor\":\"white\",\"linecolor\":\"white\",\"ticks\":\"\"},\"bgcolor\":\"#E5ECF6\",\"caxis\":{\"gridcolor\":\"white\",\"linecolor\":\"white\",\"ticks\":\"\"}},\"title\":{\"x\":0.05},\"xaxis\":{\"automargin\":true,\"gridcolor\":\"white\",\"linecolor\":\"white\",\"ticks\":\"\",\"title\":{\"standoff\":15},\"zerolinecolor\":\"white\",\"zerolinewidth\":2},\"yaxis\":{\"automargin\":true,\"gridcolor\":\"white\",\"linecolor\":\"white\",\"ticks\":\"\",\"title\":{\"standoff\":15},\"zerolinecolor\":\"white\",\"zerolinewidth\":2}}},\"uniformtext\":{\"minsize\":6,\"mode\":\"show\"},\"xaxis\":{\"anchor\":\"y\",\"domain\":[0.0,1.0],\"title\":{\"text\":\"val\"}},\"yaxis\":{\"anchor\":\"x\",\"domain\":[0.0,1.0],\"title\":{\"text\":\"count\"}}},                        {\"responsive\": true}                    ).then(function(){\n",
       "                            \n",
       "var gd = document.getElementById('10f30c26-65cb-4151-ad6f-a608447d5c80');\n",
       "var x = new MutationObserver(function (mutations, observer) {{\n",
       "        var display = window.getComputedStyle(gd).display;\n",
       "        if (!display || display === 'none') {{\n",
       "            console.log([gd, 'removed!']);\n",
       "            Plotly.purge(gd);\n",
       "            observer.disconnect();\n",
       "        }}\n",
       "}});\n",
       "\n",
       "// Listen for the removal of the full notebook cells\n",
       "var notebookContainer = gd.closest('#notebook-container');\n",
       "if (notebookContainer) {{\n",
       "    x.observe(notebookContainer, {childList: true});\n",
       "}}\n",
       "\n",
       "// Listen for the clearing of the current output cell\n",
       "var outputEl = gd.closest('.output');\n",
       "if (outputEl) {{\n",
       "    x.observe(outputEl, {childList: true});\n",
       "}}\n",
       "\n",
       "                        })                };                });            </script>        </div>"
      ]
     },
     "metadata": {},
     "output_type": "display_data"
    },
    {
     "name": "stdout",
     "output_type": "stream",
     "text": [
      "Output, binary:  101; decimal: 5\n",
      "Output, binary:  110; decimal: 6\n",
      "Output, binary:  111; decimal: 7\n"
     ]
    }
   ],
   "source": [
    "############# CIRCUIT SIMULATION #################\n",
    "aer_sim = Aer.get_backend('aer_simulator')\n",
    "aer_sim.set_options(device='CPU')\n",
    "transpiled_qc = transpile(qc, aer_sim)\n",
    "\n",
    "shots = 2**(len_b+7) #we repeat the simulation 2048 times\n",
    "job = aer_sim.run(transpiled_qc, shots=shots)\n",
    "\n",
    "############# CODE FOR PLOTTING ####################\n",
    "hist = job.result().get_counts() #simulation output\n",
    "sort_hist = sorted(hist.items()) #So that the plotting puts everything in the same increasing order of basis\n",
    "n_hist = {k:v for k,v in sort_hist}\n",
    "\n",
    "results = {'val':n_hist.keys(),'count':n_hist.values()} #change the formatting of the data to match plotly\n",
    "\n",
    "fig = px.bar(results, x=\"val\", y=\"count\", text=\"count\")\n",
    "fig.update_traces(texttemplate='%{text:.2s}', textposition='outside')\n",
    "fig.update_layout(uniformtext_minsize=6, uniformtext_mode='show')\n",
    "fig.show()\n",
    "\n",
    "############## CODE FOR LISTING THE RESULTS #####################\n",
    "trig = []\n",
    "max_c = max(results['count'])\n",
    "for i,j in zip(results['val'],results['count']):\n",
    "    if int(j) > max_c-0.33*max_c: #only consideres values that are higher than one third less\n",
    "        trig.append({'index_dec':int(i,2),'index_bin':i,'counts':j})\n",
    "\n",
    "for t in trig:\n",
    "    print(f\"Output, binary:  {t['index_bin']}; decimal: {t['index_dec']}\")"
   ]
  },
  {
   "cell_type": "markdown",
   "id": "b0c1e099",
   "metadata": {},
   "source": [
    "# Assembling both comparator and database into one (final code)"
   ]
  },
  {
   "cell_type": "code",
   "execution_count": 141,
   "id": "f566d049",
   "metadata": {
    "ExecuteTime": {
     "end_time": "2021-12-11T13:24:09.949530Z",
     "start_time": "2021-12-11T13:24:09.940887Z"
    },
    "init_cell": true
   },
   "outputs": [],
   "source": [
    "#This function takes in the quantum circuit to add the threshold, the size \n",
    "def set_thresh(qc, nb_i_bits, nb_v_bits, val):\n",
    "    pos = 0\n",
    "    a = len(bin(val)[2:])\n",
    "    # This time no [::-1] (no reverse order), as the order of encoding is opposite to the system; instead we first add the 0s and then the binary nb\n",
    "    for j in (nb_v_bits-a)*['0']+list(bin(val)[2:]): #loops through the reverse ordered list composed of the binary encoding of the value\n",
    "        if int(j):\n",
    "            qc.x(nb_i_bits+ pos*5)\n",
    "            \n",
    "        pos += 1\n",
    "        \n",
    "#This function creates an array of random values that are bellow the threshold indicated, and places nb_sol\n",
    "#values of (thresh+1) randomely inside the array to act as solutions. This blinds the user to the database\n",
    "#and they can use it afterwards as a double check on the correct functionong of the circuit. This also has\n",
    "#the added benefit of making as big an array as the circuit can take.\n",
    "def array_creation(nb_qb_arr, thresh, nb_sol, extra_sol = []):\n",
    "    if nb_sol + len(extra_sol) >= 2**(nb_qb_arr-1):\n",
    "        raise NameError('Number of solution larger than N/2')\n",
    "        \n",
    "    data_arr = [randrange(thresh + 1) for x in range(2**nb_qb_arr)]\n",
    "\n",
    "    i = 0\n",
    "    while True:\n",
    "        ind = randrange(len(data_arr))\n",
    "        if data_arr[ind] < thresh and i < nb_sol:\n",
    "            data_arr[ind] = thresh+1\n",
    "            i+=1\n",
    "        elif data_arr[ind] < thresh and len(extra_sol) != 0:\n",
    "            data_arr[ind] = extra_sol.pop()\n",
    "            \n",
    "        if i >= nb_sol and len(extra_sol) == 0:\n",
    "            break\n",
    "            \n",
    "    return data_arr"
   ]
  },
  {
   "cell_type": "code",
   "execution_count": 152,
   "id": "fe4cec41",
   "metadata": {
    "ExecuteTime": {
     "end_time": "2021-12-11T13:30:13.869606Z",
     "start_time": "2021-12-11T13:30:13.802243Z"
    }
   },
   "outputs": [
    {
     "data": {
      "text/html": [
       "<pre style=\"word-wrap: normal;white-space: pre;background: #fff0;line-height: 1.1;font-family: &quot;Courier New&quot;,Courier,monospace\">           ┌───┐      ░ ┌───────────┐                           ┌─────────────┐ ░ ┌───┐┌───┐          ┌───┐┌───┐      ░ ┌─┐         \n",
       "      d_0: ┤ H ├──────░─┤0          ├───────────────────────────┤0            ├─░─┤ H ├┤ X ├───────■──┤ X ├┤ H ├──────░─┤M├─────────\n",
       "           ├───┤      ░ │           │                           │             │ ░ ├───┤├───┤       │  ├───┤├───┤      ░ └╥┘┌─┐      \n",
       "      d_1: ┤ H ├──────░─┤1          ├───────────────────────────┤1            ├─░─┤ H ├┤ X ├───────■──┤ X ├┤ H ├──────░──╫─┤M├──────\n",
       "           ├───┤      ░ │           │                           │             │ ░ ├───┤├───┤       │  ├───┤├───┤      ░  ║ └╥┘┌─┐   \n",
       "      d_2: ┤ H ├──────░─┤2          ├───────────────────────────┤2            ├─░─┤ H ├┤ X ├───────■──┤ X ├┤ H ├──────░──╫──╫─┤M├───\n",
       "           ├───┤      ░ │           │                           │             │ ░ ├───┤├───┤┌───┐┌─┴─┐├───┤├───┤┌───┐ ░  ║  ║ └╥┘┌─┐\n",
       "      d_3: ┤ H ├──────░─┤3          ├───────────────────────────┤3            ├─░─┤ H ├┤ X ├┤ H ├┤ X ├┤ H ├┤ X ├┤ H ├─░──╫──╫──╫─┤M├\n",
       "           └───┘      ░ │           │┌────────┐     ┌──────────┐│             │ ░ └───┘└───┘└───┘└───┘└───┘└───┘└───┘ ░  ║  ║  ║ └╥┘\n",
       "      t_0: ───────────░─┤           ├┤0       ├─────┤0         ├┤             ├─░─────────────────────────────────────░──╫──╫──╫──╫─\n",
       "                      ░ │           ││        │     │          ││             │ ░                                     ░  ║  ║  ║  ║ \n",
       "      t_1: ───────────░─┤7          ├┤1       ├─────┤1         ├┤7            ├─░─────────────────────────────────────░──╫──╫──╫──╫─\n",
       "                      ░ │           ││        │     │          ││             │ ░                                     ░  ║  ║  ║  ║ \n",
       "      t_2: ───────────░─┤           ├┤2       ├─────┤2         ├┤             ├─░─────────────────────────────────────░──╫──╫──╫──╫─\n",
       "                      ░ │           ││        │     │          ││             │ ░                                     ░  ║  ║  ║  ║ \n",
       "      t_3: ───────────░─┤           ├┤3       ├──■──┤3         ├┤             ├─░─────────────────────────────────────░──╫──╫──╫──╫─\n",
       "                      ░ │           ││        │  │  │          ││             │ ░                                     ░  ║  ║  ║  ║ \n",
       "      t_4: ───────────░─┤           ├┤4       ├──┼──┤4         ├┤             ├─░─────────────────────────────────────░──╫──╫──╫──╫─\n",
       "           ┌───┐      ░ │           ││        │  │  │          ││             │ ░                                     ░  ║  ║  ║  ║ \n",
       "      t_5: ┤ X ├──────░─┤           ├┤5       ├──┼──┤5         ├┤             ├─░─────────────────────────────────────░──╫──╫──╫──╫─\n",
       "           └───┘      ░ │           ││        │  │  │          ││             │ ░                                     ░  ║  ║  ║  ║ \n",
       "      t_6: ───────────░─┤6 Encoding ├┤6       ├──┼──┤6         ├┤6 Encoding_R ├─░─────────────────────────────────────░──╫──╫──╫──╫─\n",
       "                      ░ │           ││        │  │  │          ││             │ ░                                     ░  ║  ║  ║  ║ \n",
       "      t_7: ───────────░─┤           ├┤7       ├──┼──┤7         ├┤             ├─░─────────────────────────────────────░──╫──╫──╫──╫─\n",
       "                      ░ │           ││        │  │  │          ││             │ ░                                     ░  ║  ║  ║  ║ \n",
       "      t_8: ───────────░─┤           ├┤8       ├──┼──┤8         ├┤             ├─░─────────────────────────────────────░──╫──╫──╫──╫─\n",
       "                      ░ │           ││        │  │  │          ││             │ ░                                     ░  ║  ║  ║  ║ \n",
       "      t_9: ───────────░─┤           ├┤9  Comp ├──┼──┤9  Comp_R ├┤             ├─░─────────────────────────────────────░──╫──╫──╫──╫─\n",
       "           ┌───┐      ░ │           ││        │  │  │          ││             │ ░                                     ░  ║  ║  ║  ║ \n",
       "     t_10: ┤ X ├──────░─┤           ├┤10      ├──┼──┤10        ├┤             ├─░─────────────────────────────────────░──╫──╫──╫──╫─\n",
       "           └───┘      ░ │           ││        │  │  │          ││             │ ░                                     ░  ║  ║  ║  ║ \n",
       "     t_11: ───────────░─┤5          ├┤11      ├──┼──┤11        ├┤5            ├─░─────────────────────────────────────░──╫──╫──╫──╫─\n",
       "                      ░ │           ││        │  │  │          ││             │ ░                                     ░  ║  ║  ║  ║ \n",
       "     t_12: ───────────░─┤           ├┤12      ├──┼──┤12        ├┤             ├─░─────────────────────────────────────░──╫──╫──╫──╫─\n",
       "                      ░ │           ││        │  │  │          ││             │ ░                                     ░  ║  ║  ║  ║ \n",
       "     t_13: ───────────░─┤           ├┤13      ├──┼──┤13        ├┤             ├─░─────────────────────────────────────░──╫──╫──╫──╫─\n",
       "                      ░ │           ││        │  │  │          ││             │ ░                                     ░  ║  ║  ║  ║ \n",
       "     t_14: ───────────░─┤           ├┤14      ├──┼──┤14        ├┤             ├─░─────────────────────────────────────░──╫──╫──╫──╫─\n",
       "           ┌───┐      ░ │           ││        │  │  │          ││             │ ░                                     ░  ║  ║  ║  ║ \n",
       "     t_15: ┤ X ├──────░─┤           ├┤15      ├──┼──┤15        ├┤             ├─░─────────────────────────────────────░──╫──╫──╫──╫─\n",
       "           └───┘      ░ │           ││        │  │  │          ││             │ ░                                     ░  ║  ║  ║  ║ \n",
       "     t_16: ───────────░─┤4          ├┤16      ├──┼──┤16        ├┤4            ├─░─────────────────────────────────────░──╫──╫──╫──╫─\n",
       "                      ░ └───────────┘│        │  │  │          │└─────────────┘ ░                                     ░  ║  ║  ║  ║ \n",
       "     t_17: ───────────░──────────────┤17      ├──┼──┤17        ├────────────────░─────────────────────────────────────░──╫──╫──╫──╫─\n",
       "                      ░              │        │  │  │          │                ░                                     ░  ║  ║  ║  ║ \n",
       "     t_18: ───────────░──────────────┤18      ├──┼──┤18        ├────────────────░─────────────────────────────────────░──╫──╫──╫──╫─\n",
       "           ┌───┐┌───┐ ░              └────────┘┌─┴─┐└──────────┘                ░                                     ░  ║  ║  ║  ║ \n",
       "ancilla_0: ┤ X ├┤ H ├─░────────────────────────┤ X ├────────────────────────────░─────────────────────────────────────░──╫──╫──╫──╫─\n",
       "           └───┘└───┘ ░                        └───┘                            ░                                     ░  ║  ║  ║  ║ \n",
       "      c: 4/══════════════════════════════════════════════════════════════════════════════════════════════════════════════╩══╩══╩══╩═\n",
       "                                                                                                                         0  1  2  3 </pre>"
      ],
      "text/plain": [
       "           ┌───┐      ░ ┌───────────┐                           ┌─────────────┐ ░ ┌───┐┌───┐          ┌───┐┌───┐      ░ ┌─┐         \n",
       "      d_0: ┤ H ├──────░─┤0          ├───────────────────────────┤0            ├─░─┤ H ├┤ X ├───────■──┤ X ├┤ H ├──────░─┤M├─────────\n",
       "           ├───┤      ░ │           │                           │             │ ░ ├───┤├───┤       │  ├───┤├───┤      ░ └╥┘┌─┐      \n",
       "      d_1: ┤ H ├──────░─┤1          ├───────────────────────────┤1            ├─░─┤ H ├┤ X ├───────■──┤ X ├┤ H ├──────░──╫─┤M├──────\n",
       "           ├───┤      ░ │           │                           │             │ ░ ├───┤├───┤       │  ├───┤├───┤      ░  ║ └╥┘┌─┐   \n",
       "      d_2: ┤ H ├──────░─┤2          ├───────────────────────────┤2            ├─░─┤ H ├┤ X ├───────■──┤ X ├┤ H ├──────░──╫──╫─┤M├───\n",
       "           ├───┤      ░ │           │                           │             │ ░ ├───┤├───┤┌───┐┌─┴─┐├───┤├───┤┌───┐ ░  ║  ║ └╥┘┌─┐\n",
       "      d_3: ┤ H ├──────░─┤3          ├───────────────────────────┤3            ├─░─┤ H ├┤ X ├┤ H ├┤ X ├┤ H ├┤ X ├┤ H ├─░──╫──╫──╫─┤M├\n",
       "           └───┘      ░ │           │┌────────┐     ┌──────────┐│             │ ░ └───┘└───┘└───┘└───┘└───┘└───┘└───┘ ░  ║  ║  ║ └╥┘\n",
       "      t_0: ───────────░─┤           ├┤0       ├─────┤0         ├┤             ├─░─────────────────────────────────────░──╫──╫──╫──╫─\n",
       "                      ░ │           ││        │     │          ││             │ ░                                     ░  ║  ║  ║  ║ \n",
       "      t_1: ───────────░─┤7          ├┤1       ├─────┤1         ├┤7            ├─░─────────────────────────────────────░──╫──╫──╫──╫─\n",
       "                      ░ │           ││        │     │          ││             │ ░                                     ░  ║  ║  ║  ║ \n",
       "      t_2: ───────────░─┤           ├┤2       ├─────┤2         ├┤             ├─░─────────────────────────────────────░──╫──╫──╫──╫─\n",
       "                      ░ │           ││        │     │          ││             │ ░                                     ░  ║  ║  ║  ║ \n",
       "      t_3: ───────────░─┤           ├┤3       ├──■──┤3         ├┤             ├─░─────────────────────────────────────░──╫──╫──╫──╫─\n",
       "                      ░ │           ││        │  │  │          ││             │ ░                                     ░  ║  ║  ║  ║ \n",
       "      t_4: ───────────░─┤           ├┤4       ├──┼──┤4         ├┤             ├─░─────────────────────────────────────░──╫──╫──╫──╫─\n",
       "           ┌───┐      ░ │           ││        │  │  │          ││             │ ░                                     ░  ║  ║  ║  ║ \n",
       "      t_5: ┤ X ├──────░─┤           ├┤5       ├──┼──┤5         ├┤             ├─░─────────────────────────────────────░──╫──╫──╫──╫─\n",
       "           └───┘      ░ │           ││        │  │  │          ││             │ ░                                     ░  ║  ║  ║  ║ \n",
       "      t_6: ───────────░─┤6 Encoding ├┤6       ├──┼──┤6         ├┤6 Encoding_R ├─░─────────────────────────────────────░──╫──╫──╫──╫─\n",
       "                      ░ │           ││        │  │  │          ││             │ ░                                     ░  ║  ║  ║  ║ \n",
       "      t_7: ───────────░─┤           ├┤7       ├──┼──┤7         ├┤             ├─░─────────────────────────────────────░──╫──╫──╫──╫─\n",
       "                      ░ │           ││        │  │  │          ││             │ ░                                     ░  ║  ║  ║  ║ \n",
       "      t_8: ───────────░─┤           ├┤8       ├──┼──┤8         ├┤             ├─░─────────────────────────────────────░──╫──╫──╫──╫─\n",
       "                      ░ │           ││        │  │  │          ││             │ ░                                     ░  ║  ║  ║  ║ \n",
       "      t_9: ───────────░─┤           ├┤9  Comp ├──┼──┤9  Comp_R ├┤             ├─░─────────────────────────────────────░──╫──╫──╫──╫─\n",
       "           ┌───┐      ░ │           ││        │  │  │          ││             │ ░                                     ░  ║  ║  ║  ║ \n",
       "     t_10: ┤ X ├──────░─┤           ├┤10      ├──┼──┤10        ├┤             ├─░─────────────────────────────────────░──╫──╫──╫──╫─\n",
       "           └───┘      ░ │           ││        │  │  │          ││             │ ░                                     ░  ║  ║  ║  ║ \n",
       "     t_11: ───────────░─┤5          ├┤11      ├──┼──┤11        ├┤5            ├─░─────────────────────────────────────░──╫──╫──╫──╫─\n",
       "                      ░ │           ││        │  │  │          ││             │ ░                                     ░  ║  ║  ║  ║ \n",
       "     t_12: ───────────░─┤           ├┤12      ├──┼──┤12        ├┤             ├─░─────────────────────────────────────░──╫──╫──╫──╫─\n",
       "                      ░ │           ││        │  │  │          ││             │ ░                                     ░  ║  ║  ║  ║ \n",
       "     t_13: ───────────░─┤           ├┤13      ├──┼──┤13        ├┤             ├─░─────────────────────────────────────░──╫──╫──╫──╫─\n",
       "                      ░ │           ││        │  │  │          ││             │ ░                                     ░  ║  ║  ║  ║ \n",
       "     t_14: ───────────░─┤           ├┤14      ├──┼──┤14        ├┤             ├─░─────────────────────────────────────░──╫──╫──╫──╫─\n",
       "           ┌───┐      ░ │           ││        │  │  │          ││             │ ░                                     ░  ║  ║  ║  ║ \n",
       "     t_15: ┤ X ├──────░─┤           ├┤15      ├──┼──┤15        ├┤             ├─░─────────────────────────────────────░──╫──╫──╫──╫─\n",
       "           └───┘      ░ │           ││        │  │  │          ││             │ ░                                     ░  ║  ║  ║  ║ \n",
       "     t_16: ───────────░─┤4          ├┤16      ├──┼──┤16        ├┤4            ├─░─────────────────────────────────────░──╫──╫──╫──╫─\n",
       "                      ░ └───────────┘│        │  │  │          │└─────────────┘ ░                                     ░  ║  ║  ║  ║ \n",
       "     t_17: ───────────░──────────────┤17      ├──┼──┤17        ├────────────────░─────────────────────────────────────░──╫──╫──╫──╫─\n",
       "                      ░              │        │  │  │          │                ░                                     ░  ║  ║  ║  ║ \n",
       "     t_18: ───────────░──────────────┤18      ├──┼──┤18        ├────────────────░─────────────────────────────────────░──╫──╫──╫──╫─\n",
       "           ┌───┐┌───┐ ░              └────────┘┌─┴─┐└──────────┘                ░                                     ░  ║  ║  ║  ║ \n",
       "ancilla_0: ┤ X ├┤ H ├─░────────────────────────┤ X ├────────────────────────────░─────────────────────────────────────░──╫──╫──╫──╫─\n",
       "           └───┘└───┘ ░                        └───┘                            ░                                     ░  ║  ║  ║  ║ \n",
       "      c: 4/══════════════════════════════════════════════════════════════════════════════════════════════════════════════╩══╩══╩══╩═\n",
       "                                                                                                                         0  1  2  3 "
      ]
     },
     "execution_count": 152,
     "metadata": {},
     "output_type": "execute_result"
    }
   ],
   "source": [
    "nb_qb_arr = 4\n",
    "nb_sol = 2\n",
    "\n",
    "thresh = 7\n",
    "data_arr = array_creation(nb_qb_arr, thresh, nb_sol, extra_sol = [9])\n",
    "\n",
    "\n",
    "#These numbers are calculated directly from the data array\n",
    "n = ceil(log(len(data_arr), 2)) #number of index qbits\n",
    "data_arr += [0]*(2**n - len(data_arr)) #creates the rest of the array so that there are no index problems later\n",
    "\n",
    "len_b =  ceil(log(max(data_arr)+1, 2))#length of the bitstrings to compare\n",
    "m = 5*len_b #number of qbits needed for the comparision\n",
    "\n",
    "i_reg = QuantumRegister(n, 'd') #Creates the data registry\n",
    "val_reg = QuantumRegister(m-1, 't') #Creates the template registry\n",
    "anc = QuantumRegister(1, 'ancilla') #Creates the ancillary registry for the oracle\n",
    "cr = ClassicalRegister(n, 'c') #Creates the classical bit measurment output\n",
    "\n",
    "qc = QuantumCircuit(i_reg, val_reg, anc, cr) #Makes the circuit with these qbits as input\n",
    "\n",
    "encode = encode_qc(n,len_b,data_arr).to_gate()\n",
    "encode.label = \"Encoding\"\n",
    "\n",
    "####### State initialization #########\n",
    "qc.h(range(n))\n",
    "\n",
    "#initiation of ancillary to |->\n",
    "qc.x(anc)\n",
    "qc.h(anc)\n",
    "\n",
    "##### SETTING THE THRESHOLD ######\n",
    "\n",
    "set_thresh(qc, n, len_b, thresh)\n",
    "\n",
    "qc.barrier()\n",
    "\n",
    "#ENCODING\n",
    "#The arrays are made with list comprehentions to make something that looks like [0,1,2,n+16,n+11,n+6,n+1], \n",
    "#which connects the database (the first values) to the comparators (the values with n+...)\n",
    "qc.append(encode, [x for x in range(n)]+[n+x*5+1 for x in reversed(range(len_b))])#had to reverse the order how the qbits were entered, as the two parts (database and conparator) work in reverse\n",
    "\n",
    "comp_qc = n_comparator(len_b)\n",
    "qc.compose(comp_qc, list(range(n,n+m)),inplace=True) #Compose only adds the circuits together, does not create a gate out of them like append\n",
    "\n",
    "enc_d = encode.reverse_ops()\n",
    "enc_d.label = \"Encoding_R\"\n",
    "qc.append(enc_d, [x for x in range(n)]+[n+x*5+1 for x in reversed(range(len_b))])\n",
    "\n",
    "qc.barrier()\n",
    "\n",
    "#DIFFUSION OP\n",
    "qc.h(range(n))\n",
    "qc.x(range(n-1))\n",
    "\n",
    "#It is difficult to do an actual multi-control-Z gate, so instead we make a MCX surrounded by H gates to transform it into a MCZ\n",
    "qc.x(n-1)\n",
    "qc.h(n-1)\n",
    "qc.mct(list(range(n-1)), n-1) \n",
    "qc.h(n-1)\n",
    "qc.x(n-1)\n",
    "\n",
    "#The other symmetric side of the diffusor\n",
    "qc.x(range(n-1))\n",
    "qc.h(range(n))\n",
    "qc.barrier()\n",
    "\n",
    "qc.measure([x for x in range(n)],cr)\n",
    "\n",
    "qc.draw(fold=-1)"
   ]
  },
  {
   "cell_type": "code",
   "execution_count": 153,
   "id": "bb85e372",
   "metadata": {
    "ExecuteTime": {
     "end_time": "2021-12-11T13:30:21.603344Z",
     "start_time": "2021-12-11T13:30:19.270139Z"
    },
    "scrolled": false
   },
   "outputs": [
    {
     "data": {
      "application/vnd.plotly.v1+json": {
       "config": {
        "plotlyServerURL": "https://plot.ly"
       },
       "data": [
        {
         "alignmentgroup": "True",
         "hovertemplate": "val=%{x}<br>count=%{text}<extra></extra>",
         "legendgroup": "",
         "marker": {
          "color": "#636efa",
          "pattern": {
           "shape": ""
          }
         },
         "name": "",
         "offsetgroup": "",
         "orientation": "v",
         "showlegend": false,
         "text": [
          "8",
          "9",
          "7",
          "14",
          "659",
          "7",
          "8",
          "634",
          "10",
          "7",
          "9",
          "12",
          "9",
          "642",
          "4",
          "9"
         ],
         "textposition": "outside",
         "texttemplate": "%{text:.2s}",
         "type": "bar",
         "x": [
          "0000",
          "0001",
          "0010",
          "0011",
          "0100",
          "0101",
          "0110",
          "0111",
          "1000",
          "1001",
          "1010",
          "1011",
          "1100",
          "1101",
          "1110",
          "1111"
         ],
         "xaxis": "x",
         "y": [
          8,
          9,
          7,
          14,
          659,
          7,
          8,
          634,
          10,
          7,
          9,
          12,
          9,
          642,
          4,
          9
         ],
         "yaxis": "y"
        }
       ],
       "layout": {
        "barmode": "relative",
        "legend": {
         "tracegroupgap": 0
        },
        "margin": {
         "t": 60
        },
        "template": {
         "data": {
          "bar": [
           {
            "error_x": {
             "color": "#2a3f5f"
            },
            "error_y": {
             "color": "#2a3f5f"
            },
            "marker": {
             "line": {
              "color": "#E5ECF6",
              "width": 0.5
             },
             "pattern": {
              "fillmode": "overlay",
              "size": 10,
              "solidity": 0.2
             }
            },
            "type": "bar"
           }
          ],
          "barpolar": [
           {
            "marker": {
             "line": {
              "color": "#E5ECF6",
              "width": 0.5
             },
             "pattern": {
              "fillmode": "overlay",
              "size": 10,
              "solidity": 0.2
             }
            },
            "type": "barpolar"
           }
          ],
          "carpet": [
           {
            "aaxis": {
             "endlinecolor": "#2a3f5f",
             "gridcolor": "white",
             "linecolor": "white",
             "minorgridcolor": "white",
             "startlinecolor": "#2a3f5f"
            },
            "baxis": {
             "endlinecolor": "#2a3f5f",
             "gridcolor": "white",
             "linecolor": "white",
             "minorgridcolor": "white",
             "startlinecolor": "#2a3f5f"
            },
            "type": "carpet"
           }
          ],
          "choropleth": [
           {
            "colorbar": {
             "outlinewidth": 0,
             "ticks": ""
            },
            "type": "choropleth"
           }
          ],
          "contour": [
           {
            "colorbar": {
             "outlinewidth": 0,
             "ticks": ""
            },
            "colorscale": [
             [
              0,
              "#0d0887"
             ],
             [
              0.1111111111111111,
              "#46039f"
             ],
             [
              0.2222222222222222,
              "#7201a8"
             ],
             [
              0.3333333333333333,
              "#9c179e"
             ],
             [
              0.4444444444444444,
              "#bd3786"
             ],
             [
              0.5555555555555556,
              "#d8576b"
             ],
             [
              0.6666666666666666,
              "#ed7953"
             ],
             [
              0.7777777777777778,
              "#fb9f3a"
             ],
             [
              0.8888888888888888,
              "#fdca26"
             ],
             [
              1,
              "#f0f921"
             ]
            ],
            "type": "contour"
           }
          ],
          "contourcarpet": [
           {
            "colorbar": {
             "outlinewidth": 0,
             "ticks": ""
            },
            "type": "contourcarpet"
           }
          ],
          "heatmap": [
           {
            "colorbar": {
             "outlinewidth": 0,
             "ticks": ""
            },
            "colorscale": [
             [
              0,
              "#0d0887"
             ],
             [
              0.1111111111111111,
              "#46039f"
             ],
             [
              0.2222222222222222,
              "#7201a8"
             ],
             [
              0.3333333333333333,
              "#9c179e"
             ],
             [
              0.4444444444444444,
              "#bd3786"
             ],
             [
              0.5555555555555556,
              "#d8576b"
             ],
             [
              0.6666666666666666,
              "#ed7953"
             ],
             [
              0.7777777777777778,
              "#fb9f3a"
             ],
             [
              0.8888888888888888,
              "#fdca26"
             ],
             [
              1,
              "#f0f921"
             ]
            ],
            "type": "heatmap"
           }
          ],
          "heatmapgl": [
           {
            "colorbar": {
             "outlinewidth": 0,
             "ticks": ""
            },
            "colorscale": [
             [
              0,
              "#0d0887"
             ],
             [
              0.1111111111111111,
              "#46039f"
             ],
             [
              0.2222222222222222,
              "#7201a8"
             ],
             [
              0.3333333333333333,
              "#9c179e"
             ],
             [
              0.4444444444444444,
              "#bd3786"
             ],
             [
              0.5555555555555556,
              "#d8576b"
             ],
             [
              0.6666666666666666,
              "#ed7953"
             ],
             [
              0.7777777777777778,
              "#fb9f3a"
             ],
             [
              0.8888888888888888,
              "#fdca26"
             ],
             [
              1,
              "#f0f921"
             ]
            ],
            "type": "heatmapgl"
           }
          ],
          "histogram": [
           {
            "marker": {
             "pattern": {
              "fillmode": "overlay",
              "size": 10,
              "solidity": 0.2
             }
            },
            "type": "histogram"
           }
          ],
          "histogram2d": [
           {
            "colorbar": {
             "outlinewidth": 0,
             "ticks": ""
            },
            "colorscale": [
             [
              0,
              "#0d0887"
             ],
             [
              0.1111111111111111,
              "#46039f"
             ],
             [
              0.2222222222222222,
              "#7201a8"
             ],
             [
              0.3333333333333333,
              "#9c179e"
             ],
             [
              0.4444444444444444,
              "#bd3786"
             ],
             [
              0.5555555555555556,
              "#d8576b"
             ],
             [
              0.6666666666666666,
              "#ed7953"
             ],
             [
              0.7777777777777778,
              "#fb9f3a"
             ],
             [
              0.8888888888888888,
              "#fdca26"
             ],
             [
              1,
              "#f0f921"
             ]
            ],
            "type": "histogram2d"
           }
          ],
          "histogram2dcontour": [
           {
            "colorbar": {
             "outlinewidth": 0,
             "ticks": ""
            },
            "colorscale": [
             [
              0,
              "#0d0887"
             ],
             [
              0.1111111111111111,
              "#46039f"
             ],
             [
              0.2222222222222222,
              "#7201a8"
             ],
             [
              0.3333333333333333,
              "#9c179e"
             ],
             [
              0.4444444444444444,
              "#bd3786"
             ],
             [
              0.5555555555555556,
              "#d8576b"
             ],
             [
              0.6666666666666666,
              "#ed7953"
             ],
             [
              0.7777777777777778,
              "#fb9f3a"
             ],
             [
              0.8888888888888888,
              "#fdca26"
             ],
             [
              1,
              "#f0f921"
             ]
            ],
            "type": "histogram2dcontour"
           }
          ],
          "mesh3d": [
           {
            "colorbar": {
             "outlinewidth": 0,
             "ticks": ""
            },
            "type": "mesh3d"
           }
          ],
          "parcoords": [
           {
            "line": {
             "colorbar": {
              "outlinewidth": 0,
              "ticks": ""
             }
            },
            "type": "parcoords"
           }
          ],
          "pie": [
           {
            "automargin": true,
            "type": "pie"
           }
          ],
          "scatter": [
           {
            "marker": {
             "colorbar": {
              "outlinewidth": 0,
              "ticks": ""
             }
            },
            "type": "scatter"
           }
          ],
          "scatter3d": [
           {
            "line": {
             "colorbar": {
              "outlinewidth": 0,
              "ticks": ""
             }
            },
            "marker": {
             "colorbar": {
              "outlinewidth": 0,
              "ticks": ""
             }
            },
            "type": "scatter3d"
           }
          ],
          "scattercarpet": [
           {
            "marker": {
             "colorbar": {
              "outlinewidth": 0,
              "ticks": ""
             }
            },
            "type": "scattercarpet"
           }
          ],
          "scattergeo": [
           {
            "marker": {
             "colorbar": {
              "outlinewidth": 0,
              "ticks": ""
             }
            },
            "type": "scattergeo"
           }
          ],
          "scattergl": [
           {
            "marker": {
             "colorbar": {
              "outlinewidth": 0,
              "ticks": ""
             }
            },
            "type": "scattergl"
           }
          ],
          "scattermapbox": [
           {
            "marker": {
             "colorbar": {
              "outlinewidth": 0,
              "ticks": ""
             }
            },
            "type": "scattermapbox"
           }
          ],
          "scatterpolar": [
           {
            "marker": {
             "colorbar": {
              "outlinewidth": 0,
              "ticks": ""
             }
            },
            "type": "scatterpolar"
           }
          ],
          "scatterpolargl": [
           {
            "marker": {
             "colorbar": {
              "outlinewidth": 0,
              "ticks": ""
             }
            },
            "type": "scatterpolargl"
           }
          ],
          "scatterternary": [
           {
            "marker": {
             "colorbar": {
              "outlinewidth": 0,
              "ticks": ""
             }
            },
            "type": "scatterternary"
           }
          ],
          "surface": [
           {
            "colorbar": {
             "outlinewidth": 0,
             "ticks": ""
            },
            "colorscale": [
             [
              0,
              "#0d0887"
             ],
             [
              0.1111111111111111,
              "#46039f"
             ],
             [
              0.2222222222222222,
              "#7201a8"
             ],
             [
              0.3333333333333333,
              "#9c179e"
             ],
             [
              0.4444444444444444,
              "#bd3786"
             ],
             [
              0.5555555555555556,
              "#d8576b"
             ],
             [
              0.6666666666666666,
              "#ed7953"
             ],
             [
              0.7777777777777778,
              "#fb9f3a"
             ],
             [
              0.8888888888888888,
              "#fdca26"
             ],
             [
              1,
              "#f0f921"
             ]
            ],
            "type": "surface"
           }
          ],
          "table": [
           {
            "cells": {
             "fill": {
              "color": "#EBF0F8"
             },
             "line": {
              "color": "white"
             }
            },
            "header": {
             "fill": {
              "color": "#C8D4E3"
             },
             "line": {
              "color": "white"
             }
            },
            "type": "table"
           }
          ]
         },
         "layout": {
          "annotationdefaults": {
           "arrowcolor": "#2a3f5f",
           "arrowhead": 0,
           "arrowwidth": 1
          },
          "autotypenumbers": "strict",
          "coloraxis": {
           "colorbar": {
            "outlinewidth": 0,
            "ticks": ""
           }
          },
          "colorscale": {
           "diverging": [
            [
             0,
             "#8e0152"
            ],
            [
             0.1,
             "#c51b7d"
            ],
            [
             0.2,
             "#de77ae"
            ],
            [
             0.3,
             "#f1b6da"
            ],
            [
             0.4,
             "#fde0ef"
            ],
            [
             0.5,
             "#f7f7f7"
            ],
            [
             0.6,
             "#e6f5d0"
            ],
            [
             0.7,
             "#b8e186"
            ],
            [
             0.8,
             "#7fbc41"
            ],
            [
             0.9,
             "#4d9221"
            ],
            [
             1,
             "#276419"
            ]
           ],
           "sequential": [
            [
             0,
             "#0d0887"
            ],
            [
             0.1111111111111111,
             "#46039f"
            ],
            [
             0.2222222222222222,
             "#7201a8"
            ],
            [
             0.3333333333333333,
             "#9c179e"
            ],
            [
             0.4444444444444444,
             "#bd3786"
            ],
            [
             0.5555555555555556,
             "#d8576b"
            ],
            [
             0.6666666666666666,
             "#ed7953"
            ],
            [
             0.7777777777777778,
             "#fb9f3a"
            ],
            [
             0.8888888888888888,
             "#fdca26"
            ],
            [
             1,
             "#f0f921"
            ]
           ],
           "sequentialminus": [
            [
             0,
             "#0d0887"
            ],
            [
             0.1111111111111111,
             "#46039f"
            ],
            [
             0.2222222222222222,
             "#7201a8"
            ],
            [
             0.3333333333333333,
             "#9c179e"
            ],
            [
             0.4444444444444444,
             "#bd3786"
            ],
            [
             0.5555555555555556,
             "#d8576b"
            ],
            [
             0.6666666666666666,
             "#ed7953"
            ],
            [
             0.7777777777777778,
             "#fb9f3a"
            ],
            [
             0.8888888888888888,
             "#fdca26"
            ],
            [
             1,
             "#f0f921"
            ]
           ]
          },
          "colorway": [
           "#636efa",
           "#EF553B",
           "#00cc96",
           "#ab63fa",
           "#FFA15A",
           "#19d3f3",
           "#FF6692",
           "#B6E880",
           "#FF97FF",
           "#FECB52"
          ],
          "font": {
           "color": "#2a3f5f"
          },
          "geo": {
           "bgcolor": "white",
           "lakecolor": "white",
           "landcolor": "#E5ECF6",
           "showlakes": true,
           "showland": true,
           "subunitcolor": "white"
          },
          "hoverlabel": {
           "align": "left"
          },
          "hovermode": "closest",
          "mapbox": {
           "style": "light"
          },
          "paper_bgcolor": "white",
          "plot_bgcolor": "#E5ECF6",
          "polar": {
           "angularaxis": {
            "gridcolor": "white",
            "linecolor": "white",
            "ticks": ""
           },
           "bgcolor": "#E5ECF6",
           "radialaxis": {
            "gridcolor": "white",
            "linecolor": "white",
            "ticks": ""
           }
          },
          "scene": {
           "xaxis": {
            "backgroundcolor": "#E5ECF6",
            "gridcolor": "white",
            "gridwidth": 2,
            "linecolor": "white",
            "showbackground": true,
            "ticks": "",
            "zerolinecolor": "white"
           },
           "yaxis": {
            "backgroundcolor": "#E5ECF6",
            "gridcolor": "white",
            "gridwidth": 2,
            "linecolor": "white",
            "showbackground": true,
            "ticks": "",
            "zerolinecolor": "white"
           },
           "zaxis": {
            "backgroundcolor": "#E5ECF6",
            "gridcolor": "white",
            "gridwidth": 2,
            "linecolor": "white",
            "showbackground": true,
            "ticks": "",
            "zerolinecolor": "white"
           }
          },
          "shapedefaults": {
           "line": {
            "color": "#2a3f5f"
           }
          },
          "ternary": {
           "aaxis": {
            "gridcolor": "white",
            "linecolor": "white",
            "ticks": ""
           },
           "baxis": {
            "gridcolor": "white",
            "linecolor": "white",
            "ticks": ""
           },
           "bgcolor": "#E5ECF6",
           "caxis": {
            "gridcolor": "white",
            "linecolor": "white",
            "ticks": ""
           }
          },
          "title": {
           "x": 0.05
          },
          "xaxis": {
           "automargin": true,
           "gridcolor": "white",
           "linecolor": "white",
           "ticks": "",
           "title": {
            "standoff": 15
           },
           "zerolinecolor": "white",
           "zerolinewidth": 2
          },
          "yaxis": {
           "automargin": true,
           "gridcolor": "white",
           "linecolor": "white",
           "ticks": "",
           "title": {
            "standoff": 15
           },
           "zerolinecolor": "white",
           "zerolinewidth": 2
          }
         }
        },
        "uniformtext": {
         "minsize": 6,
         "mode": "show"
        },
        "xaxis": {
         "anchor": "y",
         "domain": [
          0,
          1
         ],
         "title": {
          "text": "val"
         }
        },
        "yaxis": {
         "anchor": "x",
         "domain": [
          0,
          1
         ],
         "title": {
          "text": "count"
         }
        }
       }
      },
      "text/html": [
       "<div>                            <div id=\"0ab82234-6e63-4d5d-9c03-6be90a45a83d\" class=\"plotly-graph-div\" style=\"height:525px; width:100%;\"></div>            <script type=\"text/javascript\">                require([\"plotly\"], function(Plotly) {                    window.PLOTLYENV=window.PLOTLYENV || {};                                    if (document.getElementById(\"0ab82234-6e63-4d5d-9c03-6be90a45a83d\")) {                    Plotly.newPlot(                        \"0ab82234-6e63-4d5d-9c03-6be90a45a83d\",                        [{\"alignmentgroup\":\"True\",\"hovertemplate\":\"val=%{x}<br>count=%{text}<extra></extra>\",\"legendgroup\":\"\",\"marker\":{\"color\":\"#636efa\",\"pattern\":{\"shape\":\"\"}},\"name\":\"\",\"offsetgroup\":\"\",\"orientation\":\"v\",\"showlegend\":false,\"text\":[\"8\",\"9\",\"7\",\"14\",\"659\",\"7\",\"8\",\"634\",\"10\",\"7\",\"9\",\"12\",\"9\",\"642\",\"4\",\"9\"],\"textposition\":\"outside\",\"texttemplate\":\"%{text:.2s}\",\"type\":\"bar\",\"x\":[\"0000\",\"0001\",\"0010\",\"0011\",\"0100\",\"0101\",\"0110\",\"0111\",\"1000\",\"1001\",\"1010\",\"1011\",\"1100\",\"1101\",\"1110\",\"1111\"],\"xaxis\":\"x\",\"y\":[8,9,7,14,659,7,8,634,10,7,9,12,9,642,4,9],\"yaxis\":\"y\"}],                        {\"barmode\":\"relative\",\"legend\":{\"tracegroupgap\":0},\"margin\":{\"t\":60},\"template\":{\"data\":{\"bar\":[{\"error_x\":{\"color\":\"#2a3f5f\"},\"error_y\":{\"color\":\"#2a3f5f\"},\"marker\":{\"line\":{\"color\":\"#E5ECF6\",\"width\":0.5},\"pattern\":{\"fillmode\":\"overlay\",\"size\":10,\"solidity\":0.2}},\"type\":\"bar\"}],\"barpolar\":[{\"marker\":{\"line\":{\"color\":\"#E5ECF6\",\"width\":0.5},\"pattern\":{\"fillmode\":\"overlay\",\"size\":10,\"solidity\":0.2}},\"type\":\"barpolar\"}],\"carpet\":[{\"aaxis\":{\"endlinecolor\":\"#2a3f5f\",\"gridcolor\":\"white\",\"linecolor\":\"white\",\"minorgridcolor\":\"white\",\"startlinecolor\":\"#2a3f5f\"},\"baxis\":{\"endlinecolor\":\"#2a3f5f\",\"gridcolor\":\"white\",\"linecolor\":\"white\",\"minorgridcolor\":\"white\",\"startlinecolor\":\"#2a3f5f\"},\"type\":\"carpet\"}],\"choropleth\":[{\"colorbar\":{\"outlinewidth\":0,\"ticks\":\"\"},\"type\":\"choropleth\"}],\"contour\":[{\"colorbar\":{\"outlinewidth\":0,\"ticks\":\"\"},\"colorscale\":[[0.0,\"#0d0887\"],[0.1111111111111111,\"#46039f\"],[0.2222222222222222,\"#7201a8\"],[0.3333333333333333,\"#9c179e\"],[0.4444444444444444,\"#bd3786\"],[0.5555555555555556,\"#d8576b\"],[0.6666666666666666,\"#ed7953\"],[0.7777777777777778,\"#fb9f3a\"],[0.8888888888888888,\"#fdca26\"],[1.0,\"#f0f921\"]],\"type\":\"contour\"}],\"contourcarpet\":[{\"colorbar\":{\"outlinewidth\":0,\"ticks\":\"\"},\"type\":\"contourcarpet\"}],\"heatmap\":[{\"colorbar\":{\"outlinewidth\":0,\"ticks\":\"\"},\"colorscale\":[[0.0,\"#0d0887\"],[0.1111111111111111,\"#46039f\"],[0.2222222222222222,\"#7201a8\"],[0.3333333333333333,\"#9c179e\"],[0.4444444444444444,\"#bd3786\"],[0.5555555555555556,\"#d8576b\"],[0.6666666666666666,\"#ed7953\"],[0.7777777777777778,\"#fb9f3a\"],[0.8888888888888888,\"#fdca26\"],[1.0,\"#f0f921\"]],\"type\":\"heatmap\"}],\"heatmapgl\":[{\"colorbar\":{\"outlinewidth\":0,\"ticks\":\"\"},\"colorscale\":[[0.0,\"#0d0887\"],[0.1111111111111111,\"#46039f\"],[0.2222222222222222,\"#7201a8\"],[0.3333333333333333,\"#9c179e\"],[0.4444444444444444,\"#bd3786\"],[0.5555555555555556,\"#d8576b\"],[0.6666666666666666,\"#ed7953\"],[0.7777777777777778,\"#fb9f3a\"],[0.8888888888888888,\"#fdca26\"],[1.0,\"#f0f921\"]],\"type\":\"heatmapgl\"}],\"histogram\":[{\"marker\":{\"pattern\":{\"fillmode\":\"overlay\",\"size\":10,\"solidity\":0.2}},\"type\":\"histogram\"}],\"histogram2d\":[{\"colorbar\":{\"outlinewidth\":0,\"ticks\":\"\"},\"colorscale\":[[0.0,\"#0d0887\"],[0.1111111111111111,\"#46039f\"],[0.2222222222222222,\"#7201a8\"],[0.3333333333333333,\"#9c179e\"],[0.4444444444444444,\"#bd3786\"],[0.5555555555555556,\"#d8576b\"],[0.6666666666666666,\"#ed7953\"],[0.7777777777777778,\"#fb9f3a\"],[0.8888888888888888,\"#fdca26\"],[1.0,\"#f0f921\"]],\"type\":\"histogram2d\"}],\"histogram2dcontour\":[{\"colorbar\":{\"outlinewidth\":0,\"ticks\":\"\"},\"colorscale\":[[0.0,\"#0d0887\"],[0.1111111111111111,\"#46039f\"],[0.2222222222222222,\"#7201a8\"],[0.3333333333333333,\"#9c179e\"],[0.4444444444444444,\"#bd3786\"],[0.5555555555555556,\"#d8576b\"],[0.6666666666666666,\"#ed7953\"],[0.7777777777777778,\"#fb9f3a\"],[0.8888888888888888,\"#fdca26\"],[1.0,\"#f0f921\"]],\"type\":\"histogram2dcontour\"}],\"mesh3d\":[{\"colorbar\":{\"outlinewidth\":0,\"ticks\":\"\"},\"type\":\"mesh3d\"}],\"parcoords\":[{\"line\":{\"colorbar\":{\"outlinewidth\":0,\"ticks\":\"\"}},\"type\":\"parcoords\"}],\"pie\":[{\"automargin\":true,\"type\":\"pie\"}],\"scatter\":[{\"marker\":{\"colorbar\":{\"outlinewidth\":0,\"ticks\":\"\"}},\"type\":\"scatter\"}],\"scatter3d\":[{\"line\":{\"colorbar\":{\"outlinewidth\":0,\"ticks\":\"\"}},\"marker\":{\"colorbar\":{\"outlinewidth\":0,\"ticks\":\"\"}},\"type\":\"scatter3d\"}],\"scattercarpet\":[{\"marker\":{\"colorbar\":{\"outlinewidth\":0,\"ticks\":\"\"}},\"type\":\"scattercarpet\"}],\"scattergeo\":[{\"marker\":{\"colorbar\":{\"outlinewidth\":0,\"ticks\":\"\"}},\"type\":\"scattergeo\"}],\"scattergl\":[{\"marker\":{\"colorbar\":{\"outlinewidth\":0,\"ticks\":\"\"}},\"type\":\"scattergl\"}],\"scattermapbox\":[{\"marker\":{\"colorbar\":{\"outlinewidth\":0,\"ticks\":\"\"}},\"type\":\"scattermapbox\"}],\"scatterpolar\":[{\"marker\":{\"colorbar\":{\"outlinewidth\":0,\"ticks\":\"\"}},\"type\":\"scatterpolar\"}],\"scatterpolargl\":[{\"marker\":{\"colorbar\":{\"outlinewidth\":0,\"ticks\":\"\"}},\"type\":\"scatterpolargl\"}],\"scatterternary\":[{\"marker\":{\"colorbar\":{\"outlinewidth\":0,\"ticks\":\"\"}},\"type\":\"scatterternary\"}],\"surface\":[{\"colorbar\":{\"outlinewidth\":0,\"ticks\":\"\"},\"colorscale\":[[0.0,\"#0d0887\"],[0.1111111111111111,\"#46039f\"],[0.2222222222222222,\"#7201a8\"],[0.3333333333333333,\"#9c179e\"],[0.4444444444444444,\"#bd3786\"],[0.5555555555555556,\"#d8576b\"],[0.6666666666666666,\"#ed7953\"],[0.7777777777777778,\"#fb9f3a\"],[0.8888888888888888,\"#fdca26\"],[1.0,\"#f0f921\"]],\"type\":\"surface\"}],\"table\":[{\"cells\":{\"fill\":{\"color\":\"#EBF0F8\"},\"line\":{\"color\":\"white\"}},\"header\":{\"fill\":{\"color\":\"#C8D4E3\"},\"line\":{\"color\":\"white\"}},\"type\":\"table\"}]},\"layout\":{\"annotationdefaults\":{\"arrowcolor\":\"#2a3f5f\",\"arrowhead\":0,\"arrowwidth\":1},\"autotypenumbers\":\"strict\",\"coloraxis\":{\"colorbar\":{\"outlinewidth\":0,\"ticks\":\"\"}},\"colorscale\":{\"diverging\":[[0,\"#8e0152\"],[0.1,\"#c51b7d\"],[0.2,\"#de77ae\"],[0.3,\"#f1b6da\"],[0.4,\"#fde0ef\"],[0.5,\"#f7f7f7\"],[0.6,\"#e6f5d0\"],[0.7,\"#b8e186\"],[0.8,\"#7fbc41\"],[0.9,\"#4d9221\"],[1,\"#276419\"]],\"sequential\":[[0.0,\"#0d0887\"],[0.1111111111111111,\"#46039f\"],[0.2222222222222222,\"#7201a8\"],[0.3333333333333333,\"#9c179e\"],[0.4444444444444444,\"#bd3786\"],[0.5555555555555556,\"#d8576b\"],[0.6666666666666666,\"#ed7953\"],[0.7777777777777778,\"#fb9f3a\"],[0.8888888888888888,\"#fdca26\"],[1.0,\"#f0f921\"]],\"sequentialminus\":[[0.0,\"#0d0887\"],[0.1111111111111111,\"#46039f\"],[0.2222222222222222,\"#7201a8\"],[0.3333333333333333,\"#9c179e\"],[0.4444444444444444,\"#bd3786\"],[0.5555555555555556,\"#d8576b\"],[0.6666666666666666,\"#ed7953\"],[0.7777777777777778,\"#fb9f3a\"],[0.8888888888888888,\"#fdca26\"],[1.0,\"#f0f921\"]]},\"colorway\":[\"#636efa\",\"#EF553B\",\"#00cc96\",\"#ab63fa\",\"#FFA15A\",\"#19d3f3\",\"#FF6692\",\"#B6E880\",\"#FF97FF\",\"#FECB52\"],\"font\":{\"color\":\"#2a3f5f\"},\"geo\":{\"bgcolor\":\"white\",\"lakecolor\":\"white\",\"landcolor\":\"#E5ECF6\",\"showlakes\":true,\"showland\":true,\"subunitcolor\":\"white\"},\"hoverlabel\":{\"align\":\"left\"},\"hovermode\":\"closest\",\"mapbox\":{\"style\":\"light\"},\"paper_bgcolor\":\"white\",\"plot_bgcolor\":\"#E5ECF6\",\"polar\":{\"angularaxis\":{\"gridcolor\":\"white\",\"linecolor\":\"white\",\"ticks\":\"\"},\"bgcolor\":\"#E5ECF6\",\"radialaxis\":{\"gridcolor\":\"white\",\"linecolor\":\"white\",\"ticks\":\"\"}},\"scene\":{\"xaxis\":{\"backgroundcolor\":\"#E5ECF6\",\"gridcolor\":\"white\",\"gridwidth\":2,\"linecolor\":\"white\",\"showbackground\":true,\"ticks\":\"\",\"zerolinecolor\":\"white\"},\"yaxis\":{\"backgroundcolor\":\"#E5ECF6\",\"gridcolor\":\"white\",\"gridwidth\":2,\"linecolor\":\"white\",\"showbackground\":true,\"ticks\":\"\",\"zerolinecolor\":\"white\"},\"zaxis\":{\"backgroundcolor\":\"#E5ECF6\",\"gridcolor\":\"white\",\"gridwidth\":2,\"linecolor\":\"white\",\"showbackground\":true,\"ticks\":\"\",\"zerolinecolor\":\"white\"}},\"shapedefaults\":{\"line\":{\"color\":\"#2a3f5f\"}},\"ternary\":{\"aaxis\":{\"gridcolor\":\"white\",\"linecolor\":\"white\",\"ticks\":\"\"},\"baxis\":{\"gridcolor\":\"white\",\"linecolor\":\"white\",\"ticks\":\"\"},\"bgcolor\":\"#E5ECF6\",\"caxis\":{\"gridcolor\":\"white\",\"linecolor\":\"white\",\"ticks\":\"\"}},\"title\":{\"x\":0.05},\"xaxis\":{\"automargin\":true,\"gridcolor\":\"white\",\"linecolor\":\"white\",\"ticks\":\"\",\"title\":{\"standoff\":15},\"zerolinecolor\":\"white\",\"zerolinewidth\":2},\"yaxis\":{\"automargin\":true,\"gridcolor\":\"white\",\"linecolor\":\"white\",\"ticks\":\"\",\"title\":{\"standoff\":15},\"zerolinecolor\":\"white\",\"zerolinewidth\":2}}},\"uniformtext\":{\"minsize\":6,\"mode\":\"show\"},\"xaxis\":{\"anchor\":\"y\",\"domain\":[0.0,1.0],\"title\":{\"text\":\"val\"}},\"yaxis\":{\"anchor\":\"x\",\"domain\":[0.0,1.0],\"title\":{\"text\":\"count\"}}},                        {\"responsive\": true}                    ).then(function(){\n",
       "                            \n",
       "var gd = document.getElementById('0ab82234-6e63-4d5d-9c03-6be90a45a83d');\n",
       "var x = new MutationObserver(function (mutations, observer) {{\n",
       "        var display = window.getComputedStyle(gd).display;\n",
       "        if (!display || display === 'none') {{\n",
       "            console.log([gd, 'removed!']);\n",
       "            Plotly.purge(gd);\n",
       "            observer.disconnect();\n",
       "        }}\n",
       "}});\n",
       "\n",
       "// Listen for the removal of the full notebook cells\n",
       "var notebookContainer = gd.closest('#notebook-container');\n",
       "if (notebookContainer) {{\n",
       "    x.observe(notebookContainer, {childList: true});\n",
       "}}\n",
       "\n",
       "// Listen for the clearing of the current output cell\n",
       "var outputEl = gd.closest('.output');\n",
       "if (outputEl) {{\n",
       "    x.observe(outputEl, {childList: true});\n",
       "}}\n",
       "\n",
       "                        })                };                });            </script>        </div>"
      ]
     },
     "metadata": {},
     "output_type": "display_data"
    },
    {
     "name": "stdout",
     "output_type": "stream",
     "text": [
      "Index 4 holds the value 9, which is above the chosen threshold.\n",
      "Index 7 holds the value 8, which is above the chosen threshold.\n",
      "Index 13 holds the value 8, which is above the chosen threshold.\n"
     ]
    }
   ],
   "source": [
    "############# CIRCUIT SIMULATION #################\n",
    "aer_sim = Aer.get_backend('aer_simulator')\n",
    "aer_sim.set_options(device='CPU')\n",
    "transpiled_qc = transpile(qc, aer_sim)\n",
    "\n",
    "shots = 2**(n+7) #we repeat the simulation 2048 times\n",
    "job = aer_sim.run(transpiled_qc, shots=shots)\n",
    "\n",
    "############# CODE FOR PLOTTING ####################\n",
    "hist = job.result().get_counts() #simulation output\n",
    "sort_hist = sorted(hist.items()) #So that the plotting puts everything in the same increasing order of basis\n",
    "n_hist = {k:v for k,v in sort_hist}\n",
    "\n",
    "results = {'val':n_hist.keys(),'count':n_hist.values()} #change the formatting of the data to match plotly\n",
    "\n",
    "fig = px.bar(results, x=\"val\", y=\"count\", text=\"count\")\n",
    "fig.update_traces(texttemplate='%{text:.2s}', textposition='outside')\n",
    "fig.update_layout(uniformtext_minsize=6, uniformtext_mode='show')\n",
    "fig.show()\n",
    "\n",
    "############## CODE FOR LISTING THE RESULTS #####################\n",
    "trig = []\n",
    "max_c = max(results['count'])\n",
    "for i,j in zip(results['val'],results['count']):\n",
    "    if int(j) > max_c-0.33*max_c: #only consideres values that are higher than one third less\n",
    "        trig.append({'index_dec':int(i,2),'index_bin':i,'counts':j})\n",
    "\n",
    "for t in trig:\n",
    "    print(f\"Index {t['index_dec']} holds the value {data_arr[t['index_dec']]}, which is above the chosen threshold.\")"
   ]
  },
  {
   "cell_type": "markdown",
   "id": "e04116ba",
   "metadata": {},
   "source": [
    "# Experimenting with Backends"
   ]
  },
  {
   "cell_type": "markdown",
   "id": "6404af6f",
   "metadata": {},
   "source": [
    "### Links and ressources that I found\n",
    "\n",
    "* [This link](https://nbviewer.org/github/Qiskit/qiskit-tutorials/tree/master/tutorials/noise/) brings you to the qiskit tutorial jupyter notebook storage. Note worthy for here is the series of tutorials that touch on [simulators](https://nbviewer.org/github/Qiskit/qiskit-tutorials/tree/master/tutorials/simulators/), specifically [this one](https://nbviewer.org/github/Qiskit/qiskit-tutorials/blob/master/tutorials/simulators/1_aer_provider.ipynb) for the basics and [this one](https://nbviewer.org/github/Qiskit/qiskit-tutorials/blob/master/tutorials/simulators/2_device_noise_simulation.ipynb) for specific implementation. This [medium article](https://medium.com/qiskit/qiskit-aer-d09d0fac7759) explains very basically how these work.\n",
    "\n",
    "* [This article](https://medium.com/qiskit/qiskit-backends-what-they-are-and-how-to-work-with-them-fb66b3bd0463) is a explanation on qiskit backends. In relation to the things discussed above.\n",
    "\n",
    "* [This](https://qiskit.org/documentation/stubs/qiskit.dagcircuit.DAGCircuit.html) is the documentation for the Direct Acyclic Graphs Circuits (DAGCircuits). These allow the calculation of the number of operations made on the transpiled circuit (so the simulations)\n",
    "\n",
    "* [This](https://quantumcomputing.stackexchange.com/questions/18505/what-are-the-runtimes-of-the-different-modes-of-qiskits-mcx) is a discussion about circuit depth and the use of 'noancilla'."
   ]
  },
  {
   "cell_type": "code",
   "execution_count": 9,
   "id": "ee252ee3",
   "metadata": {
    "ExecuteTime": {
     "end_time": "2021-12-11T00:20:47.761648Z",
     "start_time": "2021-12-11T00:20:47.758449Z"
    },
    "init_cell": true
   },
   "outputs": [],
   "source": [
    "from qiskit.dagcircuit import DAGCircuit\n",
    "from qiskit.converters import circuit_to_dag\n",
    "from qiskit.compiler import transpile"
   ]
  },
  {
   "cell_type": "code",
   "execution_count": 154,
   "id": "6bc9fab4",
   "metadata": {
    "ExecuteTime": {
     "end_time": "2021-12-11T13:30:48.355152Z",
     "start_time": "2021-12-11T13:30:48.299059Z"
    }
   },
   "outputs": [
    {
     "name": "stdout",
     "output_type": "stream",
     "text": [
      "aer_simulator\n",
      "aer_simulator_statevector\n",
      "aer_simulator_statevector_gpu\n",
      "aer_simulator_density_matrix\n",
      "aer_simulator_density_matrix_gpu\n",
      "aer_simulator_stabilizer\n",
      "aer_simulator_matrix_product_state\n",
      "aer_simulator_extended_stabilizer\n",
      "aer_simulator_unitary\n",
      "aer_simulator_unitary_gpu\n",
      "aer_simulator_superop\n",
      "qasm_simulator\n",
      "statevector_simulator\n",
      "unitary_simulator\n",
      "pulse_simulator\n"
     ]
    }
   ],
   "source": [
    "for backend in Aer.backends():\n",
    "    print(backend.name())"
   ]
  },
  {
   "cell_type": "markdown",
   "id": "a68bc230",
   "metadata": {},
   "source": [
    "## Testing Area"
   ]
  },
  {
   "cell_type": "markdown",
   "id": "e3d8b67b",
   "metadata": {},
   "source": [
    "nb of mcx is linked to values in database + length of database, e.g.: \n",
    "\n",
    "17 (10001) requires less mcx than 14 (01110) because there is one less bit to encode\n",
    "\n",
    "So best way to benchmark this is to have the max length of array allowed and highest numbers only, so that we need to encode as many values as possible."
   ]
  },
  {
   "cell_type": "code",
   "execution_count": 155,
   "id": "b7d22cba",
   "metadata": {
    "ExecuteTime": {
     "end_time": "2021-12-11T13:35:11.773800Z",
     "start_time": "2021-12-11T13:35:11.752594Z"
    },
    "init_cell": true
   },
   "outputs": [],
   "source": [
    "def circ_characteristics(data_arr, thresh):\n",
    "    #These numbers are calculated directly from the data array\n",
    "    n = ceil(log(len(data_arr), 2)) #number of index qbits\n",
    "    len_b =  ceil(log(max(data_arr)+1, 2))#length of the bitstrings to compare\n",
    "    m = 5*len_b #number of qbits needed for the comparision\n",
    "\n",
    "    i_reg = QuantumRegister(n, 'd') #Creates the data registry\n",
    "    val_reg = QuantumRegister(m-1, 't') #Creates the template registry\n",
    "    anc = QuantumRegister(1, 'ancilla') #Creates the ancillary registry for the oracle\n",
    "    cr = ClassicalRegister(n, 'c') #Creates the classical bit measurment output\n",
    "\n",
    "    qc = QuantumCircuit(i_reg, val_reg, anc, cr) #Makes the circuit with these qbits as input\n",
    "\n",
    "    encode = encode_qc(n,len_b,data_arr).to_gate()\n",
    "    encode.label = \"Encoding database\"\n",
    "\n",
    "    ####### State initialization #########\n",
    "    qc.h(range(n))\n",
    "\n",
    "    #initiation of ancillary to |->\n",
    "    qc.x(anc)\n",
    "    qc.h(anc)\n",
    "\n",
    "    ##### SETTING THE THRESHOLD ######\n",
    "\n",
    "    set_thresh(qc, n, len_b, thresh)\n",
    "\n",
    "    qc.barrier()\n",
    "\n",
    "    #ENCODING\n",
    "    #The arrays are made with list comprehentions to make something that looks like [0,1,2,n+16,n+11,n+6,n+1], \n",
    "    #which connects the database (the first values) to the comparators (the values with n+...)\n",
    "    qc.append(encode, [x for x in range(n)]+[n+x*5+1 for x in reversed(range(len_b))])#had to reverse the order how the qbits were entered, as the two parts (database and conparator) work in reverse\n",
    "\n",
    "    comp_qc = n_comparator(len_b).to_gate()\n",
    "    comp_qc.label = \"Comparator\"\n",
    "\n",
    "    qc.append(comp_qc, range(n,n+m))\n",
    "\n",
    "    qc.append(encode.reverse_ops(), [x for x in range(n)]+[n+x*5+1 for x in reversed(range(len_b))])\n",
    "\n",
    "    qc.barrier()\n",
    "\n",
    "    #DIFFUSION OP\n",
    "    qc.h(range(n))\n",
    "    qc.x(range(n-1))\n",
    "\n",
    "    #It is difficult to do an actual multi-control-Z gate, so instead we make a MCX surrounded by H gates to transform it into a MCZ\n",
    "    qc.x(n-1)\n",
    "    qc.h(n-1)\n",
    "    qc.mct(list(range(n-1)), n-1) \n",
    "    qc.h(n-1)\n",
    "    qc.x(n-1)\n",
    "\n",
    "    #The other symmetric side of the diffusor\n",
    "    qc.x(range(n-1))\n",
    "    qc.h(range(n))\n",
    "    qc.barrier()\n",
    "\n",
    "    qc.measure([x for x in range(n)],cr)\n",
    "    \n",
    "    ######### SIMULATION CIRCUIT CREATION ########\n",
    "    aer_sim = Aer.get_backend('aer_simulator')\n",
    "    transpiled_qc = transpile(qc, aer_sim)\n",
    "    #we don't need to run the simulation for benchmark\n",
    "    \n",
    "    dag_circuit = circuit_to_dag(transpiled_qc)\n",
    "\n",
    "    \n",
    "    return transpiled_qc, dag_circuit.count_ops(), dag_circuit.num_qubits()\n",
    "\n",
    "# This function prints some information about the simulated circuit\n",
    "def print_info_simCirc(dict_out, qbit_out):\n",
    "    print(\"Operation \\tNumber\\n\")\n",
    "    for i,j in dict_out.items():\n",
    "        if len(i) < 4:\n",
    "            print(f\"{i} \\t\\t{j}\")\n",
    "        else:\n",
    "            print(f\"{i} \\t{j}\")\n",
    "\n",
    "    print(f\"\\n\\nNumber of Qbits used: {qbit_out}\\n\\n\")"
   ]
  },
  {
   "cell_type": "markdown",
   "id": "864232f3",
   "metadata": {},
   "source": [
    "Let's use the benchmark function to see a few different values. Here we choose the maximum for four bits ($2^4=16$)  for the array and the max value."
   ]
  },
  {
   "cell_type": "code",
   "execution_count": 156,
   "id": "b012acc2",
   "metadata": {
    "ExecuteTime": {
     "end_time": "2021-12-11T13:35:17.836415Z",
     "start_time": "2021-12-11T13:35:17.498154Z"
    },
    "scrolled": false
   },
   "outputs": [
    {
     "name": "stdout",
     "output_type": "stream",
     "text": [
      "Operation \tNumber\n",
      "\n",
      "h \t\t4\n",
      "x \t\t112\n",
      "u2 \t\t7\n",
      "barrier \t3\n",
      "mcx \t\t129\n",
      "ccx \t\t34\n",
      "cx \t\t1\n",
      "u1 \t\t2\n",
      "measure \t4\n",
      "\n",
      "\n",
      "Number of Qbits used: 24\n",
      "\n",
      "\n"
     ]
    }
   ],
   "source": [
    "data_arr = [15]*16\n",
    "thresh = 15\n",
    "\n",
    "tr_qc, dict_out, qbit_out = circ_characteristics(data_arr, thresh)\n",
    "\n",
    "print_info_simCirc(dict_out, qbit_out)"
   ]
  },
  {
   "cell_type": "markdown",
   "id": "1519adca",
   "metadata": {},
   "source": [
    "And print the simulated circuit with the above noted operations"
   ]
  },
  {
   "cell_type": "code",
   "execution_count": 157,
   "id": "11d5c9c4",
   "metadata": {
    "ExecuteTime": {
     "end_time": "2021-12-11T13:35:24.157611Z",
     "start_time": "2021-12-11T13:35:23.989417Z"
    },
    "scrolled": false
   },
   "outputs": [
    {
     "data": {
      "text/html": [
       "<pre style=\"word-wrap: normal;white-space: pre;background: #fff0;line-height: 1.1;font-family: &quot;Courier New&quot;,Courier,monospace\">global phase: 0\n",
       "              ┌───┐     ░ ┌───┐                    ┌───┐                    ┌───┐                    ┌───┐                    ┌───┐                    ┌───┐                    ┌───┐                    ┌───┐                    ┌───┐                    ┌───┐                    ┌───┐                    ┌───┐                    ┌───┐                    ┌───┐                    ┌───┐                    ┌───┐                                                                                                                                            ┌───┐                    ┌───┐                    ┌───┐                    ┌───┐                    ┌───┐                    ┌───┐                    ┌───┐                    ┌───┐                    ┌───┐                    ┌───┐                    ┌───┐                    ┌───┐                    ┌───┐                    ┌───┐                    ┌───┐                    ┌───┐ ░ ┌─────────┐     ┌──────────┐ ░ ┌─┐         \n",
       "      d_0: ───┤ H ├─────░─┤ X ├──■────■────■────■──┤ X ├──■────■────■────■──┤ X ├──■────■────■────■──┤ X ├──■────■────■────■──┤ X ├──■────■────■────■──┤ X ├──■────■────■────■──┤ X ├──■────■────■────■──┤ X ├──■────■────■────■──┤ X ├──■────■────■────■──┤ X ├──■────■────■────■──┤ X ├──■────■────■────■──┤ X ├──■────■────■────■──┤ X ├──■────■────■────■──┤ X ├──■────■────■────■──┤ X ├──■────■────■────■──┤ X ├──■────■────■────■────────────────────────────────────────────────────────────────────────────────────────────────────────■────■────■────■──┤ X ├──■────■────■────■──┤ X ├──■────■────■────■──┤ X ├──■────■────■────■──┤ X ├──■────■────■────■──┤ X ├──■────■────■────■──┤ X ├──■────■────■────■──┤ X ├──■────■────■────■──┤ X ├──■────■────■────■──┤ X ├──■────■────■────■──┤ X ├──■────■────■────■──┤ X ├──■────■────■────■──┤ X ├──■────■────■────■──┤ X ├──■────■────■────■──┤ X ├──■────■────■────■──┤ X ├──■────■────■────■──┤ X ├─░─┤ U2(0,0) ├──■──┤ U2(π,-π) ├─░─┤M├─────────\n",
       "              ├───┤     ░ ├───┤  │    │    │    │  └───┘  │    │    │    │  ├───┤  │    │    │    │  └───┘  │    │    │    │  ├───┤  │    │    │    │  └───┘  │    │    │    │  ├───┤  │    │    │    │  └───┘  │    │    │    │  ├───┤  │    │    │    │  └───┘  │    │    │    │  ├───┤  │    │    │    │  └───┘  │    │    │    │  ├───┤  │    │    │    │  └───┘  │    │    │    │  ├───┤  │    │    │    │  └───┘  │    │    │    │                                                                                                        │    │    │    │  └───┘  │    │    │    │  ├───┤  │    │    │    │  └───┘  │    │    │    │  ├───┤  │    │    │    │  └───┘  │    │    │    │  ├───┤  │    │    │    │  └───┘  │    │    │    │  ├───┤  │    │    │    │  └───┘  │    │    │    │  ├───┤  │    │    │    │  └───┘  │    │    │    │  ├───┤  │    │    │    │  └───┘  │    │    │    │  ├───┤  │    │    │    │  └───┘  │    │    │    │  ├───┤ ░ ├─────────┤  │  ├──────────┤ ░ └╥┘┌─┐      \n",
       "      d_1: ───┤ H ├─────░─┤ X ├──■────■────■────■─────────■────■────■────■──┤ X ├──■────■────■────■─────────■────■────■────■──┤ X ├──■────■────■────■─────────■────■────■────■──┤ X ├──■────■────■────■─────────■────■────■────■──┤ X ├──■────■────■────■─────────■────■────■────■──┤ X ├──■────■────■────■─────────■────■────■────■──┤ X ├──■────■────■────■─────────■────■────■────■──┤ X ├──■────■────■────■─────────■────■────■────■────────────────────────────────────────────────────────────────────────────────────────────────────────■────■────■────■─────────■────■────■────■──┤ X ├──■────■────■────■─────────■────■────■────■──┤ X ├──■────■────■────■─────────■────■────■────■──┤ X ├──■────■────■────■─────────■────■────■────■──┤ X ├──■────■────■────■─────────■────■────■────■──┤ X ├──■────■────■────■─────────■────■────■────■──┤ X ├──■────■────■────■─────────■────■────■────■──┤ X ├──■────■────■────■─────────■────■────■────■──┤ X ├─░─┤ U2(0,0) ├──■──┤ U2(π,-π) ├─░──╫─┤M├──────\n",
       "              ├───┤     ░ ├───┤  │    │    │    │         │    │    │    │  └───┘  │    │    │    │         │    │    │    │  ├───┤  │    │    │    │         │    │    │    │  └───┘  │    │    │    │         │    │    │    │  ├───┤  │    │    │    │         │    │    │    │  └───┘  │    │    │    │         │    │    │    │  ├───┤  │    │    │    │         │    │    │    │  └───┘  │    │    │    │         │    │    │    │                                                                                                        │    │    │    │         │    │    │    │  └───┘  │    │    │    │         │    │    │    │  ├───┤  │    │    │    │         │    │    │    │  └───┘  │    │    │    │         │    │    │    │  ├───┤  │    │    │    │         │    │    │    │  └───┘  │    │    │    │         │    │    │    │  ├───┤  │    │    │    │         │    │    │    │  └───┘  │    │    │    │         │    │    │    │  ├───┤ ░ ├─────────┤  │  ├──────────┤ ░  ║ └╥┘┌─┐   \n",
       "      d_2: ───┤ H ├─────░─┤ X ├──■────■────■────■─────────■────■────■────■─────────■────■────■────■─────────■────■────■────■──┤ X ├──■────■────■────■─────────■────■────■────■─────────■────■────■────■─────────■────■────■────■──┤ X ├──■────■────■────■─────────■────■────■────■─────────■────■────■────■─────────■────■────■────■──┤ X ├──■────■────■────■─────────■────■────■────■─────────■────■────■────■─────────■────■────■────■────────────────────────────────────────────────────────────────────────────────────────────────────────■────■────■────■─────────■────■────■────■─────────■────■────■────■─────────■────■────■────■──┤ X ├──■────■────■────■─────────■────■────■────■─────────■────■────■────■─────────■────■────■────■──┤ X ├──■────■────■────■─────────■────■────■────■─────────■────■────■────■─────────■────■────■────■──┤ X ├──■────■────■────■─────────■────■────■────■─────────■────■────■────■─────────■────■────■────■──┤ X ├─░─┤ U2(0,0) ├──■──┤ U2(π,-π) ├─░──╫──╫─┤M├───\n",
       "              ├───┤     ░ ├───┤  │    │    │    │         │    │    │    │         │    │    │    │         │    │    │    │  └───┘  │    │    │    │         │    │    │    │         │    │    │    │         │    │    │    │  ├───┤  │    │    │    │         │    │    │    │         │    │    │    │         │    │    │    │  └───┘  │    │    │    │         │    │    │    │         │    │    │    │         │    │    │    │                                                                                                        │    │    │    │         │    │    │    │         │    │    │    │         │    │    │    │  └───┘  │    │    │    │         │    │    │    │         │    │    │    │         │    │    │    │  ├───┤  │    │    │    │         │    │    │    │         │    │    │    │         │    │    │    │  └───┘  │    │    │    │         │    │    │    │         │    │    │    │         │    │    │    │  ├───┤ ░ └┬───────┬┘┌─┴─┐└┬───────┬─┘ ░  ║  ║ └╥┘┌─┐\n",
       "      d_3: ───┤ H ├─────░─┤ X ├──■────■────■────■─────────■────■────■────■─────────■────■────■────■─────────■────■────■────■─────────■────■────■────■─────────■────■────■────■─────────■────■────■────■─────────■────■────■────■──┤ X ├──■────■────■────■─────────■────■────■────■─────────■────■────■────■─────────■────■────■────■─────────■────■────■────■─────────■────■────■────■─────────■────■────■────■─────────■────■────■────■────────────────────────────────────────────────────────────────────────────────────────────────────────■────■────■────■─────────■────■────■────■─────────■────■────■────■─────────■────■────■────■─────────■────■────■────■─────────■────■────■────■─────────■────■────■────■─────────■────■────■────■──┤ X ├──■────■────■────■─────────■────■────■────■─────────■────■────■────■─────────■────■────■────■─────────■────■────■────■─────────■────■────■────■─────────■────■────■────■─────────■────■────■────■──┤ X ├─░──┤ U1(π) ├─┤ X ├─┤ U1(π) ├───░──╫──╫──╫─┤M├\n",
       "              ├───┤     ░ └───┘  │    │    │    │         │    │    │    │         │    │    │    │         │    │    │    │         │    │    │    │         │    │    │    │         │    │    │    │         │    │    │    │  └───┘  │    │    │    │         │    │    │    │         │    │    │    │         │    │    │    │         │    │    │    │         │    │    │    │         │    │    │    │         │    │    │    │            ┌───┐                                                                      ┌───┐            │    │    │    │         │    │    │    │         │    │    │    │         │    │    │    │         │    │    │    │         │    │    │    │         │    │    │    │         │    │    │    │  └───┘  │    │    │    │         │    │    │    │         │    │    │    │         │    │    │    │         │    │    │    │         │    │    │    │         │    │    │    │         │    │    │    │  └───┘ ░  └───────┘ └───┘ └───────┘   ░  ║  ║  ║ └╥┘\n",
       "      t_0: ───┤ X ├─────░────────┼────┼────┼────┼─────────┼────┼────┼────┼─────────┼────┼────┼────┼─────────┼────┼────┼────┼─────────┼────┼────┼────┼─────────┼────┼────┼────┼─────────┼────┼────┼────┼─────────┼────┼────┼────┼─────────┼────┼────┼────┼─────────┼────┼────┼────┼─────────┼────┼────┼────┼─────────┼────┼────┼────┼─────────┼────┼────┼────┼─────────┼────┼────┼────┼─────────┼────┼────┼────┼─────────┼────┼────┼────┼─────────■──┤ X ├──■────────────────────────────────────────────────────────────────■──┤ X ├──■─────────┼────┼────┼────┼─────────┼────┼────┼────┼─────────┼────┼────┼────┼─────────┼────┼────┼────┼─────────┼────┼────┼────┼─────────┼────┼────┼────┼─────────┼────┼────┼────┼─────────┼────┼────┼────┼─────────┼────┼────┼────┼─────────┼────┼────┼────┼─────────┼────┼────┼────┼─────────┼────┼────┼────┼─────────┼────┼────┼────┼─────────┼────┼────┼────┼─────────┼────┼────┼────┼─────────┼────┼────┼────┼────────░──────────────────────────────░──╫──╫──╫──╫─\n",
       "              └───┘     ░        │    │    │  ┌─┴─┐       │    │    │  ┌─┴─┐       │    │    │  ┌─┴─┐       │    │    │  ┌─┴─┐       │    │    │  ┌─┴─┐       │    │    │  ┌─┴─┐       │    │    │  ┌─┴─┐       │    │    │  ┌─┴─┐       │    │    │  ┌─┴─┐       │    │    │  ┌─┴─┐       │    │    │  ┌─┴─┐       │    │    │  ┌─┴─┐       │    │    │  ┌─┴─┐       │    │    │  ┌─┴─┐       │    │    │  ┌─┴─┐       │    │    │  ┌─┴─┐┌───┐  │  ├───┤  │                                                                │  ├───┤  │  ┌───┐┌─┴─┐  │    │    │       ┌─┴─┐  │    │    │       ┌─┴─┐  │    │    │       ┌─┴─┐  │    │    │       ┌─┴─┐  │    │    │       ┌─┴─┐  │    │    │       ┌─┴─┐  │    │    │       ┌─┴─┐  │    │    │       ┌─┴─┐  │    │    │       ┌─┴─┐  │    │    │       ┌─┴─┐  │    │    │       ┌─┴─┐  │    │    │       ┌─┴─┐  │    │    │       ┌─┴─┐  │    │    │       ┌─┴─┐  │    │    │       ┌─┴─┐  │    │    │        ░                              ░  ║  ║  ║  ║ \n",
       "      t_1: ─────────────░────────┼────┼────┼──┤ X ├───────┼────┼────┼──┤ X ├───────┼────┼────┼──┤ X ├───────┼────┼────┼──┤ X ├───────┼────┼────┼──┤ X ├───────┼────┼────┼──┤ X ├───────┼────┼────┼──┤ X ├───────┼────┼────┼──┤ X ├───────┼────┼────┼──┤ X ├───────┼────┼────┼──┤ X ├───────┼────┼────┼──┤ X ├───────┼────┼────┼──┤ X ├───────┼────┼────┼──┤ X ├───────┼────┼────┼──┤ X ├───────┼────┼────┼──┤ X ├───────┼────┼────┼──┤ X ├┤ X ├──■──┤ X ├──■────────────────────────────────────────────────────────────────■──┤ X ├──■──┤ X ├┤ X ├──┼────┼────┼───────┤ X ├──┼────┼────┼───────┤ X ├──┼────┼────┼───────┤ X ├──┼────┼────┼───────┤ X ├──┼────┼────┼───────┤ X ├──┼────┼────┼───────┤ X ├──┼────┼────┼───────┤ X ├──┼────┼────┼───────┤ X ├──┼────┼────┼───────┤ X ├──┼────┼────┼───────┤ X ├──┼────┼────┼───────┤ X ├──┼────┼────┼───────┤ X ├──┼────┼────┼───────┤ X ├──┼────┼────┼───────┤ X ├──┼────┼────┼───────┤ X ├──┼────┼────┼────────░──────────────────────────────░──╫──╫──╫──╫─\n",
       "                        ░        │    │    │  └───┘       │    │    │  └───┘       │    │    │  └───┘       │    │    │  └───┘       │    │    │  └───┘       │    │    │  └───┘       │    │    │  └───┘       │    │    │  └───┘       │    │    │  └───┘       │    │    │  └───┘       │    │    │  └───┘       │    │    │  └───┘       │    │    │  └───┘       │    │    │  └───┘       │    │    │  └───┘       │    │    │  └───┘└───┘┌─┴─┐├───┤  │            ┌───┐┌───┐                    ┌───┐┌───┐     ┌───┐  │  └───┘┌─┴─┐└───┘└───┘  │    │    │       └───┘  │    │    │       └───┘  │    │    │       └───┘  │    │    │       └───┘  │    │    │       └───┘  │    │    │       └───┘  │    │    │       └───┘  │    │    │       └───┘  │    │    │       └───┘  │    │    │       └───┘  │    │    │       └───┘  │    │    │       └───┘  │    │    │       └───┘  │    │    │       └───┘  │    │    │       └───┘  │    │    │        ░                              ░  ║  ║  ║  ║ \n",
       "      t_2: ─────────────░────────┼────┼────┼──────────────┼────┼────┼──────────────┼────┼────┼──────────────┼────┼────┼──────────────┼────┼────┼──────────────┼────┼────┼──────────────┼────┼────┼──────────────┼────┼────┼──────────────┼────┼────┼──────────────┼────┼────┼──────────────┼────┼────┼──────────────┼────┼────┼──────────────┼────┼────┼──────────────┼────┼────┼──────────────┼────┼────┼──────────────┼────┼────┼────────────┤ X ├┤ X ├──┼─────────■──┤ X ├┤ X ├────────────────────┤ X ├┤ X ├──■──┤ X ├──┼───────┤ X ├────────────┼────┼────┼──────────────┼────┼────┼──────────────┼────┼────┼──────────────┼────┼────┼──────────────┼────┼────┼──────────────┼────┼────┼──────────────┼────┼────┼──────────────┼────┼────┼──────────────┼────┼────┼──────────────┼────┼────┼──────────────┼────┼────┼──────────────┼────┼────┼──────────────┼────┼────┼──────────────┼────┼────┼──────────────┼────┼────┼──────────────┼────┼────┼────────░──────────────────────────────░──╫──╫──╫──╫─\n",
       "                        ░        │    │    │              │    │    │              │    │    │              │    │    │              │    │    │              │    │    │              │    │    │              │    │    │              │    │    │              │    │    │              │    │    │              │    │    │              │    │    │              │    │    │              │    │    │              │    │    │            └───┘└───┘┌─┴─┐┌───┐  │  ├───┤└─┬─┘┌───┐     ┌───┐┌───┐└─┬─┘└───┘  │  ├───┤┌─┴─┐     └───┘            │    │    │              │    │    │              │    │    │              │    │    │              │    │    │              │    │    │              │    │    │              │    │    │              │    │    │              │    │    │              │    │    │              │    │    │              │    │    │              │    │    │              │    │    │              │    │    │        ░                              ░  ║  ║  ║  ║ \n",
       "      t_3: ─────────────░────────┼────┼────┼──────────────┼────┼────┼──────────────┼────┼────┼──────────────┼────┼────┼──────────────┼────┼────┼──────────────┼────┼────┼──────────────┼────┼────┼──────────────┼────┼────┼──────────────┼────┼────┼──────────────┼────┼────┼──────────────┼────┼────┼──────────────┼────┼────┼──────────────┼────┼────┼──────────────┼────┼────┼──────────────┼────┼────┼──────────────┼────┼────┼──────────────────────┤ X ├┤ X ├──■──┤ X ├──┼──┤ X ├──■──┤ X ├┤ X ├──┼─────────■──┤ X ├┤ X ├──────────────────────┼────┼────┼──────────────┼────┼────┼──────────────┼────┼────┼──────────────┼────┼────┼──────────────┼────┼────┼──────────────┼────┼────┼──────────────┼────┼────┼──────────────┼────┼────┼──────────────┼────┼────┼──────────────┼────┼────┼──────────────┼────┼────┼──────────────┼────┼────┼──────────────┼────┼────┼──────────────┼────┼────┼──────────────┼────┼────┼──────────────┼────┼────┼────────░──────────────────────────────░──╫──╫──╫──╫─\n",
       "                        ░        │    │    │              │    │    │              │    │    │              │    │    │              │    │    │              │    │    │              │    │    │              │    │    │              │    │    │              │    │    │              │    │    │              │    │    │              │    │    │              │    │    │              │    │    │              │    │    │                      └───┘└───┘┌─┴─┐└───┘  │  └─┬─┘  │  └─┬─┘└───┘  │       ┌─┴─┐└───┘└───┘                      │    │    │              │    │    │              │    │    │              │    │    │              │    │    │              │    │    │              │    │    │              │    │    │              │    │    │              │    │    │              │    │    │              │    │    │              │    │    │              │    │    │              │    │    │              │    │    │        ░                              ░  ║  ║  ║  ║ \n",
       "      t_4: ─────────────░────────┼────┼────┼──────────────┼────┼────┼──────────────┼────┼────┼──────────────┼────┼────┼──────────────┼────┼────┼──────────────┼────┼────┼──────────────┼────┼────┼──────────────┼────┼────┼──────────────┼────┼────┼──────────────┼────┼────┼──────────────┼────┼────┼──────────────┼────┼────┼──────────────┼────┼────┼──────────────┼────┼────┼──────────────┼────┼────┼──────────────┼────┼────┼────────────────────────────────┤ X ├───────■────■────┼────■─────────■───────┤ X ├────────────────────────────────┼────┼────┼──────────────┼────┼────┼──────────────┼────┼────┼──────────────┼────┼────┼──────────────┼────┼────┼──────────────┼────┼────┼──────────────┼────┼────┼──────────────┼────┼────┼──────────────┼────┼────┼──────────────┼────┼────┼──────────────┼────┼────┼──────────────┼────┼────┼──────────────┼────┼────┼──────────────┼────┼────┼──────────────┼────┼────┼──────────────┼────┼────┼────────░──────────────────────────────░──╫──╫──╫──╫─\n",
       "              ┌───┐     ░        │    │    │              │    │    │              │    │    │              │    │    │              │    │    │              │    │    │              │    │    │              │    │    │              │    │    │              │    │    │              │    │    │              │    │    │              │    │    │              │    │    │              │    │    │              │    │    │            ┌───┐               └───┘       │    │    │    │         │       └───┘               ┌───┐            │    │    │              │    │    │              │    │    │              │    │    │              │    │    │              │    │    │              │    │    │              │    │    │              │    │    │              │    │    │              │    │    │              │    │    │              │    │    │              │    │    │              │    │    │              │    │    │        ░                              ░  ║  ║  ║  ║ \n",
       "      t_5: ───┤ X ├─────░────────┼────┼────┼──────────────┼────┼────┼──────────────┼────┼────┼──────────────┼────┼────┼──────────────┼────┼────┼──────────────┼────┼────┼──────────────┼────┼────┼──────────────┼────┼────┼──────────────┼────┼────┼──────────────┼────┼────┼──────────────┼────┼────┼──────────────┼────┼────┼──────────────┼────┼────┼──────────────┼────┼────┼──────────────┼────┼────┼──────────────┼────┼────┼─────────■──┤ X ├──■────────────────────────┼────┼────┼────┼─────────┼────────────────────────■──┤ X ├──■─────────┼────┼────┼──────────────┼────┼────┼──────────────┼────┼────┼──────────────┼────┼────┼──────────────┼────┼────┼──────────────┼────┼────┼──────────────┼────┼────┼──────────────┼────┼────┼──────────────┼────┼────┼──────────────┼────┼────┼──────────────┼────┼────┼──────────────┼────┼────┼──────────────┼────┼────┼──────────────┼────┼────┼──────────────┼────┼────┼──────────────┼────┼────┼────────░──────────────────────────────░──╫──╫──╫──╫─\n",
       "              └───┘     ░        │    │  ┌─┴─┐            │    │  ┌─┴─┐            │    │  ┌─┴─┐            │    │  ┌─┴─┐            │    │  ┌─┴─┐            │    │  ┌─┴─┐            │    │  ┌─┴─┐            │    │  ┌─┴─┐            │    │  ┌─┴─┐            │    │  ┌─┴─┐            │    │  ┌─┴─┐            │    │  ┌─┴─┐            │    │  ┌─┴─┐            │    │  ┌─┴─┐            │    │  ┌─┴─┐            │    │  ┌─┴─┐┌───┐  │  ├───┤  │                        │    │    │    │         │                        │  ├───┤  │  ┌───┐┌─┴─┐  │    │            ┌─┴─┐  │    │            ┌─┴─┐  │    │            ┌─┴─┐  │    │            ┌─┴─┐  │    │            ┌─┴─┐  │    │            ┌─┴─┐  │    │            ┌─┴─┐  │    │            ┌─┴─┐  │    │            ┌─┴─┐  │    │            ┌─┴─┐  │    │            ┌─┴─┐  │    │            ┌─┴─┐  │    │            ┌─┴─┐  │    │            ┌─┴─┐  │    │            ┌─┴─┐  │    │        ░                              ░  ║  ║  ║  ║ \n",
       "      t_6: ─────────────░────────┼────┼──┤ X ├────────────┼────┼──┤ X ├────────────┼────┼──┤ X ├────────────┼────┼──┤ X ├────────────┼────┼──┤ X ├────────────┼────┼──┤ X ├────────────┼────┼──┤ X ├────────────┼────┼──┤ X ├────────────┼────┼──┤ X ├────────────┼────┼──┤ X ├────────────┼────┼──┤ X ├────────────┼────┼──┤ X ├────────────┼────┼──┤ X ├────────────┼────┼──┤ X ├────────────┼────┼──┤ X ├────────────┼────┼──┤ X ├┤ X ├──■──┤ X ├──■────────────────────────┼────┼────┼────┼─────────┼────────────────────────■──┤ X ├──■──┤ X ├┤ X ├──┼────┼────────────┤ X ├──┼────┼────────────┤ X ├──┼────┼────────────┤ X ├──┼────┼────────────┤ X ├──┼────┼────────────┤ X ├──┼────┼────────────┤ X ├──┼────┼────────────┤ X ├──┼────┼────────────┤ X ├──┼────┼────────────┤ X ├──┼────┼────────────┤ X ├──┼────┼────────────┤ X ├──┼────┼────────────┤ X ├──┼────┼────────────┤ X ├──┼────┼────────────┤ X ├──┼────┼────────────┤ X ├──┼────┼────────░──────────────────────────────░──╫──╫──╫──╫─\n",
       "                        ░        │    │  └───┘            │    │  └───┘            │    │  └───┘            │    │  └───┘            │    │  └───┘            │    │  └───┘            │    │  └───┘            │    │  └───┘            │    │  └───┘            │    │  └───┘            │    │  └───┘            │    │  └───┘            │    │  └───┘            │    │  └───┘            │    │  └───┘            │    │  └───┘└───┘┌─┴─┐├───┤  │            ┌───┐┌───┐  │    │    │    │         │  ┌───┐┌───┐     ┌───┐  │  └───┘┌─┴─┐└───┘└───┘  │    │            └───┘  │    │            └───┘  │    │            └───┘  │    │            └───┘  │    │            └───┘  │    │            └───┘  │    │            └───┘  │    │            └───┘  │    │            └───┘  │    │            └───┘  │    │            └───┘  │    │            └───┘  │    │            └───┘  │    │            └───┘  │    │            └───┘  │    │        ░                              ░  ║  ║  ║  ║ \n",
       "      t_7: ─────────────░────────┼────┼───────────────────┼────┼───────────────────┼────┼───────────────────┼────┼───────────────────┼────┼───────────────────┼────┼───────────────────┼────┼───────────────────┼────┼───────────────────┼────┼───────────────────┼────┼───────────────────┼────┼───────────────────┼────┼───────────────────┼────┼───────────────────┼────┼───────────────────┼────┼───────────────────┼────┼────────────┤ X ├┤ X ├──┼─────────■──┤ X ├┤ X ├──■────┼────┼────┼─────────■──┤ X ├┤ X ├──■──┤ X ├──┼───────┤ X ├────────────┼────┼───────────────────┼────┼───────────────────┼────┼───────────────────┼────┼───────────────────┼────┼───────────────────┼────┼───────────────────┼────┼───────────────────┼────┼───────────────────┼────┼───────────────────┼────┼───────────────────┼────┼───────────────────┼────┼───────────────────┼────┼───────────────────┼────┼───────────────────┼────┼───────────────────┼────┼────────░──────────────────────────────░──╫──╫──╫──╫─\n",
       "                        ░        │    │                   │    │                   │    │                   │    │                   │    │                   │    │                   │    │                   │    │                   │    │                   │    │                   │    │                   │    │                   │    │                   │    │                   │    │                   │    │            └───┘└───┘┌─┴─┐┌───┐  │  ├───┤└─┬─┘┌───┐  │    │    │  ┌───┐┌───┐└─┬─┘└───┘  │  ├───┤┌─┴─┐     └───┘            │    │                   │    │                   │    │                   │    │                   │    │                   │    │                   │    │                   │    │                   │    │                   │    │                   │    │                   │    │                   │    │                   │    │                   │    │                   │    │        ░                              ░  ║  ║  ║  ║ \n",
       "      t_8: ─────────────░────────┼────┼───────────────────┼────┼───────────────────┼────┼───────────────────┼────┼───────────────────┼────┼───────────────────┼────┼───────────────────┼────┼───────────────────┼────┼───────────────────┼────┼───────────────────┼────┼───────────────────┼────┼───────────────────┼────┼───────────────────┼────┼───────────────────┼────┼───────────────────┼────┼───────────────────┼────┼──────────────────────┤ X ├┤ X ├──■──┤ X ├──┼──┤ X ├──■────┼────■──┤ X ├┤ X ├──┼─────────■──┤ X ├┤ X ├──────────────────────┼────┼───────────────────┼────┼───────────────────┼────┼───────────────────┼────┼───────────────────┼────┼───────────────────┼────┼───────────────────┼────┼───────────────────┼────┼───────────────────┼────┼───────────────────┼────┼───────────────────┼────┼───────────────────┼────┼───────────────────┼────┼───────────────────┼────┼───────────────────┼────┼───────────────────┼────┼────────░──────────────────────────────░──╫──╫──╫──╫─\n",
       "                        ░        │    │                   │    │                   │    │                   │    │                   │    │                   │    │                   │    │                   │    │                   │    │                   │    │                   │    │                   │    │                   │    │                   │    │                   │    │                   │    │                      └───┘└───┘┌─┴─┐└───┘  │  └─┬─┘       │       └─┬─┘└───┘  │       ┌─┴─┐└───┘└───┘                      │    │                   │    │                   │    │                   │    │                   │    │                   │    │                   │    │                   │    │                   │    │                   │    │                   │    │                   │    │                   │    │                   │    │                   │    │                   │    │        ░                              ░  ║  ║  ║  ║ \n",
       "      t_9: ─────────────░────────┼────┼───────────────────┼────┼───────────────────┼────┼───────────────────┼────┼───────────────────┼────┼───────────────────┼────┼───────────────────┼────┼───────────────────┼────┼───────────────────┼────┼───────────────────┼────┼───────────────────┼────┼───────────────────┼────┼───────────────────┼────┼───────────────────┼────┼───────────────────┼────┼───────────────────┼────┼────────────────────────────────┤ X ├───────■────■─────────┼─────────■─────────■───────┤ X ├────────────────────────────────┼────┼───────────────────┼────┼───────────────────┼────┼───────────────────┼────┼───────────────────┼────┼───────────────────┼────┼───────────────────┼────┼───────────────────┼────┼───────────────────┼────┼───────────────────┼────┼───────────────────┼────┼───────────────────┼────┼───────────────────┼────┼───────────────────┼────┼───────────────────┼────┼───────────────────┼────┼────────░──────────────────────────────░──╫──╫──╫──╫─\n",
       "              ┌───┐     ░        │    │                   │    │                   │    │                   │    │                   │    │                   │    │                   │    │                   │    │                   │    │                   │    │                   │    │                   │    │                   │    │                   │    │                   │    │                   │    │            ┌───┐               └───┘       │    │         │         │         │       └───┘               ┌───┐            │    │                   │    │                   │    │                   │    │                   │    │                   │    │                   │    │                   │    │                   │    │                   │    │                   │    │                   │    │                   │    │                   │    │                   │    │                   │    │        ░                              ░  ║  ║  ║  ║ \n",
       "     t_10: ───┤ X ├─────░────────┼────┼───────────────────┼────┼───────────────────┼────┼───────────────────┼────┼───────────────────┼────┼───────────────────┼────┼───────────────────┼────┼───────────────────┼────┼───────────────────┼────┼───────────────────┼────┼───────────────────┼────┼───────────────────┼────┼───────────────────┼────┼───────────────────┼────┼───────────────────┼────┼───────────────────┼────┼─────────■──┤ X ├──■────────────────────────┼────┼─────────┼─────────┼─────────┼────────────────────────■──┤ X ├──■─────────┼────┼───────────────────┼────┼───────────────────┼────┼───────────────────┼────┼───────────────────┼────┼───────────────────┼────┼───────────────────┼────┼───────────────────┼────┼───────────────────┼────┼───────────────────┼────┼───────────────────┼────┼───────────────────┼────┼───────────────────┼────┼───────────────────┼────┼───────────────────┼────┼───────────────────┼────┼────────░──────────────────────────────░──╫──╫──╫──╫─\n",
       "              └───┘     ░        │  ┌─┴─┐                 │  ┌─┴─┐                 │  ┌─┴─┐                 │  ┌─┴─┐                 │  ┌─┴─┐                 │  ┌─┴─┐                 │  ┌─┴─┐                 │  ┌─┴─┐                 │  ┌─┴─┐                 │  ┌─┴─┐                 │  ┌─┴─┐                 │  ┌─┴─┐                 │  ┌─┴─┐                 │  ┌─┴─┐                 │  ┌─┴─┐                 │  ┌─┴─┐┌───┐  │  ├───┤  │                        │    │         │         │         │                        │  ├───┤  │  ┌───┐┌─┴─┐  │                 ┌─┴─┐  │                 ┌─┴─┐  │                 ┌─┴─┐  │                 ┌─┴─┐  │                 ┌─┴─┐  │                 ┌─┴─┐  │                 ┌─┴─┐  │                 ┌─┴─┐  │                 ┌─┴─┐  │                 ┌─┴─┐  │                 ┌─┴─┐  │                 ┌─┴─┐  │                 ┌─┴─┐  │                 ┌─┴─┐  │                 ┌─┴─┐  │        ░                              ░  ║  ║  ║  ║ \n",
       "     t_11: ─────────────░────────┼──┤ X ├─────────────────┼──┤ X ├─────────────────┼──┤ X ├─────────────────┼──┤ X ├─────────────────┼──┤ X ├─────────────────┼──┤ X ├─────────────────┼──┤ X ├─────────────────┼──┤ X ├─────────────────┼──┤ X ├─────────────────┼──┤ X ├─────────────────┼──┤ X ├─────────────────┼──┤ X ├─────────────────┼──┤ X ├─────────────────┼──┤ X ├─────────────────┼──┤ X ├─────────────────┼──┤ X ├┤ X ├──■──┤ X ├──■────────────────────────┼────┼─────────┼─────────┼─────────┼────────────────────────■──┤ X ├──■──┤ X ├┤ X ├──┼─────────────────┤ X ├──┼─────────────────┤ X ├──┼─────────────────┤ X ├──┼─────────────────┤ X ├──┼─────────────────┤ X ├──┼─────────────────┤ X ├──┼─────────────────┤ X ├──┼─────────────────┤ X ├──┼─────────────────┤ X ├──┼─────────────────┤ X ├──┼─────────────────┤ X ├──┼─────────────────┤ X ├──┼─────────────────┤ X ├──┼─────────────────┤ X ├──┼─────────────────┤ X ├──┼────────░──────────────────────────────░──╫──╫──╫──╫─\n",
       "                        ░        │  └───┘                 │  └───┘                 │  └───┘                 │  └───┘                 │  └───┘                 │  └───┘                 │  └───┘                 │  └───┘                 │  └───┘                 │  └───┘                 │  └───┘                 │  └───┘                 │  └───┘                 │  └───┘                 │  └───┘                 │  └───┘└───┘┌─┴─┐├───┤  │            ┌───┐┌───┐  │    │         │         │         │  ┌───┐┌───┐     ┌───┐  │  └───┘┌─┴─┐└───┘└───┘  │                 └───┘  │                 └───┘  │                 └───┘  │                 └───┘  │                 └───┘  │                 └───┘  │                 └───┘  │                 └───┘  │                 └───┘  │                 └───┘  │                 └───┘  │                 └───┘  │                 └───┘  │                 └───┘  │                 └───┘  │        ░                              ░  ║  ║  ║  ║ \n",
       "     t_12: ─────────────░────────┼────────────────────────┼────────────────────────┼────────────────────────┼────────────────────────┼────────────────────────┼────────────────────────┼────────────────────────┼────────────────────────┼────────────────────────┼────────────────────────┼────────────────────────┼────────────────────────┼────────────────────────┼────────────────────────┼────────────────────────┼────────────┤ X ├┤ X ├──┼─────────■──┤ X ├┤ X ├──■────┼─────────┼─────────┼─────────■──┤ X ├┤ X ├──■──┤ X ├──┼───────┤ X ├────────────┼────────────────────────┼────────────────────────┼────────────────────────┼────────────────────────┼────────────────────────┼────────────────────────┼────────────────────────┼────────────────────────┼────────────────────────┼────────────────────────┼────────────────────────┼────────────────────────┼────────────────────────┼────────────────────────┼────────────────────────┼────────░──────────────────────────────░──╫──╫──╫──╫─\n",
       "                        ░        │                        │                        │                        │                        │                        │                        │                        │                        │                        │                        │                        │                        │                        │                        │                        │            └───┘└───┘┌─┴─┐┌───┐  │  ├───┤└─┬─┘┌───┐  │         │         │  ┌───┐┌───┐└─┬─┘└───┘  │  ├───┤┌─┴─┐     └───┘            │                        │                        │                        │                        │                        │                        │                        │                        │                        │                        │                        │                        │                        │                        │                        │        ░                              ░  ║  ║  ║  ║ \n",
       "     t_13: ─────────────░────────┼────────────────────────┼────────────────────────┼────────────────────────┼────────────────────────┼────────────────────────┼────────────────────────┼────────────────────────┼────────────────────────┼────────────────────────┼────────────────────────┼────────────────────────┼────────────────────────┼────────────────────────┼────────────────────────┼────────────────────────┼──────────────────────┤ X ├┤ X ├──■──┤ X ├──┼──┤ X ├──■─────────┼─────────■──┤ X ├┤ X ├──┼─────────■──┤ X ├┤ X ├──────────────────────┼────────────────────────┼────────────────────────┼────────────────────────┼────────────────────────┼────────────────────────┼────────────────────────┼────────────────────────┼────────────────────────┼────────────────────────┼────────────────────────┼────────────────────────┼────────────────────────┼────────────────────────┼────────────────────────┼────────────────────────┼────────░──────────────────────────────░──╫──╫──╫──╫─\n",
       "                        ░        │                        │                        │                        │                        │                        │                        │                        │                        │                        │                        │                        │                        │                        │                        │                        │                      └───┘└───┘┌─┴─┐└───┘  │  └─┬─┘            │            └─┬─┘└───┘  │       ┌─┴─┐└───┘└───┘                      │                        │                        │                        │                        │                        │                        │                        │                        │                        │                        │                        │                        │                        │                        │                        │        ░                              ░  ║  ║  ║  ║ \n",
       "     t_14: ─────────────░────────┼────────────────────────┼────────────────────────┼────────────────────────┼────────────────────────┼────────────────────────┼────────────────────────┼────────────────────────┼────────────────────────┼────────────────────────┼────────────────────────┼────────────────────────┼────────────────────────┼────────────────────────┼────────────────────────┼────────────────────────┼────────────────────────────────┤ X ├───────■────■──────────────┼──────────────■─────────■───────┤ X ├────────────────────────────────┼────────────────────────┼────────────────────────┼────────────────────────┼────────────────────────┼────────────────────────┼────────────────────────┼────────────────────────┼────────────────────────┼────────────────────────┼────────────────────────┼────────────────────────┼────────────────────────┼────────────────────────┼────────────────────────┼────────────────────────┼────────░──────────────────────────────░──╫──╫──╫──╫─\n",
       "              ┌───┐     ░        │                        │                        │                        │                        │                        │                        │                        │                        │                        │                        │                        │                        │                        │                        │                        │            ┌───┐               └───┘       │    │              │              │         │  ┌───┐└───┘                                │                        │                        │                        │                        │                        │                        │                        │                        │                        │                        │                        │                        │                        │                        │                        │        ░                              ░  ║  ║  ║  ║ \n",
       "     t_15: ───┤ X ├─────░────────┼────────────────────────┼────────────────────────┼────────────────────────┼────────────────────────┼────────────────────────┼────────────────────────┼────────────────────────┼────────────────────────┼────────────────────────┼────────────────────────┼────────────────────────┼────────────────────────┼────────────────────────┼────────────────────────┼────────────────────────┼─────────■──┤ X ├──■────────────────────────┼────┼──────────────┼──────────────┼────■────┼──┤ X ├──■──────────────────────────────────┼────────────────────────┼────────────────────────┼────────────────────────┼────────────────────────┼────────────────────────┼────────────────────────┼────────────────────────┼────────────────────────┼────────────────────────┼────────────────────────┼────────────────────────┼────────────────────────┼────────────────────────┼────────────────────────┼────────────────────────┼────────░──────────────────────────────░──╫──╫──╫──╫─\n",
       "              └───┘     ░      ┌─┴─┐                    ┌─┴─┐                    ┌─┴─┐                    ┌─┴─┐                    ┌─┴─┐                    ┌─┴─┐                    ┌─┴─┐                    ┌─┴─┐                    ┌─┴─┐                    ┌─┴─┐                    ┌─┴─┐                    ┌─┴─┐                    ┌─┴─┐                    ┌─┴─┐                    ┌─┴─┐                    ┌─┴─┐┌───┐  │  ├───┤  │                        │    │              │              │    │    │  ├───┤  │  ┌───┐                         ┌─┴─┐                    ┌─┴─┐                    ┌─┴─┐                    ┌─┴─┐                    ┌─┴─┐                    ┌─┴─┐                    ┌─┴─┐                    ┌─┴─┐                    ┌─┴─┐                    ┌─┴─┐                    ┌─┴─┐                    ┌─┴─┐                    ┌─┴─┐                    ┌─┴─┐                    ┌─┴─┐                    ┌─┴─┐      ░                              ░  ║  ║  ║  ║ \n",
       "     t_16: ─────────────░──────┤ X ├────────────────────┤ X ├────────────────────┤ X ├────────────────────┤ X ├────────────────────┤ X ├────────────────────┤ X ├────────────────────┤ X ├────────────────────┤ X ├────────────────────┤ X ├────────────────────┤ X ├────────────────────┤ X ├────────────────────┤ X ├────────────────────┤ X ├────────────────────┤ X ├────────────────────┤ X ├────────────────────┤ X ├┤ X ├──■──┤ X ├──■────────────────────────┼────┼──────────────┼──────────────┼────■────┼──┤ X ├──■──┤ X ├─────────────────────────┤ X ├────────────────────┤ X ├────────────────────┤ X ├────────────────────┤ X ├────────────────────┤ X ├────────────────────┤ X ├────────────────────┤ X ├────────────────────┤ X ├────────────────────┤ X ├────────────────────┤ X ├────────────────────┤ X ├────────────────────┤ X ├────────────────────┤ X ├────────────────────┤ X ├────────────────────┤ X ├────────────────────┤ X ├──────░──────────────────────────────░──╫──╫──╫──╫─\n",
       "                        ░      └───┘                    └───┘                    └───┘                    └───┘                    └───┘                    └───┘                    └───┘                    └───┘                    └───┘                    └───┘                    └───┘                    └───┘                    └───┘                    └───┘                    └───┘                    └───┘└───┘┌─┴─┐└───┘  │                        │    │              │              │    │    │  └───┘┌─┴─┐└───┘                         └───┘                    └───┘                    └───┘                    └───┘                    └───┘                    └───┘                    └───┘                    └───┘                    └───┘                    └───┘                    └───┘                    └───┘                    └───┘                    └───┘                    └───┘                    └───┘      ░                              ░  ║  ║  ║  ║ \n",
       "     t_17: ─────────────░───────────────────────────────────────────────────────────────────────────────────────────────────────────────────────────────────────────────────────────────────────────────────────────────────────────────────────────────────────────────────────────────────────────────────────────────────────────────────────────────────────────────────────────────────────────────────────────────────────┤ X ├───────┼────────────────────────■────┼──────────────┼──────────────┼────┼────■───────┤ X ├────────────────────────────────────────────────────────────────────────────────────────────────────────────────────────────────────────────────────────────────────────────────────────────────────────────────────────────────────────────────────────────────────────────────────────────────────────────────────────────────────────────────────────────────────────────────────────────────────────────────────────────────░──────────────────────────────░──╫──╫──╫──╫─\n",
       "                        ░                                                                                                                                                                                                                                                                                                                                                                                                       └───┘     ┌─┴─┐                           │              │              │  ┌─┴─┐          └───┘                                                                                                                                                                                                                                                                                                                                                                                                                                ░                              ░  ║  ║  ║  ║ \n",
       "     t_18: ─────────────░─────────────────────────────────────────────────────────────────────────────────────────────────────────────────────────────────────────────────────────────────────────────────────────────────────────────────────────────────────────────────────────────────────────────────────────────────────────────────────────────────────────────────────────────────────────────────────────────────────────────────┤ X ├───────────────────────────■──────────────┼──────────────■──┤ X ├───────────────────────────────────────────────────────────────────────────────────────────────────────────────────────────────────────────────────────────────────────────────────────────────────────────────────────────────────────────────────────────────────────────────────────────────────────────────────────────────────────────────────────────────────────────────────────────────────────────────────────────────────────────────░──────────────────────────────░──╫──╫──╫──╫─\n",
       "           ┌──────────┐ ░                                                                                                                                                                                                                                                                                                                                                                                                                 └───┘                                        ┌─┴─┐               └───┘                                                                                                                                                                                                                                                                                                                                                                                                                                               ░                              ░  ║  ║  ║  ║ \n",
       "ancilla_0: ┤ U2(π,-π) ├─░──────────────────────────────────────────────────────────────────────────────────────────────────────────────────────────────────────────────────────────────────────────────────────────────────────────────────────────────────────────────────────────────────────────────────────────────────────────────────────────────────────────────────────────────────────────────────────────────────────────────────────────────────────────────────────────────┤ X ├───────────────────────────────────────────────────────────────────────────────────────────────────────────────────────────────────────────────────────────────────────────────────────────────────────────────────────────────────────────────────────────────────────────────────────────────────────────────────────────────────────────────────────────────────────────────────────────────────────────────────────────────────────────────────────────────────░──────────────────────────────░──╫──╫──╫──╫─\n",
       "           └──────────┘ ░                                                                                                                                                                                                                                                                                                                                                                                                                                                              └───┘                                                                                                                                                                                                                                                                                                                                                                                                                                                                   ░                              ░  ║  ║  ║  ║ \n",
       "      c: 4/══════════════════════════════════════════════════════════════════════════════════════════════════════════════════════════════════════════════════════════════════════════════════════════════════════════════════════════════════════════════════════════════════════════════════════════════════════════════════════════════════════════════════════════════════════════════════════════════════════════════════════════════════════════════════════════════════════════════════════════════════════════════════════════════════════════════════════════════════════════════════════════════════════════════════════════════════════════════════════════════════════════════════════════════════════════════════════════════════════════════════════════════════════════════════════════════════════════════════════════════════════════════════════════════════════════════════════════════════════════════════════════════════════════════════════════════════════════════════════╩══╩══╩══╩═\n",
       "                                                                                                                                                                                                                                                                                                                                                                                                                                                                                                                                                                                                                                                                                                                                                                                                                                                                                                                                                                                                 0  1  2  3 </pre>"
      ],
      "text/plain": [
       "global phase: 0\n",
       "              ┌───┐     ░ ┌───┐                    ┌───┐                    ┌───┐                    ┌───┐                    ┌───┐                    ┌───┐                    ┌───┐                    ┌───┐                    ┌───┐                    ┌───┐                    ┌───┐                    ┌───┐                    ┌───┐                    ┌───┐                    ┌───┐                    ┌───┐                                                                                                                                            ┌───┐                    ┌───┐                    ┌───┐                    ┌───┐                    ┌───┐                    ┌───┐                    ┌───┐                    ┌───┐                    ┌───┐                    ┌───┐                    ┌───┐                    ┌───┐                    ┌───┐                    ┌───┐                    ┌───┐                    ┌───┐ ░ ┌─────────┐     ┌──────────┐ ░ ┌─┐         \n",
       "      d_0: ───┤ H ├─────░─┤ X ├──■────■────■────■──┤ X ├──■────■────■────■──┤ X ├──■────■────■────■──┤ X ├──■────■────■────■──┤ X ├──■────■────■────■──┤ X ├──■────■────■────■──┤ X ├──■────■────■────■──┤ X ├──■────■────■────■──┤ X ├──■────■────■────■──┤ X ├──■────■────■────■──┤ X ├──■────■────■────■──┤ X ├──■────■────■────■──┤ X ├──■────■────■────■──┤ X ├──■────■────■────■──┤ X ├──■────■────■────■──┤ X ├──■────■────■────■────────────────────────────────────────────────────────────────────────────────────────────────────────■────■────■────■──┤ X ├──■────■────■────■──┤ X ├──■────■────■────■──┤ X ├──■────■────■────■──┤ X ├──■────■────■────■──┤ X ├──■────■────■────■──┤ X ├──■────■────■────■──┤ X ├──■────■────■────■──┤ X ├──■────■────■────■──┤ X ├──■────■────■────■──┤ X ├──■────■────■────■──┤ X ├──■────■────■────■──┤ X ├──■────■────■────■──┤ X ├──■────■────■────■──┤ X ├──■────■────■────■──┤ X ├──■────■────■────■──┤ X ├─░─┤ U2(0,0) ├──■──┤ U2(π,-π) ├─░─┤M├─────────\n",
       "              ├───┤     ░ ├───┤  │    │    │    │  └───┘  │    │    │    │  ├───┤  │    │    │    │  └───┘  │    │    │    │  ├───┤  │    │    │    │  └───┘  │    │    │    │  ├───┤  │    │    │    │  └───┘  │    │    │    │  ├───┤  │    │    │    │  └───┘  │    │    │    │  ├───┤  │    │    │    │  └───┘  │    │    │    │  ├───┤  │    │    │    │  └───┘  │    │    │    │  ├───┤  │    │    │    │  └───┘  │    │    │    │                                                                                                        │    │    │    │  └───┘  │    │    │    │  ├───┤  │    │    │    │  └───┘  │    │    │    │  ├───┤  │    │    │    │  └───┘  │    │    │    │  ├───┤  │    │    │    │  └───┘  │    │    │    │  ├───┤  │    │    │    │  └───┘  │    │    │    │  ├───┤  │    │    │    │  └───┘  │    │    │    │  ├───┤  │    │    │    │  └───┘  │    │    │    │  ├───┤  │    │    │    │  └───┘  │    │    │    │  ├───┤ ░ ├─────────┤  │  ├──────────┤ ░ └╥┘┌─┐      \n",
       "      d_1: ───┤ H ├─────░─┤ X ├──■────■────■────■─────────■────■────■────■──┤ X ├──■────■────■────■─────────■────■────■────■──┤ X ├──■────■────■────■─────────■────■────■────■──┤ X ├──■────■────■────■─────────■────■────■────■──┤ X ├──■────■────■────■─────────■────■────■────■──┤ X ├──■────■────■────■─────────■────■────■────■──┤ X ├──■────■────■────■─────────■────■────■────■──┤ X ├──■────■────■────■─────────■────■────■────■────────────────────────────────────────────────────────────────────────────────────────────────────────■────■────■────■─────────■────■────■────■──┤ X ├──■────■────■────■─────────■────■────■────■──┤ X ├──■────■────■────■─────────■────■────■────■──┤ X ├──■────■────■────■─────────■────■────■────■──┤ X ├──■────■────■────■─────────■────■────■────■──┤ X ├──■────■────■────■─────────■────■────■────■──┤ X ├──■────■────■────■─────────■────■────■────■──┤ X ├──■────■────■────■─────────■────■────■────■──┤ X ├─░─┤ U2(0,0) ├──■──┤ U2(π,-π) ├─░──╫─┤M├──────\n",
       "              ├───┤     ░ ├───┤  │    │    │    │         │    │    │    │  └───┘  │    │    │    │         │    │    │    │  ├───┤  │    │    │    │         │    │    │    │  └───┘  │    │    │    │         │    │    │    │  ├───┤  │    │    │    │         │    │    │    │  └───┘  │    │    │    │         │    │    │    │  ├───┤  │    │    │    │         │    │    │    │  └───┘  │    │    │    │         │    │    │    │                                                                                                        │    │    │    │         │    │    │    │  └───┘  │    │    │    │         │    │    │    │  ├───┤  │    │    │    │         │    │    │    │  └───┘  │    │    │    │         │    │    │    │  ├───┤  │    │    │    │         │    │    │    │  └───┘  │    │    │    │         │    │    │    │  ├───┤  │    │    │    │         │    │    │    │  └───┘  │    │    │    │         │    │    │    │  ├───┤ ░ ├─────────┤  │  ├──────────┤ ░  ║ └╥┘┌─┐   \n",
       "      d_2: ───┤ H ├─────░─┤ X ├──■────■────■────■─────────■────■────■────■─────────■────■────■────■─────────■────■────■────■──┤ X ├──■────■────■────■─────────■────■────■────■─────────■────■────■────■─────────■────■────■────■──┤ X ├──■────■────■────■─────────■────■────■────■─────────■────■────■────■─────────■────■────■────■──┤ X ├──■────■────■────■─────────■────■────■────■─────────■────■────■────■─────────■────■────■────■────────────────────────────────────────────────────────────────────────────────────────────────────────■────■────■────■─────────■────■────■────■─────────■────■────■────■─────────■────■────■────■──┤ X ├──■────■────■────■─────────■────■────■────■─────────■────■────■────■─────────■────■────■────■──┤ X ├──■────■────■────■─────────■────■────■────■─────────■────■────■────■─────────■────■────■────■──┤ X ├──■────■────■────■─────────■────■────■────■─────────■────■────■────■─────────■────■────■────■──┤ X ├─░─┤ U2(0,0) ├──■──┤ U2(π,-π) ├─░──╫──╫─┤M├───\n",
       "              ├───┤     ░ ├───┤  │    │    │    │         │    │    │    │         │    │    │    │         │    │    │    │  └───┘  │    │    │    │         │    │    │    │         │    │    │    │         │    │    │    │  ├───┤  │    │    │    │         │    │    │    │         │    │    │    │         │    │    │    │  └───┘  │    │    │    │         │    │    │    │         │    │    │    │         │    │    │    │                                                                                                        │    │    │    │         │    │    │    │         │    │    │    │         │    │    │    │  └───┘  │    │    │    │         │    │    │    │         │    │    │    │         │    │    │    │  ├───┤  │    │    │    │         │    │    │    │         │    │    │    │         │    │    │    │  └───┘  │    │    │    │         │    │    │    │         │    │    │    │         │    │    │    │  ├───┤ ░ └┬───────┬┘┌─┴─┐└┬───────┬─┘ ░  ║  ║ └╥┘┌─┐\n",
       "      d_3: ───┤ H ├─────░─┤ X ├──■────■────■────■─────────■────■────■────■─────────■────■────■────■─────────■────■────■────■─────────■────■────■────■─────────■────■────■────■─────────■────■────■────■─────────■────■────■────■──┤ X ├──■────■────■────■─────────■────■────■────■─────────■────■────■────■─────────■────■────■────■─────────■────■────■────■─────────■────■────■────■─────────■────■────■────■─────────■────■────■────■────────────────────────────────────────────────────────────────────────────────────────────────────────■────■────■────■─────────■────■────■────■─────────■────■────■────■─────────■────■────■────■─────────■────■────■────■─────────■────■────■────■─────────■────■────■────■─────────■────■────■────■──┤ X ├──■────■────■────■─────────■────■────■────■─────────■────■────■────■─────────■────■────■────■─────────■────■────■────■─────────■────■────■────■─────────■────■────■────■─────────■────■────■────■──┤ X ├─░──┤ U1(π) ├─┤ X ├─┤ U1(π) ├───░──╫──╫──╫─┤M├\n",
       "              ├───┤     ░ └───┘  │    │    │    │         │    │    │    │         │    │    │    │         │    │    │    │         │    │    │    │         │    │    │    │         │    │    │    │         │    │    │    │  └───┘  │    │    │    │         │    │    │    │         │    │    │    │         │    │    │    │         │    │    │    │         │    │    │    │         │    │    │    │         │    │    │    │            ┌───┐                                                                      ┌───┐            │    │    │    │         │    │    │    │         │    │    │    │         │    │    │    │         │    │    │    │         │    │    │    │         │    │    │    │         │    │    │    │  └───┘  │    │    │    │         │    │    │    │         │    │    │    │         │    │    │    │         │    │    │    │         │    │    │    │         │    │    │    │         │    │    │    │  └───┘ ░  └───────┘ └───┘ └───────┘   ░  ║  ║  ║ └╥┘\n",
       "      t_0: ───┤ X ├─────░────────┼────┼────┼────┼─────────┼────┼────┼────┼─────────┼────┼────┼────┼─────────┼────┼────┼────┼─────────┼────┼────┼────┼─────────┼────┼────┼────┼─────────┼────┼────┼────┼─────────┼────┼────┼────┼─────────┼────┼────┼────┼─────────┼────┼────┼────┼─────────┼────┼────┼────┼─────────┼────┼────┼────┼─────────┼────┼────┼────┼─────────┼────┼────┼────┼─────────┼────┼────┼────┼─────────┼────┼────┼────┼─────────■──┤ X ├──■────────────────────────────────────────────────────────────────■──┤ X ├──■─────────┼────┼────┼────┼─────────┼────┼────┼────┼─────────┼────┼────┼────┼─────────┼────┼────┼────┼─────────┼────┼────┼────┼─────────┼────┼────┼────┼─────────┼────┼────┼────┼─────────┼────┼────┼────┼─────────┼────┼────┼────┼─────────┼────┼────┼────┼─────────┼────┼────┼────┼─────────┼────┼────┼────┼─────────┼────┼────┼────┼─────────┼────┼────┼────┼─────────┼────┼────┼────┼─────────┼────┼────┼────┼────────░──────────────────────────────░──╫──╫──╫──╫─\n",
       "              └───┘     ░        │    │    │  ┌─┴─┐       │    │    │  ┌─┴─┐       │    │    │  ┌─┴─┐       │    │    │  ┌─┴─┐       │    │    │  ┌─┴─┐       │    │    │  ┌─┴─┐       │    │    │  ┌─┴─┐       │    │    │  ┌─┴─┐       │    │    │  ┌─┴─┐       │    │    │  ┌─┴─┐       │    │    │  ┌─┴─┐       │    │    │  ┌─┴─┐       │    │    │  ┌─┴─┐       │    │    │  ┌─┴─┐       │    │    │  ┌─┴─┐       │    │    │  ┌─┴─┐┌───┐  │  ├───┤  │                                                                │  ├───┤  │  ┌───┐┌─┴─┐  │    │    │       ┌─┴─┐  │    │    │       ┌─┴─┐  │    │    │       ┌─┴─┐  │    │    │       ┌─┴─┐  │    │    │       ┌─┴─┐  │    │    │       ┌─┴─┐  │    │    │       ┌─┴─┐  │    │    │       ┌─┴─┐  │    │    │       ┌─┴─┐  │    │    │       ┌─┴─┐  │    │    │       ┌─┴─┐  │    │    │       ┌─┴─┐  │    │    │       ┌─┴─┐  │    │    │       ┌─┴─┐  │    │    │       ┌─┴─┐  │    │    │        ░                              ░  ║  ║  ║  ║ \n",
       "      t_1: ─────────────░────────┼────┼────┼──┤ X ├───────┼────┼────┼──┤ X ├───────┼────┼────┼──┤ X ├───────┼────┼────┼──┤ X ├───────┼────┼────┼──┤ X ├───────┼────┼────┼──┤ X ├───────┼────┼────┼──┤ X ├───────┼────┼────┼──┤ X ├───────┼────┼────┼──┤ X ├───────┼────┼────┼──┤ X ├───────┼────┼────┼──┤ X ├───────┼────┼────┼──┤ X ├───────┼────┼────┼──┤ X ├───────┼────┼────┼──┤ X ├───────┼────┼────┼──┤ X ├───────┼────┼────┼──┤ X ├┤ X ├──■──┤ X ├──■────────────────────────────────────────────────────────────────■──┤ X ├──■──┤ X ├┤ X ├──┼────┼────┼───────┤ X ├──┼────┼────┼───────┤ X ├──┼────┼────┼───────┤ X ├──┼────┼────┼───────┤ X ├──┼────┼────┼───────┤ X ├──┼────┼────┼───────┤ X ├──┼────┼────┼───────┤ X ├──┼────┼────┼───────┤ X ├──┼────┼────┼───────┤ X ├──┼────┼────┼───────┤ X ├──┼────┼────┼───────┤ X ├──┼────┼────┼───────┤ X ├──┼────┼────┼───────┤ X ├──┼────┼────┼───────┤ X ├──┼────┼────┼───────┤ X ├──┼────┼────┼────────░──────────────────────────────░──╫──╫──╫──╫─\n",
       "                        ░        │    │    │  └───┘       │    │    │  └───┘       │    │    │  └───┘       │    │    │  └───┘       │    │    │  └───┘       │    │    │  └───┘       │    │    │  └───┘       │    │    │  └───┘       │    │    │  └───┘       │    │    │  └───┘       │    │    │  └───┘       │    │    │  └───┘       │    │    │  └───┘       │    │    │  └───┘       │    │    │  └───┘       │    │    │  └───┘└───┘┌─┴─┐├───┤  │            ┌───┐┌───┐                    ┌───┐┌───┐     ┌───┐  │  └───┘┌─┴─┐└───┘└───┘  │    │    │       └───┘  │    │    │       └───┘  │    │    │       └───┘  │    │    │       └───┘  │    │    │       └───┘  │    │    │       └───┘  │    │    │       └───┘  │    │    │       └───┘  │    │    │       └───┘  │    │    │       └───┘  │    │    │       └───┘  │    │    │       └───┘  │    │    │       └───┘  │    │    │       └───┘  │    │    │       └───┘  │    │    │        ░                              ░  ║  ║  ║  ║ \n",
       "      t_2: ─────────────░────────┼────┼────┼──────────────┼────┼────┼──────────────┼────┼────┼──────────────┼────┼────┼──────────────┼────┼────┼──────────────┼────┼────┼──────────────┼────┼────┼──────────────┼────┼────┼──────────────┼────┼────┼──────────────┼────┼────┼──────────────┼────┼────┼──────────────┼────┼────┼──────────────┼────┼────┼──────────────┼────┼────┼──────────────┼────┼────┼──────────────┼────┼────┼────────────┤ X ├┤ X ├──┼─────────■──┤ X ├┤ X ├────────────────────┤ X ├┤ X ├──■──┤ X ├──┼───────┤ X ├────────────┼────┼────┼──────────────┼────┼────┼──────────────┼────┼────┼──────────────┼────┼────┼──────────────┼────┼────┼──────────────┼────┼────┼──────────────┼────┼────┼──────────────┼────┼────┼──────────────┼────┼────┼──────────────┼────┼────┼──────────────┼────┼────┼──────────────┼────┼────┼──────────────┼────┼────┼──────────────┼────┼────┼──────────────┼────┼────┼──────────────┼────┼────┼────────░──────────────────────────────░──╫──╫──╫──╫─\n",
       "                        ░        │    │    │              │    │    │              │    │    │              │    │    │              │    │    │              │    │    │              │    │    │              │    │    │              │    │    │              │    │    │              │    │    │              │    │    │              │    │    │              │    │    │              │    │    │              │    │    │            └───┘└───┘┌─┴─┐┌───┐  │  ├───┤└─┬─┘┌───┐     ┌───┐┌───┐└─┬─┘└───┘  │  ├───┤┌─┴─┐     └───┘            │    │    │              │    │    │              │    │    │              │    │    │              │    │    │              │    │    │              │    │    │              │    │    │              │    │    │              │    │    │              │    │    │              │    │    │              │    │    │              │    │    │              │    │    │              │    │    │        ░                              ░  ║  ║  ║  ║ \n",
       "      t_3: ─────────────░────────┼────┼────┼──────────────┼────┼────┼──────────────┼────┼────┼──────────────┼────┼────┼──────────────┼────┼────┼──────────────┼────┼────┼──────────────┼────┼────┼──────────────┼────┼────┼──────────────┼────┼────┼──────────────┼────┼────┼──────────────┼────┼────┼──────────────┼────┼────┼──────────────┼────┼────┼──────────────┼────┼────┼──────────────┼────┼────┼──────────────┼────┼────┼──────────────────────┤ X ├┤ X ├──■──┤ X ├──┼──┤ X ├──■──┤ X ├┤ X ├──┼─────────■──┤ X ├┤ X ├──────────────────────┼────┼────┼──────────────┼────┼────┼──────────────┼────┼────┼──────────────┼────┼────┼──────────────┼────┼────┼──────────────┼────┼────┼──────────────┼────┼────┼──────────────┼────┼────┼──────────────┼────┼────┼──────────────┼────┼────┼──────────────┼────┼────┼──────────────┼────┼────┼──────────────┼────┼────┼──────────────┼────┼────┼──────────────┼────┼────┼──────────────┼────┼────┼────────░──────────────────────────────░──╫──╫──╫──╫─\n",
       "                        ░        │    │    │              │    │    │              │    │    │              │    │    │              │    │    │              │    │    │              │    │    │              │    │    │              │    │    │              │    │    │              │    │    │              │    │    │              │    │    │              │    │    │              │    │    │              │    │    │                      └───┘└───┘┌─┴─┐└───┘  │  └─┬─┘  │  └─┬─┘└───┘  │       ┌─┴─┐└───┘└───┘                      │    │    │              │    │    │              │    │    │              │    │    │              │    │    │              │    │    │              │    │    │              │    │    │              │    │    │              │    │    │              │    │    │              │    │    │              │    │    │              │    │    │              │    │    │              │    │    │        ░                              ░  ║  ║  ║  ║ \n",
       "      t_4: ─────────────░────────┼────┼────┼──────────────┼────┼────┼──────────────┼────┼────┼──────────────┼────┼────┼──────────────┼────┼────┼──────────────┼────┼────┼──────────────┼────┼────┼──────────────┼────┼────┼──────────────┼────┼────┼──────────────┼────┼────┼──────────────┼────┼────┼──────────────┼────┼────┼──────────────┼────┼────┼──────────────┼────┼────┼──────────────┼────┼────┼──────────────┼────┼────┼────────────────────────────────┤ X ├───────■────■────┼────■─────────■───────┤ X ├────────────────────────────────┼────┼────┼──────────────┼────┼────┼──────────────┼────┼────┼──────────────┼────┼────┼──────────────┼────┼────┼──────────────┼────┼────┼──────────────┼────┼────┼──────────────┼────┼────┼──────────────┼────┼────┼──────────────┼────┼────┼──────────────┼────┼────┼──────────────┼────┼────┼──────────────┼────┼────┼──────────────┼────┼────┼──────────────┼────┼────┼──────────────┼────┼────┼────────░──────────────────────────────░──╫──╫──╫──╫─\n",
       "              ┌───┐     ░        │    │    │              │    │    │              │    │    │              │    │    │              │    │    │              │    │    │              │    │    │              │    │    │              │    │    │              │    │    │              │    │    │              │    │    │              │    │    │              │    │    │              │    │    │              │    │    │            ┌───┐               └───┘       │    │    │    │         │       └───┘               ┌───┐            │    │    │              │    │    │              │    │    │              │    │    │              │    │    │              │    │    │              │    │    │              │    │    │              │    │    │              │    │    │              │    │    │              │    │    │              │    │    │              │    │    │              │    │    │              │    │    │        ░                              ░  ║  ║  ║  ║ \n",
       "      t_5: ───┤ X ├─────░────────┼────┼────┼──────────────┼────┼────┼──────────────┼────┼────┼──────────────┼────┼────┼──────────────┼────┼────┼──────────────┼────┼────┼──────────────┼────┼────┼──────────────┼────┼────┼──────────────┼────┼────┼──────────────┼────┼────┼──────────────┼────┼────┼──────────────┼────┼────┼──────────────┼────┼────┼──────────────┼────┼────┼──────────────┼────┼────┼──────────────┼────┼────┼─────────■──┤ X ├──■────────────────────────┼────┼────┼────┼─────────┼────────────────────────■──┤ X ├──■─────────┼────┼────┼──────────────┼────┼────┼──────────────┼────┼────┼──────────────┼────┼────┼──────────────┼────┼────┼──────────────┼────┼────┼──────────────┼────┼────┼──────────────┼────┼────┼──────────────┼────┼────┼──────────────┼────┼────┼──────────────┼────┼────┼──────────────┼────┼────┼──────────────┼────┼────┼──────────────┼────┼────┼──────────────┼────┼────┼──────────────┼────┼────┼────────░──────────────────────────────░──╫──╫──╫──╫─\n",
       "              └───┘     ░        │    │  ┌─┴─┐            │    │  ┌─┴─┐            │    │  ┌─┴─┐            │    │  ┌─┴─┐            │    │  ┌─┴─┐            │    │  ┌─┴─┐            │    │  ┌─┴─┐            │    │  ┌─┴─┐            │    │  ┌─┴─┐            │    │  ┌─┴─┐            │    │  ┌─┴─┐            │    │  ┌─┴─┐            │    │  ┌─┴─┐            │    │  ┌─┴─┐            │    │  ┌─┴─┐            │    │  ┌─┴─┐┌───┐  │  ├───┤  │                        │    │    │    │         │                        │  ├───┤  │  ┌───┐┌─┴─┐  │    │            ┌─┴─┐  │    │            ┌─┴─┐  │    │            ┌─┴─┐  │    │            ┌─┴─┐  │    │            ┌─┴─┐  │    │            ┌─┴─┐  │    │            ┌─┴─┐  │    │            ┌─┴─┐  │    │            ┌─┴─┐  │    │            ┌─┴─┐  │    │            ┌─┴─┐  │    │            ┌─┴─┐  │    │            ┌─┴─┐  │    │            ┌─┴─┐  │    │            ┌─┴─┐  │    │        ░                              ░  ║  ║  ║  ║ \n",
       "      t_6: ─────────────░────────┼────┼──┤ X ├────────────┼────┼──┤ X ├────────────┼────┼──┤ X ├────────────┼────┼──┤ X ├────────────┼────┼──┤ X ├────────────┼────┼──┤ X ├────────────┼────┼──┤ X ├────────────┼────┼──┤ X ├────────────┼────┼──┤ X ├────────────┼────┼──┤ X ├────────────┼────┼──┤ X ├────────────┼────┼──┤ X ├────────────┼────┼──┤ X ├────────────┼────┼──┤ X ├────────────┼────┼──┤ X ├────────────┼────┼──┤ X ├┤ X ├──■──┤ X ├──■────────────────────────┼────┼────┼────┼─────────┼────────────────────────■──┤ X ├──■──┤ X ├┤ X ├──┼────┼────────────┤ X ├──┼────┼────────────┤ X ├──┼────┼────────────┤ X ├──┼────┼────────────┤ X ├──┼────┼────────────┤ X ├──┼────┼────────────┤ X ├──┼────┼────────────┤ X ├──┼────┼────────────┤ X ├──┼────┼────────────┤ X ├──┼────┼────────────┤ X ├──┼────┼────────────┤ X ├──┼────┼────────────┤ X ├──┼────┼────────────┤ X ├──┼────┼────────────┤ X ├──┼────┼────────────┤ X ├──┼────┼────────░──────────────────────────────░──╫──╫──╫──╫─\n",
       "                        ░        │    │  └───┘            │    │  └───┘            │    │  └───┘            │    │  └───┘            │    │  └───┘            │    │  └───┘            │    │  └───┘            │    │  └───┘            │    │  └───┘            │    │  └───┘            │    │  └───┘            │    │  └───┘            │    │  └───┘            │    │  └───┘            │    │  └───┘            │    │  └───┘└───┘┌─┴─┐├───┤  │            ┌───┐┌───┐  │    │    │    │         │  ┌───┐┌───┐     ┌───┐  │  └───┘┌─┴─┐└───┘└───┘  │    │            └───┘  │    │            └───┘  │    │            └───┘  │    │            └───┘  │    │            └───┘  │    │            └───┘  │    │            └───┘  │    │            └───┘  │    │            └───┘  │    │            └───┘  │    │            └───┘  │    │            └───┘  │    │            └───┘  │    │            └───┘  │    │            └───┘  │    │        ░                              ░  ║  ║  ║  ║ \n",
       "      t_7: ─────────────░────────┼────┼───────────────────┼────┼───────────────────┼────┼───────────────────┼────┼───────────────────┼────┼───────────────────┼────┼───────────────────┼────┼───────────────────┼────┼───────────────────┼────┼───────────────────┼────┼───────────────────┼────┼───────────────────┼────┼───────────────────┼────┼───────────────────┼────┼───────────────────┼────┼───────────────────┼────┼────────────┤ X ├┤ X ├──┼─────────■──┤ X ├┤ X ├──■────┼────┼────┼─────────■──┤ X ├┤ X ├──■──┤ X ├──┼───────┤ X ├────────────┼────┼───────────────────┼────┼───────────────────┼────┼───────────────────┼────┼───────────────────┼────┼───────────────────┼────┼───────────────────┼────┼───────────────────┼────┼───────────────────┼────┼───────────────────┼────┼───────────────────┼────┼───────────────────┼────┼───────────────────┼────┼───────────────────┼────┼───────────────────┼────┼───────────────────┼────┼────────░──────────────────────────────░──╫──╫──╫──╫─\n",
       "                        ░        │    │                   │    │                   │    │                   │    │                   │    │                   │    │                   │    │                   │    │                   │    │                   │    │                   │    │                   │    │                   │    │                   │    │                   │    │                   │    │            └───┘└───┘┌─┴─┐┌───┐  │  ├───┤└─┬─┘┌───┐  │    │    │  ┌───┐┌───┐└─┬─┘└───┘  │  ├───┤┌─┴─┐     └───┘            │    │                   │    │                   │    │                   │    │                   │    │                   │    │                   │    │                   │    │                   │    │                   │    │                   │    │                   │    │                   │    │                   │    │                   │    │                   │    │        ░                              ░  ║  ║  ║  ║ \n",
       "      t_8: ─────────────░────────┼────┼───────────────────┼────┼───────────────────┼────┼───────────────────┼────┼───────────────────┼────┼───────────────────┼────┼───────────────────┼────┼───────────────────┼────┼───────────────────┼────┼───────────────────┼────┼───────────────────┼────┼───────────────────┼────┼───────────────────┼────┼───────────────────┼────┼───────────────────┼────┼───────────────────┼────┼──────────────────────┤ X ├┤ X ├──■──┤ X ├──┼──┤ X ├──■────┼────■──┤ X ├┤ X ├──┼─────────■──┤ X ├┤ X ├──────────────────────┼────┼───────────────────┼────┼───────────────────┼────┼───────────────────┼────┼───────────────────┼────┼───────────────────┼────┼───────────────────┼────┼───────────────────┼────┼───────────────────┼────┼───────────────────┼────┼───────────────────┼────┼───────────────────┼────┼───────────────────┼────┼───────────────────┼────┼───────────────────┼────┼───────────────────┼────┼────────░──────────────────────────────░──╫──╫──╫──╫─\n",
       "                        ░        │    │                   │    │                   │    │                   │    │                   │    │                   │    │                   │    │                   │    │                   │    │                   │    │                   │    │                   │    │                   │    │                   │    │                   │    │                   │    │                      └───┘└───┘┌─┴─┐└───┘  │  └─┬─┘       │       └─┬─┘└───┘  │       ┌─┴─┐└───┘└───┘                      │    │                   │    │                   │    │                   │    │                   │    │                   │    │                   │    │                   │    │                   │    │                   │    │                   │    │                   │    │                   │    │                   │    │                   │    │                   │    │        ░                              ░  ║  ║  ║  ║ \n",
       "      t_9: ─────────────░────────┼────┼───────────────────┼────┼───────────────────┼────┼───────────────────┼────┼───────────────────┼────┼───────────────────┼────┼───────────────────┼────┼───────────────────┼────┼───────────────────┼────┼───────────────────┼────┼───────────────────┼────┼───────────────────┼────┼───────────────────┼────┼───────────────────┼────┼───────────────────┼────┼───────────────────┼────┼────────────────────────────────┤ X ├───────■────■─────────┼─────────■─────────■───────┤ X ├────────────────────────────────┼────┼───────────────────┼────┼───────────────────┼────┼───────────────────┼────┼───────────────────┼────┼───────────────────┼────┼───────────────────┼────┼───────────────────┼────┼───────────────────┼────┼───────────────────┼────┼───────────────────┼────┼───────────────────┼────┼───────────────────┼────┼───────────────────┼────┼───────────────────┼────┼───────────────────┼────┼────────░──────────────────────────────░──╫──╫──╫──╫─\n",
       "              ┌───┐     ░        │    │                   │    │                   │    │                   │    │                   │    │                   │    │                   │    │                   │    │                   │    │                   │    │                   │    │                   │    │                   │    │                   │    │                   │    │                   │    │            ┌───┐               └───┘       │    │         │         │         │       └───┘               ┌───┐            │    │                   │    │                   │    │                   │    │                   │    │                   │    │                   │    │                   │    │                   │    │                   │    │                   │    │                   │    │                   │    │                   │    │                   │    │                   │    │        ░                              ░  ║  ║  ║  ║ \n",
       "     t_10: ───┤ X ├─────░────────┼────┼───────────────────┼────┼───────────────────┼────┼───────────────────┼────┼───────────────────┼────┼───────────────────┼────┼───────────────────┼────┼───────────────────┼────┼───────────────────┼────┼───────────────────┼────┼───────────────────┼────┼───────────────────┼────┼───────────────────┼────┼───────────────────┼────┼───────────────────┼────┼───────────────────┼────┼─────────■──┤ X ├──■────────────────────────┼────┼─────────┼─────────┼─────────┼────────────────────────■──┤ X ├──■─────────┼────┼───────────────────┼────┼───────────────────┼────┼───────────────────┼────┼───────────────────┼────┼───────────────────┼────┼───────────────────┼────┼───────────────────┼────┼───────────────────┼────┼───────────────────┼────┼───────────────────┼────┼───────────────────┼────┼───────────────────┼────┼───────────────────┼────┼───────────────────┼────┼───────────────────┼────┼────────░──────────────────────────────░──╫──╫──╫──╫─\n",
       "              └───┘     ░        │  ┌─┴─┐                 │  ┌─┴─┐                 │  ┌─┴─┐                 │  ┌─┴─┐                 │  ┌─┴─┐                 │  ┌─┴─┐                 │  ┌─┴─┐                 │  ┌─┴─┐                 │  ┌─┴─┐                 │  ┌─┴─┐                 │  ┌─┴─┐                 │  ┌─┴─┐                 │  ┌─┴─┐                 │  ┌─┴─┐                 │  ┌─┴─┐                 │  ┌─┴─┐┌───┐  │  ├───┤  │                        │    │         │         │         │                        │  ├───┤  │  ┌───┐┌─┴─┐  │                 ┌─┴─┐  │                 ┌─┴─┐  │                 ┌─┴─┐  │                 ┌─┴─┐  │                 ┌─┴─┐  │                 ┌─┴─┐  │                 ┌─┴─┐  │                 ┌─┴─┐  │                 ┌─┴─┐  │                 ┌─┴─┐  │                 ┌─┴─┐  │                 ┌─┴─┐  │                 ┌─┴─┐  │                 ┌─┴─┐  │                 ┌─┴─┐  │        ░                              ░  ║  ║  ║  ║ \n",
       "     t_11: ─────────────░────────┼──┤ X ├─────────────────┼──┤ X ├─────────────────┼──┤ X ├─────────────────┼──┤ X ├─────────────────┼──┤ X ├─────────────────┼──┤ X ├─────────────────┼──┤ X ├─────────────────┼──┤ X ├─────────────────┼──┤ X ├─────────────────┼──┤ X ├─────────────────┼──┤ X ├─────────────────┼──┤ X ├─────────────────┼──┤ X ├─────────────────┼──┤ X ├─────────────────┼──┤ X ├─────────────────┼──┤ X ├┤ X ├──■──┤ X ├──■────────────────────────┼────┼─────────┼─────────┼─────────┼────────────────────────■──┤ X ├──■──┤ X ├┤ X ├──┼─────────────────┤ X ├──┼─────────────────┤ X ├──┼─────────────────┤ X ├──┼─────────────────┤ X ├──┼─────────────────┤ X ├──┼─────────────────┤ X ├──┼─────────────────┤ X ├──┼─────────────────┤ X ├──┼─────────────────┤ X ├──┼─────────────────┤ X ├──┼─────────────────┤ X ├──┼─────────────────┤ X ├──┼─────────────────┤ X ├──┼─────────────────┤ X ├──┼─────────────────┤ X ├──┼────────░──────────────────────────────░──╫──╫──╫──╫─\n",
       "                        ░        │  └───┘                 │  └───┘                 │  └───┘                 │  └───┘                 │  └───┘                 │  └───┘                 │  └───┘                 │  └───┘                 │  └───┘                 │  └───┘                 │  └───┘                 │  └───┘                 │  └───┘                 │  └───┘                 │  └───┘                 │  └───┘└───┘┌─┴─┐├───┤  │            ┌───┐┌───┐  │    │         │         │         │  ┌───┐┌───┐     ┌───┐  │  └───┘┌─┴─┐└───┘└───┘  │                 └───┘  │                 └───┘  │                 └───┘  │                 └───┘  │                 └───┘  │                 └───┘  │                 └───┘  │                 └───┘  │                 └───┘  │                 └───┘  │                 └───┘  │                 └───┘  │                 └───┘  │                 └───┘  │                 └───┘  │        ░                              ░  ║  ║  ║  ║ \n",
       "     t_12: ─────────────░────────┼────────────────────────┼────────────────────────┼────────────────────────┼────────────────────────┼────────────────────────┼────────────────────────┼────────────────────────┼────────────────────────┼────────────────────────┼────────────────────────┼────────────────────────┼────────────────────────┼────────────────────────┼────────────────────────┼────────────────────────┼────────────┤ X ├┤ X ├──┼─────────■──┤ X ├┤ X ├──■────┼─────────┼─────────┼─────────■──┤ X ├┤ X ├──■──┤ X ├──┼───────┤ X ├────────────┼────────────────────────┼────────────────────────┼────────────────────────┼────────────────────────┼────────────────────────┼────────────────────────┼────────────────────────┼────────────────────────┼────────────────────────┼────────────────────────┼────────────────────────┼────────────────────────┼────────────────────────┼────────────────────────┼────────────────────────┼────────░──────────────────────────────░──╫──╫──╫──╫─\n",
       "                        ░        │                        │                        │                        │                        │                        │                        │                        │                        │                        │                        │                        │                        │                        │                        │                        │            └───┘└───┘┌─┴─┐┌───┐  │  ├───┤└─┬─┘┌───┐  │         │         │  ┌───┐┌───┐└─┬─┘└───┘  │  ├───┤┌─┴─┐     └───┘            │                        │                        │                        │                        │                        │                        │                        │                        │                        │                        │                        │                        │                        │                        │                        │        ░                              ░  ║  ║  ║  ║ \n",
       "     t_13: ─────────────░────────┼────────────────────────┼────────────────────────┼────────────────────────┼────────────────────────┼────────────────────────┼────────────────────────┼────────────────────────┼────────────────────────┼────────────────────────┼────────────────────────┼────────────────────────┼────────────────────────┼────────────────────────┼────────────────────────┼────────────────────────┼──────────────────────┤ X ├┤ X ├──■──┤ X ├──┼──┤ X ├──■─────────┼─────────■──┤ X ├┤ X ├──┼─────────■──┤ X ├┤ X ├──────────────────────┼────────────────────────┼────────────────────────┼────────────────────────┼────────────────────────┼────────────────────────┼────────────────────────┼────────────────────────┼────────────────────────┼────────────────────────┼────────────────────────┼────────────────────────┼────────────────────────┼────────────────────────┼────────────────────────┼────────────────────────┼────────░──────────────────────────────░──╫──╫──╫──╫─\n",
       "                        ░        │                        │                        │                        │                        │                        │                        │                        │                        │                        │                        │                        │                        │                        │                        │                        │                      └───┘└───┘┌─┴─┐└───┘  │  └─┬─┘            │            └─┬─┘└───┘  │       ┌─┴─┐└───┘└───┘                      │                        │                        │                        │                        │                        │                        │                        │                        │                        │                        │                        │                        │                        │                        │                        │        ░                              ░  ║  ║  ║  ║ \n",
       "     t_14: ─────────────░────────┼────────────────────────┼────────────────────────┼────────────────────────┼────────────────────────┼────────────────────────┼────────────────────────┼────────────────────────┼────────────────────────┼────────────────────────┼────────────────────────┼────────────────────────┼────────────────────────┼────────────────────────┼────────────────────────┼────────────────────────┼────────────────────────────────┤ X ├───────■────■──────────────┼──────────────■─────────■───────┤ X ├────────────────────────────────┼────────────────────────┼────────────────────────┼────────────────────────┼────────────────────────┼────────────────────────┼────────────────────────┼────────────────────────┼────────────────────────┼────────────────────────┼────────────────────────┼────────────────────────┼────────────────────────┼────────────────────────┼────────────────────────┼────────────────────────┼────────░──────────────────────────────░──╫──╫──╫──╫─\n",
       "              ┌───┐     ░        │                        │                        │                        │                        │                        │                        │                        │                        │                        │                        │                        │                        │                        │                        │                        │            ┌───┐               └───┘       │    │              │              │         │  ┌───┐└───┘                                │                        │                        │                        │                        │                        │                        │                        │                        │                        │                        │                        │                        │                        │                        │                        │        ░                              ░  ║  ║  ║  ║ \n",
       "     t_15: ───┤ X ├─────░────────┼────────────────────────┼────────────────────────┼────────────────────────┼────────────────────────┼────────────────────────┼────────────────────────┼────────────────────────┼────────────────────────┼────────────────────────┼────────────────────────┼────────────────────────┼────────────────────────┼────────────────────────┼────────────────────────┼────────────────────────┼─────────■──┤ X ├──■────────────────────────┼────┼──────────────┼──────────────┼────■────┼──┤ X ├──■──────────────────────────────────┼────────────────────────┼────────────────────────┼────────────────────────┼────────────────────────┼────────────────────────┼────────────────────────┼────────────────────────┼────────────────────────┼────────────────────────┼────────────────────────┼────────────────────────┼────────────────────────┼────────────────────────┼────────────────────────┼────────────────────────┼────────░──────────────────────────────░──╫──╫──╫──╫─\n",
       "              └───┘     ░      ┌─┴─┐                    ┌─┴─┐                    ┌─┴─┐                    ┌─┴─┐                    ┌─┴─┐                    ┌─┴─┐                    ┌─┴─┐                    ┌─┴─┐                    ┌─┴─┐                    ┌─┴─┐                    ┌─┴─┐                    ┌─┴─┐                    ┌─┴─┐                    ┌─┴─┐                    ┌─┴─┐                    ┌─┴─┐┌───┐  │  ├───┤  │                        │    │              │              │    │    │  ├───┤  │  ┌───┐                         ┌─┴─┐                    ┌─┴─┐                    ┌─┴─┐                    ┌─┴─┐                    ┌─┴─┐                    ┌─┴─┐                    ┌─┴─┐                    ┌─┴─┐                    ┌─┴─┐                    ┌─┴─┐                    ┌─┴─┐                    ┌─┴─┐                    ┌─┴─┐                    ┌─┴─┐                    ┌─┴─┐                    ┌─┴─┐      ░                              ░  ║  ║  ║  ║ \n",
       "     t_16: ─────────────░──────┤ X ├────────────────────┤ X ├────────────────────┤ X ├────────────────────┤ X ├────────────────────┤ X ├────────────────────┤ X ├────────────────────┤ X ├────────────────────┤ X ├────────────────────┤ X ├────────────────────┤ X ├────────────────────┤ X ├────────────────────┤ X ├────────────────────┤ X ├────────────────────┤ X ├────────────────────┤ X ├────────────────────┤ X ├┤ X ├──■──┤ X ├──■────────────────────────┼────┼──────────────┼──────────────┼────■────┼──┤ X ├──■──┤ X ├─────────────────────────┤ X ├────────────────────┤ X ├────────────────────┤ X ├────────────────────┤ X ├────────────────────┤ X ├────────────────────┤ X ├────────────────────┤ X ├────────────────────┤ X ├────────────────────┤ X ├────────────────────┤ X ├────────────────────┤ X ├────────────────────┤ X ├────────────────────┤ X ├────────────────────┤ X ├────────────────────┤ X ├────────────────────┤ X ├──────░──────────────────────────────░──╫──╫──╫──╫─\n",
       "                        ░      └───┘                    └───┘                    └───┘                    └───┘                    └───┘                    └───┘                    └───┘                    └───┘                    └───┘                    └───┘                    └───┘                    └───┘                    └───┘                    └───┘                    └───┘                    └───┘└───┘┌─┴─┐└───┘  │                        │    │              │              │    │    │  └───┘┌─┴─┐└───┘                         └───┘                    └───┘                    └───┘                    └───┘                    └───┘                    └───┘                    └───┘                    └───┘                    └───┘                    └───┘                    └───┘                    └───┘                    └───┘                    └───┘                    └───┘                    └───┘      ░                              ░  ║  ║  ║  ║ \n",
       "     t_17: ─────────────░───────────────────────────────────────────────────────────────────────────────────────────────────────────────────────────────────────────────────────────────────────────────────────────────────────────────────────────────────────────────────────────────────────────────────────────────────────────────────────────────────────────────────────────────────────────────────────────────────────┤ X ├───────┼────────────────────────■────┼──────────────┼──────────────┼────┼────■───────┤ X ├────────────────────────────────────────────────────────────────────────────────────────────────────────────────────────────────────────────────────────────────────────────────────────────────────────────────────────────────────────────────────────────────────────────────────────────────────────────────────────────────────────────────────────────────────────────────────────────────────────────────────────────────░──────────────────────────────░──╫──╫──╫──╫─\n",
       "                        ░                                                                                                                                                                                                                                                                                                                                                                                                       └───┘     ┌─┴─┐                           │              │              │  ┌─┴─┐          └───┘                                                                                                                                                                                                                                                                                                                                                                                                                                ░                              ░  ║  ║  ║  ║ \n",
       "     t_18: ─────────────░─────────────────────────────────────────────────────────────────────────────────────────────────────────────────────────────────────────────────────────────────────────────────────────────────────────────────────────────────────────────────────────────────────────────────────────────────────────────────────────────────────────────────────────────────────────────────────────────────────────────────┤ X ├───────────────────────────■──────────────┼──────────────■──┤ X ├───────────────────────────────────────────────────────────────────────────────────────────────────────────────────────────────────────────────────────────────────────────────────────────────────────────────────────────────────────────────────────────────────────────────────────────────────────────────────────────────────────────────────────────────────────────────────────────────────────────────────────────────────────────────░──────────────────────────────░──╫──╫──╫──╫─\n",
       "           ┌──────────┐ ░                                                                                                                                                                                                                                                                                                                                                                                                                 └───┘                                        ┌─┴─┐               └───┘                                                                                                                                                                                                                                                                                                                                                                                                                                               ░                              ░  ║  ║  ║  ║ \n",
       "ancilla_0: ┤ U2(π,-π) ├─░──────────────────────────────────────────────────────────────────────────────────────────────────────────────────────────────────────────────────────────────────────────────────────────────────────────────────────────────────────────────────────────────────────────────────────────────────────────────────────────────────────────────────────────────────────────────────────────────────────────────────────────────────────────────────────────────┤ X ├───────────────────────────────────────────────────────────────────────────────────────────────────────────────────────────────────────────────────────────────────────────────────────────────────────────────────────────────────────────────────────────────────────────────────────────────────────────────────────────────────────────────────────────────────────────────────────────────────────────────────────────────────────────────────────────────────░──────────────────────────────░──╫──╫──╫──╫─\n",
       "           └──────────┘ ░                                                                                                                                                                                                                                                                                                                                                                                                                                                              └───┘                                                                                                                                                                                                                                                                                                                                                                                                                                                                   ░                              ░  ║  ║  ║  ║ \n",
       "      c: 4/══════════════════════════════════════════════════════════════════════════════════════════════════════════════════════════════════════════════════════════════════════════════════════════════════════════════════════════════════════════════════════════════════════════════════════════════════════════════════════════════════════════════════════════════════════════════════════════════════════════════════════════════════════════════════════════════════════════════════════════════════════════════════════════════════════════════════════════════════════════════════════════════════════════════════════════════════════════════════════════════════════════════════════════════════════════════════════════════════════════════════════════════════════════════════════════════════════════════════════════════════════════════════════════════════════════════════════════════════════════════════════════════════════════════════════════════════════════════════════╩══╩══╩══╩═\n",
       "                                                                                                                                                                                                                                                                                                                                                                                                                                                                                                                                                                                                                                                                                                                                                                                                                                                                                                                                                                                                 0  1  2  3 "
      ]
     },
     "execution_count": 157,
     "metadata": {},
     "output_type": "execute_result"
    }
   ],
   "source": [
    "tr_qc.draw(fold=-1) #can draw the simulated circuit"
   ]
  },
  {
   "cell_type": "markdown",
   "id": "5863cb2f",
   "metadata": {},
   "source": [
    "## Characterising  the circuit"
   ]
  },
  {
   "cell_type": "markdown",
   "id": "ecfab3ba",
   "metadata": {},
   "source": [
    "### Creating the dataset\n",
    "Here we create the benchmark data by looping through all possibilities of value and index range. In this case we loop from $2^2$ to $2^7$ as a value range."
   ]
  },
  {
   "cell_type": "code",
   "execution_count": 171,
   "id": "6cbdaa72",
   "metadata": {
    "ExecuteTime": {
     "end_time": "2021-12-11T13:56:13.991814Z",
     "start_time": "2021-12-11T13:43:25.818321Z"
    },
    "scrolled": false
   },
   "outputs": [],
   "source": [
    "range_qbit = [3, 11]\n",
    "x = [2**x for x in range(range_qbit[0],range_qbit[1])]\n",
    "y = [2**x for x in range(range_qbit[0],range_qbit[1])]\n",
    "\n",
    "plot={\n",
    "    \"q\":[],\n",
    "    \"mcx\":[],\n",
    "    \"cx\":[],\n",
    "    \"x\":[],\n",
    "     }\n",
    "\n",
    "for i in x:\n",
    "    \n",
    "    nb_q = []\n",
    "    nb_mcx = []\n",
    "    nb_cx = []\n",
    "    nb_x = []\n",
    "    \n",
    "    for j in y:\n",
    "        \n",
    "        #make the simulation circuit\n",
    "        tr_qc, dict_out, qbit_out = circ_characteristics([j-1]*i, j-1)\n",
    "        \n",
    "        #number of qbits\n",
    "        nb_q.append(qbit_out)\n",
    "        \n",
    "        #number of mcx\n",
    "        if 'mcx' in dict_out:\n",
    "            nb_mcx.append(dict_out['mcx'])\n",
    "        else:\n",
    "            nb_mcx.append(dict_out['mcx_gray'])\n",
    "            \n",
    "        #number of cx\n",
    "        nb_cx.append(dict_out['cx'])\n",
    "        \n",
    "        #number of x\n",
    "        nb_x.append(dict_out['x'])\n",
    "        \n",
    "    plot[\"q\"].append(nb_q)\n",
    "    plot[\"mcx\"].append(nb_mcx)\n",
    "    plot[\"cx\"].append(nb_cx)\n",
    "    plot[\"x\"].append(nb_x)\n"
   ]
  },
  {
   "cell_type": "markdown",
   "id": "1fe70319",
   "metadata": {},
   "source": [
    "### Plot Using go.Surface()"
   ]
  },
  {
   "cell_type": "code",
   "execution_count": 180,
   "id": "8c32562f",
   "metadata": {
    "ExecuteTime": {
     "end_time": "2021-12-11T14:28:19.041506Z",
     "start_time": "2021-12-11T14:28:17.336956Z"
    }
   },
   "outputs": [
    {
     "data": {
      "application/vnd.plotly.v1+json": {
       "config": {
        "plotlyServerURL": "https://plot.ly"
       },
       "data": [
        {
         "colorbar": {
          "len": 0.5,
          "lenmode": "fraction",
          "thickness": 20,
          "x": -0.2,
          "y": 0.8
         },
         "scene": "scene",
         "type": "surface",
         "uid": "577292ac-93b1-446b-aa93-97b73eaa5dd5",
         "x": [
          2.0794415416798357,
          2.772588722239781,
          3.4657359027997265,
          4.1588830833596715,
          4.852030263919617,
          5.545177444479562,
          6.238324625039508,
          6.931471805599453
         ],
         "y": [
          2.0794415416798357,
          2.772588722239781,
          3.4657359027997265,
          4.1588830833596715,
          4.852030263919617,
          5.545177444479562,
          6.238324625039508,
          6.931471805599453
         ],
         "z": [
          [
           18,
           23,
           28,
           33,
           38,
           43,
           48,
           53
          ],
          [
           19,
           24,
           29,
           34,
           39,
           44,
           49,
           54
          ],
          [
           20,
           25,
           30,
           35,
           40,
           45,
           50,
           55
          ],
          [
           21,
           26,
           31,
           36,
           41,
           46,
           51,
           56
          ],
          [
           22,
           27,
           32,
           37,
           42,
           47,
           52,
           57
          ],
          [
           23,
           28,
           33,
           38,
           43,
           48,
           53,
           58
          ],
          [
           24,
           29,
           34,
           39,
           44,
           49,
           54,
           59
          ],
          [
           25,
           30,
           35,
           40,
           45,
           50,
           55,
           60
          ]
         ]
        },
        {
         "colorbar": {
          "len": 0.5,
          "lenmode": "fraction",
          "thickness": 20,
          "x": 1.1,
          "y": 0.8
         },
         "scene": "scene2",
         "type": "surface",
         "uid": "66c00fa8-753e-404b-a00b-5257d45ad1b0",
         "x": [
          2.0794415416798357,
          2.772588722239781,
          3.4657359027997265,
          4.1588830833596715,
          4.852030263919617,
          5.545177444479562,
          6.238324625039508,
          6.931471805599453
         ],
         "y": [
          2.0794415416798357,
          2.772588722239781,
          3.4657359027997265,
          4.1588830833596715,
          4.852030263919617,
          5.545177444479562,
          6.238324625039508,
          6.931471805599453
         ],
         "z": [
          [
           48,
           64,
           80,
           96,
           112,
           128,
           144,
           160
          ],
          [
           97,
           129,
           161,
           193,
           225,
           257,
           289,
           321
          ],
          [
           1,
           1,
           1,
           1,
           1,
           1,
           1,
           1
          ],
          [
           385,
           513,
           641,
           769,
           897,
           1025,
           1153,
           1281
          ],
          [
           769,
           1025,
           1281,
           1537,
           1793,
           2049,
           2305,
           2561
          ],
          [
           1537,
           2049,
           2561,
           3073,
           3585,
           4097,
           4609,
           5121
          ],
          [
           3073,
           4097,
           5121,
           6145,
           7169,
           8193,
           9217,
           10241
          ],
          [
           6145,
           8193,
           10241,
           12289,
           14337,
           16385,
           18433,
           20481
          ]
         ]
        },
        {
         "colorbar": {
          "len": 0.5,
          "lenmode": "fraction",
          "thickness": 20,
          "x": -0.2,
          "y": 0.22
         },
         "scene": "scene3",
         "type": "surface",
         "uid": "d35620c2-10f1-40a5-986c-1d34a6e53619",
         "x": [
          2.0794415416798357,
          2.772588722239781,
          3.4657359027997265,
          4.1588830833596715,
          4.852030263919617,
          5.545177444479562,
          6.238324625039508,
          6.931471805599453
         ],
         "y": [
          2.0794415416798357,
          2.772588722239781,
          3.4657359027997265,
          4.1588830833596715,
          4.852030263919617,
          5.545177444479562,
          6.238324625039508,
          6.931471805599453
         ],
         "z": [
          [
           1,
           1,
           1,
           1,
           1,
           1,
           1,
           1
          ],
          [
           1,
           1,
           1,
           1,
           1,
           1,
           1,
           1
          ],
          [
           1,
           1,
           1,
           1,
           1,
           1,
           1,
           1
          ],
          [
           1,
           1,
           1,
           1,
           1,
           1,
           1,
           1
          ],
          [
           1,
           1,
           1,
           1,
           1,
           1,
           1,
           1
          ],
          [
           1,
           1,
           1,
           1,
           1,
           1,
           1,
           1
          ],
          [
           1,
           1,
           1,
           1,
           1,
           1,
           1,
           1
          ],
          [
           1,
           1,
           1,
           1,
           1,
           1,
           1,
           1
          ]
         ]
        },
        {
         "colorbar": {
          "len": 0.5,
          "lenmode": "fraction",
          "thickness": 20,
          "x": 1.1,
          "y": 0.22
         },
         "scene": "scene4",
         "type": "surface",
         "uid": "17f92a3c-7d45-4f66-93dd-7275846f4b94",
         "x": [
          2.0794415416798357,
          2.772588722239781,
          3.4657359027997265,
          4.1588830833596715,
          4.852030263919617,
          5.545177444479562,
          6.238324625039508,
          6.931471805599453
         ],
         "y": [
          2.0794415416798357,
          2.772588722239781,
          3.4657359027997265,
          4.1588830833596715,
          4.852030263919617,
          5.545177444479562,
          6.238324625039508,
          6.931471805599453
         ],
         "z": [
          [
           65,
           80,
           95,
           110,
           125,
           140,
           155,
           170
          ],
          [
           97,
           112,
           127,
           142,
           157,
           172,
           187,
           202
          ],
          [
           161,
           176,
           191,
           206,
           221,
           236,
           251,
           266
          ],
          [
           289,
           304,
           319,
           334,
           349,
           364,
           379,
           394
          ],
          [
           545,
           560,
           575,
           590,
           605,
           620,
           635,
           650
          ],
          [
           1057,
           1072,
           1087,
           1102,
           1117,
           1132,
           1147,
           1162
          ],
          [
           2081,
           2096,
           2111,
           2126,
           2141,
           2156,
           2171,
           2186
          ],
          [
           4129,
           4144,
           4159,
           4174,
           4189,
           4204,
           4219,
           4234
          ]
         ]
        }
       ],
       "layout": {
        "annotations": [
         {
          "font": {
           "size": 16
          },
          "showarrow": false,
          "text": "Number of Qbits",
          "x": 0.225,
          "xanchor": "center",
          "xref": "paper",
          "y": 1,
          "yanchor": "bottom",
          "yref": "paper"
         },
         {
          "font": {
           "size": 16
          },
          "showarrow": false,
          "text": "Number of MCX",
          "x": 0.775,
          "xanchor": "center",
          "xref": "paper",
          "y": 1,
          "yanchor": "bottom",
          "yref": "paper"
         },
         {
          "font": {
           "size": 16
          },
          "showarrow": false,
          "text": "Number of CX",
          "x": 0.225,
          "xanchor": "center",
          "xref": "paper",
          "y": 0.375,
          "yanchor": "bottom",
          "yref": "paper"
         },
         {
          "font": {
           "size": 16
          },
          "showarrow": false,
          "text": "Number of X",
          "x": 0.775,
          "xanchor": "center",
          "xref": "paper",
          "y": 0.375,
          "yanchor": "bottom",
          "yref": "paper"
         }
        ],
        "height": 1000,
        "scene": {
         "camera": {
          "eye": {
           "x": -1.6,
           "y": -1.6,
           "z": 0.6
          }
         },
         "domain": {
          "x": [
           0,
           0.45
          ],
          "y": [
           0.625,
           1
          ]
         }
        },
        "scene2": {
         "camera": {
          "eye": {
           "x": -1.6,
           "y": -1.6,
           "z": 0.6
          }
         },
         "domain": {
          "x": [
           0.55,
           1
          ],
          "y": [
           0.625,
           1
          ]
         }
        },
        "scene3": {
         "camera": {
          "eye": {
           "x": -1.6,
           "y": -1.6,
           "z": 0.6
          }
         },
         "domain": {
          "x": [
           0,
           0.45
          ],
          "y": [
           0,
           0.375
          ]
         }
        },
        "scene4": {
         "camera": {
          "eye": {
           "x": -1.6,
           "y": -1.6,
           "z": 0.6
          }
         },
         "domain": {
          "x": [
           0.55,
           1
          ],
          "y": [
           0,
           0.375
          ]
         }
        },
        "template": {
         "data": {
          "bar": [
           {
            "error_x": {
             "color": "#2a3f5f"
            },
            "error_y": {
             "color": "#2a3f5f"
            },
            "marker": {
             "line": {
              "color": "#E5ECF6",
              "width": 0.5
             },
             "pattern": {
              "fillmode": "overlay",
              "size": 10,
              "solidity": 0.2
             }
            },
            "type": "bar"
           }
          ],
          "barpolar": [
           {
            "marker": {
             "line": {
              "color": "#E5ECF6",
              "width": 0.5
             },
             "pattern": {
              "fillmode": "overlay",
              "size": 10,
              "solidity": 0.2
             }
            },
            "type": "barpolar"
           }
          ],
          "carpet": [
           {
            "aaxis": {
             "endlinecolor": "#2a3f5f",
             "gridcolor": "white",
             "linecolor": "white",
             "minorgridcolor": "white",
             "startlinecolor": "#2a3f5f"
            },
            "baxis": {
             "endlinecolor": "#2a3f5f",
             "gridcolor": "white",
             "linecolor": "white",
             "minorgridcolor": "white",
             "startlinecolor": "#2a3f5f"
            },
            "type": "carpet"
           }
          ],
          "choropleth": [
           {
            "colorbar": {
             "outlinewidth": 0,
             "ticks": ""
            },
            "type": "choropleth"
           }
          ],
          "contour": [
           {
            "colorbar": {
             "outlinewidth": 0,
             "ticks": ""
            },
            "colorscale": [
             [
              0,
              "#0d0887"
             ],
             [
              0.1111111111111111,
              "#46039f"
             ],
             [
              0.2222222222222222,
              "#7201a8"
             ],
             [
              0.3333333333333333,
              "#9c179e"
             ],
             [
              0.4444444444444444,
              "#bd3786"
             ],
             [
              0.5555555555555556,
              "#d8576b"
             ],
             [
              0.6666666666666666,
              "#ed7953"
             ],
             [
              0.7777777777777778,
              "#fb9f3a"
             ],
             [
              0.8888888888888888,
              "#fdca26"
             ],
             [
              1,
              "#f0f921"
             ]
            ],
            "type": "contour"
           }
          ],
          "contourcarpet": [
           {
            "colorbar": {
             "outlinewidth": 0,
             "ticks": ""
            },
            "type": "contourcarpet"
           }
          ],
          "heatmap": [
           {
            "colorbar": {
             "outlinewidth": 0,
             "ticks": ""
            },
            "colorscale": [
             [
              0,
              "#0d0887"
             ],
             [
              0.1111111111111111,
              "#46039f"
             ],
             [
              0.2222222222222222,
              "#7201a8"
             ],
             [
              0.3333333333333333,
              "#9c179e"
             ],
             [
              0.4444444444444444,
              "#bd3786"
             ],
             [
              0.5555555555555556,
              "#d8576b"
             ],
             [
              0.6666666666666666,
              "#ed7953"
             ],
             [
              0.7777777777777778,
              "#fb9f3a"
             ],
             [
              0.8888888888888888,
              "#fdca26"
             ],
             [
              1,
              "#f0f921"
             ]
            ],
            "type": "heatmap"
           }
          ],
          "heatmapgl": [
           {
            "colorbar": {
             "outlinewidth": 0,
             "ticks": ""
            },
            "colorscale": [
             [
              0,
              "#0d0887"
             ],
             [
              0.1111111111111111,
              "#46039f"
             ],
             [
              0.2222222222222222,
              "#7201a8"
             ],
             [
              0.3333333333333333,
              "#9c179e"
             ],
             [
              0.4444444444444444,
              "#bd3786"
             ],
             [
              0.5555555555555556,
              "#d8576b"
             ],
             [
              0.6666666666666666,
              "#ed7953"
             ],
             [
              0.7777777777777778,
              "#fb9f3a"
             ],
             [
              0.8888888888888888,
              "#fdca26"
             ],
             [
              1,
              "#f0f921"
             ]
            ],
            "type": "heatmapgl"
           }
          ],
          "histogram": [
           {
            "marker": {
             "pattern": {
              "fillmode": "overlay",
              "size": 10,
              "solidity": 0.2
             }
            },
            "type": "histogram"
           }
          ],
          "histogram2d": [
           {
            "colorbar": {
             "outlinewidth": 0,
             "ticks": ""
            },
            "colorscale": [
             [
              0,
              "#0d0887"
             ],
             [
              0.1111111111111111,
              "#46039f"
             ],
             [
              0.2222222222222222,
              "#7201a8"
             ],
             [
              0.3333333333333333,
              "#9c179e"
             ],
             [
              0.4444444444444444,
              "#bd3786"
             ],
             [
              0.5555555555555556,
              "#d8576b"
             ],
             [
              0.6666666666666666,
              "#ed7953"
             ],
             [
              0.7777777777777778,
              "#fb9f3a"
             ],
             [
              0.8888888888888888,
              "#fdca26"
             ],
             [
              1,
              "#f0f921"
             ]
            ],
            "type": "histogram2d"
           }
          ],
          "histogram2dcontour": [
           {
            "colorbar": {
             "outlinewidth": 0,
             "ticks": ""
            },
            "colorscale": [
             [
              0,
              "#0d0887"
             ],
             [
              0.1111111111111111,
              "#46039f"
             ],
             [
              0.2222222222222222,
              "#7201a8"
             ],
             [
              0.3333333333333333,
              "#9c179e"
             ],
             [
              0.4444444444444444,
              "#bd3786"
             ],
             [
              0.5555555555555556,
              "#d8576b"
             ],
             [
              0.6666666666666666,
              "#ed7953"
             ],
             [
              0.7777777777777778,
              "#fb9f3a"
             ],
             [
              0.8888888888888888,
              "#fdca26"
             ],
             [
              1,
              "#f0f921"
             ]
            ],
            "type": "histogram2dcontour"
           }
          ],
          "mesh3d": [
           {
            "colorbar": {
             "outlinewidth": 0,
             "ticks": ""
            },
            "type": "mesh3d"
           }
          ],
          "parcoords": [
           {
            "line": {
             "colorbar": {
              "outlinewidth": 0,
              "ticks": ""
             }
            },
            "type": "parcoords"
           }
          ],
          "pie": [
           {
            "automargin": true,
            "type": "pie"
           }
          ],
          "scatter": [
           {
            "marker": {
             "colorbar": {
              "outlinewidth": 0,
              "ticks": ""
             }
            },
            "type": "scatter"
           }
          ],
          "scatter3d": [
           {
            "line": {
             "colorbar": {
              "outlinewidth": 0,
              "ticks": ""
             }
            },
            "marker": {
             "colorbar": {
              "outlinewidth": 0,
              "ticks": ""
             }
            },
            "type": "scatter3d"
           }
          ],
          "scattercarpet": [
           {
            "marker": {
             "colorbar": {
              "outlinewidth": 0,
              "ticks": ""
             }
            },
            "type": "scattercarpet"
           }
          ],
          "scattergeo": [
           {
            "marker": {
             "colorbar": {
              "outlinewidth": 0,
              "ticks": ""
             }
            },
            "type": "scattergeo"
           }
          ],
          "scattergl": [
           {
            "marker": {
             "colorbar": {
              "outlinewidth": 0,
              "ticks": ""
             }
            },
            "type": "scattergl"
           }
          ],
          "scattermapbox": [
           {
            "marker": {
             "colorbar": {
              "outlinewidth": 0,
              "ticks": ""
             }
            },
            "type": "scattermapbox"
           }
          ],
          "scatterpolar": [
           {
            "marker": {
             "colorbar": {
              "outlinewidth": 0,
              "ticks": ""
             }
            },
            "type": "scatterpolar"
           }
          ],
          "scatterpolargl": [
           {
            "marker": {
             "colorbar": {
              "outlinewidth": 0,
              "ticks": ""
             }
            },
            "type": "scatterpolargl"
           }
          ],
          "scatterternary": [
           {
            "marker": {
             "colorbar": {
              "outlinewidth": 0,
              "ticks": ""
             }
            },
            "type": "scatterternary"
           }
          ],
          "surface": [
           {
            "colorbar": {
             "outlinewidth": 0,
             "ticks": ""
            },
            "colorscale": [
             [
              0,
              "#0d0887"
             ],
             [
              0.1111111111111111,
              "#46039f"
             ],
             [
              0.2222222222222222,
              "#7201a8"
             ],
             [
              0.3333333333333333,
              "#9c179e"
             ],
             [
              0.4444444444444444,
              "#bd3786"
             ],
             [
              0.5555555555555556,
              "#d8576b"
             ],
             [
              0.6666666666666666,
              "#ed7953"
             ],
             [
              0.7777777777777778,
              "#fb9f3a"
             ],
             [
              0.8888888888888888,
              "#fdca26"
             ],
             [
              1,
              "#f0f921"
             ]
            ],
            "type": "surface"
           }
          ],
          "table": [
           {
            "cells": {
             "fill": {
              "color": "#EBF0F8"
             },
             "line": {
              "color": "white"
             }
            },
            "header": {
             "fill": {
              "color": "#C8D4E3"
             },
             "line": {
              "color": "white"
             }
            },
            "type": "table"
           }
          ]
         },
         "layout": {
          "annotationdefaults": {
           "arrowcolor": "#2a3f5f",
           "arrowhead": 0,
           "arrowwidth": 1
          },
          "autotypenumbers": "strict",
          "coloraxis": {
           "colorbar": {
            "outlinewidth": 0,
            "ticks": ""
           }
          },
          "colorscale": {
           "diverging": [
            [
             0,
             "#8e0152"
            ],
            [
             0.1,
             "#c51b7d"
            ],
            [
             0.2,
             "#de77ae"
            ],
            [
             0.3,
             "#f1b6da"
            ],
            [
             0.4,
             "#fde0ef"
            ],
            [
             0.5,
             "#f7f7f7"
            ],
            [
             0.6,
             "#e6f5d0"
            ],
            [
             0.7,
             "#b8e186"
            ],
            [
             0.8,
             "#7fbc41"
            ],
            [
             0.9,
             "#4d9221"
            ],
            [
             1,
             "#276419"
            ]
           ],
           "sequential": [
            [
             0,
             "#0d0887"
            ],
            [
             0.1111111111111111,
             "#46039f"
            ],
            [
             0.2222222222222222,
             "#7201a8"
            ],
            [
             0.3333333333333333,
             "#9c179e"
            ],
            [
             0.4444444444444444,
             "#bd3786"
            ],
            [
             0.5555555555555556,
             "#d8576b"
            ],
            [
             0.6666666666666666,
             "#ed7953"
            ],
            [
             0.7777777777777778,
             "#fb9f3a"
            ],
            [
             0.8888888888888888,
             "#fdca26"
            ],
            [
             1,
             "#f0f921"
            ]
           ],
           "sequentialminus": [
            [
             0,
             "#0d0887"
            ],
            [
             0.1111111111111111,
             "#46039f"
            ],
            [
             0.2222222222222222,
             "#7201a8"
            ],
            [
             0.3333333333333333,
             "#9c179e"
            ],
            [
             0.4444444444444444,
             "#bd3786"
            ],
            [
             0.5555555555555556,
             "#d8576b"
            ],
            [
             0.6666666666666666,
             "#ed7953"
            ],
            [
             0.7777777777777778,
             "#fb9f3a"
            ],
            [
             0.8888888888888888,
             "#fdca26"
            ],
            [
             1,
             "#f0f921"
            ]
           ]
          },
          "colorway": [
           "#636efa",
           "#EF553B",
           "#00cc96",
           "#ab63fa",
           "#FFA15A",
           "#19d3f3",
           "#FF6692",
           "#B6E880",
           "#FF97FF",
           "#FECB52"
          ],
          "font": {
           "color": "#2a3f5f"
          },
          "geo": {
           "bgcolor": "white",
           "lakecolor": "white",
           "landcolor": "#E5ECF6",
           "showlakes": true,
           "showland": true,
           "subunitcolor": "white"
          },
          "hoverlabel": {
           "align": "left"
          },
          "hovermode": "closest",
          "mapbox": {
           "style": "light"
          },
          "paper_bgcolor": "white",
          "plot_bgcolor": "#E5ECF6",
          "polar": {
           "angularaxis": {
            "gridcolor": "white",
            "linecolor": "white",
            "ticks": ""
           },
           "bgcolor": "#E5ECF6",
           "radialaxis": {
            "gridcolor": "white",
            "linecolor": "white",
            "ticks": ""
           }
          },
          "scene": {
           "xaxis": {
            "backgroundcolor": "#E5ECF6",
            "gridcolor": "white",
            "gridwidth": 2,
            "linecolor": "white",
            "showbackground": true,
            "ticks": "",
            "zerolinecolor": "white"
           },
           "yaxis": {
            "backgroundcolor": "#E5ECF6",
            "gridcolor": "white",
            "gridwidth": 2,
            "linecolor": "white",
            "showbackground": true,
            "ticks": "",
            "zerolinecolor": "white"
           },
           "zaxis": {
            "backgroundcolor": "#E5ECF6",
            "gridcolor": "white",
            "gridwidth": 2,
            "linecolor": "white",
            "showbackground": true,
            "ticks": "",
            "zerolinecolor": "white"
           }
          },
          "shapedefaults": {
           "line": {
            "color": "#2a3f5f"
           }
          },
          "ternary": {
           "aaxis": {
            "gridcolor": "white",
            "linecolor": "white",
            "ticks": ""
           },
           "baxis": {
            "gridcolor": "white",
            "linecolor": "white",
            "ticks": ""
           },
           "bgcolor": "#E5ECF6",
           "caxis": {
            "gridcolor": "white",
            "linecolor": "white",
            "ticks": ""
           }
          },
          "title": {
           "x": 0.05
          },
          "xaxis": {
           "automargin": true,
           "gridcolor": "white",
           "linecolor": "white",
           "ticks": "",
           "title": {
            "standoff": 15
           },
           "zerolinecolor": "white",
           "zerolinewidth": 2
          },
          "yaxis": {
           "automargin": true,
           "gridcolor": "white",
           "linecolor": "white",
           "ticks": "",
           "title": {
            "standoff": 15
           },
           "zerolinecolor": "white",
           "zerolinewidth": 2
          }
         }
        },
        "width": 1000
       }
      },
      "text/html": [
       "<div>                            <div id=\"13b38c53-0682-48e4-a41b-38366ac8b2d1\" class=\"plotly-graph-div\" style=\"height:1000px; width:1000px;\"></div>            <script type=\"text/javascript\">                require([\"plotly\"], function(Plotly) {                    window.PLOTLYENV=window.PLOTLYENV || {};                                    if (document.getElementById(\"13b38c53-0682-48e4-a41b-38366ac8b2d1\")) {                    Plotly.newPlot(                        \"13b38c53-0682-48e4-a41b-38366ac8b2d1\",                        [{\"colorbar\":{\"len\":0.5,\"lenmode\":\"fraction\",\"thickness\":20,\"x\":-0.2,\"y\":0.8},\"scene\":\"scene\",\"type\":\"surface\",\"uid\":\"577292ac-93b1-446b-aa93-97b73eaa5dd5\",\"x\":[2.0794415416798357,2.772588722239781,3.4657359027997265,4.1588830833596715,4.852030263919617,5.545177444479562,6.238324625039508,6.931471805599453],\"y\":[2.0794415416798357,2.772588722239781,3.4657359027997265,4.1588830833596715,4.852030263919617,5.545177444479562,6.238324625039508,6.931471805599453],\"z\":[[18,23,28,33,38,43,48,53],[19,24,29,34,39,44,49,54],[20,25,30,35,40,45,50,55],[21,26,31,36,41,46,51,56],[22,27,32,37,42,47,52,57],[23,28,33,38,43,48,53,58],[24,29,34,39,44,49,54,59],[25,30,35,40,45,50,55,60]]},{\"colorbar\":{\"len\":0.5,\"lenmode\":\"fraction\",\"thickness\":20,\"x\":1.1,\"y\":0.8},\"scene\":\"scene2\",\"type\":\"surface\",\"uid\":\"66c00fa8-753e-404b-a00b-5257d45ad1b0\",\"x\":[2.0794415416798357,2.772588722239781,3.4657359027997265,4.1588830833596715,4.852030263919617,5.545177444479562,6.238324625039508,6.931471805599453],\"y\":[2.0794415416798357,2.772588722239781,3.4657359027997265,4.1588830833596715,4.852030263919617,5.545177444479562,6.238324625039508,6.931471805599453],\"z\":[[48,64,80,96,112,128,144,160],[97,129,161,193,225,257,289,321],[1,1,1,1,1,1,1,1],[385,513,641,769,897,1025,1153,1281],[769,1025,1281,1537,1793,2049,2305,2561],[1537,2049,2561,3073,3585,4097,4609,5121],[3073,4097,5121,6145,7169,8193,9217,10241],[6145,8193,10241,12289,14337,16385,18433,20481]]},{\"colorbar\":{\"len\":0.5,\"lenmode\":\"fraction\",\"thickness\":20,\"x\":-0.2,\"y\":0.22},\"scene\":\"scene3\",\"type\":\"surface\",\"uid\":\"d35620c2-10f1-40a5-986c-1d34a6e53619\",\"x\":[2.0794415416798357,2.772588722239781,3.4657359027997265,4.1588830833596715,4.852030263919617,5.545177444479562,6.238324625039508,6.931471805599453],\"y\":[2.0794415416798357,2.772588722239781,3.4657359027997265,4.1588830833596715,4.852030263919617,5.545177444479562,6.238324625039508,6.931471805599453],\"z\":[[1,1,1,1,1,1,1,1],[1,1,1,1,1,1,1,1],[1,1,1,1,1,1,1,1],[1,1,1,1,1,1,1,1],[1,1,1,1,1,1,1,1],[1,1,1,1,1,1,1,1],[1,1,1,1,1,1,1,1],[1,1,1,1,1,1,1,1]]},{\"colorbar\":{\"len\":0.5,\"lenmode\":\"fraction\",\"thickness\":20,\"x\":1.1,\"y\":0.22},\"scene\":\"scene4\",\"type\":\"surface\",\"uid\":\"17f92a3c-7d45-4f66-93dd-7275846f4b94\",\"x\":[2.0794415416798357,2.772588722239781,3.4657359027997265,4.1588830833596715,4.852030263919617,5.545177444479562,6.238324625039508,6.931471805599453],\"y\":[2.0794415416798357,2.772588722239781,3.4657359027997265,4.1588830833596715,4.852030263919617,5.545177444479562,6.238324625039508,6.931471805599453],\"z\":[[65,80,95,110,125,140,155,170],[97,112,127,142,157,172,187,202],[161,176,191,206,221,236,251,266],[289,304,319,334,349,364,379,394],[545,560,575,590,605,620,635,650],[1057,1072,1087,1102,1117,1132,1147,1162],[2081,2096,2111,2126,2141,2156,2171,2186],[4129,4144,4159,4174,4189,4204,4219,4234]]}],                        {\"annotations\":[{\"font\":{\"size\":16},\"showarrow\":false,\"text\":\"Number of Qbits\",\"x\":0.225,\"xanchor\":\"center\",\"xref\":\"paper\",\"y\":1.0,\"yanchor\":\"bottom\",\"yref\":\"paper\"},{\"font\":{\"size\":16},\"showarrow\":false,\"text\":\"Number of MCX\",\"x\":0.775,\"xanchor\":\"center\",\"xref\":\"paper\",\"y\":1.0,\"yanchor\":\"bottom\",\"yref\":\"paper\"},{\"font\":{\"size\":16},\"showarrow\":false,\"text\":\"Number of CX\",\"x\":0.225,\"xanchor\":\"center\",\"xref\":\"paper\",\"y\":0.375,\"yanchor\":\"bottom\",\"yref\":\"paper\"},{\"font\":{\"size\":16},\"showarrow\":false,\"text\":\"Number of X\",\"x\":0.775,\"xanchor\":\"center\",\"xref\":\"paper\",\"y\":0.375,\"yanchor\":\"bottom\",\"yref\":\"paper\"}],\"height\":1000,\"scene\":{\"camera\":{\"eye\":{\"x\":-1.6,\"y\":-1.6,\"z\":0.6}},\"domain\":{\"x\":[0.0,0.45],\"y\":[0.625,1.0]}},\"scene2\":{\"camera\":{\"eye\":{\"x\":-1.6,\"y\":-1.6,\"z\":0.6}},\"domain\":{\"x\":[0.55,1.0],\"y\":[0.625,1.0]}},\"scene3\":{\"camera\":{\"eye\":{\"x\":-1.6,\"y\":-1.6,\"z\":0.6}},\"domain\":{\"x\":[0.0,0.45],\"y\":[0.0,0.375]}},\"scene4\":{\"camera\":{\"eye\":{\"x\":-1.6,\"y\":-1.6,\"z\":0.6}},\"domain\":{\"x\":[0.55,1.0],\"y\":[0.0,0.375]}},\"template\":{\"data\":{\"bar\":[{\"error_x\":{\"color\":\"#2a3f5f\"},\"error_y\":{\"color\":\"#2a3f5f\"},\"marker\":{\"line\":{\"color\":\"#E5ECF6\",\"width\":0.5},\"pattern\":{\"fillmode\":\"overlay\",\"size\":10,\"solidity\":0.2}},\"type\":\"bar\"}],\"barpolar\":[{\"marker\":{\"line\":{\"color\":\"#E5ECF6\",\"width\":0.5},\"pattern\":{\"fillmode\":\"overlay\",\"size\":10,\"solidity\":0.2}},\"type\":\"barpolar\"}],\"carpet\":[{\"aaxis\":{\"endlinecolor\":\"#2a3f5f\",\"gridcolor\":\"white\",\"linecolor\":\"white\",\"minorgridcolor\":\"white\",\"startlinecolor\":\"#2a3f5f\"},\"baxis\":{\"endlinecolor\":\"#2a3f5f\",\"gridcolor\":\"white\",\"linecolor\":\"white\",\"minorgridcolor\":\"white\",\"startlinecolor\":\"#2a3f5f\"},\"type\":\"carpet\"}],\"choropleth\":[{\"colorbar\":{\"outlinewidth\":0,\"ticks\":\"\"},\"type\":\"choropleth\"}],\"contour\":[{\"colorbar\":{\"outlinewidth\":0,\"ticks\":\"\"},\"colorscale\":[[0.0,\"#0d0887\"],[0.1111111111111111,\"#46039f\"],[0.2222222222222222,\"#7201a8\"],[0.3333333333333333,\"#9c179e\"],[0.4444444444444444,\"#bd3786\"],[0.5555555555555556,\"#d8576b\"],[0.6666666666666666,\"#ed7953\"],[0.7777777777777778,\"#fb9f3a\"],[0.8888888888888888,\"#fdca26\"],[1.0,\"#f0f921\"]],\"type\":\"contour\"}],\"contourcarpet\":[{\"colorbar\":{\"outlinewidth\":0,\"ticks\":\"\"},\"type\":\"contourcarpet\"}],\"heatmap\":[{\"colorbar\":{\"outlinewidth\":0,\"ticks\":\"\"},\"colorscale\":[[0.0,\"#0d0887\"],[0.1111111111111111,\"#46039f\"],[0.2222222222222222,\"#7201a8\"],[0.3333333333333333,\"#9c179e\"],[0.4444444444444444,\"#bd3786\"],[0.5555555555555556,\"#d8576b\"],[0.6666666666666666,\"#ed7953\"],[0.7777777777777778,\"#fb9f3a\"],[0.8888888888888888,\"#fdca26\"],[1.0,\"#f0f921\"]],\"type\":\"heatmap\"}],\"heatmapgl\":[{\"colorbar\":{\"outlinewidth\":0,\"ticks\":\"\"},\"colorscale\":[[0.0,\"#0d0887\"],[0.1111111111111111,\"#46039f\"],[0.2222222222222222,\"#7201a8\"],[0.3333333333333333,\"#9c179e\"],[0.4444444444444444,\"#bd3786\"],[0.5555555555555556,\"#d8576b\"],[0.6666666666666666,\"#ed7953\"],[0.7777777777777778,\"#fb9f3a\"],[0.8888888888888888,\"#fdca26\"],[1.0,\"#f0f921\"]],\"type\":\"heatmapgl\"}],\"histogram\":[{\"marker\":{\"pattern\":{\"fillmode\":\"overlay\",\"size\":10,\"solidity\":0.2}},\"type\":\"histogram\"}],\"histogram2d\":[{\"colorbar\":{\"outlinewidth\":0,\"ticks\":\"\"},\"colorscale\":[[0.0,\"#0d0887\"],[0.1111111111111111,\"#46039f\"],[0.2222222222222222,\"#7201a8\"],[0.3333333333333333,\"#9c179e\"],[0.4444444444444444,\"#bd3786\"],[0.5555555555555556,\"#d8576b\"],[0.6666666666666666,\"#ed7953\"],[0.7777777777777778,\"#fb9f3a\"],[0.8888888888888888,\"#fdca26\"],[1.0,\"#f0f921\"]],\"type\":\"histogram2d\"}],\"histogram2dcontour\":[{\"colorbar\":{\"outlinewidth\":0,\"ticks\":\"\"},\"colorscale\":[[0.0,\"#0d0887\"],[0.1111111111111111,\"#46039f\"],[0.2222222222222222,\"#7201a8\"],[0.3333333333333333,\"#9c179e\"],[0.4444444444444444,\"#bd3786\"],[0.5555555555555556,\"#d8576b\"],[0.6666666666666666,\"#ed7953\"],[0.7777777777777778,\"#fb9f3a\"],[0.8888888888888888,\"#fdca26\"],[1.0,\"#f0f921\"]],\"type\":\"histogram2dcontour\"}],\"mesh3d\":[{\"colorbar\":{\"outlinewidth\":0,\"ticks\":\"\"},\"type\":\"mesh3d\"}],\"parcoords\":[{\"line\":{\"colorbar\":{\"outlinewidth\":0,\"ticks\":\"\"}},\"type\":\"parcoords\"}],\"pie\":[{\"automargin\":true,\"type\":\"pie\"}],\"scatter\":[{\"marker\":{\"colorbar\":{\"outlinewidth\":0,\"ticks\":\"\"}},\"type\":\"scatter\"}],\"scatter3d\":[{\"line\":{\"colorbar\":{\"outlinewidth\":0,\"ticks\":\"\"}},\"marker\":{\"colorbar\":{\"outlinewidth\":0,\"ticks\":\"\"}},\"type\":\"scatter3d\"}],\"scattercarpet\":[{\"marker\":{\"colorbar\":{\"outlinewidth\":0,\"ticks\":\"\"}},\"type\":\"scattercarpet\"}],\"scattergeo\":[{\"marker\":{\"colorbar\":{\"outlinewidth\":0,\"ticks\":\"\"}},\"type\":\"scattergeo\"}],\"scattergl\":[{\"marker\":{\"colorbar\":{\"outlinewidth\":0,\"ticks\":\"\"}},\"type\":\"scattergl\"}],\"scattermapbox\":[{\"marker\":{\"colorbar\":{\"outlinewidth\":0,\"ticks\":\"\"}},\"type\":\"scattermapbox\"}],\"scatterpolar\":[{\"marker\":{\"colorbar\":{\"outlinewidth\":0,\"ticks\":\"\"}},\"type\":\"scatterpolar\"}],\"scatterpolargl\":[{\"marker\":{\"colorbar\":{\"outlinewidth\":0,\"ticks\":\"\"}},\"type\":\"scatterpolargl\"}],\"scatterternary\":[{\"marker\":{\"colorbar\":{\"outlinewidth\":0,\"ticks\":\"\"}},\"type\":\"scatterternary\"}],\"surface\":[{\"colorbar\":{\"outlinewidth\":0,\"ticks\":\"\"},\"colorscale\":[[0.0,\"#0d0887\"],[0.1111111111111111,\"#46039f\"],[0.2222222222222222,\"#7201a8\"],[0.3333333333333333,\"#9c179e\"],[0.4444444444444444,\"#bd3786\"],[0.5555555555555556,\"#d8576b\"],[0.6666666666666666,\"#ed7953\"],[0.7777777777777778,\"#fb9f3a\"],[0.8888888888888888,\"#fdca26\"],[1.0,\"#f0f921\"]],\"type\":\"surface\"}],\"table\":[{\"cells\":{\"fill\":{\"color\":\"#EBF0F8\"},\"line\":{\"color\":\"white\"}},\"header\":{\"fill\":{\"color\":\"#C8D4E3\"},\"line\":{\"color\":\"white\"}},\"type\":\"table\"}]},\"layout\":{\"annotationdefaults\":{\"arrowcolor\":\"#2a3f5f\",\"arrowhead\":0,\"arrowwidth\":1},\"autotypenumbers\":\"strict\",\"coloraxis\":{\"colorbar\":{\"outlinewidth\":0,\"ticks\":\"\"}},\"colorscale\":{\"diverging\":[[0,\"#8e0152\"],[0.1,\"#c51b7d\"],[0.2,\"#de77ae\"],[0.3,\"#f1b6da\"],[0.4,\"#fde0ef\"],[0.5,\"#f7f7f7\"],[0.6,\"#e6f5d0\"],[0.7,\"#b8e186\"],[0.8,\"#7fbc41\"],[0.9,\"#4d9221\"],[1,\"#276419\"]],\"sequential\":[[0.0,\"#0d0887\"],[0.1111111111111111,\"#46039f\"],[0.2222222222222222,\"#7201a8\"],[0.3333333333333333,\"#9c179e\"],[0.4444444444444444,\"#bd3786\"],[0.5555555555555556,\"#d8576b\"],[0.6666666666666666,\"#ed7953\"],[0.7777777777777778,\"#fb9f3a\"],[0.8888888888888888,\"#fdca26\"],[1.0,\"#f0f921\"]],\"sequentialminus\":[[0.0,\"#0d0887\"],[0.1111111111111111,\"#46039f\"],[0.2222222222222222,\"#7201a8\"],[0.3333333333333333,\"#9c179e\"],[0.4444444444444444,\"#bd3786\"],[0.5555555555555556,\"#d8576b\"],[0.6666666666666666,\"#ed7953\"],[0.7777777777777778,\"#fb9f3a\"],[0.8888888888888888,\"#fdca26\"],[1.0,\"#f0f921\"]]},\"colorway\":[\"#636efa\",\"#EF553B\",\"#00cc96\",\"#ab63fa\",\"#FFA15A\",\"#19d3f3\",\"#FF6692\",\"#B6E880\",\"#FF97FF\",\"#FECB52\"],\"font\":{\"color\":\"#2a3f5f\"},\"geo\":{\"bgcolor\":\"white\",\"lakecolor\":\"white\",\"landcolor\":\"#E5ECF6\",\"showlakes\":true,\"showland\":true,\"subunitcolor\":\"white\"},\"hoverlabel\":{\"align\":\"left\"},\"hovermode\":\"closest\",\"mapbox\":{\"style\":\"light\"},\"paper_bgcolor\":\"white\",\"plot_bgcolor\":\"#E5ECF6\",\"polar\":{\"angularaxis\":{\"gridcolor\":\"white\",\"linecolor\":\"white\",\"ticks\":\"\"},\"bgcolor\":\"#E5ECF6\",\"radialaxis\":{\"gridcolor\":\"white\",\"linecolor\":\"white\",\"ticks\":\"\"}},\"scene\":{\"xaxis\":{\"backgroundcolor\":\"#E5ECF6\",\"gridcolor\":\"white\",\"gridwidth\":2,\"linecolor\":\"white\",\"showbackground\":true,\"ticks\":\"\",\"zerolinecolor\":\"white\"},\"yaxis\":{\"backgroundcolor\":\"#E5ECF6\",\"gridcolor\":\"white\",\"gridwidth\":2,\"linecolor\":\"white\",\"showbackground\":true,\"ticks\":\"\",\"zerolinecolor\":\"white\"},\"zaxis\":{\"backgroundcolor\":\"#E5ECF6\",\"gridcolor\":\"white\",\"gridwidth\":2,\"linecolor\":\"white\",\"showbackground\":true,\"ticks\":\"\",\"zerolinecolor\":\"white\"}},\"shapedefaults\":{\"line\":{\"color\":\"#2a3f5f\"}},\"ternary\":{\"aaxis\":{\"gridcolor\":\"white\",\"linecolor\":\"white\",\"ticks\":\"\"},\"baxis\":{\"gridcolor\":\"white\",\"linecolor\":\"white\",\"ticks\":\"\"},\"bgcolor\":\"#E5ECF6\",\"caxis\":{\"gridcolor\":\"white\",\"linecolor\":\"white\",\"ticks\":\"\"}},\"title\":{\"x\":0.05},\"xaxis\":{\"automargin\":true,\"gridcolor\":\"white\",\"linecolor\":\"white\",\"ticks\":\"\",\"title\":{\"standoff\":15},\"zerolinecolor\":\"white\",\"zerolinewidth\":2},\"yaxis\":{\"automargin\":true,\"gridcolor\":\"white\",\"linecolor\":\"white\",\"ticks\":\"\",\"title\":{\"standoff\":15},\"zerolinecolor\":\"white\",\"zerolinewidth\":2}}},\"width\":1000},                        {\"responsive\": true}                    ).then(function(){\n",
       "                            \n",
       "var gd = document.getElementById('13b38c53-0682-48e4-a41b-38366ac8b2d1');\n",
       "var x = new MutationObserver(function (mutations, observer) {{\n",
       "        var display = window.getComputedStyle(gd).display;\n",
       "        if (!display || display === 'none') {{\n",
       "            console.log([gd, 'removed!']);\n",
       "            Plotly.purge(gd);\n",
       "            observer.disconnect();\n",
       "        }}\n",
       "}});\n",
       "\n",
       "// Listen for the removal of the full notebook cells\n",
       "var notebookContainer = gd.closest('#notebook-container');\n",
       "if (notebookContainer) {{\n",
       "    x.observe(notebookContainer, {childList: true});\n",
       "}}\n",
       "\n",
       "// Listen for the clearing of the current output cell\n",
       "var outputEl = gd.closest('.output');\n",
       "if (outputEl) {{\n",
       "    x.observe(outputEl, {childList: true});\n",
       "}}\n",
       "\n",
       "                        })                };                });            </script>        </div>"
      ]
     },
     "metadata": {},
     "output_type": "display_data"
    }
   ],
   "source": [
    "fig = make_subplots(\n",
    "    rows=2, cols=2,\n",
    "    specs=[[{'type': 'surface'}, {'type': 'surface'}],\n",
    "           [{'type': 'surface'}, {'type': 'surface'}]],\n",
    "    subplot_titles=[\n",
    "        \"Number of Qbits\",\n",
    "        \"Number of MCX\",\n",
    "        \"Number of CX\",\n",
    "        \"Number of X\",\n",
    "    ]\n",
    ")\n",
    "\n",
    "s1 = fig.add_trace(\n",
    "    go.Surface(z=plot['q'], x=np.log(x), y=np.log(y),\n",
    "              colorbar={\"lenmode\":'fraction', 'len':0.5, 'thickness':20, 'x':-0.2, 'y':0.8}),\n",
    "    row=1, col=1)\n",
    "\n",
    "s2 = fig.add_trace(\n",
    "    go.Surface(z=plot['mcx'], x=np.log(x), y=np.log(y),\n",
    "              colorbar={\"lenmode\":'fraction', 'len':0.5, 'thickness':20, 'x':1.1, 'y':0.8}),\n",
    "    row=1, col=2)\n",
    "\n",
    "s3 = fig.add_trace(\n",
    "    go.Surface(z=plot['cx'], x=np.log(x), y=np.log(y),\n",
    "              colorbar={\"lenmode\":'fraction', 'len':0.5, 'thickness':20, 'x':-0.2, 'y':0.22}),\n",
    "    row=2, col=1)\n",
    "\n",
    "s4 = fig.add_trace(\n",
    "    go.Surface(z=plot['x'], x=np.log(x), y=np.log(y),\n",
    "              colorbar={\"lenmode\":'fraction', 'len':0.5, 'thickness':20, 'x':1.1, 'y':0.22}),\n",
    "    row=2, col=2)\n",
    "\n",
    "name = \"Benchmark of the simulation: impact of database and value size on operation numbers (x: len array; y: max val)\"\n",
    "\n",
    "# default is (x=1.25,y=1.25,z=1.25)\n",
    "camera = {\"eye\":{\"x\":-1.6, \"y\":-1.6, \"z\":0.6}}\n",
    "\n",
    "fig.update_layout(#title=name,\n",
    "                  height=1000,\n",
    "                  width=1000\n",
    "                 )\n",
    "\n",
    "fw = go.FigureWidget(fig)\n",
    "# print(fw.layout) #prints information about the layout of the plot\n",
    "\n",
    "with fw.batch_update():\n",
    "    fw.layout.scene1.camera.eye=camera[\"eye\"]\n",
    "    fw.layout.scene2.camera.eye=camera[\"eye\"]\n",
    "    fw.layout.scene3.camera.eye=camera[\"eye\"]\n",
    "    fw.layout.scene4.camera.eye=camera[\"eye\"]\n",
    "    \n",
    "fw.show()\n",
    "\n",
    "if not os.path.exists(\"plots/complex_graphs\"):\n",
    "        os.makedirs(\"plots/complex_graphs\")\n",
    "        \n",
    "fw.write_image(\"plots/complex_graphs/Surf2x2.pdf\",width=1000, height=1000,)\n",
    "fw.write_html(\"plots/complex_graphs/Surf2x2.html\")\n",
    "        "
   ]
  },
  {
   "cell_type": "markdown",
   "id": "fbb9a48d",
   "metadata": {},
   "source": [
    "### Plot Using go.Heatmap()"
   ]
  },
  {
   "cell_type": "markdown",
   "id": "56a3b5a0",
   "metadata": {},
   "source": [
    "#### Discrete"
   ]
  },
  {
   "cell_type": "code",
   "execution_count": 182,
   "id": "f75bc45b",
   "metadata": {
    "ExecuteTime": {
     "end_time": "2021-12-11T14:36:57.745515Z",
     "start_time": "2021-12-11T14:36:57.692196Z"
    }
   },
   "outputs": [
    {
     "data": {
      "application/vnd.plotly.v1+json": {
       "config": {
        "plotlyServerURL": "https://plot.ly"
       },
       "data": [
        {
         "colorbar": {
          "len": 0.4,
          "lenmode": "fraction",
          "thickness": 20,
          "title": {
           "text": "#Qbits"
          },
          "x": -0.2,
          "y": 0.8
         },
         "type": "heatmap",
         "x": [
          3,
          4,
          5,
          6,
          7,
          8,
          9,
          10
         ],
         "xaxis": "x",
         "y": [
          3,
          4,
          5,
          6,
          7,
          8,
          9,
          10
         ],
         "yaxis": "y",
         "z": [
          [
           18,
           23,
           28,
           33,
           38,
           43,
           48,
           53
          ],
          [
           19,
           24,
           29,
           34,
           39,
           44,
           49,
           54
          ],
          [
           20,
           25,
           30,
           35,
           40,
           45,
           50,
           55
          ],
          [
           21,
           26,
           31,
           36,
           41,
           46,
           51,
           56
          ],
          [
           22,
           27,
           32,
           37,
           42,
           47,
           52,
           57
          ],
          [
           23,
           28,
           33,
           38,
           43,
           48,
           53,
           58
          ],
          [
           24,
           29,
           34,
           39,
           44,
           49,
           54,
           59
          ],
          [
           25,
           30,
           35,
           40,
           45,
           50,
           55,
           60
          ]
         ]
        },
        {
         "colorbar": {
          "len": 0.4,
          "lenmode": "fraction",
          "thickness": 20,
          "title": {
           "text": "#MCX"
          },
          "x": 1.1,
          "y": 0.8
         },
         "type": "heatmap",
         "x": [
          3,
          4,
          5,
          6,
          7,
          8,
          9,
          10
         ],
         "xaxis": "x2",
         "y": [
          3,
          4,
          5,
          6,
          7,
          8,
          9,
          10
         ],
         "yaxis": "y2",
         "z": [
          [
           48,
           64,
           80,
           96,
           112,
           128,
           144,
           160
          ],
          [
           97,
           129,
           161,
           193,
           225,
           257,
           289,
           321
          ],
          [
           1,
           1,
           1,
           1,
           1,
           1,
           1,
           1
          ],
          [
           385,
           513,
           641,
           769,
           897,
           1025,
           1153,
           1281
          ],
          [
           769,
           1025,
           1281,
           1537,
           1793,
           2049,
           2305,
           2561
          ],
          [
           1537,
           2049,
           2561,
           3073,
           3585,
           4097,
           4609,
           5121
          ],
          [
           3073,
           4097,
           5121,
           6145,
           7169,
           8193,
           9217,
           10241
          ],
          [
           6145,
           8193,
           10241,
           12289,
           14337,
           16385,
           18433,
           20481
          ]
         ]
        },
        {
         "colorbar": {
          "len": 0.4,
          "lenmode": "fraction",
          "thickness": 20,
          "title": {
           "text": "#CX"
          },
          "x": -0.2,
          "y": 0.22
         },
         "type": "heatmap",
         "x": [
          3,
          4,
          5,
          6,
          7,
          8,
          9,
          10
         ],
         "xaxis": "x3",
         "y": [
          3,
          4,
          5,
          6,
          7,
          8,
          9,
          10
         ],
         "yaxis": "y3",
         "z": [
          [
           1,
           1,
           1,
           1,
           1,
           1,
           1,
           1
          ],
          [
           1,
           1,
           1,
           1,
           1,
           1,
           1,
           1
          ],
          [
           1,
           1,
           1,
           1,
           1,
           1,
           1,
           1
          ],
          [
           1,
           1,
           1,
           1,
           1,
           1,
           1,
           1
          ],
          [
           1,
           1,
           1,
           1,
           1,
           1,
           1,
           1
          ],
          [
           1,
           1,
           1,
           1,
           1,
           1,
           1,
           1
          ],
          [
           1,
           1,
           1,
           1,
           1,
           1,
           1,
           1
          ],
          [
           1,
           1,
           1,
           1,
           1,
           1,
           1,
           1
          ]
         ]
        },
        {
         "colorbar": {
          "len": 0.4,
          "lenmode": "fraction",
          "thickness": 20,
          "title": {
           "text": "#X"
          },
          "x": 1.1,
          "y": 0.22
         },
         "type": "heatmap",
         "x": [
          3,
          4,
          5,
          6,
          7,
          8,
          9,
          10
         ],
         "xaxis": "x4",
         "y": [
          3,
          4,
          5,
          6,
          7,
          8,
          9,
          10
         ],
         "yaxis": "y4",
         "z": [
          [
           65,
           80,
           95,
           110,
           125,
           140,
           155,
           170
          ],
          [
           97,
           112,
           127,
           142,
           157,
           172,
           187,
           202
          ],
          [
           161,
           176,
           191,
           206,
           221,
           236,
           251,
           266
          ],
          [
           289,
           304,
           319,
           334,
           349,
           364,
           379,
           394
          ],
          [
           545,
           560,
           575,
           590,
           605,
           620,
           635,
           650
          ],
          [
           1057,
           1072,
           1087,
           1102,
           1117,
           1132,
           1147,
           1162
          ],
          [
           2081,
           2096,
           2111,
           2126,
           2141,
           2156,
           2171,
           2186
          ],
          [
           4129,
           4144,
           4159,
           4174,
           4189,
           4204,
           4219,
           4234
          ]
         ]
        }
       ],
       "layout": {
        "annotations": [
         {
          "font": {
           "size": 16
          },
          "showarrow": false,
          "text": "Number of Qbits",
          "x": 0.225,
          "xanchor": "center",
          "xref": "paper",
          "y": 1,
          "yanchor": "bottom",
          "yref": "paper"
         },
         {
          "font": {
           "size": 16
          },
          "showarrow": false,
          "text": "Number of MCX",
          "x": 0.775,
          "xanchor": "center",
          "xref": "paper",
          "y": 1,
          "yanchor": "bottom",
          "yref": "paper"
         },
         {
          "font": {
           "size": 16
          },
          "showarrow": false,
          "text": "Number of CX",
          "x": 0.225,
          "xanchor": "center",
          "xref": "paper",
          "y": 0.375,
          "yanchor": "bottom",
          "yref": "paper"
         },
         {
          "font": {
           "size": 16
          },
          "showarrow": false,
          "text": "Number of X",
          "x": 0.775,
          "xanchor": "center",
          "xref": "paper",
          "y": 0.375,
          "yanchor": "bottom",
          "yref": "paper"
         }
        ],
        "height": 800,
        "template": {
         "data": {
          "bar": [
           {
            "error_x": {
             "color": "#2a3f5f"
            },
            "error_y": {
             "color": "#2a3f5f"
            },
            "marker": {
             "line": {
              "color": "#E5ECF6",
              "width": 0.5
             },
             "pattern": {
              "fillmode": "overlay",
              "size": 10,
              "solidity": 0.2
             }
            },
            "type": "bar"
           }
          ],
          "barpolar": [
           {
            "marker": {
             "line": {
              "color": "#E5ECF6",
              "width": 0.5
             },
             "pattern": {
              "fillmode": "overlay",
              "size": 10,
              "solidity": 0.2
             }
            },
            "type": "barpolar"
           }
          ],
          "carpet": [
           {
            "aaxis": {
             "endlinecolor": "#2a3f5f",
             "gridcolor": "white",
             "linecolor": "white",
             "minorgridcolor": "white",
             "startlinecolor": "#2a3f5f"
            },
            "baxis": {
             "endlinecolor": "#2a3f5f",
             "gridcolor": "white",
             "linecolor": "white",
             "minorgridcolor": "white",
             "startlinecolor": "#2a3f5f"
            },
            "type": "carpet"
           }
          ],
          "choropleth": [
           {
            "colorbar": {
             "outlinewidth": 0,
             "ticks": ""
            },
            "type": "choropleth"
           }
          ],
          "contour": [
           {
            "colorbar": {
             "outlinewidth": 0,
             "ticks": ""
            },
            "colorscale": [
             [
              0,
              "#0d0887"
             ],
             [
              0.1111111111111111,
              "#46039f"
             ],
             [
              0.2222222222222222,
              "#7201a8"
             ],
             [
              0.3333333333333333,
              "#9c179e"
             ],
             [
              0.4444444444444444,
              "#bd3786"
             ],
             [
              0.5555555555555556,
              "#d8576b"
             ],
             [
              0.6666666666666666,
              "#ed7953"
             ],
             [
              0.7777777777777778,
              "#fb9f3a"
             ],
             [
              0.8888888888888888,
              "#fdca26"
             ],
             [
              1,
              "#f0f921"
             ]
            ],
            "type": "contour"
           }
          ],
          "contourcarpet": [
           {
            "colorbar": {
             "outlinewidth": 0,
             "ticks": ""
            },
            "type": "contourcarpet"
           }
          ],
          "heatmap": [
           {
            "colorbar": {
             "outlinewidth": 0,
             "ticks": ""
            },
            "colorscale": [
             [
              0,
              "#0d0887"
             ],
             [
              0.1111111111111111,
              "#46039f"
             ],
             [
              0.2222222222222222,
              "#7201a8"
             ],
             [
              0.3333333333333333,
              "#9c179e"
             ],
             [
              0.4444444444444444,
              "#bd3786"
             ],
             [
              0.5555555555555556,
              "#d8576b"
             ],
             [
              0.6666666666666666,
              "#ed7953"
             ],
             [
              0.7777777777777778,
              "#fb9f3a"
             ],
             [
              0.8888888888888888,
              "#fdca26"
             ],
             [
              1,
              "#f0f921"
             ]
            ],
            "type": "heatmap"
           }
          ],
          "heatmapgl": [
           {
            "colorbar": {
             "outlinewidth": 0,
             "ticks": ""
            },
            "colorscale": [
             [
              0,
              "#0d0887"
             ],
             [
              0.1111111111111111,
              "#46039f"
             ],
             [
              0.2222222222222222,
              "#7201a8"
             ],
             [
              0.3333333333333333,
              "#9c179e"
             ],
             [
              0.4444444444444444,
              "#bd3786"
             ],
             [
              0.5555555555555556,
              "#d8576b"
             ],
             [
              0.6666666666666666,
              "#ed7953"
             ],
             [
              0.7777777777777778,
              "#fb9f3a"
             ],
             [
              0.8888888888888888,
              "#fdca26"
             ],
             [
              1,
              "#f0f921"
             ]
            ],
            "type": "heatmapgl"
           }
          ],
          "histogram": [
           {
            "marker": {
             "pattern": {
              "fillmode": "overlay",
              "size": 10,
              "solidity": 0.2
             }
            },
            "type": "histogram"
           }
          ],
          "histogram2d": [
           {
            "colorbar": {
             "outlinewidth": 0,
             "ticks": ""
            },
            "colorscale": [
             [
              0,
              "#0d0887"
             ],
             [
              0.1111111111111111,
              "#46039f"
             ],
             [
              0.2222222222222222,
              "#7201a8"
             ],
             [
              0.3333333333333333,
              "#9c179e"
             ],
             [
              0.4444444444444444,
              "#bd3786"
             ],
             [
              0.5555555555555556,
              "#d8576b"
             ],
             [
              0.6666666666666666,
              "#ed7953"
             ],
             [
              0.7777777777777778,
              "#fb9f3a"
             ],
             [
              0.8888888888888888,
              "#fdca26"
             ],
             [
              1,
              "#f0f921"
             ]
            ],
            "type": "histogram2d"
           }
          ],
          "histogram2dcontour": [
           {
            "colorbar": {
             "outlinewidth": 0,
             "ticks": ""
            },
            "colorscale": [
             [
              0,
              "#0d0887"
             ],
             [
              0.1111111111111111,
              "#46039f"
             ],
             [
              0.2222222222222222,
              "#7201a8"
             ],
             [
              0.3333333333333333,
              "#9c179e"
             ],
             [
              0.4444444444444444,
              "#bd3786"
             ],
             [
              0.5555555555555556,
              "#d8576b"
             ],
             [
              0.6666666666666666,
              "#ed7953"
             ],
             [
              0.7777777777777778,
              "#fb9f3a"
             ],
             [
              0.8888888888888888,
              "#fdca26"
             ],
             [
              1,
              "#f0f921"
             ]
            ],
            "type": "histogram2dcontour"
           }
          ],
          "mesh3d": [
           {
            "colorbar": {
             "outlinewidth": 0,
             "ticks": ""
            },
            "type": "mesh3d"
           }
          ],
          "parcoords": [
           {
            "line": {
             "colorbar": {
              "outlinewidth": 0,
              "ticks": ""
             }
            },
            "type": "parcoords"
           }
          ],
          "pie": [
           {
            "automargin": true,
            "type": "pie"
           }
          ],
          "scatter": [
           {
            "marker": {
             "colorbar": {
              "outlinewidth": 0,
              "ticks": ""
             }
            },
            "type": "scatter"
           }
          ],
          "scatter3d": [
           {
            "line": {
             "colorbar": {
              "outlinewidth": 0,
              "ticks": ""
             }
            },
            "marker": {
             "colorbar": {
              "outlinewidth": 0,
              "ticks": ""
             }
            },
            "type": "scatter3d"
           }
          ],
          "scattercarpet": [
           {
            "marker": {
             "colorbar": {
              "outlinewidth": 0,
              "ticks": ""
             }
            },
            "type": "scattercarpet"
           }
          ],
          "scattergeo": [
           {
            "marker": {
             "colorbar": {
              "outlinewidth": 0,
              "ticks": ""
             }
            },
            "type": "scattergeo"
           }
          ],
          "scattergl": [
           {
            "marker": {
             "colorbar": {
              "outlinewidth": 0,
              "ticks": ""
             }
            },
            "type": "scattergl"
           }
          ],
          "scattermapbox": [
           {
            "marker": {
             "colorbar": {
              "outlinewidth": 0,
              "ticks": ""
             }
            },
            "type": "scattermapbox"
           }
          ],
          "scatterpolar": [
           {
            "marker": {
             "colorbar": {
              "outlinewidth": 0,
              "ticks": ""
             }
            },
            "type": "scatterpolar"
           }
          ],
          "scatterpolargl": [
           {
            "marker": {
             "colorbar": {
              "outlinewidth": 0,
              "ticks": ""
             }
            },
            "type": "scatterpolargl"
           }
          ],
          "scatterternary": [
           {
            "marker": {
             "colorbar": {
              "outlinewidth": 0,
              "ticks": ""
             }
            },
            "type": "scatterternary"
           }
          ],
          "surface": [
           {
            "colorbar": {
             "outlinewidth": 0,
             "ticks": ""
            },
            "colorscale": [
             [
              0,
              "#0d0887"
             ],
             [
              0.1111111111111111,
              "#46039f"
             ],
             [
              0.2222222222222222,
              "#7201a8"
             ],
             [
              0.3333333333333333,
              "#9c179e"
             ],
             [
              0.4444444444444444,
              "#bd3786"
             ],
             [
              0.5555555555555556,
              "#d8576b"
             ],
             [
              0.6666666666666666,
              "#ed7953"
             ],
             [
              0.7777777777777778,
              "#fb9f3a"
             ],
             [
              0.8888888888888888,
              "#fdca26"
             ],
             [
              1,
              "#f0f921"
             ]
            ],
            "type": "surface"
           }
          ],
          "table": [
           {
            "cells": {
             "fill": {
              "color": "#EBF0F8"
             },
             "line": {
              "color": "white"
             }
            },
            "header": {
             "fill": {
              "color": "#C8D4E3"
             },
             "line": {
              "color": "white"
             }
            },
            "type": "table"
           }
          ]
         },
         "layout": {
          "annotationdefaults": {
           "arrowcolor": "#2a3f5f",
           "arrowhead": 0,
           "arrowwidth": 1
          },
          "autotypenumbers": "strict",
          "coloraxis": {
           "colorbar": {
            "outlinewidth": 0,
            "ticks": ""
           }
          },
          "colorscale": {
           "diverging": [
            [
             0,
             "#8e0152"
            ],
            [
             0.1,
             "#c51b7d"
            ],
            [
             0.2,
             "#de77ae"
            ],
            [
             0.3,
             "#f1b6da"
            ],
            [
             0.4,
             "#fde0ef"
            ],
            [
             0.5,
             "#f7f7f7"
            ],
            [
             0.6,
             "#e6f5d0"
            ],
            [
             0.7,
             "#b8e186"
            ],
            [
             0.8,
             "#7fbc41"
            ],
            [
             0.9,
             "#4d9221"
            ],
            [
             1,
             "#276419"
            ]
           ],
           "sequential": [
            [
             0,
             "#0d0887"
            ],
            [
             0.1111111111111111,
             "#46039f"
            ],
            [
             0.2222222222222222,
             "#7201a8"
            ],
            [
             0.3333333333333333,
             "#9c179e"
            ],
            [
             0.4444444444444444,
             "#bd3786"
            ],
            [
             0.5555555555555556,
             "#d8576b"
            ],
            [
             0.6666666666666666,
             "#ed7953"
            ],
            [
             0.7777777777777778,
             "#fb9f3a"
            ],
            [
             0.8888888888888888,
             "#fdca26"
            ],
            [
             1,
             "#f0f921"
            ]
           ],
           "sequentialminus": [
            [
             0,
             "#0d0887"
            ],
            [
             0.1111111111111111,
             "#46039f"
            ],
            [
             0.2222222222222222,
             "#7201a8"
            ],
            [
             0.3333333333333333,
             "#9c179e"
            ],
            [
             0.4444444444444444,
             "#bd3786"
            ],
            [
             0.5555555555555556,
             "#d8576b"
            ],
            [
             0.6666666666666666,
             "#ed7953"
            ],
            [
             0.7777777777777778,
             "#fb9f3a"
            ],
            [
             0.8888888888888888,
             "#fdca26"
            ],
            [
             1,
             "#f0f921"
            ]
           ]
          },
          "colorway": [
           "#636efa",
           "#EF553B",
           "#00cc96",
           "#ab63fa",
           "#FFA15A",
           "#19d3f3",
           "#FF6692",
           "#B6E880",
           "#FF97FF",
           "#FECB52"
          ],
          "font": {
           "color": "#2a3f5f"
          },
          "geo": {
           "bgcolor": "white",
           "lakecolor": "white",
           "landcolor": "#E5ECF6",
           "showlakes": true,
           "showland": true,
           "subunitcolor": "white"
          },
          "hoverlabel": {
           "align": "left"
          },
          "hovermode": "closest",
          "mapbox": {
           "style": "light"
          },
          "paper_bgcolor": "white",
          "plot_bgcolor": "#E5ECF6",
          "polar": {
           "angularaxis": {
            "gridcolor": "white",
            "linecolor": "white",
            "ticks": ""
           },
           "bgcolor": "#E5ECF6",
           "radialaxis": {
            "gridcolor": "white",
            "linecolor": "white",
            "ticks": ""
           }
          },
          "scene": {
           "xaxis": {
            "backgroundcolor": "#E5ECF6",
            "gridcolor": "white",
            "gridwidth": 2,
            "linecolor": "white",
            "showbackground": true,
            "ticks": "",
            "zerolinecolor": "white"
           },
           "yaxis": {
            "backgroundcolor": "#E5ECF6",
            "gridcolor": "white",
            "gridwidth": 2,
            "linecolor": "white",
            "showbackground": true,
            "ticks": "",
            "zerolinecolor": "white"
           },
           "zaxis": {
            "backgroundcolor": "#E5ECF6",
            "gridcolor": "white",
            "gridwidth": 2,
            "linecolor": "white",
            "showbackground": true,
            "ticks": "",
            "zerolinecolor": "white"
           }
          },
          "shapedefaults": {
           "line": {
            "color": "#2a3f5f"
           }
          },
          "ternary": {
           "aaxis": {
            "gridcolor": "white",
            "linecolor": "white",
            "ticks": ""
           },
           "baxis": {
            "gridcolor": "white",
            "linecolor": "white",
            "ticks": ""
           },
           "bgcolor": "#E5ECF6",
           "caxis": {
            "gridcolor": "white",
            "linecolor": "white",
            "ticks": ""
           }
          },
          "title": {
           "x": 0.05
          },
          "xaxis": {
           "automargin": true,
           "gridcolor": "white",
           "linecolor": "white",
           "ticks": "",
           "title": {
            "standoff": 15
           },
           "zerolinecolor": "white",
           "zerolinewidth": 2
          },
          "yaxis": {
           "automargin": true,
           "gridcolor": "white",
           "linecolor": "white",
           "ticks": "",
           "title": {
            "standoff": 15
           },
           "zerolinecolor": "white",
           "zerolinewidth": 2
          }
         }
        },
        "title": {
         "text": "Benchmark of the simulation: impact of database and value size on operation numbers (x: len array; y: max val)"
        },
        "width": 1000,
        "xaxis": {
         "anchor": "y",
         "domain": [
          0,
          0.45
         ],
         "title": {
          "text": "Length of array"
         }
        },
        "xaxis2": {
         "anchor": "y2",
         "domain": [
          0.55,
          1
         ],
         "title": {
          "text": "Length of array"
         }
        },
        "xaxis3": {
         "anchor": "y3",
         "domain": [
          0,
          0.45
         ],
         "title": {
          "text": "Length of array"
         }
        },
        "xaxis4": {
         "anchor": "y4",
         "domain": [
          0.55,
          1
         ],
         "title": {
          "text": "Length of array"
         }
        },
        "yaxis": {
         "anchor": "x",
         "domain": [
          0.625,
          1
         ],
         "title": {
          "text": "Max value of array"
         }
        },
        "yaxis2": {
         "anchor": "x2",
         "domain": [
          0.625,
          1
         ],
         "title": {
          "text": "Max value of array"
         }
        },
        "yaxis3": {
         "anchor": "x3",
         "domain": [
          0,
          0.375
         ],
         "title": {
          "text": "Max value of array"
         }
        },
        "yaxis4": {
         "anchor": "x4",
         "domain": [
          0,
          0.375
         ],
         "title": {
          "text": "Max value of array"
         }
        }
       }
      },
      "text/html": [
       "<div>                            <div id=\"9e8125a9-64fe-43e1-ae19-b97f319d5da4\" class=\"plotly-graph-div\" style=\"height:800px; width:1000px;\"></div>            <script type=\"text/javascript\">                require([\"plotly\"], function(Plotly) {                    window.PLOTLYENV=window.PLOTLYENV || {};                                    if (document.getElementById(\"9e8125a9-64fe-43e1-ae19-b97f319d5da4\")) {                    Plotly.newPlot(                        \"9e8125a9-64fe-43e1-ae19-b97f319d5da4\",                        [{\"colorbar\":{\"len\":0.4,\"lenmode\":\"fraction\",\"thickness\":20,\"title\":{\"text\":\"#Qbits\"},\"x\":-0.2,\"y\":0.8},\"type\":\"heatmap\",\"x\":[3.0,4.0,5.0,6.0,7.0,8.0,9.0,10.0],\"xaxis\":\"x\",\"y\":[3.0,4.0,5.0,6.0,7.0,8.0,9.0,10.0],\"yaxis\":\"y\",\"z\":[[18,23,28,33,38,43,48,53],[19,24,29,34,39,44,49,54],[20,25,30,35,40,45,50,55],[21,26,31,36,41,46,51,56],[22,27,32,37,42,47,52,57],[23,28,33,38,43,48,53,58],[24,29,34,39,44,49,54,59],[25,30,35,40,45,50,55,60]]},{\"colorbar\":{\"len\":0.4,\"lenmode\":\"fraction\",\"thickness\":20,\"title\":{\"text\":\"#MCX\"},\"x\":1.1,\"y\":0.8},\"type\":\"heatmap\",\"x\":[3.0,4.0,5.0,6.0,7.0,8.0,9.0,10.0],\"xaxis\":\"x2\",\"y\":[3.0,4.0,5.0,6.0,7.0,8.0,9.0,10.0],\"yaxis\":\"y2\",\"z\":[[48,64,80,96,112,128,144,160],[97,129,161,193,225,257,289,321],[1,1,1,1,1,1,1,1],[385,513,641,769,897,1025,1153,1281],[769,1025,1281,1537,1793,2049,2305,2561],[1537,2049,2561,3073,3585,4097,4609,5121],[3073,4097,5121,6145,7169,8193,9217,10241],[6145,8193,10241,12289,14337,16385,18433,20481]]},{\"colorbar\":{\"len\":0.4,\"lenmode\":\"fraction\",\"thickness\":20,\"title\":{\"text\":\"#CX\"},\"x\":-0.2,\"y\":0.22},\"type\":\"heatmap\",\"x\":[3.0,4.0,5.0,6.0,7.0,8.0,9.0,10.0],\"xaxis\":\"x3\",\"y\":[3.0,4.0,5.0,6.0,7.0,8.0,9.0,10.0],\"yaxis\":\"y3\",\"z\":[[1,1,1,1,1,1,1,1],[1,1,1,1,1,1,1,1],[1,1,1,1,1,1,1,1],[1,1,1,1,1,1,1,1],[1,1,1,1,1,1,1,1],[1,1,1,1,1,1,1,1],[1,1,1,1,1,1,1,1],[1,1,1,1,1,1,1,1]]},{\"colorbar\":{\"len\":0.4,\"lenmode\":\"fraction\",\"thickness\":20,\"title\":{\"text\":\"#X\"},\"x\":1.1,\"y\":0.22},\"type\":\"heatmap\",\"x\":[3.0,4.0,5.0,6.0,7.0,8.0,9.0,10.0],\"xaxis\":\"x4\",\"y\":[3.0,4.0,5.0,6.0,7.0,8.0,9.0,10.0],\"yaxis\":\"y4\",\"z\":[[65,80,95,110,125,140,155,170],[97,112,127,142,157,172,187,202],[161,176,191,206,221,236,251,266],[289,304,319,334,349,364,379,394],[545,560,575,590,605,620,635,650],[1057,1072,1087,1102,1117,1132,1147,1162],[2081,2096,2111,2126,2141,2156,2171,2186],[4129,4144,4159,4174,4189,4204,4219,4234]]}],                        {\"annotations\":[{\"font\":{\"size\":16},\"showarrow\":false,\"text\":\"Number of Qbits\",\"x\":0.225,\"xanchor\":\"center\",\"xref\":\"paper\",\"y\":1.0,\"yanchor\":\"bottom\",\"yref\":\"paper\"},{\"font\":{\"size\":16},\"showarrow\":false,\"text\":\"Number of MCX\",\"x\":0.775,\"xanchor\":\"center\",\"xref\":\"paper\",\"y\":1.0,\"yanchor\":\"bottom\",\"yref\":\"paper\"},{\"font\":{\"size\":16},\"showarrow\":false,\"text\":\"Number of CX\",\"x\":0.225,\"xanchor\":\"center\",\"xref\":\"paper\",\"y\":0.375,\"yanchor\":\"bottom\",\"yref\":\"paper\"},{\"font\":{\"size\":16},\"showarrow\":false,\"text\":\"Number of X\",\"x\":0.775,\"xanchor\":\"center\",\"xref\":\"paper\",\"y\":0.375,\"yanchor\":\"bottom\",\"yref\":\"paper\"}],\"height\":800,\"template\":{\"data\":{\"bar\":[{\"error_x\":{\"color\":\"#2a3f5f\"},\"error_y\":{\"color\":\"#2a3f5f\"},\"marker\":{\"line\":{\"color\":\"#E5ECF6\",\"width\":0.5},\"pattern\":{\"fillmode\":\"overlay\",\"size\":10,\"solidity\":0.2}},\"type\":\"bar\"}],\"barpolar\":[{\"marker\":{\"line\":{\"color\":\"#E5ECF6\",\"width\":0.5},\"pattern\":{\"fillmode\":\"overlay\",\"size\":10,\"solidity\":0.2}},\"type\":\"barpolar\"}],\"carpet\":[{\"aaxis\":{\"endlinecolor\":\"#2a3f5f\",\"gridcolor\":\"white\",\"linecolor\":\"white\",\"minorgridcolor\":\"white\",\"startlinecolor\":\"#2a3f5f\"},\"baxis\":{\"endlinecolor\":\"#2a3f5f\",\"gridcolor\":\"white\",\"linecolor\":\"white\",\"minorgridcolor\":\"white\",\"startlinecolor\":\"#2a3f5f\"},\"type\":\"carpet\"}],\"choropleth\":[{\"colorbar\":{\"outlinewidth\":0,\"ticks\":\"\"},\"type\":\"choropleth\"}],\"contour\":[{\"colorbar\":{\"outlinewidth\":0,\"ticks\":\"\"},\"colorscale\":[[0.0,\"#0d0887\"],[0.1111111111111111,\"#46039f\"],[0.2222222222222222,\"#7201a8\"],[0.3333333333333333,\"#9c179e\"],[0.4444444444444444,\"#bd3786\"],[0.5555555555555556,\"#d8576b\"],[0.6666666666666666,\"#ed7953\"],[0.7777777777777778,\"#fb9f3a\"],[0.8888888888888888,\"#fdca26\"],[1.0,\"#f0f921\"]],\"type\":\"contour\"}],\"contourcarpet\":[{\"colorbar\":{\"outlinewidth\":0,\"ticks\":\"\"},\"type\":\"contourcarpet\"}],\"heatmap\":[{\"colorbar\":{\"outlinewidth\":0,\"ticks\":\"\"},\"colorscale\":[[0.0,\"#0d0887\"],[0.1111111111111111,\"#46039f\"],[0.2222222222222222,\"#7201a8\"],[0.3333333333333333,\"#9c179e\"],[0.4444444444444444,\"#bd3786\"],[0.5555555555555556,\"#d8576b\"],[0.6666666666666666,\"#ed7953\"],[0.7777777777777778,\"#fb9f3a\"],[0.8888888888888888,\"#fdca26\"],[1.0,\"#f0f921\"]],\"type\":\"heatmap\"}],\"heatmapgl\":[{\"colorbar\":{\"outlinewidth\":0,\"ticks\":\"\"},\"colorscale\":[[0.0,\"#0d0887\"],[0.1111111111111111,\"#46039f\"],[0.2222222222222222,\"#7201a8\"],[0.3333333333333333,\"#9c179e\"],[0.4444444444444444,\"#bd3786\"],[0.5555555555555556,\"#d8576b\"],[0.6666666666666666,\"#ed7953\"],[0.7777777777777778,\"#fb9f3a\"],[0.8888888888888888,\"#fdca26\"],[1.0,\"#f0f921\"]],\"type\":\"heatmapgl\"}],\"histogram\":[{\"marker\":{\"pattern\":{\"fillmode\":\"overlay\",\"size\":10,\"solidity\":0.2}},\"type\":\"histogram\"}],\"histogram2d\":[{\"colorbar\":{\"outlinewidth\":0,\"ticks\":\"\"},\"colorscale\":[[0.0,\"#0d0887\"],[0.1111111111111111,\"#46039f\"],[0.2222222222222222,\"#7201a8\"],[0.3333333333333333,\"#9c179e\"],[0.4444444444444444,\"#bd3786\"],[0.5555555555555556,\"#d8576b\"],[0.6666666666666666,\"#ed7953\"],[0.7777777777777778,\"#fb9f3a\"],[0.8888888888888888,\"#fdca26\"],[1.0,\"#f0f921\"]],\"type\":\"histogram2d\"}],\"histogram2dcontour\":[{\"colorbar\":{\"outlinewidth\":0,\"ticks\":\"\"},\"colorscale\":[[0.0,\"#0d0887\"],[0.1111111111111111,\"#46039f\"],[0.2222222222222222,\"#7201a8\"],[0.3333333333333333,\"#9c179e\"],[0.4444444444444444,\"#bd3786\"],[0.5555555555555556,\"#d8576b\"],[0.6666666666666666,\"#ed7953\"],[0.7777777777777778,\"#fb9f3a\"],[0.8888888888888888,\"#fdca26\"],[1.0,\"#f0f921\"]],\"type\":\"histogram2dcontour\"}],\"mesh3d\":[{\"colorbar\":{\"outlinewidth\":0,\"ticks\":\"\"},\"type\":\"mesh3d\"}],\"parcoords\":[{\"line\":{\"colorbar\":{\"outlinewidth\":0,\"ticks\":\"\"}},\"type\":\"parcoords\"}],\"pie\":[{\"automargin\":true,\"type\":\"pie\"}],\"scatter\":[{\"marker\":{\"colorbar\":{\"outlinewidth\":0,\"ticks\":\"\"}},\"type\":\"scatter\"}],\"scatter3d\":[{\"line\":{\"colorbar\":{\"outlinewidth\":0,\"ticks\":\"\"}},\"marker\":{\"colorbar\":{\"outlinewidth\":0,\"ticks\":\"\"}},\"type\":\"scatter3d\"}],\"scattercarpet\":[{\"marker\":{\"colorbar\":{\"outlinewidth\":0,\"ticks\":\"\"}},\"type\":\"scattercarpet\"}],\"scattergeo\":[{\"marker\":{\"colorbar\":{\"outlinewidth\":0,\"ticks\":\"\"}},\"type\":\"scattergeo\"}],\"scattergl\":[{\"marker\":{\"colorbar\":{\"outlinewidth\":0,\"ticks\":\"\"}},\"type\":\"scattergl\"}],\"scattermapbox\":[{\"marker\":{\"colorbar\":{\"outlinewidth\":0,\"ticks\":\"\"}},\"type\":\"scattermapbox\"}],\"scatterpolar\":[{\"marker\":{\"colorbar\":{\"outlinewidth\":0,\"ticks\":\"\"}},\"type\":\"scatterpolar\"}],\"scatterpolargl\":[{\"marker\":{\"colorbar\":{\"outlinewidth\":0,\"ticks\":\"\"}},\"type\":\"scatterpolargl\"}],\"scatterternary\":[{\"marker\":{\"colorbar\":{\"outlinewidth\":0,\"ticks\":\"\"}},\"type\":\"scatterternary\"}],\"surface\":[{\"colorbar\":{\"outlinewidth\":0,\"ticks\":\"\"},\"colorscale\":[[0.0,\"#0d0887\"],[0.1111111111111111,\"#46039f\"],[0.2222222222222222,\"#7201a8\"],[0.3333333333333333,\"#9c179e\"],[0.4444444444444444,\"#bd3786\"],[0.5555555555555556,\"#d8576b\"],[0.6666666666666666,\"#ed7953\"],[0.7777777777777778,\"#fb9f3a\"],[0.8888888888888888,\"#fdca26\"],[1.0,\"#f0f921\"]],\"type\":\"surface\"}],\"table\":[{\"cells\":{\"fill\":{\"color\":\"#EBF0F8\"},\"line\":{\"color\":\"white\"}},\"header\":{\"fill\":{\"color\":\"#C8D4E3\"},\"line\":{\"color\":\"white\"}},\"type\":\"table\"}]},\"layout\":{\"annotationdefaults\":{\"arrowcolor\":\"#2a3f5f\",\"arrowhead\":0,\"arrowwidth\":1},\"autotypenumbers\":\"strict\",\"coloraxis\":{\"colorbar\":{\"outlinewidth\":0,\"ticks\":\"\"}},\"colorscale\":{\"diverging\":[[0,\"#8e0152\"],[0.1,\"#c51b7d\"],[0.2,\"#de77ae\"],[0.3,\"#f1b6da\"],[0.4,\"#fde0ef\"],[0.5,\"#f7f7f7\"],[0.6,\"#e6f5d0\"],[0.7,\"#b8e186\"],[0.8,\"#7fbc41\"],[0.9,\"#4d9221\"],[1,\"#276419\"]],\"sequential\":[[0.0,\"#0d0887\"],[0.1111111111111111,\"#46039f\"],[0.2222222222222222,\"#7201a8\"],[0.3333333333333333,\"#9c179e\"],[0.4444444444444444,\"#bd3786\"],[0.5555555555555556,\"#d8576b\"],[0.6666666666666666,\"#ed7953\"],[0.7777777777777778,\"#fb9f3a\"],[0.8888888888888888,\"#fdca26\"],[1.0,\"#f0f921\"]],\"sequentialminus\":[[0.0,\"#0d0887\"],[0.1111111111111111,\"#46039f\"],[0.2222222222222222,\"#7201a8\"],[0.3333333333333333,\"#9c179e\"],[0.4444444444444444,\"#bd3786\"],[0.5555555555555556,\"#d8576b\"],[0.6666666666666666,\"#ed7953\"],[0.7777777777777778,\"#fb9f3a\"],[0.8888888888888888,\"#fdca26\"],[1.0,\"#f0f921\"]]},\"colorway\":[\"#636efa\",\"#EF553B\",\"#00cc96\",\"#ab63fa\",\"#FFA15A\",\"#19d3f3\",\"#FF6692\",\"#B6E880\",\"#FF97FF\",\"#FECB52\"],\"font\":{\"color\":\"#2a3f5f\"},\"geo\":{\"bgcolor\":\"white\",\"lakecolor\":\"white\",\"landcolor\":\"#E5ECF6\",\"showlakes\":true,\"showland\":true,\"subunitcolor\":\"white\"},\"hoverlabel\":{\"align\":\"left\"},\"hovermode\":\"closest\",\"mapbox\":{\"style\":\"light\"},\"paper_bgcolor\":\"white\",\"plot_bgcolor\":\"#E5ECF6\",\"polar\":{\"angularaxis\":{\"gridcolor\":\"white\",\"linecolor\":\"white\",\"ticks\":\"\"},\"bgcolor\":\"#E5ECF6\",\"radialaxis\":{\"gridcolor\":\"white\",\"linecolor\":\"white\",\"ticks\":\"\"}},\"scene\":{\"xaxis\":{\"backgroundcolor\":\"#E5ECF6\",\"gridcolor\":\"white\",\"gridwidth\":2,\"linecolor\":\"white\",\"showbackground\":true,\"ticks\":\"\",\"zerolinecolor\":\"white\"},\"yaxis\":{\"backgroundcolor\":\"#E5ECF6\",\"gridcolor\":\"white\",\"gridwidth\":2,\"linecolor\":\"white\",\"showbackground\":true,\"ticks\":\"\",\"zerolinecolor\":\"white\"},\"zaxis\":{\"backgroundcolor\":\"#E5ECF6\",\"gridcolor\":\"white\",\"gridwidth\":2,\"linecolor\":\"white\",\"showbackground\":true,\"ticks\":\"\",\"zerolinecolor\":\"white\"}},\"shapedefaults\":{\"line\":{\"color\":\"#2a3f5f\"}},\"ternary\":{\"aaxis\":{\"gridcolor\":\"white\",\"linecolor\":\"white\",\"ticks\":\"\"},\"baxis\":{\"gridcolor\":\"white\",\"linecolor\":\"white\",\"ticks\":\"\"},\"bgcolor\":\"#E5ECF6\",\"caxis\":{\"gridcolor\":\"white\",\"linecolor\":\"white\",\"ticks\":\"\"}},\"title\":{\"x\":0.05},\"xaxis\":{\"automargin\":true,\"gridcolor\":\"white\",\"linecolor\":\"white\",\"ticks\":\"\",\"title\":{\"standoff\":15},\"zerolinecolor\":\"white\",\"zerolinewidth\":2},\"yaxis\":{\"automargin\":true,\"gridcolor\":\"white\",\"linecolor\":\"white\",\"ticks\":\"\",\"title\":{\"standoff\":15},\"zerolinecolor\":\"white\",\"zerolinewidth\":2}}},\"title\":{\"text\":\"Benchmark of the simulation: impact of database and value size on operation numbers (x: len array; y: max val)\"},\"width\":1000,\"xaxis\":{\"anchor\":\"y\",\"domain\":[0.0,0.45],\"title\":{\"text\":\"Length of array\"}},\"xaxis2\":{\"anchor\":\"y2\",\"domain\":[0.55,1.0],\"title\":{\"text\":\"Length of array\"}},\"xaxis3\":{\"anchor\":\"y3\",\"domain\":[0.0,0.45],\"title\":{\"text\":\"Length of array\"}},\"xaxis4\":{\"anchor\":\"y4\",\"domain\":[0.55,1.0],\"title\":{\"text\":\"Length of array\"}},\"yaxis\":{\"anchor\":\"x\",\"domain\":[0.625,1.0],\"title\":{\"text\":\"Max value of array\"}},\"yaxis2\":{\"anchor\":\"x2\",\"domain\":[0.625,1.0],\"title\":{\"text\":\"Max value of array\"}},\"yaxis3\":{\"anchor\":\"x3\",\"domain\":[0.0,0.375],\"title\":{\"text\":\"Max value of array\"}},\"yaxis4\":{\"anchor\":\"x4\",\"domain\":[0.0,0.375],\"title\":{\"text\":\"Max value of array\"}}},                        {\"responsive\": true}                    ).then(function(){\n",
       "                            \n",
       "var gd = document.getElementById('9e8125a9-64fe-43e1-ae19-b97f319d5da4');\n",
       "var x = new MutationObserver(function (mutations, observer) {{\n",
       "        var display = window.getComputedStyle(gd).display;\n",
       "        if (!display || display === 'none') {{\n",
       "            console.log([gd, 'removed!']);\n",
       "            Plotly.purge(gd);\n",
       "            observer.disconnect();\n",
       "        }}\n",
       "}});\n",
       "\n",
       "// Listen for the removal of the full notebook cells\n",
       "var notebookContainer = gd.closest('#notebook-container');\n",
       "if (notebookContainer) {{\n",
       "    x.observe(notebookContainer, {childList: true});\n",
       "}}\n",
       "\n",
       "// Listen for the clearing of the current output cell\n",
       "var outputEl = gd.closest('.output');\n",
       "if (outputEl) {{\n",
       "    x.observe(outputEl, {childList: true});\n",
       "}}\n",
       "\n",
       "                        })                };                });            </script>        </div>"
      ]
     },
     "metadata": {},
     "output_type": "display_data"
    }
   ],
   "source": [
    "fig = make_subplots(\n",
    "    rows=2, cols=2,\n",
    "    specs=[[{'type': 'heatmap'}, {'type': 'heatmap'}],\n",
    "           [{'type': 'heatmap'}, {'type': 'heatmap'}]],\n",
    "    subplot_titles=[\n",
    "        \"Number of Qbits\",\n",
    "        \"Number of MCX\",\n",
    "        \"Number of CX\",\n",
    "        \"Number of X\",\n",
    "    ]\n",
    ")\n",
    "\n",
    "fig.add_trace(\n",
    "    go.Heatmap(z=plot[\"q\"],\n",
    "                x=np.log2(x),\n",
    "                y=np.log2(y),\n",
    "                colorbar={\"title\":'#Qbits', \"lenmode\":'fraction', 'len':0.4, 'thickness':20, 'x':-0.2, 'y':0.8},\n",
    "               ),\n",
    "    row=1, col=1)\n",
    "\n",
    "fig.add_trace(\n",
    "    go.Heatmap(z=plot[\"mcx\"],\n",
    "                colorbar={\"title\":'#MCX', \"lenmode\":'fraction', 'len':0.4, 'thickness':20, 'x':1.1, 'y':0.8} ,\n",
    "                x=np.log2(x),\n",
    "                y=np.log2(y),\n",
    "               ),\n",
    "    row=1, col=2)\n",
    "\n",
    "fig.add_trace(\n",
    "    go.Heatmap(z=plot[\"cx\"],\n",
    "                colorbar={\"title\":'#CX', \"lenmode\":'fraction', 'len':0.4, 'thickness':20, 'x':-0.2, 'y':0.22} ,\n",
    "                x=np.log2(x),\n",
    "                y=np.log2(y),\n",
    "               ),\n",
    "    row=2, col=1)\n",
    "\n",
    "fig.add_trace(\n",
    "    go.Heatmap(z=plot[\"x\"],\n",
    "                colorbar={\"title\":'#X', \"lenmode\":'fraction', 'len':0.4, 'thickness':20, 'x':1.1, 'y':0.22} ,\n",
    "                x=np.log2(x),\n",
    "                y=np.log2(y),\n",
    "               ),\n",
    "    row=2, col=2)\n",
    "\n",
    "name = \"Benchmark of the simulation: impact of database and value size on operation numbers (x: len array; y: max val)\"\n",
    "\n",
    "fig.update_xaxes(title_text=\"Length of array\")\n",
    "fig.update_yaxes(title_text=\"Max value of array\")\n",
    "\n",
    "fig.update_layout(title=name,\n",
    "                  height=800,\n",
    "                  width=1000\n",
    "                 )\n"
   ]
  },
  {
   "cell_type": "code",
   "execution_count": 185,
   "id": "20171f45",
   "metadata": {
    "ExecuteTime": {
     "end_time": "2021-12-11T14:46:17.904083Z",
     "start_time": "2021-12-11T14:46:17.773198Z"
    }
   },
   "outputs": [
    {
     "data": {
      "application/vnd.plotly.v1+json": {
       "config": {
        "plotlyServerURL": "https://plot.ly"
       },
       "data": [
        {
         "colorbar": {
          "title": {
           "text": "# of mcx"
          }
         },
         "type": "heatmap",
         "x": [
          3,
          4,
          5,
          6,
          7,
          8,
          9,
          10
         ],
         "y": [
          3,
          4,
          5,
          6,
          7,
          8,
          9,
          10
         ],
         "z": [
          [
           113,
           144,
           175,
           206,
           237,
           268,
           299,
           330
          ],
          [
           194,
           241,
           288,
           335,
           382,
           429,
           476,
           523
          ],
          [
           162,
           177,
           192,
           207,
           222,
           237,
           252,
           267
          ],
          [
           674,
           817,
           960,
           1103,
           1246,
           1389,
           1532,
           1675
          ],
          [
           1314,
           1585,
           1856,
           2127,
           2398,
           2669,
           2940,
           3211
          ],
          [
           2594,
           3121,
           3648,
           4175,
           4702,
           5229,
           5756,
           6283
          ],
          [
           5154,
           6193,
           7232,
           8271,
           9310,
           10349,
           11388,
           12427
          ],
          [
           10274,
           12337,
           14400,
           16463,
           18526,
           20589,
           22652,
           24715
          ]
         ]
        }
       ],
       "layout": {
        "template": {
         "data": {
          "bar": [
           {
            "error_x": {
             "color": "#2a3f5f"
            },
            "error_y": {
             "color": "#2a3f5f"
            },
            "marker": {
             "line": {
              "color": "#E5ECF6",
              "width": 0.5
             },
             "pattern": {
              "fillmode": "overlay",
              "size": 10,
              "solidity": 0.2
             }
            },
            "type": "bar"
           }
          ],
          "barpolar": [
           {
            "marker": {
             "line": {
              "color": "#E5ECF6",
              "width": 0.5
             },
             "pattern": {
              "fillmode": "overlay",
              "size": 10,
              "solidity": 0.2
             }
            },
            "type": "barpolar"
           }
          ],
          "carpet": [
           {
            "aaxis": {
             "endlinecolor": "#2a3f5f",
             "gridcolor": "white",
             "linecolor": "white",
             "minorgridcolor": "white",
             "startlinecolor": "#2a3f5f"
            },
            "baxis": {
             "endlinecolor": "#2a3f5f",
             "gridcolor": "white",
             "linecolor": "white",
             "minorgridcolor": "white",
             "startlinecolor": "#2a3f5f"
            },
            "type": "carpet"
           }
          ],
          "choropleth": [
           {
            "colorbar": {
             "outlinewidth": 0,
             "ticks": ""
            },
            "type": "choropleth"
           }
          ],
          "contour": [
           {
            "colorbar": {
             "outlinewidth": 0,
             "ticks": ""
            },
            "colorscale": [
             [
              0,
              "#0d0887"
             ],
             [
              0.1111111111111111,
              "#46039f"
             ],
             [
              0.2222222222222222,
              "#7201a8"
             ],
             [
              0.3333333333333333,
              "#9c179e"
             ],
             [
              0.4444444444444444,
              "#bd3786"
             ],
             [
              0.5555555555555556,
              "#d8576b"
             ],
             [
              0.6666666666666666,
              "#ed7953"
             ],
             [
              0.7777777777777778,
              "#fb9f3a"
             ],
             [
              0.8888888888888888,
              "#fdca26"
             ],
             [
              1,
              "#f0f921"
             ]
            ],
            "type": "contour"
           }
          ],
          "contourcarpet": [
           {
            "colorbar": {
             "outlinewidth": 0,
             "ticks": ""
            },
            "type": "contourcarpet"
           }
          ],
          "heatmap": [
           {
            "colorbar": {
             "outlinewidth": 0,
             "ticks": ""
            },
            "colorscale": [
             [
              0,
              "#0d0887"
             ],
             [
              0.1111111111111111,
              "#46039f"
             ],
             [
              0.2222222222222222,
              "#7201a8"
             ],
             [
              0.3333333333333333,
              "#9c179e"
             ],
             [
              0.4444444444444444,
              "#bd3786"
             ],
             [
              0.5555555555555556,
              "#d8576b"
             ],
             [
              0.6666666666666666,
              "#ed7953"
             ],
             [
              0.7777777777777778,
              "#fb9f3a"
             ],
             [
              0.8888888888888888,
              "#fdca26"
             ],
             [
              1,
              "#f0f921"
             ]
            ],
            "type": "heatmap"
           }
          ],
          "heatmapgl": [
           {
            "colorbar": {
             "outlinewidth": 0,
             "ticks": ""
            },
            "colorscale": [
             [
              0,
              "#0d0887"
             ],
             [
              0.1111111111111111,
              "#46039f"
             ],
             [
              0.2222222222222222,
              "#7201a8"
             ],
             [
              0.3333333333333333,
              "#9c179e"
             ],
             [
              0.4444444444444444,
              "#bd3786"
             ],
             [
              0.5555555555555556,
              "#d8576b"
             ],
             [
              0.6666666666666666,
              "#ed7953"
             ],
             [
              0.7777777777777778,
              "#fb9f3a"
             ],
             [
              0.8888888888888888,
              "#fdca26"
             ],
             [
              1,
              "#f0f921"
             ]
            ],
            "type": "heatmapgl"
           }
          ],
          "histogram": [
           {
            "marker": {
             "pattern": {
              "fillmode": "overlay",
              "size": 10,
              "solidity": 0.2
             }
            },
            "type": "histogram"
           }
          ],
          "histogram2d": [
           {
            "colorbar": {
             "outlinewidth": 0,
             "ticks": ""
            },
            "colorscale": [
             [
              0,
              "#0d0887"
             ],
             [
              0.1111111111111111,
              "#46039f"
             ],
             [
              0.2222222222222222,
              "#7201a8"
             ],
             [
              0.3333333333333333,
              "#9c179e"
             ],
             [
              0.4444444444444444,
              "#bd3786"
             ],
             [
              0.5555555555555556,
              "#d8576b"
             ],
             [
              0.6666666666666666,
              "#ed7953"
             ],
             [
              0.7777777777777778,
              "#fb9f3a"
             ],
             [
              0.8888888888888888,
              "#fdca26"
             ],
             [
              1,
              "#f0f921"
             ]
            ],
            "type": "histogram2d"
           }
          ],
          "histogram2dcontour": [
           {
            "colorbar": {
             "outlinewidth": 0,
             "ticks": ""
            },
            "colorscale": [
             [
              0,
              "#0d0887"
             ],
             [
              0.1111111111111111,
              "#46039f"
             ],
             [
              0.2222222222222222,
              "#7201a8"
             ],
             [
              0.3333333333333333,
              "#9c179e"
             ],
             [
              0.4444444444444444,
              "#bd3786"
             ],
             [
              0.5555555555555556,
              "#d8576b"
             ],
             [
              0.6666666666666666,
              "#ed7953"
             ],
             [
              0.7777777777777778,
              "#fb9f3a"
             ],
             [
              0.8888888888888888,
              "#fdca26"
             ],
             [
              1,
              "#f0f921"
             ]
            ],
            "type": "histogram2dcontour"
           }
          ],
          "mesh3d": [
           {
            "colorbar": {
             "outlinewidth": 0,
             "ticks": ""
            },
            "type": "mesh3d"
           }
          ],
          "parcoords": [
           {
            "line": {
             "colorbar": {
              "outlinewidth": 0,
              "ticks": ""
             }
            },
            "type": "parcoords"
           }
          ],
          "pie": [
           {
            "automargin": true,
            "type": "pie"
           }
          ],
          "scatter": [
           {
            "marker": {
             "colorbar": {
              "outlinewidth": 0,
              "ticks": ""
             }
            },
            "type": "scatter"
           }
          ],
          "scatter3d": [
           {
            "line": {
             "colorbar": {
              "outlinewidth": 0,
              "ticks": ""
             }
            },
            "marker": {
             "colorbar": {
              "outlinewidth": 0,
              "ticks": ""
             }
            },
            "type": "scatter3d"
           }
          ],
          "scattercarpet": [
           {
            "marker": {
             "colorbar": {
              "outlinewidth": 0,
              "ticks": ""
             }
            },
            "type": "scattercarpet"
           }
          ],
          "scattergeo": [
           {
            "marker": {
             "colorbar": {
              "outlinewidth": 0,
              "ticks": ""
             }
            },
            "type": "scattergeo"
           }
          ],
          "scattergl": [
           {
            "marker": {
             "colorbar": {
              "outlinewidth": 0,
              "ticks": ""
             }
            },
            "type": "scattergl"
           }
          ],
          "scattermapbox": [
           {
            "marker": {
             "colorbar": {
              "outlinewidth": 0,
              "ticks": ""
             }
            },
            "type": "scattermapbox"
           }
          ],
          "scatterpolar": [
           {
            "marker": {
             "colorbar": {
              "outlinewidth": 0,
              "ticks": ""
             }
            },
            "type": "scatterpolar"
           }
          ],
          "scatterpolargl": [
           {
            "marker": {
             "colorbar": {
              "outlinewidth": 0,
              "ticks": ""
             }
            },
            "type": "scatterpolargl"
           }
          ],
          "scatterternary": [
           {
            "marker": {
             "colorbar": {
              "outlinewidth": 0,
              "ticks": ""
             }
            },
            "type": "scatterternary"
           }
          ],
          "surface": [
           {
            "colorbar": {
             "outlinewidth": 0,
             "ticks": ""
            },
            "colorscale": [
             [
              0,
              "#0d0887"
             ],
             [
              0.1111111111111111,
              "#46039f"
             ],
             [
              0.2222222222222222,
              "#7201a8"
             ],
             [
              0.3333333333333333,
              "#9c179e"
             ],
             [
              0.4444444444444444,
              "#bd3786"
             ],
             [
              0.5555555555555556,
              "#d8576b"
             ],
             [
              0.6666666666666666,
              "#ed7953"
             ],
             [
              0.7777777777777778,
              "#fb9f3a"
             ],
             [
              0.8888888888888888,
              "#fdca26"
             ],
             [
              1,
              "#f0f921"
             ]
            ],
            "type": "surface"
           }
          ],
          "table": [
           {
            "cells": {
             "fill": {
              "color": "#EBF0F8"
             },
             "line": {
              "color": "white"
             }
            },
            "header": {
             "fill": {
              "color": "#C8D4E3"
             },
             "line": {
              "color": "white"
             }
            },
            "type": "table"
           }
          ]
         },
         "layout": {
          "annotationdefaults": {
           "arrowcolor": "#2a3f5f",
           "arrowhead": 0,
           "arrowwidth": 1
          },
          "autotypenumbers": "strict",
          "coloraxis": {
           "colorbar": {
            "outlinewidth": 0,
            "ticks": ""
           }
          },
          "colorscale": {
           "diverging": [
            [
             0,
             "#8e0152"
            ],
            [
             0.1,
             "#c51b7d"
            ],
            [
             0.2,
             "#de77ae"
            ],
            [
             0.3,
             "#f1b6da"
            ],
            [
             0.4,
             "#fde0ef"
            ],
            [
             0.5,
             "#f7f7f7"
            ],
            [
             0.6,
             "#e6f5d0"
            ],
            [
             0.7,
             "#b8e186"
            ],
            [
             0.8,
             "#7fbc41"
            ],
            [
             0.9,
             "#4d9221"
            ],
            [
             1,
             "#276419"
            ]
           ],
           "sequential": [
            [
             0,
             "#0d0887"
            ],
            [
             0.1111111111111111,
             "#46039f"
            ],
            [
             0.2222222222222222,
             "#7201a8"
            ],
            [
             0.3333333333333333,
             "#9c179e"
            ],
            [
             0.4444444444444444,
             "#bd3786"
            ],
            [
             0.5555555555555556,
             "#d8576b"
            ],
            [
             0.6666666666666666,
             "#ed7953"
            ],
            [
             0.7777777777777778,
             "#fb9f3a"
            ],
            [
             0.8888888888888888,
             "#fdca26"
            ],
            [
             1,
             "#f0f921"
            ]
           ],
           "sequentialminus": [
            [
             0,
             "#0d0887"
            ],
            [
             0.1111111111111111,
             "#46039f"
            ],
            [
             0.2222222222222222,
             "#7201a8"
            ],
            [
             0.3333333333333333,
             "#9c179e"
            ],
            [
             0.4444444444444444,
             "#bd3786"
            ],
            [
             0.5555555555555556,
             "#d8576b"
            ],
            [
             0.6666666666666666,
             "#ed7953"
            ],
            [
             0.7777777777777778,
             "#fb9f3a"
            ],
            [
             0.8888888888888888,
             "#fdca26"
            ],
            [
             1,
             "#f0f921"
            ]
           ]
          },
          "colorway": [
           "#636efa",
           "#EF553B",
           "#00cc96",
           "#ab63fa",
           "#FFA15A",
           "#19d3f3",
           "#FF6692",
           "#B6E880",
           "#FF97FF",
           "#FECB52"
          ],
          "font": {
           "color": "#2a3f5f"
          },
          "geo": {
           "bgcolor": "white",
           "lakecolor": "white",
           "landcolor": "#E5ECF6",
           "showlakes": true,
           "showland": true,
           "subunitcolor": "white"
          },
          "hoverlabel": {
           "align": "left"
          },
          "hovermode": "closest",
          "mapbox": {
           "style": "light"
          },
          "paper_bgcolor": "white",
          "plot_bgcolor": "#E5ECF6",
          "polar": {
           "angularaxis": {
            "gridcolor": "white",
            "linecolor": "white",
            "ticks": ""
           },
           "bgcolor": "#E5ECF6",
           "radialaxis": {
            "gridcolor": "white",
            "linecolor": "white",
            "ticks": ""
           }
          },
          "scene": {
           "xaxis": {
            "backgroundcolor": "#E5ECF6",
            "gridcolor": "white",
            "gridwidth": 2,
            "linecolor": "white",
            "showbackground": true,
            "ticks": "",
            "zerolinecolor": "white"
           },
           "yaxis": {
            "backgroundcolor": "#E5ECF6",
            "gridcolor": "white",
            "gridwidth": 2,
            "linecolor": "white",
            "showbackground": true,
            "ticks": "",
            "zerolinecolor": "white"
           },
           "zaxis": {
            "backgroundcolor": "#E5ECF6",
            "gridcolor": "white",
            "gridwidth": 2,
            "linecolor": "white",
            "showbackground": true,
            "ticks": "",
            "zerolinecolor": "white"
           }
          },
          "shapedefaults": {
           "line": {
            "color": "#2a3f5f"
           }
          },
          "ternary": {
           "aaxis": {
            "gridcolor": "white",
            "linecolor": "white",
            "ticks": ""
           },
           "baxis": {
            "gridcolor": "white",
            "linecolor": "white",
            "ticks": ""
           },
           "bgcolor": "#E5ECF6",
           "caxis": {
            "gridcolor": "white",
            "linecolor": "white",
            "ticks": ""
           }
          },
          "title": {
           "x": 0.05
          },
          "xaxis": {
           "automargin": true,
           "gridcolor": "white",
           "linecolor": "white",
           "ticks": "",
           "title": {
            "standoff": 15
           },
           "zerolinecolor": "white",
           "zerolinewidth": 2
          },
          "yaxis": {
           "automargin": true,
           "gridcolor": "white",
           "linecolor": "white",
           "ticks": "",
           "title": {
            "standoff": 15
           },
           "zerolinecolor": "white",
           "zerolinewidth": 2
          }
         }
        },
        "title": {
         "x": 0.5
        },
        "xaxis": {
         "tickformat": ",d",
         "title": {
          "text": "Max value of array"
         }
        },
        "yaxis": {
         "tickformat": ",d",
         "title": {
          "text": "Length of array (splicing)"
         }
        }
       }
      },
      "text/html": [
       "<div>                            <div id=\"da181532-a63e-4d5d-8de2-29edf66666f6\" class=\"plotly-graph-div\" style=\"height:525px; width:100%;\"></div>            <script type=\"text/javascript\">                require([\"plotly\"], function(Plotly) {                    window.PLOTLYENV=window.PLOTLYENV || {};                                    if (document.getElementById(\"da181532-a63e-4d5d-8de2-29edf66666f6\")) {                    Plotly.newPlot(                        \"da181532-a63e-4d5d-8de2-29edf66666f6\",                        [{\"colorbar\":{\"title\":{\"text\":\"# of mcx\"}},\"type\":\"heatmap\",\"x\":[3.0,4.0,5.0,6.0,7.0,8.0,9.0,10.0],\"y\":[3.0,4.0,5.0,6.0,7.0,8.0,9.0,10.0],\"z\":[[113,144,175,206,237,268,299,330],[194,241,288,335,382,429,476,523],[162,177,192,207,222,237,252,267],[674,817,960,1103,1246,1389,1532,1675],[1314,1585,1856,2127,2398,2669,2940,3211],[2594,3121,3648,4175,4702,5229,5756,6283],[5154,6193,7232,8271,9310,10349,11388,12427],[10274,12337,14400,16463,18526,20589,22652,24715]]}],                        {\"template\":{\"data\":{\"bar\":[{\"error_x\":{\"color\":\"#2a3f5f\"},\"error_y\":{\"color\":\"#2a3f5f\"},\"marker\":{\"line\":{\"color\":\"#E5ECF6\",\"width\":0.5},\"pattern\":{\"fillmode\":\"overlay\",\"size\":10,\"solidity\":0.2}},\"type\":\"bar\"}],\"barpolar\":[{\"marker\":{\"line\":{\"color\":\"#E5ECF6\",\"width\":0.5},\"pattern\":{\"fillmode\":\"overlay\",\"size\":10,\"solidity\":0.2}},\"type\":\"barpolar\"}],\"carpet\":[{\"aaxis\":{\"endlinecolor\":\"#2a3f5f\",\"gridcolor\":\"white\",\"linecolor\":\"white\",\"minorgridcolor\":\"white\",\"startlinecolor\":\"#2a3f5f\"},\"baxis\":{\"endlinecolor\":\"#2a3f5f\",\"gridcolor\":\"white\",\"linecolor\":\"white\",\"minorgridcolor\":\"white\",\"startlinecolor\":\"#2a3f5f\"},\"type\":\"carpet\"}],\"choropleth\":[{\"colorbar\":{\"outlinewidth\":0,\"ticks\":\"\"},\"type\":\"choropleth\"}],\"contour\":[{\"colorbar\":{\"outlinewidth\":0,\"ticks\":\"\"},\"colorscale\":[[0.0,\"#0d0887\"],[0.1111111111111111,\"#46039f\"],[0.2222222222222222,\"#7201a8\"],[0.3333333333333333,\"#9c179e\"],[0.4444444444444444,\"#bd3786\"],[0.5555555555555556,\"#d8576b\"],[0.6666666666666666,\"#ed7953\"],[0.7777777777777778,\"#fb9f3a\"],[0.8888888888888888,\"#fdca26\"],[1.0,\"#f0f921\"]],\"type\":\"contour\"}],\"contourcarpet\":[{\"colorbar\":{\"outlinewidth\":0,\"ticks\":\"\"},\"type\":\"contourcarpet\"}],\"heatmap\":[{\"colorbar\":{\"outlinewidth\":0,\"ticks\":\"\"},\"colorscale\":[[0.0,\"#0d0887\"],[0.1111111111111111,\"#46039f\"],[0.2222222222222222,\"#7201a8\"],[0.3333333333333333,\"#9c179e\"],[0.4444444444444444,\"#bd3786\"],[0.5555555555555556,\"#d8576b\"],[0.6666666666666666,\"#ed7953\"],[0.7777777777777778,\"#fb9f3a\"],[0.8888888888888888,\"#fdca26\"],[1.0,\"#f0f921\"]],\"type\":\"heatmap\"}],\"heatmapgl\":[{\"colorbar\":{\"outlinewidth\":0,\"ticks\":\"\"},\"colorscale\":[[0.0,\"#0d0887\"],[0.1111111111111111,\"#46039f\"],[0.2222222222222222,\"#7201a8\"],[0.3333333333333333,\"#9c179e\"],[0.4444444444444444,\"#bd3786\"],[0.5555555555555556,\"#d8576b\"],[0.6666666666666666,\"#ed7953\"],[0.7777777777777778,\"#fb9f3a\"],[0.8888888888888888,\"#fdca26\"],[1.0,\"#f0f921\"]],\"type\":\"heatmapgl\"}],\"histogram\":[{\"marker\":{\"pattern\":{\"fillmode\":\"overlay\",\"size\":10,\"solidity\":0.2}},\"type\":\"histogram\"}],\"histogram2d\":[{\"colorbar\":{\"outlinewidth\":0,\"ticks\":\"\"},\"colorscale\":[[0.0,\"#0d0887\"],[0.1111111111111111,\"#46039f\"],[0.2222222222222222,\"#7201a8\"],[0.3333333333333333,\"#9c179e\"],[0.4444444444444444,\"#bd3786\"],[0.5555555555555556,\"#d8576b\"],[0.6666666666666666,\"#ed7953\"],[0.7777777777777778,\"#fb9f3a\"],[0.8888888888888888,\"#fdca26\"],[1.0,\"#f0f921\"]],\"type\":\"histogram2d\"}],\"histogram2dcontour\":[{\"colorbar\":{\"outlinewidth\":0,\"ticks\":\"\"},\"colorscale\":[[0.0,\"#0d0887\"],[0.1111111111111111,\"#46039f\"],[0.2222222222222222,\"#7201a8\"],[0.3333333333333333,\"#9c179e\"],[0.4444444444444444,\"#bd3786\"],[0.5555555555555556,\"#d8576b\"],[0.6666666666666666,\"#ed7953\"],[0.7777777777777778,\"#fb9f3a\"],[0.8888888888888888,\"#fdca26\"],[1.0,\"#f0f921\"]],\"type\":\"histogram2dcontour\"}],\"mesh3d\":[{\"colorbar\":{\"outlinewidth\":0,\"ticks\":\"\"},\"type\":\"mesh3d\"}],\"parcoords\":[{\"line\":{\"colorbar\":{\"outlinewidth\":0,\"ticks\":\"\"}},\"type\":\"parcoords\"}],\"pie\":[{\"automargin\":true,\"type\":\"pie\"}],\"scatter\":[{\"marker\":{\"colorbar\":{\"outlinewidth\":0,\"ticks\":\"\"}},\"type\":\"scatter\"}],\"scatter3d\":[{\"line\":{\"colorbar\":{\"outlinewidth\":0,\"ticks\":\"\"}},\"marker\":{\"colorbar\":{\"outlinewidth\":0,\"ticks\":\"\"}},\"type\":\"scatter3d\"}],\"scattercarpet\":[{\"marker\":{\"colorbar\":{\"outlinewidth\":0,\"ticks\":\"\"}},\"type\":\"scattercarpet\"}],\"scattergeo\":[{\"marker\":{\"colorbar\":{\"outlinewidth\":0,\"ticks\":\"\"}},\"type\":\"scattergeo\"}],\"scattergl\":[{\"marker\":{\"colorbar\":{\"outlinewidth\":0,\"ticks\":\"\"}},\"type\":\"scattergl\"}],\"scattermapbox\":[{\"marker\":{\"colorbar\":{\"outlinewidth\":0,\"ticks\":\"\"}},\"type\":\"scattermapbox\"}],\"scatterpolar\":[{\"marker\":{\"colorbar\":{\"outlinewidth\":0,\"ticks\":\"\"}},\"type\":\"scatterpolar\"}],\"scatterpolargl\":[{\"marker\":{\"colorbar\":{\"outlinewidth\":0,\"ticks\":\"\"}},\"type\":\"scatterpolargl\"}],\"scatterternary\":[{\"marker\":{\"colorbar\":{\"outlinewidth\":0,\"ticks\":\"\"}},\"type\":\"scatterternary\"}],\"surface\":[{\"colorbar\":{\"outlinewidth\":0,\"ticks\":\"\"},\"colorscale\":[[0.0,\"#0d0887\"],[0.1111111111111111,\"#46039f\"],[0.2222222222222222,\"#7201a8\"],[0.3333333333333333,\"#9c179e\"],[0.4444444444444444,\"#bd3786\"],[0.5555555555555556,\"#d8576b\"],[0.6666666666666666,\"#ed7953\"],[0.7777777777777778,\"#fb9f3a\"],[0.8888888888888888,\"#fdca26\"],[1.0,\"#f0f921\"]],\"type\":\"surface\"}],\"table\":[{\"cells\":{\"fill\":{\"color\":\"#EBF0F8\"},\"line\":{\"color\":\"white\"}},\"header\":{\"fill\":{\"color\":\"#C8D4E3\"},\"line\":{\"color\":\"white\"}},\"type\":\"table\"}]},\"layout\":{\"annotationdefaults\":{\"arrowcolor\":\"#2a3f5f\",\"arrowhead\":0,\"arrowwidth\":1},\"autotypenumbers\":\"strict\",\"coloraxis\":{\"colorbar\":{\"outlinewidth\":0,\"ticks\":\"\"}},\"colorscale\":{\"diverging\":[[0,\"#8e0152\"],[0.1,\"#c51b7d\"],[0.2,\"#de77ae\"],[0.3,\"#f1b6da\"],[0.4,\"#fde0ef\"],[0.5,\"#f7f7f7\"],[0.6,\"#e6f5d0\"],[0.7,\"#b8e186\"],[0.8,\"#7fbc41\"],[0.9,\"#4d9221\"],[1,\"#276419\"]],\"sequential\":[[0.0,\"#0d0887\"],[0.1111111111111111,\"#46039f\"],[0.2222222222222222,\"#7201a8\"],[0.3333333333333333,\"#9c179e\"],[0.4444444444444444,\"#bd3786\"],[0.5555555555555556,\"#d8576b\"],[0.6666666666666666,\"#ed7953\"],[0.7777777777777778,\"#fb9f3a\"],[0.8888888888888888,\"#fdca26\"],[1.0,\"#f0f921\"]],\"sequentialminus\":[[0.0,\"#0d0887\"],[0.1111111111111111,\"#46039f\"],[0.2222222222222222,\"#7201a8\"],[0.3333333333333333,\"#9c179e\"],[0.4444444444444444,\"#bd3786\"],[0.5555555555555556,\"#d8576b\"],[0.6666666666666666,\"#ed7953\"],[0.7777777777777778,\"#fb9f3a\"],[0.8888888888888888,\"#fdca26\"],[1.0,\"#f0f921\"]]},\"colorway\":[\"#636efa\",\"#EF553B\",\"#00cc96\",\"#ab63fa\",\"#FFA15A\",\"#19d3f3\",\"#FF6692\",\"#B6E880\",\"#FF97FF\",\"#FECB52\"],\"font\":{\"color\":\"#2a3f5f\"},\"geo\":{\"bgcolor\":\"white\",\"lakecolor\":\"white\",\"landcolor\":\"#E5ECF6\",\"showlakes\":true,\"showland\":true,\"subunitcolor\":\"white\"},\"hoverlabel\":{\"align\":\"left\"},\"hovermode\":\"closest\",\"mapbox\":{\"style\":\"light\"},\"paper_bgcolor\":\"white\",\"plot_bgcolor\":\"#E5ECF6\",\"polar\":{\"angularaxis\":{\"gridcolor\":\"white\",\"linecolor\":\"white\",\"ticks\":\"\"},\"bgcolor\":\"#E5ECF6\",\"radialaxis\":{\"gridcolor\":\"white\",\"linecolor\":\"white\",\"ticks\":\"\"}},\"scene\":{\"xaxis\":{\"backgroundcolor\":\"#E5ECF6\",\"gridcolor\":\"white\",\"gridwidth\":2,\"linecolor\":\"white\",\"showbackground\":true,\"ticks\":\"\",\"zerolinecolor\":\"white\"},\"yaxis\":{\"backgroundcolor\":\"#E5ECF6\",\"gridcolor\":\"white\",\"gridwidth\":2,\"linecolor\":\"white\",\"showbackground\":true,\"ticks\":\"\",\"zerolinecolor\":\"white\"},\"zaxis\":{\"backgroundcolor\":\"#E5ECF6\",\"gridcolor\":\"white\",\"gridwidth\":2,\"linecolor\":\"white\",\"showbackground\":true,\"ticks\":\"\",\"zerolinecolor\":\"white\"}},\"shapedefaults\":{\"line\":{\"color\":\"#2a3f5f\"}},\"ternary\":{\"aaxis\":{\"gridcolor\":\"white\",\"linecolor\":\"white\",\"ticks\":\"\"},\"baxis\":{\"gridcolor\":\"white\",\"linecolor\":\"white\",\"ticks\":\"\"},\"bgcolor\":\"#E5ECF6\",\"caxis\":{\"gridcolor\":\"white\",\"linecolor\":\"white\",\"ticks\":\"\"}},\"title\":{\"x\":0.05},\"xaxis\":{\"automargin\":true,\"gridcolor\":\"white\",\"linecolor\":\"white\",\"ticks\":\"\",\"title\":{\"standoff\":15},\"zerolinecolor\":\"white\",\"zerolinewidth\":2},\"yaxis\":{\"automargin\":true,\"gridcolor\":\"white\",\"linecolor\":\"white\",\"ticks\":\"\",\"title\":{\"standoff\":15},\"zerolinecolor\":\"white\",\"zerolinewidth\":2}}},\"title\":{\"x\":0.5},\"xaxis\":{\"tickformat\":\",d\",\"title\":{\"text\":\"Max value of array\"}},\"yaxis\":{\"tickformat\":\",d\",\"title\":{\"text\":\"Length of array (splicing)\"}}},                        {\"responsive\": true}                    ).then(function(){\n",
       "                            \n",
       "var gd = document.getElementById('da181532-a63e-4d5d-8de2-29edf66666f6');\n",
       "var x = new MutationObserver(function (mutations, observer) {{\n",
       "        var display = window.getComputedStyle(gd).display;\n",
       "        if (!display || display === 'none') {{\n",
       "            console.log([gd, 'removed!']);\n",
       "            Plotly.purge(gd);\n",
       "            observer.disconnect();\n",
       "        }}\n",
       "}});\n",
       "\n",
       "// Listen for the removal of the full notebook cells\n",
       "var notebookContainer = gd.closest('#notebook-container');\n",
       "if (notebookContainer) {{\n",
       "    x.observe(notebookContainer, {childList: true});\n",
       "}}\n",
       "\n",
       "// Listen for the clearing of the current output cell\n",
       "var outputEl = gd.closest('.output');\n",
       "if (outputEl) {{\n",
       "    x.observe(outputEl, {childList: true});\n",
       "}}\n",
       "\n",
       "                        })                };                });            </script>        </div>"
      ]
     },
     "metadata": {},
     "output_type": "display_data"
    }
   ],
   "source": [
    "fig = go.Figure(data=go.Heatmap(z=(np.array(plot[\"mcx\"])+np.array(plot[\"x\"])),\n",
    "                colorbar={\"title\":'# of mcx'} ,\n",
    "                x=np.log2(x),\n",
    "                y=np.log2(y),\n",
    "               ))\n",
    "\n",
    "fig.update_xaxes(tickformat=',d')\n",
    "fig.update_yaxes(tickformat=',d')\n",
    "\n",
    "fig.update_layout(\n",
    "#     title=\"Benchmark of the simulation: impact of database and value size on MCX + CX operation number\",\n",
    "    xaxis_title=\"Max value of array\",\n",
    "    yaxis_title=\"Length of array (splicing)\",\n",
    "    title_x=0.5\n",
    ")\n",
    "\n",
    "fig.show()\n",
    "\n",
    "if not os.path.exists(\"plots/complex_graphs\"):\n",
    "        os.makedirs(\"plots/complex_graphs\")\n",
    "        \n",
    "fig.write_image(\"plots/complex_graphs/mcx_x_heatmap.pdf\",width=1000, height=600,)\n",
    "fig.write_html(\"plots/complex_graphs/mcx_x_heatmap.html\")\n",
    "        "
   ]
  },
  {
   "cell_type": "markdown",
   "id": "7929a669",
   "metadata": {},
   "source": [
    "#### Interpolated (smoothed)"
   ]
  },
  {
   "cell_type": "code",
   "execution_count": 163,
   "id": "d858ba3a",
   "metadata": {
    "ExecuteTime": {
     "end_time": "2021-12-11T13:38:40.489877Z",
     "start_time": "2021-12-11T13:38:40.432763Z"
    }
   },
   "outputs": [
    {
     "data": {
      "application/vnd.plotly.v1+json": {
       "config": {
        "plotlyServerURL": "https://plot.ly"
       },
       "data": [
        {
         "colorbar": {
          "len": 0.4,
          "lenmode": "fraction",
          "thickness": 20,
          "title": {
           "text": "#Qbits"
          },
          "x": -0.2,
          "y": 0.8
         },
         "type": "heatmap",
         "x": [
          3,
          4,
          5,
          6,
          7,
          8
         ],
         "xaxis": "x",
         "y": [
          3,
          4,
          5,
          6,
          7,
          8
         ],
         "yaxis": "y",
         "z": [
          [
           18,
           23,
           28,
           33,
           38,
           43
          ],
          [
           19,
           24,
           29,
           34,
           39,
           44
          ],
          [
           20,
           25,
           30,
           35,
           40,
           45
          ],
          [
           21,
           26,
           31,
           36,
           41,
           46
          ],
          [
           22,
           27,
           32,
           37,
           42,
           47
          ],
          [
           23,
           28,
           33,
           38,
           43,
           48
          ]
         ],
         "zsmooth": "best"
        },
        {
         "colorbar": {
          "len": 0.4,
          "lenmode": "fraction",
          "thickness": 20,
          "title": {
           "text": "#MCX"
          },
          "x": 1.1,
          "y": 0.8
         },
         "type": "heatmap",
         "x": [
          3,
          4,
          5,
          6,
          7,
          8
         ],
         "xaxis": "x2",
         "y": [
          3,
          4,
          5,
          6,
          7,
          8
         ],
         "yaxis": "y2",
         "z": [
          [
           48,
           64,
           80,
           96,
           112,
           128
          ],
          [
           97,
           129,
           161,
           193,
           225,
           257
          ],
          [
           1,
           1,
           1,
           1,
           1,
           1
          ],
          [
           385,
           513,
           641,
           769,
           897,
           1025
          ],
          [
           769,
           1025,
           1281,
           1537,
           1793,
           2049
          ],
          [
           1537,
           2049,
           2561,
           3073,
           3585,
           4097
          ]
         ],
         "zsmooth": "best"
        },
        {
         "colorbar": {
          "len": 0.4,
          "lenmode": "fraction",
          "thickness": 20,
          "title": {
           "text": "#CX"
          },
          "x": -0.2,
          "y": 0.22
         },
         "type": "heatmap",
         "x": [
          3,
          4,
          5,
          6,
          7,
          8
         ],
         "xaxis": "x3",
         "y": [
          3,
          4,
          5,
          6,
          7,
          8
         ],
         "yaxis": "y3",
         "z": [
          [
           1,
           1,
           1,
           1,
           1,
           1
          ],
          [
           1,
           1,
           1,
           1,
           1,
           1
          ],
          [
           1,
           1,
           1,
           1,
           1,
           1
          ],
          [
           1,
           1,
           1,
           1,
           1,
           1
          ],
          [
           1,
           1,
           1,
           1,
           1,
           1
          ],
          [
           1,
           1,
           1,
           1,
           1,
           1
          ]
         ],
         "zsmooth": "best"
        },
        {
         "colorbar": {
          "len": 0.4,
          "lenmode": "fraction",
          "thickness": 20,
          "title": {
           "text": "#X"
          },
          "x": 1.1,
          "y": 0.22
         },
         "type": "heatmap",
         "x": [
          3,
          4,
          5,
          6,
          7,
          8
         ],
         "xaxis": "x4",
         "y": [
          3,
          4,
          5,
          6,
          7,
          8
         ],
         "yaxis": "y4",
         "z": [
          [
           65,
           80,
           95,
           110,
           125,
           140
          ],
          [
           97,
           112,
           127,
           142,
           157,
           172
          ],
          [
           161,
           176,
           191,
           206,
           221,
           236
          ],
          [
           289,
           304,
           319,
           334,
           349,
           364
          ],
          [
           545,
           560,
           575,
           590,
           605,
           620
          ],
          [
           1057,
           1072,
           1087,
           1102,
           1117,
           1132
          ]
         ],
         "zsmooth": "best"
        }
       ],
       "layout": {
        "annotations": [
         {
          "font": {
           "size": 16
          },
          "showarrow": false,
          "text": "Number of Qbits",
          "x": 0.225,
          "xanchor": "center",
          "xref": "paper",
          "y": 1,
          "yanchor": "bottom",
          "yref": "paper"
         },
         {
          "font": {
           "size": 16
          },
          "showarrow": false,
          "text": "Number of MCX",
          "x": 0.775,
          "xanchor": "center",
          "xref": "paper",
          "y": 1,
          "yanchor": "bottom",
          "yref": "paper"
         },
         {
          "font": {
           "size": 16
          },
          "showarrow": false,
          "text": "Number of CX",
          "x": 0.225,
          "xanchor": "center",
          "xref": "paper",
          "y": 0.375,
          "yanchor": "bottom",
          "yref": "paper"
         },
         {
          "font": {
           "size": 16
          },
          "showarrow": false,
          "text": "Number of X",
          "x": 0.775,
          "xanchor": "center",
          "xref": "paper",
          "y": 0.375,
          "yanchor": "bottom",
          "yref": "paper"
         }
        ],
        "height": 800,
        "template": {
         "data": {
          "bar": [
           {
            "error_x": {
             "color": "#2a3f5f"
            },
            "error_y": {
             "color": "#2a3f5f"
            },
            "marker": {
             "line": {
              "color": "#E5ECF6",
              "width": 0.5
             },
             "pattern": {
              "fillmode": "overlay",
              "size": 10,
              "solidity": 0.2
             }
            },
            "type": "bar"
           }
          ],
          "barpolar": [
           {
            "marker": {
             "line": {
              "color": "#E5ECF6",
              "width": 0.5
             },
             "pattern": {
              "fillmode": "overlay",
              "size": 10,
              "solidity": 0.2
             }
            },
            "type": "barpolar"
           }
          ],
          "carpet": [
           {
            "aaxis": {
             "endlinecolor": "#2a3f5f",
             "gridcolor": "white",
             "linecolor": "white",
             "minorgridcolor": "white",
             "startlinecolor": "#2a3f5f"
            },
            "baxis": {
             "endlinecolor": "#2a3f5f",
             "gridcolor": "white",
             "linecolor": "white",
             "minorgridcolor": "white",
             "startlinecolor": "#2a3f5f"
            },
            "type": "carpet"
           }
          ],
          "choropleth": [
           {
            "colorbar": {
             "outlinewidth": 0,
             "ticks": ""
            },
            "type": "choropleth"
           }
          ],
          "contour": [
           {
            "colorbar": {
             "outlinewidth": 0,
             "ticks": ""
            },
            "colorscale": [
             [
              0,
              "#0d0887"
             ],
             [
              0.1111111111111111,
              "#46039f"
             ],
             [
              0.2222222222222222,
              "#7201a8"
             ],
             [
              0.3333333333333333,
              "#9c179e"
             ],
             [
              0.4444444444444444,
              "#bd3786"
             ],
             [
              0.5555555555555556,
              "#d8576b"
             ],
             [
              0.6666666666666666,
              "#ed7953"
             ],
             [
              0.7777777777777778,
              "#fb9f3a"
             ],
             [
              0.8888888888888888,
              "#fdca26"
             ],
             [
              1,
              "#f0f921"
             ]
            ],
            "type": "contour"
           }
          ],
          "contourcarpet": [
           {
            "colorbar": {
             "outlinewidth": 0,
             "ticks": ""
            },
            "type": "contourcarpet"
           }
          ],
          "heatmap": [
           {
            "colorbar": {
             "outlinewidth": 0,
             "ticks": ""
            },
            "colorscale": [
             [
              0,
              "#0d0887"
             ],
             [
              0.1111111111111111,
              "#46039f"
             ],
             [
              0.2222222222222222,
              "#7201a8"
             ],
             [
              0.3333333333333333,
              "#9c179e"
             ],
             [
              0.4444444444444444,
              "#bd3786"
             ],
             [
              0.5555555555555556,
              "#d8576b"
             ],
             [
              0.6666666666666666,
              "#ed7953"
             ],
             [
              0.7777777777777778,
              "#fb9f3a"
             ],
             [
              0.8888888888888888,
              "#fdca26"
             ],
             [
              1,
              "#f0f921"
             ]
            ],
            "type": "heatmap"
           }
          ],
          "heatmapgl": [
           {
            "colorbar": {
             "outlinewidth": 0,
             "ticks": ""
            },
            "colorscale": [
             [
              0,
              "#0d0887"
             ],
             [
              0.1111111111111111,
              "#46039f"
             ],
             [
              0.2222222222222222,
              "#7201a8"
             ],
             [
              0.3333333333333333,
              "#9c179e"
             ],
             [
              0.4444444444444444,
              "#bd3786"
             ],
             [
              0.5555555555555556,
              "#d8576b"
             ],
             [
              0.6666666666666666,
              "#ed7953"
             ],
             [
              0.7777777777777778,
              "#fb9f3a"
             ],
             [
              0.8888888888888888,
              "#fdca26"
             ],
             [
              1,
              "#f0f921"
             ]
            ],
            "type": "heatmapgl"
           }
          ],
          "histogram": [
           {
            "marker": {
             "pattern": {
              "fillmode": "overlay",
              "size": 10,
              "solidity": 0.2
             }
            },
            "type": "histogram"
           }
          ],
          "histogram2d": [
           {
            "colorbar": {
             "outlinewidth": 0,
             "ticks": ""
            },
            "colorscale": [
             [
              0,
              "#0d0887"
             ],
             [
              0.1111111111111111,
              "#46039f"
             ],
             [
              0.2222222222222222,
              "#7201a8"
             ],
             [
              0.3333333333333333,
              "#9c179e"
             ],
             [
              0.4444444444444444,
              "#bd3786"
             ],
             [
              0.5555555555555556,
              "#d8576b"
             ],
             [
              0.6666666666666666,
              "#ed7953"
             ],
             [
              0.7777777777777778,
              "#fb9f3a"
             ],
             [
              0.8888888888888888,
              "#fdca26"
             ],
             [
              1,
              "#f0f921"
             ]
            ],
            "type": "histogram2d"
           }
          ],
          "histogram2dcontour": [
           {
            "colorbar": {
             "outlinewidth": 0,
             "ticks": ""
            },
            "colorscale": [
             [
              0,
              "#0d0887"
             ],
             [
              0.1111111111111111,
              "#46039f"
             ],
             [
              0.2222222222222222,
              "#7201a8"
             ],
             [
              0.3333333333333333,
              "#9c179e"
             ],
             [
              0.4444444444444444,
              "#bd3786"
             ],
             [
              0.5555555555555556,
              "#d8576b"
             ],
             [
              0.6666666666666666,
              "#ed7953"
             ],
             [
              0.7777777777777778,
              "#fb9f3a"
             ],
             [
              0.8888888888888888,
              "#fdca26"
             ],
             [
              1,
              "#f0f921"
             ]
            ],
            "type": "histogram2dcontour"
           }
          ],
          "mesh3d": [
           {
            "colorbar": {
             "outlinewidth": 0,
             "ticks": ""
            },
            "type": "mesh3d"
           }
          ],
          "parcoords": [
           {
            "line": {
             "colorbar": {
              "outlinewidth": 0,
              "ticks": ""
             }
            },
            "type": "parcoords"
           }
          ],
          "pie": [
           {
            "automargin": true,
            "type": "pie"
           }
          ],
          "scatter": [
           {
            "marker": {
             "colorbar": {
              "outlinewidth": 0,
              "ticks": ""
             }
            },
            "type": "scatter"
           }
          ],
          "scatter3d": [
           {
            "line": {
             "colorbar": {
              "outlinewidth": 0,
              "ticks": ""
             }
            },
            "marker": {
             "colorbar": {
              "outlinewidth": 0,
              "ticks": ""
             }
            },
            "type": "scatter3d"
           }
          ],
          "scattercarpet": [
           {
            "marker": {
             "colorbar": {
              "outlinewidth": 0,
              "ticks": ""
             }
            },
            "type": "scattercarpet"
           }
          ],
          "scattergeo": [
           {
            "marker": {
             "colorbar": {
              "outlinewidth": 0,
              "ticks": ""
             }
            },
            "type": "scattergeo"
           }
          ],
          "scattergl": [
           {
            "marker": {
             "colorbar": {
              "outlinewidth": 0,
              "ticks": ""
             }
            },
            "type": "scattergl"
           }
          ],
          "scattermapbox": [
           {
            "marker": {
             "colorbar": {
              "outlinewidth": 0,
              "ticks": ""
             }
            },
            "type": "scattermapbox"
           }
          ],
          "scatterpolar": [
           {
            "marker": {
             "colorbar": {
              "outlinewidth": 0,
              "ticks": ""
             }
            },
            "type": "scatterpolar"
           }
          ],
          "scatterpolargl": [
           {
            "marker": {
             "colorbar": {
              "outlinewidth": 0,
              "ticks": ""
             }
            },
            "type": "scatterpolargl"
           }
          ],
          "scatterternary": [
           {
            "marker": {
             "colorbar": {
              "outlinewidth": 0,
              "ticks": ""
             }
            },
            "type": "scatterternary"
           }
          ],
          "surface": [
           {
            "colorbar": {
             "outlinewidth": 0,
             "ticks": ""
            },
            "colorscale": [
             [
              0,
              "#0d0887"
             ],
             [
              0.1111111111111111,
              "#46039f"
             ],
             [
              0.2222222222222222,
              "#7201a8"
             ],
             [
              0.3333333333333333,
              "#9c179e"
             ],
             [
              0.4444444444444444,
              "#bd3786"
             ],
             [
              0.5555555555555556,
              "#d8576b"
             ],
             [
              0.6666666666666666,
              "#ed7953"
             ],
             [
              0.7777777777777778,
              "#fb9f3a"
             ],
             [
              0.8888888888888888,
              "#fdca26"
             ],
             [
              1,
              "#f0f921"
             ]
            ],
            "type": "surface"
           }
          ],
          "table": [
           {
            "cells": {
             "fill": {
              "color": "#EBF0F8"
             },
             "line": {
              "color": "white"
             }
            },
            "header": {
             "fill": {
              "color": "#C8D4E3"
             },
             "line": {
              "color": "white"
             }
            },
            "type": "table"
           }
          ]
         },
         "layout": {
          "annotationdefaults": {
           "arrowcolor": "#2a3f5f",
           "arrowhead": 0,
           "arrowwidth": 1
          },
          "autotypenumbers": "strict",
          "coloraxis": {
           "colorbar": {
            "outlinewidth": 0,
            "ticks": ""
           }
          },
          "colorscale": {
           "diverging": [
            [
             0,
             "#8e0152"
            ],
            [
             0.1,
             "#c51b7d"
            ],
            [
             0.2,
             "#de77ae"
            ],
            [
             0.3,
             "#f1b6da"
            ],
            [
             0.4,
             "#fde0ef"
            ],
            [
             0.5,
             "#f7f7f7"
            ],
            [
             0.6,
             "#e6f5d0"
            ],
            [
             0.7,
             "#b8e186"
            ],
            [
             0.8,
             "#7fbc41"
            ],
            [
             0.9,
             "#4d9221"
            ],
            [
             1,
             "#276419"
            ]
           ],
           "sequential": [
            [
             0,
             "#0d0887"
            ],
            [
             0.1111111111111111,
             "#46039f"
            ],
            [
             0.2222222222222222,
             "#7201a8"
            ],
            [
             0.3333333333333333,
             "#9c179e"
            ],
            [
             0.4444444444444444,
             "#bd3786"
            ],
            [
             0.5555555555555556,
             "#d8576b"
            ],
            [
             0.6666666666666666,
             "#ed7953"
            ],
            [
             0.7777777777777778,
             "#fb9f3a"
            ],
            [
             0.8888888888888888,
             "#fdca26"
            ],
            [
             1,
             "#f0f921"
            ]
           ],
           "sequentialminus": [
            [
             0,
             "#0d0887"
            ],
            [
             0.1111111111111111,
             "#46039f"
            ],
            [
             0.2222222222222222,
             "#7201a8"
            ],
            [
             0.3333333333333333,
             "#9c179e"
            ],
            [
             0.4444444444444444,
             "#bd3786"
            ],
            [
             0.5555555555555556,
             "#d8576b"
            ],
            [
             0.6666666666666666,
             "#ed7953"
            ],
            [
             0.7777777777777778,
             "#fb9f3a"
            ],
            [
             0.8888888888888888,
             "#fdca26"
            ],
            [
             1,
             "#f0f921"
            ]
           ]
          },
          "colorway": [
           "#636efa",
           "#EF553B",
           "#00cc96",
           "#ab63fa",
           "#FFA15A",
           "#19d3f3",
           "#FF6692",
           "#B6E880",
           "#FF97FF",
           "#FECB52"
          ],
          "font": {
           "color": "#2a3f5f"
          },
          "geo": {
           "bgcolor": "white",
           "lakecolor": "white",
           "landcolor": "#E5ECF6",
           "showlakes": true,
           "showland": true,
           "subunitcolor": "white"
          },
          "hoverlabel": {
           "align": "left"
          },
          "hovermode": "closest",
          "mapbox": {
           "style": "light"
          },
          "paper_bgcolor": "white",
          "plot_bgcolor": "#E5ECF6",
          "polar": {
           "angularaxis": {
            "gridcolor": "white",
            "linecolor": "white",
            "ticks": ""
           },
           "bgcolor": "#E5ECF6",
           "radialaxis": {
            "gridcolor": "white",
            "linecolor": "white",
            "ticks": ""
           }
          },
          "scene": {
           "xaxis": {
            "backgroundcolor": "#E5ECF6",
            "gridcolor": "white",
            "gridwidth": 2,
            "linecolor": "white",
            "showbackground": true,
            "ticks": "",
            "zerolinecolor": "white"
           },
           "yaxis": {
            "backgroundcolor": "#E5ECF6",
            "gridcolor": "white",
            "gridwidth": 2,
            "linecolor": "white",
            "showbackground": true,
            "ticks": "",
            "zerolinecolor": "white"
           },
           "zaxis": {
            "backgroundcolor": "#E5ECF6",
            "gridcolor": "white",
            "gridwidth": 2,
            "linecolor": "white",
            "showbackground": true,
            "ticks": "",
            "zerolinecolor": "white"
           }
          },
          "shapedefaults": {
           "line": {
            "color": "#2a3f5f"
           }
          },
          "ternary": {
           "aaxis": {
            "gridcolor": "white",
            "linecolor": "white",
            "ticks": ""
           },
           "baxis": {
            "gridcolor": "white",
            "linecolor": "white",
            "ticks": ""
           },
           "bgcolor": "#E5ECF6",
           "caxis": {
            "gridcolor": "white",
            "linecolor": "white",
            "ticks": ""
           }
          },
          "title": {
           "x": 0.05
          },
          "xaxis": {
           "automargin": true,
           "gridcolor": "white",
           "linecolor": "white",
           "ticks": "",
           "title": {
            "standoff": 15
           },
           "zerolinecolor": "white",
           "zerolinewidth": 2
          },
          "yaxis": {
           "automargin": true,
           "gridcolor": "white",
           "linecolor": "white",
           "ticks": "",
           "title": {
            "standoff": 15
           },
           "zerolinecolor": "white",
           "zerolinewidth": 2
          }
         }
        },
        "title": {
         "text": "Benchmark of the simulation: impact of database and value size on operation numbers (x: len array; y: max val)"
        },
        "width": 1000,
        "xaxis": {
         "anchor": "y",
         "domain": [
          0,
          0.45
         ],
         "title": {
          "text": "Length of array"
         }
        },
        "xaxis2": {
         "anchor": "y2",
         "domain": [
          0.55,
          1
         ],
         "title": {
          "text": "Length of array"
         }
        },
        "xaxis3": {
         "anchor": "y3",
         "domain": [
          0,
          0.45
         ],
         "title": {
          "text": "Length of array"
         }
        },
        "xaxis4": {
         "anchor": "y4",
         "domain": [
          0.55,
          1
         ],
         "title": {
          "text": "Length of array"
         }
        },
        "yaxis": {
         "anchor": "x",
         "domain": [
          0.625,
          1
         ],
         "title": {
          "text": "Max value of array"
         }
        },
        "yaxis2": {
         "anchor": "x2",
         "domain": [
          0.625,
          1
         ],
         "title": {
          "text": "Max value of array"
         }
        },
        "yaxis3": {
         "anchor": "x3",
         "domain": [
          0,
          0.375
         ],
         "title": {
          "text": "Max value of array"
         }
        },
        "yaxis4": {
         "anchor": "x4",
         "domain": [
          0,
          0.375
         ],
         "title": {
          "text": "Max value of array"
         }
        }
       }
      },
      "text/html": [
       "<div>                            <div id=\"99861be0-584d-4b7b-b3e2-4c492ca9c377\" class=\"plotly-graph-div\" style=\"height:800px; width:1000px;\"></div>            <script type=\"text/javascript\">                require([\"plotly\"], function(Plotly) {                    window.PLOTLYENV=window.PLOTLYENV || {};                                    if (document.getElementById(\"99861be0-584d-4b7b-b3e2-4c492ca9c377\")) {                    Plotly.newPlot(                        \"99861be0-584d-4b7b-b3e2-4c492ca9c377\",                        [{\"colorbar\":{\"len\":0.4,\"lenmode\":\"fraction\",\"thickness\":20,\"title\":{\"text\":\"#Qbits\"},\"x\":-0.2,\"y\":0.8},\"type\":\"heatmap\",\"x\":[3.0,4.0,5.0,6.0,7.0,8.0],\"xaxis\":\"x\",\"y\":[3.0,4.0,5.0,6.0,7.0,8.0],\"yaxis\":\"y\",\"z\":[[18,23,28,33,38,43],[19,24,29,34,39,44],[20,25,30,35,40,45],[21,26,31,36,41,46],[22,27,32,37,42,47],[23,28,33,38,43,48]],\"zsmooth\":\"best\"},{\"colorbar\":{\"len\":0.4,\"lenmode\":\"fraction\",\"thickness\":20,\"title\":{\"text\":\"#MCX\"},\"x\":1.1,\"y\":0.8},\"type\":\"heatmap\",\"x\":[3.0,4.0,5.0,6.0,7.0,8.0],\"xaxis\":\"x2\",\"y\":[3.0,4.0,5.0,6.0,7.0,8.0],\"yaxis\":\"y2\",\"z\":[[48,64,80,96,112,128],[97,129,161,193,225,257],[1,1,1,1,1,1],[385,513,641,769,897,1025],[769,1025,1281,1537,1793,2049],[1537,2049,2561,3073,3585,4097]],\"zsmooth\":\"best\"},{\"colorbar\":{\"len\":0.4,\"lenmode\":\"fraction\",\"thickness\":20,\"title\":{\"text\":\"#CX\"},\"x\":-0.2,\"y\":0.22},\"type\":\"heatmap\",\"x\":[3.0,4.0,5.0,6.0,7.0,8.0],\"xaxis\":\"x3\",\"y\":[3.0,4.0,5.0,6.0,7.0,8.0],\"yaxis\":\"y3\",\"z\":[[1,1,1,1,1,1],[1,1,1,1,1,1],[1,1,1,1,1,1],[1,1,1,1,1,1],[1,1,1,1,1,1],[1,1,1,1,1,1]],\"zsmooth\":\"best\"},{\"colorbar\":{\"len\":0.4,\"lenmode\":\"fraction\",\"thickness\":20,\"title\":{\"text\":\"#X\"},\"x\":1.1,\"y\":0.22},\"type\":\"heatmap\",\"x\":[3.0,4.0,5.0,6.0,7.0,8.0],\"xaxis\":\"x4\",\"y\":[3.0,4.0,5.0,6.0,7.0,8.0],\"yaxis\":\"y4\",\"z\":[[65,80,95,110,125,140],[97,112,127,142,157,172],[161,176,191,206,221,236],[289,304,319,334,349,364],[545,560,575,590,605,620],[1057,1072,1087,1102,1117,1132]],\"zsmooth\":\"best\"}],                        {\"annotations\":[{\"font\":{\"size\":16},\"showarrow\":false,\"text\":\"Number of Qbits\",\"x\":0.225,\"xanchor\":\"center\",\"xref\":\"paper\",\"y\":1.0,\"yanchor\":\"bottom\",\"yref\":\"paper\"},{\"font\":{\"size\":16},\"showarrow\":false,\"text\":\"Number of MCX\",\"x\":0.775,\"xanchor\":\"center\",\"xref\":\"paper\",\"y\":1.0,\"yanchor\":\"bottom\",\"yref\":\"paper\"},{\"font\":{\"size\":16},\"showarrow\":false,\"text\":\"Number of CX\",\"x\":0.225,\"xanchor\":\"center\",\"xref\":\"paper\",\"y\":0.375,\"yanchor\":\"bottom\",\"yref\":\"paper\"},{\"font\":{\"size\":16},\"showarrow\":false,\"text\":\"Number of X\",\"x\":0.775,\"xanchor\":\"center\",\"xref\":\"paper\",\"y\":0.375,\"yanchor\":\"bottom\",\"yref\":\"paper\"}],\"height\":800,\"template\":{\"data\":{\"bar\":[{\"error_x\":{\"color\":\"#2a3f5f\"},\"error_y\":{\"color\":\"#2a3f5f\"},\"marker\":{\"line\":{\"color\":\"#E5ECF6\",\"width\":0.5},\"pattern\":{\"fillmode\":\"overlay\",\"size\":10,\"solidity\":0.2}},\"type\":\"bar\"}],\"barpolar\":[{\"marker\":{\"line\":{\"color\":\"#E5ECF6\",\"width\":0.5},\"pattern\":{\"fillmode\":\"overlay\",\"size\":10,\"solidity\":0.2}},\"type\":\"barpolar\"}],\"carpet\":[{\"aaxis\":{\"endlinecolor\":\"#2a3f5f\",\"gridcolor\":\"white\",\"linecolor\":\"white\",\"minorgridcolor\":\"white\",\"startlinecolor\":\"#2a3f5f\"},\"baxis\":{\"endlinecolor\":\"#2a3f5f\",\"gridcolor\":\"white\",\"linecolor\":\"white\",\"minorgridcolor\":\"white\",\"startlinecolor\":\"#2a3f5f\"},\"type\":\"carpet\"}],\"choropleth\":[{\"colorbar\":{\"outlinewidth\":0,\"ticks\":\"\"},\"type\":\"choropleth\"}],\"contour\":[{\"colorbar\":{\"outlinewidth\":0,\"ticks\":\"\"},\"colorscale\":[[0.0,\"#0d0887\"],[0.1111111111111111,\"#46039f\"],[0.2222222222222222,\"#7201a8\"],[0.3333333333333333,\"#9c179e\"],[0.4444444444444444,\"#bd3786\"],[0.5555555555555556,\"#d8576b\"],[0.6666666666666666,\"#ed7953\"],[0.7777777777777778,\"#fb9f3a\"],[0.8888888888888888,\"#fdca26\"],[1.0,\"#f0f921\"]],\"type\":\"contour\"}],\"contourcarpet\":[{\"colorbar\":{\"outlinewidth\":0,\"ticks\":\"\"},\"type\":\"contourcarpet\"}],\"heatmap\":[{\"colorbar\":{\"outlinewidth\":0,\"ticks\":\"\"},\"colorscale\":[[0.0,\"#0d0887\"],[0.1111111111111111,\"#46039f\"],[0.2222222222222222,\"#7201a8\"],[0.3333333333333333,\"#9c179e\"],[0.4444444444444444,\"#bd3786\"],[0.5555555555555556,\"#d8576b\"],[0.6666666666666666,\"#ed7953\"],[0.7777777777777778,\"#fb9f3a\"],[0.8888888888888888,\"#fdca26\"],[1.0,\"#f0f921\"]],\"type\":\"heatmap\"}],\"heatmapgl\":[{\"colorbar\":{\"outlinewidth\":0,\"ticks\":\"\"},\"colorscale\":[[0.0,\"#0d0887\"],[0.1111111111111111,\"#46039f\"],[0.2222222222222222,\"#7201a8\"],[0.3333333333333333,\"#9c179e\"],[0.4444444444444444,\"#bd3786\"],[0.5555555555555556,\"#d8576b\"],[0.6666666666666666,\"#ed7953\"],[0.7777777777777778,\"#fb9f3a\"],[0.8888888888888888,\"#fdca26\"],[1.0,\"#f0f921\"]],\"type\":\"heatmapgl\"}],\"histogram\":[{\"marker\":{\"pattern\":{\"fillmode\":\"overlay\",\"size\":10,\"solidity\":0.2}},\"type\":\"histogram\"}],\"histogram2d\":[{\"colorbar\":{\"outlinewidth\":0,\"ticks\":\"\"},\"colorscale\":[[0.0,\"#0d0887\"],[0.1111111111111111,\"#46039f\"],[0.2222222222222222,\"#7201a8\"],[0.3333333333333333,\"#9c179e\"],[0.4444444444444444,\"#bd3786\"],[0.5555555555555556,\"#d8576b\"],[0.6666666666666666,\"#ed7953\"],[0.7777777777777778,\"#fb9f3a\"],[0.8888888888888888,\"#fdca26\"],[1.0,\"#f0f921\"]],\"type\":\"histogram2d\"}],\"histogram2dcontour\":[{\"colorbar\":{\"outlinewidth\":0,\"ticks\":\"\"},\"colorscale\":[[0.0,\"#0d0887\"],[0.1111111111111111,\"#46039f\"],[0.2222222222222222,\"#7201a8\"],[0.3333333333333333,\"#9c179e\"],[0.4444444444444444,\"#bd3786\"],[0.5555555555555556,\"#d8576b\"],[0.6666666666666666,\"#ed7953\"],[0.7777777777777778,\"#fb9f3a\"],[0.8888888888888888,\"#fdca26\"],[1.0,\"#f0f921\"]],\"type\":\"histogram2dcontour\"}],\"mesh3d\":[{\"colorbar\":{\"outlinewidth\":0,\"ticks\":\"\"},\"type\":\"mesh3d\"}],\"parcoords\":[{\"line\":{\"colorbar\":{\"outlinewidth\":0,\"ticks\":\"\"}},\"type\":\"parcoords\"}],\"pie\":[{\"automargin\":true,\"type\":\"pie\"}],\"scatter\":[{\"marker\":{\"colorbar\":{\"outlinewidth\":0,\"ticks\":\"\"}},\"type\":\"scatter\"}],\"scatter3d\":[{\"line\":{\"colorbar\":{\"outlinewidth\":0,\"ticks\":\"\"}},\"marker\":{\"colorbar\":{\"outlinewidth\":0,\"ticks\":\"\"}},\"type\":\"scatter3d\"}],\"scattercarpet\":[{\"marker\":{\"colorbar\":{\"outlinewidth\":0,\"ticks\":\"\"}},\"type\":\"scattercarpet\"}],\"scattergeo\":[{\"marker\":{\"colorbar\":{\"outlinewidth\":0,\"ticks\":\"\"}},\"type\":\"scattergeo\"}],\"scattergl\":[{\"marker\":{\"colorbar\":{\"outlinewidth\":0,\"ticks\":\"\"}},\"type\":\"scattergl\"}],\"scattermapbox\":[{\"marker\":{\"colorbar\":{\"outlinewidth\":0,\"ticks\":\"\"}},\"type\":\"scattermapbox\"}],\"scatterpolar\":[{\"marker\":{\"colorbar\":{\"outlinewidth\":0,\"ticks\":\"\"}},\"type\":\"scatterpolar\"}],\"scatterpolargl\":[{\"marker\":{\"colorbar\":{\"outlinewidth\":0,\"ticks\":\"\"}},\"type\":\"scatterpolargl\"}],\"scatterternary\":[{\"marker\":{\"colorbar\":{\"outlinewidth\":0,\"ticks\":\"\"}},\"type\":\"scatterternary\"}],\"surface\":[{\"colorbar\":{\"outlinewidth\":0,\"ticks\":\"\"},\"colorscale\":[[0.0,\"#0d0887\"],[0.1111111111111111,\"#46039f\"],[0.2222222222222222,\"#7201a8\"],[0.3333333333333333,\"#9c179e\"],[0.4444444444444444,\"#bd3786\"],[0.5555555555555556,\"#d8576b\"],[0.6666666666666666,\"#ed7953\"],[0.7777777777777778,\"#fb9f3a\"],[0.8888888888888888,\"#fdca26\"],[1.0,\"#f0f921\"]],\"type\":\"surface\"}],\"table\":[{\"cells\":{\"fill\":{\"color\":\"#EBF0F8\"},\"line\":{\"color\":\"white\"}},\"header\":{\"fill\":{\"color\":\"#C8D4E3\"},\"line\":{\"color\":\"white\"}},\"type\":\"table\"}]},\"layout\":{\"annotationdefaults\":{\"arrowcolor\":\"#2a3f5f\",\"arrowhead\":0,\"arrowwidth\":1},\"autotypenumbers\":\"strict\",\"coloraxis\":{\"colorbar\":{\"outlinewidth\":0,\"ticks\":\"\"}},\"colorscale\":{\"diverging\":[[0,\"#8e0152\"],[0.1,\"#c51b7d\"],[0.2,\"#de77ae\"],[0.3,\"#f1b6da\"],[0.4,\"#fde0ef\"],[0.5,\"#f7f7f7\"],[0.6,\"#e6f5d0\"],[0.7,\"#b8e186\"],[0.8,\"#7fbc41\"],[0.9,\"#4d9221\"],[1,\"#276419\"]],\"sequential\":[[0.0,\"#0d0887\"],[0.1111111111111111,\"#46039f\"],[0.2222222222222222,\"#7201a8\"],[0.3333333333333333,\"#9c179e\"],[0.4444444444444444,\"#bd3786\"],[0.5555555555555556,\"#d8576b\"],[0.6666666666666666,\"#ed7953\"],[0.7777777777777778,\"#fb9f3a\"],[0.8888888888888888,\"#fdca26\"],[1.0,\"#f0f921\"]],\"sequentialminus\":[[0.0,\"#0d0887\"],[0.1111111111111111,\"#46039f\"],[0.2222222222222222,\"#7201a8\"],[0.3333333333333333,\"#9c179e\"],[0.4444444444444444,\"#bd3786\"],[0.5555555555555556,\"#d8576b\"],[0.6666666666666666,\"#ed7953\"],[0.7777777777777778,\"#fb9f3a\"],[0.8888888888888888,\"#fdca26\"],[1.0,\"#f0f921\"]]},\"colorway\":[\"#636efa\",\"#EF553B\",\"#00cc96\",\"#ab63fa\",\"#FFA15A\",\"#19d3f3\",\"#FF6692\",\"#B6E880\",\"#FF97FF\",\"#FECB52\"],\"font\":{\"color\":\"#2a3f5f\"},\"geo\":{\"bgcolor\":\"white\",\"lakecolor\":\"white\",\"landcolor\":\"#E5ECF6\",\"showlakes\":true,\"showland\":true,\"subunitcolor\":\"white\"},\"hoverlabel\":{\"align\":\"left\"},\"hovermode\":\"closest\",\"mapbox\":{\"style\":\"light\"},\"paper_bgcolor\":\"white\",\"plot_bgcolor\":\"#E5ECF6\",\"polar\":{\"angularaxis\":{\"gridcolor\":\"white\",\"linecolor\":\"white\",\"ticks\":\"\"},\"bgcolor\":\"#E5ECF6\",\"radialaxis\":{\"gridcolor\":\"white\",\"linecolor\":\"white\",\"ticks\":\"\"}},\"scene\":{\"xaxis\":{\"backgroundcolor\":\"#E5ECF6\",\"gridcolor\":\"white\",\"gridwidth\":2,\"linecolor\":\"white\",\"showbackground\":true,\"ticks\":\"\",\"zerolinecolor\":\"white\"},\"yaxis\":{\"backgroundcolor\":\"#E5ECF6\",\"gridcolor\":\"white\",\"gridwidth\":2,\"linecolor\":\"white\",\"showbackground\":true,\"ticks\":\"\",\"zerolinecolor\":\"white\"},\"zaxis\":{\"backgroundcolor\":\"#E5ECF6\",\"gridcolor\":\"white\",\"gridwidth\":2,\"linecolor\":\"white\",\"showbackground\":true,\"ticks\":\"\",\"zerolinecolor\":\"white\"}},\"shapedefaults\":{\"line\":{\"color\":\"#2a3f5f\"}},\"ternary\":{\"aaxis\":{\"gridcolor\":\"white\",\"linecolor\":\"white\",\"ticks\":\"\"},\"baxis\":{\"gridcolor\":\"white\",\"linecolor\":\"white\",\"ticks\":\"\"},\"bgcolor\":\"#E5ECF6\",\"caxis\":{\"gridcolor\":\"white\",\"linecolor\":\"white\",\"ticks\":\"\"}},\"title\":{\"x\":0.05},\"xaxis\":{\"automargin\":true,\"gridcolor\":\"white\",\"linecolor\":\"white\",\"ticks\":\"\",\"title\":{\"standoff\":15},\"zerolinecolor\":\"white\",\"zerolinewidth\":2},\"yaxis\":{\"automargin\":true,\"gridcolor\":\"white\",\"linecolor\":\"white\",\"ticks\":\"\",\"title\":{\"standoff\":15},\"zerolinecolor\":\"white\",\"zerolinewidth\":2}}},\"title\":{\"text\":\"Benchmark of the simulation: impact of database and value size on operation numbers (x: len array; y: max val)\"},\"width\":1000,\"xaxis\":{\"anchor\":\"y\",\"domain\":[0.0,0.45],\"title\":{\"text\":\"Length of array\"}},\"xaxis2\":{\"anchor\":\"y2\",\"domain\":[0.55,1.0],\"title\":{\"text\":\"Length of array\"}},\"xaxis3\":{\"anchor\":\"y3\",\"domain\":[0.0,0.45],\"title\":{\"text\":\"Length of array\"}},\"xaxis4\":{\"anchor\":\"y4\",\"domain\":[0.55,1.0],\"title\":{\"text\":\"Length of array\"}},\"yaxis\":{\"anchor\":\"x\",\"domain\":[0.625,1.0],\"title\":{\"text\":\"Max value of array\"}},\"yaxis2\":{\"anchor\":\"x2\",\"domain\":[0.625,1.0],\"title\":{\"text\":\"Max value of array\"}},\"yaxis3\":{\"anchor\":\"x3\",\"domain\":[0.0,0.375],\"title\":{\"text\":\"Max value of array\"}},\"yaxis4\":{\"anchor\":\"x4\",\"domain\":[0.0,0.375],\"title\":{\"text\":\"Max value of array\"}}},                        {\"responsive\": true}                    ).then(function(){\n",
       "                            \n",
       "var gd = document.getElementById('99861be0-584d-4b7b-b3e2-4c492ca9c377');\n",
       "var x = new MutationObserver(function (mutations, observer) {{\n",
       "        var display = window.getComputedStyle(gd).display;\n",
       "        if (!display || display === 'none') {{\n",
       "            console.log([gd, 'removed!']);\n",
       "            Plotly.purge(gd);\n",
       "            observer.disconnect();\n",
       "        }}\n",
       "}});\n",
       "\n",
       "// Listen for the removal of the full notebook cells\n",
       "var notebookContainer = gd.closest('#notebook-container');\n",
       "if (notebookContainer) {{\n",
       "    x.observe(notebookContainer, {childList: true});\n",
       "}}\n",
       "\n",
       "// Listen for the clearing of the current output cell\n",
       "var outputEl = gd.closest('.output');\n",
       "if (outputEl) {{\n",
       "    x.observe(outputEl, {childList: true});\n",
       "}}\n",
       "\n",
       "                        })                };                });            </script>        </div>"
      ]
     },
     "metadata": {},
     "output_type": "display_data"
    }
   ],
   "source": [
    "fig = make_subplots(\n",
    "    rows=2, cols=2,\n",
    "    specs=[[{'type': 'heatmap'}, {'type': 'heatmap'}],\n",
    "           [{'type': 'heatmap'}, {'type': 'heatmap'}]],\n",
    "    subplot_titles=[\n",
    "        \"Number of Qbits\",\n",
    "        \"Number of MCX\",\n",
    "        \"Number of CX\",\n",
    "        \"Number of X\",\n",
    "    ]\n",
    ")\n",
    "\n",
    "fig.add_trace(\n",
    "    go.Heatmap(z=plot[\"q\"],\n",
    "                x=np.log2(x),\n",
    "                y=np.log2(y),\n",
    "                colorbar={\"title\":'#Qbits', \"lenmode\":'fraction', 'len':0.4, 'thickness':20, 'x':-0.2, 'y':0.8},\n",
    "                zsmooth= 'best'\n",
    "               ),\n",
    "    row=1, col=1)\n",
    "\n",
    "fig.add_trace(\n",
    "    go.Heatmap(z=plot[\"mcx\"],\n",
    "                colorbar={\"title\":'#MCX', \"lenmode\":'fraction', 'len':0.4, 'thickness':20, 'x':1.1, 'y':0.8} ,\n",
    "                x=np.log2(x),\n",
    "                y=np.log2(y),\n",
    "                zsmooth= 'best'\n",
    "               ),\n",
    "    row=1, col=2)\n",
    "\n",
    "fig.add_trace(\n",
    "    go.Heatmap(z=plot[\"cx\"],\n",
    "                colorbar={\"title\":'#CX', \"lenmode\":'fraction', 'len':0.4, 'thickness':20, 'x':-0.2, 'y':0.22} ,\n",
    "                x=np.log2(x),\n",
    "                y=np.log2(y),\n",
    "                zsmooth= 'best'\n",
    "               ),\n",
    "    row=2, col=1)\n",
    "\n",
    "fig.add_trace(\n",
    "    go.Heatmap(z=plot[\"x\"],\n",
    "                colorbar={\"title\":'#X', \"lenmode\":'fraction', 'len':0.4, 'thickness':20, 'x':1.1, 'y':0.22} ,\n",
    "                x=np.log2(x),\n",
    "                y=np.log2(y),\n",
    "                zsmooth= 'best'\n",
    "               ),\n",
    "    row=2, col=2)\n",
    "\n",
    "name = \"Benchmark of the simulation: impact of database and value size on operation numbers (x: len array; y: max val)\"\n",
    "\n",
    "fig.update_xaxes(title_text=\"Length of array\")\n",
    "fig.update_yaxes(title_text=\"Max value of array\")\n",
    "\n",
    "fig.update_layout(title=name,\n",
    "                  height=800,\n",
    "                  width=1000\n",
    "                 )\n"
   ]
  },
  {
   "cell_type": "markdown",
   "id": "09631db5",
   "metadata": {},
   "source": [
    "Unused code with different plotting choices. To check them out, please transform the cells back into \"Code\" type."
   ]
  },
  {
   "cell_type": "raw",
   "id": "97aa1fca",
   "metadata": {},
   "source": [
    "fig = go.Figure(data=go.Heatmap(z=plot,\n",
    "                colorbar={\"title\":'# of mcx'} ,\n",
    "                x=(x),\n",
    "                y=(y),\n",
    "                zsmooth= 'best'\n",
    "               ))\n",
    "\n",
    "fig.update_xaxes(tickformat=',d')\n",
    "fig.update_yaxes(tickformat=',d')\n",
    "\n",
    "fig.update_layout(\n",
    "    title=\"Benchmark of the simulation: impact of database and value size on MCX operation number\",\n",
    "    xaxis_title=\"Length of array, logarithmic plot (2**x))\",\n",
    "    yaxis_title=\"Max value of array, logarithmic plot (2**x))\",\n",
    "    title_x=0.5\n",
    ")\n",
    "\n",
    "fig.show()"
   ]
  },
  {
   "cell_type": "raw",
   "id": "6bf35dfa",
   "metadata": {},
   "source": [
    "fig = go.Figure(data=go.Heatmap(z=plot[\"mcx\"],\n",
    "                colorbar={\"title\":'# of mcx'} ,\n",
    "                x=np.log2(x),\n",
    "                y=np.log2(y),\n",
    "               ))\n",
    "\n",
    "fig.update_xaxes(tickformat=',d')\n",
    "fig.update_yaxes(tickformat=',d')\n",
    "\n",
    "fig.update_layout(\n",
    "    title=\"Benchmark of the simulation: impact of database and value size on MCX operation number\",\n",
    "    xaxis_title=\"Length of array\",\n",
    "    yaxis_title=\"Max value of array\",\n",
    "    title_x=0.5,\n",
    "    width=800, height=400 #This choice makes a huge difference on the look of the graph\n",
    ")\n",
    "\n",
    "fig.show()"
   ]
  },
  {
   "cell_type": "raw",
   "id": "282cbc94",
   "metadata": {},
   "source": [
    "x1 = np.log2(x)\n",
    "y1 = np.log2(y)\n",
    "\n",
    "fig = go.Figure(data=go.Heatmap(z=plot,\n",
    "                colorbar={\"title\":'# of mcx'} ,\n",
    "                x=x1,\n",
    "                y=y1,\n",
    "                zsmooth = 'best'\n",
    "               ))\n",
    "\n",
    "fig.update_xaxes(tickformat=',d')\n",
    "fig.update_yaxes(tickformat=',d')\n",
    "\n",
    "fig.update_layout(\n",
    "    title=\"Benchmark of the simulation: impact of database and value size on MCX operation number\",\n",
    "    xaxis_title=\"Length of array\",\n",
    "    yaxis_title=\"Max value of array\",\n",
    "    title_x=0.5,\n",
    "    width=800, height=400\n",
    ")\n",
    "\n",
    "fig.show()"
   ]
  },
  {
   "cell_type": "raw",
   "id": "38b47e22",
   "metadata": {
    "scrolled": false
   },
   "source": [
    "fig = go.Figure(data=go.Heatmap(z=plot,\n",
    "                colorbar={\"title\":'# of mcx'} ,\n",
    "                x=(x),\n",
    "                y=(y)\n",
    "               ))\n",
    "\n",
    "fig.update_xaxes(type=\"log\",dtick=math.log10(2))\n",
    "fig.update_yaxes(type=\"log\",dtick=math.log10(2))\n",
    "\n",
    "fig.update_layout(\n",
    "    title=\"Benchmark of the simulation: impact of database and value size on MCX operation number\",\n",
    "    xaxis_title=\"Length of array\",\n",
    "    yaxis_title=\"Max value of array\",\n",
    "    title_x=0.5\n",
    ")\n",
    "\n",
    "fig.show()"
   ]
  },
  {
   "cell_type": "raw",
   "id": "c05c8759",
   "metadata": {},
   "source": [
    "fig = go.Figure(data=go.Heatmap(z=plot,\n",
    "                colorbar={\"title\":'# of mcx'} ,\n",
    "                x=(x),\n",
    "                y=(y)\n",
    "               ))\n",
    "\n",
    "fig.update_xaxes(tickformat=',d')\n",
    "fig.update_yaxes(tickformat=',d')\n",
    "\n",
    "fig.update_layout(\n",
    "    title=\"Benchmark of the simulation: impact of database and value size on MCX operation number\",\n",
    "    xaxis_title=\"Length of array\",\n",
    "    yaxis_title=\"Max value of array\",\n",
    "    title_x=0.5\n",
    ")\n",
    "\n",
    "fig.show()"
   ]
  },
  {
   "cell_type": "markdown",
   "id": "e21f381e",
   "metadata": {},
   "source": [
    "### Plot Using px.imshow() for heatmap"
   ]
  },
  {
   "cell_type": "code",
   "execution_count": null,
   "id": "1a0539c4",
   "metadata": {},
   "outputs": [],
   "source": [
    "fig = px.imshow(plot['mcx'],\n",
    "                x=np.log2(x),\n",
    "                y=np.log2(y),\n",
    "                labels={\"color\":\"# of mcx\",\n",
    "                       \"x\":\"Length of array, logarithmic plot (2**x))\",\n",
    "                       \"y\":\"Max value of array, logarithmic plot (2**x))\",\n",
    "                       }\n",
    "               )\n",
    "\n",
    "fig.update_xaxes(tickformat=',d')\n",
    "fig.update_yaxes(tickformat=',d',autorange=True)\n",
    "\n",
    "fig.update_layout(\n",
    "    title=\"Benchmark of the simulation: impact of database and value size on MCX operation number\",\n",
    "    width=800, height=700\n",
    ")\n",
    "\n",
    "fig.show()"
   ]
  }
 ],
 "metadata": {
  "kernelspec": {
   "display_name": "Python 3",
   "language": "python",
   "name": "python3"
  },
  "language_info": {
   "codemirror_mode": {
    "name": "ipython",
    "version": 3
   },
   "file_extension": ".py",
   "mimetype": "text/x-python",
   "name": "python",
   "nbconvert_exporter": "python",
   "pygments_lexer": "ipython3",
   "version": "3.9.5"
  },
  "toc": {
   "base_numbering": 1,
   "nav_menu": {},
   "number_sections": true,
   "sideBar": true,
   "skip_h1_title": false,
   "title_cell": "Table of Contents",
   "title_sidebar": "Contents",
   "toc_cell": true,
   "toc_position": {
    "height": "calc(100% - 180px)",
    "left": "10px",
    "top": "150px",
    "width": "372.8px"
   },
   "toc_section_display": true,
   "toc_window_display": true
  },
  "varInspector": {
   "cols": {
    "lenName": 16,
    "lenType": 16,
    "lenVar": 40
   },
   "kernels_config": {
    "python": {
     "delete_cmd_postfix": "",
     "delete_cmd_prefix": "del ",
     "library": "var_list.py",
     "varRefreshCmd": "print(var_dic_list())"
    },
    "r": {
     "delete_cmd_postfix": ") ",
     "delete_cmd_prefix": "rm(",
     "library": "var_list.r",
     "varRefreshCmd": "cat(var_dic_list()) "
    }
   },
   "types_to_exclude": [
    "module",
    "function",
    "builtin_function_or_method",
    "instance",
    "_Feature"
   ],
   "window_display": false
  }
 },
 "nbformat": 4,
 "nbformat_minor": 5
}
