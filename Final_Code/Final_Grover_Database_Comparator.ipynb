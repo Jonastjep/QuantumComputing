{
 "cells": [
  {
   "cell_type": "markdown",
   "id": "a54f6ef1",
   "metadata": {
    "toc": true
   },
   "source": [
    "<h1>Table of Contents<span class=\"tocSkip\"></span></h1>\n",
    "<div class=\"toc\"><ul class=\"toc-item\"><li><span><a href=\"#Database-functions\" data-toc-modified-id=\"Database-functions-1\"><span class=\"toc-item-num\">1&nbsp;&nbsp;</span>Database functions</a></span></li><li><span><a href=\"#Comparator-functions\" data-toc-modified-id=\"Comparator-functions-2\"><span class=\"toc-item-num\">2&nbsp;&nbsp;</span>Comparator functions</a></span></li><li><span><a href=\"#Functions-for-final-code\" data-toc-modified-id=\"Functions-for-final-code-3\"><span class=\"toc-item-num\">3&nbsp;&nbsp;</span>Functions for final code</a></span></li><li><span><a href=\"#Final-Code\" data-toc-modified-id=\"Final-Code-4\"><span class=\"toc-item-num\">4&nbsp;&nbsp;</span>Final Code</a></span><ul class=\"toc-item\"><li><span><a href=\"#GPU\" data-toc-modified-id=\"GPU-4.1\"><span class=\"toc-item-num\">4.1&nbsp;&nbsp;</span>GPU</a></span></li><li><span><a href=\"#CPU\" data-toc-modified-id=\"CPU-4.2\"><span class=\"toc-item-num\">4.2&nbsp;&nbsp;</span>CPU</a></span></li><li><span><a href=\"#Quantum-counting\" data-toc-modified-id=\"Quantum-counting-4.3\"><span class=\"toc-item-num\">4.3&nbsp;&nbsp;</span>Quantum counting</a></span></li></ul></li><li><span><a href=\"#Application-to-real-SNR's\" data-toc-modified-id=\"Application-to-real-SNR's-5\"><span class=\"toc-item-num\">5&nbsp;&nbsp;</span>Application to real SNR's</a></span><ul class=\"toc-item\"><li><span><a href=\"#Running-over-full-SNR-array-(broken-into-pieces)\" data-toc-modified-id=\"Running-over-full-SNR-array-(broken-into-pieces)-5.1\"><span class=\"toc-item-num\">5.1&nbsp;&nbsp;</span>Running over full SNR array (broken into pieces)</a></span></li></ul></li></ul></div>"
   ]
  },
  {
   "cell_type": "code",
   "execution_count": 23,
   "id": "e8019896",
   "metadata": {
    "ExecuteTime": {
     "end_time": "2021-12-07T17:41:03.265730Z",
     "start_time": "2021-12-07T17:41:03.262126Z"
    },
    "init_cell": true
   },
   "outputs": [],
   "source": [
    "from qiskit import QuantumCircuit, assemble, Aer, QuantumRegister, ClassicalRegister, AncillaRegister, transpile\n",
    "from qiskit.visualization import plot_bloch_multivector, plot_histogram, array_to_latex\n",
    "import math\n",
    "from math import log, ceil, floor\n",
    "import plotly.express as px\n",
    "import numpy as np\n",
    "import timeit\n",
    "import time"
   ]
  },
  {
   "cell_type": "markdown",
   "id": "26d2fc6a",
   "metadata": {},
   "source": [
    "# Database functions"
   ]
  },
  {
   "cell_type": "code",
   "execution_count": 24,
   "id": "532336cc",
   "metadata": {
    "ExecuteTime": {
     "end_time": "2021-12-07T17:41:03.282010Z",
     "start_time": "2021-12-07T17:41:03.267276Z"
    },
    "init_cell": true
   },
   "outputs": [
    {
     "data": {
      "text/html": [
       "<pre style=\"word-wrap: normal;white-space: pre;background: #fff0;line-height: 1.1;font-family: &quot;Courier New&quot;,Courier,monospace\">     ┌───┐     ┌───┐\n",
       "q_0: ┤ X ├──■──┤ X ├\n",
       "     └───┘  │  └───┘\n",
       "q_1: ───────■───────\n",
       "     ┌───┐  │  ┌───┐\n",
       "q_2: ┤ X ├──■──┤ X ├\n",
       "     ├───┤  │  ├───┤\n",
       "q_3: ┤ X ├──■──┤ X ├\n",
       "     └───┘┌─┴─┐└───┘\n",
       "q_4: ─────┤ X ├─────\n",
       "          └───┘     </pre>"
      ],
      "text/plain": [
       "     ┌───┐     ┌───┐\n",
       "q_0: ┤ X ├──■──┤ X ├\n",
       "     └───┘  │  └───┘\n",
       "q_1: ───────■───────\n",
       "     ┌───┐  │  ┌───┐\n",
       "q_2: ┤ X ├──■──┤ X ├\n",
       "     ├───┤  │  ├───┤\n",
       "q_3: ┤ X ├──■──┤ X ├\n",
       "     └───┘┌─┴─┐└───┘\n",
       "q_4: ─────┤ X ├─────\n",
       "          └───┘     "
      ]
     },
     "execution_count": 24,
     "metadata": {},
     "output_type": "execute_result"
    }
   ],
   "source": [
    "def create_oracle(v_reg, nb_check):\n",
    "    qc = QuantumCircuit(v_reg + 1)\n",
    "    \n",
    "    a = len(bin(nb_check)[2:]) #This gives the length of binary value to encode \n",
    "    pos = 0\n",
    "    for j in list(bin(nb_check)[2:])[::-1]+(v_reg-a)*['0']: #loops through the reverse ordered list composed of the binary encoding of the value\n",
    "        if not int(j):\n",
    "            qc.x(pos)\n",
    "            \n",
    "        pos += 1\n",
    "        \n",
    "    qc.mct(list(range(v_reg)),v_reg)\n",
    "    \n",
    "    pos = 0\n",
    "    for j in list(bin(nb_check)[2:])[::-1]+(v_reg-a)*['0']: #loops through the reverse ordered list composed of the binary encoding of the value\n",
    "        if not int(j):\n",
    "            qc.x(pos)\n",
    "            \n",
    "        pos += 1\n",
    "        \n",
    "    return qc\n",
    "\n",
    "create_oracle(4, 2).draw()"
   ]
  },
  {
   "cell_type": "code",
   "execution_count": 42,
   "id": "7bb8bf53",
   "metadata": {
    "ExecuteTime": {
     "end_time": "2021-12-07T20:37:01.496821Z",
     "start_time": "2021-12-07T20:37:01.487100Z"
    },
    "init_cell": true
   },
   "outputs": [],
   "source": [
    "#This function takes in the number of qbits inside the index register and value register, as well as the array\n",
    "# that works as database and ecodes those values automatically as gates.\n",
    "\n",
    "#There are some extra x gates that are useless, and those will be removed in a next code update. They don't affect results.\n",
    "def encode_qc(i_reg,v_reg,val_array):\n",
    "    \n",
    "    qc = QuantumCircuit(i_reg + v_reg)\n",
    "    \n",
    "    for step in range(len(val_array)):\n",
    "        \n",
    "        x_place = 0 #This variable is used to find where to put the NOT in the CNOT encoding\n",
    "        a = len(bin(val_array[step])[2:]) #This gives the length of binary value to encode \n",
    "        \n",
    "        for j in list(bin(val_array[step])[2:])[::-1]+(v_reg-a)*['0']: #loops through the reverse ordered list composed of the binary encoding of the value\n",
    "\n",
    "            ### CONTROL X encoding ###\n",
    "            if int(j):\n",
    "                \n",
    "                ### X encoding ###\n",
    "                pos = 0\n",
    "                b = len(bin(step)[2:])\n",
    "                for i in list(bin(step)[2:])[::-1]+(i_reg-b)*['0']:\n",
    "\n",
    "                    if not int(i) and int(j):\n",
    "                        qc.x(pos)\n",
    "                    pos += 1\n",
    "                \n",
    "                qc.mcx(list(range(i_reg)), i_reg + x_place)\n",
    "\n",
    "\n",
    "                ### X encoding ###\n",
    "                pos = 0\n",
    "                b = len(bin(step)[2:])\n",
    "                for i in list(bin(step)[2:])[::-1]+(i_reg-b)*['0']:\n",
    "\n",
    "                    if not int(i):\n",
    "                        qc.x(pos)\n",
    "                    pos += 1\n",
    "                    \n",
    "#                 qc.barrier() #uncomment this is you want a more readable circuit, but then cannot be used as gate\n",
    "\n",
    "\n",
    "            x_place += 1\n",
    "    \n",
    "    return qc"
   ]
  },
  {
   "cell_type": "code",
   "execution_count": 20,
   "id": "27276397",
   "metadata": {
    "ExecuteTime": {
     "end_time": "2021-12-07T10:52:41.739011Z",
     "start_time": "2021-12-07T10:52:41.725104Z"
    }
   },
   "outputs": [
    {
     "name": "stdout",
     "output_type": "stream",
     "text": [
      "% \\documentclass[preview]{standalone}\n",
      "% If the image is too large to fit on this documentclass use\n",
      "\\documentclass[draft]{beamer}\n",
      "% img_width = 7, img_depth = 22\n",
      "\\usepackage[size=custom,height=10,width=39,scale=0.7]{beamerposter}\n",
      "% instead and customize the height and width (in cm) to fit.\n",
      "% Large images may run out of memory quickly.\n",
      "% To fix this use the LuaLaTeX compiler, which dynamically\n",
      "% allocates memory.\n",
      "\\usepackage[braket, qm]{qcircuit}\n",
      "\\usepackage{amsmath}\n",
      "\\pdfmapfile{+sansmathaccent.map}\n",
      "% \\usepackage[landscape]{geometry}\n",
      "% Comment out the above line if using the beamer documentclass.\n",
      "\\begin{document}\n",
      "\n",
      "\\begin{equation*}\n",
      "    \\Qcircuit @C=1.0em @R=0.2em @!R {\n",
      "\t \t\\lstick{ {q}_{0} :  } & \\gate{\\mathrm{X}} & \\ctrl{1} & \\gate{\\mathrm{X}} \\barrier[0em]{6} & \\qw & \\gate{\\mathrm{X}} & \\ctrl{1} & \\gate{\\mathrm{X}} \\barrier[0em]{6} & \\qw & \\qw & \\ctrl{1} & \\qw \\barrier[0em]{6} & \\qw & \\gate{\\mathrm{X}} & \\ctrl{1} & \\gate{\\mathrm{X}} \\barrier[0em]{6} & \\qw & \\gate{\\mathrm{X}} & \\ctrl{1} & \\gate{\\mathrm{X}} \\barrier[0em]{6} & \\qw & \\qw & \\qw\\\\\n",
      "\t \t\\lstick{ {q}_{1} :  } & \\gate{\\mathrm{X}} & \\ctrl{1} & \\gate{\\mathrm{X}} & \\qw & \\gate{\\mathrm{X}} & \\ctrl{1} & \\gate{\\mathrm{X}} & \\qw & \\gate{\\mathrm{X}} & \\ctrl{1} & \\gate{\\mathrm{X}} & \\qw & \\qw & \\ctrl{1} & \\qw & \\qw & \\qw & \\ctrl{1} & \\qw & \\qw & \\qw & \\qw\\\\\n",
      "\t \t\\lstick{ {q}_{2} :  } & \\gate{\\mathrm{X}} & \\ctrl{1} & \\gate{\\mathrm{X}} & \\qw & \\gate{\\mathrm{X}} & \\ctrl{2} & \\gate{\\mathrm{X}} & \\qw & \\gate{\\mathrm{X}} & \\ctrl{3} & \\gate{\\mathrm{X}} & \\qw & \\gate{\\mathrm{X}} & \\ctrl{1} & \\gate{\\mathrm{X}} & \\qw & \\gate{\\mathrm{X}} & \\ctrl{4} & \\gate{\\mathrm{X}} & \\qw & \\qw & \\qw\\\\\n",
      "\t \t\\lstick{ {q}_{3} :  } & \\qw & \\targ & \\qw & \\qw & \\qw & \\qw & \\qw & \\qw & \\qw & \\qw & \\qw & \\qw & \\qw & \\targ & \\qw & \\qw & \\qw & \\qw & \\qw & \\qw & \\qw & \\qw\\\\\n",
      "\t \t\\lstick{ {q}_{4} :  } & \\qw & \\qw & \\qw & \\qw & \\qw & \\targ & \\qw & \\qw & \\qw & \\qw & \\qw & \\qw & \\qw & \\qw & \\qw & \\qw & \\qw & \\qw & \\qw & \\qw & \\qw & \\qw\\\\\n",
      "\t \t\\lstick{ {q}_{5} :  } & \\qw & \\qw & \\qw & \\qw & \\qw & \\qw & \\qw & \\qw & \\qw & \\targ & \\qw & \\qw & \\qw & \\qw & \\qw & \\qw & \\qw & \\qw & \\qw & \\qw & \\qw & \\qw\\\\\n",
      "\t \t\\lstick{ {q}_{6} :  } & \\qw & \\qw & \\qw & \\qw & \\qw & \\qw & \\qw & \\qw & \\qw & \\qw & \\qw & \\qw & \\qw & \\qw & \\qw & \\qw & \\qw & \\targ & \\qw & \\qw & \\qw & \\qw\\\\\n",
      "\t }\n",
      "\\end{equation*}\n",
      "\n",
      "\\end{document}\n"
     ]
    }
   ],
   "source": [
    "print(encode_qc(3,4,[3,4,9]).draw(output='latex_source',fold=-1))"
   ]
  },
  {
   "cell_type": "code",
   "execution_count": null,
   "id": "48f4c8c9",
   "metadata": {},
   "outputs": [],
   "source": [
    "encode_qc(3,4,[3,4,9,13]).reverse_ops().draw(fold=-1)"
   ]
  },
  {
   "cell_type": "markdown",
   "id": "b6af42fe",
   "metadata": {},
   "source": [
    "# Comparator functions"
   ]
  },
  {
   "cell_type": "code",
   "execution_count": 26,
   "id": "869453ca",
   "metadata": {
    "ExecuteTime": {
     "end_time": "2021-12-07T17:41:03.293783Z",
     "start_time": "2021-12-07T17:41:03.290309Z"
    },
    "init_cell": true
   },
   "outputs": [],
   "source": [
    "def U_c():\n",
    "    qc = QuantumCircuit(4)\n",
    "    \n",
    "    qc.x(1)\n",
    "    qc.mcx([0,1],2, mode='noancilla')\n",
    "    qc.x([0,1])\n",
    "    qc.mcx([0,1],3, mode='noancilla')\n",
    "    qc.x(0)\n",
    "    \n",
    "    return qc"
   ]
  },
  {
   "cell_type": "code",
   "execution_count": 21,
   "id": "5574b723",
   "metadata": {
    "ExecuteTime": {
     "end_time": "2021-12-07T14:53:23.387577Z",
     "start_time": "2021-12-07T14:53:23.376796Z"
    }
   },
   "outputs": [
    {
     "data": {
      "text/html": [
       "<pre style=\"word-wrap: normal;white-space: pre;background: #fff0;line-height: 1.1;font-family: &quot;Courier New&quot;,Courier,monospace\">               ┌───┐     ┌───┐\n",
       "q_0: ───────■──┤ X ├──■──┤ X ├\n",
       "     ┌───┐  │  ├───┤  │  └───┘\n",
       "q_1: ┤ X ├──■──┤ X ├──■───────\n",
       "     └───┘┌─┴─┐└───┘  │       \n",
       "q_2: ─────┤ X ├───────┼───────\n",
       "          └───┘     ┌─┴─┐     \n",
       "q_3: ───────────────┤ X ├─────\n",
       "                    └───┘     </pre>"
      ],
      "text/plain": [
       "               ┌───┐     ┌───┐\n",
       "q_0: ───────■──┤ X ├──■──┤ X ├\n",
       "     ┌───┐  │  ├───┤  │  └───┘\n",
       "q_1: ┤ X ├──■──┤ X ├──■───────\n",
       "     └───┘┌─┴─┐└───┘  │       \n",
       "q_2: ─────┤ X ├───────┼───────\n",
       "          └───┘     ┌─┴─┐     \n",
       "q_3: ───────────────┤ X ├─────\n",
       "                    └───┘     "
      ]
     },
     "execution_count": 21,
     "metadata": {},
     "output_type": "execute_result"
    }
   ],
   "source": [
    "U_c().draw()"
   ]
  },
  {
   "cell_type": "code",
   "execution_count": 27,
   "id": "03cf3f4e",
   "metadata": {
    "ExecuteTime": {
     "end_time": "2021-12-07T17:41:03.304246Z",
     "start_time": "2021-12-07T17:41:03.295647Z"
    },
    "init_cell": true
   },
   "outputs": [],
   "source": [
    "def n_comp_p1(n):\n",
    "    qc = QuantumCircuit(5*n)\n",
    "    \n",
    "    u_c = U_c().to_gate()\n",
    "    u_c.label = \"U_c\"\n",
    "    \n",
    "    for i in range(n):\n",
    "        qc.append(u_c, range(i*5,i*5 + 4))\n",
    "        \n",
    "    for i in range(n-1):\n",
    "        qc.x(i*5 + 2)\n",
    "        qc.x(i*5 + 3)\n",
    "        qc.mcx([i*5 + 2, i*5 + 3], i*5 + 4, mode='noancilla')\n",
    "        qc.x(i*5 + 2)\n",
    "        qc.x(i*5 + 3)\n",
    "        \n",
    "    for i in reversed(range(n-1)):\n",
    "        qc.mcx([i*5 + 4,i*5 + 7], i*5 + 2, mode='noancilla')\n",
    "        qc.mcx([i*5 + 4,i*5 + 8], i*5 + 3, mode='noancilla')\n",
    "        \n",
    "    return qc"
   ]
  },
  {
   "cell_type": "code",
   "execution_count": 33,
   "id": "41a63686",
   "metadata": {
    "ExecuteTime": {
     "end_time": "2021-12-07T18:09:13.063108Z",
     "start_time": "2021-12-07T18:09:13.050066Z"
    },
    "scrolled": false
   },
   "outputs": [
    {
     "name": "stdout",
     "output_type": "stream",
     "text": [
      "% \\documentclass[preview]{standalone}\n",
      "% If the image is too large to fit on this documentclass use\n",
      "\\documentclass[draft]{beamer}\n",
      "% img_width = 20, img_depth = 10\n",
      "\\usepackage[size=custom,height=30,width=21,scale=0.7]{beamerposter}\n",
      "% instead and customize the height and width (in cm) to fit.\n",
      "% Large images may run out of memory quickly.\n",
      "% To fix this use the LuaLaTeX compiler, which dynamically\n",
      "% allocates memory.\n",
      "\\usepackage[braket, qm]{qcircuit}\n",
      "\\usepackage{amsmath}\n",
      "\\pdfmapfile{+sansmathaccent.map}\n",
      "% \\usepackage[landscape]{geometry}\n",
      "% Comment out the above line if using the beamer documentclass.\n",
      "\\begin{document}\n",
      "\n",
      "\\begin{equation*}\n",
      "    \\Qcircuit @C=1.0em @R=0.2em @!R {\n",
      "\t \t\\lstick{ {q}_{0} :  } & \\multigate{3}{\\mathrm{U\\_c}} & \\qw & \\qw & \\qw & \\qw & \\qw & \\qw & \\qw & \\qw & \\qw\\\\\n",
      "\t \t\\lstick{ {q}_{1} :  } & \\ghost{\\mathrm{U\\_c}} & \\qw & \\qw & \\qw & \\qw & \\qw & \\qw & \\qw & \\qw & \\qw\\\\\n",
      "\t \t\\lstick{ {q}_{2} :  } & \\ghost{\\mathrm{U\\_c}} & \\gate{\\mathrm{X}} & \\ctrl{1} & \\gate{\\mathrm{X}} & \\qw & \\qw & \\targ & \\qw & \\qw & \\qw\\\\\n",
      "\t \t\\lstick{ {q}_{3} :  } & \\ghost{\\mathrm{U\\_c}} & \\gate{\\mathrm{X}} & \\ctrl{1} & \\gate{\\mathrm{X}} & \\qw & \\qw & \\qw & \\targ & \\qw & \\qw\\\\\n",
      "\t \t\\lstick{ {q}_{4} :  } & \\qw & \\qw & \\targ & \\qw & \\qw & \\qw & \\ctrl{-2} & \\ctrl{-1} & \\qw & \\qw\\\\\n",
      "\t \t\\lstick{ {q}_{5} :  } & \\multigate{3}{\\mathrm{U\\_c}} & \\qw & \\qw & \\qw & \\qw & \\qw & \\qw & \\qw & \\qw & \\qw\\\\\n",
      "\t \t\\lstick{ {q}_{6} :  } & \\ghost{\\mathrm{U\\_c}} & \\qw & \\qw & \\qw & \\qw & \\qw & \\qw & \\qw & \\qw & \\qw\\\\\n",
      "\t \t\\lstick{ {q}_{7} :  } & \\ghost{\\mathrm{U\\_c}} & \\gate{\\mathrm{X}} & \\ctrl{1} & \\gate{\\mathrm{X}} & \\qw & \\targ & \\ctrl{-3} & \\qw & \\qw & \\qw\\\\\n",
      "\t \t\\lstick{ {q}_{8} :  } & \\ghost{\\mathrm{U\\_c}} & \\gate{\\mathrm{X}} & \\ctrl{1} & \\gate{\\mathrm{X}} & \\qw & \\qw & \\targ & \\ctrl{-4} & \\qw & \\qw\\\\\n",
      "\t \t\\lstick{ {q}_{9} :  } & \\qw & \\qw & \\targ & \\qw & \\qw & \\ctrl{-2} & \\ctrl{-1} & \\qw & \\qw & \\qw\\\\\n",
      "\t \t\\lstick{ {q}_{10} :  } & \\multigate{3}{\\mathrm{U\\_c}} & \\qw & \\qw & \\qw & \\qw & \\qw & \\qw & \\qw & \\qw & \\qw\\\\\n",
      "\t \t\\lstick{ {q}_{11} :  } & \\ghost{\\mathrm{U\\_c}} & \\qw & \\qw & \\qw & \\qw & \\qw & \\qw & \\qw & \\qw & \\qw\\\\\n",
      "\t \t\\lstick{ {q}_{12} :  } & \\ghost{\\mathrm{U\\_c}} & \\gate{\\mathrm{X}} & \\ctrl{1} & \\gate{\\mathrm{X}} & \\targ & \\ctrl{-3} & \\qw & \\qw & \\qw & \\qw\\\\\n",
      "\t \t\\lstick{ {q}_{13} :  } & \\ghost{\\mathrm{U\\_c}} & \\gate{\\mathrm{X}} & \\ctrl{1} & \\gate{\\mathrm{X}} & \\qw & \\targ & \\ctrl{-4} & \\qw & \\qw & \\qw\\\\\n",
      "\t \t\\lstick{ {q}_{14} :  } & \\qw & \\qw & \\targ & \\qw & \\ctrl{-2} & \\ctrl{-1} & \\qw & \\qw & \\qw & \\qw\\\\\n",
      "\t \t\\lstick{ {q}_{15} :  } & \\multigate{3}{\\mathrm{U\\_c}} & \\qw & \\qw & \\qw & \\qw & \\qw & \\qw & \\qw & \\qw & \\qw\\\\\n",
      "\t \t\\lstick{ {q}_{16} :  } & \\ghost{\\mathrm{U\\_c}} & \\qw & \\qw & \\qw & \\qw & \\qw & \\qw & \\qw & \\qw & \\qw\\\\\n",
      "\t \t\\lstick{ {q}_{17} :  } & \\ghost{\\mathrm{U\\_c}} & \\qw & \\qw & \\qw & \\ctrl{-3} & \\qw & \\qw & \\qw & \\qw & \\qw\\\\\n",
      "\t \t\\lstick{ {q}_{18} :  } & \\ghost{\\mathrm{U\\_c}} & \\qw & \\qw & \\qw & \\qw & \\ctrl{-4} & \\qw & \\qw & \\qw & \\qw\\\\\n",
      "\t \t\\lstick{ {q}_{19} :  } & \\qw & \\qw & \\qw & \\qw & \\qw & \\qw & \\qw & \\qw & \\qw & \\qw\\\\\n",
      "\t }\n",
      "\\end{equation*}\n",
      "\n",
      "\\end{document}\n"
     ]
    }
   ],
   "source": [
    "print(n_comp_p1(4).draw(output=\"latex_source\"))"
   ]
  },
  {
   "cell_type": "code",
   "execution_count": 28,
   "id": "9dcaf896",
   "metadata": {
    "ExecuteTime": {
     "end_time": "2021-12-07T17:41:03.320272Z",
     "start_time": "2021-12-07T17:41:03.306068Z"
    },
    "init_cell": true,
    "scrolled": true
   },
   "outputs": [
    {
     "data": {
      "text/html": [
       "<pre style=\"word-wrap: normal;white-space: pre;background: #fff0;line-height: 1.1;font-family: &quot;Courier New&quot;,Courier,monospace\">      ┌───────────┐     ┌───────────┐\n",
       " q_0: ┤0          ├─────┤0          ├\n",
       "      │           │     │           │\n",
       " q_1: ┤1          ├─────┤1          ├\n",
       "      │           │     │           │\n",
       " q_2: ┤2          ├─────┤2          ├\n",
       "      │           │     │           │\n",
       " q_3: ┤3          ├──■──┤3          ├\n",
       "      │           │  │  │           │\n",
       " q_4: ┤4          ├──┼──┤4          ├\n",
       "      │           │  │  │           │\n",
       " q_5: ┤5          ├──┼──┤5          ├\n",
       "      │           │  │  │           │\n",
       " q_6: ┤6          ├──┼──┤6          ├\n",
       "      │           │  │  │           │\n",
       " q_7: ┤7  Comp_p1 ├──┼──┤7  Comp_p1 ├\n",
       "      │           │  │  │           │\n",
       " q_8: ┤8          ├──┼──┤8          ├\n",
       "      │           │  │  │           │\n",
       " q_9: ┤9          ├──┼──┤9          ├\n",
       "      │           │  │  │           │\n",
       "q_10: ┤10         ├──┼──┤10         ├\n",
       "      │           │  │  │           │\n",
       "q_11: ┤11         ├──┼──┤11         ├\n",
       "      │           │  │  │           │\n",
       "q_12: ┤12         ├──┼──┤12         ├\n",
       "      │           │  │  │           │\n",
       "q_13: ┤13         ├──┼──┤13         ├\n",
       "      │           │┌─┴─┐│           │\n",
       "q_14: ┤14         ├┤ X ├┤14         ├\n",
       "      └───────────┘└───┘└───────────┘</pre>"
      ],
      "text/plain": [
       "      ┌───────────┐     ┌───────────┐\n",
       " q_0: ┤0          ├─────┤0          ├\n",
       "      │           │     │           │\n",
       " q_1: ┤1          ├─────┤1          ├\n",
       "      │           │     │           │\n",
       " q_2: ┤2          ├─────┤2          ├\n",
       "      │           │     │           │\n",
       " q_3: ┤3          ├──■──┤3          ├\n",
       "      │           │  │  │           │\n",
       " q_4: ┤4          ├──┼──┤4          ├\n",
       "      │           │  │  │           │\n",
       " q_5: ┤5          ├──┼──┤5          ├\n",
       "      │           │  │  │           │\n",
       " q_6: ┤6          ├──┼──┤6          ├\n",
       "      │           │  │  │           │\n",
       " q_7: ┤7  Comp_p1 ├──┼──┤7  Comp_p1 ├\n",
       "      │           │  │  │           │\n",
       " q_8: ┤8          ├──┼──┤8          ├\n",
       "      │           │  │  │           │\n",
       " q_9: ┤9          ├──┼──┤9          ├\n",
       "      │           │  │  │           │\n",
       "q_10: ┤10         ├──┼──┤10         ├\n",
       "      │           │  │  │           │\n",
       "q_11: ┤11         ├──┼──┤11         ├\n",
       "      │           │  │  │           │\n",
       "q_12: ┤12         ├──┼──┤12         ├\n",
       "      │           │  │  │           │\n",
       "q_13: ┤13         ├──┼──┤13         ├\n",
       "      │           │┌─┴─┐│           │\n",
       "q_14: ┤14         ├┤ X ├┤14         ├\n",
       "      └───────────┘└───┘└───────────┘"
      ]
     },
     "execution_count": 28,
     "metadata": {},
     "output_type": "execute_result"
    }
   ],
   "source": [
    "def n_comparator(n):\n",
    "    qc = QuantumCircuit(5*n)\n",
    "    \n",
    "    c1 = n_comp_p1(n).to_gate()\n",
    "    c1.label = \"Comp_p1\"\n",
    "    \n",
    "    qc.append(c1, range(5*n))\n",
    "    \n",
    "    qc.cx(3,5*n-1)\n",
    "    \n",
    "    qc.append(c1.reverse_ops(), range(5*n))\n",
    "    \n",
    "    return qc\n",
    "\n",
    "n_comparator(3).draw()"
   ]
  },
  {
   "cell_type": "markdown",
   "id": "f89b7f04",
   "metadata": {},
   "source": [
    "# Functions for final code"
   ]
  },
  {
   "cell_type": "code",
   "execution_count": 29,
   "id": "39f540e0",
   "metadata": {
    "ExecuteTime": {
     "end_time": "2021-12-07T17:41:03.326108Z",
     "start_time": "2021-12-07T17:41:03.322102Z"
    },
    "init_cell": true
   },
   "outputs": [],
   "source": [
    "#This function takes in the quantum circuit to add the threshold, the size \n",
    "def set_thresh(qc, nb_i_bits, nb_v_bits, val):\n",
    "    pos = 0\n",
    "    a = len(bin(val)[2:])\n",
    "    # This time no [::-1] (no reverse order), as the order of encoding is opposite to the system; instead we first add the 0s and then the binary nb\n",
    "    for j in (nb_v_bits-a)*['0']+list(bin(val)[2:]): #loops through the reverse ordered list composed of the binary encoding of the value\n",
    "        if int(j):\n",
    "            qc.x(nb_i_bits+ pos*5)\n",
    "            \n",
    "        pos += 1"
   ]
  },
  {
   "cell_type": "markdown",
   "id": "966831ad",
   "metadata": {},
   "source": [
    "# Final Code"
   ]
  },
  {
   "cell_type": "code",
   "execution_count": 52,
   "id": "5a2b953a",
   "metadata": {
    "ExecuteTime": {
     "end_time": "2021-12-07T21:03:52.344462Z",
     "start_time": "2021-12-07T21:03:52.221163Z"
    },
    "scrolled": false
   },
   "outputs": [
    {
     "data": {
      "text/html": [
       "<pre style=\"word-wrap: normal;white-space: pre;background: #fff0;line-height: 1.1;font-family: &quot;Courier New&quot;,Courier,monospace\">           ┌───┐      ░ ┌─────────────────────┐                ┌─────────────────────┐ ░ ┌───┐┌───┐          ┌───┐┌───┐     ┌─┐                  \n",
       "      d_0: ┤ H ├──────░─┤0                    ├────────────────┤0                    ├─░─┤ H ├┤ X ├───────■──┤ X ├┤ H ├─────┤M├──────────────────\n",
       "           ├───┤      ░ │                     │                │                     │ ░ ├───┤├───┤       │  ├───┤├───┤     └╥┘┌─┐               \n",
       "      d_1: ┤ H ├──────░─┤1                    ├────────────────┤1                    ├─░─┤ H ├┤ X ├───────■──┤ X ├┤ H ├──────╫─┤M├───────────────\n",
       "           ├───┤      ░ │                     │                │                     │ ░ ├───┤├───┤       │  ├───┤├───┤      ║ └╥┘┌─┐            \n",
       "      d_2: ┤ H ├──────░─┤2                    ├────────────────┤2                    ├─░─┤ H ├┤ X ├───────■──┤ X ├┤ H ├──────╫──╫─┤M├────────────\n",
       "           ├───┤      ░ │                     │                │                     │ ░ ├───┤├───┤       │  ├───┤├───┤      ║  ║ └╥┘┌─┐         \n",
       "      d_3: ┤ H ├──────░─┤3                    ├────────────────┤3                    ├─░─┤ H ├┤ X ├───────■──┤ X ├┤ H ├──────╫──╫──╫─┤M├─────────\n",
       "           ├───┤      ░ │                     │                │                     │ ░ ├───┤├───┤       │  ├───┤├───┤      ║  ║  ║ └╥┘┌─┐      \n",
       "      d_4: ┤ H ├──────░─┤4                    ├────────────────┤4                    ├─░─┤ H ├┤ X ├───────■──┤ X ├┤ H ├──────╫──╫──╫──╫─┤M├──────\n",
       "           ├───┤      ░ │                     │                │                     │ ░ ├───┤├───┤       │  ├───┤├───┤      ║  ║  ║  ║ └╥┘┌─┐   \n",
       "      d_5: ┤ H ├──────░─┤5                    ├────────────────┤5                    ├─░─┤ H ├┤ X ├───────■──┤ X ├┤ H ├──────╫──╫──╫──╫──╫─┤M├───\n",
       "           ├───┤      ░ │                     │                │                     │ ░ ├───┤├───┤┌───┐┌─┴─┐├───┤├───┤┌───┐ ║  ║  ║  ║  ║ └╥┘┌─┐\n",
       "      d_6: ┤ H ├──────░─┤6                    ├────────────────┤6                    ├─░─┤ H ├┤ X ├┤ H ├┤ X ├┤ H ├┤ X ├┤ H ├─╫──╫──╫──╫──╫──╫─┤M├\n",
       "           └───┘      ░ │                     │┌──────────────┐│                     │ ░ └───┘└───┘└───┘└───┘└───┘└───┘└───┘ ║  ║  ║  ║  ║  ║ └╥┘\n",
       "      t_0: ───────────░─┤                     ├┤0             ├┤                     ├─░─────────────────────────────────────╫──╫──╫──╫──╫──╫──╫─\n",
       "                      ░ │                     ││              ││                     │ ░                                     ║  ║  ║  ║  ║  ║  ║ \n",
       "      t_1: ───────────░─┤10                   ├┤1             ├┤10                   ├─░─────────────────────────────────────╫──╫──╫──╫──╫──╫──╫─\n",
       "                      ░ │                     ││              ││                     │ ░                                     ║  ║  ║  ║  ║  ║  ║ \n",
       "      t_2: ───────────░─┤                     ├┤2             ├┤                     ├─░─────────────────────────────────────╫──╫──╫──╫──╫──╫──╫─\n",
       "                      ░ │                     ││              ││                     │ ░                                     ║  ║  ║  ║  ║  ║  ║ \n",
       "      t_3: ───────────░─┤                     ├┤3             ├┤                     ├─░─────────────────────────────────────╫──╫──╫──╫──╫──╫──╫─\n",
       "                      ░ │                     ││              ││                     │ ░                                     ║  ║  ║  ║  ║  ║  ║ \n",
       "      t_4: ───────────░─┤                     ├┤4             ├┤                     ├─░─────────────────────────────────────╫──╫──╫──╫──╫──╫──╫─\n",
       "           ┌───┐      ░ │   Encoding database ││              ││   Encoding database │ ░                                     ║  ║  ║  ║  ║  ║  ║ \n",
       "      t_5: ┤ X ├──────░─┤                     ├┤5             ├┤                     ├─░─────────────────────────────────────╫──╫──╫──╫──╫──╫──╫─\n",
       "           └───┘      ░ │                     ││              ││                     │ ░                                     ║  ║  ║  ║  ║  ║  ║ \n",
       "      t_6: ───────────░─┤9                    ├┤6             ├┤9                    ├─░─────────────────────────────────────╫──╫──╫──╫──╫──╫──╫─\n",
       "                      ░ │                     ││              ││                     │ ░                                     ║  ║  ║  ║  ║  ║  ║ \n",
       "      t_7: ───────────░─┤                     ├┤7             ├┤                     ├─░─────────────────────────────────────╫──╫──╫──╫──╫──╫──╫─\n",
       "                      ░ │                     ││              ││                     │ ░                                     ║  ║  ║  ║  ║  ║  ║ \n",
       "      t_8: ───────────░─┤                     ├┤8             ├┤                     ├─░─────────────────────────────────────╫──╫──╫──╫──╫──╫──╫─\n",
       "                      ░ │                     ││              ││                     │ ░                                     ║  ║  ║  ║  ║  ║  ║ \n",
       "      t_9: ───────────░─┤                     ├┤9             ├┤                     ├─░─────────────────────────────────────╫──╫──╫──╫──╫──╫──╫─\n",
       "           ┌───┐      ░ │                     ││   Comparator ││                     │ ░                                     ║  ║  ║  ║  ║  ║  ║ \n",
       "     t_10: ┤ X ├──────░─┤                     ├┤10            ├┤                     ├─░─────────────────────────────────────╫──╫──╫──╫──╫──╫──╫─\n",
       "           └───┘      ░ │                     ││              ││                     │ ░                                     ║  ║  ║  ║  ║  ║  ║ \n",
       "     t_11: ───────────░─┤8                    ├┤11            ├┤8                    ├─░─────────────────────────────────────╫──╫──╫──╫──╫──╫──╫─\n",
       "                      ░ │                     ││              ││                     │ ░                                     ║  ║  ║  ║  ║  ║  ║ \n",
       "     t_12: ───────────░─┤                     ├┤12            ├┤                     ├─░─────────────────────────────────────╫──╫──╫──╫──╫──╫──╫─\n",
       "                      ░ │                     ││              ││                     │ ░                                     ║  ║  ║  ║  ║  ║  ║ \n",
       "     t_13: ───────────░─┤                     ├┤13            ├┤                     ├─░─────────────────────────────────────╫──╫──╫──╫──╫──╫──╫─\n",
       "                      ░ │                     ││              ││                     │ ░                                     ║  ║  ║  ║  ║  ║  ║ \n",
       "     t_14: ───────────░─┤                     ├┤14            ├┤                     ├─░─────────────────────────────────────╫──╫──╫──╫──╫──╫──╫─\n",
       "           ┌───┐      ░ │                     ││              ││                     │ ░                                     ║  ║  ║  ║  ║  ║  ║ \n",
       "     t_15: ┤ X ├──────░─┤                     ├┤15            ├┤                     ├─░─────────────────────────────────────╫──╫──╫──╫──╫──╫──╫─\n",
       "           └───┘      ░ │                     ││              ││                     │ ░                                     ║  ║  ║  ║  ║  ║  ║ \n",
       "     t_16: ───────────░─┤7                    ├┤16            ├┤7                    ├─░─────────────────────────────────────╫──╫──╫──╫──╫──╫──╫─\n",
       "                      ░ └─────────────────────┘│              │└─────────────────────┘ ░                                     ║  ║  ║  ║  ║  ║  ║ \n",
       "     t_17: ───────────░────────────────────────┤17            ├────────────────────────░─────────────────────────────────────╫──╫──╫──╫──╫──╫──╫─\n",
       "                      ░                        │              │                        ░                                     ║  ║  ║  ║  ║  ║  ║ \n",
       "     t_18: ───────────░────────────────────────┤18            ├────────────────────────░─────────────────────────────────────╫──╫──╫──╫──╫──╫──╫─\n",
       "           ┌───┐┌───┐ ░                        │              │                        ░                                     ║  ║  ║  ║  ║  ║  ║ \n",
       "ancilla_0: ┤ X ├┤ H ├─░────────────────────────┤19            ├────────────────────────░─────────────────────────────────────╫──╫──╫──╫──╫──╫──╫─\n",
       "           └───┘└───┘ ░                        └──────────────┘                        ░                                     ║  ║  ║  ║  ║  ║  ║ \n",
       "      c: 7/══════════════════════════════════════════════════════════════════════════════════════════════════════════════════╩══╩══╩══╩══╩══╩══╩═\n",
       "                                                                                                                             0  1  2  3  4  5  6 </pre>"
      ],
      "text/plain": [
       "           ┌───┐      ░ ┌─────────────────────┐                ┌─────────────────────┐ ░ ┌───┐┌───┐          ┌───┐┌───┐     ┌─┐                  \n",
       "      d_0: ┤ H ├──────░─┤0                    ├────────────────┤0                    ├─░─┤ H ├┤ X ├───────■──┤ X ├┤ H ├─────┤M├──────────────────\n",
       "           ├───┤      ░ │                     │                │                     │ ░ ├───┤├───┤       │  ├───┤├───┤     └╥┘┌─┐               \n",
       "      d_1: ┤ H ├──────░─┤1                    ├────────────────┤1                    ├─░─┤ H ├┤ X ├───────■──┤ X ├┤ H ├──────╫─┤M├───────────────\n",
       "           ├───┤      ░ │                     │                │                     │ ░ ├───┤├───┤       │  ├───┤├───┤      ║ └╥┘┌─┐            \n",
       "      d_2: ┤ H ├──────░─┤2                    ├────────────────┤2                    ├─░─┤ H ├┤ X ├───────■──┤ X ├┤ H ├──────╫──╫─┤M├────────────\n",
       "           ├───┤      ░ │                     │                │                     │ ░ ├───┤├───┤       │  ├───┤├───┤      ║  ║ └╥┘┌─┐         \n",
       "      d_3: ┤ H ├──────░─┤3                    ├────────────────┤3                    ├─░─┤ H ├┤ X ├───────■──┤ X ├┤ H ├──────╫──╫──╫─┤M├─────────\n",
       "           ├───┤      ░ │                     │                │                     │ ░ ├───┤├───┤       │  ├───┤├───┤      ║  ║  ║ └╥┘┌─┐      \n",
       "      d_4: ┤ H ├──────░─┤4                    ├────────────────┤4                    ├─░─┤ H ├┤ X ├───────■──┤ X ├┤ H ├──────╫──╫──╫──╫─┤M├──────\n",
       "           ├───┤      ░ │                     │                │                     │ ░ ├───┤├───┤       │  ├───┤├───┤      ║  ║  ║  ║ └╥┘┌─┐   \n",
       "      d_5: ┤ H ├──────░─┤5                    ├────────────────┤5                    ├─░─┤ H ├┤ X ├───────■──┤ X ├┤ H ├──────╫──╫──╫──╫──╫─┤M├───\n",
       "           ├───┤      ░ │                     │                │                     │ ░ ├───┤├───┤┌───┐┌─┴─┐├───┤├───┤┌───┐ ║  ║  ║  ║  ║ └╥┘┌─┐\n",
       "      d_6: ┤ H ├──────░─┤6                    ├────────────────┤6                    ├─░─┤ H ├┤ X ├┤ H ├┤ X ├┤ H ├┤ X ├┤ H ├─╫──╫──╫──╫──╫──╫─┤M├\n",
       "           └───┘      ░ │                     │┌──────────────┐│                     │ ░ └───┘└───┘└───┘└───┘└───┘└───┘└───┘ ║  ║  ║  ║  ║  ║ └╥┘\n",
       "      t_0: ───────────░─┤                     ├┤0             ├┤                     ├─░─────────────────────────────────────╫──╫──╫──╫──╫──╫──╫─\n",
       "                      ░ │                     ││              ││                     │ ░                                     ║  ║  ║  ║  ║  ║  ║ \n",
       "      t_1: ───────────░─┤10                   ├┤1             ├┤10                   ├─░─────────────────────────────────────╫──╫──╫──╫──╫──╫──╫─\n",
       "                      ░ │                     ││              ││                     │ ░                                     ║  ║  ║  ║  ║  ║  ║ \n",
       "      t_2: ───────────░─┤                     ├┤2             ├┤                     ├─░─────────────────────────────────────╫──╫──╫──╫──╫──╫──╫─\n",
       "                      ░ │                     ││              ││                     │ ░                                     ║  ║  ║  ║  ║  ║  ║ \n",
       "      t_3: ───────────░─┤                     ├┤3             ├┤                     ├─░─────────────────────────────────────╫──╫──╫──╫──╫──╫──╫─\n",
       "                      ░ │                     ││              ││                     │ ░                                     ║  ║  ║  ║  ║  ║  ║ \n",
       "      t_4: ───────────░─┤                     ├┤4             ├┤                     ├─░─────────────────────────────────────╫──╫──╫──╫──╫──╫──╫─\n",
       "           ┌───┐      ░ │   Encoding database ││              ││   Encoding database │ ░                                     ║  ║  ║  ║  ║  ║  ║ \n",
       "      t_5: ┤ X ├──────░─┤                     ├┤5             ├┤                     ├─░─────────────────────────────────────╫──╫──╫──╫──╫──╫──╫─\n",
       "           └───┘      ░ │                     ││              ││                     │ ░                                     ║  ║  ║  ║  ║  ║  ║ \n",
       "      t_6: ───────────░─┤9                    ├┤6             ├┤9                    ├─░─────────────────────────────────────╫──╫──╫──╫──╫──╫──╫─\n",
       "                      ░ │                     ││              ││                     │ ░                                     ║  ║  ║  ║  ║  ║  ║ \n",
       "      t_7: ───────────░─┤                     ├┤7             ├┤                     ├─░─────────────────────────────────────╫──╫──╫──╫──╫──╫──╫─\n",
       "                      ░ │                     ││              ││                     │ ░                                     ║  ║  ║  ║  ║  ║  ║ \n",
       "      t_8: ───────────░─┤                     ├┤8             ├┤                     ├─░─────────────────────────────────────╫──╫──╫──╫──╫──╫──╫─\n",
       "                      ░ │                     ││              ││                     │ ░                                     ║  ║  ║  ║  ║  ║  ║ \n",
       "      t_9: ───────────░─┤                     ├┤9             ├┤                     ├─░─────────────────────────────────────╫──╫──╫──╫──╫──╫──╫─\n",
       "           ┌───┐      ░ │                     ││   Comparator ││                     │ ░                                     ║  ║  ║  ║  ║  ║  ║ \n",
       "     t_10: ┤ X ├──────░─┤                     ├┤10            ├┤                     ├─░─────────────────────────────────────╫──╫──╫──╫──╫──╫──╫─\n",
       "           └───┘      ░ │                     ││              ││                     │ ░                                     ║  ║  ║  ║  ║  ║  ║ \n",
       "     t_11: ───────────░─┤8                    ├┤11            ├┤8                    ├─░─────────────────────────────────────╫──╫──╫──╫──╫──╫──╫─\n",
       "                      ░ │                     ││              ││                     │ ░                                     ║  ║  ║  ║  ║  ║  ║ \n",
       "     t_12: ───────────░─┤                     ├┤12            ├┤                     ├─░─────────────────────────────────────╫──╫──╫──╫──╫──╫──╫─\n",
       "                      ░ │                     ││              ││                     │ ░                                     ║  ║  ║  ║  ║  ║  ║ \n",
       "     t_13: ───────────░─┤                     ├┤13            ├┤                     ├─░─────────────────────────────────────╫──╫──╫──╫──╫──╫──╫─\n",
       "                      ░ │                     ││              ││                     │ ░                                     ║  ║  ║  ║  ║  ║  ║ \n",
       "     t_14: ───────────░─┤                     ├┤14            ├┤                     ├─░─────────────────────────────────────╫──╫──╫──╫──╫──╫──╫─\n",
       "           ┌───┐      ░ │                     ││              ││                     │ ░                                     ║  ║  ║  ║  ║  ║  ║ \n",
       "     t_15: ┤ X ├──────░─┤                     ├┤15            ├┤                     ├─░─────────────────────────────────────╫──╫──╫──╫──╫──╫──╫─\n",
       "           └───┘      ░ │                     ││              ││                     │ ░                                     ║  ║  ║  ║  ║  ║  ║ \n",
       "     t_16: ───────────░─┤7                    ├┤16            ├┤7                    ├─░─────────────────────────────────────╫──╫──╫──╫──╫──╫──╫─\n",
       "                      ░ └─────────────────────┘│              │└─────────────────────┘ ░                                     ║  ║  ║  ║  ║  ║  ║ \n",
       "     t_17: ───────────░────────────────────────┤17            ├────────────────────────░─────────────────────────────────────╫──╫──╫──╫──╫──╫──╫─\n",
       "                      ░                        │              │                        ░                                     ║  ║  ║  ║  ║  ║  ║ \n",
       "     t_18: ───────────░────────────────────────┤18            ├────────────────────────░─────────────────────────────────────╫──╫──╫──╫──╫──╫──╫─\n",
       "           ┌───┐┌───┐ ░                        │              │                        ░                                     ║  ║  ║  ║  ║  ║  ║ \n",
       "ancilla_0: ┤ X ├┤ H ├─░────────────────────────┤19            ├────────────────────────░─────────────────────────────────────╫──╫──╫──╫──╫──╫──╫─\n",
       "           └───┘└───┘ ░                        └──────────────┘                        ░                                     ║  ║  ║  ║  ║  ║  ║ \n",
       "      c: 7/══════════════════════════════════════════════════════════════════════════════════════════════════════════════════╩══╩══╩══╩══╩══╩══╩═\n",
       "                                                                                                                             0  1  2  3  4  5  6 "
      ]
     },
     "execution_count": 52,
     "metadata": {},
     "output_type": "execute_result"
    }
   ],
   "source": [
    "###################################### SETTING UP THE SEARCH ################################################\n",
    "# In here you initialize the database that you will make the search on. This database has the structure of  #\n",
    "# an array (data_arr). The size of this array and the maximum value that it contains will constrain the nb  #\n",
    "# of qbits of the system to the closest highest power of two minus one(if array has length 9, the number of #\n",
    "# qbits for the indices will be 4 -> 2^4 = 16; if max value is 16, we need 5 qbits to be able to hold the   #\n",
    "# value).                                                                                                   #\n",
    "# The threshold value dictates what you are looking for. By the nature of Grover's Algorithm, you should not#\n",
    "# set a threshold values that marks more than 50% of the solutions, as then you will get inversed solutions #\n",
    "\n",
    "data_arr = [3,8,1,9,0,8,0,5,7,5,3,2,5,7,5,3,2,6,8,5,6,4,3,7,5,4,3,5,6,7,4,3,4,6,7,3,5,6,8,5,3,2,2,3,4,5,4,3,2,3,4,5,6,4,3,3,3,4,5,2,2,3,4,4,4,3,2,3,4,5,6,7,6,5,4,3,2]\n",
    "thresh = 7\n",
    "\n",
    "\n",
    "#############################################################################################################\n",
    "\n",
    "#These numbers are calculated directly from the data array\n",
    "n = ceil(log(len(data_arr), 2)) #number of index qbits\n",
    "len_b =  ceil(log(max(data_arr)+1, 2))#length of the bitstrings to compare\n",
    "m = 5*len_b #number of qbits needed for the comparision\n",
    "\n",
    "i_reg = QuantumRegister(n, 'd') #Creates the data registry\n",
    "val_reg = QuantumRegister(m-1, 't') #Creates the template registry\n",
    "anc = QuantumRegister(1, 'ancilla') #Creates the ancillary registry for the oracle\n",
    "cr = ClassicalRegister(n, 'c') #Creates the classical bit measurment output\n",
    "\n",
    "qc = QuantumCircuit(i_reg, val_reg, anc, cr) #Makes the circuit with these qbits as input\n",
    "\n",
    "encode = encode_qc(n,len_b,data_arr).to_gate()\n",
    "encode.label = \"Encoding database\"\n",
    "\n",
    "####### State initialization #########\n",
    "qc.h(range(n))\n",
    "\n",
    "#initiation of ancillary to |->\n",
    "qc.x(anc)\n",
    "qc.h(anc)\n",
    "\n",
    "##### SETTING THE THRESHOLD ######\n",
    "\n",
    "set_thresh(qc, n, len_b, thresh)\n",
    "\n",
    "qc.barrier()\n",
    "\n",
    "#ENCODING\n",
    "#The arrays are made with list comprehentions to make something that looks like [0,1,2,n+16,n+11,n+6,n+1], \n",
    "#which connects the database (the first values) to the comparators (the values with n+...)\n",
    "qc.append(encode, [x for x in range(n)]+[n+x*5+1 for x in reversed(range(len_b))])#had to reverse the order how the qbits were entered, as the two parts (database and conparator) work in reverse\n",
    "\n",
    "comp_qc = n_comparator(len_b).to_gate()\n",
    "comp_qc.label = \"Comparator\"\n",
    "\n",
    "qc.append(comp_qc, range(n,n+m))\n",
    "\n",
    "qc.append(encode.reverse_ops(), [x for x in range(n)]+[n+x*5+1 for x in reversed(range(len_b))])\n",
    "\n",
    "qc.barrier()\n",
    "\n",
    "#DIFFUSION OP\n",
    "qc.h(range(n))\n",
    "qc.x(range(n-1))\n",
    "\n",
    "qc.x(n-1)\n",
    "qc.h(n-1)\n",
    "qc.mct(list(range(n-1)), n-1) \n",
    "qc.h(n-1)\n",
    "qc.x(n-1)\n",
    "\n",
    "qc.x(range(n-1))\n",
    "qc.h(range(n))\n",
    "# qc.barrier()\n",
    "\n",
    "qc.measure([x for x in range(n)],cr)\n",
    "\n",
    "(qc.draw(fold=-1))#output='latex_source',"
   ]
  },
  {
   "cell_type": "markdown",
   "id": "a127a764",
   "metadata": {},
   "source": [
    "## GPU"
   ]
  },
  {
   "cell_type": "code",
   "execution_count": null,
   "id": "6d32821d",
   "metadata": {
    "scrolled": false
   },
   "outputs": [],
   "source": [
    "t0 = time.perf_counter()\n",
    "\n",
    "############# CIRCUIT SIMULATION #################\n",
    "aer_sim = Aer.get_backend('aer_simulator')\n",
    "aer_sim.set_options(device='GPU')\n",
    "\n",
    "transpiled_qc = transpile(qc, aer_sim)\n",
    "shots = 2048 #we repeat the simulation 2048 times\n",
    "job = aer_sim.run(transpiled_qc)\n",
    "\n",
    "\n",
    "t1 = time.perf_counter()\n",
    "print('Total time: ', t1 - t0)  \n",
    "\n",
    "############# CODE FOR PLOTTING ####################\n",
    "hist = job.result().get_counts() #simulation output\n",
    "sort_hist = sorted(hist.items()) #So that the plotting puts everything in the same increasing order of basis\n",
    "n_hist = {k:v for k,v in sort_hist}\n",
    "\n",
    "results = {'val':n_hist.keys(),'count':n_hist.values()} #change the formatting of the data to match plotly\n",
    "\n",
    "fig = px.bar(results, x=\"val\", y=\"count\", text=\"count\")\n",
    "fig.update_traces(texttemplate='%{text:.2s}', textposition='outside')\n",
    "fig.update_layout(uniformtext_minsize=6, uniformtext_mode='show')\n",
    "fig.show()\n",
    "\n",
    "############## CODE FOR LISTING THE RESULTS #####################\n",
    "trig = []\n",
    "for i,j in zip(results['val'],results['count']):\n",
    "    if int(j) > 20:\n",
    "        trig.append({'index_dec':int(i,2),'index_bin':i,'counts':j})\n",
    "        \n",
    "for t in trig:\n",
    "    print(f\"Index {t['index_dec']} holds the value {data_arr[t['index_dec']]}, which is above the chosen threshold.\")"
   ]
  },
  {
   "cell_type": "markdown",
   "id": "b6d2c7aa",
   "metadata": {},
   "source": [
    "## CPU"
   ]
  },
  {
   "cell_type": "code",
   "execution_count": 53,
   "id": "377f7e9e",
   "metadata": {
    "ExecuteTime": {
     "end_time": "2021-12-07T21:04:44.128883Z",
     "start_time": "2021-12-07T21:03:56.787600Z"
    }
   },
   "outputs": [
    {
     "name": "stdout",
     "output_type": "stream",
     "text": [
      "Total time:  0.6772516169585288\n"
     ]
    },
    {
     "data": {
      "application/vnd.plotly.v1+json": {
       "config": {
        "plotlyServerURL": "https://plot.ly"
       },
       "data": [
        {
         "alignmentgroup": "True",
         "hovertemplate": "val=%{x}<br>count=%{text}<extra></extra>",
         "legendgroup": "",
         "marker": {
          "color": "#636efa",
          "pattern": {
           "shape": ""
          }
         },
         "name": "",
         "offsetgroup": "",
         "orientation": "v",
         "showlegend": false,
         "text": [
          "9",
          "70",
          "5",
          "82",
          "2",
          "76",
          "2",
          "6",
          "3",
          "8",
          "6",
          "3",
          "7",
          "6",
          "5",
          "9",
          "5",
          "12",
          "58",
          "6",
          "10",
          "4",
          "8",
          "8",
          "9",
          "8",
          "3",
          "2",
          "5",
          "3",
          "4",
          "5",
          "5",
          "7",
          "4",
          "4",
          "7",
          "6",
          "57",
          "6",
          "5",
          "4",
          "9",
          "5",
          "6",
          "3",
          "3",
          "6",
          "4",
          "4",
          "2",
          "5",
          "9",
          "2",
          "2",
          "7",
          "7",
          "7",
          "3",
          "3",
          "4",
          "2",
          "4",
          "5",
          "7",
          "3",
          "4",
          "8",
          "6",
          "4",
          "5",
          "6",
          "5",
          "6",
          "8",
          "4",
          "5",
          "8",
          "8",
          "9",
          "7",
          "5",
          "4",
          "9",
          "9",
          "7",
          "5",
          "8",
          "3",
          "5",
          "4",
          "11",
          "7",
          "5",
          "5",
          "6",
          "4",
          "3",
          "8",
          "1",
          "4",
          "7",
          "8",
          "5",
          "10",
          "5",
          "6",
          "1",
          "9",
          "4",
          "8",
          "5",
          "4",
          "4",
          "5",
          "10",
          "4",
          "3",
          "12",
          "8",
          "8",
          "1",
          "4",
          "9",
          "2",
          "8",
          "2"
         ],
         "textposition": "outside",
         "texttemplate": "%{text:.2s}",
         "type": "bar",
         "x": [
          "0000000",
          "0000001",
          "0000010",
          "0000011",
          "0000100",
          "0000101",
          "0000110",
          "0000111",
          "0001000",
          "0001001",
          "0001010",
          "0001011",
          "0001100",
          "0001101",
          "0001110",
          "0001111",
          "0010000",
          "0010001",
          "0010010",
          "0010011",
          "0010100",
          "0010101",
          "0010110",
          "0010111",
          "0011000",
          "0011001",
          "0011010",
          "0011011",
          "0011100",
          "0011101",
          "0011110",
          "0011111",
          "0100000",
          "0100001",
          "0100010",
          "0100011",
          "0100100",
          "0100101",
          "0100110",
          "0100111",
          "0101000",
          "0101001",
          "0101010",
          "0101011",
          "0101100",
          "0101101",
          "0101110",
          "0101111",
          "0110000",
          "0110001",
          "0110010",
          "0110011",
          "0110100",
          "0110101",
          "0110110",
          "0111000",
          "0111001",
          "0111010",
          "0111011",
          "0111100",
          "0111101",
          "0111110",
          "0111111",
          "1000000",
          "1000001",
          "1000010",
          "1000011",
          "1000100",
          "1000101",
          "1000110",
          "1000111",
          "1001000",
          "1001001",
          "1001010",
          "1001011",
          "1001100",
          "1001101",
          "1001110",
          "1001111",
          "1010000",
          "1010001",
          "1010010",
          "1010011",
          "1010100",
          "1010101",
          "1010110",
          "1010111",
          "1011000",
          "1011001",
          "1011010",
          "1011011",
          "1011100",
          "1011101",
          "1011110",
          "1011111",
          "1100000",
          "1100001",
          "1100010",
          "1100011",
          "1100100",
          "1100101",
          "1100110",
          "1100111",
          "1101000",
          "1101001",
          "1101010",
          "1101011",
          "1101100",
          "1101101",
          "1101110",
          "1101111",
          "1110000",
          "1110001",
          "1110010",
          "1110011",
          "1110100",
          "1110101",
          "1110110",
          "1110111",
          "1111000",
          "1111001",
          "1111010",
          "1111011",
          "1111100",
          "1111101",
          "1111110",
          "1111111"
         ],
         "xaxis": "x",
         "y": [
          9,
          70,
          5,
          82,
          2,
          76,
          2,
          6,
          3,
          8,
          6,
          3,
          7,
          6,
          5,
          9,
          5,
          12,
          58,
          6,
          10,
          4,
          8,
          8,
          9,
          8,
          3,
          2,
          5,
          3,
          4,
          5,
          5,
          7,
          4,
          4,
          7,
          6,
          57,
          6,
          5,
          4,
          9,
          5,
          6,
          3,
          3,
          6,
          4,
          4,
          2,
          5,
          9,
          2,
          2,
          7,
          7,
          7,
          3,
          3,
          4,
          2,
          4,
          5,
          7,
          3,
          4,
          8,
          6,
          4,
          5,
          6,
          5,
          6,
          8,
          4,
          5,
          8,
          8,
          9,
          7,
          5,
          4,
          9,
          9,
          7,
          5,
          8,
          3,
          5,
          4,
          11,
          7,
          5,
          5,
          6,
          4,
          3,
          8,
          1,
          4,
          7,
          8,
          5,
          10,
          5,
          6,
          1,
          9,
          4,
          8,
          5,
          4,
          4,
          5,
          10,
          4,
          3,
          12,
          8,
          8,
          1,
          4,
          9,
          2,
          8,
          2
         ],
         "yaxis": "y"
        }
       ],
       "layout": {
        "barmode": "relative",
        "legend": {
         "tracegroupgap": 0
        },
        "margin": {
         "t": 60
        },
        "template": {
         "data": {
          "bar": [
           {
            "error_x": {
             "color": "#2a3f5f"
            },
            "error_y": {
             "color": "#2a3f5f"
            },
            "marker": {
             "line": {
              "color": "#E5ECF6",
              "width": 0.5
             },
             "pattern": {
              "fillmode": "overlay",
              "size": 10,
              "solidity": 0.2
             }
            },
            "type": "bar"
           }
          ],
          "barpolar": [
           {
            "marker": {
             "line": {
              "color": "#E5ECF6",
              "width": 0.5
             },
             "pattern": {
              "fillmode": "overlay",
              "size": 10,
              "solidity": 0.2
             }
            },
            "type": "barpolar"
           }
          ],
          "carpet": [
           {
            "aaxis": {
             "endlinecolor": "#2a3f5f",
             "gridcolor": "white",
             "linecolor": "white",
             "minorgridcolor": "white",
             "startlinecolor": "#2a3f5f"
            },
            "baxis": {
             "endlinecolor": "#2a3f5f",
             "gridcolor": "white",
             "linecolor": "white",
             "minorgridcolor": "white",
             "startlinecolor": "#2a3f5f"
            },
            "type": "carpet"
           }
          ],
          "choropleth": [
           {
            "colorbar": {
             "outlinewidth": 0,
             "ticks": ""
            },
            "type": "choropleth"
           }
          ],
          "contour": [
           {
            "colorbar": {
             "outlinewidth": 0,
             "ticks": ""
            },
            "colorscale": [
             [
              0,
              "#0d0887"
             ],
             [
              0.1111111111111111,
              "#46039f"
             ],
             [
              0.2222222222222222,
              "#7201a8"
             ],
             [
              0.3333333333333333,
              "#9c179e"
             ],
             [
              0.4444444444444444,
              "#bd3786"
             ],
             [
              0.5555555555555556,
              "#d8576b"
             ],
             [
              0.6666666666666666,
              "#ed7953"
             ],
             [
              0.7777777777777778,
              "#fb9f3a"
             ],
             [
              0.8888888888888888,
              "#fdca26"
             ],
             [
              1,
              "#f0f921"
             ]
            ],
            "type": "contour"
           }
          ],
          "contourcarpet": [
           {
            "colorbar": {
             "outlinewidth": 0,
             "ticks": ""
            },
            "type": "contourcarpet"
           }
          ],
          "heatmap": [
           {
            "colorbar": {
             "outlinewidth": 0,
             "ticks": ""
            },
            "colorscale": [
             [
              0,
              "#0d0887"
             ],
             [
              0.1111111111111111,
              "#46039f"
             ],
             [
              0.2222222222222222,
              "#7201a8"
             ],
             [
              0.3333333333333333,
              "#9c179e"
             ],
             [
              0.4444444444444444,
              "#bd3786"
             ],
             [
              0.5555555555555556,
              "#d8576b"
             ],
             [
              0.6666666666666666,
              "#ed7953"
             ],
             [
              0.7777777777777778,
              "#fb9f3a"
             ],
             [
              0.8888888888888888,
              "#fdca26"
             ],
             [
              1,
              "#f0f921"
             ]
            ],
            "type": "heatmap"
           }
          ],
          "heatmapgl": [
           {
            "colorbar": {
             "outlinewidth": 0,
             "ticks": ""
            },
            "colorscale": [
             [
              0,
              "#0d0887"
             ],
             [
              0.1111111111111111,
              "#46039f"
             ],
             [
              0.2222222222222222,
              "#7201a8"
             ],
             [
              0.3333333333333333,
              "#9c179e"
             ],
             [
              0.4444444444444444,
              "#bd3786"
             ],
             [
              0.5555555555555556,
              "#d8576b"
             ],
             [
              0.6666666666666666,
              "#ed7953"
             ],
             [
              0.7777777777777778,
              "#fb9f3a"
             ],
             [
              0.8888888888888888,
              "#fdca26"
             ],
             [
              1,
              "#f0f921"
             ]
            ],
            "type": "heatmapgl"
           }
          ],
          "histogram": [
           {
            "marker": {
             "pattern": {
              "fillmode": "overlay",
              "size": 10,
              "solidity": 0.2
             }
            },
            "type": "histogram"
           }
          ],
          "histogram2d": [
           {
            "colorbar": {
             "outlinewidth": 0,
             "ticks": ""
            },
            "colorscale": [
             [
              0,
              "#0d0887"
             ],
             [
              0.1111111111111111,
              "#46039f"
             ],
             [
              0.2222222222222222,
              "#7201a8"
             ],
             [
              0.3333333333333333,
              "#9c179e"
             ],
             [
              0.4444444444444444,
              "#bd3786"
             ],
             [
              0.5555555555555556,
              "#d8576b"
             ],
             [
              0.6666666666666666,
              "#ed7953"
             ],
             [
              0.7777777777777778,
              "#fb9f3a"
             ],
             [
              0.8888888888888888,
              "#fdca26"
             ],
             [
              1,
              "#f0f921"
             ]
            ],
            "type": "histogram2d"
           }
          ],
          "histogram2dcontour": [
           {
            "colorbar": {
             "outlinewidth": 0,
             "ticks": ""
            },
            "colorscale": [
             [
              0,
              "#0d0887"
             ],
             [
              0.1111111111111111,
              "#46039f"
             ],
             [
              0.2222222222222222,
              "#7201a8"
             ],
             [
              0.3333333333333333,
              "#9c179e"
             ],
             [
              0.4444444444444444,
              "#bd3786"
             ],
             [
              0.5555555555555556,
              "#d8576b"
             ],
             [
              0.6666666666666666,
              "#ed7953"
             ],
             [
              0.7777777777777778,
              "#fb9f3a"
             ],
             [
              0.8888888888888888,
              "#fdca26"
             ],
             [
              1,
              "#f0f921"
             ]
            ],
            "type": "histogram2dcontour"
           }
          ],
          "mesh3d": [
           {
            "colorbar": {
             "outlinewidth": 0,
             "ticks": ""
            },
            "type": "mesh3d"
           }
          ],
          "parcoords": [
           {
            "line": {
             "colorbar": {
              "outlinewidth": 0,
              "ticks": ""
             }
            },
            "type": "parcoords"
           }
          ],
          "pie": [
           {
            "automargin": true,
            "type": "pie"
           }
          ],
          "scatter": [
           {
            "marker": {
             "colorbar": {
              "outlinewidth": 0,
              "ticks": ""
             }
            },
            "type": "scatter"
           }
          ],
          "scatter3d": [
           {
            "line": {
             "colorbar": {
              "outlinewidth": 0,
              "ticks": ""
             }
            },
            "marker": {
             "colorbar": {
              "outlinewidth": 0,
              "ticks": ""
             }
            },
            "type": "scatter3d"
           }
          ],
          "scattercarpet": [
           {
            "marker": {
             "colorbar": {
              "outlinewidth": 0,
              "ticks": ""
             }
            },
            "type": "scattercarpet"
           }
          ],
          "scattergeo": [
           {
            "marker": {
             "colorbar": {
              "outlinewidth": 0,
              "ticks": ""
             }
            },
            "type": "scattergeo"
           }
          ],
          "scattergl": [
           {
            "marker": {
             "colorbar": {
              "outlinewidth": 0,
              "ticks": ""
             }
            },
            "type": "scattergl"
           }
          ],
          "scattermapbox": [
           {
            "marker": {
             "colorbar": {
              "outlinewidth": 0,
              "ticks": ""
             }
            },
            "type": "scattermapbox"
           }
          ],
          "scatterpolar": [
           {
            "marker": {
             "colorbar": {
              "outlinewidth": 0,
              "ticks": ""
             }
            },
            "type": "scatterpolar"
           }
          ],
          "scatterpolargl": [
           {
            "marker": {
             "colorbar": {
              "outlinewidth": 0,
              "ticks": ""
             }
            },
            "type": "scatterpolargl"
           }
          ],
          "scatterternary": [
           {
            "marker": {
             "colorbar": {
              "outlinewidth": 0,
              "ticks": ""
             }
            },
            "type": "scatterternary"
           }
          ],
          "surface": [
           {
            "colorbar": {
             "outlinewidth": 0,
             "ticks": ""
            },
            "colorscale": [
             [
              0,
              "#0d0887"
             ],
             [
              0.1111111111111111,
              "#46039f"
             ],
             [
              0.2222222222222222,
              "#7201a8"
             ],
             [
              0.3333333333333333,
              "#9c179e"
             ],
             [
              0.4444444444444444,
              "#bd3786"
             ],
             [
              0.5555555555555556,
              "#d8576b"
             ],
             [
              0.6666666666666666,
              "#ed7953"
             ],
             [
              0.7777777777777778,
              "#fb9f3a"
             ],
             [
              0.8888888888888888,
              "#fdca26"
             ],
             [
              1,
              "#f0f921"
             ]
            ],
            "type": "surface"
           }
          ],
          "table": [
           {
            "cells": {
             "fill": {
              "color": "#EBF0F8"
             },
             "line": {
              "color": "white"
             }
            },
            "header": {
             "fill": {
              "color": "#C8D4E3"
             },
             "line": {
              "color": "white"
             }
            },
            "type": "table"
           }
          ]
         },
         "layout": {
          "annotationdefaults": {
           "arrowcolor": "#2a3f5f",
           "arrowhead": 0,
           "arrowwidth": 1
          },
          "autotypenumbers": "strict",
          "coloraxis": {
           "colorbar": {
            "outlinewidth": 0,
            "ticks": ""
           }
          },
          "colorscale": {
           "diverging": [
            [
             0,
             "#8e0152"
            ],
            [
             0.1,
             "#c51b7d"
            ],
            [
             0.2,
             "#de77ae"
            ],
            [
             0.3,
             "#f1b6da"
            ],
            [
             0.4,
             "#fde0ef"
            ],
            [
             0.5,
             "#f7f7f7"
            ],
            [
             0.6,
             "#e6f5d0"
            ],
            [
             0.7,
             "#b8e186"
            ],
            [
             0.8,
             "#7fbc41"
            ],
            [
             0.9,
             "#4d9221"
            ],
            [
             1,
             "#276419"
            ]
           ],
           "sequential": [
            [
             0,
             "#0d0887"
            ],
            [
             0.1111111111111111,
             "#46039f"
            ],
            [
             0.2222222222222222,
             "#7201a8"
            ],
            [
             0.3333333333333333,
             "#9c179e"
            ],
            [
             0.4444444444444444,
             "#bd3786"
            ],
            [
             0.5555555555555556,
             "#d8576b"
            ],
            [
             0.6666666666666666,
             "#ed7953"
            ],
            [
             0.7777777777777778,
             "#fb9f3a"
            ],
            [
             0.8888888888888888,
             "#fdca26"
            ],
            [
             1,
             "#f0f921"
            ]
           ],
           "sequentialminus": [
            [
             0,
             "#0d0887"
            ],
            [
             0.1111111111111111,
             "#46039f"
            ],
            [
             0.2222222222222222,
             "#7201a8"
            ],
            [
             0.3333333333333333,
             "#9c179e"
            ],
            [
             0.4444444444444444,
             "#bd3786"
            ],
            [
             0.5555555555555556,
             "#d8576b"
            ],
            [
             0.6666666666666666,
             "#ed7953"
            ],
            [
             0.7777777777777778,
             "#fb9f3a"
            ],
            [
             0.8888888888888888,
             "#fdca26"
            ],
            [
             1,
             "#f0f921"
            ]
           ]
          },
          "colorway": [
           "#636efa",
           "#EF553B",
           "#00cc96",
           "#ab63fa",
           "#FFA15A",
           "#19d3f3",
           "#FF6692",
           "#B6E880",
           "#FF97FF",
           "#FECB52"
          ],
          "font": {
           "color": "#2a3f5f"
          },
          "geo": {
           "bgcolor": "white",
           "lakecolor": "white",
           "landcolor": "#E5ECF6",
           "showlakes": true,
           "showland": true,
           "subunitcolor": "white"
          },
          "hoverlabel": {
           "align": "left"
          },
          "hovermode": "closest",
          "mapbox": {
           "style": "light"
          },
          "paper_bgcolor": "white",
          "plot_bgcolor": "#E5ECF6",
          "polar": {
           "angularaxis": {
            "gridcolor": "white",
            "linecolor": "white",
            "ticks": ""
           },
           "bgcolor": "#E5ECF6",
           "radialaxis": {
            "gridcolor": "white",
            "linecolor": "white",
            "ticks": ""
           }
          },
          "scene": {
           "xaxis": {
            "backgroundcolor": "#E5ECF6",
            "gridcolor": "white",
            "gridwidth": 2,
            "linecolor": "white",
            "showbackground": true,
            "ticks": "",
            "zerolinecolor": "white"
           },
           "yaxis": {
            "backgroundcolor": "#E5ECF6",
            "gridcolor": "white",
            "gridwidth": 2,
            "linecolor": "white",
            "showbackground": true,
            "ticks": "",
            "zerolinecolor": "white"
           },
           "zaxis": {
            "backgroundcolor": "#E5ECF6",
            "gridcolor": "white",
            "gridwidth": 2,
            "linecolor": "white",
            "showbackground": true,
            "ticks": "",
            "zerolinecolor": "white"
           }
          },
          "shapedefaults": {
           "line": {
            "color": "#2a3f5f"
           }
          },
          "ternary": {
           "aaxis": {
            "gridcolor": "white",
            "linecolor": "white",
            "ticks": ""
           },
           "baxis": {
            "gridcolor": "white",
            "linecolor": "white",
            "ticks": ""
           },
           "bgcolor": "#E5ECF6",
           "caxis": {
            "gridcolor": "white",
            "linecolor": "white",
            "ticks": ""
           }
          },
          "title": {
           "x": 0.05
          },
          "xaxis": {
           "automargin": true,
           "gridcolor": "white",
           "linecolor": "white",
           "ticks": "",
           "title": {
            "standoff": 15
           },
           "zerolinecolor": "white",
           "zerolinewidth": 2
          },
          "yaxis": {
           "automargin": true,
           "gridcolor": "white",
           "linecolor": "white",
           "ticks": "",
           "title": {
            "standoff": 15
           },
           "zerolinecolor": "white",
           "zerolinewidth": 2
          }
         }
        },
        "uniformtext": {
         "minsize": 6,
         "mode": "show"
        },
        "xaxis": {
         "anchor": "y",
         "domain": [
          0,
          1
         ],
         "title": {
          "text": "val"
         }
        },
        "yaxis": {
         "anchor": "x",
         "domain": [
          0,
          1
         ],
         "title": {
          "text": "count"
         }
        }
       }
      },
      "text/html": [
       "<div>                            <div id=\"7942af35-2867-4ac7-bb7d-b77bae393d7a\" class=\"plotly-graph-div\" style=\"height:525px; width:100%;\"></div>            <script type=\"text/javascript\">                require([\"plotly\"], function(Plotly) {                    window.PLOTLYENV=window.PLOTLYENV || {};                                    if (document.getElementById(\"7942af35-2867-4ac7-bb7d-b77bae393d7a\")) {                    Plotly.newPlot(                        \"7942af35-2867-4ac7-bb7d-b77bae393d7a\",                        [{\"alignmentgroup\":\"True\",\"hovertemplate\":\"val=%{x}<br>count=%{text}<extra></extra>\",\"legendgroup\":\"\",\"marker\":{\"color\":\"#636efa\",\"pattern\":{\"shape\":\"\"}},\"name\":\"\",\"offsetgroup\":\"\",\"orientation\":\"v\",\"showlegend\":false,\"text\":[\"9\",\"70\",\"5\",\"82\",\"2\",\"76\",\"2\",\"6\",\"3\",\"8\",\"6\",\"3\",\"7\",\"6\",\"5\",\"9\",\"5\",\"12\",\"58\",\"6\",\"10\",\"4\",\"8\",\"8\",\"9\",\"8\",\"3\",\"2\",\"5\",\"3\",\"4\",\"5\",\"5\",\"7\",\"4\",\"4\",\"7\",\"6\",\"57\",\"6\",\"5\",\"4\",\"9\",\"5\",\"6\",\"3\",\"3\",\"6\",\"4\",\"4\",\"2\",\"5\",\"9\",\"2\",\"2\",\"7\",\"7\",\"7\",\"3\",\"3\",\"4\",\"2\",\"4\",\"5\",\"7\",\"3\",\"4\",\"8\",\"6\",\"4\",\"5\",\"6\",\"5\",\"6\",\"8\",\"4\",\"5\",\"8\",\"8\",\"9\",\"7\",\"5\",\"4\",\"9\",\"9\",\"7\",\"5\",\"8\",\"3\",\"5\",\"4\",\"11\",\"7\",\"5\",\"5\",\"6\",\"4\",\"3\",\"8\",\"1\",\"4\",\"7\",\"8\",\"5\",\"10\",\"5\",\"6\",\"1\",\"9\",\"4\",\"8\",\"5\",\"4\",\"4\",\"5\",\"10\",\"4\",\"3\",\"12\",\"8\",\"8\",\"1\",\"4\",\"9\",\"2\",\"8\",\"2\"],\"textposition\":\"outside\",\"texttemplate\":\"%{text:.2s}\",\"type\":\"bar\",\"x\":[\"0000000\",\"0000001\",\"0000010\",\"0000011\",\"0000100\",\"0000101\",\"0000110\",\"0000111\",\"0001000\",\"0001001\",\"0001010\",\"0001011\",\"0001100\",\"0001101\",\"0001110\",\"0001111\",\"0010000\",\"0010001\",\"0010010\",\"0010011\",\"0010100\",\"0010101\",\"0010110\",\"0010111\",\"0011000\",\"0011001\",\"0011010\",\"0011011\",\"0011100\",\"0011101\",\"0011110\",\"0011111\",\"0100000\",\"0100001\",\"0100010\",\"0100011\",\"0100100\",\"0100101\",\"0100110\",\"0100111\",\"0101000\",\"0101001\",\"0101010\",\"0101011\",\"0101100\",\"0101101\",\"0101110\",\"0101111\",\"0110000\",\"0110001\",\"0110010\",\"0110011\",\"0110100\",\"0110101\",\"0110110\",\"0111000\",\"0111001\",\"0111010\",\"0111011\",\"0111100\",\"0111101\",\"0111110\",\"0111111\",\"1000000\",\"1000001\",\"1000010\",\"1000011\",\"1000100\",\"1000101\",\"1000110\",\"1000111\",\"1001000\",\"1001001\",\"1001010\",\"1001011\",\"1001100\",\"1001101\",\"1001110\",\"1001111\",\"1010000\",\"1010001\",\"1010010\",\"1010011\",\"1010100\",\"1010101\",\"1010110\",\"1010111\",\"1011000\",\"1011001\",\"1011010\",\"1011011\",\"1011100\",\"1011101\",\"1011110\",\"1011111\",\"1100000\",\"1100001\",\"1100010\",\"1100011\",\"1100100\",\"1100101\",\"1100110\",\"1100111\",\"1101000\",\"1101001\",\"1101010\",\"1101011\",\"1101100\",\"1101101\",\"1101110\",\"1101111\",\"1110000\",\"1110001\",\"1110010\",\"1110011\",\"1110100\",\"1110101\",\"1110110\",\"1110111\",\"1111000\",\"1111001\",\"1111010\",\"1111011\",\"1111100\",\"1111101\",\"1111110\",\"1111111\"],\"xaxis\":\"x\",\"y\":[9,70,5,82,2,76,2,6,3,8,6,3,7,6,5,9,5,12,58,6,10,4,8,8,9,8,3,2,5,3,4,5,5,7,4,4,7,6,57,6,5,4,9,5,6,3,3,6,4,4,2,5,9,2,2,7,7,7,3,3,4,2,4,5,7,3,4,8,6,4,5,6,5,6,8,4,5,8,8,9,7,5,4,9,9,7,5,8,3,5,4,11,7,5,5,6,4,3,8,1,4,7,8,5,10,5,6,1,9,4,8,5,4,4,5,10,4,3,12,8,8,1,4,9,2,8,2],\"yaxis\":\"y\"}],                        {\"barmode\":\"relative\",\"legend\":{\"tracegroupgap\":0},\"margin\":{\"t\":60},\"template\":{\"data\":{\"bar\":[{\"error_x\":{\"color\":\"#2a3f5f\"},\"error_y\":{\"color\":\"#2a3f5f\"},\"marker\":{\"line\":{\"color\":\"#E5ECF6\",\"width\":0.5},\"pattern\":{\"fillmode\":\"overlay\",\"size\":10,\"solidity\":0.2}},\"type\":\"bar\"}],\"barpolar\":[{\"marker\":{\"line\":{\"color\":\"#E5ECF6\",\"width\":0.5},\"pattern\":{\"fillmode\":\"overlay\",\"size\":10,\"solidity\":0.2}},\"type\":\"barpolar\"}],\"carpet\":[{\"aaxis\":{\"endlinecolor\":\"#2a3f5f\",\"gridcolor\":\"white\",\"linecolor\":\"white\",\"minorgridcolor\":\"white\",\"startlinecolor\":\"#2a3f5f\"},\"baxis\":{\"endlinecolor\":\"#2a3f5f\",\"gridcolor\":\"white\",\"linecolor\":\"white\",\"minorgridcolor\":\"white\",\"startlinecolor\":\"#2a3f5f\"},\"type\":\"carpet\"}],\"choropleth\":[{\"colorbar\":{\"outlinewidth\":0,\"ticks\":\"\"},\"type\":\"choropleth\"}],\"contour\":[{\"colorbar\":{\"outlinewidth\":0,\"ticks\":\"\"},\"colorscale\":[[0.0,\"#0d0887\"],[0.1111111111111111,\"#46039f\"],[0.2222222222222222,\"#7201a8\"],[0.3333333333333333,\"#9c179e\"],[0.4444444444444444,\"#bd3786\"],[0.5555555555555556,\"#d8576b\"],[0.6666666666666666,\"#ed7953\"],[0.7777777777777778,\"#fb9f3a\"],[0.8888888888888888,\"#fdca26\"],[1.0,\"#f0f921\"]],\"type\":\"contour\"}],\"contourcarpet\":[{\"colorbar\":{\"outlinewidth\":0,\"ticks\":\"\"},\"type\":\"contourcarpet\"}],\"heatmap\":[{\"colorbar\":{\"outlinewidth\":0,\"ticks\":\"\"},\"colorscale\":[[0.0,\"#0d0887\"],[0.1111111111111111,\"#46039f\"],[0.2222222222222222,\"#7201a8\"],[0.3333333333333333,\"#9c179e\"],[0.4444444444444444,\"#bd3786\"],[0.5555555555555556,\"#d8576b\"],[0.6666666666666666,\"#ed7953\"],[0.7777777777777778,\"#fb9f3a\"],[0.8888888888888888,\"#fdca26\"],[1.0,\"#f0f921\"]],\"type\":\"heatmap\"}],\"heatmapgl\":[{\"colorbar\":{\"outlinewidth\":0,\"ticks\":\"\"},\"colorscale\":[[0.0,\"#0d0887\"],[0.1111111111111111,\"#46039f\"],[0.2222222222222222,\"#7201a8\"],[0.3333333333333333,\"#9c179e\"],[0.4444444444444444,\"#bd3786\"],[0.5555555555555556,\"#d8576b\"],[0.6666666666666666,\"#ed7953\"],[0.7777777777777778,\"#fb9f3a\"],[0.8888888888888888,\"#fdca26\"],[1.0,\"#f0f921\"]],\"type\":\"heatmapgl\"}],\"histogram\":[{\"marker\":{\"pattern\":{\"fillmode\":\"overlay\",\"size\":10,\"solidity\":0.2}},\"type\":\"histogram\"}],\"histogram2d\":[{\"colorbar\":{\"outlinewidth\":0,\"ticks\":\"\"},\"colorscale\":[[0.0,\"#0d0887\"],[0.1111111111111111,\"#46039f\"],[0.2222222222222222,\"#7201a8\"],[0.3333333333333333,\"#9c179e\"],[0.4444444444444444,\"#bd3786\"],[0.5555555555555556,\"#d8576b\"],[0.6666666666666666,\"#ed7953\"],[0.7777777777777778,\"#fb9f3a\"],[0.8888888888888888,\"#fdca26\"],[1.0,\"#f0f921\"]],\"type\":\"histogram2d\"}],\"histogram2dcontour\":[{\"colorbar\":{\"outlinewidth\":0,\"ticks\":\"\"},\"colorscale\":[[0.0,\"#0d0887\"],[0.1111111111111111,\"#46039f\"],[0.2222222222222222,\"#7201a8\"],[0.3333333333333333,\"#9c179e\"],[0.4444444444444444,\"#bd3786\"],[0.5555555555555556,\"#d8576b\"],[0.6666666666666666,\"#ed7953\"],[0.7777777777777778,\"#fb9f3a\"],[0.8888888888888888,\"#fdca26\"],[1.0,\"#f0f921\"]],\"type\":\"histogram2dcontour\"}],\"mesh3d\":[{\"colorbar\":{\"outlinewidth\":0,\"ticks\":\"\"},\"type\":\"mesh3d\"}],\"parcoords\":[{\"line\":{\"colorbar\":{\"outlinewidth\":0,\"ticks\":\"\"}},\"type\":\"parcoords\"}],\"pie\":[{\"automargin\":true,\"type\":\"pie\"}],\"scatter\":[{\"marker\":{\"colorbar\":{\"outlinewidth\":0,\"ticks\":\"\"}},\"type\":\"scatter\"}],\"scatter3d\":[{\"line\":{\"colorbar\":{\"outlinewidth\":0,\"ticks\":\"\"}},\"marker\":{\"colorbar\":{\"outlinewidth\":0,\"ticks\":\"\"}},\"type\":\"scatter3d\"}],\"scattercarpet\":[{\"marker\":{\"colorbar\":{\"outlinewidth\":0,\"ticks\":\"\"}},\"type\":\"scattercarpet\"}],\"scattergeo\":[{\"marker\":{\"colorbar\":{\"outlinewidth\":0,\"ticks\":\"\"}},\"type\":\"scattergeo\"}],\"scattergl\":[{\"marker\":{\"colorbar\":{\"outlinewidth\":0,\"ticks\":\"\"}},\"type\":\"scattergl\"}],\"scattermapbox\":[{\"marker\":{\"colorbar\":{\"outlinewidth\":0,\"ticks\":\"\"}},\"type\":\"scattermapbox\"}],\"scatterpolar\":[{\"marker\":{\"colorbar\":{\"outlinewidth\":0,\"ticks\":\"\"}},\"type\":\"scatterpolar\"}],\"scatterpolargl\":[{\"marker\":{\"colorbar\":{\"outlinewidth\":0,\"ticks\":\"\"}},\"type\":\"scatterpolargl\"}],\"scatterternary\":[{\"marker\":{\"colorbar\":{\"outlinewidth\":0,\"ticks\":\"\"}},\"type\":\"scatterternary\"}],\"surface\":[{\"colorbar\":{\"outlinewidth\":0,\"ticks\":\"\"},\"colorscale\":[[0.0,\"#0d0887\"],[0.1111111111111111,\"#46039f\"],[0.2222222222222222,\"#7201a8\"],[0.3333333333333333,\"#9c179e\"],[0.4444444444444444,\"#bd3786\"],[0.5555555555555556,\"#d8576b\"],[0.6666666666666666,\"#ed7953\"],[0.7777777777777778,\"#fb9f3a\"],[0.8888888888888888,\"#fdca26\"],[1.0,\"#f0f921\"]],\"type\":\"surface\"}],\"table\":[{\"cells\":{\"fill\":{\"color\":\"#EBF0F8\"},\"line\":{\"color\":\"white\"}},\"header\":{\"fill\":{\"color\":\"#C8D4E3\"},\"line\":{\"color\":\"white\"}},\"type\":\"table\"}]},\"layout\":{\"annotationdefaults\":{\"arrowcolor\":\"#2a3f5f\",\"arrowhead\":0,\"arrowwidth\":1},\"autotypenumbers\":\"strict\",\"coloraxis\":{\"colorbar\":{\"outlinewidth\":0,\"ticks\":\"\"}},\"colorscale\":{\"diverging\":[[0,\"#8e0152\"],[0.1,\"#c51b7d\"],[0.2,\"#de77ae\"],[0.3,\"#f1b6da\"],[0.4,\"#fde0ef\"],[0.5,\"#f7f7f7\"],[0.6,\"#e6f5d0\"],[0.7,\"#b8e186\"],[0.8,\"#7fbc41\"],[0.9,\"#4d9221\"],[1,\"#276419\"]],\"sequential\":[[0.0,\"#0d0887\"],[0.1111111111111111,\"#46039f\"],[0.2222222222222222,\"#7201a8\"],[0.3333333333333333,\"#9c179e\"],[0.4444444444444444,\"#bd3786\"],[0.5555555555555556,\"#d8576b\"],[0.6666666666666666,\"#ed7953\"],[0.7777777777777778,\"#fb9f3a\"],[0.8888888888888888,\"#fdca26\"],[1.0,\"#f0f921\"]],\"sequentialminus\":[[0.0,\"#0d0887\"],[0.1111111111111111,\"#46039f\"],[0.2222222222222222,\"#7201a8\"],[0.3333333333333333,\"#9c179e\"],[0.4444444444444444,\"#bd3786\"],[0.5555555555555556,\"#d8576b\"],[0.6666666666666666,\"#ed7953\"],[0.7777777777777778,\"#fb9f3a\"],[0.8888888888888888,\"#fdca26\"],[1.0,\"#f0f921\"]]},\"colorway\":[\"#636efa\",\"#EF553B\",\"#00cc96\",\"#ab63fa\",\"#FFA15A\",\"#19d3f3\",\"#FF6692\",\"#B6E880\",\"#FF97FF\",\"#FECB52\"],\"font\":{\"color\":\"#2a3f5f\"},\"geo\":{\"bgcolor\":\"white\",\"lakecolor\":\"white\",\"landcolor\":\"#E5ECF6\",\"showlakes\":true,\"showland\":true,\"subunitcolor\":\"white\"},\"hoverlabel\":{\"align\":\"left\"},\"hovermode\":\"closest\",\"mapbox\":{\"style\":\"light\"},\"paper_bgcolor\":\"white\",\"plot_bgcolor\":\"#E5ECF6\",\"polar\":{\"angularaxis\":{\"gridcolor\":\"white\",\"linecolor\":\"white\",\"ticks\":\"\"},\"bgcolor\":\"#E5ECF6\",\"radialaxis\":{\"gridcolor\":\"white\",\"linecolor\":\"white\",\"ticks\":\"\"}},\"scene\":{\"xaxis\":{\"backgroundcolor\":\"#E5ECF6\",\"gridcolor\":\"white\",\"gridwidth\":2,\"linecolor\":\"white\",\"showbackground\":true,\"ticks\":\"\",\"zerolinecolor\":\"white\"},\"yaxis\":{\"backgroundcolor\":\"#E5ECF6\",\"gridcolor\":\"white\",\"gridwidth\":2,\"linecolor\":\"white\",\"showbackground\":true,\"ticks\":\"\",\"zerolinecolor\":\"white\"},\"zaxis\":{\"backgroundcolor\":\"#E5ECF6\",\"gridcolor\":\"white\",\"gridwidth\":2,\"linecolor\":\"white\",\"showbackground\":true,\"ticks\":\"\",\"zerolinecolor\":\"white\"}},\"shapedefaults\":{\"line\":{\"color\":\"#2a3f5f\"}},\"ternary\":{\"aaxis\":{\"gridcolor\":\"white\",\"linecolor\":\"white\",\"ticks\":\"\"},\"baxis\":{\"gridcolor\":\"white\",\"linecolor\":\"white\",\"ticks\":\"\"},\"bgcolor\":\"#E5ECF6\",\"caxis\":{\"gridcolor\":\"white\",\"linecolor\":\"white\",\"ticks\":\"\"}},\"title\":{\"x\":0.05},\"xaxis\":{\"automargin\":true,\"gridcolor\":\"white\",\"linecolor\":\"white\",\"ticks\":\"\",\"title\":{\"standoff\":15},\"zerolinecolor\":\"white\",\"zerolinewidth\":2},\"yaxis\":{\"automargin\":true,\"gridcolor\":\"white\",\"linecolor\":\"white\",\"ticks\":\"\",\"title\":{\"standoff\":15},\"zerolinecolor\":\"white\",\"zerolinewidth\":2}}},\"uniformtext\":{\"minsize\":6,\"mode\":\"show\"},\"xaxis\":{\"anchor\":\"y\",\"domain\":[0.0,1.0],\"title\":{\"text\":\"val\"}},\"yaxis\":{\"anchor\":\"x\",\"domain\":[0.0,1.0],\"title\":{\"text\":\"count\"}}},                        {\"responsive\": true}                    ).then(function(){\n",
       "                            \n",
       "var gd = document.getElementById('7942af35-2867-4ac7-bb7d-b77bae393d7a');\n",
       "var x = new MutationObserver(function (mutations, observer) {{\n",
       "        var display = window.getComputedStyle(gd).display;\n",
       "        if (!display || display === 'none') {{\n",
       "            console.log([gd, 'removed!']);\n",
       "            Plotly.purge(gd);\n",
       "            observer.disconnect();\n",
       "        }}\n",
       "}});\n",
       "\n",
       "// Listen for the removal of the full notebook cells\n",
       "var notebookContainer = gd.closest('#notebook-container');\n",
       "if (notebookContainer) {{\n",
       "    x.observe(notebookContainer, {childList: true});\n",
       "}}\n",
       "\n",
       "// Listen for the clearing of the current output cell\n",
       "var outputEl = gd.closest('.output');\n",
       "if (outputEl) {{\n",
       "    x.observe(outputEl, {childList: true});\n",
       "}}\n",
       "\n",
       "                        })                };                });            </script>        </div>"
      ]
     },
     "metadata": {},
     "output_type": "display_data"
    },
    {
     "name": "stdout",
     "output_type": "stream",
     "text": [
      "Index 1 holds the value 8, which is above the chosen threshold.\n",
      "Index 3 holds the value 9, which is above the chosen threshold.\n",
      "Index 5 holds the value 8, which is above the chosen threshold.\n",
      "Index 18 holds the value 8, which is above the chosen threshold.\n",
      "Index 38 holds the value 8, which is above the chosen threshold.\n"
     ]
    }
   ],
   "source": [
    "t0 = time.perf_counter()\n",
    "\n",
    "############# CIRCUIT SIMULATION #################\n",
    "aer_sim = Aer.get_backend('aer_simulator')\n",
    "aer_sim.set_options(device='CPU')\n",
    "\n",
    "transpiled_qc = transpile(qc, aer_sim)\n",
    "shots = 2048 #we repeat the simulation 2048 times\n",
    "job = aer_sim.run(transpiled_qc)\n",
    "\n",
    "\n",
    "t1 = time.perf_counter()\n",
    "print('Total time: ', t1 - t0)  \n",
    "\n",
    "############# CODE FOR PLOTTING ####################\n",
    "hist = job.result().get_counts() #simulation output\n",
    "sort_hist = sorted(hist.items()) #So that the plotting puts everything in the same increasing order of basis\n",
    "n_hist = {k:v for k,v in sort_hist}\n",
    "\n",
    "results = {'val':n_hist.keys(),'count':n_hist.values()} #change the formatting of the data to match plotly\n",
    "\n",
    "fig = px.bar(results, x=\"val\", y=\"count\", text=\"count\")\n",
    "fig.update_traces(texttemplate='%{text:.2s}', textposition='outside')\n",
    "fig.update_layout(uniformtext_minsize=6, uniformtext_mode='show')\n",
    "fig.show()\n",
    "\n",
    "############## CODE FOR LISTING THE RESULTS #####################\n",
    "trig = []\n",
    "for i,j in zip(results['val'],results['count']):\n",
    "    if int(j) > 20:\n",
    "        trig.append({'index_dec':int(i,2),'index_bin':i,'counts':j})\n",
    "        \n",
    "for t in trig:\n",
    "    print(f\"Index {t['index_dec']} holds the value {data_arr[t['index_dec']]}, which is above the chosen threshold.\")"
   ]
  },
  {
   "cell_type": "markdown",
   "id": "2f7688c7",
   "metadata": {},
   "source": [
    "## Quantum counting"
   ]
  },
  {
   "cell_type": "markdown",
   "id": "fed9bfea",
   "metadata": {},
   "source": [
    "We can make the code above into a function that encodes a single iteration of the Grover algorithm (oracle + diffusion):"
   ]
  },
  {
   "cell_type": "code",
   "execution_count": 30,
   "id": "bf4a0268",
   "metadata": {
    "ExecuteTime": {
     "end_time": "2021-12-07T17:41:03.338566Z",
     "start_time": "2021-12-07T17:41:03.327614Z"
    },
    "init_cell": true
   },
   "outputs": [],
   "source": [
    "def GrovIt(data_arr, thresh):\n",
    "    \n",
    "    n = ceil(log(len(data_arr), 2)) #number of index qbits\n",
    "    len_b =  ceil(log(max(data_arr)+1, 2))#length of the bitstrings to compare\n",
    "    m = 5*len_b #number of qbits needed for the comparision\n",
    "\n",
    "    i_reg = QuantumRegister(n, 'd') #Creates the data registry\n",
    "    val_reg = QuantumRegister(m-1, 't') #Creates the template registry\n",
    "    anc = QuantumRegister(1, 'ancilla') #Creates the ancillary registry for the oracle\n",
    "\n",
    "    qc = QuantumCircuit(i_reg, val_reg, anc) #Makes the circuit with these qbits as input\n",
    "\n",
    "    ##### SETTING THE THRESHOLD ######\n",
    "    #part of the oracle, so left into the function\n",
    "    set_thresh(qc, n, len_b, thresh)\n",
    "\n",
    "    #ENCODING\n",
    "    #The arrays are made with list comprehentions to make something that looks like [0,1,2,n+16,n+11,n+6,n+1], \n",
    "    #which connects the database (the first values) to the comparators (the values with n+...)\n",
    "    \n",
    "    encode = encode_qc(n,len_b,data_arr).to_gate()\n",
    "    encode.label = \"Encoding database\"\n",
    "    \n",
    "    qc.append(encode, [x for x in range(n)]+[n+x*5+1 for x in reversed(range(len_b))])#had to reverse the order how the qbits were entered, as the two parts (database and conparator) work in reverse\n",
    "\n",
    "    comp_qc = n_comparator(len_b).to_gate()\n",
    "    comp_qc.label = \"Comparator\"\n",
    "\n",
    "    qc.append(comp_qc, range(n,n+m))\n",
    "\n",
    "    qc.append(encode.reverse_ops(), [x for x in range(n)]+[n+x*5+1 for x in reversed(range(len_b))])\n",
    "\n",
    "    #DIFFUSION OP\n",
    "    qc.h(range(n))\n",
    "    qc.x(range(n-1))\n",
    "\n",
    "    qc.x(n-1)\n",
    "    qc.h(n-1)\n",
    "    qc.mct(list(range(n-1)), n-1) \n",
    "    qc.h(n-1)\n",
    "    qc.x(n-1)\n",
    "\n",
    "    qc.x(range(n-1))\n",
    "    qc.h(range(n))\n",
    "    \n",
    "    return qc"
   ]
  },
  {
   "cell_type": "code",
   "execution_count": null,
   "id": "04e8f000",
   "metadata": {},
   "outputs": [],
   "source": [
    "GrovIt(data_arr, thresh).draw(fold=-1)"
   ]
  },
  {
   "cell_type": "markdown",
   "id": "74edfcbb",
   "metadata": {},
   "source": [
    "And now create the quantum counting section:"
   ]
  },
  {
   "cell_type": "code",
   "execution_count": 31,
   "id": "850486e0",
   "metadata": {
    "ExecuteTime": {
     "end_time": "2021-12-07T17:41:03.344648Z",
     "start_time": "2021-12-07T17:41:03.339698Z"
    },
    "init_cell": true
   },
   "outputs": [],
   "source": [
    "def qft(n):\n",
    "    \"\"\"Creates an n-qubit QFT circuit\"\"\"\n",
    "    circuit = QuantumCircuit(n)\n",
    "    def swap_registers(circuit, n):\n",
    "        for qubit in range(n//2):\n",
    "            circuit.swap(qubit, n-qubit-1)\n",
    "        return circuit\n",
    "    def qft_rotations(circuit, n):\n",
    "        \"\"\"Performs qft on the first n qubits in circuit (without swaps)\"\"\"\n",
    "        if n == 0:\n",
    "            return circuit\n",
    "        n -= 1\n",
    "        circuit.h(n)\n",
    "        for qubit in range(n):\n",
    "            circuit.cp(np.pi/2**(n-qubit), qubit, n)\n",
    "        qft_rotations(circuit, n)\n",
    "    \n",
    "    qft_rotations(circuit, n)\n",
    "    swap_registers(circuit, n)\n",
    "    return circuit"
   ]
  },
  {
   "cell_type": "code",
   "execution_count": 10,
   "id": "b8af5a89",
   "metadata": {
    "ExecuteTime": {
     "end_time": "2021-12-03T15:18:07.128571Z",
     "start_time": "2021-12-03T15:17:58.518962Z"
    }
   },
   "outputs": [
    {
     "data": {
      "text/html": [
       "<pre style=\"word-wrap: normal;white-space: pre;background: #fff0;line-height: 1.1;font-family: &quot;Courier New&quot;,Courier,monospace\">           ┌───┐                                                                                                                                                                                                                                                                                                                                                                                                                                                                                                                                                                                                                                                                                                                                                                                         ┌───────┐┌─┐               \n",
       "  count_0: ┤ H ├──────────■──────────────────────────────────────────────────────────────────────────────────────────────────────────────────────────────────────────────────────────────────────────────────────────────────────────────────────────────────────────────────────────────────────────────────────────────────────────────────────────────────────────────────────────────────────────────────────────────────────────────────────────────────────────────────────────────────────────────────────────────────────────────────────────────────────────────────────────────────────────────────────────────────────────────────────────────────────────────────────────────────────────────────────────────────────────────────────────────────────────────────────────────────────────────┤0      ├┤M├───────────────\n",
       "           ├───┤          │                                                                                                                                                                                                                                                                                                                                                                                                                                                                                                                                                                                                                                                                                                                                                                              │       │└╥┘┌─┐            \n",
       "  count_1: ┤ H ├──────────┼───────────■───────────■──────────────────────────────────────────────────────────────────────────────────────────────────────────────────────────────────────────────────────────────────────────────────────────────────────────────────────────────────────────────────────────────────────────────────────────────────────────────────────────────────────────────────────────────────────────────────────────────────────────────────────────────────────────────────────────────────────────────────────────────────────────────────────────────────────────────────────────────────────────────────────────────────────────────────────────────────────────────────────────────────────────────────────────────────────────────────────────────────────────────────────┤1      ├─╫─┤M├────────────\n",
       "           ├───┤          │           │           │                                                                                                                                                                                                                                                                                                                                                                                                                                                                                                                                                                                                                                                                                                                                                      │       │ ║ └╥┘┌─┐         \n",
       "  count_2: ┤ H ├──────────┼───────────┼───────────┼───────────■───────────■───────────■───────────■──────────────────────────────────────────────────────────────────────────────────────────────────────────────────────────────────────────────────────────────────────────────────────────────────────────────────────────────────────────────────────────────────────────────────────────────────────────────────────────────────────────────────────────────────────────────────────────────────────────────────────────────────────────────────────────────────────────────────────────────────────────────────────────────────────────────────────────────────────────────────────────────────────────────────────────────────────────────────────────────────────────────────────────────────────┤2      ├─╫──╫─┤M├─────────\n",
       "           ├───┤          │           │           │           │           │           │           │                                                                                                                                                                                                                                                                                                                                                                                                                                                                                                                                                                                                                                                                                                      │  QFT† │ ║  ║ └╥┘┌─┐      \n",
       "  count_3: ┤ H ├──────────┼───────────┼───────────┼───────────┼───────────┼───────────┼───────────┼───────────■───────────■───────────■───────────■───────────■───────────■───────────■───────────■──────────────────────────────────────────────────────────────────────────────────────────────────────────────────────────────────────────────────────────────────────────────────────────────────────────────────────────────────────────────────────────────────────────────────────────────────────────────────────────────────────────────────────────────────────────────────────────────────────────────────────────────────────────────────────────────────────────────────────────────────────────────────────────────────────────────────────────────────────────────────────────────────────┤3      ├─╫──╫──╫─┤M├──────\n",
       "           ├───┤          │           │           │           │           │           │           │           │           │           │           │           │           │           │           │                                                                                                                                                                                                                                                                                                                                                                                                                                                                                                                                                                                                      │       │ ║  ║  ║ └╥┘┌─┐   \n",
       "  count_4: ┤ H ├──────────┼───────────┼───────────┼───────────┼───────────┼───────────┼───────────┼───────────┼───────────┼───────────┼───────────┼───────────┼───────────┼───────────┼───────────┼───────────■───────────■───────────■───────────■───────────■───────────■───────────■───────────■───────────■───────────■───────────■───────────■───────────■───────────■───────────■───────────■──────────────────────────────────────────────────────────────────────────────────────────────────────────────────────────────────────────────────────────────────────────────────────────────────────────────────────────────────────────────────────────────────────────────────────────────────────────────────────────────────────────────────────────────────────────────────────────────────────┤4      ├─╫──╫──╫──╫─┤M├───\n",
       "           ├───┤          │           │           │           │           │           │           │           │           │           │           │           │           │           │           │           │           │           │           │           │           │           │           │           │           │           │           │           │           │           │           │                                                                                                                                                                                                                                                                                                                                                                                                      │       │ ║  ║  ║  ║ └╥┘┌─┐\n",
       "  count_5: ┤ H ├──────────┼───────────┼───────────┼───────────┼───────────┼───────────┼───────────┼───────────┼───────────┼───────────┼───────────┼───────────┼───────────┼───────────┼───────────┼───────────┼───────────┼───────────┼───────────┼───────────┼───────────┼───────────┼───────────┼───────────┼───────────┼───────────┼───────────┼───────────┼───────────┼───────────┼───────────┼───────────■───────────■───────────■───────────■───────────■───────────■───────────■───────────■───────────■───────────■───────────■───────────■───────────■───────────■───────────■───────────■───────────■───────────■───────────■───────────■───────────■───────────■───────────■───────────■───────────■───────────■───────────■───────────■───────────■───────────■───────────■───────────■──────┤5      ├─╫──╫──╫──╫──╫─┤M├\n",
       "           ├───┤     ┌────┴─────┐┌────┴─────┐┌────┴─────┐┌────┴─────┐┌────┴─────┐┌────┴─────┐┌────┴─────┐┌────┴─────┐┌────┴─────┐┌────┴─────┐┌────┴─────┐┌────┴─────┐┌────┴─────┐┌────┴─────┐┌────┴─────┐┌────┴─────┐┌────┴─────┐┌────┴─────┐┌────┴─────┐┌────┴─────┐┌────┴─────┐┌────┴─────┐┌────┴─────┐┌────┴─────┐┌────┴─────┐┌────┴─────┐┌────┴─────┐┌────┴─────┐┌────┴─────┐┌────┴─────┐┌────┴─────┐┌────┴─────┐┌────┴─────┐┌────┴─────┐┌────┴─────┐┌────┴─────┐┌────┴─────┐┌────┴─────┐┌────┴─────┐┌────┴─────┐┌────┴─────┐┌────┴─────┐┌────┴─────┐┌────┴─────┐┌────┴─────┐┌────┴─────┐┌────┴─────┐┌────┴─────┐┌────┴─────┐┌────┴─────┐┌────┴─────┐┌────┴─────┐┌────┴─────┐┌────┴─────┐┌────┴─────┐┌────┴─────┐┌────┴─────┐┌────┴─────┐┌────┴─────┐┌────┴─────┐┌────┴─────┐┌────┴─────┐┌────┴─────┐└───────┘ ║  ║  ║  ║  ║ └╥┘\n",
       "      d_0: ┤ H ├─────┤0         ├┤0         ├┤0         ├┤0         ├┤0         ├┤0         ├┤0         ├┤0         ├┤0         ├┤0         ├┤0         ├┤0         ├┤0         ├┤0         ├┤0         ├┤0         ├┤0         ├┤0         ├┤0         ├┤0         ├┤0         ├┤0         ├┤0         ├┤0         ├┤0         ├┤0         ├┤0         ├┤0         ├┤0         ├┤0         ├┤0         ├┤0         ├┤0         ├┤0         ├┤0         ├┤0         ├┤0         ├┤0         ├┤0         ├┤0         ├┤0         ├┤0         ├┤0         ├┤0         ├┤0         ├┤0         ├┤0         ├┤0         ├┤0         ├┤0         ├┤0         ├┤0         ├┤0         ├┤0         ├┤0         ├┤0         ├┤0         ├┤0         ├┤0         ├┤0         ├┤0         ├┤0         ├┤0         ├──────────╫──╫──╫──╫──╫──╫─\n",
       "           ├───┤     │          ││          ││          ││          ││          ││          ││          ││          ││          ││          ││          ││          ││          ││          ││          ││          ││          ││          ││          ││          ││          ││          ││          ││          ││          ││          ││          ││          ││          ││          ││          ││          ││          ││          ││          ││          ││          ││          ││          ││          ││          ││          ││          ││          ││          ││          ││          ││          ││          ││          ││          ││          ││          ││          ││          ││          ││          ││          ││          ││          ││          ││          ││          │          ║  ║  ║  ║  ║  ║ \n",
       "      d_1: ┤ H ├─────┤1         ├┤1         ├┤1         ├┤1         ├┤1         ├┤1         ├┤1         ├┤1         ├┤1         ├┤1         ├┤1         ├┤1         ├┤1         ├┤1         ├┤1         ├┤1         ├┤1         ├┤1         ├┤1         ├┤1         ├┤1         ├┤1         ├┤1         ├┤1         ├┤1         ├┤1         ├┤1         ├┤1         ├┤1         ├┤1         ├┤1         ├┤1         ├┤1         ├┤1         ├┤1         ├┤1         ├┤1         ├┤1         ├┤1         ├┤1         ├┤1         ├┤1         ├┤1         ├┤1         ├┤1         ├┤1         ├┤1         ├┤1         ├┤1         ├┤1         ├┤1         ├┤1         ├┤1         ├┤1         ├┤1         ├┤1         ├┤1         ├┤1         ├┤1         ├┤1         ├┤1         ├┤1         ├┤1         ├──────────╫──╫──╫──╫──╫──╫─\n",
       "           ├───┤     │          ││          ││          ││          ││          ││          ││          ││          ││          ││          ││          ││          ││          ││          ││          ││          ││          ││          ││          ││          ││          ││          ││          ││          ││          ││          ││          ││          ││          ││          ││          ││          ││          ││          ││          ││          ││          ││          ││          ││          ││          ││          ││          ││          ││          ││          ││          ││          ││          ││          ││          ││          ││          ││          ││          ││          ││          ││          ││          ││          ││          ││          ││          │          ║  ║  ║  ║  ║  ║ \n",
       "      d_2: ┤ H ├─────┤2         ├┤2         ├┤2         ├┤2         ├┤2         ├┤2         ├┤2         ├┤2         ├┤2         ├┤2         ├┤2         ├┤2         ├┤2         ├┤2         ├┤2         ├┤2         ├┤2         ├┤2         ├┤2         ├┤2         ├┤2         ├┤2         ├┤2         ├┤2         ├┤2         ├┤2         ├┤2         ├┤2         ├┤2         ├┤2         ├┤2         ├┤2         ├┤2         ├┤2         ├┤2         ├┤2         ├┤2         ├┤2         ├┤2         ├┤2         ├┤2         ├┤2         ├┤2         ├┤2         ├┤2         ├┤2         ├┤2         ├┤2         ├┤2         ├┤2         ├┤2         ├┤2         ├┤2         ├┤2         ├┤2         ├┤2         ├┤2         ├┤2         ├┤2         ├┤2         ├┤2         ├┤2         ├┤2         ├──────────╫──╫──╫──╫──╫──╫─\n",
       "           ├───┤     │          ││          ││          ││          ││          ││          ││          ││          ││          ││          ││          ││          ││          ││          ││          ││          ││          ││          ││          ││          ││          ││          ││          ││          ││          ││          ││          ││          ││          ││          ││          ││          ││          ││          ││          ││          ││          ││          ││          ││          ││          ││          ││          ││          ││          ││          ││          ││          ││          ││          ││          ││          ││          ││          ││          ││          ││          ││          ││          ││          ││          ││          ││          │          ║  ║  ║  ║  ║  ║ \n",
       "      d_3: ┤ H ├─────┤3         ├┤3         ├┤3         ├┤3         ├┤3         ├┤3         ├┤3         ├┤3         ├┤3         ├┤3         ├┤3         ├┤3         ├┤3         ├┤3         ├┤3         ├┤3         ├┤3         ├┤3         ├┤3         ├┤3         ├┤3         ├┤3         ├┤3         ├┤3         ├┤3         ├┤3         ├┤3         ├┤3         ├┤3         ├┤3         ├┤3         ├┤3         ├┤3         ├┤3         ├┤3         ├┤3         ├┤3         ├┤3         ├┤3         ├┤3         ├┤3         ├┤3         ├┤3         ├┤3         ├┤3         ├┤3         ├┤3         ├┤3         ├┤3         ├┤3         ├┤3         ├┤3         ├┤3         ├┤3         ├┤3         ├┤3         ├┤3         ├┤3         ├┤3         ├┤3         ├┤3         ├┤3         ├┤3         ├──────────╫──╫──╫──╫──╫──╫─\n",
       "           ├───┤     │          ││          ││          ││          ││          ││          ││          ││          ││          ││          ││          ││          ││          ││          ││          ││          ││          ││          ││          ││          ││          ││          ││          ││          ││          ││          ││          ││          ││          ││          ││          ││          ││          ││          ││          ││          ││          ││          ││          ││          ││          ││          ││          ││          ││          ││          ││          ││          ││          ││          ││          ││          ││          ││          ││          ││          ││          ││          ││          ││          ││          ││          ││          │          ║  ║  ║  ║  ║  ║ \n",
       "      t_0: ┤ H ├─────┤4         ├┤4         ├┤4         ├┤4         ├┤4         ├┤4         ├┤4         ├┤4         ├┤4         ├┤4         ├┤4         ├┤4         ├┤4         ├┤4         ├┤4         ├┤4         ├┤4         ├┤4         ├┤4         ├┤4         ├┤4         ├┤4         ├┤4         ├┤4         ├┤4         ├┤4         ├┤4         ├┤4         ├┤4         ├┤4         ├┤4         ├┤4         ├┤4         ├┤4         ├┤4         ├┤4         ├┤4         ├┤4         ├┤4         ├┤4         ├┤4         ├┤4         ├┤4         ├┤4         ├┤4         ├┤4         ├┤4         ├┤4         ├┤4         ├┤4         ├┤4         ├┤4         ├┤4         ├┤4         ├┤4         ├┤4         ├┤4         ├┤4         ├┤4         ├┤4         ├┤4         ├┤4         ├┤4         ├──────────╫──╫──╫──╫──╫──╫─\n",
       "           ├───┤     │          ││          ││          ││          ││          ││          ││          ││          ││          ││          ││          ││          ││          ││          ││          ││          ││          ││          ││          ││          ││          ││          ││          ││          ││          ││          ││          ││          ││          ││          ││          ││          ││          ││          ││          ││          ││          ││          ││          ││          ││          ││          ││          ││          ││          ││          ││          ││          ││          ││          ││          ││          ││          ││          ││          ││          ││          ││          ││          ││          ││          ││          ││          │          ║  ║  ║  ║  ║  ║ \n",
       "      t_1: ┤ H ├─────┤5         ├┤5         ├┤5         ├┤5         ├┤5         ├┤5         ├┤5         ├┤5         ├┤5         ├┤5         ├┤5         ├┤5         ├┤5         ├┤5         ├┤5         ├┤5         ├┤5         ├┤5         ├┤5         ├┤5         ├┤5         ├┤5         ├┤5         ├┤5         ├┤5         ├┤5         ├┤5         ├┤5         ├┤5         ├┤5         ├┤5         ├┤5         ├┤5         ├┤5         ├┤5         ├┤5         ├┤5         ├┤5         ├┤5         ├┤5         ├┤5         ├┤5         ├┤5         ├┤5         ├┤5         ├┤5         ├┤5         ├┤5         ├┤5         ├┤5         ├┤5         ├┤5         ├┤5         ├┤5         ├┤5         ├┤5         ├┤5         ├┤5         ├┤5         ├┤5         ├┤5         ├┤5         ├┤5         ├──────────╫──╫──╫──╫──╫──╫─\n",
       "           ├───┤     │          ││          ││          ││          ││          ││          ││          ││          ││          ││          ││          ││          ││          ││          ││          ││          ││          ││          ││          ││          ││          ││          ││          ││          ││          ││          ││          ││          ││          ││          ││          ││          ││          ││          ││          ││          ││          ││          ││          ││          ││          ││          ││          ││          ││          ││          ││          ││          ││          ││          ││          ││          ││          ││          ││          ││          ││          ││          ││          ││          ││          ││          ││          │          ║  ║  ║  ║  ║  ║ \n",
       "      t_2: ┤ H ├─────┤6         ├┤6         ├┤6         ├┤6         ├┤6         ├┤6         ├┤6         ├┤6         ├┤6         ├┤6         ├┤6         ├┤6         ├┤6         ├┤6         ├┤6         ├┤6         ├┤6         ├┤6         ├┤6         ├┤6         ├┤6         ├┤6         ├┤6         ├┤6         ├┤6         ├┤6         ├┤6         ├┤6         ├┤6         ├┤6         ├┤6         ├┤6         ├┤6         ├┤6         ├┤6         ├┤6         ├┤6         ├┤6         ├┤6         ├┤6         ├┤6         ├┤6         ├┤6         ├┤6         ├┤6         ├┤6         ├┤6         ├┤6         ├┤6         ├┤6         ├┤6         ├┤6         ├┤6         ├┤6         ├┤6         ├┤6         ├┤6         ├┤6         ├┤6         ├┤6         ├┤6         ├┤6         ├┤6         ├──────────╫──╫──╫──╫──╫──╫─\n",
       "           ├───┤     │          ││          ││          ││          ││          ││          ││          ││          ││          ││          ││          ││          ││          ││          ││          ││          ││          ││          ││          ││          ││          ││          ││          ││          ││          ││          ││          ││          ││          ││          ││          ││          ││          ││          ││          ││          ││          ││          ││          ││          ││          ││          ││          ││          ││          ││          ││          ││          ││          ││          ││          ││          ││          ││          ││          ││          ││          ││          ││          ││          ││          ││          ││          │          ║  ║  ║  ║  ║  ║ \n",
       "      t_3: ┤ H ├─────┤7         ├┤7         ├┤7         ├┤7         ├┤7         ├┤7         ├┤7         ├┤7         ├┤7         ├┤7         ├┤7         ├┤7         ├┤7         ├┤7         ├┤7         ├┤7         ├┤7         ├┤7         ├┤7         ├┤7         ├┤7         ├┤7         ├┤7         ├┤7         ├┤7         ├┤7         ├┤7         ├┤7         ├┤7         ├┤7         ├┤7         ├┤7         ├┤7         ├┤7         ├┤7         ├┤7         ├┤7         ├┤7         ├┤7         ├┤7         ├┤7         ├┤7         ├┤7         ├┤7         ├┤7         ├┤7         ├┤7         ├┤7         ├┤7         ├┤7         ├┤7         ├┤7         ├┤7         ├┤7         ├┤7         ├┤7         ├┤7         ├┤7         ├┤7         ├┤7         ├┤7         ├┤7         ├┤7         ├──────────╫──╫──╫──╫──╫──╫─\n",
       "           ├───┤     │          ││          ││          ││          ││          ││          ││          ││          ││          ││          ││          ││          ││          ││          ││          ││          ││          ││          ││          ││          ││          ││          ││          ││          ││          ││          ││          ││          ││          ││          ││          ││          ││          ││          ││          ││          ││          ││          ││          ││          ││          ││          ││          ││          ││          ││          ││          ││          ││          ││          ││          ││          ││          ││          ││          ││          ││          ││          ││          ││          ││          ││          ││          │          ║  ║  ║  ║  ║  ║ \n",
       "      t_4: ┤ H ├─────┤8         ├┤8         ├┤8         ├┤8         ├┤8         ├┤8         ├┤8         ├┤8         ├┤8         ├┤8         ├┤8         ├┤8         ├┤8         ├┤8         ├┤8         ├┤8         ├┤8         ├┤8         ├┤8         ├┤8         ├┤8         ├┤8         ├┤8         ├┤8         ├┤8         ├┤8         ├┤8         ├┤8         ├┤8         ├┤8         ├┤8         ├┤8         ├┤8         ├┤8         ├┤8         ├┤8         ├┤8         ├┤8         ├┤8         ├┤8         ├┤8         ├┤8         ├┤8         ├┤8         ├┤8         ├┤8         ├┤8         ├┤8         ├┤8         ├┤8         ├┤8         ├┤8         ├┤8         ├┤8         ├┤8         ├┤8         ├┤8         ├┤8         ├┤8         ├┤8         ├┤8         ├┤8         ├┤8         ├──────────╫──╫──╫──╫──╫──╫─\n",
       "           ├───┤     │          ││          ││          ││          ││          ││          ││          ││          ││          ││          ││          ││          ││          ││          ││          ││          ││          ││          ││          ││          ││          ││          ││          ││          ││          ││          ││          ││          ││          ││          ││          ││          ││          ││          ││          ││          ││          ││          ││          ││          ││          ││          ││          ││          ││          ││          ││          ││          ││          ││          ││          ││          ││          ││          ││          ││          ││          ││          ││          ││          ││          ││          ││          │          ║  ║  ║  ║  ║  ║ \n",
       "      t_5: ┤ H ├─────┤9  Grover ├┤9  Grover ├┤9  Grover ├┤9  Grover ├┤9  Grover ├┤9  Grover ├┤9  Grover ├┤9  Grover ├┤9  Grover ├┤9  Grover ├┤9  Grover ├┤9  Grover ├┤9  Grover ├┤9  Grover ├┤9  Grover ├┤9  Grover ├┤9  Grover ├┤9  Grover ├┤9  Grover ├┤9  Grover ├┤9  Grover ├┤9  Grover ├┤9  Grover ├┤9  Grover ├┤9  Grover ├┤9  Grover ├┤9  Grover ├┤9  Grover ├┤9  Grover ├┤9  Grover ├┤9  Grover ├┤9  Grover ├┤9  Grover ├┤9  Grover ├┤9  Grover ├┤9  Grover ├┤9  Grover ├┤9  Grover ├┤9  Grover ├┤9  Grover ├┤9  Grover ├┤9  Grover ├┤9  Grover ├┤9  Grover ├┤9  Grover ├┤9  Grover ├┤9  Grover ├┤9  Grover ├┤9  Grover ├┤9  Grover ├┤9  Grover ├┤9  Grover ├┤9  Grover ├┤9  Grover ├┤9  Grover ├┤9  Grover ├┤9  Grover ├┤9  Grover ├┤9  Grover ├┤9  Grover ├┤9  Grover ├┤9  Grover ├┤9  Grover ├──────────╫──╫──╫──╫──╫──╫─\n",
       "           ├───┤     │          ││          ││          ││          ││          ││          ││          ││          ││          ││          ││          ││          ││          ││          ││          ││          ││          ││          ││          ││          ││          ││          ││          ││          ││          ││          ││          ││          ││          ││          ││          ││          ││          ││          ││          ││          ││          ││          ││          ││          ││          ││          ││          ││          ││          ││          ││          ││          ││          ││          ││          ││          ││          ││          ││          ││          ││          ││          ││          ││          ││          ││          ││          │          ║  ║  ║  ║  ║  ║ \n",
       "      t_6: ┤ H ├─────┤10        ├┤10        ├┤10        ├┤10        ├┤10        ├┤10        ├┤10        ├┤10        ├┤10        ├┤10        ├┤10        ├┤10        ├┤10        ├┤10        ├┤10        ├┤10        ├┤10        ├┤10        ├┤10        ├┤10        ├┤10        ├┤10        ├┤10        ├┤10        ├┤10        ├┤10        ├┤10        ├┤10        ├┤10        ├┤10        ├┤10        ├┤10        ├┤10        ├┤10        ├┤10        ├┤10        ├┤10        ├┤10        ├┤10        ├┤10        ├┤10        ├┤10        ├┤10        ├┤10        ├┤10        ├┤10        ├┤10        ├┤10        ├┤10        ├┤10        ├┤10        ├┤10        ├┤10        ├┤10        ├┤10        ├┤10        ├┤10        ├┤10        ├┤10        ├┤10        ├┤10        ├┤10        ├┤10        ├──────────╫──╫──╫──╫──╫──╫─\n",
       "           ├───┤     │          ││          ││          ││          ││          ││          ││          ││          ││          ││          ││          ││          ││          ││          ││          ││          ││          ││          ││          ││          ││          ││          ││          ││          ││          ││          ││          ││          ││          ││          ││          ││          ││          ││          ││          ││          ││          ││          ││          ││          ││          ││          ││          ││          ││          ││          ││          ││          ││          ││          ││          ││          ││          ││          ││          ││          ││          ││          ││          ││          ││          ││          ││          │          ║  ║  ║  ║  ║  ║ \n",
       "      t_7: ┤ H ├─────┤11        ├┤11        ├┤11        ├┤11        ├┤11        ├┤11        ├┤11        ├┤11        ├┤11        ├┤11        ├┤11        ├┤11        ├┤11        ├┤11        ├┤11        ├┤11        ├┤11        ├┤11        ├┤11        ├┤11        ├┤11        ├┤11        ├┤11        ├┤11        ├┤11        ├┤11        ├┤11        ├┤11        ├┤11        ├┤11        ├┤11        ├┤11        ├┤11        ├┤11        ├┤11        ├┤11        ├┤11        ├┤11        ├┤11        ├┤11        ├┤11        ├┤11        ├┤11        ├┤11        ├┤11        ├┤11        ├┤11        ├┤11        ├┤11        ├┤11        ├┤11        ├┤11        ├┤11        ├┤11        ├┤11        ├┤11        ├┤11        ├┤11        ├┤11        ├┤11        ├┤11        ├┤11        ├┤11        ├──────────╫──╫──╫──╫──╫──╫─\n",
       "           ├───┤     │          ││          ││          ││          ││          ││          ││          ││          ││          ││          ││          ││          ││          ││          ││          ││          ││          ││          ││          ││          ││          ││          ││          ││          ││          ││          ││          ││          ││          ││          ││          ││          ││          ││          ││          ││          ││          ││          ││          ││          ││          ││          ││          ││          ││          ││          ││          ││          ││          ││          ││          ││          ││          ││          ││          ││          ││          ││          ││          ││          ││          ││          ││          │          ║  ║  ║  ║  ║  ║ \n",
       "      t_8: ┤ H ├─────┤12        ├┤12        ├┤12        ├┤12        ├┤12        ├┤12        ├┤12        ├┤12        ├┤12        ├┤12        ├┤12        ├┤12        ├┤12        ├┤12        ├┤12        ├┤12        ├┤12        ├┤12        ├┤12        ├┤12        ├┤12        ├┤12        ├┤12        ├┤12        ├┤12        ├┤12        ├┤12        ├┤12        ├┤12        ├┤12        ├┤12        ├┤12        ├┤12        ├┤12        ├┤12        ├┤12        ├┤12        ├┤12        ├┤12        ├┤12        ├┤12        ├┤12        ├┤12        ├┤12        ├┤12        ├┤12        ├┤12        ├┤12        ├┤12        ├┤12        ├┤12        ├┤12        ├┤12        ├┤12        ├┤12        ├┤12        ├┤12        ├┤12        ├┤12        ├┤12        ├┤12        ├┤12        ├┤12        ├──────────╫──╫──╫──╫──╫──╫─\n",
       "           ├───┤     │          ││          ││          ││          ││          ││          ││          ││          ││          ││          ││          ││          ││          ││          ││          ││          ││          ││          ││          ││          ││          ││          ││          ││          ││          ││          ││          ││          ││          ││          ││          ││          ││          ││          ││          ││          ││          ││          ││          ││          ││          ││          ││          ││          ││          ││          ││          ││          ││          ││          ││          ││          ││          ││          ││          ││          ││          ││          ││          ││          ││          ││          ││          │          ║  ║  ║  ║  ║  ║ \n",
       "      t_9: ┤ H ├─────┤13        ├┤13        ├┤13        ├┤13        ├┤13        ├┤13        ├┤13        ├┤13        ├┤13        ├┤13        ├┤13        ├┤13        ├┤13        ├┤13        ├┤13        ├┤13        ├┤13        ├┤13        ├┤13        ├┤13        ├┤13        ├┤13        ├┤13        ├┤13        ├┤13        ├┤13        ├┤13        ├┤13        ├┤13        ├┤13        ├┤13        ├┤13        ├┤13        ├┤13        ├┤13        ├┤13        ├┤13        ├┤13        ├┤13        ├┤13        ├┤13        ├┤13        ├┤13        ├┤13        ├┤13        ├┤13        ├┤13        ├┤13        ├┤13        ├┤13        ├┤13        ├┤13        ├┤13        ├┤13        ├┤13        ├┤13        ├┤13        ├┤13        ├┤13        ├┤13        ├┤13        ├┤13        ├┤13        ├──────────╫──╫──╫──╫──╫──╫─\n",
       "           ├───┤     │          ││          ││          ││          ││          ││          ││          ││          ││          ││          ││          ││          ││          ││          ││          ││          ││          ││          ││          ││          ││          ││          ││          ││          ││          ││          ││          ││          ││          ││          ││          ││          ││          ││          ││          ││          ││          ││          ││          ││          ││          ││          ││          ││          ││          ││          ││          ││          ││          ││          ││          ││          ││          ││          ││          ││          ││          ││          ││          ││          ││          ││          ││          │          ║  ║  ║  ║  ║  ║ \n",
       "     t_10: ┤ H ├─────┤14        ├┤14        ├┤14        ├┤14        ├┤14        ├┤14        ├┤14        ├┤14        ├┤14        ├┤14        ├┤14        ├┤14        ├┤14        ├┤14        ├┤14        ├┤14        ├┤14        ├┤14        ├┤14        ├┤14        ├┤14        ├┤14        ├┤14        ├┤14        ├┤14        ├┤14        ├┤14        ├┤14        ├┤14        ├┤14        ├┤14        ├┤14        ├┤14        ├┤14        ├┤14        ├┤14        ├┤14        ├┤14        ├┤14        ├┤14        ├┤14        ├┤14        ├┤14        ├┤14        ├┤14        ├┤14        ├┤14        ├┤14        ├┤14        ├┤14        ├┤14        ├┤14        ├┤14        ├┤14        ├┤14        ├┤14        ├┤14        ├┤14        ├┤14        ├┤14        ├┤14        ├┤14        ├┤14        ├──────────╫──╫──╫──╫──╫──╫─\n",
       "           ├───┤     │          ││          ││          ││          ││          ││          ││          ││          ││          ││          ││          ││          ││          ││          ││          ││          ││          ││          ││          ││          ││          ││          ││          ││          ││          ││          ││          ││          ││          ││          ││          ││          ││          ││          ││          ││          ││          ││          ││          ││          ││          ││          ││          ││          ││          ││          ││          ││          ││          ││          ││          ││          ││          ││          ││          ││          ││          ││          ││          ││          ││          ││          ││          │          ║  ║  ║  ║  ║  ║ \n",
       "     t_11: ┤ H ├─────┤15        ├┤15        ├┤15        ├┤15        ├┤15        ├┤15        ├┤15        ├┤15        ├┤15        ├┤15        ├┤15        ├┤15        ├┤15        ├┤15        ├┤15        ├┤15        ├┤15        ├┤15        ├┤15        ├┤15        ├┤15        ├┤15        ├┤15        ├┤15        ├┤15        ├┤15        ├┤15        ├┤15        ├┤15        ├┤15        ├┤15        ├┤15        ├┤15        ├┤15        ├┤15        ├┤15        ├┤15        ├┤15        ├┤15        ├┤15        ├┤15        ├┤15        ├┤15        ├┤15        ├┤15        ├┤15        ├┤15        ├┤15        ├┤15        ├┤15        ├┤15        ├┤15        ├┤15        ├┤15        ├┤15        ├┤15        ├┤15        ├┤15        ├┤15        ├┤15        ├┤15        ├┤15        ├┤15        ├──────────╫──╫──╫──╫──╫──╫─\n",
       "           ├───┤     │          ││          ││          ││          ││          ││          ││          ││          ││          ││          ││          ││          ││          ││          ││          ││          ││          ││          ││          ││          ││          ││          ││          ││          ││          ││          ││          ││          ││          ││          ││          ││          ││          ││          ││          ││          ││          ││          ││          ││          ││          ││          ││          ││          ││          ││          ││          ││          ││          ││          ││          ││          ││          ││          ││          ││          ││          ││          ││          ││          ││          ││          ││          │          ║  ║  ║  ║  ║  ║ \n",
       "     t_12: ┤ H ├─────┤16        ├┤16        ├┤16        ├┤16        ├┤16        ├┤16        ├┤16        ├┤16        ├┤16        ├┤16        ├┤16        ├┤16        ├┤16        ├┤16        ├┤16        ├┤16        ├┤16        ├┤16        ├┤16        ├┤16        ├┤16        ├┤16        ├┤16        ├┤16        ├┤16        ├┤16        ├┤16        ├┤16        ├┤16        ├┤16        ├┤16        ├┤16        ├┤16        ├┤16        ├┤16        ├┤16        ├┤16        ├┤16        ├┤16        ├┤16        ├┤16        ├┤16        ├┤16        ├┤16        ├┤16        ├┤16        ├┤16        ├┤16        ├┤16        ├┤16        ├┤16        ├┤16        ├┤16        ├┤16        ├┤16        ├┤16        ├┤16        ├┤16        ├┤16        ├┤16        ├┤16        ├┤16        ├┤16        ├──────────╫──╫──╫──╫──╫──╫─\n",
       "           ├───┤     │          ││          ││          ││          ││          ││          ││          ││          ││          ││          ││          ││          ││          ││          ││          ││          ││          ││          ││          ││          ││          ││          ││          ││          ││          ││          ││          ││          ││          ││          ││          ││          ││          ││          ││          ││          ││          ││          ││          ││          ││          ││          ││          ││          ││          ││          ││          ││          ││          ││          ││          ││          ││          ││          ││          ││          ││          ││          ││          ││          ││          ││          ││          │          ║  ║  ║  ║  ║  ║ \n",
       "     t_13: ┤ H ├─────┤17        ├┤17        ├┤17        ├┤17        ├┤17        ├┤17        ├┤17        ├┤17        ├┤17        ├┤17        ├┤17        ├┤17        ├┤17        ├┤17        ├┤17        ├┤17        ├┤17        ├┤17        ├┤17        ├┤17        ├┤17        ├┤17        ├┤17        ├┤17        ├┤17        ├┤17        ├┤17        ├┤17        ├┤17        ├┤17        ├┤17        ├┤17        ├┤17        ├┤17        ├┤17        ├┤17        ├┤17        ├┤17        ├┤17        ├┤17        ├┤17        ├┤17        ├┤17        ├┤17        ├┤17        ├┤17        ├┤17        ├┤17        ├┤17        ├┤17        ├┤17        ├┤17        ├┤17        ├┤17        ├┤17        ├┤17        ├┤17        ├┤17        ├┤17        ├┤17        ├┤17        ├┤17        ├┤17        ├──────────╫──╫──╫──╫──╫──╫─\n",
       "           ├───┤┌───┐│          ││          ││          ││          ││          ││          ││          ││          ││          ││          ││          ││          ││          ││          ││          ││          ││          ││          ││          ││          ││          ││          ││          ││          ││          ││          ││          ││          ││          ││          ││          ││          ││          ││          ││          ││          ││          ││          ││          ││          ││          ││          ││          ││          ││          ││          ││          ││          ││          ││          ││          ││          ││          ││          ││          ││          ││          ││          ││          ││          ││          ││          ││          │          ║  ║  ║  ║  ║  ║ \n",
       "ancilla_0: ┤ X ├┤ H ├┤18        ├┤18        ├┤18        ├┤18        ├┤18        ├┤18        ├┤18        ├┤18        ├┤18        ├┤18        ├┤18        ├┤18        ├┤18        ├┤18        ├┤18        ├┤18        ├┤18        ├┤18        ├┤18        ├┤18        ├┤18        ├┤18        ├┤18        ├┤18        ├┤18        ├┤18        ├┤18        ├┤18        ├┤18        ├┤18        ├┤18        ├┤18        ├┤18        ├┤18        ├┤18        ├┤18        ├┤18        ├┤18        ├┤18        ├┤18        ├┤18        ├┤18        ├┤18        ├┤18        ├┤18        ├┤18        ├┤18        ├┤18        ├┤18        ├┤18        ├┤18        ├┤18        ├┤18        ├┤18        ├┤18        ├┤18        ├┤18        ├┤18        ├┤18        ├┤18        ├┤18        ├┤18        ├┤18        ├──────────╫──╫──╫──╫──╫──╫─\n",
       "           └───┘└───┘└──────────┘└──────────┘└──────────┘└──────────┘└──────────┘└──────────┘└──────────┘└──────────┘└──────────┘└──────────┘└──────────┘└──────────┘└──────────┘└──────────┘└──────────┘└──────────┘└──────────┘└──────────┘└──────────┘└──────────┘└──────────┘└──────────┘└──────────┘└──────────┘└──────────┘└──────────┘└──────────┘└──────────┘└──────────┘└──────────┘└──────────┘└──────────┘└──────────┘└──────────┘└──────────┘└──────────┘└──────────┘└──────────┘└──────────┘└──────────┘└──────────┘└──────────┘└──────────┘└──────────┘└──────────┘└──────────┘└──────────┘└──────────┘└──────────┘└──────────┘└──────────┘└──────────┘└──────────┘└──────────┘└──────────┘└──────────┘└──────────┘└──────────┘└──────────┘└──────────┘└──────────┘└──────────┘└──────────┘          ║  ║  ║  ║  ║  ║ \n",
       "      c: 6/════════════════════════════════════════════════════════════════════════════════════════════════════════════════════════════════════════════════════════════════════════════════════════════════════════════════════════════════════════════════════════════════════════════════════════════════════════════════════════════════════════════════════════════════════════════════════════════════════════════════════════════════════════════════════════════════════════════════════════════════════════════════════════════════════════════════════════════════════════════════════════════════════════════════════════════════════════════════════════════════════════════════════════════════════════════════════════════════════════════════════════════════════════════════════════════════════════╩══╩══╩══╩══╩══╩═\n",
       "                                                                                                                                                                                                                                                                                                                                                                                                                                                                                                                                                                                                                                                                                                                                                                                                                   0  1  2  3  4  5 </pre>"
      ],
      "text/plain": [
       "           ┌───┐                                                                                                                                                                                                                                                                                                                                                                                                                                                                                                                                                                                                                                                                                                                                                                                         ┌───────┐┌─┐               \n",
       "  count_0: ┤ H ├──────────■──────────────────────────────────────────────────────────────────────────────────────────────────────────────────────────────────────────────────────────────────────────────────────────────────────────────────────────────────────────────────────────────────────────────────────────────────────────────────────────────────────────────────────────────────────────────────────────────────────────────────────────────────────────────────────────────────────────────────────────────────────────────────────────────────────────────────────────────────────────────────────────────────────────────────────────────────────────────────────────────────────────────────────────────────────────────────────────────────────────────────────────────────────────────┤0      ├┤M├───────────────\n",
       "           ├───┤          │                                                                                                                                                                                                                                                                                                                                                                                                                                                                                                                                                                                                                                                                                                                                                                              │       │└╥┘┌─┐            \n",
       "  count_1: ┤ H ├──────────┼───────────■───────────■──────────────────────────────────────────────────────────────────────────────────────────────────────────────────────────────────────────────────────────────────────────────────────────────────────────────────────────────────────────────────────────────────────────────────────────────────────────────────────────────────────────────────────────────────────────────────────────────────────────────────────────────────────────────────────────────────────────────────────────────────────────────────────────────────────────────────────────────────────────────────────────────────────────────────────────────────────────────────────────────────────────────────────────────────────────────────────────────────────────────────────┤1      ├─╫─┤M├────────────\n",
       "           ├───┤          │           │           │                                                                                                                                                                                                                                                                                                                                                                                                                                                                                                                                                                                                                                                                                                                                                      │       │ ║ └╥┘┌─┐         \n",
       "  count_2: ┤ H ├──────────┼───────────┼───────────┼───────────■───────────■───────────■───────────■──────────────────────────────────────────────────────────────────────────────────────────────────────────────────────────────────────────────────────────────────────────────────────────────────────────────────────────────────────────────────────────────────────────────────────────────────────────────────────────────────────────────────────────────────────────────────────────────────────────────────────────────────────────────────────────────────────────────────────────────────────────────────────────────────────────────────────────────────────────────────────────────────────────────────────────────────────────────────────────────────────────────────────────────────────┤2      ├─╫──╫─┤M├─────────\n",
       "           ├───┤          │           │           │           │           │           │           │                                                                                                                                                                                                                                                                                                                                                                                                                                                                                                                                                                                                                                                                                                      │  QFT† │ ║  ║ └╥┘┌─┐      \n",
       "  count_3: ┤ H ├──────────┼───────────┼───────────┼───────────┼───────────┼───────────┼───────────┼───────────■───────────■───────────■───────────■───────────■───────────■───────────■───────────■──────────────────────────────────────────────────────────────────────────────────────────────────────────────────────────────────────────────────────────────────────────────────────────────────────────────────────────────────────────────────────────────────────────────────────────────────────────────────────────────────────────────────────────────────────────────────────────────────────────────────────────────────────────────────────────────────────────────────────────────────────────────────────────────────────────────────────────────────────────────────────────────────────┤3      ├─╫──╫──╫─┤M├──────\n",
       "           ├───┤          │           │           │           │           │           │           │           │           │           │           │           │           │           │           │                                                                                                                                                                                                                                                                                                                                                                                                                                                                                                                                                                                                      │       │ ║  ║  ║ └╥┘┌─┐   \n",
       "  count_4: ┤ H ├──────────┼───────────┼───────────┼───────────┼───────────┼───────────┼───────────┼───────────┼───────────┼───────────┼───────────┼───────────┼───────────┼───────────┼───────────┼───────────■───────────■───────────■───────────■───────────■───────────■───────────■───────────■───────────■───────────■───────────■───────────■───────────■───────────■───────────■───────────■──────────────────────────────────────────────────────────────────────────────────────────────────────────────────────────────────────────────────────────────────────────────────────────────────────────────────────────────────────────────────────────────────────────────────────────────────────────────────────────────────────────────────────────────────────────────────────────────────────┤4      ├─╫──╫──╫──╫─┤M├───\n",
       "           ├───┤          │           │           │           │           │           │           │           │           │           │           │           │           │           │           │           │           │           │           │           │           │           │           │           │           │           │           │           │           │           │           │                                                                                                                                                                                                                                                                                                                                                                                                      │       │ ║  ║  ║  ║ └╥┘┌─┐\n",
       "  count_5: ┤ H ├──────────┼───────────┼───────────┼───────────┼───────────┼───────────┼───────────┼───────────┼───────────┼───────────┼───────────┼───────────┼───────────┼───────────┼───────────┼───────────┼───────────┼───────────┼───────────┼───────────┼───────────┼───────────┼───────────┼───────────┼───────────┼───────────┼───────────┼───────────┼───────────┼───────────┼───────────┼───────────■───────────■───────────■───────────■───────────■───────────■───────────■───────────■───────────■───────────■───────────■───────────■───────────■───────────■───────────■───────────■───────────■───────────■───────────■───────────■───────────■───────────■───────────■───────────■───────────■───────────■───────────■───────────■───────────■───────────■───────────■───────────■──────┤5      ├─╫──╫──╫──╫──╫─┤M├\n",
       "           ├───┤     ┌────┴─────┐┌────┴─────┐┌────┴─────┐┌────┴─────┐┌────┴─────┐┌────┴─────┐┌────┴─────┐┌────┴─────┐┌────┴─────┐┌────┴─────┐┌────┴─────┐┌────┴─────┐┌────┴─────┐┌────┴─────┐┌────┴─────┐┌────┴─────┐┌────┴─────┐┌────┴─────┐┌────┴─────┐┌────┴─────┐┌────┴─────┐┌────┴─────┐┌────┴─────┐┌────┴─────┐┌────┴─────┐┌────┴─────┐┌────┴─────┐┌────┴─────┐┌────┴─────┐┌────┴─────┐┌────┴─────┐┌────┴─────┐┌────┴─────┐┌────┴─────┐┌────┴─────┐┌────┴─────┐┌────┴─────┐┌────┴─────┐┌────┴─────┐┌────┴─────┐┌────┴─────┐┌────┴─────┐┌────┴─────┐┌────┴─────┐┌────┴─────┐┌────┴─────┐┌────┴─────┐┌────┴─────┐┌────┴─────┐┌────┴─────┐┌────┴─────┐┌────┴─────┐┌────┴─────┐┌────┴─────┐┌────┴─────┐┌────┴─────┐┌────┴─────┐┌────┴─────┐┌────┴─────┐┌────┴─────┐┌────┴─────┐┌────┴─────┐┌────┴─────┐└───────┘ ║  ║  ║  ║  ║ └╥┘\n",
       "      d_0: ┤ H ├─────┤0         ├┤0         ├┤0         ├┤0         ├┤0         ├┤0         ├┤0         ├┤0         ├┤0         ├┤0         ├┤0         ├┤0         ├┤0         ├┤0         ├┤0         ├┤0         ├┤0         ├┤0         ├┤0         ├┤0         ├┤0         ├┤0         ├┤0         ├┤0         ├┤0         ├┤0         ├┤0         ├┤0         ├┤0         ├┤0         ├┤0         ├┤0         ├┤0         ├┤0         ├┤0         ├┤0         ├┤0         ├┤0         ├┤0         ├┤0         ├┤0         ├┤0         ├┤0         ├┤0         ├┤0         ├┤0         ├┤0         ├┤0         ├┤0         ├┤0         ├┤0         ├┤0         ├┤0         ├┤0         ├┤0         ├┤0         ├┤0         ├┤0         ├┤0         ├┤0         ├┤0         ├┤0         ├┤0         ├──────────╫──╫──╫──╫──╫──╫─\n",
       "           ├───┤     │          ││          ││          ││          ││          ││          ││          ││          ││          ││          ││          ││          ││          ││          ││          ││          ││          ││          ││          ││          ││          ││          ││          ││          ││          ││          ││          ││          ││          ││          ││          ││          ││          ││          ││          ││          ││          ││          ││          ││          ││          ││          ││          ││          ││          ││          ││          ││          ││          ││          ││          ││          ││          ││          ││          ││          ││          ││          ││          ││          ││          ││          ││          │          ║  ║  ║  ║  ║  ║ \n",
       "      d_1: ┤ H ├─────┤1         ├┤1         ├┤1         ├┤1         ├┤1         ├┤1         ├┤1         ├┤1         ├┤1         ├┤1         ├┤1         ├┤1         ├┤1         ├┤1         ├┤1         ├┤1         ├┤1         ├┤1         ├┤1         ├┤1         ├┤1         ├┤1         ├┤1         ├┤1         ├┤1         ├┤1         ├┤1         ├┤1         ├┤1         ├┤1         ├┤1         ├┤1         ├┤1         ├┤1         ├┤1         ├┤1         ├┤1         ├┤1         ├┤1         ├┤1         ├┤1         ├┤1         ├┤1         ├┤1         ├┤1         ├┤1         ├┤1         ├┤1         ├┤1         ├┤1         ├┤1         ├┤1         ├┤1         ├┤1         ├┤1         ├┤1         ├┤1         ├┤1         ├┤1         ├┤1         ├┤1         ├┤1         ├┤1         ├──────────╫──╫──╫──╫──╫──╫─\n",
       "           ├───┤     │          ││          ││          ││          ││          ││          ││          ││          ││          ││          ││          ││          ││          ││          ││          ││          ││          ││          ││          ││          ││          ││          ││          ││          ││          ││          ││          ││          ││          ││          ││          ││          ││          ││          ││          ││          ││          ││          ││          ││          ││          ││          ││          ││          ││          ││          ││          ││          ││          ││          ││          ││          ││          ││          ││          ││          ││          ││          ││          ││          ││          ││          ││          │          ║  ║  ║  ║  ║  ║ \n",
       "      d_2: ┤ H ├─────┤2         ├┤2         ├┤2         ├┤2         ├┤2         ├┤2         ├┤2         ├┤2         ├┤2         ├┤2         ├┤2         ├┤2         ├┤2         ├┤2         ├┤2         ├┤2         ├┤2         ├┤2         ├┤2         ├┤2         ├┤2         ├┤2         ├┤2         ├┤2         ├┤2         ├┤2         ├┤2         ├┤2         ├┤2         ├┤2         ├┤2         ├┤2         ├┤2         ├┤2         ├┤2         ├┤2         ├┤2         ├┤2         ├┤2         ├┤2         ├┤2         ├┤2         ├┤2         ├┤2         ├┤2         ├┤2         ├┤2         ├┤2         ├┤2         ├┤2         ├┤2         ├┤2         ├┤2         ├┤2         ├┤2         ├┤2         ├┤2         ├┤2         ├┤2         ├┤2         ├┤2         ├┤2         ├┤2         ├──────────╫──╫──╫──╫──╫──╫─\n",
       "           ├───┤     │          ││          ││          ││          ││          ││          ││          ││          ││          ││          ││          ││          ││          ││          ││          ││          ││          ││          ││          ││          ││          ││          ││          ││          ││          ││          ││          ││          ││          ││          ││          ││          ││          ││          ││          ││          ││          ││          ││          ││          ││          ││          ││          ││          ││          ││          ││          ││          ││          ││          ││          ││          ││          ││          ││          ││          ││          ││          ││          ││          ││          ││          ││          │          ║  ║  ║  ║  ║  ║ \n",
       "      d_3: ┤ H ├─────┤3         ├┤3         ├┤3         ├┤3         ├┤3         ├┤3         ├┤3         ├┤3         ├┤3         ├┤3         ├┤3         ├┤3         ├┤3         ├┤3         ├┤3         ├┤3         ├┤3         ├┤3         ├┤3         ├┤3         ├┤3         ├┤3         ├┤3         ├┤3         ├┤3         ├┤3         ├┤3         ├┤3         ├┤3         ├┤3         ├┤3         ├┤3         ├┤3         ├┤3         ├┤3         ├┤3         ├┤3         ├┤3         ├┤3         ├┤3         ├┤3         ├┤3         ├┤3         ├┤3         ├┤3         ├┤3         ├┤3         ├┤3         ├┤3         ├┤3         ├┤3         ├┤3         ├┤3         ├┤3         ├┤3         ├┤3         ├┤3         ├┤3         ├┤3         ├┤3         ├┤3         ├┤3         ├┤3         ├──────────╫──╫──╫──╫──╫──╫─\n",
       "           ├───┤     │          ││          ││          ││          ││          ││          ││          ││          ││          ││          ││          ││          ││          ││          ││          ││          ││          ││          ││          ││          ││          ││          ││          ││          ││          ││          ││          ││          ││          ││          ││          ││          ││          ││          ││          ││          ││          ││          ││          ││          ││          ││          ││          ││          ││          ││          ││          ││          ││          ││          ││          ││          ││          ││          ││          ││          ││          ││          ││          ││          ││          ││          ││          │          ║  ║  ║  ║  ║  ║ \n",
       "      t_0: ┤ H ├─────┤4         ├┤4         ├┤4         ├┤4         ├┤4         ├┤4         ├┤4         ├┤4         ├┤4         ├┤4         ├┤4         ├┤4         ├┤4         ├┤4         ├┤4         ├┤4         ├┤4         ├┤4         ├┤4         ├┤4         ├┤4         ├┤4         ├┤4         ├┤4         ├┤4         ├┤4         ├┤4         ├┤4         ├┤4         ├┤4         ├┤4         ├┤4         ├┤4         ├┤4         ├┤4         ├┤4         ├┤4         ├┤4         ├┤4         ├┤4         ├┤4         ├┤4         ├┤4         ├┤4         ├┤4         ├┤4         ├┤4         ├┤4         ├┤4         ├┤4         ├┤4         ├┤4         ├┤4         ├┤4         ├┤4         ├┤4         ├┤4         ├┤4         ├┤4         ├┤4         ├┤4         ├┤4         ├┤4         ├──────────╫──╫──╫──╫──╫──╫─\n",
       "           ├───┤     │          ││          ││          ││          ││          ││          ││          ││          ││          ││          ││          ││          ││          ││          ││          ││          ││          ││          ││          ││          ││          ││          ││          ││          ││          ││          ││          ││          ││          ││          ││          ││          ││          ││          ││          ││          ││          ││          ││          ││          ││          ││          ││          ││          ││          ││          ││          ││          ││          ││          ││          ││          ││          ││          ││          ││          ││          ││          ││          ││          ││          ││          ││          │          ║  ║  ║  ║  ║  ║ \n",
       "      t_1: ┤ H ├─────┤5         ├┤5         ├┤5         ├┤5         ├┤5         ├┤5         ├┤5         ├┤5         ├┤5         ├┤5         ├┤5         ├┤5         ├┤5         ├┤5         ├┤5         ├┤5         ├┤5         ├┤5         ├┤5         ├┤5         ├┤5         ├┤5         ├┤5         ├┤5         ├┤5         ├┤5         ├┤5         ├┤5         ├┤5         ├┤5         ├┤5         ├┤5         ├┤5         ├┤5         ├┤5         ├┤5         ├┤5         ├┤5         ├┤5         ├┤5         ├┤5         ├┤5         ├┤5         ├┤5         ├┤5         ├┤5         ├┤5         ├┤5         ├┤5         ├┤5         ├┤5         ├┤5         ├┤5         ├┤5         ├┤5         ├┤5         ├┤5         ├┤5         ├┤5         ├┤5         ├┤5         ├┤5         ├┤5         ├──────────╫──╫──╫──╫──╫──╫─\n",
       "           ├───┤     │          ││          ││          ││          ││          ││          ││          ││          ││          ││          ││          ││          ││          ││          ││          ││          ││          ││          ││          ││          ││          ││          ││          ││          ││          ││          ││          ││          ││          ││          ││          ││          ││          ││          ││          ││          ││          ││          ││          ││          ││          ││          ││          ││          ││          ││          ││          ││          ││          ││          ││          ││          ││          ││          ││          ││          ││          ││          ││          ││          ││          ││          ││          │          ║  ║  ║  ║  ║  ║ \n",
       "      t_2: ┤ H ├─────┤6         ├┤6         ├┤6         ├┤6         ├┤6         ├┤6         ├┤6         ├┤6         ├┤6         ├┤6         ├┤6         ├┤6         ├┤6         ├┤6         ├┤6         ├┤6         ├┤6         ├┤6         ├┤6         ├┤6         ├┤6         ├┤6         ├┤6         ├┤6         ├┤6         ├┤6         ├┤6         ├┤6         ├┤6         ├┤6         ├┤6         ├┤6         ├┤6         ├┤6         ├┤6         ├┤6         ├┤6         ├┤6         ├┤6         ├┤6         ├┤6         ├┤6         ├┤6         ├┤6         ├┤6         ├┤6         ├┤6         ├┤6         ├┤6         ├┤6         ├┤6         ├┤6         ├┤6         ├┤6         ├┤6         ├┤6         ├┤6         ├┤6         ├┤6         ├┤6         ├┤6         ├┤6         ├┤6         ├──────────╫──╫──╫──╫──╫──╫─\n",
       "           ├───┤     │          ││          ││          ││          ││          ││          ││          ││          ││          ││          ││          ││          ││          ││          ││          ││          ││          ││          ││          ││          ││          ││          ││          ││          ││          ││          ││          ││          ││          ││          ││          ││          ││          ││          ││          ││          ││          ││          ││          ││          ││          ││          ││          ││          ││          ││          ││          ││          ││          ││          ││          ││          ││          ││          ││          ││          ││          ││          ││          ││          ││          ││          ││          │          ║  ║  ║  ║  ║  ║ \n",
       "      t_3: ┤ H ├─────┤7         ├┤7         ├┤7         ├┤7         ├┤7         ├┤7         ├┤7         ├┤7         ├┤7         ├┤7         ├┤7         ├┤7         ├┤7         ├┤7         ├┤7         ├┤7         ├┤7         ├┤7         ├┤7         ├┤7         ├┤7         ├┤7         ├┤7         ├┤7         ├┤7         ├┤7         ├┤7         ├┤7         ├┤7         ├┤7         ├┤7         ├┤7         ├┤7         ├┤7         ├┤7         ├┤7         ├┤7         ├┤7         ├┤7         ├┤7         ├┤7         ├┤7         ├┤7         ├┤7         ├┤7         ├┤7         ├┤7         ├┤7         ├┤7         ├┤7         ├┤7         ├┤7         ├┤7         ├┤7         ├┤7         ├┤7         ├┤7         ├┤7         ├┤7         ├┤7         ├┤7         ├┤7         ├┤7         ├──────────╫──╫──╫──╫──╫──╫─\n",
       "           ├───┤     │          ││          ││          ││          ││          ││          ││          ││          ││          ││          ││          ││          ││          ││          ││          ││          ││          ││          ││          ││          ││          ││          ││          ││          ││          ││          ││          ││          ││          ││          ││          ││          ││          ││          ││          ││          ││          ││          ││          ││          ││          ││          ││          ││          ││          ││          ││          ││          ││          ││          ││          ││          ││          ││          ││          ││          ││          ││          ││          ││          ││          ││          ││          │          ║  ║  ║  ║  ║  ║ \n",
       "      t_4: ┤ H ├─────┤8         ├┤8         ├┤8         ├┤8         ├┤8         ├┤8         ├┤8         ├┤8         ├┤8         ├┤8         ├┤8         ├┤8         ├┤8         ├┤8         ├┤8         ├┤8         ├┤8         ├┤8         ├┤8         ├┤8         ├┤8         ├┤8         ├┤8         ├┤8         ├┤8         ├┤8         ├┤8         ├┤8         ├┤8         ├┤8         ├┤8         ├┤8         ├┤8         ├┤8         ├┤8         ├┤8         ├┤8         ├┤8         ├┤8         ├┤8         ├┤8         ├┤8         ├┤8         ├┤8         ├┤8         ├┤8         ├┤8         ├┤8         ├┤8         ├┤8         ├┤8         ├┤8         ├┤8         ├┤8         ├┤8         ├┤8         ├┤8         ├┤8         ├┤8         ├┤8         ├┤8         ├┤8         ├┤8         ├──────────╫──╫──╫──╫──╫──╫─\n",
       "           ├───┤     │          ││          ││          ││          ││          ││          ││          ││          ││          ││          ││          ││          ││          ││          ││          ││          ││          ││          ││          ││          ││          ││          ││          ││          ││          ││          ││          ││          ││          ││          ││          ││          ││          ││          ││          ││          ││          ││          ││          ││          ││          ││          ││          ││          ││          ││          ││          ││          ││          ││          ││          ││          ││          ││          ││          ││          ││          ││          ││          ││          ││          ││          ││          │          ║  ║  ║  ║  ║  ║ \n",
       "      t_5: ┤ H ├─────┤9  Grover ├┤9  Grover ├┤9  Grover ├┤9  Grover ├┤9  Grover ├┤9  Grover ├┤9  Grover ├┤9  Grover ├┤9  Grover ├┤9  Grover ├┤9  Grover ├┤9  Grover ├┤9  Grover ├┤9  Grover ├┤9  Grover ├┤9  Grover ├┤9  Grover ├┤9  Grover ├┤9  Grover ├┤9  Grover ├┤9  Grover ├┤9  Grover ├┤9  Grover ├┤9  Grover ├┤9  Grover ├┤9  Grover ├┤9  Grover ├┤9  Grover ├┤9  Grover ├┤9  Grover ├┤9  Grover ├┤9  Grover ├┤9  Grover ├┤9  Grover ├┤9  Grover ├┤9  Grover ├┤9  Grover ├┤9  Grover ├┤9  Grover ├┤9  Grover ├┤9  Grover ├┤9  Grover ├┤9  Grover ├┤9  Grover ├┤9  Grover ├┤9  Grover ├┤9  Grover ├┤9  Grover ├┤9  Grover ├┤9  Grover ├┤9  Grover ├┤9  Grover ├┤9  Grover ├┤9  Grover ├┤9  Grover ├┤9  Grover ├┤9  Grover ├┤9  Grover ├┤9  Grover ├┤9  Grover ├┤9  Grover ├┤9  Grover ├┤9  Grover ├──────────╫──╫──╫──╫──╫──╫─\n",
       "           ├───┤     │          ││          ││          ││          ││          ││          ││          ││          ││          ││          ││          ││          ││          ││          ││          ││          ││          ││          ││          ││          ││          ││          ││          ││          ││          ││          ││          ││          ││          ││          ││          ││          ││          ││          ││          ││          ││          ││          ││          ││          ││          ││          ││          ││          ││          ││          ││          ││          ││          ││          ││          ││          ││          ││          ││          ││          ││          ││          ││          ││          ││          ││          ││          │          ║  ║  ║  ║  ║  ║ \n",
       "      t_6: ┤ H ├─────┤10        ├┤10        ├┤10        ├┤10        ├┤10        ├┤10        ├┤10        ├┤10        ├┤10        ├┤10        ├┤10        ├┤10        ├┤10        ├┤10        ├┤10        ├┤10        ├┤10        ├┤10        ├┤10        ├┤10        ├┤10        ├┤10        ├┤10        ├┤10        ├┤10        ├┤10        ├┤10        ├┤10        ├┤10        ├┤10        ├┤10        ├┤10        ├┤10        ├┤10        ├┤10        ├┤10        ├┤10        ├┤10        ├┤10        ├┤10        ├┤10        ├┤10        ├┤10        ├┤10        ├┤10        ├┤10        ├┤10        ├┤10        ├┤10        ├┤10        ├┤10        ├┤10        ├┤10        ├┤10        ├┤10        ├┤10        ├┤10        ├┤10        ├┤10        ├┤10        ├┤10        ├┤10        ├┤10        ├──────────╫──╫──╫──╫──╫──╫─\n",
       "           ├───┤     │          ││          ││          ││          ││          ││          ││          ││          ││          ││          ││          ││          ││          ││          ││          ││          ││          ││          ││          ││          ││          ││          ││          ││          ││          ││          ││          ││          ││          ││          ││          ││          ││          ││          ││          ││          ││          ││          ││          ││          ││          ││          ││          ││          ││          ││          ││          ││          ││          ││          ││          ││          ││          ││          ││          ││          ││          ││          ││          ││          ││          ││          ││          │          ║  ║  ║  ║  ║  ║ \n",
       "      t_7: ┤ H ├─────┤11        ├┤11        ├┤11        ├┤11        ├┤11        ├┤11        ├┤11        ├┤11        ├┤11        ├┤11        ├┤11        ├┤11        ├┤11        ├┤11        ├┤11        ├┤11        ├┤11        ├┤11        ├┤11        ├┤11        ├┤11        ├┤11        ├┤11        ├┤11        ├┤11        ├┤11        ├┤11        ├┤11        ├┤11        ├┤11        ├┤11        ├┤11        ├┤11        ├┤11        ├┤11        ├┤11        ├┤11        ├┤11        ├┤11        ├┤11        ├┤11        ├┤11        ├┤11        ├┤11        ├┤11        ├┤11        ├┤11        ├┤11        ├┤11        ├┤11        ├┤11        ├┤11        ├┤11        ├┤11        ├┤11        ├┤11        ├┤11        ├┤11        ├┤11        ├┤11        ├┤11        ├┤11        ├┤11        ├──────────╫──╫──╫──╫──╫──╫─\n",
       "           ├───┤     │          ││          ││          ││          ││          ││          ││          ││          ││          ││          ││          ││          ││          ││          ││          ││          ││          ││          ││          ││          ││          ││          ││          ││          ││          ││          ││          ││          ││          ││          ││          ││          ││          ││          ││          ││          ││          ││          ││          ││          ││          ││          ││          ││          ││          ││          ││          ││          ││          ││          ││          ││          ││          ││          ││          ││          ││          ││          ││          ││          ││          ││          ││          │          ║  ║  ║  ║  ║  ║ \n",
       "      t_8: ┤ H ├─────┤12        ├┤12        ├┤12        ├┤12        ├┤12        ├┤12        ├┤12        ├┤12        ├┤12        ├┤12        ├┤12        ├┤12        ├┤12        ├┤12        ├┤12        ├┤12        ├┤12        ├┤12        ├┤12        ├┤12        ├┤12        ├┤12        ├┤12        ├┤12        ├┤12        ├┤12        ├┤12        ├┤12        ├┤12        ├┤12        ├┤12        ├┤12        ├┤12        ├┤12        ├┤12        ├┤12        ├┤12        ├┤12        ├┤12        ├┤12        ├┤12        ├┤12        ├┤12        ├┤12        ├┤12        ├┤12        ├┤12        ├┤12        ├┤12        ├┤12        ├┤12        ├┤12        ├┤12        ├┤12        ├┤12        ├┤12        ├┤12        ├┤12        ├┤12        ├┤12        ├┤12        ├┤12        ├┤12        ├──────────╫──╫──╫──╫──╫──╫─\n",
       "           ├───┤     │          ││          ││          ││          ││          ││          ││          ││          ││          ││          ││          ││          ││          ││          ││          ││          ││          ││          ││          ││          ││          ││          ││          ││          ││          ││          ││          ││          ││          ││          ││          ││          ││          ││          ││          ││          ││          ││          ││          ││          ││          ││          ││          ││          ││          ││          ││          ││          ││          ││          ││          ││          ││          ││          ││          ││          ││          ││          ││          ││          ││          ││          ││          │          ║  ║  ║  ║  ║  ║ \n",
       "      t_9: ┤ H ├─────┤13        ├┤13        ├┤13        ├┤13        ├┤13        ├┤13        ├┤13        ├┤13        ├┤13        ├┤13        ├┤13        ├┤13        ├┤13        ├┤13        ├┤13        ├┤13        ├┤13        ├┤13        ├┤13        ├┤13        ├┤13        ├┤13        ├┤13        ├┤13        ├┤13        ├┤13        ├┤13        ├┤13        ├┤13        ├┤13        ├┤13        ├┤13        ├┤13        ├┤13        ├┤13        ├┤13        ├┤13        ├┤13        ├┤13        ├┤13        ├┤13        ├┤13        ├┤13        ├┤13        ├┤13        ├┤13        ├┤13        ├┤13        ├┤13        ├┤13        ├┤13        ├┤13        ├┤13        ├┤13        ├┤13        ├┤13        ├┤13        ├┤13        ├┤13        ├┤13        ├┤13        ├┤13        ├┤13        ├──────────╫──╫──╫──╫──╫──╫─\n",
       "           ├───┤     │          ││          ││          ││          ││          ││          ││          ││          ││          ││          ││          ││          ││          ││          ││          ││          ││          ││          ││          ││          ││          ││          ││          ││          ││          ││          ││          ││          ││          ││          ││          ││          ││          ││          ││          ││          ││          ││          ││          ││          ││          ││          ││          ││          ││          ││          ││          ││          ││          ││          ││          ││          ││          ││          ││          ││          ││          ││          ││          ││          ││          ││          ││          │          ║  ║  ║  ║  ║  ║ \n",
       "     t_10: ┤ H ├─────┤14        ├┤14        ├┤14        ├┤14        ├┤14        ├┤14        ├┤14        ├┤14        ├┤14        ├┤14        ├┤14        ├┤14        ├┤14        ├┤14        ├┤14        ├┤14        ├┤14        ├┤14        ├┤14        ├┤14        ├┤14        ├┤14        ├┤14        ├┤14        ├┤14        ├┤14        ├┤14        ├┤14        ├┤14        ├┤14        ├┤14        ├┤14        ├┤14        ├┤14        ├┤14        ├┤14        ├┤14        ├┤14        ├┤14        ├┤14        ├┤14        ├┤14        ├┤14        ├┤14        ├┤14        ├┤14        ├┤14        ├┤14        ├┤14        ├┤14        ├┤14        ├┤14        ├┤14        ├┤14        ├┤14        ├┤14        ├┤14        ├┤14        ├┤14        ├┤14        ├┤14        ├┤14        ├┤14        ├──────────╫──╫──╫──╫──╫──╫─\n",
       "           ├───┤     │          ││          ││          ││          ││          ││          ││          ││          ││          ││          ││          ││          ││          ││          ││          ││          ││          ││          ││          ││          ││          ││          ││          ││          ││          ││          ││          ││          ││          ││          ││          ││          ││          ││          ││          ││          ││          ││          ││          ││          ││          ││          ││          ││          ││          ││          ││          ││          ││          ││          ││          ││          ││          ││          ││          ││          ││          ││          ││          ││          ││          ││          ││          │          ║  ║  ║  ║  ║  ║ \n",
       "     t_11: ┤ H ├─────┤15        ├┤15        ├┤15        ├┤15        ├┤15        ├┤15        ├┤15        ├┤15        ├┤15        ├┤15        ├┤15        ├┤15        ├┤15        ├┤15        ├┤15        ├┤15        ├┤15        ├┤15        ├┤15        ├┤15        ├┤15        ├┤15        ├┤15        ├┤15        ├┤15        ├┤15        ├┤15        ├┤15        ├┤15        ├┤15        ├┤15        ├┤15        ├┤15        ├┤15        ├┤15        ├┤15        ├┤15        ├┤15        ├┤15        ├┤15        ├┤15        ├┤15        ├┤15        ├┤15        ├┤15        ├┤15        ├┤15        ├┤15        ├┤15        ├┤15        ├┤15        ├┤15        ├┤15        ├┤15        ├┤15        ├┤15        ├┤15        ├┤15        ├┤15        ├┤15        ├┤15        ├┤15        ├┤15        ├──────────╫──╫──╫──╫──╫──╫─\n",
       "           ├───┤     │          ││          ││          ││          ││          ││          ││          ││          ││          ││          ││          ││          ││          ││          ││          ││          ││          ││          ││          ││          ││          ││          ││          ││          ││          ││          ││          ││          ││          ││          ││          ││          ││          ││          ││          ││          ││          ││          ││          ││          ││          ││          ││          ││          ││          ││          ││          ││          ││          ││          ││          ││          ││          ││          ││          ││          ││          ││          ││          ││          ││          ││          ││          │          ║  ║  ║  ║  ║  ║ \n",
       "     t_12: ┤ H ├─────┤16        ├┤16        ├┤16        ├┤16        ├┤16        ├┤16        ├┤16        ├┤16        ├┤16        ├┤16        ├┤16        ├┤16        ├┤16        ├┤16        ├┤16        ├┤16        ├┤16        ├┤16        ├┤16        ├┤16        ├┤16        ├┤16        ├┤16        ├┤16        ├┤16        ├┤16        ├┤16        ├┤16        ├┤16        ├┤16        ├┤16        ├┤16        ├┤16        ├┤16        ├┤16        ├┤16        ├┤16        ├┤16        ├┤16        ├┤16        ├┤16        ├┤16        ├┤16        ├┤16        ├┤16        ├┤16        ├┤16        ├┤16        ├┤16        ├┤16        ├┤16        ├┤16        ├┤16        ├┤16        ├┤16        ├┤16        ├┤16        ├┤16        ├┤16        ├┤16        ├┤16        ├┤16        ├┤16        ├──────────╫──╫──╫──╫──╫──╫─\n",
       "           ├───┤     │          ││          ││          ││          ││          ││          ││          ││          ││          ││          ││          ││          ││          ││          ││          ││          ││          ││          ││          ││          ││          ││          ││          ││          ││          ││          ││          ││          ││          ││          ││          ││          ││          ││          ││          ││          ││          ││          ││          ││          ││          ││          ││          ││          ││          ││          ││          ││          ││          ││          ││          ││          ││          ││          ││          ││          ││          ││          ││          ││          ││          ││          ││          │          ║  ║  ║  ║  ║  ║ \n",
       "     t_13: ┤ H ├─────┤17        ├┤17        ├┤17        ├┤17        ├┤17        ├┤17        ├┤17        ├┤17        ├┤17        ├┤17        ├┤17        ├┤17        ├┤17        ├┤17        ├┤17        ├┤17        ├┤17        ├┤17        ├┤17        ├┤17        ├┤17        ├┤17        ├┤17        ├┤17        ├┤17        ├┤17        ├┤17        ├┤17        ├┤17        ├┤17        ├┤17        ├┤17        ├┤17        ├┤17        ├┤17        ├┤17        ├┤17        ├┤17        ├┤17        ├┤17        ├┤17        ├┤17        ├┤17        ├┤17        ├┤17        ├┤17        ├┤17        ├┤17        ├┤17        ├┤17        ├┤17        ├┤17        ├┤17        ├┤17        ├┤17        ├┤17        ├┤17        ├┤17        ├┤17        ├┤17        ├┤17        ├┤17        ├┤17        ├──────────╫──╫──╫──╫──╫──╫─\n",
       "           ├───┤┌───┐│          ││          ││          ││          ││          ││          ││          ││          ││          ││          ││          ││          ││          ││          ││          ││          ││          ││          ││          ││          ││          ││          ││          ││          ││          ││          ││          ││          ││          ││          ││          ││          ││          ││          ││          ││          ││          ││          ││          ││          ││          ││          ││          ││          ││          ││          ││          ││          ││          ││          ││          ││          ││          ││          ││          ││          ││          ││          ││          ││          ││          ││          ││          │          ║  ║  ║  ║  ║  ║ \n",
       "ancilla_0: ┤ X ├┤ H ├┤18        ├┤18        ├┤18        ├┤18        ├┤18        ├┤18        ├┤18        ├┤18        ├┤18        ├┤18        ├┤18        ├┤18        ├┤18        ├┤18        ├┤18        ├┤18        ├┤18        ├┤18        ├┤18        ├┤18        ├┤18        ├┤18        ├┤18        ├┤18        ├┤18        ├┤18        ├┤18        ├┤18        ├┤18        ├┤18        ├┤18        ├┤18        ├┤18        ├┤18        ├┤18        ├┤18        ├┤18        ├┤18        ├┤18        ├┤18        ├┤18        ├┤18        ├┤18        ├┤18        ├┤18        ├┤18        ├┤18        ├┤18        ├┤18        ├┤18        ├┤18        ├┤18        ├┤18        ├┤18        ├┤18        ├┤18        ├┤18        ├┤18        ├┤18        ├┤18        ├┤18        ├┤18        ├┤18        ├──────────╫──╫──╫──╫──╫──╫─\n",
       "           └───┘└───┘└──────────┘└──────────┘└──────────┘└──────────┘└──────────┘└──────────┘└──────────┘└──────────┘└──────────┘└──────────┘└──────────┘└──────────┘└──────────┘└──────────┘└──────────┘└──────────┘└──────────┘└──────────┘└──────────┘└──────────┘└──────────┘└──────────┘└──────────┘└──────────┘└──────────┘└──────────┘└──────────┘└──────────┘└──────────┘└──────────┘└──────────┘└──────────┘└──────────┘└──────────┘└──────────┘└──────────┘└──────────┘└──────────┘└──────────┘└──────────┘└──────────┘└──────────┘└──────────┘└──────────┘└──────────┘└──────────┘└──────────┘└──────────┘└──────────┘└──────────┘└──────────┘└──────────┘└──────────┘└──────────┘└──────────┘└──────────┘└──────────┘└──────────┘└──────────┘└──────────┘└──────────┘└──────────┘└──────────┘          ║  ║  ║  ║  ║  ║ \n",
       "      c: 6/════════════════════════════════════════════════════════════════════════════════════════════════════════════════════════════════════════════════════════════════════════════════════════════════════════════════════════════════════════════════════════════════════════════════════════════════════════════════════════════════════════════════════════════════════════════════════════════════════════════════════════════════════════════════════════════════════════════════════════════════════════════════════════════════════════════════════════════════════════════════════════════════════════════════════════════════════════════════════════════════════════════════════════════════════════════════════════════════════════════════════════════════════════════════════════════════════════╩══╩══╩══╩══╩══╩═\n",
       "                                                                                                                                                                                                                                                                                                                                                                                                                                                                                                                                                                                                                                                                                                                                                                                                                   0  1  2  3  4  5 "
      ]
     },
     "execution_count": 10,
     "metadata": {},
     "output_type": "execute_result"
    }
   ],
   "source": [
    "data_arr = [3,7,1,7,0,0,5,7,5,3,2,5,6,5]\n",
    "thresh = 6\n",
    "t = 6   # no. of counting qubits\n",
    "\n",
    "grov_it = GrovIt(data_arr, thresh).to_gate()\n",
    "grov_it.label = \"Grover\"\n",
    "cgrov_it = grov_it.control()\n",
    "\n",
    "qft_dagger = qft(t).to_gate().inverse()\n",
    "qft_dagger.label = \"QFT†\"\n",
    "\n",
    "n = ceil(log(len(data_arr), 2)) #number of index qbits\n",
    "len_b =  ceil(log(max(data_arr)+1, 2))#length of the bitstrings to compare\n",
    "m = 5*len_b #number of qbits needed for the comparision\n",
    "\n",
    "c_reg = QuantumRegister(t, 'count')\n",
    "i_reg = QuantumRegister(n, 'd') #Creates the data registry\n",
    "val_reg = QuantumRegister(m-1, 't') #Creates the template registry\n",
    "anc = QuantumRegister(1, 'ancilla') #Creates the ancillary registry for the oracle\n",
    "cr = ClassicalRegister(t, 'c') #Creates the classical bit measurment output\n",
    "\n",
    "qc = QuantumCircuit(c_reg, i_reg, val_reg, anc, cr) #Makes the circuit with these qbits as input\n",
    "\n",
    "# Initialize all qubits to |+>\n",
    "for qubit in range(t+n+m-1):\n",
    "    qc.h(qubit)\n",
    "    \n",
    "# #initiation of ancillary to |->\n",
    "qc.x(anc)\n",
    "qc.h(anc)\n",
    "\n",
    "\n",
    "# Begin controlled Grover iterations\n",
    "iterations = 1\n",
    "for qubit in range(t):\n",
    "    for i in range(iterations):\n",
    "        qc.append(cgrov_it, [qubit] + [*range(t, t+n+m)])\n",
    "    iterations *= 2\n",
    "    \n",
    "# Do inverse QFT on counting qubits\n",
    "qc.append(qft_dagger, range(t))\n",
    "\n",
    "# Measure counting qubits\n",
    "qc.measure(range(t), range(t))\n",
    "\n",
    "# Display the circuit\n",
    "qc.draw(fold=-1)"
   ]
  },
  {
   "cell_type": "code",
   "execution_count": null,
   "id": "7ca9481a",
   "metadata": {},
   "outputs": [],
   "source": [
    "# Execute and see results\n",
    "aer_sim = Aer.get_backend('aer_simulator')\n",
    "transpiled_qc = transpile(qc, aer_sim)\n",
    "qobj = assemble(transpiled_qc)\n",
    "job = aer_sim.run(qobj)\n",
    "hist = job.result().get_counts()\n",
    "\n",
    "results = {'val':hist.keys(),'count':hist.values()} #change the formatting of the data to match plotly\n",
    "\n",
    "fig = px.bar(results, x=\"val\", y=\"count\", text=\"count\")\n",
    "fig.update_traces(texttemplate='%{text:.2s}', textposition='outside')\n",
    "fig.update_layout(uniformtext_minsize=6, uniformtext_mode='show')\n",
    "fig.show()"
   ]
  },
  {
   "cell_type": "code",
   "execution_count": null,
   "id": "e18a0e7d",
   "metadata": {},
   "outputs": [],
   "source": [
    "measured_str = max(hist, key=hist.get)\n",
    "measured_int = int(measured_str,2)\n",
    "print(\"Register Output = %i\" % measured_int)\n",
    "\n",
    "theta = (measured_int/(2**t))*math.pi*2\n",
    "print(\"Theta = %.5f\" % theta)\n",
    "\n",
    "N = 2**n\n",
    "M = N * (math.sin(theta/2)**2)\n",
    "print(\"No. of Solutions = %.1f\" % (N-M))\n",
    "\n",
    "k = math.pi/4*math.sqrt(N/(N-M))-0.5\n",
    "print(f\"The optimal number of iterations is: {k}\")"
   ]
  },
  {
   "cell_type": "markdown",
   "id": "dcfdeffa",
   "metadata": {},
   "source": [
    "# Application to real SNR's"
   ]
  },
  {
   "cell_type": "markdown",
   "id": "5cd194fa",
   "metadata": {},
   "source": [
    "So let's try to apply this to the SNR array from the paper. For this, we will simply take the SNR file from that the github repo gives us an initialize the SNR array the same way:"
   ]
  },
  {
   "cell_type": "code",
   "execution_count": null,
   "id": "04dff464",
   "metadata": {},
   "outputs": [],
   "source": [
    "#Taken from the code of the paper\n",
    "M = 2**17\n",
    "\n",
    "snrs_ = np.load('snr_data/SNRs_signal_spins.npy')\n",
    "if len(snrs_)>M:\n",
    "    snrs = snrs_[::len(snrs_)//M]\n",
    "    if len(snrs)>M:\n",
    "        snrs = snrs[:M]\n",
    "    elif len(snrs)<M:\n",
    "        snrs__ = snrs_[1:][::len(snrs)//M][:M-len(snrs)]\n",
    "        snrs = np.concatenate((snrs,snrs__))\n",
    "else:\n",
    "    snrs = snrs_"
   ]
  },
  {
   "cell_type": "markdown",
   "id": "78478650",
   "metadata": {},
   "source": [
    "Because we are already cutting the array thanks to the code of the paper, we will have an exact power of two as array length. But let's check nontheless:"
   ]
  },
  {
   "cell_type": "code",
   "execution_count": null,
   "id": "47347949",
   "metadata": {},
   "outputs": [],
   "source": [
    "print(f\"SNR array is of length: {len(snrs)}\")\n",
    "pow2 = ceil(log(len(snrs), 2))\n",
    "print(f\"Closest upper power of two: {pow2} -> 2^{pow2} = {2**pow2}\")"
   ]
  },
  {
   "cell_type": "markdown",
   "id": "9de7a97b",
   "metadata": {},
   "source": [
    "This is too big to run on my computer as is, as it requires too much computational power to create and simulate the circuit. So instead we will choose to take only the $2^9$ first values and try our algorithm on those. We also choose an SNR threshold of 6. We round the values in the array to the closest integer (in practice we should floor the values, but this is only a proof of concept).\n",
    "Let's see what we should expect as an outcome:"
   ]
  },
  {
   "cell_type": "code",
   "execution_count": null,
   "id": "f2ba9c16",
   "metadata": {},
   "outputs": [],
   "source": [
    "p = []\n",
    "for i in np.rint(snrs.tolist()).astype(np.int64)[:2**11]:\n",
    "    if i > 6:\n",
    "        p.append(i)\n",
    "        \n",
    "print(p)"
   ]
  },
  {
   "cell_type": "markdown",
   "id": "0e245288",
   "metadata": {},
   "source": [
    "So these are the values that we will hopefully get as an output of the computation."
   ]
  },
  {
   "cell_type": "code",
   "execution_count": null,
   "id": "88358a40",
   "metadata": {},
   "outputs": [],
   "source": [
    "data_arr = np.rint(snrs.tolist()).astype(np.int64)[:2**9]\n",
    "thresh = 6\n",
    "len(data_arr)"
   ]
  },
  {
   "cell_type": "code",
   "execution_count": null,
   "id": "1472bd2d",
   "metadata": {},
   "outputs": [],
   "source": [
    "###################################### SETTING UP THE SEARCH ################################################\n",
    "\n",
    "data_arr = np.rint(snrs.tolist()).astype(np.int64)[:2**8]\n",
    "thresh = 6\n",
    "\n",
    "#############################################################################################################\n",
    "\n",
    "#These numbers are calculated directly from the data array\n",
    "n = ceil(log(len(data_arr), 2)) #number of index qbits\n",
    "len_b =  ceil(log(max(data_arr)+1, 2))#length of the bitstrings to compare\n",
    "m = 5*len_b #number of qbits needed for the comparision\n",
    "\n",
    "i_reg = QuantumRegister(n, 'd') #Creates the data registry\n",
    "val_reg = QuantumRegister(m-1, 't') #Creates the template registry\n",
    "anc = QuantumRegister(1, 'ancilla') #Creates the ancillary registry for the oracle\n",
    "cr = ClassicalRegister(n, 'c') #Creates the classical bit measurment output\n",
    "\n",
    "qc = QuantumCircuit(i_reg, val_reg, anc, cr) #Makes the circuit with these qbits as input\n",
    "\n",
    "encode = encode_qc(n,len_b,data_arr).to_gate()\n",
    "encode.label = \"Encoding database\"\n",
    "\n",
    "####### State initialization #########\n",
    "qc.h(range(n))\n",
    "\n",
    "#initiation of ancillary to |->\n",
    "qc.x(anc)\n",
    "qc.h(anc)\n",
    "\n",
    "##### SETTING THE THRESHOLD ######\n",
    "\n",
    "set_thresh(qc, n, len_b, thresh)\n",
    "\n",
    "qc.barrier()\n",
    "\n",
    "#ENCODING\n",
    "#The arrays are made with list comprehentions to make something that looks like [0,1,2,n+16,n+11,n+6,n+1], \n",
    "#which connects the database (the first values) to the comparators (the values with n+...)\n",
    "qc.append(encode, [x for x in range(n)]+[n+x*5+1 for x in reversed(range(len_b))])#had to reverse the order how the qbits were entered, as the two parts (database and conparator) work in reverse\n",
    "\n",
    "comp_qc = n_comparator(len_b).to_gate()\n",
    "comp_qc.label = \"Comparator\"\n",
    "\n",
    "qc.append(comp_qc, range(n,n+m))\n",
    "\n",
    "qc.append(encode.reverse_ops(), [x for x in range(n)]+[n+x*5+1 for x in reversed(range(len_b))])\n",
    "\n",
    "qc.barrier()\n",
    "\n",
    "#DIFFUSION OP\n",
    "qc.h(range(n))\n",
    "qc.x(range(n-1))\n",
    "\n",
    "qc.x(n-1)\n",
    "qc.h(n-1)\n",
    "qc.mct(list(range(n-1)), n-1) \n",
    "qc.h(n-1)\n",
    "qc.x(n-1)\n",
    "\n",
    "qc.x(range(n-1))\n",
    "qc.h(range(n))\n",
    "qc.barrier()\n",
    "\n",
    "qc.measure([x for x in range(n)],cr)\n",
    "\n",
    "qc.draw(fold=-1)"
   ]
  },
  {
   "cell_type": "code",
   "execution_count": null,
   "id": "1382d6d7",
   "metadata": {
    "scrolled": true
   },
   "outputs": [],
   "source": [
    "t0 = time.perf_counter()\n",
    "\n",
    "############# CIRCUIT SIMULATION #################\n",
    "aer_sim = Aer.get_backend('aer_simulator')\n",
    "aer_sim.set_options(device='GPU')\n",
    "\n",
    "transpiled_qc = transpile(qc, aer_sim)\n",
    "shots = 2048 #we repeat the simulation 2048 times\n",
    "job = aer_sim.run(transpiled_qc)\n",
    "\n",
    "\n",
    "t1 = time.perf_counter()\n",
    "print('Total time: ', t1 - t0)  \n",
    "\n",
    "############# PLOTTING #################\n",
    "hist = job.result().get_counts() #simulation output\n",
    "sort_hist = sorted(hist.items()) #So that the plotting puts everything in the same increasing order of basis\n",
    "n_hist = {k:v for k,v in sort_hist}\n",
    "\n",
    "stop_beg = timeit.default_timer()\n",
    "print('Total time: ', stop_beg - start_beg)  \n"
   ]
  },
  {
   "cell_type": "code",
   "execution_count": null,
   "id": "d8c9c7b5",
   "metadata": {},
   "outputs": [],
   "source": [
    "# #We plot the results using plotly as a plotting tool\n",
    "results = {'val':n_hist.keys(),'count':n_hist.values()} #change the formatting of the data to match plotly\n",
    "\n",
    "fig = px.bar(results, x=\"val\", y=\"count\", text=\"count\")\n",
    "fig.update_traces(texttemplate='%{text:.2s}', textposition='outside')\n",
    "fig.update_layout(uniformtext_minsize=6, uniformtext_mode='show')\n",
    "fig.show()"
   ]
  },
  {
   "cell_type": "code",
   "execution_count": null,
   "id": "dc78835f",
   "metadata": {},
   "outputs": [],
   "source": [
    "trig = []\n",
    "for i,j in zip(results['val'],results['count']):\n",
    "    if int(j) > 20:\n",
    "        trig.append({'index_dec':int(i,2),'index_bin':i,'counts':j})\n",
    "        \n",
    "for t in trig:\n",
    "    print(f\"Index {t['index_dec']} holds the value {data_arr[t['index_dec']]}, which is above the chosen threshold.\")"
   ]
  },
  {
   "cell_type": "code",
   "execution_count": null,
   "id": "da4598cb",
   "metadata": {},
   "outputs": [],
   "source": [
    "snrs"
   ]
  },
  {
   "cell_type": "code",
   "execution_count": null,
   "id": "845bfe42",
   "metadata": {},
   "outputs": [],
   "source": [
    "n = 2**10\n",
    "broken_snrs = [snrs[i:i + n] for i in range(0, len(snrs), n)]\n",
    "len(broken_snrs)"
   ]
  },
  {
   "cell_type": "markdown",
   "id": "148a814f",
   "metadata": {},
   "source": [
    "## Running over full SNR array (broken into pieces)"
   ]
  },
  {
   "cell_type": "code",
   "execution_count": null,
   "id": "17b3863e",
   "metadata": {
    "scrolled": true
   },
   "outputs": [],
   "source": [
    "# from grover_functions import *\n",
    "# from qiskit import QuantumCircuit, assemble, Aer, QuantumRegister, ClassicalRegister, AncillaRegister, transpile\n",
    "# from qiskit.visualization import plot_bloch_multivector, plot_histogram, array_to_latex\n",
    "# import math\n",
    "# from math import log, ceil, floor\n",
    "# import plotly.express as px\n",
    "# import numpy as np\n",
    "# import timeit\n",
    "# import time\n",
    "\n",
    "#BENCHMARKING VALUES#\n",
    "val_qbit_nb = 4\n",
    "block_pow = 4 #size of spliced block\n",
    "max_loop = 32 #nb of loops to do\n",
    "print_lim = 90 #print probability limit (this is the threshold at which the prob is high enough)\n",
    "#####################\n",
    "\n",
    "t0_0 = time.perf_counter()\n",
    "\n",
    "M = 2**17\n",
    "\n",
    "snrs_ = np.load('snr_data/SNRs_signal_spins.npy')\n",
    "if len(snrs_)>M:\n",
    "    snrs = snrs_[::len(snrs_)//M]\n",
    "    if len(snrs)>M:\n",
    "        snrs = snrs[:M]\n",
    "    elif len(snrs)<M:\n",
    "        snrs__ = snrs_[1:][::len(snrs)//M][:M-len(snrs)]\n",
    "        snrs = np.concatenate((snrs,snrs__))\n",
    "else:\n",
    "    snrs = snrs_\n",
    "\n",
    "###################################### SETTING UP THE SEARCH ################################################\n",
    "nb_break = 2**block_pow #size of blocks\n",
    "broken_snrs = [snrs[i:i + nb_break] for i in range(0, len(snrs), nb_break)] #breaks the snr array into even blocks\n",
    "\n",
    "data_arr_full = np.rint(broken_snrs).astype(np.int64) #rounds the values and transforms into integers\n",
    "\n",
    "thresh = 6\n",
    "\n",
    "with open('output_dicts.py', 'w') as f:\n",
    "    f.write(f\"# This file stores the values from the grover iteration\")\n",
    "\n",
    "with open('output_dicts.py', 'a') as f:\n",
    "    f.write(\n",
    "f'''\n",
    "import numpy as np\n",
    "\n",
    "M = 2**17\n",
    "\n",
    "snrs_ = np.load('SNRs_signal_spins.npy')\n",
    "if len(snrs_)>M:\n",
    "    snrs = snrs_[::len(snrs_)//M]\n",
    "    if len(snrs)>M:\n",
    "        snrs = snrs[:M]\n",
    "    elif len(snrs)<M:\n",
    "        snrs__ = snrs_[1:][::len(snrs)//M][:M-len(snrs)]\n",
    "        snrs = np.concatenate((snrs,snrs__))\n",
    "else:\n",
    "    snrs = snrs_\n",
    "\n",
    "nb_break = 2**{block_pow} #size of blocks\n",
    "broken_snrs = [snrs[i:i + nb_break] for i in range(0, len(snrs), nb_break)]\n",
    "''')\n",
    "\n",
    "#############################################################################################################\n",
    "loop_nb = 0\n",
    "\n",
    "with open('output_dicts.py', 'a') as f:\n",
    "    f.write(f\"dict_val = {{\\n\")\n",
    "\n",
    "for data_arr in data_arr_full:\n",
    "    \n",
    "    print(f\"\\nLoop {loop_nb+1}; Indices {nb_break*loop_nb} to {nb_break*(loop_nb+1)}\")\n",
    "\n",
    "    #These numbers are calculated directly from the data array\n",
    "    n = ceil(log(len(data_arr), 2)) #number of index qbits\n",
    "    \n",
    "    if ceil(log(max(data_arr)+1, 2)) > val_qbit_nb:\n",
    "        len_b = ceil(log(max(data_arr)+1, 2))\n",
    "    else:\n",
    "        len_b = val_qbit_nb\n",
    "    \n",
    "#     len_b =  ceil(log(max(data_arr)+1, 2))#length of the bitstrings to compare\n",
    "    m = 5*len_b #number of qbits needed for the comparision\n",
    "\n",
    "    i_reg = QuantumRegister(n, 'd') #Creates the data registry\n",
    "    val_reg = QuantumRegister(m-1, 't') #Creates the template registry\n",
    "    anc = QuantumRegister(1, 'ancilla') #Creates the ancillary registry for the oracle\n",
    "    cr = ClassicalRegister(n, 'c') #Creates the classical bit measurment output\n",
    "\n",
    "    qc = QuantumCircuit(i_reg, val_reg, anc, cr) #Makes the circuit with these qbits as input\n",
    "\n",
    "    encode = encode_qc(n,len_b,data_arr).to_gate()\n",
    "    encode.label = \"Encoding database\"\n",
    "\n",
    "    ####### State initialization #########\n",
    "    qc.h(range(n))\n",
    "\n",
    "    #initiation of ancillary to |->\n",
    "    qc.x(anc)\n",
    "    qc.h(anc)\n",
    "\n",
    "    ##### SETTING THE THRESHOLD ######\n",
    "\n",
    "    set_thresh(qc, n, len_b, thresh)\n",
    "\n",
    "    qc.barrier()\n",
    "\n",
    "    #ENCODING\n",
    "    #The arrays are made with list comprehentions to make something that looks like [0,1,2,n+16,n+11,n+6,n+1],\n",
    "    #which connects the database (the first values) to the comparators (the values with n+...)\n",
    "    qc.append(encode, [x for x in range(n)]+[n+x*5+1 for x in reversed(range(len_b))])#had to reverse the order how the qbits were entered, as the two parts (database and conparator) work in reverse\n",
    "\n",
    "    comp_qc = n_comparator(len_b).to_gate()\n",
    "    comp_qc.label = \"Comparator\"\n",
    "\n",
    "    qc.append(comp_qc, range(n,n+m))\n",
    "\n",
    "    qc.append(encode.reverse_ops(), [x for x in range(n)]+[n+x*5+1 for x in reversed(range(len_b))])\n",
    "\n",
    "    qc.barrier()\n",
    "\n",
    "    #DIFFUSION OP\n",
    "    qc.h(range(n))\n",
    "    qc.x(range(n-1))\n",
    "\n",
    "    qc.x(n-1)\n",
    "    qc.h(n-1)\n",
    "    qc.mct(list(range(n-1)), n-1)\n",
    "    qc.h(n-1)\n",
    "    qc.x(n-1)\n",
    "\n",
    "    qc.x(range(n-1))\n",
    "    qc.h(range(n))\n",
    "    qc.barrier()\n",
    "\n",
    "    qc.measure([x for x in range(n)],cr)\n",
    "\n",
    "    t0 = time.perf_counter()\n",
    "\n",
    "    ############# CIRCUIT SIMULATION #################\n",
    "    aer_sim = Aer.get_backend('aer_simulator')\n",
    "    aer_sim.set_options(device='CPU')\n",
    "\n",
    "    transpiled_qc = transpile(qc, aer_sim)\n",
    "    shots = 2048 #we repeat the simulation 2048 times\n",
    "    job = aer_sim.run(transpiled_qc)\n",
    "\n",
    "\n",
    "    t1 = time.perf_counter()\n",
    "    print(f'Loop time: {t1 - t0}')\n",
    "\n",
    "    hist = job.result().get_counts() #simulation output\n",
    "    sort_hist = sorted(hist.items()) #So that the plotting puts everything in the same increasing order of basis\n",
    "    n_hist = {k:v for k,v in sort_hist}\n",
    "\n",
    "    results = {'val':n_hist.keys(),'count':n_hist.values()}\n",
    "\n",
    "    trig = []\n",
    "    for i,j in zip(results['val'],results['count']):\n",
    "        if int(j) > print_lim:\n",
    "            trig.append({'index_dec':int(i,2),'index_bin':i,'val':data_arr[int(i,2)],'counts':j})\n",
    "            \n",
    "    print(f'Values found: {len(trig)}')\n",
    "    \n",
    "#     for t in trig:\n",
    "#         print(f\"Index {t['index_dec']} holds the value {data_arr[t['index_dec']]}, which is above the chosen threshold.\")\n",
    "\n",
    "    f = open('output_dicts.py', 'a')\n",
    "    f.write(f\"{loop_nb}:{trig}, # Indices {nb_break*loop_nb} to {nb_break*(loop_nb+1)}\\n\")\n",
    "    f.close()\n",
    "\n",
    "    #To limit how many iterations. Comment if want to do the whole array.\n",
    "#     if loop_nb == max_loop-1:\n",
    "#         break\n",
    "\n",
    "    loop_nb += 1\n",
    "\n",
    "with open('output_dicts.py', 'a') as f:\n",
    "    f.write(\"}\\n\\n\")\n",
    "    f.write(\n",
    "'''\n",
    "index_array = []\n",
    "for i in dict_val:\n",
    "    for sol in dict_val[int(i)]:\n",
    "        index_array.append(i*nb_break + sol['index_dec'])\n",
    "\n",
    "for i in index_array:\n",
    "    print(f\"SNR Index: {i};  \\t\\tSNR value: {round(snrs[i],3)}\")\n",
    "'''\n",
    "    )\n",
    "\n",
    "print(f\"\\nFull program runtime: {time.perf_counter() - t0_0} seconds.\")\n"
   ]
  },
  {
   "cell_type": "markdown",
   "id": "2a1d2266",
   "metadata": {},
   "source": [
    "Recovering all the SNRs found with QC"
   ]
  },
  {
   "cell_type": "code",
   "execution_count": null,
   "id": "c2962b08",
   "metadata": {},
   "outputs": [],
   "source": [
    "#had to hand modify some things in the file before this was possible\n",
    "from output_dicts import dict_val"
   ]
  },
  {
   "cell_type": "code",
   "execution_count": null,
   "id": "addc0d78",
   "metadata": {},
   "outputs": [],
   "source": [
    "nb_break = 2**4\n",
    "index_array = []\n",
    "for i in dict_val:\n",
    "    for sol in dict_val[int(i)]:\n",
    "        index_array.append(i*nb_break + sol['index_dec'])\n",
    "\n",
    "\n",
    "# # index_array.pop(8) #there was one mistake at index 8\n",
    "for i in index_array:\n",
    "    print(f\"SNR Index: {i};  \\t\\tSNR value: {round(snrs[i],3)}\")"
   ]
  },
  {
   "cell_type": "markdown",
   "id": "5c43f69f",
   "metadata": {},
   "source": [
    "Finding classically all matching SNRs:"
   ]
  },
  {
   "cell_type": "code",
   "execution_count": null,
   "id": "f47312dd",
   "metadata": {},
   "outputs": [],
   "source": [
    "p = []\n",
    "for i in snrs[:2**4*1549]: #the size of the breaking times the number of loops made before crash\n",
    "    if np.rint(i) > 6:\n",
    "        p.append(round(i,3))\n",
    "        print(round(i,3))"
   ]
  },
  {
   "cell_type": "markdown",
   "id": "9733eb12",
   "metadata": {},
   "source": [
    "Testing that the QC found SNRs are an exact match to the ones found classically:"
   ]
  },
  {
   "cell_type": "code",
   "execution_count": null,
   "id": "e916fa19",
   "metadata": {},
   "outputs": [],
   "source": [
    "j = 0\n",
    "found_all = True\n",
    "for i in index_array:\n",
    "    if round(snrs[i],3) == p[j]:\n",
    "        pass\n",
    "    else:\n",
    "        found_all = False\n",
    "        print(i, round(snrs[i],3), p[j])\n",
    "    j+=1\n",
    "print(f\"The statement that the snrs above threshold are all found is {found_all}.\")"
   ]
  },
  {
   "cell_type": "code",
   "execution_count": null,
   "id": "0d596577",
   "metadata": {},
   "outputs": [],
   "source": [
    "len()"
   ]
  },
  {
   "cell_type": "code",
   "execution_count": null,
   "id": "8e479eb7",
   "metadata": {},
   "outputs": [],
   "source": []
  }
 ],
 "metadata": {
  "kernelspec": {
   "display_name": "Python 3 (ipykernel)",
   "language": "python",
   "name": "python3"
  },
  "language_info": {
   "codemirror_mode": {
    "name": "ipython",
    "version": 3
   },
   "file_extension": ".py",
   "mimetype": "text/x-python",
   "name": "python",
   "nbconvert_exporter": "python",
   "pygments_lexer": "ipython3",
   "version": "3.9.5"
  },
  "toc": {
   "base_numbering": 1,
   "nav_menu": {},
   "number_sections": true,
   "sideBar": true,
   "skip_h1_title": false,
   "title_cell": "Table of Contents",
   "title_sidebar": "Contents",
   "toc_cell": true,
   "toc_position": {
    "height": "calc(100% - 180px)",
    "left": "10px",
    "top": "150px",
    "width": "319.8px"
   },
   "toc_section_display": true,
   "toc_window_display": true
  },
  "varInspector": {
   "cols": {
    "lenName": 16,
    "lenType": 16,
    "lenVar": 40
   },
   "kernels_config": {
    "python": {
     "delete_cmd_postfix": "",
     "delete_cmd_prefix": "del ",
     "library": "var_list.py",
     "varRefreshCmd": "print(var_dic_list())"
    },
    "r": {
     "delete_cmd_postfix": ") ",
     "delete_cmd_prefix": "rm(",
     "library": "var_list.r",
     "varRefreshCmd": "cat(var_dic_list()) "
    }
   },
   "types_to_exclude": [
    "module",
    "function",
    "builtin_function_or_method",
    "instance",
    "_Feature"
   ],
   "window_display": false
  }
 },
 "nbformat": 4,
 "nbformat_minor": 5
}
